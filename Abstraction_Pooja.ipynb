{
 "cells": [
  {
   "cell_type": "code",
   "execution_count": 46,
   "id": "2bdb2bed-d74d-4962-a837-f88ec7aa8640",
   "metadata": {},
   "outputs": [],
   "source": [
    "from abc import ABC, abstractmethod"
   ]
  },
  {
   "cell_type": "code",
   "execution_count": 47,
   "id": "b82055b0-0d4f-4e51-ac36-ddf9e3e3ff14",
   "metadata": {},
   "outputs": [],
   "source": [
    "class Car(ABC):\n",
    "    \n",
    "    def mileage(self):\n",
    "        print(\"Average car mileage is 30km\")\n",
    "\n",
    "    def Tire(self):\n",
    "        print(\"four tire is available in every car.\")\n",
    "\n",
    "    def window(self,x):\n",
    "        print(\"This car window : %d\"%x);"
   ]
  },
  {
   "cell_type": "code",
   "execution_count": 48,
   "id": "e1b2d3b5-c37e-4c83-8a3a-a86c7676cd99",
   "metadata": {},
   "outputs": [],
   "source": [
    "class TATA(Car):\n",
    "    def mileage(self):\n",
    "        print(\"TATA car mileage is 30km\")\n",
    "\n",
    "class Suzuki(Car):\n",
    "    def mileage(self):\n",
    "        print(\"Suzuki car mileage is 50km\")\n",
    "\n",
    "class Baleno(Car):\n",
    "    def mileage(self):\n",
    "        print(\"Baleno car mileage is 20km\")\n",
    "\n"
   ]
  },
  {
   "cell_type": "code",
   "execution_count": 49,
   "id": "c6e7ec13-56ca-4727-873c-b522004aea1a",
   "metadata": {},
   "outputs": [
    {
     "name": "stdout",
     "output_type": "stream",
     "text": [
      "TATA car mileage is 30km\n",
      "four tire is available in every car.\n",
      "This car window : 4\n"
     ]
    }
   ],
   "source": [
    "T = TATA()\n",
    "T.mileage()\n",
    "T.Tire()\n",
    "T.window(4)"
   ]
  },
  {
   "cell_type": "code",
   "execution_count": 51,
   "id": "dd2d8627-402d-4001-86e1-48ea02abdff4",
   "metadata": {},
   "outputs": [
    {
     "name": "stdout",
     "output_type": "stream",
     "text": [
      "Baleno car mileage is 20km\n",
      "This car window : 2\n"
     ]
    }
   ],
   "source": [
    "B = Baleno()\n",
    "B.mileage()\n",
    "B.window(2)"
   ]
  },
  {
   "cell_type": "code",
   "execution_count": 52,
   "id": "9265b144-be23-42fe-909f-b16cc658ddb2",
   "metadata": {},
   "outputs": [
    {
     "name": "stdout",
     "output_type": "stream",
     "text": [
      "Average car mileage is 30km\n"
     ]
    }
   ],
   "source": [
    "c = Car()\n",
    "c.mileage()"
   ]
  },
  {
   "cell_type": "code",
   "execution_count": null,
   "id": "fe2de3d3-804a-45b3-8071-a70347d01b42",
   "metadata": {},
   "outputs": [],
   "source": []
  },
  {
   "cell_type": "code",
   "execution_count": null,
   "id": "4f30ef74-d386-41e4-86aa-b459ca699791",
   "metadata": {},
   "outputs": [],
   "source": []
  }
 ],
 "metadata": {
  "kernelspec": {
   "display_name": "Python 3 (ipykernel)",
   "language": "python",
   "name": "python3"
  },
  "language_info": {
   "codemirror_mode": {
    "name": "ipython",
    "version": 3
   },
   "file_extension": ".py",
   "mimetype": "text/x-python",
   "name": "python",
   "nbconvert_exporter": "python",
   "pygments_lexer": "ipython3",
   "version": "3.12.0"
  }
 },
 "nbformat": 4,
 "nbformat_minor": 5
}
