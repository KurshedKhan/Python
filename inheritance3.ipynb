{
 "cells": [
  {
   "cell_type": "markdown",
   "id": "37ae446f-fa1c-44d4-930b-97382922288a",
   "metadata": {},
   "source": [
    "# Inheritance in python "
   ]
  },
  {
   "cell_type": "code",
   "execution_count": 4,
   "id": "101a21a5-a777-4b73-bd65-6b04d23263e5",
   "metadata": {},
   "outputs": [
    {
     "name": "stdout",
     "output_type": "stream",
     "text": [
      "dog is barking ...\n",
      "Animal is speaking ....\n"
     ]
    }
   ],
   "source": [
    "class Animal:\n",
    "    def speak(self):\n",
    "        print(\"Animal is speaking ....\")\n",
    "\n",
    "class Dog(Animal):\n",
    "    def bark(self):\n",
    "        print(\"dog is barking ...\")\n",
    "\n",
    "d = Dog()\n",
    "d.bark()\n",
    "d.speak()"
   ]
  },
  {
   "cell_type": "code",
   "execution_count": 6,
   "id": "5813ffe0-d184-4ab8-aa7b-171808586e33",
   "metadata": {},
   "outputs": [
    {
     "name": "stdout",
     "output_type": "stream",
     "text": [
      "Animal is speaking ....\n"
     ]
    },
    {
     "ename": "AttributeError",
     "evalue": "'Animal' object has no attribute 'bark'",
     "output_type": "error",
     "traceback": [
      "\u001b[1;31m---------------------------------------------------------------------------\u001b[0m",
      "\u001b[1;31mAttributeError\u001b[0m                            Traceback (most recent call last)",
      "Cell \u001b[1;32mIn[6], line 3\u001b[0m\n\u001b[0;32m      1\u001b[0m an \u001b[38;5;241m=\u001b[39m Animal()\n\u001b[0;32m      2\u001b[0m an\u001b[38;5;241m.\u001b[39mspeak()\n\u001b[1;32m----> 3\u001b[0m \u001b[43man\u001b[49m\u001b[38;5;241;43m.\u001b[39;49m\u001b[43mbark\u001b[49m()\n",
      "\u001b[1;31mAttributeError\u001b[0m: 'Animal' object has no attribute 'bark'"
     ]
    }
   ],
   "source": [
    "an = Animal()\n",
    "an.speak()\n",
    "an.bark()"
   ]
  },
  {
   "cell_type": "code",
   "execution_count": 7,
   "id": "73aa89a0-e407-4dd1-8aed-16118672f664",
   "metadata": {},
   "outputs": [
    {
     "name": "stdout",
     "output_type": "stream",
     "text": [
      "Child Age 60 above\n"
     ]
    }
   ],
   "source": [
    "class GrandFather:\n",
    "    def GAge(self):\n",
    "        print(\"Grand Father Age 100 above\")\n",
    "\n",
    "class Father(GrandFather):\n",
    "    def FAge(self):\n",
    "        print(\"Father Age 80 above\")\n",
    "\n",
    "class Child(Father):\n",
    "    def CAge(self):\n",
    "        print(\"Child Age 60 above\")\n",
    "\n",
    "ch = Child()\n",
    "ch.CAge()\n"
   ]
  },
  {
   "cell_type": "code",
   "execution_count": 8,
   "id": "85502dea-d226-418a-be1f-bf5dd180f09d",
   "metadata": {},
   "outputs": [
    {
     "name": "stdout",
     "output_type": "stream",
     "text": [
      "Father Age 80 above\n"
     ]
    }
   ],
   "source": [
    "ch.FAge()"
   ]
  },
  {
   "cell_type": "code",
   "execution_count": 9,
   "id": "87bd5b86-6a0b-4f91-b678-9694fdfbfde9",
   "metadata": {},
   "outputs": [
    {
     "name": "stdout",
     "output_type": "stream",
     "text": [
      "Grand Father Age 100 above\n"
     ]
    }
   ],
   "source": [
    "ch.GAge()"
   ]
  },
  {
   "cell_type": "code",
   "execution_count": 10,
   "id": "73e78bfb-2a3a-4e39-aa0d-93719d3bf175",
   "metadata": {},
   "outputs": [
    {
     "data": {
      "text/plain": [
       "16876958"
      ]
     },
     "execution_count": 10,
     "metadata": {},
     "output_type": "execute_result"
    }
   ],
   "source": [
    "class SumCal:\n",
    "    def sum(self,a,b):\n",
    "        return a+b\n",
    "\n",
    "class SubCal:\n",
    "    def sub(self,a,b):\n",
    "        return a-b\n",
    "\n",
    "class MulCal:\n",
    "    def multi(self,a,b):\n",
    "        return a*b\n",
    "\n",
    "class DivCal(SumCal,SubCal,MulCal):\n",
    "    def div(self,a,b):\n",
    "        return a/b\n",
    "\n",
    "calc = DivCal()\n",
    "calc.sum(4534534,12342424)"
   ]
  },
  {
   "cell_type": "code",
   "execution_count": 11,
   "id": "563fbdb0-c24a-40fe-b6e8-2249b0479462",
   "metadata": {},
   "outputs": [
    {
     "data": {
      "text/plain": [
       "8010666"
      ]
     },
     "execution_count": 11,
     "metadata": {},
     "output_type": "execute_result"
    }
   ],
   "source": [
    "calc.multi(342,23423)"
   ]
  },
  {
   "cell_type": "code",
   "execution_count": null,
   "id": "e1f8cfd2-7a35-40d9-ae7f-1b0a32c005d4",
   "metadata": {},
   "outputs": [],
   "source": []
  }
 ],
 "metadata": {
  "kernelspec": {
   "display_name": "Python 3 (ipykernel)",
   "language": "python",
   "name": "python3"
  },
  "language_info": {
   "codemirror_mode": {
    "name": "ipython",
    "version": 3
   },
   "file_extension": ".py",
   "mimetype": "text/x-python",
   "name": "python",
   "nbconvert_exporter": "python",
   "pygments_lexer": "ipython3",
   "version": "3.12.0"
  }
 },
 "nbformat": 4,
 "nbformat_minor": 5
}
