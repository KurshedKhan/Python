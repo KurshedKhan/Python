{
 "cells": [
  {
   "cell_type": "markdown",
   "id": "dd897707-5618-438f-ad04-f47161d675bd",
   "metadata": {},
   "source": [
    "# Function :"
   ]
  },
  {
   "cell_type": "markdown",
   "id": "3709f84e-e387-468d-a8fc-262e9b5cf85e",
   "metadata": {},
   "source": [
    "## Note :- Modular Programming :"
   ]
  },
  {
   "cell_type": "markdown",
   "id": "24eec532-8782-4e26-b6e1-65aa7c3b2ff3",
   "metadata": {},
   "source": [
    "#### The process of dividing a computer program into separate independent blocks of code or \n",
    "#### separate sub-problems with different names and specific functionalities is known as modular programming."
   ]
  },
  {
   "cell_type": "markdown",
   "id": "04507089-e95d-4573-999c-baf7272e24ff",
   "metadata": {},
   "source": [
    "- In programming, The use of function is one of the means to achieve modularity and reusability. \n",
    "- Function can be defined as a named group of instructions that accomplish a specific task when it is invoked. \n",
    "- Once defined, a function can be called repeatedly from different places of the program without writing all the codes of that function everytime, or it can be called from inside another function, by simply writing the name of the function and passing the required parameters.\n",
    "- The programmer can define as many functions as desired while writing the code."
   ]
  },
  {
   "cell_type": "code",
   "execution_count": null,
   "id": "92c1f78d-7528-475f-98c4-187bb31e1812",
   "metadata": {},
   "outputs": [],
   "source": []
  },
  {
   "cell_type": "code",
   "execution_count": null,
   "id": "f1dc810a-742f-4de4-95e2-40d12d63bb73",
   "metadata": {},
   "outputs": [],
   "source": []
  },
  {
   "cell_type": "markdown",
   "id": "1bcc1260-8df1-41a8-a9f6-3136bbd99332",
   "metadata": {},
   "source": [
    "## The Advantages of Function"
   ]
  },
  {
   "cell_type": "markdown",
   "id": "ff168552-8124-4eb8-a45a-3532dd684b04",
   "metadata": {},
   "source": [
    "-  Increases readability, particularly for longer code as by using functions, the program is better organised and easy to understand.\n",
    "-  Reduces code length as same code is not required to be written at multiple places in a program. This also makes debugging easier.\n",
    "-  Increases reusability, as function can be called from another function or another program. Thus, we can reuse or build upon already defined functions and avoid repetitions of writing the same piece of code. \n",
    "-  Work can be easily divided among team members and completed in parallel. "
   ]
  },
  {
   "cell_type": "code",
   "execution_count": null,
   "id": "6b4addde-8b4d-4b40-b563-ee7b6c7cc108",
   "metadata": {},
   "outputs": [],
   "source": []
  },
  {
   "cell_type": "markdown",
   "id": "11d4bf93-d952-4c06-a040-e4de908006d3",
   "metadata": {},
   "source": [
    "## User Defined function\n",
    "- Taking advantage of reusability feature of functions, there is a large number of functions already available in Python under standard library.\n",
    "- We can directly call these functions in our program without defining them.\n",
    "- However, in addition to the standard library functions, `we can define our own functions while writing the program.`\n",
    "- Such functions are called user defined functions.\n",
    "- Thus, `A function defined to achieve some task as per the programmer's requirement is called a user defined function.`"
   ]
  },
  {
   "cell_type": "code",
   "execution_count": null,
   "id": "b32d3870-5b54-4afc-8758-ddebd9411f31",
   "metadata": {},
   "outputs": [],
   "source": []
  },
  {
   "cell_type": "markdown",
   "id": "ee76097c-d9b2-481b-84cc-80fe517b799c",
   "metadata": {},
   "source": [
    "#### Creating User Defined Function"
   ]
  },
  {
   "cell_type": "markdown",
   "id": "2a2d0a00-417c-4cf8-9b7c-6ed7f47c3056",
   "metadata": {},
   "source": [
    "- A function definition begins with def (short for define)."
   ]
  },
  {
   "cell_type": "code",
   "execution_count": null,
   "id": "d659f437-8659-4d48-9821-9bc815db550a",
   "metadata": {},
   "outputs": [],
   "source": [
    "# syntax for creating a user defined function\n",
    "# def <Function name> ()"
   ]
  }
 ],
 "metadata": {
  "kernelspec": {
   "display_name": "Python 3 (ipykernel)",
   "language": "python",
   "name": "python3"
  },
  "language_info": {
   "codemirror_mode": {
    "name": "ipython",
    "version": 3
   },
   "file_extension": ".py",
   "mimetype": "text/x-python",
   "name": "python",
   "nbconvert_exporter": "python",
   "pygments_lexer": "ipython3",
   "version": "3.13.0"
  }
 },
 "nbformat": 4,
 "nbformat_minor": 5
}
