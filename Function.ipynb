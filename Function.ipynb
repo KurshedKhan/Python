{
 "cells": [
  {
   "cell_type": "markdown",
   "id": "46323d5e-cb2e-475f-b1cb-2c1838decfe5",
   "metadata": {},
   "source": [
    "# Python Functions\n",
    "\n",
    "    A collection of related assertions that carry out a mathematical, analytical, or evaluative operation is known as a function.\n",
    "\n",
    "        A collection of related assertions that carry out a mathematical, analytical, or evaluative operation is known as a function.\n",
    "\n",
    "        Instead of repeatedly creating the same code block for various input variables, we can call the function and reuse the code it contains with different variables. "
   ]
  },
  {
   "cell_type": "markdown",
   "id": "b1bf6f81-61ff-4c57-b936-31b87f8f8ea0",
   "metadata": {},
   "source": [
    "### Advantages of python functions\n",
    "\n",
    "    1. Pause We can stop a program from repeatedly using the same code block by including functions.\n",
    "\n",
    "    2. Once defined, Python functions can be called multiple times and from any location in a program.\n",
    "\n",
    "    3. Our Python program can be broken up into numerous, easy-to-follow functions if it is significant\n",
    "\n",
    "    4. The ability to return as many outputs as we want using a variety of arguments is one of Python's most significant achievements.\n",
    "\n",
    "    5.However, calling functions has always been overhead in a Python program."
   ]
  },
  {
   "cell_type": "code",
   "execution_count": 1,
   "id": "61d37751-3b24-420f-8f95-fd612010edca",
   "metadata": {},
   "outputs": [],
   "source": [
    "# structure of function\n",
    "# def function_name(parameters):\n",
    "    # statements"
   ]
  },
  {
   "cell_type": "code",
   "execution_count": 2,
   "id": "bd620107-91f2-4bc4-8e4c-19a46cccd427",
   "metadata": {},
   "outputs": [
    {
     "name": "stdout",
     "output_type": "stream",
     "text": [
      "The square of the given number is: 36\n"
     ]
    }
   ],
   "source": [
    "def square(num):\n",
    "    return num**2\n",
    "\n",
    "element = square(6)\n",
    "print(\"The square of the given number is:\",element)"
   ]
  },
  {
   "cell_type": "code",
   "execution_count": 3,
   "id": "8d642161-12a4-41d4-a8f3-a978db485d49",
   "metadata": {},
   "outputs": [
    {
     "name": "stdout",
     "output_type": "stream",
     "text": [
      "My name length :  7\n"
     ]
    }
   ],
   "source": [
    "# write a program for given the string and output of the length\n",
    "def strlen(String):\n",
    "    return len(String)\n",
    "\n",
    "print(\"My name length : \", strlen(\"Kurshed\"))"
   ]
  },
  {
   "cell_type": "code",
   "execution_count": 4,
   "id": "69d5ea33-4294-450c-98b1-2d528dde8406",
   "metadata": {},
   "outputs": [
    {
     "name": "stdout",
     "output_type": "stream",
     "text": [
      "This is my new list [1, 4, 9, 16, 25]\n"
     ]
    }
   ],
   "source": [
    "def square(mylist):\n",
    "    yourlist = []\n",
    "    for i in mylist:\n",
    "        yourlist.append(i**2)\n",
    "    return yourlist\n",
    "\n",
    "otherlist = [1,2,3,4,5]\n",
    "print(\"This is my new list\",square(otherlist))"
   ]
  },
  {
   "cell_type": "markdown",
   "id": "3155f1a4-9050-4c51-9f6d-91b041ac5bc5",
   "metadata": {},
   "source": [
    "### Function Arguments\r",
    "    \n",
    "        \n",
    "The following are the types of arguments that we can use to call a function\n",
    "        \n",
    "        1.Default arguments\n",
    "        2.Keyword arguments\n",
    "        3.Required arguments\n",
    "        4.Variable-length argumentsuments"
   ]
  },
  {
   "cell_type": "markdown",
   "id": "7b64eb99-bafc-4a23-8a7b-1cdcdd46e41d",
   "metadata": {},
   "source": [
    "#### 1.Default argumets"
   ]
  },
  {
   "cell_type": "code",
   "execution_count": 5,
   "id": "fbf1c842-6ff7-4ea2-9830-654af2931c92",
   "metadata": {},
   "outputs": [
    {
     "name": "stdout",
     "output_type": "stream",
     "text": [
      "number 1 is : 30\n",
      "number 2 is : 20\n",
      "Passing only one argument None\n"
     ]
    }
   ],
   "source": [
    "def function(num1,num2 = 20):\n",
    "    print(\"number 1 is :\",num1)\n",
    "    print(\"number 2 is :\",num2)\n",
    "\n",
    "print(\"Passing only one argument\",function(30))"
   ]
  },
  {
   "cell_type": "code",
   "execution_count": 7,
   "id": "6403f344-661b-440a-b658-8d59bd888d64",
   "metadata": {},
   "outputs": [
    {
     "name": "stdout",
     "output_type": "stream",
     "text": [
      "number 1 is : 50\n",
      "number 2 is : 30\n",
      "Passing two arguments None\n"
     ]
    }
   ],
   "source": [
    "print(\"Passing two arguments\",function(50,30))"
   ]
  },
  {
   "cell_type": "markdown",
   "id": "862176d2-1d96-4fc0-8035-56ebb65f0964",
   "metadata": {},
   "source": [
    "#### 2.Keyword Arguments"
   ]
  },
  {
   "cell_type": "code",
   "execution_count": 9,
   "id": "4920c4f3-5319-45f8-98cf-f0a33bf9484b",
   "metadata": {},
   "outputs": [
    {
     "name": "stdout",
     "output_type": "stream",
     "text": [
      "without using keyword\n",
      "number 1 is : 20\n",
      "number 2 is : 30\n"
     ]
    }
   ],
   "source": [
    "def function(n1,n2):\n",
    "    print(\"number 1 is :\",n1)\n",
    "    print(\"number 2 is :\",n2)\n",
    "\n",
    "print(\"without using keyword\")\n",
    "function(20,30)"
   ]
  },
  {
   "cell_type": "code",
   "execution_count": 10,
   "id": "584ff834-929e-4a08-8451-38162553146c",
   "metadata": {},
   "outputs": [
    {
     "name": "stdout",
     "output_type": "stream",
     "text": [
      "with using keyword\n",
      "number 1 is : 50\n",
      "number 2 is : 30\n"
     ]
    }
   ],
   "source": [
    "print(\"with using keyword\")\n",
    "function(n1=50,n2 = 30)"
   ]
  },
  {
   "cell_type": "markdown",
   "id": "449317ab-26b1-4fb7-918d-d570902ca8b7",
   "metadata": {},
   "source": [
    "#### 3.Required Arguments"
   ]
  },
  {
   "cell_type": "code",
   "execution_count": 11,
   "id": "aa2f3cc5-3a7c-4609-87c3-75b455dfbdfd",
   "metadata": {},
   "outputs": [
    {
     "ename": "TypeError",
     "evalue": "function() missing 1 required positional argument: 'n2'",
     "output_type": "error",
     "traceback": [
      "\u001b[1;31m---------------------------------------------------------------------------\u001b[0m",
      "\u001b[1;31mTypeError\u001b[0m                                 Traceback (most recent call last)",
      "Cell \u001b[1;32mIn[11], line 5\u001b[0m\n\u001b[0;32m      2\u001b[0m     \u001b[38;5;28mprint\u001b[39m(\u001b[38;5;124m\"\u001b[39m\u001b[38;5;124mnumber 1 is: \u001b[39m\u001b[38;5;124m\"\u001b[39m, n1)    \n\u001b[0;32m      3\u001b[0m     \u001b[38;5;28mprint\u001b[39m(\u001b[38;5;124m\"\u001b[39m\u001b[38;5;124mnumber 2 is: \u001b[39m\u001b[38;5;124m\"\u001b[39m, n2)  \n\u001b[1;32m----> 5\u001b[0m \u001b[43mfunction\u001b[49m\u001b[43m(\u001b[49m\u001b[38;5;241;43m30\u001b[39;49m\u001b[43m)\u001b[49m\n",
      "\u001b[1;31mTypeError\u001b[0m: function() missing 1 required positional argument: 'n2'"
     ]
    }
   ],
   "source": [
    "def function( n1, n2 ):    \n",
    "    print(\"number 1 is: \", n1)    \n",
    "    print(\"number 2 is: \", n2)  \n",
    "\n",
    "function(30)"
   ]
  },
  {
   "cell_type": "markdown",
   "id": "b87cafe3-2386-495f-ba6c-0a8e2fcf0daf",
   "metadata": {},
   "source": [
    "#### 4.Variable-length Arguments\n",
    "\n",
    "        We can involve unique characters in Python capabilities to pass many contentions. \n",
    "        \n",
    "        However, we need a capability. \n",
    "        \n",
    "        This can be accomplished with one of two types of characters:\n",
    "\n",
    "        \"args\" and \"kwargs\" refer to arguments not based on keywords.\n",
    "\n",
    "        To help you understand arguments of variable length,"
   ]
  },
  {
   "cell_type": "code",
   "execution_count": 12,
   "id": "3a00ded4-a941-47ca-b1fd-de5472924881",
   "metadata": {},
   "outputs": [],
   "source": [
    "def function(*args_list):\n",
    "    mylist = []\n",
    "    for i in args_list:\n",
    "        mylist.append(i.upper())\n",
    "    return mylist\n",
    "\n",
    "element = function(\"kurshed\",\"ummed\")"
   ]
  },
  {
   "cell_type": "code",
   "execution_count": 13,
   "id": "531b581b-5c18-4871-9306-7e2c7bbb1ba6",
   "metadata": {},
   "outputs": [
    {
     "data": {
      "text/plain": [
       "['KURSHED', 'UMMED']"
      ]
     },
     "execution_count": 13,
     "metadata": {},
     "output_type": "execute_result"
    }
   ],
   "source": [
    "element"
   ]
  },
  {
   "cell_type": "code",
   "execution_count": 14,
   "id": "78c366c6-1642-4be8-9eb9-5e1ea9837b7b",
   "metadata": {},
   "outputs": [],
   "source": [
    "def function(**kwargs_list):\n",
    "    mylist = []\n",
    "    for key,value in kwargs_list.items():\n",
    "        mylist.append([key,value])\n",
    "    return mylist\n",
    "\n",
    "element = function(first = \"kurshed\",second = \"Khan\")"
   ]
  },
  {
   "cell_type": "code",
   "execution_count": 15,
   "id": "7abf6f54-6c80-42e0-b8fd-ebd601e3359f",
   "metadata": {},
   "outputs": [
    {
     "data": {
      "text/plain": [
       "[['first', 'kurshed'], ['second', 'Khan']]"
      ]
     },
     "execution_count": 15,
     "metadata": {},
     "output_type": "execute_result"
    }
   ],
   "source": [
    "element"
   ]
  },
  {
   "cell_type": "markdown",
   "id": "f7a047e6-4862-426b-a01c-654b75436162",
   "metadata": {},
   "source": [
    "#### return statemetn"
   ]
  },
  {
   "cell_type": "code",
   "execution_count": 16,
   "id": "129e09cd-2718-40f8-809a-cb0794ff8fe9",
   "metadata": {},
   "outputs": [],
   "source": [
    "def square(num):\n",
    "    return num**2"
   ]
  },
  {
   "cell_type": "code",
   "execution_count": 17,
   "id": "6b633b3e-ec06-4d5a-bdc2-5e0d76ad3150",
   "metadata": {},
   "outputs": [
    {
     "data": {
      "text/plain": [
       "25"
      ]
     },
     "execution_count": 17,
     "metadata": {},
     "output_type": "execute_result"
    }
   ],
   "source": [
    "square(5)"
   ]
  },
  {
   "cell_type": "code",
   "execution_count": 18,
   "id": "3c886c1f-aa30-4778-971d-e7bdbcbcee1e",
   "metadata": {},
   "outputs": [],
   "source": [
    "def square(num):\n",
    "    num**2"
   ]
  },
  {
   "cell_type": "code",
   "execution_count": 19,
   "id": "3e98a87a-f48c-4e7c-b216-43909267e6d2",
   "metadata": {},
   "outputs": [],
   "source": [
    "square(5)"
   ]
  },
  {
   "cell_type": "code",
   "execution_count": 20,
   "id": "a5a072b8-b80c-4ef9-bff5-7dd9c4e50eb2",
   "metadata": {},
   "outputs": [
    {
     "name": "stdout",
     "output_type": "stream",
     "text": [
      "my name is kurshed khan\n",
      "10\n"
     ]
    }
   ],
   "source": [
    "def word():\n",
    "    string = \"my name is kurshed khan\"\n",
    "    x = 10\n",
    "    def number():\n",
    "        print(string)\n",
    "        print(x)\n",
    "    number()\n",
    "word()"
   ]
  },
  {
   "cell_type": "markdown",
   "id": "6f28cba6-54ca-429f-b8f0-b3ffeb61cc76",
   "metadata": {},
   "source": [
    "#### Scope and Lifetime of Variables"
   ]
  },
  {
   "cell_type": "code",
   "execution_count": 21,
   "id": "7e413c92-5723-414c-92b0-709f7afeaedf",
   "metadata": {},
   "outputs": [
    {
     "name": "stdout",
     "output_type": "stream",
     "text": [
      "number:  50\n"
     ]
    }
   ],
   "source": [
    "def number():\n",
    "    num = 50\n",
    "    print(\"number: \",num)\n",
    "\n",
    "number()"
   ]
  },
  {
   "cell_type": "code",
   "execution_count": 23,
   "id": "d0e72452-1dd0-4f45-9d01-499df58c31ae",
   "metadata": {},
   "outputs": [
    {
     "name": "stdout",
     "output_type": "stream",
     "text": [
      "number:  50\n",
      "10\n"
     ]
    }
   ],
   "source": [
    "num = 10\n",
    "number()\n",
    "print(num)"
   ]
  },
  {
   "cell_type": "code",
   "execution_count": null,
   "id": "a3ee5269-36eb-44e2-b778-6ab19ca7ca26",
   "metadata": {},
   "outputs": [],
   "source": []
  }
 ],
 "metadata": {
  "kernelspec": {
   "display_name": "Python 3 (ipykernel)",
   "language": "python",
   "name": "python3"
  },
  "language_info": {
   "codemirror_mode": {
    "name": "ipython",
    "version": 3
   },
   "file_extension": ".py",
   "mimetype": "text/x-python",
   "name": "python",
   "nbconvert_exporter": "python",
   "pygments_lexer": "ipython3",
   "version": "3.12.0"
  }
 },
 "nbformat": 4,
 "nbformat_minor": 5
}
