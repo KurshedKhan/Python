{
 "cells": [
  {
   "cell_type": "markdown",
   "id": "dd897707-5618-438f-ad04-f47161d675bd",
   "metadata": {},
   "source": [
    "# Function :"
   ]
  },
  {
   "cell_type": "markdown",
   "id": "3709f84e-e387-468d-a8fc-262e9b5cf85e",
   "metadata": {},
   "source": [
    "## Note :- Modular Programming :"
   ]
  },
  {
   "cell_type": "markdown",
   "id": "24eec532-8782-4e26-b6e1-65aa7c3b2ff3",
   "metadata": {},
   "source": [
    "#### The process of dividing a computer program into separate independent blocks of code or \n",
    "#### separate sub-problems with different names and specific functionalities is known as modular programming."
   ]
  },
  {
   "cell_type": "markdown",
   "id": "04507089-e95d-4573-999c-baf7272e24ff",
   "metadata": {},
   "source": [
    "- In programming, The use of function is one of the means to achieve modularity and reusability. \n",
    "- Function can be defined as a named group of instructions that accomplish a specific task when it is invoked. \n",
    "- Once defined, a function can be called repeatedly from different places of the program without writing all the codes of that function everytime, or it can be called from inside another function, by simply writing the name of the function and passing the required parameters.\n",
    "- The programmer can define as many functions as desired while writing the code."
   ]
  },
  {
   "cell_type": "code",
   "execution_count": null,
   "id": "92c1f78d-7528-475f-98c4-187bb31e1812",
   "metadata": {},
   "outputs": [],
   "source": []
  },
  {
   "cell_type": "code",
   "execution_count": null,
   "id": "f1dc810a-742f-4de4-95e2-40d12d63bb73",
   "metadata": {},
   "outputs": [],
   "source": []
  },
  {
   "cell_type": "markdown",
   "id": "1bcc1260-8df1-41a8-a9f6-3136bbd99332",
   "metadata": {},
   "source": [
    "## The Advantages of Function"
   ]
  },
  {
   "cell_type": "markdown",
   "id": "ff168552-8124-4eb8-a45a-3532dd684b04",
   "metadata": {},
   "source": [
    "-  Increases readability, particularly for longer code as by using functions, the program is better organised and easy to understand.\n",
    "-  Reduces code length as same code is not required to be written at multiple places in a program. This also makes debugging easier.\n",
    "-  Increases reusability, as function can be called from another function or another program. Thus, we can reuse or build upon already defined functions and avoid repetitions of writing the same piece of code. \n",
    "-  Work can be easily divided among team members and completed in parallel. "
   ]
  },
  {
   "cell_type": "code",
   "execution_count": null,
   "id": "6b4addde-8b4d-4b40-b563-ee7b6c7cc108",
   "metadata": {},
   "outputs": [],
   "source": []
  },
  {
   "cell_type": "markdown",
   "id": "11d4bf93-d952-4c06-a040-e4de908006d3",
   "metadata": {},
   "source": [
    "## User Defined function\n",
    "- Taking advantage of reusability feature of functions, there is a large number of functions already available in Python under standard library.\n",
    "- We can directly call these functions in our program without defining them.\n",
    "- However, in addition to the standard library functions, `we can define our own functions while writing the program.`\n",
    "- Such functions are called user defined functions.\n",
    "- Thus, `A function defined to achieve some task as per the programmer's requirement is called a user defined function.`"
   ]
  },
  {
   "cell_type": "code",
   "execution_count": null,
   "id": "b32d3870-5b54-4afc-8758-ddebd9411f31",
   "metadata": {},
   "outputs": [],
   "source": []
  },
  {
   "cell_type": "markdown",
   "id": "ee76097c-d9b2-481b-84cc-80fe517b799c",
   "metadata": {},
   "source": [
    "#### Creating User Defined Function"
   ]
  },
  {
   "cell_type": "markdown",
   "id": "2a2d0a00-417c-4cf8-9b7c-6ed7f47c3056",
   "metadata": {},
   "source": [
    "- A function definition begins with def (short for define)."
   ]
  },
  {
   "cell_type": "code",
   "execution_count": 1,
   "id": "d659f437-8659-4d48-9821-9bc815db550a",
   "metadata": {},
   "outputs": [],
   "source": [
    "# syntax for creating a user defined function\n",
    "# def <Function name> ([parameter 1, parameter 2 , .....]) : # Function Header\n",
    "#    set of instructions to be executed  # Function Body\n",
    "#    [return <value>] # Function Body"
   ]
  },
  {
   "cell_type": "markdown",
   "id": "4209db61-e690-48aa-be07-8caa9241d590",
   "metadata": {},
   "source": [
    "- The items enclosed in \"[ ]\" are called parameters and they are optional.\n",
    "- Hence, a function may or may not have parameters.\n",
    "- Also, a function may or may not return a value.\n",
    "- Function header always ends with a colon (:).\n",
    "- Function name should be unique.\n",
    "- Rules for naming identifiers also applies for function naming.\n",
    "- The statements outside the function indentation are not considered as part of the function."
   ]
  },
  {
   "cell_type": "markdown",
   "id": "0dc2e1e1-398f-4a6a-974b-45539235d848",
   "metadata": {},
   "source": [
    "#### Q.1 Write a user defined function to add 2 numbers and display their sum."
   ]
  },
  {
   "cell_type": "code",
   "execution_count": 2,
   "id": "0db7d488-1d82-4a88-913c-be2131c45e96",
   "metadata": {},
   "outputs": [],
   "source": [
    "#Function to add two numbers\n",
    "#The requirements are listed below:\n",
    "#1. We need to accept 2 numbers from the user. \n",
    "#2. Calculate their sum\n",
    "#3. Display the sum."
   ]
  },
  {
   "cell_type": "code",
   "execution_count": 4,
   "id": "714491c1-12b9-46bb-94a6-bf64f9b2e9e0",
   "metadata": {},
   "outputs": [
    {
     "name": "stdin",
     "output_type": "stream",
     "text": [
      "Enter a first number :  40\n",
      "Enter a second number :  78\n"
     ]
    },
    {
     "name": "stdout",
     "output_type": "stream",
     "text": [
      "The sum of  40 and 78 is :  118\n"
     ]
    }
   ],
   "source": [
    "# function definition\n",
    "def addnum():\n",
    "    firstNum = int(input(\"Enter a first number : \"))\n",
    "    secondNum = int(input(\"Enter a second number : \"))\n",
    "    sum = firstNum + secondNum\n",
    "    print(\"The sum of \",firstNum, \"and\" ,secondNum,\"is : \",sum)\n",
    "\n",
    "# function call\n",
    "addnum()"
   ]
  },
  {
   "cell_type": "code",
   "execution_count": null,
   "id": "5c105201-a703-4212-8d62-8d06fe782c30",
   "metadata": {},
   "outputs": [],
   "source": []
  },
  {
   "cell_type": "markdown",
   "id": "5a081552-d8dd-488e-ba19-658fa1b6d957",
   "metadata": {},
   "source": [
    "## Arguments and Parameters\n",
    "- It is possible for a user defined function to receive values at the time of being called. \n",
    "- An argument is a value passed to the function during the function call which is received in corresponding parameter defined in function header."
   ]
  },
  {
   "cell_type": "markdown",
   "id": "37b8a0f1-4a11-4298-a23d-480d93b79bad",
   "metadata": {},
   "source": [
    "#### Q.2 Write a program using a user defined function that displays sum of first n natural numbers, where n is passed as an argument."
   ]
  },
  {
   "cell_type": "code",
   "execution_count": 5,
   "id": "d15b35eb-1155-4996-8adc-5f1648a7c174",
   "metadata": {},
   "outputs": [],
   "source": [
    "#Program to find the sum of first n natural numbers\n",
    "#The requirements are:\n",
    "#1. n be passed as an argument\n",
    "#2. Calculate sum of first n natural numbers \n",
    "#3. Display the sum"
   ]
  },
  {
   "cell_type": "code",
   "execution_count": 7,
   "id": "a2a1a12a-c186-43c4-a4c1-27eae1fb84eb",
   "metadata": {},
   "outputs": [
    {
     "name": "stdin",
     "output_type": "stream",
     "text": [
      "Enter the value for n : 5\n"
     ]
    },
    {
     "name": "stdout",
     "output_type": "stream",
     "text": [
      "The sum of first  5 natural numbers is : 15\n"
     ]
    }
   ],
   "source": [
    "# function definition\n",
    "def sumSquares(n):  # n is the parameter\n",
    "    sum = 0\n",
    "    for i in range(1,n+1):\n",
    "        sum = sum + i\n",
    "    print(\"The sum of first \" , n,\"natural numbers is :\",sum)\n",
    "\n",
    "num = int(input(\"Enter the value for n :\"))\n",
    "# num is an argument referring to the value input by the user\n",
    "sumSquares( )  # function call"
   ]
  },
  {
   "cell_type": "markdown",
   "id": "025bdc1e-5658-48ce-a07e-d3f82c49da43",
   "metadata": {},
   "source": [
    "![Argument and Parameter](argument&parameter.png)"
   ]
  },
  {
   "cell_type": "markdown",
   "id": "115ff999-e371-4555-a4fe-d20364f7639b",
   "metadata": {},
   "source": [
    "- Since both num and n are referring to the same value, they are bound to have the same identity.\n",
    "- We can use the id() function to find the identity of the object that the argument and parameter are referring to. "
   ]
  },
  {
   "cell_type": "code",
   "execution_count": null,
   "id": "62eaed6f-3692-467c-bf14-36f4509d39d3",
   "metadata": {},
   "outputs": [],
   "source": []
  },
  {
   "cell_type": "markdown",
   "id": "a73013a8-a783-410b-b32d-c168a6fbc08a",
   "metadata": {},
   "source": [
    "#### Q.3 write a program using user defined function that accepts an integer and increments the value by 5. Also display the id of argument (before function call), id of parameter before increment and after increment."
   ]
  },
  {
   "cell_type": "code",
   "execution_count": 8,
   "id": "2f01fd18-2f62-4239-a959-cd95445dcba3",
   "metadata": {},
   "outputs": [],
   "source": [
    "#Function to add 5 to a user input number\n",
    "#The requirements are listed below:\n",
    "#1. Display the id()of argument before function call.\n",
    "#2. The function should have one parameter to accept the argument\n",
    "#3. Display the value and id() of the parameter.\n",
    "#4. Add 5 to the parameter\n",
    "#5. Display the new value and id()of the parameter to check\n",
    " #whether the parameter is assigned a new memory location or \n",
    " #not."
   ]
  },
  {
   "cell_type": "code",
   "execution_count": 9,
   "id": "f448885d-72d0-4672-858a-de2b921f7895",
   "metadata": {},
   "outputs": [
    {
     "name": "stdin",
     "output_type": "stream",
     "text": [
      "Enter a number :  5\n"
     ]
    },
    {
     "name": "stdout",
     "output_type": "stream",
     "text": [
      "id of argument number is :  140713171412008\n",
      "Parameter num has value : 5 \n",
      "id =  140713171412008\n",
      "num incremented by 5 is  10 \n",
      "Now id is  140713171412168\n"
     ]
    }
   ],
   "source": [
    "def incrValue(num):\n",
    "    # id of num before increment\n",
    "    print(\"Parameter num has value :\",num, \"\\nid = \",id(num))\n",
    "    num = num + 5\n",
    "    # id of num after increment\n",
    "    print(\"num incremented by 5 is \",num,\"\\nNow id is \",id(num))\n",
    "\n",
    "number = int(input(\"Enter a number : \"))\n",
    "print(\"id of argument number is : \",id(number))\n",
    "incrValue(number)"
   ]
  },
  {
   "cell_type": "markdown",
   "id": "78149113-26c3-489c-ab40-4dd5bb86d40e",
   "metadata": {},
   "source": [
    "![Check ID](CheckID.png)"
   ]
  },
  {
   "cell_type": "code",
   "execution_count": null,
   "id": "68df2904-f4f0-4cc9-a812-a001ff70b082",
   "metadata": {},
   "outputs": [],
   "source": []
  },
  {
   "cell_type": "markdown",
   "id": "95bc36b1-875e-425a-85c7-613d4ba34e3a",
   "metadata": {},
   "source": [
    "#### Q.4 Write a program using a user defined function myMean() to calculate the mean of floating values stored in a list."
   ]
  },
  {
   "cell_type": "code",
   "execution_count": 10,
   "id": "11fb1a48-4c43-447f-93bd-6efc039a4390",
   "metadata": {},
   "outputs": [],
   "source": [
    "#Function to calculate mean\n",
    "#The requirements are listed below:\n",
    "#1. The function should have 1 parameter (list containing floating \n",
    " #point values)\n",
    "#2. To calculate mean by adding all the numbers and dividing by \n",
    " #total number of elements"
   ]
  },
  {
   "cell_type": "code",
   "execution_count": 11,
   "id": "aecfb9df-2db8-4234-9763-1deef125ba8c",
   "metadata": {},
   "outputs": [
    {
     "name": "stdout",
     "output_type": "stream",
     "text": [
      "The calculated mean is : 1.0\n"
     ]
    }
   ],
   "source": [
    "def myMean(myList):\n",
    "    total = 0\n",
    "    count = 0\n",
    "    for i in myList:\n",
    "        total = total + i\n",
    "        count = count + i\n",
    "    mean = total/count\n",
    "    print(\"The calculated mean is :\",mean)\n",
    "myList = [1.3,2.4,3.5,6.9]\n",
    "#Function call with list \"myList\" as an argument\n",
    "myMean(myList)"
   ]
  },
  {
   "cell_type": "markdown",
   "id": "260237bf-7325-403a-8305-d82be958cfc5",
   "metadata": {},
   "source": [
    "#### Q.5 Write a program using a user defined function calcFact() to calculate and display the factorial of a number num passed as an argument."
   ]
  },
  {
   "cell_type": "code",
   "execution_count": 12,
   "id": "2e4d4ba4-76ae-4565-a327-e5e0c4555696",
   "metadata": {},
   "outputs": [],
   "source": [
    "#Function to calculate factorial\n",
    "#The requirements are listed below:\n",
    "#1. The function should accept one integer argument from user.\n",
    "#2. Calculate factorial. For example:\n",
    "#3. Display factorial"
   ]
  },
  {
   "cell_type": "code",
   "execution_count": 14,
   "id": "e9e9aa73-0f9d-4e27-a054-3457d3b6943b",
   "metadata": {},
   "outputs": [
    {
     "name": "stdin",
     "output_type": "stream",
     "text": [
      "Enter the number : 8\n"
     ]
    },
    {
     "name": "stdout",
     "output_type": "stream",
     "text": [
      "Factorial of : 8 is : 40320\n"
     ]
    }
   ],
   "source": [
    "def calcFact(num):\n",
    "    fact = 1\n",
    "    for i in range(num,0,-1):\n",
    "        fact = fact * i\n",
    "    print(\"Factorial of :\",num,\"is :\",fact)\n",
    "\n",
    "num = int(input(\"Enter the number :\"))\n",
    "calcFact(num)"
   ]
  },
  {
   "cell_type": "code",
   "execution_count": null,
   "id": "35302f6d-33d2-4b3e-93f3-3d193f1fb93d",
   "metadata": {},
   "outputs": [],
   "source": []
  },
  {
   "cell_type": "markdown",
   "id": "d86154c9-f61e-4c30-bebd-3be765099e3c",
   "metadata": {},
   "source": [
    "### (A) String as Parameters"
   ]
  },
  {
   "cell_type": "markdown",
   "id": "14a0e8ce-b605-430b-b8f1-1c720ba2a73e",
   "metadata": {},
   "source": [
    "#### Q.6. Write a program using a user defined function that accepts the first name and lastname as arguments, concatenate them to get full name and displays the output as:"
   ]
  },
  {
   "cell_type": "code",
   "execution_count": 15,
   "id": "2e2a2698-f32e-4462-a28c-c712d6ca0fb5",
   "metadata": {},
   "outputs": [],
   "source": [
    "#Function to display full name\n",
    "#The requirements are listed below:\n",
    " #1. The function should have 2 parameters to accept first name and \n",
    " #last name.\n",
    " #2. Concatenate names using + operator with a space between first \n",
    " #name and last name.\n",
    " #3. Display full name."
   ]
  },
  {
   "cell_type": "code",
   "execution_count": 16,
   "id": "ba8a0a94-a324-4101-b4ca-ec6e3a297091",
   "metadata": {},
   "outputs": [],
   "source": [
    "def fullName(first,last):\n",
    "    fullname = first + \" \" + last\n",
    "    print(\"Hello,\",fullname)"
   ]
  },
  {
   "cell_type": "code",
   "execution_count": 19,
   "id": "1bd36ae0-8c7f-421e-abb2-1feab0e7ff26",
   "metadata": {},
   "outputs": [
    {
     "name": "stdin",
     "output_type": "stream",
     "text": [
      "Enter your first name : Kurshed\n",
      "Enter your last name : Khan\n"
     ]
    },
    {
     "name": "stdout",
     "output_type": "stream",
     "text": [
      "Hello, Kurshed Khan\n"
     ]
    }
   ],
   "source": [
    "first = input(\"Enter your first name :\")\n",
    "last = input(\"Enter your last name :\")\n",
    "fullName(first,last)"
   ]
  },
  {
   "cell_type": "code",
   "execution_count": null,
   "id": "7dd11cca-96ab-46a8-a3d1-36f128239bbc",
   "metadata": {},
   "outputs": [],
   "source": []
  },
  {
   "cell_type": "markdown",
   "id": "42f4ece9-2fdd-413f-bba2-d756e1518986",
   "metadata": {},
   "source": [
    "## (B) Default Parameter"
   ]
  },
  {
   "cell_type": "markdown",
   "id": "df7c0c5e-1983-40b2-b7df-1329bcb5f9ea",
   "metadata": {},
   "source": [
    "- Python allows assigning a default value to the parameter.\n",
    "- A default value is a value that is predecided and assigned to the parameter when the function call does not have its corresponding argument."
   ]
  },
  {
   "cell_type": "markdown",
   "id": "faeaa437-664d-4f39-b1de-0f25c5d9abce",
   "metadata": {},
   "source": [
    "#### Q.7 Write a program that accepts numerator and denominator of a fractional number and calls a user defined function mixedFraction() when the fraction formed is not a proper fraction. The default value of denominator is 1. The function displays a mixed fraction only if the fraction formed by the parameters does not evaluate to a whole number."
   ]
  },
  {
   "cell_type": "code",
   "execution_count": 20,
   "id": "0b4ec4db-d18c-4c55-b28c-00173c20a506",
   "metadata": {},
   "outputs": [],
   "source": [
    "#Function to display mixed fraction for an improper fraction\n",
    "#The requirements are listed below:\n",
    "#1. Input numerator and denominator from the user.\n",
    "#2. Check if the entered numerator and denominator form a proper \n",
    " #fraction.\n",
    "#3. If they do not form a proper fraction, then call \n",
    " #mixedFraction().\n",
    "#4. mixedFraction()display a mixed fraction only when the fraction \n",
    " #does not evaluate to a whole number."
   ]
  },
  {
   "cell_type": "code",
   "execution_count": 21,
   "id": "dd4ca14a-86fd-4e60-a27d-18c9ae5f80d8",
   "metadata": {},
   "outputs": [],
   "source": [
    "def mixedFraction(num,deno = 1):\n",
    "    remainder = num % deno\n",
    "#check if the fraction does not evaluate to a whole number\n",
    "    if remainder != 0 :\n",
    "        quotient = int(num/deno)\n",
    "        print(\"The mixed fraction = \",quotient,\"(\",remainder,\"/\",deno,\")\")\n",
    "    else:\n",
    "        print(\"The given fraction evaluates to a whole number\")"
   ]
  },
  {
   "cell_type": "code",
   "execution_count": 22,
   "id": "a93a4c0f-c372-4695-bfa5-c47e04848ea3",
   "metadata": {},
   "outputs": [
    {
     "name": "stdin",
     "output_type": "stream",
     "text": [
      "Enter the numerator : 17\n",
      "Enter the denominator : 2\n"
     ]
    },
    {
     "name": "stdout",
     "output_type": "stream",
     "text": [
      "you are entered : 17 / 2\n",
      "The mixed fraction =  8 ( 1 / 2 )\n"
     ]
    }
   ],
   "source": [
    "num = int(input(\"Enter the numerator :\"))\n",
    "deno = int(input(\"Enter the denominator :\"))\n",
    "print(\"you are entered :\",num,\"/\",deno)\n",
    "if num > deno:\n",
    "    mixedFraction(num,deno)\n",
    "else:\n",
    "    print(\"It is a proper Fraction\")"
   ]
  },
  {
   "cell_type": "code",
   "execution_count": null,
   "id": "b1b1e418-e01e-4dc7-af15-0c9ee92aa3ce",
   "metadata": {},
   "outputs": [],
   "source": []
  }
 ],
 "metadata": {
  "kernelspec": {
   "display_name": "Python 3 (ipykernel)",
   "language": "python",
   "name": "python3"
  },
  "language_info": {
   "codemirror_mode": {
    "name": "ipython",
    "version": 3
   },
   "file_extension": ".py",
   "mimetype": "text/x-python",
   "name": "python",
   "nbconvert_exporter": "python",
   "pygments_lexer": "ipython3",
   "version": "3.13.0"
  }
 },
 "nbformat": 4,
 "nbformat_minor": 5
}
