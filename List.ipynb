{
 "cells": [
  {
   "cell_type": "markdown",
   "id": "6355dd18-8316-49d5-bafa-5a9d2725eabe",
   "metadata": {},
   "source": [
    "# List"
   ]
  },
  {
   "cell_type": "markdown",
   "id": "8d163746-5b90-4ccc-9348-beacf4fcc8e3",
   "metadata": {},
   "source": [
    "- The data type list is an ordered sequence which is mutable and made up of one or more elements.\n",
    "- Unlike a string which consists of only characters, a list can have elements of different data types, such as integer, float, string, tuple or even another list.\n",
    "- A list is very useful to group together elements of mixed data types.\n",
    "- Elements of a list are enclosed in square brackets and are separated by comma.\n",
    "- Like string indices, list indices also start from 0."
   ]
  },
  {
   "cell_type": "code",
   "execution_count": null,
   "id": "c47a449a-ffbb-4dbe-b1cb-726e8d1c513b",
   "metadata": {},
   "outputs": [],
   "source": []
  },
  {
   "cell_type": "code",
   "execution_count": 1,
   "id": "c9bc7a96-8744-41a4-89e5-a8b3cd140b23",
   "metadata": {},
   "outputs": [],
   "source": [
    "list1 = [2,4,6,8,10,12]"
   ]
  },
  {
   "cell_type": "code",
   "execution_count": 2,
   "id": "f669b5e0-12c8-419d-a7b2-184fe7e1828f",
   "metadata": {},
   "outputs": [
    {
     "name": "stdout",
     "output_type": "stream",
     "text": [
      "[2, 4, 6, 8, 10, 12]\n"
     ]
    }
   ],
   "source": [
    "print(list1)"
   ]
  },
  {
   "cell_type": "code",
   "execution_count": null,
   "id": "0a734a1f-1a85-4ff0-a5d9-b6d349b94595",
   "metadata": {},
   "outputs": [],
   "source": []
  },
  {
   "cell_type": "code",
   "execution_count": 3,
   "id": "da21b803-c795-4d80-9a1c-6f16af9198c4",
   "metadata": {},
   "outputs": [],
   "source": [
    "list2 = ['a','e','i','o','u']"
   ]
  },
  {
   "cell_type": "code",
   "execution_count": 4,
   "id": "df965de1-cffb-45ed-a356-b0fd57b79e7c",
   "metadata": {},
   "outputs": [
    {
     "name": "stdout",
     "output_type": "stream",
     "text": [
      "['a', 'e', 'i', 'o', 'u']\n"
     ]
    }
   ],
   "source": [
    "print(list2)"
   ]
  },
  {
   "cell_type": "code",
   "execution_count": null,
   "id": "ff68bde4-0fe8-410b-8267-4d1219497cb8",
   "metadata": {},
   "outputs": [],
   "source": []
  },
  {
   "cell_type": "code",
   "execution_count": 5,
   "id": "b1b37dc0-25e5-40a2-953b-224c3b682caa",
   "metadata": {},
   "outputs": [],
   "source": [
    "#list3 is the list of mixed data types\n",
    "list3 = [100,23.5,\"Hello\"]"
   ]
  },
  {
   "cell_type": "code",
   "execution_count": 6,
   "id": "8e89a272-34dc-4ad5-9c4d-7348b2effef8",
   "metadata": {},
   "outputs": [
    {
     "data": {
      "text/plain": [
       "[100, 23.5, 'Hello']"
      ]
     },
     "execution_count": 6,
     "metadata": {},
     "output_type": "execute_result"
    }
   ],
   "source": [
    "list3"
   ]
  },
  {
   "cell_type": "code",
   "execution_count": null,
   "id": "f18b7fa2-4ff2-4d43-94ec-5d6a575f5c1e",
   "metadata": {},
   "outputs": [],
   "source": []
  },
  {
   "cell_type": "code",
   "execution_count": 7,
   "id": "4b635e3a-131a-4b0b-981d-286c4d65a5c5",
   "metadata": {},
   "outputs": [],
   "source": [
    "list4 = [[\"physics\",101],[\"Chemistry\",102],[\"Math\",103]]"
   ]
  },
  {
   "cell_type": "code",
   "execution_count": 8,
   "id": "c349be2b-a918-4d2c-897b-ad18ee6f3ce7",
   "metadata": {},
   "outputs": [
    {
     "name": "stdout",
     "output_type": "stream",
     "text": [
      "[['physics', 101], ['Chemistry', 102], ['Math', 103]]\n"
     ]
    }
   ],
   "source": [
    "print(list4)"
   ]
  },
  {
   "cell_type": "code",
   "execution_count": null,
   "id": "464293e7-32d6-4bda-b1c2-3880bb2b1f76",
   "metadata": {},
   "outputs": [],
   "source": []
  },
  {
   "cell_type": "markdown",
   "id": "cb19a680-20d3-409b-a6d1-c29f5e5a3081",
   "metadata": {},
   "source": [
    "#  Accessing Elements in a List"
   ]
  },
  {
   "cell_type": "markdown",
   "id": "2f905801-2a32-46a1-961b-11e3e3c8ace4",
   "metadata": {},
   "source": [
    "- The elements of a list are accessed in the same way as characters are accessed in a string. "
   ]
  },
  {
   "cell_type": "code",
   "execution_count": 11,
   "id": "f4008549-9e0e-4dfe-86a2-888a553d8d1f",
   "metadata": {},
   "outputs": [],
   "source": [
    "#initializes a list list1"
   ]
  },
  {
   "cell_type": "code",
   "execution_count": 12,
   "id": "df68bd9d-be8d-483c-85a3-571614fb6637",
   "metadata": {},
   "outputs": [],
   "source": [
    "list1 = [2,4,6,8,10,12]"
   ]
  },
  {
   "cell_type": "code",
   "execution_count": 13,
   "id": "de65c139-0dd8-46ef-b915-56b249c4ecb2",
   "metadata": {},
   "outputs": [
    {
     "data": {
      "text/plain": [
       "2"
      ]
     },
     "execution_count": 13,
     "metadata": {},
     "output_type": "execute_result"
    }
   ],
   "source": [
    "list1[0]"
   ]
  },
  {
   "cell_type": "code",
   "execution_count": 14,
   "id": "1f935d60-10c7-4b73-9355-62d81001008f",
   "metadata": {},
   "outputs": [
    {
     "data": {
      "text/plain": [
       "8"
      ]
     },
     "execution_count": 14,
     "metadata": {},
     "output_type": "execute_result"
    }
   ],
   "source": [
    "list1[3]"
   ]
  },
  {
   "cell_type": "code",
   "execution_count": 15,
   "id": "22ddd496-0672-484c-bf6b-16d416caa2ce",
   "metadata": {},
   "outputs": [
    {
     "ename": "IndexError",
     "evalue": "list index out of range",
     "output_type": "error",
     "traceback": [
      "\u001b[1;31m---------------------------------------------------------------------------\u001b[0m",
      "\u001b[1;31mIndexError\u001b[0m                                Traceback (most recent call last)",
      "Cell \u001b[1;32mIn[15], line 1\u001b[0m\n\u001b[1;32m----> 1\u001b[0m \u001b[43mlist1\u001b[49m\u001b[43m[\u001b[49m\u001b[38;5;241;43m15\u001b[39;49m\u001b[43m]\u001b[49m\n",
      "\u001b[1;31mIndexError\u001b[0m: list index out of range"
     ]
    }
   ],
   "source": [
    "list1[15]"
   ]
  },
  {
   "cell_type": "code",
   "execution_count": 16,
   "id": "06d0be5a-0a47-4715-89de-673c273adff5",
   "metadata": {},
   "outputs": [
    {
     "data": {
      "text/plain": [
       "12"
      ]
     },
     "execution_count": 16,
     "metadata": {},
     "output_type": "execute_result"
    }
   ],
   "source": [
    "list1[1+4]"
   ]
  },
  {
   "cell_type": "code",
   "execution_count": 17,
   "id": "8575ecdd-fbac-4ecc-98e7-87e9659d10b8",
   "metadata": {},
   "outputs": [
    {
     "data": {
      "text/plain": [
       "6"
      ]
     },
     "execution_count": 17,
     "metadata": {},
     "output_type": "execute_result"
    }
   ],
   "source": [
    "len(list1)"
   ]
  },
  {
   "cell_type": "code",
   "execution_count": 18,
   "id": "ac305d70-7d7b-41d1-8c98-1de27bb22dbc",
   "metadata": {},
   "outputs": [
    {
     "name": "stdout",
     "output_type": "stream",
     "text": [
      "6\n"
     ]
    }
   ],
   "source": [
    "print(len(list1))"
   ]
  },
  {
   "cell_type": "code",
   "execution_count": 19,
   "id": "a6bcfd20-07b0-4cfc-8d5a-7f3ddc95995f",
   "metadata": {},
   "outputs": [],
   "source": [
    "n = len(list1)"
   ]
  },
  {
   "cell_type": "code",
   "execution_count": 20,
   "id": "9b238b73-2e59-4d92-8cb5-c7d8fe6af839",
   "metadata": {},
   "outputs": [
    {
     "data": {
      "text/plain": [
       "12"
      ]
     },
     "execution_count": 20,
     "metadata": {},
     "output_type": "execute_result"
    }
   ],
   "source": [
    "list1[n-1]"
   ]
  },
  {
   "cell_type": "code",
   "execution_count": 21,
   "id": "effcd83f-c6f8-4f2e-b6e9-b8cdb56e3e71",
   "metadata": {},
   "outputs": [
    {
     "data": {
      "text/plain": [
       "2"
      ]
     },
     "execution_count": 21,
     "metadata": {},
     "output_type": "execute_result"
    }
   ],
   "source": [
    "list1[-n]"
   ]
  },
  {
   "cell_type": "code",
   "execution_count": 22,
   "id": "93d2bbb7-c3e9-4295-8213-ae52749be877",
   "metadata": {},
   "outputs": [
    {
     "data": {
      "text/plain": [
       "12"
      ]
     },
     "execution_count": 22,
     "metadata": {},
     "output_type": "execute_result"
    }
   ],
   "source": [
    "list1[-1]"
   ]
  },
  {
   "cell_type": "code",
   "execution_count": 23,
   "id": "79db68dd-a1fe-46c7-979c-80294642f29a",
   "metadata": {},
   "outputs": [
    {
     "data": {
      "text/plain": [
       "10"
      ]
     },
     "execution_count": 23,
     "metadata": {},
     "output_type": "execute_result"
    }
   ],
   "source": [
    "list1[-2]"
   ]
  },
  {
   "cell_type": "code",
   "execution_count": null,
   "id": "91853f58-e1a1-4b2c-8677-f989a88c5dc2",
   "metadata": {},
   "outputs": [],
   "source": []
  },
  {
   "cell_type": "markdown",
   "id": "49feea04-2ee0-4c7f-a70f-e6a432a82c5b",
   "metadata": {},
   "source": [
    "# Lists are Mutable"
   ]
  },
  {
   "cell_type": "markdown",
   "id": "a058c3e8-1175-4d84-9232-5cd4db806c90",
   "metadata": {},
   "source": [
    "- In Python, lists are mutable.\n",
    "- It means that the contents of the list can be changed after it has been created. "
   ]
  },
  {
   "cell_type": "code",
   "execution_count": 25,
   "id": "b31ac4d6-165a-4589-85df-03359085d0ab",
   "metadata": {},
   "outputs": [
    {
     "data": {
      "text/plain": [
       "['Red', 'Green', 'Blue', 'Black']"
      ]
     },
     "execution_count": 25,
     "metadata": {},
     "output_type": "execute_result"
    }
   ],
   "source": [
    "#List list1 of colors \n",
    "list1 = ['Red','Green','Blue','Orange']  \n",
    "#change/override the fourth element of list1 \n",
    "list1[3] = 'Black'               \n",
    "list1 #print the modified list list1"
   ]
  },
  {
   "cell_type": "code",
   "execution_count": null,
   "id": "7b0596e4-1b3d-42a9-acd0-70494ec5d29d",
   "metadata": {},
   "outputs": [],
   "source": []
  },
  {
   "cell_type": "markdown",
   "id": "f3abd214-e26e-447a-a191-43783646430b",
   "metadata": {},
   "source": [
    "# List Operations"
   ]
  },
  {
   "cell_type": "markdown",
   "id": "143c6fbe-a247-4b0a-a5f4-4fb386612342",
   "metadata": {},
   "source": [
    "### Concatenation"
   ]
  },
  {
   "cell_type": "markdown",
   "id": "c0bb970d-0f44-425e-9f3c-f9f47361394d",
   "metadata": {},
   "source": [
    "-  Python allows us to join two or more lists using concatenation operator depicted by the symbol +."
   ]
  },
  {
   "cell_type": "code",
   "execution_count": 26,
   "id": "82b02856-2ffb-41fe-b054-c2b4ee735487",
   "metadata": {},
   "outputs": [],
   "source": [
    "odd = [1,3,5,7,9]\n",
    "even = [2,4,6,8,10]"
   ]
  },
  {
   "cell_type": "code",
   "execution_count": 27,
   "id": "c8dd8a4b-7e4e-4ffe-91e8-74d2b02484ac",
   "metadata": {},
   "outputs": [
    {
     "data": {
      "text/plain": [
       "[1, 3, 5, 7, 9, 2, 4, 6, 8, 10]"
      ]
     },
     "execution_count": 27,
     "metadata": {},
     "output_type": "execute_result"
    }
   ],
   "source": [
    "odd + even"
   ]
  },
  {
   "cell_type": "code",
   "execution_count": 28,
   "id": "a2028afe-5f58-44da-9c20-36755f8d68bc",
   "metadata": {},
   "outputs": [],
   "source": [
    "color1 = [\"Red\",\"Green\",\"Blue\"]\n",
    "color2 = [\"Cyan\",\"Manenta\",\"Yellow\",\"Black\"]"
   ]
  },
  {
   "cell_type": "code",
   "execution_count": 29,
   "id": "52a1ce43-3f0e-42da-9871-b69f7a498bf9",
   "metadata": {},
   "outputs": [
    {
     "data": {
      "text/plain": [
       "['Red', 'Green', 'Blue', 'Cyan', 'Manenta', 'Yellow', 'Black']"
      ]
     },
     "execution_count": 29,
     "metadata": {},
     "output_type": "execute_result"
    }
   ],
   "source": [
    "color1 + color2"
   ]
  },
  {
   "cell_type": "code",
   "execution_count": 30,
   "id": "7abf2343-1133-4139-a038-93ace5edb726",
   "metadata": {},
   "outputs": [],
   "source": [
    "list1 = [1,2,3]\n",
    "str1 = \"abc\""
   ]
  },
  {
   "cell_type": "code",
   "execution_count": 31,
   "id": "fca7e597-2132-4c64-b668-c88857cf3dce",
   "metadata": {},
   "outputs": [
    {
     "ename": "TypeError",
     "evalue": "can only concatenate list (not \"str\") to list",
     "output_type": "error",
     "traceback": [
      "\u001b[1;31m---------------------------------------------------------------------------\u001b[0m",
      "\u001b[1;31mTypeError\u001b[0m                                 Traceback (most recent call last)",
      "Cell \u001b[1;32mIn[31], line 1\u001b[0m\n\u001b[1;32m----> 1\u001b[0m \u001b[43mlist1\u001b[49m\u001b[43m \u001b[49m\u001b[38;5;241;43m+\u001b[39;49m\u001b[43m \u001b[49m\u001b[43mstr1\u001b[49m\n",
      "\u001b[1;31mTypeError\u001b[0m: can only concatenate list (not \"str\") to list"
     ]
    }
   ],
   "source": [
    "list1 + str1"
   ]
  },
  {
   "cell_type": "code",
   "execution_count": null,
   "id": "75998d2b-956a-466d-b332-009442569f7f",
   "metadata": {},
   "outputs": [],
   "source": []
  },
  {
   "cell_type": "markdown",
   "id": "023c9478-812c-4554-b756-8ff1427ab5ba",
   "metadata": {},
   "source": [
    "### Repetition"
   ]
  },
  {
   "cell_type": "code",
   "execution_count": 32,
   "id": "9ffb85fa-f429-42ae-9224-54a5071d8c03",
   "metadata": {},
   "outputs": [],
   "source": [
    "list1 = [\"Hello\"]"
   ]
  },
  {
   "cell_type": "code",
   "execution_count": 33,
   "id": "2d028553-f692-441e-80b6-e45d0392bb15",
   "metadata": {},
   "outputs": [
    {
     "data": {
      "text/plain": [
       "['Hello', 'Hello', 'Hello', 'Hello']"
      ]
     },
     "execution_count": 33,
     "metadata": {},
     "output_type": "execute_result"
    }
   ],
   "source": [
    "list1*4"
   ]
  },
  {
   "cell_type": "code",
   "execution_count": 34,
   "id": "255b2679-2fdd-4c5b-80c9-336deb48963d",
   "metadata": {},
   "outputs": [
    {
     "data": {
      "text/plain": [
       "['Hello', 'Hello', 'Hello', 'Hello', 'Hello', 'Hello']"
      ]
     },
     "execution_count": 34,
     "metadata": {},
     "output_type": "execute_result"
    }
   ],
   "source": [
    "list1*6"
   ]
  },
  {
   "cell_type": "code",
   "execution_count": null,
   "id": "7faadab0-266f-4536-b289-1aed13e17011",
   "metadata": {},
   "outputs": [],
   "source": []
  },
  {
   "cell_type": "markdown",
   "id": "ef2e2694-7210-4281-908a-00ca1b8dfcf8",
   "metadata": {},
   "source": [
    "### Membership"
   ]
  },
  {
   "cell_type": "markdown",
   "id": "e68734eb-a20d-4b6e-85bb-f548fafac15a",
   "metadata": {},
   "source": [
    "Like strings, the membership operators in checks if the element is present in the list and returns True, else returns False. "
   ]
  },
  {
   "cell_type": "code",
   "execution_count": 35,
   "id": "2b77ee00-f325-4929-bb5a-dd548eb36350",
   "metadata": {},
   "outputs": [
    {
     "data": {
      "text/plain": [
       "True"
      ]
     },
     "execution_count": 35,
     "metadata": {},
     "output_type": "execute_result"
    }
   ],
   "source": [
    "list1 = [\"Red\",\"Green\",\"Blue\"]\n",
    "\"Green\" in list1"
   ]
  },
  {
   "cell_type": "code",
   "execution_count": 36,
   "id": "420af897-86f8-4def-808e-460a491b40bb",
   "metadata": {},
   "outputs": [
    {
     "data": {
      "text/plain": [
       "False"
      ]
     },
     "execution_count": 36,
     "metadata": {},
     "output_type": "execute_result"
    }
   ],
   "source": [
    "\"Cyan\" in list1"
   ]
  },
  {
   "cell_type": "code",
   "execution_count": 37,
   "id": "b602e243-e042-41d6-8cac-e704fc09dedc",
   "metadata": {},
   "outputs": [
    {
     "data": {
      "text/plain": [
       "True"
      ]
     },
     "execution_count": 37,
     "metadata": {},
     "output_type": "execute_result"
    }
   ],
   "source": [
    "\"Cyan\" not in list1"
   ]
  },
  {
   "cell_type": "code",
   "execution_count": null,
   "id": "9e7fc3e0-3676-4c5a-ae92-9e07017f5105",
   "metadata": {},
   "outputs": [],
   "source": []
  },
  {
   "cell_type": "code",
   "execution_count": null,
   "id": "e9bfd1ab-f199-4cfb-a5a1-3c249cfc23fe",
   "metadata": {},
   "outputs": [],
   "source": []
  }
 ],
 "metadata": {
  "kernelspec": {
   "display_name": "Python 3 (ipykernel)",
   "language": "python",
   "name": "python3"
  },
  "language_info": {
   "codemirror_mode": {
    "name": "ipython",
    "version": 3
   },
   "file_extension": ".py",
   "mimetype": "text/x-python",
   "name": "python",
   "nbconvert_exporter": "python",
   "pygments_lexer": "ipython3",
   "version": "3.13.1"
  }
 },
 "nbformat": 4,
 "nbformat_minor": 5
}
