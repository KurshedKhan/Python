{
 "cells": [
  {
   "cell_type": "markdown",
   "id": "a633d8d1-e1f4-4e3a-b977-8676ab9d30cf",
   "metadata": {},
   "source": [
    "# Basic of Programming with Python "
   ]
  },
  {
   "cell_type": "markdown",
   "id": "1dc72152-c815-4b04-a00e-7fbd62eb5d40",
   "metadata": {},
   "source": [
    "## `Program`\n",
    "An ordered set of instructions to be executed by a computer to carry out (perform) a specific task is called a `program`."
   ]
  },
  {
   "cell_type": "markdown",
   "id": "aa9d29cb-112a-42c2-8375-5193350bca01",
   "metadata": {},
   "source": [
    "## `Programming Language` "
   ]
  },
  {
   "cell_type": "markdown",
   "id": "a6599f55-3d7e-4d79-abeb-165936362748",
   "metadata": {},
   "source": [
    "The language used to specify a `program`  to the computer is called a `programming language`."
   ]
  },
  {
   "cell_type": "markdown",
   "id": "e456cd8d-e98b-4ca2-9b0f-e530c8c99867",
   "metadata": {},
   "source": [
    "## `Machine language`\n",
    "The computers understand the language of 0s and 1s which is called `machine language` or `low level language`.\n",
    "- It is difficult for humans to write or comprehend instructions using 0s and 1s.\n",
    "- This led to the advent of high-level programming languages like Python,C++,Visual Basic,PHP,Java that easier to manage by humans but are not directly understood by the computer."
   ]
  },
  {
   "cell_type": "markdown",
   "id": "fe73dcf3-5c40-4e7c-9f8c-5729e7dbcfa7",
   "metadata": {},
   "source": [
    "## `Source Code` "
   ]
  },
  {
   "cell_type": "markdown",
   "id": "71cb48f0-4115-450b-ad52-edb4a714cfe9",
   "metadata": {},
   "source": [
    "A program written in a high-level language is called `source code`."
   ]
  },
  {
   "cell_type": "markdown",
   "id": "32adbc8d-61a4-466e-b20d-f5a77efc49de",
   "metadata": {},
   "source": [
    "## `Object Code`"
   ]
  },
  {
   "cell_type": "markdown",
   "id": "df1b9199-b941-40d6-9ab0-c8a94a9df498",
   "metadata": {},
   "source": [
    "The machine understandable form called `object(machine) code`."
   ]
  },
  {
   "cell_type": "markdown",
   "id": "c7c4a0b6-010f-4ec6-8403-4aff6e217a90",
   "metadata": {},
   "source": [
    "## `Translator`"
   ]
  },
  {
   "cell_type": "markdown",
   "id": "e66ad79c-f3f1-4c7d-8e76-6307fd475e60",
   "metadata": {},
   "source": [
    "The `source code` is `converted` by a `translator` into the `object code`."
   ]
  },
  {
   "cell_type": "markdown",
   "id": "79dace16-bc46-4dcd-824b-ad0265391ee3",
   "metadata": {},
   "source": [
    "- The `three types` of `translators` used in computing systems are `assembler`, `compiler` and `interpreter`."
   ]
  },
  {
   "cell_type": "markdown",
   "id": "743bc9de-1c34-4247-a5e1-e73ee99c2316",
   "metadata": {},
   "source": [
    "## `Assembler`\n",
    "The translator used to convert the code written in assembly language to machine language is called `assembler`."
   ]
  },
  {
   "cell_type": "markdown",
   "id": "c8d80e38-bc6a-460c-95c6-13b7c23d4035",
   "metadata": {},
   "source": [
    "- Each assembler can understand a specific microprocessor instruction set only and hence, the machine code is not portable."
   ]
  },
  {
   "cell_type": "markdown",
   "id": "62943bb3-886a-4a2a-9f3c-17014ad309e1",
   "metadata": {},
   "source": [
    "## `Compiler`\n",
    "The translator used to convert codes written in high-level language (source code) to machine understandable form (machine code) for execution by the `compiler`.\n",
    "- Compiler converts the source code into machine code.\n",
    "- If the code follows `all syntactic rules` of the language, then it is executed by the computer."
   ]
  },
  {
   "cell_type": "markdown",
   "id": "ff6bd16a-be55-40b9-9fec-b1f178a9f6ad",
   "metadata": {},
   "source": [
    "## `Interpreter`\n",
    "An interpreter translates one line at a time instead of the whole program at one go."
   ]
  },
  {
   "cell_type": "markdown",
   "id": "e93c613d-e99f-4adc-837a-afed04c42abc",
   "metadata": {},
   "source": [
    "- Interpreter takes one line, converts it into executable code if the line is syntactically correct, and then it repeats these steps for all lines in source code."
   ]
  },
  {
   "cell_type": "markdown",
   "id": "11a470e5-c50b-411f-9460-cd27d2ddc38b",
   "metadata": {},
   "source": [
    "# Python\n"
   ]
  },
  {
   "cell_type": "markdown",
   "id": "5ce99d4d-d7a2-44da-ad5b-42c90c93d538",
   "metadata": {},
   "source": [
    "Python uses an interpreter to convert its instructions into machine language, so that it can be understood by the computer."
   ]
  },
  {
   "cell_type": "markdown",
   "id": "08289c4b-d6f8-4d68-9a10-93f2fc40f4d2",
   "metadata": {},
   "source": [
    "- An interpreter processes the program statements one by one, first translating and then executing."
   ]
  },
  {
   "cell_type": "markdown",
   "id": "14675807-8718-459e-a19f-4ae4b3c9046a",
   "metadata": {},
   "source": [
    "# Features of Python "
   ]
  },
  {
   "cell_type": "markdown",
   "id": "ceda6494-d6bd-43a3-a880-2e14461f751b",
   "metadata": {},
   "source": [
    "- Python is a high level language. It is a free and open source language.\n",
    "- It is an interpreted language, as Python programs are executed by an interpreter.\n",
    "- Python programs are easy to understand as they have a clearly defined syntax and relatively simple structure.\n",
    "- Python is case-sensitive. For example, Number and number are not same in Python.\n",
    "- Python is portable and platform independent, means it can run on various operating systems and hardware platforms.\n",
    "- Python has a rich library of predefined functions.\n",
    "- Python is also helpful in web development. Many popular web services and applications are built using Python.\n",
    "- Python uses indentation for blocks and nested blocks."
   ]
  },
  {
   "cell_type": "markdown",
   "id": "a328f4f4-6d05-4a17-981b-2864148ea13e",
   "metadata": {},
   "source": [
    "#### `Note :` \n",
    "- To write and run(execute) a Pythono program, we need to have a Python interpreter installed on our computer.\n",
    "- The interpreter is also called Python shell.\n",
    "- The symbol >>> is the Python prompt,which indicates that the interpreter is ready to take instructions."
   ]
  },
  {
   "cell_type": "markdown",
   "id": "7728cd5a-6c9c-4cf7-96d5-8dafb5170f39",
   "metadata": {},
   "source": [
    "## Execution Modes :"
   ]
  },
  {
   "cell_type": "markdown",
   "id": "fed1ed15-8fcf-4ee0-9231-f6e1f76f2687",
   "metadata": {},
   "source": [
    "``` mermaid\n",
    "flowchart TD\n",
    "    A[Execution Mode]\n",
    "    A --> B[Interactive Mode]\n",
    "    A --> C[Script Mode]\n",
    "    B --> D[Allows execution of individual statements instantaneously]\n",
    "    C --> E[Allows us to write more than one instruction in a file]\n",
    "    E --> F[Called Python source code file that can be executed]\n",
    "```"
   ]
  },
  {
   "cell_type": "markdown",
   "id": "bb24a17f-1bed-49c8-bc02-207462ffa505",
   "metadata": {},
   "source": [
    "#### Interactive Mode :\n",
    "- The interactive mode is convenient for testing a single line code for instant execution.\n",
    "- But in the interactive mode, we cannot save the statements for future use and we have to retype the statements to run them again."
   ]
  },
  {
   "cell_type": "markdown",
   "id": "11d56450-8517-416f-9772-fc17d4532cbf",
   "metadata": {},
   "source": [
    "#### Script Mode :\n",
    "- We can write a Python program in a file, save it and then use the interpreter to execute it.\n",
    "- Python Scripts are saved as files where file name has extension \".py\".\n",
    "- By default, the Python scripts are saved in the Python installation folder."
   ]
  },
  {
   "cell_type": "code",
   "execution_count": null,
   "id": "4392d2ad-abd2-4a30-a017-94efa9014885",
   "metadata": {},
   "outputs": [],
   "source": []
  }
 ],
 "metadata": {
  "kernelspec": {
   "display_name": "Python 3 (ipykernel)",
   "language": "python",
   "name": "python3"
  },
  "language_info": {
   "codemirror_mode": {
    "name": "ipython",
    "version": 3
   },
   "file_extension": ".py",
   "mimetype": "text/x-python",
   "name": "python",
   "nbconvert_exporter": "python",
   "pygments_lexer": "ipython3",
   "version": "3.12.6"
  }
 },
 "nbformat": 4,
 "nbformat_minor": 5
}
