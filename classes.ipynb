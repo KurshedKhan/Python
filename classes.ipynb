{
 "cells": [
  {
   "cell_type": "code",
   "execution_count": 2,
   "id": "e3ff4fdb-26ae-4761-b471-bb48f5cd9939",
   "metadata": {},
   "outputs": [
    {
     "name": "stdout",
     "output_type": "stream",
     "text": [
      "Person : Payal 18\n"
     ]
    }
   ],
   "source": [
    "class Person:\n",
    "    def __init__(self,name,age):\n",
    "        self.name = name;\n",
    "        self.age = age;\n",
    "\n",
    "    def display(self):\n",
    "        print(\"Person :\",self.name,self.age);\n",
    "\n",
    "p1 = Person(\"Payal\",18);\n",
    "p1.display()"
   ]
  },
  {
   "cell_type": "code",
   "execution_count": 5,
   "id": "5fa687bb-ce2f-4c79-aea4-3bec4e9ebc51",
   "metadata": {},
   "outputs": [
    {
     "name": "stdout",
     "output_type": "stream",
     "text": [
      "Employee data : Kurshed 21 Manager 12000\n"
     ]
    }
   ],
   "source": [
    "class Employee:\n",
    "    def __init__(self,name,id,post,salary):\n",
    "        self.name = name\n",
    "        self.id = id\n",
    "        self.post = post\n",
    "        self.salary = salary\n",
    "    def display(self):\n",
    "        print(\"Employee data :\",self.name,self.id,self.post,self.salary);\n",
    "\n",
    "Em1 = Employee(\"Kurshed\",21,\"Manager\",12000);\n",
    "Em1.display()"
   ]
  },
  {
   "cell_type": "code",
   "execution_count": 26,
   "id": "76824dd3-ae14-4685-9aca-58a96aa9fcc8",
   "metadata": {},
   "outputs": [
    {
     "name": "stdout",
     "output_type": "stream",
     "text": [
      "Name :sanu Age :21 Id : 345 Salary : 30000 Post :Manager Experience : 2 \n"
     ]
    }
   ],
   "source": [
    "class Employee:\n",
    "    def __init__(self,name,age,id,salary,post,exp):\n",
    "        self.name = name;\n",
    "        self.age = age;\n",
    "        self.id = id;\n",
    "        self.salary = salary;\n",
    "        self.post = post;\n",
    "        self.exp = exp;\n",
    "        \n",
    "    def __str__(self):\n",
    "        return f\"Name :{self.name} Age :{self.age} Id : {self.id} Salary : {self.salary} Post :{self.post} Experience : {self.exp} \"\n",
    "\n",
    "emp1 = Employee(\"sanu\",21,345,30000,\"Manager\",2)\n",
    "print(emp1)"
   ]
  },
  {
   "cell_type": "code",
   "execution_count": 31,
   "id": "0bf34825-0891-4c51-803f-c3c78eaffd3a",
   "metadata": {},
   "outputs": [
    {
     "name": "stdout",
     "output_type": "stream",
     "text": [
      "student data: sannu 21 21 bio\n",
      "sannu 21 21 bio\n"
     ]
    }
   ],
   "source": [
    "class student:\n",
    "    def __init__(self,name,rollno,age,sub):\n",
    "        self.name = name\n",
    "        self.rollno = rollno\n",
    "        self.age = age\n",
    "        self.sub = sub\n",
    "    def display(self):\n",
    "        print(\"student data:\" , self.name , self.rollno , self.age , self.sub);\n",
    "    def __str__(self):\n",
    "        return f\"{self.name} {self.rollno} {self.age} {self.sub}\";\n",
    "    \n",
    "st1 = student(\"sannu\",21,21,\"bio\")\n",
    "st1.display()\n",
    "print(st1)\n",
    "        \n",
    "        "
   ]
  },
  {
   "cell_type": "code",
   "execution_count": 7,
   "id": "51a1a031-19c9-42ee-ad72-5d175e34ea6f",
   "metadata": {},
   "outputs": [
    {
     "name": "stdout",
     "output_type": "stream",
     "text": [
      "Teacher Details :\n",
      " Name : Payal ,\n",
      " Age : 18 ,\n",
      " ID : 543\n"
     ]
    }
   ],
   "source": [
    "class Teacher1 :\n",
    "    def __init__(self,name,age,id):\n",
    "        self.name = name;\n",
    "        self.age = age;\n",
    "        self.id = id;\n",
    "    def display(self):\n",
    "        print(\"Teacher Details :\\n\",\"Name :\",self.name,\",\\n\",\"Age :\",self.age,\",\\n\",\"ID :\",self.id)\n",
    "\n",
    "Tea1 = Teacher1(\"Payal\",18,543)\n",
    "Tea1.display()"
   ]
  },
  {
   "cell_type": "code",
   "execution_count": 22,
   "id": "6aec93ce-6479-473e-ad4f-e11436ec9ffc",
   "metadata": {},
   "outputs": [
    {
     "name": "stdout",
     "output_type": "stream",
     "text": [
      "Teacher Details :\n",
      " Name : Payal\n",
      " Age : 18\n",
      " ID : 543\n",
      "1\n"
     ]
    }
   ],
   "source": [
    "class Teacher2 :\n",
    "    count = 0;\n",
    "    def __init__(self,name,age,id):\n",
    "        self.name = name;\n",
    "        self.age = age;\n",
    "        self.id = id;\n",
    "        Teacher2.count += 1;\n",
    "    def display(self):\n",
    "        print(\"Teacher Details :\\n Name : %s\\n Age : %d\\n ID : %d\"%(self.name,self.age,self.id))\n",
    "\n",
    "Tea1 = Teacher2(\"Payal\",18,543)\n",
    "Tea1.display()\n",
    "print(Teacher2.count)"
   ]
  },
  {
   "cell_type": "code",
   "execution_count": 25,
   "id": "284e115a-f8e1-4a16-aab6-896e4776d4a3",
   "metadata": {},
   "outputs": [
    {
     "name": "stdout",
     "output_type": "stream",
     "text": [
      "Teacher Details :\n",
      " Name : Aashis\n",
      " Age : 23\n",
      " ID : 562\n",
      "2\n"
     ]
    }
   ],
   "source": [
    "Tea2 = Teacher2(\"Aashis\",23,562)\n",
    "Tea2.display()\n",
    "print(Teacher2.count)"
   ]
  },
  {
   "cell_type": "code",
   "execution_count": 23,
   "id": "7906ddc8-4c11-43b5-b77d-709cbc9d8493",
   "metadata": {},
   "outputs": [
    {
     "name": "stdout",
     "output_type": "stream",
     "text": [
      "Student Details :\n",
      " Name : Payal ,\n",
      " Age : 21 ,\n",
      " Height : 5.6 ,\n",
      " Bloodgroup : AB+\n"
     ]
    }
   ],
   "source": [
    "class Student2:\n",
    "    \n",
    "    def ShowDetails(self,name,age,height,bloodgroup):\n",
    "        print(\"Student Details :\\n\",\"Name :\",name,\",\\n\",\"Age :\",age,\",\\n\",\"Height :\",height,\",\\n\",\"Bloodgroup :\",bloodgroup)\n",
    "st1 = Student2()\n",
    "st1.ShowDetails(\"Payal\",21,5.6,\"AB+\")\n"
   ]
  },
  {
   "cell_type": "code",
   "execution_count": 24,
   "id": "689e28bc-70de-49af-b463-50e9bf6f00f0",
   "metadata": {},
   "outputs": [
    {
     "name": "stdout",
     "output_type": "stream",
     "text": [
      "second constructor running\n",
      "<__main__.Employee object at 0x0000027CA02B9610>\n"
     ]
    }
   ],
   "source": [
    "class Employee:\n",
    "    def __init__(self):\n",
    "        print(\"first constructor running\")\n",
    "    def __init__(self):\n",
    "        print(\"second constructor running\")\n",
    "\n",
    "emp1 = Employee()\n",
    "print(emp1)"
   ]
  },
  {
   "cell_type": "code",
   "execution_count": null,
   "id": "67fdb5bb-7dd4-48be-8414-31fbe35d7a4d",
   "metadata": {},
   "outputs": [],
   "source": []
  },
  {
   "cell_type": "code",
   "execution_count": null,
   "id": "8fa5f518-f71a-4d48-859d-0007530e2107",
   "metadata": {},
   "outputs": [],
   "source": []
  }
 ],
 "metadata": {
  "kernelspec": {
   "display_name": "Python 3 (ipykernel)",
   "language": "python",
   "name": "python3"
  },
  "language_info": {
   "codemirror_mode": {
    "name": "ipython",
    "version": 3
   },
   "file_extension": ".py",
   "mimetype": "text/x-python",
   "name": "python",
   "nbconvert_exporter": "python",
   "pygments_lexer": "ipython3",
   "version": "3.12.0"
  }
 },
 "nbformat": 4,
 "nbformat_minor": 5
}
