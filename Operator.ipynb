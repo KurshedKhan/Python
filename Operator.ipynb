{
 "cells": [
  {
   "cell_type": "markdown",
   "id": "2755d56c-44f9-4178-8201-ee467b264c3f",
   "metadata": {},
   "source": [
    "# Operators :\n",
    "- An operator is used to perform specific mathematical or logical operation on values.\n",
    "- The values that the operators work on are called operands.\n",
    "- For example : \n",
    "- 1. The expression 10 + num .\n",
    "  2. The value 10, and the variable num are operands.\n",
    "  3. The + (plus) sign is an operator."
   ]
  },
  {
   "cell_type": "markdown",
   "id": "6162235a-45d9-4f3b-a08f-b843a506db3c",
   "metadata": {},
   "source": [
    "## 1. Arithmetic Operators\n",
    "- Arithmetic operators that are used to perform the four basic arithmetic operations as well as \n",
    "modular division, floor division and exponentiation."
   ]
  },
  {
   "cell_type": "markdown",
   "id": "d678783f-5efa-49da-9934-5a81587e1a22",
   "metadata": {},
   "source": [
    "### a. Addition : `(+)`:"
   ]
  },
  {
   "cell_type": "code",
   "execution_count": 1,
   "id": "76281d5a-2175-4658-bb98-4bbe90301da8",
   "metadata": {},
   "outputs": [
    {
     "data": {
      "text/plain": [
       "11"
      ]
     },
     "execution_count": 1,
     "metadata": {},
     "output_type": "execute_result"
    }
   ],
   "source": [
    "# Adds the two numeric values on either side (both sides) of the operator.\n",
    "num1 = 5\n",
    "num2 = 6\n",
    "num1 + num2"
   ]
  },
  {
   "cell_type": "code",
   "execution_count": 2,
   "id": "158bd8d8-233b-4505-b767-6ce9f511d560",
   "metadata": {},
   "outputs": [
    {
     "data": {
      "text/plain": [
       "'HelloIndia'"
      ]
     },
     "execution_count": 2,
     "metadata": {},
     "output_type": "execute_result"
    }
   ],
   "source": [
    "# This operator can also be used to concatenate two strings on either side of the operator.\n",
    "str1 = \"Hello\"\n",
    "str2 = \"India\"\n",
    "str1 + str2"
   ]
  },
  {
   "cell_type": "markdown",
   "id": "94bd4acd-8ac3-4a8e-ba88-7c4a492de19a",
   "metadata": {},
   "source": [
    "### b. Subtraction `(-)` :"
   ]
  },
  {
   "cell_type": "code",
   "execution_count": 3,
   "id": "9341e5ed-2b23-4cad-8692-36bac878e8b3",
   "metadata": {},
   "outputs": [
    {
     "data": {
      "text/plain": [
       "-1"
      ]
     },
     "execution_count": 3,
     "metadata": {},
     "output_type": "execute_result"
    }
   ],
   "source": [
    "# Subtracts the operand on the right from the operand on the left.\n",
    "num1 = 5\n",
    "num2 = 6\n",
    "num1 - num2"
   ]
  },
  {
   "cell_type": "code",
   "execution_count": 4,
   "id": "4b36f01e-b043-4967-a5c9-9af999f66a87",
   "metadata": {},
   "outputs": [
    {
     "data": {
      "text/plain": [
       "1"
      ]
     },
     "execution_count": 4,
     "metadata": {},
     "output_type": "execute_result"
    }
   ],
   "source": [
    "num2 - num1"
   ]
  },
  {
   "cell_type": "markdown",
   "id": "fe952808-a310-4f85-a179-2c11e788cc41",
   "metadata": {},
   "source": [
    "### c. Multiplication `(*)` : "
   ]
  },
  {
   "cell_type": "code",
   "execution_count": 5,
   "id": "f0e67814-e1ac-4122-b3f8-52df950283f5",
   "metadata": {},
   "outputs": [
    {
     "data": {
      "text/plain": [
       "30"
      ]
     },
     "execution_count": 5,
     "metadata": {},
     "output_type": "execute_result"
    }
   ],
   "source": [
    "# Multiplies the two values on both side of the operator.\n",
    "num1 = 5\n",
    "num2 = 6\n",
    "num1 * num2"
   ]
  },
  {
   "cell_type": "code",
   "execution_count": 6,
   "id": "5d9ffeba-50bf-4f27-9119-7e1827f574ee",
   "metadata": {},
   "outputs": [
    {
     "data": {
      "text/plain": [
       "'IndiaIndiaIndia'"
      ]
     },
     "execution_count": 6,
     "metadata": {},
     "output_type": "execute_result"
    }
   ],
   "source": [
    "# Repeats the item on left of the operator if first operand is a string and second operand is an integer value.\n",
    "str1 = \"India\"\n",
    "str2 * 3"
   ]
  },
  {
   "cell_type": "markdown",
   "id": "1d7a7083-f3af-41e3-9547-8fa7bf9349a7",
   "metadata": {},
   "source": [
    "### d. Division `(/)` :"
   ]
  },
  {
   "cell_type": "code",
   "execution_count": 7,
   "id": "8097ffc3-566c-4052-879c-78a2e65864f4",
   "metadata": {},
   "outputs": [],
   "source": [
    "# Divides the operand on the left by the operand on the right and returns the quotient.\n",
    "num1 = 8\n",
    "num2 = 4"
   ]
  },
  {
   "cell_type": "code",
   "execution_count": 8,
   "id": "83bbc86b-a556-4ffa-bfbb-48cf53c68ff3",
   "metadata": {},
   "outputs": [
    {
     "data": {
      "text/plain": [
       "0.5"
      ]
     },
     "execution_count": 8,
     "metadata": {},
     "output_type": "execute_result"
    }
   ],
   "source": [
    "num2/num1"
   ]
  },
  {
   "cell_type": "markdown",
   "id": "2f2f171f-85b9-4887-9669-a18f2e7f9b51",
   "metadata": {},
   "source": [
    "### e. Modulus `(%)` : "
   ]
  },
  {
   "cell_type": "code",
   "execution_count": 9,
   "id": "162854f4-1895-4fe1-8ed2-2d5679c0d72f",
   "metadata": {},
   "outputs": [
    {
     "data": {
      "text/plain": [
       "3"
      ]
     },
     "execution_count": 9,
     "metadata": {},
     "output_type": "execute_result"
    }
   ],
   "source": [
    "# Divides the operand on the left by the operand on the right and returns the remainder.\n",
    "num1 = 13\n",
    "num2 = 5\n",
    "num1 % num2"
   ]
  },
  {
   "cell_type": "markdown",
   "id": "3b811fac-525d-4574-8db6-fb1d34a7180c",
   "metadata": {},
   "source": [
    "### f. Floor Division `(//)`:\n",
    "-  Divides the operand on the left by the operand on the right and returns the quotient by removing the decimal part.\n",
    "-  It is sometimes also called integer division."
   ]
  },
  {
   "cell_type": "code",
   "execution_count": 10,
   "id": "366dcbcb-c520-48a0-a6f5-5d8a27cc55c5",
   "metadata": {},
   "outputs": [
    {
     "data": {
      "text/plain": [
       "3"
      ]
     },
     "execution_count": 10,
     "metadata": {},
     "output_type": "execute_result"
    }
   ],
   "source": [
    "num1 = 13\n",
    "num2 = 4\n",
    "num1//num2"
   ]
  },
  {
   "cell_type": "code",
   "execution_count": 11,
   "id": "7ec75f01-3a46-4029-a2d9-ea2e902aabbf",
   "metadata": {},
   "outputs": [
    {
     "data": {
      "text/plain": [
       "0"
      ]
     },
     "execution_count": 11,
     "metadata": {},
     "output_type": "execute_result"
    }
   ],
   "source": [
    "num2 // num1"
   ]
  },
  {
   "cell_type": "markdown",
   "id": "79c45cf4-842e-4f56-b830-b8f01498c4bb",
   "metadata": {},
   "source": [
    "### g. Exponent `(**)`:\n",
    "- Performs exponential (power) calculation on operands.\n",
    "- That is, raise the operand on the left to the power of the operand on the right."
   ]
  },
  {
   "cell_type": "code",
   "execution_count": 12,
   "id": "ece13620-5f82-44a8-b18c-0c21198a0f9f",
   "metadata": {},
   "outputs": [
    {
     "data": {
      "text/plain": [
       "81"
      ]
     },
     "execution_count": 12,
     "metadata": {},
     "output_type": "execute_result"
    }
   ],
   "source": [
    "num1 = 3\n",
    "num2 = 4\n",
    "num1 ** num2"
   ]
  },
  {
   "cell_type": "markdown",
   "id": "11892dd4-32ef-41de-9a2f-3e6ed9bee24e",
   "metadata": {},
   "source": [
    "## 2. Relational Operators\n",
    "- Relational operator compares the values of the operands on its either side and determines the relationship among them."
   ]
  },
  {
   "cell_type": "code",
   "execution_count": 13,
   "id": "ce95b4bd-4b6f-42e3-a851-15c55960135a",
   "metadata": {},
   "outputs": [],
   "source": [
    "num1 = 10\n",
    "num2 = 0\n",
    "num3 = 10\n",
    "str1 = \"Good\"\n",
    "str2 = \"Afternoon\""
   ]
  },
  {
   "cell_type": "markdown",
   "id": "37b12a82-9e3e-454a-9978-5f0a6d0a8d63",
   "metadata": {},
   "source": [
    "### a. Equals to `(==)` :"
   ]
  },
  {
   "cell_type": "code",
   "execution_count": 14,
   "id": "5e76064e-56f7-476e-b132-27aa3644c497",
   "metadata": {},
   "outputs": [
    {
     "data": {
      "text/plain": [
       "False"
      ]
     },
     "execution_count": 14,
     "metadata": {},
     "output_type": "execute_result"
    }
   ],
   "source": [
    "# If the values of two operands are equal, then the condition is True, otherwise it is False.\n",
    "num1 == num2"
   ]
  },
  {
   "cell_type": "code",
   "execution_count": 15,
   "id": "2f762f51-c8f5-4137-862a-38ed20a51b48",
   "metadata": {},
   "outputs": [
    {
     "data": {
      "text/plain": [
       "False"
      ]
     },
     "execution_count": 15,
     "metadata": {},
     "output_type": "execute_result"
    }
   ],
   "source": [
    "str1 == str2"
   ]
  },
  {
   "cell_type": "markdown",
   "id": "bba7116d-74c1-438d-b647-534237355326",
   "metadata": {},
   "source": [
    "### b. Not equal to `(!=)` : "
   ]
  },
  {
   "cell_type": "code",
   "execution_count": 16,
   "id": "8a605bb5-eeba-4a3c-ab2f-ba28cb40aa62",
   "metadata": {},
   "outputs": [
    {
     "data": {
      "text/plain": [
       "True"
      ]
     },
     "execution_count": 16,
     "metadata": {},
     "output_type": "execute_result"
    }
   ],
   "source": [
    "# If values of two operands are not equal, then condition is True, otherwise it is False.\n",
    "num1 != num2"
   ]
  },
  {
   "cell_type": "code",
   "execution_count": 17,
   "id": "711163c5-27db-42d3-9fb7-7f0e6f03639e",
   "metadata": {},
   "outputs": [
    {
     "data": {
      "text/plain": [
       "True"
      ]
     },
     "execution_count": 17,
     "metadata": {},
     "output_type": "execute_result"
    }
   ],
   "source": [
    "str1 != str2"
   ]
  },
  {
   "cell_type": "code",
   "execution_count": 18,
   "id": "fa10d4a4-c4de-427f-ac87-dde74a544522",
   "metadata": {},
   "outputs": [
    {
     "data": {
      "text/plain": [
       "False"
      ]
     },
     "execution_count": 18,
     "metadata": {},
     "output_type": "execute_result"
    }
   ],
   "source": [
    "num1 != num3"
   ]
  },
  {
   "cell_type": "markdown",
   "id": "3bfbd1de-ca4b-475c-915c-f34cdb6ea445",
   "metadata": {},
   "source": [
    "###  c. Greater than `(>)` :\n",
    "- If the value of the left-side operand is greater than the value of the right-side operand, then condition is True, otherwise it is False."
   ]
  },
  {
   "cell_type": "code",
   "execution_count": 19,
   "id": "96079cc9-0e8a-4a6c-be46-24657db861bb",
   "metadata": {},
   "outputs": [
    {
     "data": {
      "text/plain": [
       "True"
      ]
     },
     "execution_count": 19,
     "metadata": {},
     "output_type": "execute_result"
    }
   ],
   "source": [
    "num1 > num2"
   ]
  },
  {
   "cell_type": "code",
   "execution_count": 20,
   "id": "9f3e1d96-9cea-4295-b858-c162662f15a2",
   "metadata": {},
   "outputs": [
    {
     "data": {
      "text/plain": [
       "True"
      ]
     },
     "execution_count": 20,
     "metadata": {},
     "output_type": "execute_result"
    }
   ],
   "source": [
    "str1 > str2"
   ]
  },
  {
   "cell_type": "markdown",
   "id": "1c4f432f-694d-43f6-b8f0-faffcff23805",
   "metadata": {},
   "source": [
    "### d. Less than `(<)` :\n",
    "- If the value of the left-side operand is less than the value of the righ-side operand, then condition is True, otherwise it is False."
   ]
  },
  {
   "cell_type": "code",
   "execution_count": 21,
   "id": "e63580e4-f2c6-4feb-b39c-c7a715621890",
   "metadata": {},
   "outputs": [
    {
     "data": {
      "text/plain": [
       "False"
      ]
     },
     "execution_count": 21,
     "metadata": {},
     "output_type": "execute_result"
    }
   ],
   "source": [
    "num1 < num3"
   ]
  },
  {
   "cell_type": "code",
   "execution_count": 22,
   "id": "6964b326-5d6e-4706-82b4-a60220f64637",
   "metadata": {},
   "outputs": [
    {
     "data": {
      "text/plain": [
       "True"
      ]
     },
     "execution_count": 22,
     "metadata": {},
     "output_type": "execute_result"
    }
   ],
   "source": [
    "str2 < str1"
   ]
  },
  {
   "cell_type": "markdown",
   "id": "3611ca6f-0585-4354-8930-7deb8ff2666e",
   "metadata": {},
   "source": [
    "### e. Greater than or equal to `(>=)` :\n",
    "- If the value of the left-side operand is greater than or equal to the value of the right-side operand, then condition is True, otherwise it is False."
   ]
  },
  {
   "cell_type": "code",
   "execution_count": 23,
   "id": "fea33d3d-a88b-4b7d-9973-866d240f9b9e",
   "metadata": {},
   "outputs": [
    {
     "data": {
      "text/plain": [
       "True"
      ]
     },
     "execution_count": 23,
     "metadata": {},
     "output_type": "execute_result"
    }
   ],
   "source": [
    "num1 >= num2"
   ]
  },
  {
   "cell_type": "code",
   "execution_count": 24,
   "id": "0da7fa9f-725a-4a4d-8d85-9fd7a7327eb0",
   "metadata": {},
   "outputs": [
    {
     "data": {
      "text/plain": [
       "False"
      ]
     },
     "execution_count": 24,
     "metadata": {},
     "output_type": "execute_result"
    }
   ],
   "source": [
    "num2 >= num3"
   ]
  },
  {
   "cell_type": "code",
   "execution_count": 25,
   "id": "fc77e5f9-4245-4949-bfb0-fd18a4a11bfc",
   "metadata": {},
   "outputs": [
    {
     "data": {
      "text/plain": [
       "True"
      ]
     },
     "execution_count": 25,
     "metadata": {},
     "output_type": "execute_result"
    }
   ],
   "source": [
    "str1 >= str2"
   ]
  },
  {
   "cell_type": "markdown",
   "id": "dd21cecd-f57c-401d-a905-38433bb810cd",
   "metadata": {},
   "source": [
    "### f. Less than or equal to `(<=)` :\n",
    "- If the value of the left operand is less than or equal to the value of the right operand, then is True otherwise it is False."
   ]
  },
  {
   "cell_type": "code",
   "execution_count": 26,
   "id": "d1a7a935-8ef1-4151-8992-4d2d53b5dc2d",
   "metadata": {},
   "outputs": [
    {
     "data": {
      "text/plain": [
       "False"
      ]
     },
     "execution_count": 26,
     "metadata": {},
     "output_type": "execute_result"
    }
   ],
   "source": [
    "num1 <= num2"
   ]
  },
  {
   "cell_type": "code",
   "execution_count": 27,
   "id": "30c33d91-6141-426a-8395-cf02cb42f5d8",
   "metadata": {},
   "outputs": [
    {
     "data": {
      "text/plain": [
       "True"
      ]
     },
     "execution_count": 27,
     "metadata": {},
     "output_type": "execute_result"
    }
   ],
   "source": [
    "num2 <= num3"
   ]
  },
  {
   "cell_type": "code",
   "execution_count": 28,
   "id": "0d04dda3-b425-441a-993f-51d0a82a757d",
   "metadata": {},
   "outputs": [
    {
     "data": {
      "text/plain": [
       "False"
      ]
     },
     "execution_count": 28,
     "metadata": {},
     "output_type": "execute_result"
    }
   ],
   "source": [
    "str1 <= str2"
   ]
  },
  {
   "cell_type": "markdown",
   "id": "e40cb4b1-5982-4f5f-bcfc-3d17f4ae97a1",
   "metadata": {},
   "source": [
    "## 3. Assignment Operators\n",
    "- Assignment operator assigns or changes the value of the variable on its left."
   ]
  },
  {
   "cell_type": "markdown",
   "id": "8dcbc0bf-7ed8-4b0a-ae99-cd9276bfa83f",
   "metadata": {},
   "source": [
    "### a. `( = )` :\n",
    "- Assigns value from right-side operand to left-side operand."
   ]
  },
  {
   "cell_type": "code",
   "execution_count": 29,
   "id": "c51b9757-e3f0-47c5-a5d2-2c60b117afc9",
   "metadata": {},
   "outputs": [],
   "source": [
    "num1 = 2"
   ]
  },
  {
   "cell_type": "code",
   "execution_count": 30,
   "id": "a074e447-1602-42f3-8b76-268adb016bbd",
   "metadata": {},
   "outputs": [],
   "source": [
    "num2 = num1"
   ]
  },
  {
   "cell_type": "code",
   "execution_count": 31,
   "id": "322c6821-3df6-4f48-a003-e095d5dd0293",
   "metadata": {},
   "outputs": [
    {
     "data": {
      "text/plain": [
       "2"
      ]
     },
     "execution_count": 31,
     "metadata": {},
     "output_type": "execute_result"
    }
   ],
   "source": [
    "num2"
   ]
  },
  {
   "cell_type": "code",
   "execution_count": 32,
   "id": "6ee66a74-82c4-4f61-9503-82faab0a483e",
   "metadata": {},
   "outputs": [],
   "source": [
    "country = \"India\""
   ]
  },
  {
   "cell_type": "code",
   "execution_count": 33,
   "id": "5328ba1c-7ff8-4c2e-a9ab-36367e3be628",
   "metadata": {},
   "outputs": [
    {
     "data": {
      "text/plain": [
       "'India'"
      ]
     },
     "execution_count": 33,
     "metadata": {},
     "output_type": "execute_result"
    }
   ],
   "source": [
    "country"
   ]
  },
  {
   "cell_type": "markdown",
   "id": "12966c88-2138-4aa4-bbcd-587d7d20b49c",
   "metadata": {},
   "source": [
    "### b. `(+=)` :\n",
    "- It adds the value of right-side operand to the left-side operand and assigns the result to the left-side operand.\n",
    "- Note : x += y is same as x = x + y"
   ]
  },
  {
   "cell_type": "code",
   "execution_count": 34,
   "id": "84b894db-6552-4cc6-bd9f-3e62b50b7527",
   "metadata": {},
   "outputs": [],
   "source": [
    "num1 = 10"
   ]
  },
  {
   "cell_type": "code",
   "execution_count": 35,
   "id": "9c193e0c-1a2a-4e89-ae10-8a3edeb0871b",
   "metadata": {},
   "outputs": [],
   "source": [
    "num2 = 2"
   ]
  },
  {
   "cell_type": "code",
   "execution_count": 36,
   "id": "3855c988-4f47-4652-a046-aaf6c86690b6",
   "metadata": {},
   "outputs": [],
   "source": [
    "num1 += num2"
   ]
  },
  {
   "cell_type": "code",
   "execution_count": 37,
   "id": "c74e9673-8ba8-4916-a26c-7952be4e1c87",
   "metadata": {},
   "outputs": [
    {
     "data": {
      "text/plain": [
       "12"
      ]
     },
     "execution_count": 37,
     "metadata": {},
     "output_type": "execute_result"
    }
   ],
   "source": [
    "num1"
   ]
  },
  {
   "cell_type": "code",
   "execution_count": 38,
   "id": "3e0fdd97-89d7-4f49-a009-80838700af76",
   "metadata": {},
   "outputs": [
    {
     "data": {
      "text/plain": [
       "2"
      ]
     },
     "execution_count": 38,
     "metadata": {},
     "output_type": "execute_result"
    }
   ],
   "source": [
    "num2"
   ]
  },
  {
   "cell_type": "code",
   "execution_count": 39,
   "id": "2c9e37e6-4094-4584-a2a9-daf72fda4fb4",
   "metadata": {},
   "outputs": [],
   "source": [
    "str1 = \"Hello\"\n",
    "str2 = \"India\"\n",
    "str1 += str2"
   ]
  },
  {
   "cell_type": "code",
   "execution_count": 40,
   "id": "d5c0b1d2-1dc6-4d03-b2fb-0c813c5c0f4d",
   "metadata": {},
   "outputs": [
    {
     "data": {
      "text/plain": [
       "'HelloIndia'"
      ]
     },
     "execution_count": 40,
     "metadata": {},
     "output_type": "execute_result"
    }
   ],
   "source": [
    "str1"
   ]
  },
  {
   "cell_type": "code",
   "execution_count": 41,
   "id": "e8a98d85-6ce7-4a6d-8334-959e05b194c9",
   "metadata": {},
   "outputs": [
    {
     "data": {
      "text/plain": [
       "'India'"
      ]
     },
     "execution_count": 41,
     "metadata": {},
     "output_type": "execute_result"
    }
   ],
   "source": [
    "str2"
   ]
  },
  {
   "cell_type": "markdown",
   "id": "2021a04c-6fcf-49ee-aac0-dc9ccd4b41d6",
   "metadata": {},
   "source": [
    "### c. `( -= )` :\n",
    "- It subtracts the value of right-side operand from the left-side operand and assigns the result to left-side operand.\n",
    "- Note : x -= y is same as x = x - y"
   ]
  },
  {
   "cell_type": "code",
   "execution_count": 42,
   "id": "15140fa6-91ca-4f53-8394-3eaeb8f1ff03",
   "metadata": {},
   "outputs": [
    {
     "data": {
      "text/plain": [
       "8"
      ]
     },
     "execution_count": 42,
     "metadata": {},
     "output_type": "execute_result"
    }
   ],
   "source": [
    "num1 = 10\n",
    "num2 = 2\n",
    "num1 -= num2\n",
    "num1"
   ]
  },
  {
   "cell_type": "markdown",
   "id": "95a4f362-7d5a-4d38-b8e1-e2d24db231d5",
   "metadata": {},
   "source": [
    "### d. `( *= )` :\n",
    "- It multiplies the value of right-side operand with the value of left-side operand and assigns the result to left-side operand.\n",
    "- Note: x *= y is same as x = x * y"
   ]
  },
  {
   "cell_type": "code",
   "execution_count": 43,
   "id": "4ef683af-8adc-4092-b786-2f96bd08c9e6",
   "metadata": {},
   "outputs": [],
   "source": [
    "num1 = 2\n",
    "num2 = 3\n",
    "num1 *= 3"
   ]
  },
  {
   "cell_type": "code",
   "execution_count": 44,
   "id": "18662a6f-9b42-4509-859d-08fe2cec890d",
   "metadata": {},
   "outputs": [
    {
     "data": {
      "text/plain": [
       "6"
      ]
     },
     "execution_count": 44,
     "metadata": {},
     "output_type": "execute_result"
    }
   ],
   "source": [
    "num1"
   ]
  },
  {
   "cell_type": "code",
   "execution_count": 45,
   "id": "7dd501af-428a-4d40-800f-387566b16ca9",
   "metadata": {},
   "outputs": [],
   "source": [
    "a = \"India\""
   ]
  },
  {
   "cell_type": "code",
   "execution_count": 46,
   "id": "182efcef-6eb9-414f-b77d-ef3cb0d469eb",
   "metadata": {},
   "outputs": [],
   "source": [
    "a *= 3"
   ]
  },
  {
   "cell_type": "code",
   "execution_count": 47,
   "id": "51fee63b-36f9-419f-b634-ab49df9c6061",
   "metadata": {},
   "outputs": [
    {
     "data": {
      "text/plain": [
       "'IndiaIndiaIndia'"
      ]
     },
     "execution_count": 47,
     "metadata": {},
     "output_type": "execute_result"
    }
   ],
   "source": [
    "a"
   ]
  },
  {
   "cell_type": "markdown",
   "id": "c79aaefb-374c-4262-b695-97adf9564779",
   "metadata": {},
   "source": [
    "### e. `( /= )` :\n",
    "- It divides the value of left-side operand by the value of right-side operand and assigns the result to left-side operand.\n",
    "- Note: x /= y is same as x = x / y"
   ]
  },
  {
   "cell_type": "code",
   "execution_count": 48,
   "id": "4f61466d-6a2d-4900-93bb-81ba80984df0",
   "metadata": {},
   "outputs": [],
   "source": [
    "num1 = 6\n",
    "num2 = 3\n",
    "num1 /= num2"
   ]
  },
  {
   "cell_type": "code",
   "execution_count": 49,
   "id": "29f147de-b689-4ba3-9f72-bf809ab92752",
   "metadata": {},
   "outputs": [
    {
     "data": {
      "text/plain": [
       "2.0"
      ]
     },
     "execution_count": 49,
     "metadata": {},
     "output_type": "execute_result"
    }
   ],
   "source": [
    "num1"
   ]
  },
  {
   "cell_type": "markdown",
   "id": "65ee4843-9e8f-4210-a70c-ac5f16a88fed",
   "metadata": {},
   "source": [
    "### f. `( %= )` :\n",
    "- It performs modulus operation using two operands and assigns the result to left-side \n",
    "operand.\n",
    "- Note: x %= y is same as x = x % y"
   ]
  },
  {
   "cell_type": "code",
   "execution_count": 50,
   "id": "3aef07a2-efe6-4274-8982-d87cb9d85174",
   "metadata": {},
   "outputs": [],
   "source": [
    "num1 = 7\n",
    "num2 = 3"
   ]
  },
  {
   "cell_type": "code",
   "execution_count": 51,
   "id": "6e772faf-6e9e-428f-b970-14f217b6e7ac",
   "metadata": {},
   "outputs": [],
   "source": [
    "num1 %= num2"
   ]
  },
  {
   "cell_type": "code",
   "execution_count": 52,
   "id": "d5a17371-1ba6-4d54-971e-2e73cee43077",
   "metadata": {},
   "outputs": [
    {
     "data": {
      "text/plain": [
       "1"
      ]
     },
     "execution_count": 52,
     "metadata": {},
     "output_type": "execute_result"
    }
   ],
   "source": [
    "num1"
   ]
  },
  {
   "cell_type": "markdown",
   "id": "eddb1b0f-9466-429d-a816-bdb20608f4ac",
   "metadata": {},
   "source": [
    "### g. `( //= )` :\n",
    "- It performs floor division using two operands and assigns the result to left-side operand\n",
    "- Note: x //= y is same as x = x // y"
   ]
  },
  {
   "cell_type": "code",
   "execution_count": 53,
   "id": "2bcfb5ae-0043-46c5-aacb-94ad99d4b329",
   "metadata": {},
   "outputs": [],
   "source": [
    "num1 = 7"
   ]
  },
  {
   "cell_type": "code",
   "execution_count": 54,
   "id": "a2aaf817-cfa8-4cba-9ea0-bd4200846153",
   "metadata": {},
   "outputs": [],
   "source": [
    "num2 = 3"
   ]
  },
  {
   "cell_type": "code",
   "execution_count": 55,
   "id": "596309aa-0e83-4a9f-a6a0-3d528c02cf86",
   "metadata": {},
   "outputs": [],
   "source": [
    "num1 //= num2"
   ]
  },
  {
   "cell_type": "code",
   "execution_count": 56,
   "id": "ce8b3e4b-fb8d-46b9-a485-fbf921f06527",
   "metadata": {},
   "outputs": [
    {
     "data": {
      "text/plain": [
       "2"
      ]
     },
     "execution_count": 56,
     "metadata": {},
     "output_type": "execute_result"
    }
   ],
   "source": [
    "num1"
   ]
  },
  {
   "cell_type": "markdown",
   "id": "67ee4237-d7f1-48df-bf21-6e0eab699250",
   "metadata": {},
   "source": [
    "### h. `( **= )` :\n",
    "- It performs exponential (power) calculation on operators and assigns value to the left-side \n",
    "operand\n",
    "- Note: x **= y is same as x = x ** y"
   ]
  },
  {
   "cell_type": "code",
   "execution_count": 57,
   "id": "cf135a1a-4125-48b0-a8db-afc825e22194",
   "metadata": {},
   "outputs": [],
   "source": [
    "num1 = 2\n",
    "num2 = 3\n",
    "num1 **= num2"
   ]
  },
  {
   "cell_type": "code",
   "execution_count": 58,
   "id": "ddcecd5b-a514-4c6d-9053-b3ac8116a56b",
   "metadata": {},
   "outputs": [
    {
     "data": {
      "text/plain": [
       "8"
      ]
     },
     "execution_count": 58,
     "metadata": {},
     "output_type": "execute_result"
    }
   ],
   "source": [
    "num1"
   ]
  },
  {
   "cell_type": "markdown",
   "id": "8f7c6469-c60a-45ab-a185-b1cb726c1b84",
   "metadata": {},
   "source": [
    "## 4. Logical Operators\n",
    "- There are three logical operators supported by Python.\n",
    "- These operators (and, or, not) are to be written in lower case only.\n",
    "- The logical operator evaluates to either True or False based on the logical operands on either side.\n",
    "- Every value is logically either True or False.\n",
    "- By default, all values are True except None, False, 0 (zero), empty collections \"\", (), [], {}, and few other special values."
   ]
  },
  {
   "cell_type": "code",
   "execution_count": 59,
   "id": "9dc7aa97-7a29-4fd1-9465-3a75e93ef53e",
   "metadata": {},
   "outputs": [],
   "source": [
    "num1 = 10\n",
    "num2 = -20\n",
    "# both num1 and num2 are logically True."
   ]
  },
  {
   "cell_type": "markdown",
   "id": "b74b3972-f432-43d7-b55a-562f5c14c62f",
   "metadata": {},
   "source": [
    "### Logical AND `(and)` :\n",
    "- If both the operands are True, then condition becomes True."
   ]
  },
  {
   "cell_type": "code",
   "execution_count": 60,
   "id": "678f22b9-c108-4eca-a730-1aec0b4e1225",
   "metadata": {},
   "outputs": [
    {
     "data": {
      "text/plain": [
       "True"
      ]
     },
     "execution_count": 60,
     "metadata": {},
     "output_type": "execute_result"
    }
   ],
   "source": [
    "True and True"
   ]
  },
  {
   "cell_type": "code",
   "execution_count": 61,
   "id": "da2d07c0-d950-4046-92f4-8e099d0b609d",
   "metadata": {},
   "outputs": [],
   "source": [
    "num1 = 10\n",
    "num2 = -20"
   ]
  },
  {
   "cell_type": "code",
   "execution_count": 62,
   "id": "59bddfe1-9771-449e-967e-8909149645b7",
   "metadata": {},
   "outputs": [
    {
     "data": {
      "text/plain": [
       "True"
      ]
     },
     "execution_count": 62,
     "metadata": {},
     "output_type": "execute_result"
    }
   ],
   "source": [
    "bool (num1 and num2)"
   ]
  },
  {
   "cell_type": "code",
   "execution_count": 63,
   "id": "cb0198af-8412-4851-9833-ffd3f668cf49",
   "metadata": {},
   "outputs": [
    {
     "data": {
      "text/plain": [
       "False"
      ]
     },
     "execution_count": 63,
     "metadata": {},
     "output_type": "execute_result"
    }
   ],
   "source": [
    "True and False"
   ]
  },
  {
   "cell_type": "code",
   "execution_count": 64,
   "id": "0c4e7ce8-cbac-4bdd-89e4-ca54eaa3a92d",
   "metadata": {},
   "outputs": [],
   "source": [
    "num3 = 0"
   ]
  },
  {
   "cell_type": "code",
   "execution_count": 65,
   "id": "192e2ef1-6f75-4bfc-bf08-9dde47bb9e0e",
   "metadata": {},
   "outputs": [
    {
     "data": {
      "text/plain": [
       "False"
      ]
     },
     "execution_count": 65,
     "metadata": {},
     "output_type": "execute_result"
    }
   ],
   "source": [
    "bool(num1 and num3)"
   ]
  },
  {
   "cell_type": "code",
   "execution_count": 66,
   "id": "09124c12-4176-4abc-864b-c663480140b1",
   "metadata": {},
   "outputs": [
    {
     "data": {
      "text/plain": [
       "False"
      ]
     },
     "execution_count": 66,
     "metadata": {},
     "output_type": "execute_result"
    }
   ],
   "source": [
    "False and False"
   ]
  },
  {
   "cell_type": "markdown",
   "id": "756de539-a697-4f1f-8273-3a6b994a8b55",
   "metadata": {},
   "source": [
    "### Logical OR `(or)` :\n",
    "- If any of the two operands are True, then condition becomes True."
   ]
  },
  {
   "cell_type": "code",
   "execution_count": 67,
   "id": "b1d11c9f-b210-437f-92e8-19cfba88caaa",
   "metadata": {},
   "outputs": [
    {
     "data": {
      "text/plain": [
       "True"
      ]
     },
     "execution_count": 67,
     "metadata": {},
     "output_type": "execute_result"
    }
   ],
   "source": [
    "True or True"
   ]
  },
  {
   "cell_type": "code",
   "execution_count": 68,
   "id": "d1afab02-0b2b-4d18-a3a8-8b9d6100551b",
   "metadata": {},
   "outputs": [
    {
     "data": {
      "text/plain": [
       "True"
      ]
     },
     "execution_count": 68,
     "metadata": {},
     "output_type": "execute_result"
    }
   ],
   "source": [
    "True or False"
   ]
  },
  {
   "cell_type": "code",
   "execution_count": 69,
   "id": "449b5bfe-f260-4490-8423-efdc2758e079",
   "metadata": {},
   "outputs": [
    {
     "data": {
      "text/plain": [
       "True"
      ]
     },
     "execution_count": 69,
     "metadata": {},
     "output_type": "execute_result"
    }
   ],
   "source": [
    "bool(num1 or num3)"
   ]
  },
  {
   "cell_type": "code",
   "execution_count": 70,
   "id": "ceac977b-0bf2-4ad1-900c-e5e82a335b03",
   "metadata": {},
   "outputs": [
    {
     "data": {
      "text/plain": [
       "False"
      ]
     },
     "execution_count": 70,
     "metadata": {},
     "output_type": "execute_result"
    }
   ],
   "source": [
    "False or False"
   ]
  },
  {
   "cell_type": "markdown",
   "id": "40e978f7-daf7-4e86-a13a-081a3c1a1fd4",
   "metadata": {},
   "source": [
    "### Logical NOT `(not)` :\n",
    "- Used to reverse the logical state of its operand."
   ]
  },
  {
   "cell_type": "code",
   "execution_count": 71,
   "id": "acc422bc-262b-4c24-b4c3-3bb9b9b7b049",
   "metadata": {},
   "outputs": [],
   "source": [
    "num1 = 10"
   ]
  },
  {
   "cell_type": "code",
   "execution_count": 72,
   "id": "a4081c2d-1bbd-4e19-b8fd-b02020429418",
   "metadata": {},
   "outputs": [
    {
     "data": {
      "text/plain": [
       "True"
      ]
     },
     "execution_count": 72,
     "metadata": {},
     "output_type": "execute_result"
    }
   ],
   "source": [
    "bool(num1)"
   ]
  },
  {
   "cell_type": "code",
   "execution_count": 73,
   "id": "fb54acd8-b204-4b19-8816-e9bd6792fd9d",
   "metadata": {},
   "outputs": [
    {
     "data": {
      "text/plain": [
       "False"
      ]
     },
     "execution_count": 73,
     "metadata": {},
     "output_type": "execute_result"
    }
   ],
   "source": [
    "not num1"
   ]
  },
  {
   "cell_type": "code",
   "execution_count": 74,
   "id": "12d1cf6c-8a2e-4f15-8f2c-a0f7dabe5823",
   "metadata": {},
   "outputs": [
    {
     "data": {
      "text/plain": [
       "True"
      ]
     },
     "execution_count": 74,
     "metadata": {},
     "output_type": "execute_result"
    }
   ],
   "source": [
    "bool(num1)"
   ]
  },
  {
   "cell_type": "markdown",
   "id": "22957d82-86fd-4e50-9385-17c1a6bf7b69",
   "metadata": {},
   "source": [
    "## 5. Identity Operators\n",
    "- Identity operators are used to determine whether the value of a variable is of a certain type or not.\n",
    "- Identity operators can also be used to determine whether two variables are referring to the same object or not.\n",
    "- There are two identity operators."
   ]
  },
  {
   "cell_type": "markdown",
   "id": "5c872980-35d7-4e22-842e-99ff795c53b9",
   "metadata": {},
   "source": [
    "### `is` :\n",
    "- Evaluates True if the variables on either side of the operator point towards the same memory location and False otherwise.\n",
    "- var1 is var2 results to True if id(var1) is equal to id(var2)"
   ]
  },
  {
   "cell_type": "code",
   "execution_count": 75,
   "id": "64f366b8-1187-483d-8fee-a9b2207223cd",
   "metadata": {},
   "outputs": [],
   "source": [
    "num1 = 5"
   ]
  },
  {
   "cell_type": "code",
   "execution_count": 76,
   "id": "61eceefe-15ce-439d-9851-7580a76a430f",
   "metadata": {},
   "outputs": [
    {
     "data": {
      "text/plain": [
       "True"
      ]
     },
     "execution_count": 76,
     "metadata": {},
     "output_type": "execute_result"
    }
   ],
   "source": [
    "type(num1) is int"
   ]
  },
  {
   "cell_type": "code",
   "execution_count": 77,
   "id": "19ecd4e0-dc30-4304-ba26-3be62a7d0c6b",
   "metadata": {},
   "outputs": [],
   "source": [
    "num2 = num1"
   ]
  },
  {
   "cell_type": "code",
   "execution_count": 78,
   "id": "aa90f44c-5e90-4956-bfad-942a93863a2d",
   "metadata": {},
   "outputs": [
    {
     "data": {
      "text/plain": [
       "140714105496616"
      ]
     },
     "execution_count": 78,
     "metadata": {},
     "output_type": "execute_result"
    }
   ],
   "source": [
    "id(num1)"
   ]
  },
  {
   "cell_type": "code",
   "execution_count": 79,
   "id": "e4a8b7ce-5e94-49d6-bbe0-70439bf298e0",
   "metadata": {},
   "outputs": [
    {
     "data": {
      "text/plain": [
       "140714105496616"
      ]
     },
     "execution_count": 79,
     "metadata": {},
     "output_type": "execute_result"
    }
   ],
   "source": [
    "id(num2)"
   ]
  },
  {
   "cell_type": "code",
   "execution_count": 80,
   "id": "9b6ec7f2-2f22-47b2-814f-84a1ec882fdc",
   "metadata": {},
   "outputs": [
    {
     "data": {
      "text/plain": [
       "True"
      ]
     },
     "execution_count": 80,
     "metadata": {},
     "output_type": "execute_result"
    }
   ],
   "source": [
    "num1 is num2"
   ]
  },
  {
   "cell_type": "markdown",
   "id": "4c48a616-2ac8-463a-94b6-06a92a7b1839",
   "metadata": {},
   "source": [
    "### ` is not ` :\n",
    "- Evaluates to False if the variables on either side of the operator point to the same memory location and True otherwise.\n",
    "- var1is not var2 results to True if id(var1) is not equal to id(var2)."
   ]
  },
  {
   "cell_type": "code",
   "execution_count": 81,
   "id": "5934faed-585b-498f-840b-1cb3da54793e",
   "metadata": {},
   "outputs": [
    {
     "data": {
      "text/plain": [
       "False"
      ]
     },
     "execution_count": 81,
     "metadata": {},
     "output_type": "execute_result"
    }
   ],
   "source": [
    "num1 is not num2"
   ]
  },
  {
   "cell_type": "markdown",
   "id": "719f9628-4c53-4b2d-b077-9d714a1c9ee4",
   "metadata": {},
   "source": [
    "## 6. Membership Operators :\n",
    "- Membership operators are used to check if a value is a member of the given sequence or not."
   ]
  },
  {
   "cell_type": "markdown",
   "id": "7565dad7-3613-4609-a7f1-43a67512a56f",
   "metadata": {},
   "source": [
    "### `in` :\n",
    "- Returns True if the variable/value is found in the specified sequence and False otherwise."
   ]
  },
  {
   "cell_type": "code",
   "execution_count": 82,
   "id": "eec816c8-80ca-4328-bd1f-79e3bb1a5cd3",
   "metadata": {},
   "outputs": [],
   "source": [
    "a = [1,2,3]"
   ]
  },
  {
   "cell_type": "code",
   "execution_count": 83,
   "id": "6853355f-f3e8-46ad-8463-9b997a9d03df",
   "metadata": {},
   "outputs": [
    {
     "data": {
      "text/plain": [
       "True"
      ]
     },
     "execution_count": 83,
     "metadata": {},
     "output_type": "execute_result"
    }
   ],
   "source": [
    "2 in a"
   ]
  },
  {
   "cell_type": "code",
   "execution_count": 84,
   "id": "3cd5b9c7-6625-4ec7-924a-a560e002b24d",
   "metadata": {},
   "outputs": [
    {
     "data": {
      "text/plain": [
       "False"
      ]
     },
     "execution_count": 84,
     "metadata": {},
     "output_type": "execute_result"
    }
   ],
   "source": [
    "\"1\" in a "
   ]
  },
  {
   "cell_type": "markdown",
   "id": "c03ebfc8-2142-4c03-972d-7fed06c3db4c",
   "metadata": {},
   "source": [
    "### `not in` :\n",
    "- Returns True if the variable/value is not found in the specified sequence and False otherwise."
   ]
  },
  {
   "cell_type": "code",
   "execution_count": 85,
   "id": "01a20e47-24c0-4643-85ef-fe23786a085d",
   "metadata": {},
   "outputs": [],
   "source": [
    "a = [1,2,3]"
   ]
  },
  {
   "cell_type": "code",
   "execution_count": 86,
   "id": "fd9799d5-be0b-44a1-b73f-34b6348f7d34",
   "metadata": {},
   "outputs": [
    {
     "data": {
      "text/plain": [
       "True"
      ]
     },
     "execution_count": 86,
     "metadata": {},
     "output_type": "execute_result"
    }
   ],
   "source": [
    "10 not in a "
   ]
  },
  {
   "cell_type": "code",
   "execution_count": 87,
   "id": "af44483e-20f2-49ba-8cce-89eaf0658380",
   "metadata": {},
   "outputs": [
    {
     "data": {
      "text/plain": [
       "False"
      ]
     },
     "execution_count": 87,
     "metadata": {},
     "output_type": "execute_result"
    }
   ],
   "source": [
    "1 not in a "
   ]
  },
  {
   "cell_type": "code",
   "execution_count": null,
   "id": "adfef6a4-bc22-452f-a001-aeb5fa3e7ea1",
   "metadata": {},
   "outputs": [],
   "source": []
  },
  {
   "cell_type": "code",
   "execution_count": null,
   "id": "3db5e431-08d0-48d7-87e2-a642c6de8cf8",
   "metadata": {},
   "outputs": [],
   "source": []
  },
  {
   "cell_type": "markdown",
   "id": "b8537a63-735d-4d13-a0a5-6d94b2d7a9a6",
   "metadata": {},
   "source": [
    "# Expressions :"
   ]
  },
  {
   "cell_type": "markdown",
   "id": "68c022cc-f3bf-4632-ab54-cdb5b32329c5",
   "metadata": {},
   "source": [
    "- An expression is defined as a combination of constants, variables, and operators.\n",
    "- An expression always evaluates to a value.\n",
    "- A value or a standalone variable is also considered as an expression but a standalone \n",
    "operator is not an expression."
   ]
  },
  {
   "cell_type": "code",
   "execution_count": 88,
   "id": "4a08d206-84b9-4baa-ac5e-c56b064ca6ec",
   "metadata": {},
   "outputs": [],
   "source": [
    "# Some examples of valid expressions are given below.\n",
    "# 100\n",
    "# num\n",
    "# num - 20.4\n",
    "# 3.0 + 3.14\n",
    "# 23/3 - 5 * 7(14 - 2)\n",
    "# \"Global\" + \"Citizen\""
   ]
  },
  {
   "cell_type": "markdown",
   "id": "81512903-cc67-4c39-9ce2-a53187f0ee76",
   "metadata": {},
   "source": [
    "# Precedence of Operators :"
   ]
  },
  {
   "cell_type": "markdown",
   "id": "3666c94f-0133-4fb5-8ab5-e61e4ef4a388",
   "metadata": {},
   "source": [
    "- Evaluation of the expression is based on precedence of operators.\n",
    "- When an expression contains different kinds of operators, precedence determines which operator should be applied first.\n",
    "- Higher precedence operator is evaluated before the lower precedence operator.\n",
    "- Most of the operators studied till now are binary operators. \n",
    "- Binary operators are operators with two operands."
   ]
  },
  {
   "cell_type": "markdown",
   "id": "a32594d6-9819-49c0-a686-b803679dc768",
   "metadata": {},
   "source": [
    "## Note : \n",
    "- Parenthesis can be used to override the precedence of operators.\n",
    "- The expression within () is evaluated first.\n",
    "- For operators with equal precedence, the expression is evaluated from left to right."
   ]
  },
  {
   "cell_type": "code",
   "execution_count": 89,
   "id": "9fc03e3f-2291-4fdf-99e6-0659105bc1df",
   "metadata": {},
   "outputs": [
    {
     "data": {
      "text/plain": [
       "1220"
      ]
     },
     "execution_count": 89,
     "metadata": {},
     "output_type": "execute_result"
    }
   ],
   "source": [
    "# Example 1 : How will python evaluate the following expression?\n",
    "20 + 30 * 40"
   ]
  },
  {
   "cell_type": "code",
   "execution_count": 90,
   "id": "d85c001f-5dd2-4b25-b753-128df9f4a836",
   "metadata": {},
   "outputs": [
    {
     "data": {
      "text/plain": [
       "30"
      ]
     },
     "execution_count": 90,
     "metadata": {},
     "output_type": "execute_result"
    }
   ],
   "source": [
    "# Example 2 : How will Python evaluate the following expression?\n",
    "20 - 30 + 40\n",
    "# The two operators (–) and (+) have equal precedence. "
   ]
  },
  {
   "cell_type": "code",
   "execution_count": 91,
   "id": "8b016958-0d20-4711-ab42-6cf97bdfb1bc",
   "metadata": {},
   "outputs": [
    {
     "data": {
      "text/plain": [
       "2000"
      ]
     },
     "execution_count": 91,
     "metadata": {},
     "output_type": "execute_result"
    }
   ],
   "source": [
    "# Example 3 : How will Python evaluate the following expression?\n",
    "(20 + 30 ) * 40"
   ]
  },
  {
   "cell_type": "code",
   "execution_count": 92,
   "id": "41937511-d3cf-4fd6-8866-a448aff95fe7",
   "metadata": {},
   "outputs": [
    {
     "data": {
      "text/plain": [
       "14.75"
      ]
     },
     "execution_count": 92,
     "metadata": {},
     "output_type": "execute_result"
    }
   ],
   "source": [
    "# Example 4 : How will the following expression be evaluated in Python?\n",
    "15.0 / 4 + (8 + 3.0) "
   ]
  },
  {
   "cell_type": "markdown",
   "id": "45da60bd-40b4-44d5-9592-8aacb7a19d9f",
   "metadata": {},
   "source": [
    "# Statement :\n",
    "- A statement is a unit of code that the Python interpreter can execute."
   ]
  },
  {
   "cell_type": "code",
   "execution_count": 93,
   "id": "890d222e-b6bc-4c19-b4e6-c227463b4084",
   "metadata": {},
   "outputs": [
    {
     "name": "stdout",
     "output_type": "stream",
     "text": [
      "4 64\n"
     ]
    }
   ],
   "source": [
    "x = 4 # assignment statement\n",
    "cube = x**3 # assignment statement\n",
    "print(x,cube) # print statement"
   ]
  },
  {
   "cell_type": "code",
   "execution_count": null,
   "id": "b6c6fff0-0598-43c7-9967-c763b1c4878f",
   "metadata": {},
   "outputs": [],
   "source": []
  },
  {
   "cell_type": "markdown",
   "id": "e2c5c0cb-7ebc-49ad-90d2-2c2db7cf30fd",
   "metadata": {},
   "source": [
    "# Input and Output :\n",
    "### Input : \n",
    "- Sometimes,  program needs to interact with the user’s to get some input data or information from the end user and process it to give the desired output.\n",
    "- In Python, we have the input() function for taking the user input.\n",
    "- The input() function prompts the user to enter data.\n",
    "- It accepts all user input as string.\n",
    "- The user may enter a number or a string but the input() function treats them as strings only."
   ]
  },
  {
   "cell_type": "code",
   "execution_count": 9,
   "id": "d09a044a-7777-4510-ab8b-407e34c4ebd4",
   "metadata": {},
   "outputs": [],
   "source": [
    "# The syntax for input() is: input ([Prompt])"
   ]
  },
  {
   "cell_type": "markdown",
   "id": "fce190fc-8ee6-4b28-9a8b-826c09823761",
   "metadata": {},
   "source": [
    "- Prompt is the string we may like to display on the screen prior to taking the input, and it is optional.\n",
    "- When a prompt is specified, first it is displayed on the screen after which the user can enter data.\n",
    "- The input() takes exactly what is typed from the keyboard, converts it into a string and assigns it to the variable on left-hand side of the assignment operator (=).\n",
    "- Entering data for the input function is terminated by pressing the enter key."
   ]
  },
  {
   "cell_type": "code",
   "execution_count": 11,
   "id": "767574b6-c822-40db-8578-a337aebbd2e6",
   "metadata": {},
   "outputs": [
    {
     "name": "stdin",
     "output_type": "stream",
     "text": [
      "Enter your first name :  Kurshed\n"
     ]
    }
   ],
   "source": [
    "fname = input(\"Enter your first name : \")"
   ]
  },
  {
   "cell_type": "code",
   "execution_count": 13,
   "id": "7e4b5c80-42c3-44e9-9b75-1a790b52f3d2",
   "metadata": {},
   "outputs": [
    {
     "name": "stdin",
     "output_type": "stream",
     "text": [
      "Enter your age : 23\n"
     ]
    }
   ],
   "source": [
    "age = input(\"Enter your age :\")"
   ]
  },
  {
   "cell_type": "code",
   "execution_count": 14,
   "id": "deb700fd-06ec-40b1-8bae-2b95a2bdb6fb",
   "metadata": {},
   "outputs": [
    {
     "data": {
      "text/plain": [
       "str"
      ]
     },
     "execution_count": 14,
     "metadata": {},
     "output_type": "execute_result"
    }
   ],
   "source": [
    "type(age)"
   ]
  },
  {
   "cell_type": "markdown",
   "id": "f6da3b15-b457-4ccd-b67a-a36a98af81d5",
   "metadata": {},
   "source": [
    "- We can typecast or change the datatype of the string data accepted from user to an appropriate numeric value.\n",
    "- For example, the following statement will convert the accepted string to an integer.\n",
    "- If the user enters any non-numeric value, an error will be generated."
   ]
  },
  {
   "cell_type": "code",
   "execution_count": 15,
   "id": "6d85f4bc-72fe-4346-a6f1-f3171dfec94b",
   "metadata": {},
   "outputs": [
    {
     "name": "stdin",
     "output_type": "stream",
     "text": [
      "Enter your age : 23\n"
     ]
    }
   ],
   "source": [
    "# function int() to convert string to integer\n",
    "age = int(input(\"Enter your age :\"))"
   ]
  },
  {
   "cell_type": "code",
   "execution_count": 16,
   "id": "c006dd7f-e383-4510-9dbe-763b46d75e19",
   "metadata": {},
   "outputs": [
    {
     "data": {
      "text/plain": [
       "int"
      ]
     },
     "execution_count": 16,
     "metadata": {},
     "output_type": "execute_result"
    }
   ],
   "source": [
    "type(age)"
   ]
  },
  {
   "cell_type": "markdown",
   "id": "cae8a129-69aa-4b4f-90eb-bdb9ba4de858",
   "metadata": {},
   "source": [
    "### Output\n",
    "- Python uses the print() function to output data to standard output device — the screen.\n",
    "- The function print() evaluates the expression before displaying it on the screen.\n",
    "- The print() outputs a complete line and then moves to the next line for subsequent output."
   ]
  },
  {
   "cell_type": "code",
   "execution_count": 17,
   "id": "fe7b5d81-b01d-40f8-a20f-fbf5796a92ab",
   "metadata": {},
   "outputs": [],
   "source": [
    "# The syntax for print() is: print(value [, ..., sep = ' ', end = '\\n'])"
   ]
  },
  {
   "cell_type": "markdown",
   "id": "bfacfa99-f3ab-407f-8526-558d53186eb1",
   "metadata": {},
   "source": [
    "#### ` sep : `\n",
    "- The optional parameter sep is a separator between the output values.\n",
    "- We can use a character, integer or a string as a separator.\n",
    "- The default separator is space."
   ]
  },
  {
   "cell_type": "markdown",
   "id": "9f2447ea-3877-46e5-9373-75d9bdb7fceb",
   "metadata": {},
   "source": [
    "#### `end: `\n",
    "- This is also optional and it allows us to specify any string to be appended after the last \n",
    "value.\n",
    "- The default is a new line."
   ]
  },
  {
   "cell_type": "code",
   "execution_count": 18,
   "id": "cff0ff8c-10d3-461b-a210-35dc7ddb243b",
   "metadata": {},
   "outputs": [
    {
     "name": "stdout",
     "output_type": "stream",
     "text": [
      "Hello\n"
     ]
    }
   ],
   "source": [
    "print(\"Hello\")"
   ]
  },
  {
   "cell_type": "code",
   "execution_count": 19,
   "id": "6f989416-3199-477b-8288-25fb2c230a71",
   "metadata": {},
   "outputs": [
    {
     "name": "stdout",
     "output_type": "stream",
     "text": [
      "25.0\n"
     ]
    }
   ],
   "source": [
    "print(10*2.5)"
   ]
  },
  {
   "cell_type": "code",
   "execution_count": 22,
   "id": "44110c7e-19c2-4c1c-be16-2ad83019416a",
   "metadata": {},
   "outputs": [
    {
     "name": "stdout",
     "output_type": "stream",
     "text": [
      "ILoveMyCountry\n"
     ]
    }
   ],
   "source": [
    "print(\"I\" + \"Love\" + \"My\" + \"Country\")"
   ]
  },
  {
   "cell_type": "code",
   "execution_count": 23,
   "id": "67f77dc5-6225-459a-8f49-358969d8791a",
   "metadata": {},
   "outputs": [],
   "source": [
    "# print function in the above example is \n",
    "# concatenating strings, and we use + (plus) between \n",
    "# two strings to concatenate them."
   ]
  },
  {
   "cell_type": "code",
   "execution_count": 24,
   "id": "5e7b2ccf-bdab-42c8-bc38-5a00bd194696",
   "metadata": {},
   "outputs": [
    {
     "name": "stdout",
     "output_type": "stream",
     "text": [
      "I'm 23  Year old\n"
     ]
    }
   ],
   "source": [
    "print(\"I'm\", 23,\" Year old\")"
   ]
  },
  {
   "cell_type": "code",
   "execution_count": 25,
   "id": "60f10512-af46-4721-a71f-c8e6d622c4e6",
   "metadata": {},
   "outputs": [],
   "source": [
    "# print function also appears to be concatenating strings \n",
    "# but uses commas (,) between strings."
   ]
  },
  {
   "cell_type": "markdown",
   "id": "395a8f00-aece-4d8b-ada9-3f783f6c94df",
   "metadata": {},
   "source": [
    "-  Actually, here we are passing multiple arguments, separated by commas to the print function.\n",
    "-  As arguments can be of different types, hence the print function accepts integer (16) along with strings here.\n",
    "-  But in case the print statement has values of different types and ‘+’ is used instead of comma, it will generate an error."
   ]
  },
  {
   "cell_type": "markdown",
   "id": "68f64eff-190e-4734-ba25-873814fb0297",
   "metadata": {},
   "source": [
    "# Type Conversion"
   ]
  },
  {
   "cell_type": "code",
   "execution_count": 26,
   "id": "3f23d483-ef47-40b5-b359-6dd9682ab5b9",
   "metadata": {},
   "outputs": [
    {
     "name": "stdin",
     "output_type": "stream",
     "text": [
      "Enter a number and I'll double it. 10\n"
     ]
    }
   ],
   "source": [
    "num1 = input(\"Enter a number and I'll double it.\")"
   ]
  },
  {
   "cell_type": "code",
   "execution_count": 27,
   "id": "2b0a131a-dd6b-4c5e-bf9e-6cb4acb60fd2",
   "metadata": {},
   "outputs": [
    {
     "name": "stdout",
     "output_type": "stream",
     "text": [
      "1010\n"
     ]
    }
   ],
   "source": [
    "num1 = num1*2\n",
    "print(num1)"
   ]
  },
  {
   "cell_type": "code",
   "execution_count": 29,
   "id": "fb9f9a6c-8095-4f3d-917d-d2dfcaa2b809",
   "metadata": {},
   "outputs": [
    {
     "name": "stdin",
     "output_type": "stream",
     "text": [
      "Enter a number and I'll double it: 23\n"
     ]
    },
    {
     "name": "stdout",
     "output_type": "stream",
     "text": [
      "46\n"
     ]
    }
   ],
   "source": [
    "num1 = input(\"Enter a number and I'll double it:\")\n",
    "num1 = int(num1) #convert string input to integer\n",
    "num1 = num1 * 2\n",
    "print(num1)"
   ]
  },
  {
   "cell_type": "code",
   "execution_count": 31,
   "id": "3f5e11ec-e86e-4774-bc55-496e35808f6d",
   "metadata": {},
   "outputs": [],
   "source": [
    "# What is type conversion and how it works? "
   ]
  },
  {
   "cell_type": "markdown",
   "id": "44f5bfa4-a757-49d3-a52a-40153b8c2b51",
   "metadata": {},
   "source": [
    "- We can change the data type of a variable in Python from one type to another.\n",
    "- Such data type conversion can happen in two ways:\n",
    "  1. Either explicitly (forced) when the programmer specifies for the interpreter to convert a data type to another type;\n",
    "  2. Or implicitly, when the interpreter understands such a need by itself and does the type \n",
    "conversion automatically. "
   ]
  },
  {
   "cell_type": "markdown",
   "id": "4cc8a69f-c601-485b-8345-8347e2f2e0aa",
   "metadata": {},
   "source": [
    "## 1. Explicit Conversion"
   ]
  },
  {
   "cell_type": "markdown",
   "id": "08ed5a5e-f9d5-4194-a9d7-f52568282a2b",
   "metadata": {},
   "source": [
    "- Explicit conversion, also called type casting happens when data type conversion takes place because the programmer forced it in the program.\n",
    "- The general form of an explicit data type conversion is:"
   ]
  },
  {
   "cell_type": "code",
   "execution_count": 32,
   "id": "1f4f89ee-3fc8-4221-b33c-096e00f63d8e",
   "metadata": {},
   "outputs": [],
   "source": [
    "# (new_data_type) (expression)"
   ]
  },
  {
   "cell_type": "markdown",
   "id": "fa3601f6-fea5-456f-b9a1-637d74ea42c8",
   "metadata": {},
   "source": [
    "- With explicit type conversion, there is a risk of loss of information since we are forcing an expression to be of a specific type. "
   ]
  },
  {
   "cell_type": "code",
   "execution_count": 33,
   "id": "85b6e766-cf85-4ba7-ad49-73a585ef12c0",
   "metadata": {},
   "outputs": [],
   "source": [
    "x = 20.67"
   ]
  },
  {
   "cell_type": "code",
   "execution_count": 34,
   "id": "8e49976e-9b8f-46f9-9d5b-3f2d8cdb8dea",
   "metadata": {},
   "outputs": [
    {
     "data": {
      "text/plain": [
       "20"
      ]
     },
     "execution_count": 34,
     "metadata": {},
     "output_type": "execute_result"
    }
   ],
   "source": [
    "int(x)"
   ]
  },
  {
   "cell_type": "code",
   "execution_count": 36,
   "id": "4b42812a-ab62-4a0e-8d2a-a31b4dc6d475",
   "metadata": {},
   "outputs": [],
   "source": [
    "# .67 loss"
   ]
  },
  {
   "cell_type": "markdown",
   "id": "6355eddc-1ac5-4ae2-9253-7b35db5dbdb5",
   "metadata": {},
   "source": [
    "####  Explicit type conversion functions in Python"
   ]
  },
  {
   "cell_type": "code",
   "execution_count": 37,
   "id": "789c21d9-3016-4bff-a9b4-750d29801fad",
   "metadata": {},
   "outputs": [],
   "source": [
    "# int(x) ==> convert x to an integer\n",
    "# float(x) ==> convert x to a floating-point number\n",
    "# str(x) ==> convert x to a string representation\n",
    "# char(x) ==> convert ASCII value of x to character\n",
    "# ord(x) ==> returns the character associated with the ASCII code x"
   ]
  },
  {
   "cell_type": "code",
   "execution_count": 38,
   "id": "76d1bfe5-b194-405f-abb0-5e5f1c320434",
   "metadata": {},
   "outputs": [
    {
     "name": "stdout",
     "output_type": "stream",
     "text": [
      "30\n",
      "<class 'int'>\n",
      "30.0\n",
      "<class 'float'>\n"
     ]
    }
   ],
   "source": [
    "# Program of explicit type conversion from int to float.\n",
    "num1 = 10\n",
    "num2 = 20\n",
    "num3 = num1 + num2\n",
    "print(num3)\n",
    "print(type(num3))\n",
    "num4 = float(num1 + num2)\n",
    "print(num4)\n",
    "print(type(num4))"
   ]
  },
  {
   "cell_type": "code",
   "execution_count": 39,
   "id": "ceebcaab-3db4-4df8-b027-ddb5816d070d",
   "metadata": {},
   "outputs": [],
   "source": [
    "# Program of explicit type conversion from float to int.\n",
    "num1 = 10.2\n",
    "num2 = 20.6\n",
    "num3 = (num1 + num2)"
   ]
  },
  {
   "cell_type": "code",
   "execution_count": 40,
   "id": "3d442ed3-9a2b-4e8f-8fe5-ac88e1ad9f51",
   "metadata": {},
   "outputs": [
    {
     "name": "stdout",
     "output_type": "stream",
     "text": [
      "30.8\n",
      "<class 'float'>\n"
     ]
    }
   ],
   "source": [
    "print(num3)\n",
    "print(type(num3))"
   ]
  },
  {
   "cell_type": "code",
   "execution_count": 41,
   "id": "d0d5a816-dffe-41ae-bdaf-1308278c3170",
   "metadata": {},
   "outputs": [],
   "source": [
    "num4 = num1 + num2"
   ]
  },
  {
   "cell_type": "code",
   "execution_count": 42,
   "id": "14e80211-09f0-42ee-a2ac-7cbf7f1e4f65",
   "metadata": {},
   "outputs": [],
   "source": [
    "num4 = int(num4)"
   ]
  },
  {
   "cell_type": "code",
   "execution_count": 43,
   "id": "5f75d0f8-dbe7-4179-b92b-35497eb4c304",
   "metadata": {},
   "outputs": [
    {
     "name": "stdout",
     "output_type": "stream",
     "text": [
      "30\n",
      "<class 'int'>\n"
     ]
    }
   ],
   "source": [
    "print(num4)\n",
    "print(type(num4))"
   ]
  },
  {
   "cell_type": "code",
   "execution_count": 45,
   "id": "c6b3a97e-2ef9-4e0a-956a-ca62423f9bf0",
   "metadata": {},
   "outputs": [],
   "source": [
    "# Type conversion between Numbers and Strings\n",
    "priceIcecream = 25\n",
    "priceBrownie = 45"
   ]
  },
  {
   "cell_type": "code",
   "execution_count": 46,
   "id": "2a652a91-f2f9-419c-a69e-c93275f571a9",
   "metadata": {},
   "outputs": [],
   "source": [
    "totalPrice = priceIcecream + priceBrownie"
   ]
  },
  {
   "cell_type": "code",
   "execution_count": 48,
   "id": "590d1e3e-ff0c-464c-ab3c-2ffe0d07c332",
   "metadata": {},
   "outputs": [
    {
     "ename": "TypeError",
     "evalue": "can only concatenate str (not \"int\") to str",
     "output_type": "error",
     "traceback": [
      "\u001b[1;31m---------------------------------------------------------------------------\u001b[0m",
      "\u001b[1;31mTypeError\u001b[0m                                 Traceback (most recent call last)",
      "Cell \u001b[1;32mIn[48], line 1\u001b[0m\n\u001b[1;32m----> 1\u001b[0m \u001b[38;5;28mprint\u001b[39m(\u001b[38;5;124;43m\"\u001b[39;49m\u001b[38;5;124;43mThe total is Rs.\u001b[39;49m\u001b[38;5;124;43m\"\u001b[39;49m\u001b[43m \u001b[49m\u001b[38;5;241;43m+\u001b[39;49m\u001b[43m \u001b[49m\u001b[43mtotalPrice\u001b[49m)\n",
      "\u001b[1;31mTypeError\u001b[0m: can only concatenate str (not \"int\") to str"
     ]
    }
   ],
   "source": [
    "print(\"The total is Rs.\" + totalPrice)"
   ]
  },
  {
   "cell_type": "code",
   "execution_count": 49,
   "id": "e464c8f9-e276-4d4c-a745-c6c615d4b4d6",
   "metadata": {},
   "outputs": [
    {
     "name": "stdout",
     "output_type": "stream",
     "text": [
      "The total is Rs.  70\n"
     ]
    }
   ],
   "source": [
    "print(\"The total is Rs. \" , totalPrice)"
   ]
  },
  {
   "cell_type": "code",
   "execution_count": 50,
   "id": "e9f0df76-f0f9-4bb9-b823-a6efc523fa3f",
   "metadata": {},
   "outputs": [
    {
     "name": "stdout",
     "output_type": "stream",
     "text": [
      "The total in Rs.70\n"
     ]
    }
   ],
   "source": [
    "# Explicit type casting\n",
    "print(\"The total in Rs.\" + str(totalPrice))"
   ]
  },
  {
   "cell_type": "code",
   "execution_count": 52,
   "id": "25f7f09a-5ecf-40dc-9533-3aec6ad1f01a",
   "metadata": {},
   "outputs": [
    {
     "name": "stdout",
     "output_type": "stream",
     "text": [
      "Total Price Rs.2545\n"
     ]
    }
   ],
   "source": [
    "# Explicit type conversion\n",
    "icecream = '25'\n",
    "brownie = '45'\n",
    "# String concatenation\n",
    "price = icecream + brownie\n",
    "print(\"Total Price Rs.\" + price)"
   ]
  },
  {
   "cell_type": "code",
   "execution_count": 54,
   "id": "d58de8af-bf9c-4ce4-9daf-4070e8b6e11d",
   "metadata": {},
   "outputs": [
    {
     "name": "stdout",
     "output_type": "stream",
     "text": [
      "Total Price Rs. 70\n"
     ]
    }
   ],
   "source": [
    "# Explicit type conversion - string to integer\n",
    "price = int(icecream) + int(brownie)\n",
    "print(\"Total Price Rs. \" + str(price))"
   ]
  },
  {
   "cell_type": "markdown",
   "id": "d1f15838-fe9e-46ad-9c5c-5ee721f6f8d5",
   "metadata": {},
   "source": [
    "## Implicit Conversion"
   ]
  },
  {
   "cell_type": "code",
   "execution_count": 56,
   "id": "0fcb728c-2f3a-4621-804c-e99fbedaee29",
   "metadata": {},
   "outputs": [],
   "source": [
    "# Implicit conversion, also known as coercion, happens \n",
    "# when data type conversion is done automatically by \n",
    "# Python and is not instructed by the programmer."
   ]
  },
  {
   "cell_type": "code",
   "execution_count": 58,
   "id": "6058d235-6555-4beb-8ad4-5533417c008c",
   "metadata": {},
   "outputs": [
    {
     "name": "stdout",
     "output_type": "stream",
     "text": [
      "30.0\n",
      "<class 'float'>\n"
     ]
    }
   ],
   "source": [
    "# Implicit type conversion from int to float\n",
    "num1 = 10 # num1 is an integer\n",
    "num2 = 20.0 # num2 is a float\n",
    "sum1 = num1 + num2 # sum1 is sum of a float\n",
    "print(sum1)\n",
    "print(type(sum1))"
   ]
  },
  {
   "cell_type": "markdown",
   "id": "c260eab9-ceb7-41ca-8d2c-69de58e06911",
   "metadata": {},
   "source": [
    "# Why was the float value not converted to an integer instead?"
   ]
  },
  {
   "cell_type": "markdown",
   "id": "8fe8b317-4293-4cfc-a693-3c8cbaf23a7b",
   "metadata": {},
   "source": [
    "# Answer :\n",
    "- This is due to type promotion that allows performing operations (whenever possible) by converting data into a wider-sized data type without any loss of information."
   ]
  },
  {
   "cell_type": "markdown",
   "id": "3cf7654d-ca0d-4710-bdeb-48e9952e6747",
   "metadata": {},
   "source": [
    "# Debugging :"
   ]
  },
  {
   "cell_type": "markdown",
   "id": "ef337d98-98e9-4ef8-b147-d4ec5bdcef0d",
   "metadata": {},
   "source": [
    "- A programmer can make mistakes while writing a program, and hence, the program may not execute or may generate wrong output.\n",
    "- The process of identifying and removing such mistakes, also known as bugs or errors, from a program is called debugging. "
   ]
  },
  {
   "cell_type": "code",
   "execution_count": 59,
   "id": "da7a9c75-c560-47d0-b7dc-a9f512775d3f",
   "metadata": {},
   "outputs": [],
   "source": [
    "# Errors occurring in programs can be categorised as :\n",
    "# 1. Syntax errors\n",
    "# 2. Logical errors\n",
    "# 3. Runtime errors"
   ]
  },
  {
   "cell_type": "markdown",
   "id": "c9fba69c-89b6-4f6b-99d4-11b5a7b53648",
   "metadata": {},
   "source": [
    "## 1. Syntax Errors :\n",
    "- Python has its own rules that determine its syntax.\n",
    "- The interpreter interprets the statements only if it is syntactically (as per the rules of Python) correct.\n",
    "- If any syntax error is present, the interpreter shows error message(s) and stops the execution there."
   ]
  },
  {
   "cell_type": "code",
   "execution_count": 60,
   "id": "7a3af0fe-8dd4-4c2f-b167-8738069a5ff8",
   "metadata": {},
   "outputs": [
    {
     "data": {
      "text/plain": [
       "22"
      ]
     },
     "execution_count": 60,
     "metadata": {},
     "output_type": "execute_result"
    }
   ],
   "source": [
    "(10 + 12) # is syntactically correct"
   ]
  },
  {
   "cell_type": "code",
   "execution_count": 63,
   "id": "fd22d1ca-f914-4e25-86ea-4a4ba9b5ad0d",
   "metadata": {},
   "outputs": [
    {
     "ename": "_IncompleteInputError",
     "evalue": "incomplete input (4082658182.py, line 1)",
     "output_type": "error",
     "traceback": [
      "\u001b[1;36m  Cell \u001b[1;32mIn[63], line 1\u001b[1;36m\u001b[0m\n\u001b[1;33m    (10 + 12 # is not syntactically correct\u001b[0m\n\u001b[1;37m                                           ^\u001b[0m\n\u001b[1;31m_IncompleteInputError\u001b[0m\u001b[1;31m:\u001b[0m incomplete input\n"
     ]
    }
   ],
   "source": [
    "(10 + 12 # is not syntactically correct"
   ]
  },
  {
   "cell_type": "markdown",
   "id": "d44dcde3-00b7-40b7-8ccc-186cea4807af",
   "metadata": {},
   "source": [
    "## 2. Logical Errors"
   ]
  },
  {
   "cell_type": "markdown",
   "id": "4a8c5207-84fb-4284-b0fa-9266fb026cb1",
   "metadata": {},
   "source": [
    "- A logical error is a bug in the program that causes it to behave incorrectly.\n",
    "- A logical error produces an undesired output but without abrupt termination of the execution of the program.\n",
    "- Since the program interprets successfully even when logical errors are present in it, it is sometimes difficult to identify these errors.\n",
    "- The only evidence to the existence of logical errors is the wrong output.\n",
    "- While working backwards from the output of the program, one can identify what went wrong. "
   ]
  },
  {
   "cell_type": "code",
   "execution_count": 64,
   "id": "c473c62d-8f10-4602-85fc-18dd89024687",
   "metadata": {},
   "outputs": [
    {
     "name": "stdout",
     "output_type": "stream",
     "text": [
      "16.0\n"
     ]
    }
   ],
   "source": [
    "# Find the average of two numbers\n",
    "num1 = 10\n",
    "num2 = 12\n",
    "print(num1 + num2 /2)"
   ]
  },
  {
   "cell_type": "code",
   "execution_count": 65,
   "id": "fd03ba6e-2dc5-4a18-a5fe-d7bca44db0fa",
   "metadata": {},
   "outputs": [
    {
     "name": "stdout",
     "output_type": "stream",
     "text": [
      "11.0\n"
     ]
    }
   ],
   "source": [
    "print((num1 + num2)/2)"
   ]
  },
  {
   "cell_type": "markdown",
   "id": "af8cd706-4115-423a-b039-9e435266a0bc",
   "metadata": {},
   "source": [
    "- Logical errors are also called semantic errors as they occur when the meaning of the program (its semantics) is not correct. "
   ]
  },
  {
   "cell_type": "markdown",
   "id": "fd1d9a18-e27e-485a-b1ea-9362b6da953b",
   "metadata": {},
   "source": [
    "## 3. Runtime Error"
   ]
  },
  {
   "cell_type": "markdown",
   "id": "accfb2d2-1a90-44f9-9943-80cbf4f20f72",
   "metadata": {},
   "source": [
    "- A runtime error causes abnormal termination of program while it is executing.\n",
    "- Runtime error is when the statement is correct syntactically, but the interpreter cannot execute it.\n",
    "- Runtime errors do not appear until after the program starts running or executing."
   ]
  },
  {
   "cell_type": "code",
   "execution_count": 66,
   "id": "1995ee87-9772-4531-b22c-60fbe67b89c0",
   "metadata": {},
   "outputs": [
    {
     "name": "stdin",
     "output_type": "stream",
     "text": [
      "num2 =  0\n"
     ]
    }
   ],
   "source": [
    "# Example of a program which generates runtime error.\n",
    "num1 = 10.0\n",
    "num2 = int(input(\"num2 = \"))"
   ]
  },
  {
   "cell_type": "code",
   "execution_count": 68,
   "id": "c720a4a0-6971-481f-9c85-04192d571aef",
   "metadata": {},
   "outputs": [
    {
     "ename": "ZeroDivisionError",
     "evalue": "float division by zero",
     "output_type": "error",
     "traceback": [
      "\u001b[1;31m---------------------------------------------------------------------------\u001b[0m",
      "\u001b[1;31mZeroDivisionError\u001b[0m                         Traceback (most recent call last)",
      "Cell \u001b[1;32mIn[68], line 1\u001b[0m\n\u001b[1;32m----> 1\u001b[0m \u001b[38;5;28mprint\u001b[39m(\u001b[43mnum1\u001b[49m\u001b[38;5;241;43m/\u001b[39;49m\u001b[43mnum2\u001b[49m)\n",
      "\u001b[1;31mZeroDivisionError\u001b[0m: float division by zero"
     ]
    }
   ],
   "source": [
    "print(num1/num2)"
   ]
  },
  {
   "cell_type": "code",
   "execution_count": null,
   "id": "84d912d8-dff3-4be2-a19f-542136b644b9",
   "metadata": {},
   "outputs": [],
   "source": []
  },
  {
   "cell_type": "code",
   "execution_count": null,
   "id": "5f95bb9d-0d85-4753-9ff4-19e1ab10fcbb",
   "metadata": {},
   "outputs": [],
   "source": []
  }
 ],
 "metadata": {
  "kernelspec": {
   "display_name": "Python 3 (ipykernel)",
   "language": "python",
   "name": "python3"
  },
  "language_info": {
   "codemirror_mode": {
    "name": "ipython",
    "version": 3
   },
   "file_extension": ".py",
   "mimetype": "text/x-python",
   "name": "python",
   "nbconvert_exporter": "python",
   "pygments_lexer": "ipython3",
   "version": "3.13.0"
  }
 },
 "nbformat": 4,
 "nbformat_minor": 5
}
