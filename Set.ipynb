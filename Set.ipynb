{
 "cells": [
  {
   "cell_type": "markdown",
   "id": "b5c0bba3-033e-4db6-b091-cbb7a1dc0b54",
   "metadata": {},
   "source": [
    "# Python set\n",
    "\n",
    "    A Python set is the collection of the unordered items.\n",
    "    \n",
    "    Each element in the set must be unique, immutable, and the sets remove the duplicate elements.\n",
    "\n",
    "    Sets are mutable which means we can modify it after its creation.\n",
    "\n",
    "    Unlike other collections in Python, there is no index attached to the elements of the set, i.e., \n",
    "    \n",
    "    we cannot directly access any element of the set by the index. \n",
    "    \n",
    "    However, we can print them all together, or we can get the list of elements by looping through the set."
   ]
  },
  {
   "cell_type": "markdown",
   "id": "b48e0c97-a646-44c2-a83c-e8d5b53acb9d",
   "metadata": {},
   "source": [
    "### Creating a set\n",
    "    1.The set can be created by enclosing the comma-separated immutable items with the curly braces {}.\n",
    "\n",
    "    2.Python also provides the set() method, Which can be used to create the set by the passed sequence."
   ]
  },
  {
   "cell_type": "code",
   "execution_count": 57,
   "id": "46d82fb5-41d6-4383-b936-53781ba1a726",
   "metadata": {},
   "outputs": [],
   "source": [
    "# Using curly braces\n",
    "Days = {\"Mon\",\"Tue\",\"Wed\",\"Thu\",\"Fri\",\"Sat\",\"Sun\"}"
   ]
  },
  {
   "cell_type": "code",
   "execution_count": 58,
   "id": "ae17260a-c1a1-444d-8e3c-63994d3ada0b",
   "metadata": {},
   "outputs": [
    {
     "data": {
      "text/plain": [
       "{'Fri', 'Mon', 'Sat', 'Sun', 'Thu', 'Tue', 'Wed'}"
      ]
     },
     "execution_count": 58,
     "metadata": {},
     "output_type": "execute_result"
    }
   ],
   "source": [
    "Days"
   ]
  },
  {
   "cell_type": "code",
   "execution_count": 59,
   "id": "69adc425-8e26-4302-be05-d80db763ccdf",
   "metadata": {},
   "outputs": [
    {
     "data": {
      "text/plain": [
       "set"
      ]
     },
     "execution_count": 59,
     "metadata": {},
     "output_type": "execute_result"
    }
   ],
   "source": [
    "type(Days)"
   ]
  },
  {
   "cell_type": "code",
   "execution_count": 60,
   "id": "aaf29eff-2aab-447c-9aae-6f87e69c4a3c",
   "metadata": {},
   "outputs": [
    {
     "name": "stdout",
     "output_type": "stream",
     "text": [
      "Week days Name : Mon\n",
      "Week days Name : Thu\n",
      "Week days Name : Wed\n",
      "Week days Name : Tue\n",
      "Week days Name : Sun\n",
      "Week days Name : Fri\n",
      "Week days Name : Sat\n"
     ]
    }
   ],
   "source": [
    "for i in Days:\n",
    "    print(\"Week days Name :\",i) "
   ]
  },
  {
   "cell_type": "code",
   "execution_count": 61,
   "id": "e2a1f589-9c88-4bef-bfa3-b36e2992114a",
   "metadata": {},
   "outputs": [],
   "source": [
    "# Using set() Method\n",
    "Days = set([\"Mon\",\"Tue\",\"Wed\",\"Thu\",\"Fri\",\"Sat\",\"Sun\"]);"
   ]
  },
  {
   "cell_type": "code",
   "execution_count": 62,
   "id": "917ed91d-8013-4889-8c0e-bc19d0396dc9",
   "metadata": {},
   "outputs": [
    {
     "data": {
      "text/plain": [
       "{'Fri', 'Mon', 'Sat', 'Sun', 'Thu', 'Tue', 'Wed'}"
      ]
     },
     "execution_count": 62,
     "metadata": {},
     "output_type": "execute_result"
    }
   ],
   "source": [
    "Days"
   ]
  },
  {
   "cell_type": "code",
   "execution_count": 63,
   "id": "b7a0d0e6-cec9-4c28-8663-20864006a560",
   "metadata": {},
   "outputs": [
    {
     "data": {
      "text/plain": [
       "set"
      ]
     },
     "execution_count": 63,
     "metadata": {},
     "output_type": "execute_result"
    }
   ],
   "source": [
    "\n",
    "type(Days)"
   ]
  },
  {
   "cell_type": "code",
   "execution_count": 64,
   "id": "501263f5-e783-47fe-a890-2a7de419da8f",
   "metadata": {},
   "outputs": [
    {
     "name": "stdout",
     "output_type": "stream",
     "text": [
      "Mon\n",
      "Fri\n",
      "Tue\n",
      "Sat\n",
      "Thu\n",
      "Sun\n",
      "Wed\n"
     ]
    }
   ],
   "source": [
    "for i in Days:\n",
    "    print(i)"
   ]
  },
  {
   "cell_type": "markdown",
   "id": "237cb0b4-ba7d-4cb6-9970-5805dfc5bb16",
   "metadata": {},
   "source": [
    "***It can contain any type of element such as integer ,float,String etc. But mutable elements (list,dictionary,set) can't be a member of set.***"
   ]
  },
  {
   "cell_type": "code",
   "execution_count": 65,
   "id": "da22f7da-4d0b-40c6-a395-9862f10e66b5",
   "metadata": {},
   "outputs": [],
   "source": [
    "set1 = {1,2,3,\"set\",20.5,14}"
   ]
  },
  {
   "cell_type": "code",
   "execution_count": 66,
   "id": "d787483f-0b77-4c3f-ab68-73771cba056e",
   "metadata": {},
   "outputs": [
    {
     "data": {
      "text/plain": [
       "set"
      ]
     },
     "execution_count": 66,
     "metadata": {},
     "output_type": "execute_result"
    }
   ],
   "source": [
    "set"
   ]
  },
  {
   "cell_type": "code",
   "execution_count": 67,
   "id": "c65d9e1c-165c-40c0-87cc-fdfddb815042",
   "metadata": {},
   "outputs": [
    {
     "data": {
      "text/plain": [
       "{1, 14, 2, 20.5, 3, 'set'}"
      ]
     },
     "execution_count": 67,
     "metadata": {},
     "output_type": "execute_result"
    }
   ],
   "source": [
    "set1"
   ]
  },
  {
   "cell_type": "code",
   "execution_count": 68,
   "id": "328b37d7-ab68-4532-aed9-949e89b6e8b3",
   "metadata": {},
   "outputs": [
    {
     "name": "stdout",
     "output_type": "stream",
     "text": [
      "{1, 2, 3, 'set'}\n"
     ]
    }
   ],
   "source": [
    "# Creating a set which have immutable elements with lists\n",
    "set1 = {1,2,3,(\"set\")}\n",
    "print(set1)"
   ]
  },
  {
   "cell_type": "code",
   "execution_count": 69,
   "id": "aaa9e9a4-a7f8-4c57-bb43-a9a44b587726",
   "metadata": {},
   "outputs": [
    {
     "ename": "TypeError",
     "evalue": "unhashable type: 'set'",
     "output_type": "error",
     "traceback": [
      "\u001b[1;31m---------------------------------------------------------------------------\u001b[0m",
      "\u001b[1;31mTypeError\u001b[0m                                 Traceback (most recent call last)",
      "Cell \u001b[1;32mIn[69], line 2\u001b[0m\n\u001b[0;32m      1\u001b[0m \u001b[38;5;66;03m# set in set elements\u001b[39;00m\n\u001b[1;32m----> 2\u001b[0m set2 \u001b[38;5;241m=\u001b[39m {\u001b[38;5;241m1\u001b[39m,\u001b[38;5;241m2\u001b[39m,\u001b[38;5;241m3\u001b[39m,{\u001b[38;5;124m\"\u001b[39m\u001b[38;5;124mhello\u001b[39m\u001b[38;5;124m\"\u001b[39m,\u001b[38;5;124m\"\u001b[39m\u001b[38;5;124mjello\u001b[39m\u001b[38;5;124m\"\u001b[39m}};\n\u001b[0;32m      3\u001b[0m \u001b[38;5;28mprint\u001b[39m(set2)\n",
      "\u001b[1;31mTypeError\u001b[0m: unhashable type: 'set'"
     ]
    }
   ],
   "source": [
    "# set in set elements\n",
    "set2 = {1,2,3,{\"hello\",\"jello\"}};\n",
    "print(set2)"
   ]
  },
  {
   "cell_type": "markdown",
   "id": "d24d2194-9692-414e-8eb9-8aa5a0851d5a",
   "metadata": {},
   "source": [
    "***In the above code, we have created two sets, the set set1 have immutable elements and set2 have one mutable element as a list. \n",
    "\n",
    "While checking the type of set2, it raised an error, which means set can contain only immutable elements.***"
   ]
  },
  {
   "cell_type": "markdown",
   "id": "aee817de-2a4a-4dfd-b028-5b9b581394fa",
   "metadata": {},
   "source": [
    "***Creating an empty set is a bit different because empty curly {} braces are also used to create a dictionary as well. \n",
    "\n",
    "So Python provides the set() method used without an argument to create an empty set.***\n",
    "\n"
   ]
  },
  {
   "cell_type": "code",
   "execution_count": 70,
   "id": "e7565705-dd19-4f9e-a62b-97d6413b251d",
   "metadata": {},
   "outputs": [
    {
     "ename": "NameError",
     "evalue": "name 'emp_dict' is not defined",
     "output_type": "error",
     "traceback": [
      "\u001b[1;31m---------------------------------------------------------------------------\u001b[0m",
      "\u001b[1;31mNameError\u001b[0m                                 Traceback (most recent call last)",
      "Cell \u001b[1;32mIn[70], line 2\u001b[0m\n\u001b[0;32m      1\u001b[0m emt_dict \u001b[38;5;241m=\u001b[39m {}\n\u001b[1;32m----> 2\u001b[0m \u001b[38;5;28mtype\u001b[39m(\u001b[43memp_dict\u001b[49m)\n",
      "\u001b[1;31mNameError\u001b[0m: name 'emp_dict' is not defined"
     ]
    }
   ],
   "source": [
    "emt_dict = {}\n",
    "type(emp_dict)"
   ]
  },
  {
   "cell_type": "code",
   "execution_count": 71,
   "id": "9dedda66-c3eb-40e5-be4c-0675e20ab2d2",
   "metadata": {},
   "outputs": [
    {
     "data": {
      "text/plain": [
       "set"
      ]
     },
     "execution_count": 71,
     "metadata": {},
     "output_type": "execute_result"
    }
   ],
   "source": [
    "emt_set = set()\n",
    "type(emt_set)"
   ]
  },
  {
   "cell_type": "code",
   "execution_count": 72,
   "id": "66f33e3a-67d7-4d88-86cf-96325c2313a9",
   "metadata": {},
   "outputs": [
    {
     "name": "stdout",
     "output_type": "stream",
     "text": [
      "Return set with unique element {1, 2, 4, 8, 9, 10}\n"
     ]
    }
   ],
   "source": [
    "set5 = {1,2,4,4,8,9,9,10}\n",
    "print(\"Return set with unique element\",set5)"
   ]
  },
  {
   "cell_type": "code",
   "execution_count": 73,
   "id": "0eeb56ee-370e-4d42-b63c-d3b8bd7ec121",
   "metadata": {},
   "outputs": [],
   "source": [
    "Months = {\"Jan\",\"Feb\",\"Mar\"}"
   ]
  },
  {
   "cell_type": "code",
   "execution_count": 74,
   "id": "1e4943c6-6601-44c9-ab00-eecc3ed4b4b6",
   "metadata": {},
   "outputs": [
    {
     "data": {
      "text/plain": [
       "set"
      ]
     },
     "execution_count": 74,
     "metadata": {},
     "output_type": "execute_result"
    }
   ],
   "source": [
    "type(Months)"
   ]
  },
  {
   "cell_type": "code",
   "execution_count": 75,
   "id": "20a9e9e4-904b-4d3f-a613-7d4c203de8b2",
   "metadata": {},
   "outputs": [],
   "source": [
    "Months.add(\"June\")"
   ]
  },
  {
   "cell_type": "code",
   "execution_count": 76,
   "id": "e068b8a1-7cc9-4520-9d14-dfa38a5348a5",
   "metadata": {},
   "outputs": [
    {
     "data": {
      "text/plain": [
       "{'Feb', 'Jan', 'June', 'Mar'}"
      ]
     },
     "execution_count": 76,
     "metadata": {},
     "output_type": "execute_result"
    }
   ],
   "source": [
    "Months"
   ]
  },
  {
   "cell_type": "code",
   "execution_count": 77,
   "id": "d89dc88b-3777-421c-b069-6cc03c1daa82",
   "metadata": {},
   "outputs": [
    {
     "data": {
      "text/plain": [
       "{'Feb', 'Jan', 'June', 'Mar'}"
      ]
     },
     "execution_count": 77,
     "metadata": {},
     "output_type": "execute_result"
    }
   ],
   "source": [
    "Months"
   ]
  },
  {
   "cell_type": "code",
   "execution_count": 78,
   "id": "169d1f1d-0d6c-4e51-a7fd-4eb9c36ad8d2",
   "metadata": {},
   "outputs": [
    {
     "name": "stdout",
     "output_type": "stream",
     "text": [
      "Feb\n",
      "June\n",
      "Jan\n",
      "Mar\n"
     ]
    }
   ],
   "source": [
    "for i in Months:\n",
    "    print(i)"
   ]
  },
  {
   "cell_type": "code",
   "execution_count": 79,
   "id": "e3cd609d-1b7d-47fc-a6a3-830ea0165fec",
   "metadata": {},
   "outputs": [
    {
     "data": {
      "text/plain": [
       "{1, 2, 4, 8, 9, 10}"
      ]
     },
     "execution_count": 79,
     "metadata": {},
     "output_type": "execute_result"
    }
   ],
   "source": [
    "set5"
   ]
  },
  {
   "cell_type": "code",
   "execution_count": 80,
   "id": "1668890c-0fc1-4985-934e-c7e01eafc7f8",
   "metadata": {},
   "outputs": [
    {
     "data": {
      "text/plain": [
       "{'Feb', 'Jan', 'June', 'Mar'}"
      ]
     },
     "execution_count": 80,
     "metadata": {},
     "output_type": "execute_result"
    }
   ],
   "source": [
    "Months"
   ]
  },
  {
   "cell_type": "code",
   "execution_count": 81,
   "id": "9732e2e3-ef4d-4eff-b9a7-56eec1e0320a",
   "metadata": {},
   "outputs": [],
   "source": [
    "Months.update([\"April\",\"May\"])"
   ]
  },
  {
   "cell_type": "code",
   "execution_count": 82,
   "id": "768c7f7e-32e7-4fa7-b848-777d52952f27",
   "metadata": {},
   "outputs": [
    {
     "data": {
      "text/plain": [
       "{'April', 'Feb', 'Jan', 'June', 'Mar', 'May'}"
      ]
     },
     "execution_count": 82,
     "metadata": {},
     "output_type": "execute_result"
    }
   ],
   "source": [
    "Months"
   ]
  },
  {
   "cell_type": "markdown",
   "id": "615f0322-4729-4d2f-822d-c79d49829590",
   "metadata": {},
   "source": [
    "### Removing items from the set\n",
    "    \n",
    "    Python provides the discard() method and remove() method which can be used to remove the items from the set. \n",
    "\n",
    "    The difference between these function, using discard() function if the item does not exist in the set then the set remain unchanged whereas remove() method will through an error."
   ]
  },
  {
   "cell_type": "code",
   "execution_count": 83,
   "id": "03edc6e2-bb25-4dd2-b232-d20ad0601608",
   "metadata": {},
   "outputs": [
    {
     "data": {
      "text/plain": [
       "{'April', 'Feb', 'Jan', 'June', 'Mar', 'May'}"
      ]
     },
     "execution_count": 83,
     "metadata": {},
     "output_type": "execute_result"
    }
   ],
   "source": [
    "Months"
   ]
  },
  {
   "cell_type": "code",
   "execution_count": 84,
   "id": "fe46fdad-d247-44eb-bfde-1b0709c0dcfd",
   "metadata": {},
   "outputs": [],
   "source": [
    "Months.discard(\"April\")"
   ]
  },
  {
   "cell_type": "code",
   "execution_count": 85,
   "id": "1a4d73bb-4d64-433a-b85b-977252326d92",
   "metadata": {},
   "outputs": [
    {
     "data": {
      "text/plain": [
       "{'Feb', 'Jan', 'June', 'Mar', 'May'}"
      ]
     },
     "execution_count": 85,
     "metadata": {},
     "output_type": "execute_result"
    }
   ],
   "source": [
    "Months"
   ]
  },
  {
   "cell_type": "code",
   "execution_count": 86,
   "id": "aaa1ccd3-f0bd-4f1c-958c-822c46647337",
   "metadata": {},
   "outputs": [],
   "source": [
    "Months.discard(\"kuchhbhi\")"
   ]
  },
  {
   "cell_type": "code",
   "execution_count": 87,
   "id": "1c48060e-8fbe-4283-a9d8-bede0f52c69f",
   "metadata": {},
   "outputs": [
    {
     "data": {
      "text/plain": [
       "{'Feb', 'Jan', 'June', 'Mar', 'May'}"
      ]
     },
     "execution_count": 87,
     "metadata": {},
     "output_type": "execute_result"
    }
   ],
   "source": [
    "Months"
   ]
  },
  {
   "cell_type": "code",
   "execution_count": 88,
   "id": "76b185c5-dd19-4d8f-9b0f-0ad8f19eab9a",
   "metadata": {},
   "outputs": [
    {
     "ename": "KeyError",
     "evalue": "'kuchhbhi'",
     "output_type": "error",
     "traceback": [
      "\u001b[1;31m---------------------------------------------------------------------------\u001b[0m",
      "\u001b[1;31mKeyError\u001b[0m                                  Traceback (most recent call last)",
      "Cell \u001b[1;32mIn[88], line 2\u001b[0m\n\u001b[0;32m      1\u001b[0m \u001b[38;5;66;03m# when use the remove method for delete item in the set\u001b[39;00m\n\u001b[1;32m----> 2\u001b[0m \u001b[43mMonths\u001b[49m\u001b[38;5;241;43m.\u001b[39;49m\u001b[43mremove\u001b[49m\u001b[43m(\u001b[49m\u001b[38;5;124;43m\"\u001b[39;49m\u001b[38;5;124;43mkuchhbhi\u001b[39;49m\u001b[38;5;124;43m\"\u001b[39;49m\u001b[43m)\u001b[49m\n",
      "\u001b[1;31mKeyError\u001b[0m: 'kuchhbhi'"
     ]
    }
   ],
   "source": [
    "# when use the remove method for delete item in the set\n",
    "Months.remove(\"kuchhbhi\")"
   ]
  },
  {
   "cell_type": "markdown",
   "id": "c3583c34-41c7-4553-aae1-236298729ee7",
   "metadata": {},
   "source": [
    "1. We can also use the pop() method to remove the item. \n",
    "\n",
    "2. Generally, the pop() method will always remove the last item but the set is unordered, we can't determine which element will be popped from set."
   ]
  },
  {
   "cell_type": "code",
   "execution_count": 89,
   "id": "ea48b544-d5c8-4610-b573-46bff3cf52fd",
   "metadata": {},
   "outputs": [
    {
     "data": {
      "text/plain": [
       "{'Feb', 'Jan', 'June', 'Mar', 'May'}"
      ]
     },
     "execution_count": 89,
     "metadata": {},
     "output_type": "execute_result"
    }
   ],
   "source": [
    "Months"
   ]
  },
  {
   "cell_type": "code",
   "execution_count": 90,
   "id": "dd01a4ba-cddc-4a5e-bee7-95ab2d529f87",
   "metadata": {},
   "outputs": [
    {
     "data": {
      "text/plain": [
       "'Feb'"
      ]
     },
     "execution_count": 90,
     "metadata": {},
     "output_type": "execute_result"
    }
   ],
   "source": [
    "Months.pop()"
   ]
  },
  {
   "cell_type": "code",
   "execution_count": 91,
   "id": "7832ab99-62be-45c0-aa50-047f1c0ce045",
   "metadata": {},
   "outputs": [
    {
     "data": {
      "text/plain": [
       "{'Jan', 'June', 'Mar', 'May'}"
      ]
     },
     "execution_count": 91,
     "metadata": {},
     "output_type": "execute_result"
    }
   ],
   "source": [
    "Months"
   ]
  },
  {
   "cell_type": "code",
   "execution_count": 92,
   "id": "a3a66a78-e4d1-4c15-a447-cb88f0683fc9",
   "metadata": {},
   "outputs": [
    {
     "data": {
      "text/plain": [
       "'Jan'"
      ]
     },
     "execution_count": 92,
     "metadata": {},
     "output_type": "execute_result"
    }
   ],
   "source": [
    "Months.pop()"
   ]
  },
  {
   "cell_type": "code",
   "execution_count": 93,
   "id": "de354fae-41f1-45ee-889b-a4da633c37f1",
   "metadata": {},
   "outputs": [
    {
     "data": {
      "text/plain": [
       "{'June', 'Mar', 'May'}"
      ]
     },
     "execution_count": 93,
     "metadata": {},
     "output_type": "execute_result"
    }
   ],
   "source": [
    "Months"
   ]
  },
  {
   "cell_type": "code",
   "execution_count": 94,
   "id": "35a5ac4b-2bf4-4864-bd15-57dc75222203",
   "metadata": {},
   "outputs": [
    {
     "data": {
      "text/plain": [
       "'June'"
      ]
     },
     "execution_count": 94,
     "metadata": {},
     "output_type": "execute_result"
    }
   ],
   "source": [
    "Months.pop()"
   ]
  },
  {
   "cell_type": "code",
   "execution_count": 95,
   "id": "44380daf-df86-4cdc-b066-a46f482cf0c1",
   "metadata": {},
   "outputs": [
    {
     "data": {
      "text/plain": [
       "{'Mar', 'May'}"
      ]
     },
     "execution_count": 95,
     "metadata": {},
     "output_type": "execute_result"
    }
   ],
   "source": [
    "Months"
   ]
  },
  {
   "cell_type": "markdown",
   "id": "ae5c1132-54f2-4716-8702-a5dd12a6e441",
   "metadata": {},
   "source": [
    "***Python provides the clear() method to remove all the items from the set.***"
   ]
  },
  {
   "cell_type": "code",
   "execution_count": 96,
   "id": "b23341e6-d061-405d-a307-6c9635d5a35b",
   "metadata": {},
   "outputs": [],
   "source": [
    "Months.clear()"
   ]
  },
  {
   "cell_type": "code",
   "execution_count": 97,
   "id": "9c6aad0b-a938-45c5-a8ac-541a82c67cb7",
   "metadata": {},
   "outputs": [
    {
     "data": {
      "text/plain": [
       "set()"
      ]
     },
     "execution_count": 97,
     "metadata": {},
     "output_type": "execute_result"
    }
   ],
   "source": [
    "Months"
   ]
  },
  {
   "cell_type": "markdown",
   "id": "f1507813-d170-4ecc-9ca4-9192e40ae940",
   "metadata": {},
   "source": [
    "### Python Set Operations\n",
    "\n",
    "    Set can be performed mathematical operation such as union, intersection, difference, and symmetric difference.  "
   ]
  },
  {
   "cell_type": "markdown",
   "id": "3fb6bfca-9a06-4ae3-8c63-a14c07cb77f1",
   "metadata": {},
   "source": [
    "### 1.Union of two Sets\n",
    "\n",
    "    To combine two or more sets into one set in Python, use the union() function. "
   ]
  },
  {
   "cell_type": "code",
   "execution_count": 98,
   "id": "08d9641c-61f3-4c30-99df-4cd178d8e89c",
   "metadata": {},
   "outputs": [],
   "source": [
    "# first of all using union operator\n",
    "day1 = {\"Sun\",\"Mon\",\"Tue\"}"
   ]
  },
  {
   "cell_type": "code",
   "execution_count": 99,
   "id": "7226d77d-db3b-45e8-ae0d-ccfb0f66d698",
   "metadata": {},
   "outputs": [],
   "source": [
    "day2 = {\"Wed\",\"Thu\",\"Fri\"}"
   ]
  },
  {
   "cell_type": "code",
   "execution_count": 100,
   "id": "0a848fbf-96f2-46b8-b3b7-fa41723a1dbb",
   "metadata": {},
   "outputs": [
    {
     "name": "stdout",
     "output_type": "stream",
     "text": [
      "{'Mon', 'Thu', 'Tue', 'Sun', 'Wed', 'Fri'}\n"
     ]
    }
   ],
   "source": [
    "print(day1|day2)"
   ]
  },
  {
   "cell_type": "code",
   "execution_count": 101,
   "id": "fbe5ed5e-5612-4449-b0a2-3524756eaf1f",
   "metadata": {},
   "outputs": [
    {
     "data": {
      "text/plain": [
       "{'Fri', 'Mon', 'Sun', 'Thu', 'Tue', 'Wed'}"
      ]
     },
     "execution_count": 101,
     "metadata": {},
     "output_type": "execute_result"
    }
   ],
   "source": [
    "day1.union(day2)"
   ]
  },
  {
   "cell_type": "code",
   "execution_count": 102,
   "id": "3b3b88b8-1dc4-47fd-bbb5-da91b1f0547c",
   "metadata": {},
   "outputs": [],
   "source": [
    "set1 = {1,2,3}\n",
    "set2 = {2,3,4}\n",
    "set3 = {3,4,5}"
   ]
  },
  {
   "cell_type": "code",
   "execution_count": 103,
   "id": "8092b00e-3331-420d-8625-4ad2b83bf9dd",
   "metadata": {},
   "outputs": [
    {
     "data": {
      "text/plain": [
       "{1, 2, 3, 4, 5}"
      ]
     },
     "execution_count": 103,
     "metadata": {},
     "output_type": "execute_result"
    }
   ],
   "source": [
    "set1.union(set2,set3)"
   ]
  },
  {
   "cell_type": "markdown",
   "id": "7cbdeac8-0515-4e05-a895-a02298aea122",
   "metadata": {},
   "source": [
    "### 2.The intersection of two sets\n",
    "    \n",
    "    To discover what is common between two or more sets in Python, apply the intersection() function.\n",
    "\n",
    "     One or more sets can also be used as the intersection() function parameters. \n",
    "\n",
    "     "
   ]
  },
  {
   "cell_type": "code",
   "execution_count": 119,
   "id": "12c8585f-7ffc-424f-a0e9-5b6cdd9abdb9",
   "metadata": {},
   "outputs": [
    {
     "data": {
      "text/plain": [
       "{'Mon', 'Sun', 'Tue'}"
      ]
     },
     "execution_count": 119,
     "metadata": {},
     "output_type": "execute_result"
    }
   ],
   "source": [
    "day1"
   ]
  },
  {
   "cell_type": "code",
   "execution_count": 120,
   "id": "64245e7f-1120-49e9-8966-5a1ab2930e3b",
   "metadata": {},
   "outputs": [
    {
     "data": {
      "text/plain": [
       "{'Fri', 'Thu', 'Wed'}"
      ]
     },
     "execution_count": 120,
     "metadata": {},
     "output_type": "execute_result"
    }
   ],
   "source": [
    "day2"
   ]
  },
  {
   "cell_type": "code",
   "execution_count": 121,
   "id": "f1163b1b-8405-4fcf-837e-c9e618b055d0",
   "metadata": {},
   "outputs": [
    {
     "name": "stdout",
     "output_type": "stream",
     "text": [
      "set()\n"
     ]
    }
   ],
   "source": [
    "print(day1 & day2)"
   ]
  },
  {
   "cell_type": "code",
   "execution_count": 122,
   "id": "367ab6a1-126c-402d-ba76-c1186ea61dbf",
   "metadata": {},
   "outputs": [
    {
     "data": {
      "text/plain": [
       "{1, 2, 3}"
      ]
     },
     "execution_count": 122,
     "metadata": {},
     "output_type": "execute_result"
    }
   ],
   "source": [
    "set1"
   ]
  },
  {
   "cell_type": "code",
   "execution_count": 123,
   "id": "1d2e56e8-1269-4844-940f-63f712891154",
   "metadata": {},
   "outputs": [
    {
     "data": {
      "text/plain": [
       "{2, 3, 4}"
      ]
     },
     "execution_count": 123,
     "metadata": {},
     "output_type": "execute_result"
    }
   ],
   "source": [
    "set2"
   ]
  },
  {
   "cell_type": "code",
   "execution_count": 124,
   "id": "99136705-bdca-4a81-870a-665f4b6c386a",
   "metadata": {},
   "outputs": [
    {
     "data": {
      "text/plain": [
       "{2, 3}"
      ]
     },
     "execution_count": 124,
     "metadata": {},
     "output_type": "execute_result"
    }
   ],
   "source": [
    "set1&set2"
   ]
  },
  {
   "cell_type": "code",
   "execution_count": 125,
   "id": "631d41d6-5b20-46d7-b162-1b599020d27a",
   "metadata": {},
   "outputs": [
    {
     "name": "stdout",
     "output_type": "stream",
     "text": [
      "{2, 3}\n"
     ]
    }
   ],
   "source": [
    "# intersection() method\n",
    "print(set1.intersection(set2))"
   ]
  },
  {
   "cell_type": "markdown",
   "id": "1b93dcb6-e0ab-46b4-a098-4325f0ac7069",
   "metadata": {},
   "source": [
    "### 3.The intersection_update() method\n",
    "    The intersection_update() method removes the items from the original set that are not present in both the sets (all the sets if more than one are specified). \n",
    "\n",
    "    The intersection_update() method is different from the intersection() method since it modifies the original set by removing the unwanted items, on the other hand, the intersection() method returns a new set."
   ]
  },
  {
   "cell_type": "code",
   "execution_count": 126,
   "id": "c2fb0e81-4078-447e-98d9-71a16d5b4289",
   "metadata": {},
   "outputs": [],
   "source": [
    "a = {\"pooja\",\"sahil\",\"sona\"}\n",
    "b = {\"sona\",\"rona\",\"dhona\"}\n",
    "c = {\"rona\",\"sona\",\"meri\"}"
   ]
  },
  {
   "cell_type": "code",
   "execution_count": 127,
   "id": "c876605c-72ca-4111-b0ee-b91d61f8c8da",
   "metadata": {},
   "outputs": [],
   "source": [
    "a.intersection_update(b,c)"
   ]
  },
  {
   "cell_type": "code",
   "execution_count": 128,
   "id": "eb7793bd-84d3-4924-b32e-0b376e8713fe",
   "metadata": {},
   "outputs": [
    {
     "data": {
      "text/plain": [
       "{'sona'}"
      ]
     },
     "execution_count": 128,
     "metadata": {},
     "output_type": "execute_result"
    }
   ],
   "source": [
    "a"
   ]
  },
  {
   "cell_type": "markdown",
   "id": "69880836-c7e4-43a7-9381-bc1a810fc2f4",
   "metadata": {},
   "source": [
    "### 4.subtraction (-) operator\n",
    "    The difference of two sets can be calculated by using the subtraction (-) operator or intersection() method.\n",
    "\n",
    "    Suppose there are two sets A and B, and the difference is A-B that denotes the resulting set will be obtained that element of A, which is not present in the set B."
   ]
  },
  {
   "cell_type": "code",
   "execution_count": 130,
   "id": "cecd007b-a552-4768-a660-1a795f316ae0",
   "metadata": {},
   "outputs": [],
   "source": [
    "day1 = {\"Sun\",\"Mon\",\"Tue\"}"
   ]
  },
  {
   "cell_type": "code",
   "execution_count": 131,
   "id": "02480adc-44c3-4eb3-803b-b223dcc93918",
   "metadata": {},
   "outputs": [],
   "source": [
    "day2 = {\"Tue\",\"Wed\",\"Thu\"}"
   ]
  },
  {
   "cell_type": "code",
   "execution_count": 132,
   "id": "df84a6d0-c173-474a-b49d-0f28e4d3e11c",
   "metadata": {},
   "outputs": [
    {
     "name": "stdout",
     "output_type": "stream",
     "text": [
      "{'Mon', 'Sun'}\n"
     ]
    }
   ],
   "source": [
    "print(day1-day2)"
   ]
  },
  {
   "cell_type": "code",
   "execution_count": 134,
   "id": "3bdc026f-a816-4681-8891-edf98d454169",
   "metadata": {},
   "outputs": [
    {
     "name": "stdout",
     "output_type": "stream",
     "text": [
      "{'Mon', 'Sun'}\n"
     ]
    }
   ],
   "source": [
    "#using difference method\n",
    "print(day1.difference(day2))"
   ]
  },
  {
   "cell_type": "markdown",
   "id": "5a81ed62-4649-4a94-96c7-6d902e74bb2f",
   "metadata": {},
   "source": [
    "### 5.Symmetric Difference of two sets\n",
    "    In Python, the symmetric Difference between set1 and set2 is the set of elements present in one set or the other but not in both sets.\n",
    "\n",
    "    In other words, the set of elements is in set1 or set2 but not in their intersection.\n",
    "\n",
    "    The Symmetric Difference of two sets can be computed using Python's symmetric_difference() method.\n",
    "\n",
    "    This method returns a new set containing all the elements in either but not in both. Consider the following example:"
   ]
  },
  {
   "cell_type": "code",
   "execution_count": 135,
   "id": "aa1a8297-093b-47ec-9868-5f24669cfcc6",
   "metadata": {},
   "outputs": [],
   "source": [
    "# semetric_difference() method ===> ^\n",
    "a = {1,2,3,4,5,6}\n",
    "b = {1,2,9,8,10}"
   ]
  },
  {
   "cell_type": "code",
   "execution_count": 136,
   "id": "64fe3fdf-3d9a-4552-80a1-0c2db250d516",
   "metadata": {},
   "outputs": [],
   "source": [
    "c = a ^b"
   ]
  },
  {
   "cell_type": "code",
   "execution_count": 137,
   "id": "4ce19274-ce80-4bbf-a48d-3ab9b624a0e7",
   "metadata": {},
   "outputs": [
    {
     "data": {
      "text/plain": [
       "{3, 4, 5, 6, 8, 9, 10}"
      ]
     },
     "execution_count": 137,
     "metadata": {},
     "output_type": "execute_result"
    }
   ],
   "source": [
    "c"
   ]
  },
  {
   "cell_type": "code",
   "execution_count": 138,
   "id": "74a8a3ad-4732-44d2-bf9f-02edc3114118",
   "metadata": {},
   "outputs": [
    {
     "data": {
      "text/plain": [
       "{3, 4, 5, 6, 8, 9, 10}"
      ]
     },
     "execution_count": 138,
     "metadata": {},
     "output_type": "execute_result"
    }
   ],
   "source": [
    "a.symmetric_difference(b)"
   ]
  },
  {
   "cell_type": "markdown",
   "id": "9aad818e-649b-4ab8-859a-a0811d90bdd1",
   "metadata": {},
   "source": [
    "### 6.Set Comparisons\n",
    "\n",
    "    In Python, you can compare sets to check if they are equal, if one set is a subset or superset of another, or if two sets have elements in common.\n",
    "\n",
    "    "
   ]
  },
  {
   "cell_type": "markdown",
   "id": "f0ff8ebd-7cd2-498e-bed5-cd6b93932f17",
   "metadata": {},
   "source": [
    "1. ==: checks if two sets have the same elements, regardless of their order.\n",
    "2. !=: checks if two sets are not equal.\n",
    "3. <: checks if the left set is a proper subset of the right set (i.e., all elements in the left set are also in the right set, but the right set has additional elements).\n",
    "4. <=: checks if the left set is a subset of the right set (i.e., all elements in the left set are also in the right set).\n",
    "5. (>): checks if the left set is a proper superset of the right set (i.e., all elements in the right set are also in the left set, but the left set has additional elements).\n",
    "6. (>)=: checks if the left set is a superset of the right set (i.e., all elements in the right set are also in the left)."
   ]
  },
  {
   "cell_type": "code",
   "execution_count": 139,
   "id": "0ff43d79-867a-4ea1-b0fb-5a81fe3f92e5",
   "metadata": {},
   "outputs": [
    {
     "data": {
      "text/plain": [
       "{'Mon', 'Sun', 'Tue'}"
      ]
     },
     "execution_count": 139,
     "metadata": {},
     "output_type": "execute_result"
    }
   ],
   "source": [
    "day1"
   ]
  },
  {
   "cell_type": "code",
   "execution_count": 140,
   "id": "82dec0f7-1bad-41f3-b6b5-ea3281d9754c",
   "metadata": {},
   "outputs": [
    {
     "data": {
      "text/plain": [
       "{'Thu', 'Tue', 'Wed'}"
      ]
     },
     "execution_count": 140,
     "metadata": {},
     "output_type": "execute_result"
    }
   ],
   "source": [
    "day2"
   ]
  },
  {
   "cell_type": "code",
   "execution_count": 141,
   "id": "3b79292c-b2b1-4022-9807-430e91a8a952",
   "metadata": {},
   "outputs": [
    {
     "data": {
      "text/plain": [
       "False"
      ]
     },
     "execution_count": 141,
     "metadata": {},
     "output_type": "execute_result"
    }
   ],
   "source": [
    "day1 > day2"
   ]
  },
  {
   "cell_type": "code",
   "execution_count": 142,
   "id": "e3366023-d40b-4365-a9dc-402d172ccd35",
   "metadata": {},
   "outputs": [
    {
     "data": {
      "text/plain": [
       "False"
      ]
     },
     "execution_count": 142,
     "metadata": {},
     "output_type": "execute_result"
    }
   ],
   "source": [
    "day1 < day2"
   ]
  },
  {
   "cell_type": "code",
   "execution_count": 143,
   "id": "8734ec36-0e36-4c47-b427-cb32a59dc051",
   "metadata": {},
   "outputs": [
    {
     "data": {
      "text/plain": [
       "False"
      ]
     },
     "execution_count": 143,
     "metadata": {},
     "output_type": "execute_result"
    }
   ],
   "source": [
    "day1 == day2"
   ]
  },
  {
   "cell_type": "markdown",
   "id": "06f5c200-028a-448a-8153-ca697bc32c4f",
   "metadata": {},
   "source": [
    "#### Q.1 Write a program to remove the given number from the set.\n",
    "***my_set = {1,2,3,4,5,6,12,24}***"
   ]
  },
  {
   "cell_type": "code",
   "execution_count": 147,
   "id": "899743c0-38d2-4517-8f43-9afbdca4eeb7",
   "metadata": {},
   "outputs": [],
   "source": [
    "my_set = {1,2,3,4,5,6,12,24};"
   ]
  },
  {
   "cell_type": "code",
   "execution_count": 148,
   "id": "5c5c1d9c-adcd-4a31-b49e-3b0d32be4e01",
   "metadata": {},
   "outputs": [
    {
     "data": {
      "text/plain": [
       "{1, 2, 3, 4, 5, 6, 12, 24}"
      ]
     },
     "execution_count": 148,
     "metadata": {},
     "output_type": "execute_result"
    }
   ],
   "source": [
    "my_set"
   ]
  },
  {
   "cell_type": "code",
   "execution_count": 149,
   "id": "907ce29a-cce8-4444-a1ce-0cb53dced064",
   "metadata": {},
   "outputs": [
    {
     "name": "stdin",
     "output_type": "stream",
     "text": [
      "Enter a number you want to remove 12\n"
     ]
    },
    {
     "name": "stdout",
     "output_type": "stream",
     "text": [
      "Removing Element {1, 2, 3, 4, 5, 6, 24}\n"
     ]
    }
   ],
   "source": [
    "n = int(input(\"Enter a number you want to remove\"))\n",
    "my_set.discard(n)\n",
    "print(\"Removing Element\",my_set)"
   ]
  },
  {
   "cell_type": "markdown",
   "id": "ed2fd1b8-cb21-4ffc-a8c0-451f2f16be4b",
   "metadata": {},
   "source": [
    "#### Q.2 Write a program to add multiple elements to the set."
   ]
  },
  {
   "cell_type": "code",
   "execution_count": 156,
   "id": "f8754dc1-27fa-4bd5-a539-12fe05d0b0d4",
   "metadata": {},
   "outputs": [],
   "source": [
    "normal_set = {2,\"Hello\",3,\"Jello\",4,\"Khelo\"}\n",
    "normal_set.update([\"kello\",5])"
   ]
  },
  {
   "cell_type": "code",
   "execution_count": 158,
   "id": "65257d24-a92b-42a5-b03d-0eba8994f725",
   "metadata": {},
   "outputs": [
    {
     "data": {
      "text/plain": [
       "{2, 3, 4, 5, 'Hello', 'Jello', 'Khelo', 'kello'}"
      ]
     },
     "execution_count": 158,
     "metadata": {},
     "output_type": "execute_result"
    }
   ],
   "source": [
    "normal_set"
   ]
  },
  {
   "cell_type": "markdown",
   "id": "5e949355-81f5-496b-9ea3-fbb542ca2707",
   "metadata": {},
   "source": [
    "#### Q.3 Write a program to find the union between two set.\n",
    "***set1 = {\"Peter\",\"Joseph\",65,59,96}***\n",
    "***set2 = {\"Peter\",1,2,\"Joseph}***"
   ]
  },
  {
   "cell_type": "code",
   "execution_count": 160,
   "id": "04571945-5fff-4a46-b7b4-041020ca3a2e",
   "metadata": {},
   "outputs": [],
   "source": [
    "set1 = {\"Peter\",\"Joseph\",65,59,96}"
   ]
  },
  {
   "cell_type": "code",
   "execution_count": 162,
   "id": "c087ea9a-171d-46ff-a5ff-f3ef27f0ae74",
   "metadata": {},
   "outputs": [],
   "source": [
    "set2 = {\"Peter\",1,2,\"Joseph\"}"
   ]
  },
  {
   "cell_type": "code",
   "execution_count": 163,
   "id": "15de4a30-0c67-4759-84cd-f4663b9c473d",
   "metadata": {},
   "outputs": [
    {
     "data": {
      "text/plain": [
       "{1, 2, 59, 65, 96, 'Joseph', 'Peter'}"
      ]
     },
     "execution_count": 163,
     "metadata": {},
     "output_type": "execute_result"
    }
   ],
   "source": [
    "set1.union(set2)"
   ]
  },
  {
   "cell_type": "code",
   "execution_count": null,
   "id": "3b14e9ae-7422-4a16-84c7-3ae892eb5fe1",
   "metadata": {},
   "outputs": [],
   "source": []
  }
 ],
 "metadata": {
  "kernelspec": {
   "display_name": "Python 3 (ipykernel)",
   "language": "python",
   "name": "python3"
  },
  "language_info": {
   "codemirror_mode": {
    "name": "ipython",
    "version": 3
   },
   "file_extension": ".py",
   "mimetype": "text/x-python",
   "name": "python",
   "nbconvert_exporter": "python",
   "pygments_lexer": "ipython3",
   "version": "3.12.0"
  }
 },
 "nbformat": 4,
 "nbformat_minor": 5
}
