{
 "cells": [
  {
   "cell_type": "markdown",
   "id": "8bb37ab7-9955-46b7-95d2-48d3c697e694",
   "metadata": {},
   "source": [
    "# Python Literals"
   ]
  },
  {
   "cell_type": "markdown",
   "id": "d6569788-cf9c-45c1-8f46-81a0094c724f",
   "metadata": {},
   "source": [
    "**Python Literals can be defined as data that is given in a variable or constant.**\n",
    "\n",
    "***Five Type***\n",
    "\n",
    "1. String litertals\n",
    "2. Numeric literals\n",
    "3. Boolean literals\n",
    "4. Special literals\n",
    "5. Literals Collections"
   ]
  },
  {
   "cell_type": "markdown",
   "id": "01fd4afc-0402-498b-87f1-f2016af1c978",
   "metadata": {},
   "source": [
    "### 1.String literals :\n",
    "***String literals can be formed by enclosing a text in the quotes. We can use both single as well as double quotes to create a string.***"
   ]
  },
  {
   "cell_type": "code",
   "execution_count": 3,
   "id": "59ec9e0b-c5a7-4a21-8cb4-20db6f92da98",
   "metadata": {},
   "outputs": [
    {
     "data": {
      "text/plain": [
       "('Pooja', 'pooja')"
      ]
     },
     "execution_count": 3,
     "metadata": {},
     "output_type": "execute_result"
    }
   ],
   "source": [
    "\"Pooja\" ,'pooja'"
   ]
  },
  {
   "cell_type": "code",
   "execution_count": 4,
   "id": "265a9966-74c2-4213-885d-97b2760796bf",
   "metadata": {},
   "outputs": [],
   "source": [
    "# a. single line string\n",
    "single_line = \"hello\""
   ]
  },
  {
   "cell_type": "code",
   "execution_count": 5,
   "id": "c84e0b3d-9832-449b-a71e-b69a763cd00f",
   "metadata": {},
   "outputs": [
    {
     "data": {
      "text/plain": [
       "'hello'"
      ]
     },
     "execution_count": 5,
     "metadata": {},
     "output_type": "execute_result"
    }
   ],
   "source": [
    "single_line"
   ]
  },
  {
   "cell_type": "code",
   "execution_count": 6,
   "id": "8418d57b-af41-4a71-ba3c-a23b9d217b22",
   "metadata": {},
   "outputs": [],
   "source": [
    "# b. multiple line string for using back slash end of the line\n",
    "multiple_line = 'my teacher\\\n",
    "are good for me'"
   ]
  },
  {
   "cell_type": "code",
   "execution_count": 7,
   "id": "1f5c68d1-9c60-4d96-b963-b090610b7f90",
   "metadata": {},
   "outputs": [
    {
     "data": {
      "text/plain": [
       "'my teacherare good for me'"
      ]
     },
     "execution_count": 7,
     "metadata": {},
     "output_type": "execute_result"
    }
   ],
   "source": [
    "multiple_line"
   ]
  },
  {
   "cell_type": "code",
   "execution_count": 8,
   "id": "c751d301-f56a-48a6-88cc-f4955dba7a45",
   "metadata": {},
   "outputs": [],
   "source": [
    "# c. triple line quotation marks:\n",
    "triple_line = \"\"\"how\n",
    "are\n",
    "you my dear \"\"\""
   ]
  },
  {
   "cell_type": "code",
   "execution_count": 9,
   "id": "3e4962e3-4c97-463d-88fe-02c815c510ca",
   "metadata": {},
   "outputs": [
    {
     "data": {
      "text/plain": [
       "'how\\nare\\nyou my dear '"
      ]
     },
     "execution_count": 9,
     "metadata": {},
     "output_type": "execute_result"
    }
   ],
   "source": [
    "triple_line"
   ]
  },
  {
   "cell_type": "markdown",
   "id": "d992cf79-4ebc-4706-80c7-cd54f822ef3f",
   "metadata": {},
   "source": [
    "### 2.Numeric literals:\n",
    "**Numeric Literals are immutable.**"
   ]
  },
  {
   "cell_type": "code",
   "execution_count": 12,
   "id": "f126b82e-6356-4559-a491-ab82cdfb87a8",
   "metadata": {},
   "outputs": [],
   "source": [
    "x = 0b10100 #Binary literal\n",
    "y = 100 #Decimal literal\n",
    "z = 0o215 #Octal Literal\n",
    "u = 0x12d #Hexadecimal Literal"
   ]
  },
  {
   "cell_type": "code",
   "execution_count": 13,
   "id": "f20f551e-d92f-49a1-8be3-e598be911cf9",
   "metadata": {},
   "outputs": [
    {
     "data": {
      "text/plain": [
       "20"
      ]
     },
     "execution_count": 13,
     "metadata": {},
     "output_type": "execute_result"
    }
   ],
   "source": [
    "x"
   ]
  },
  {
   "cell_type": "code",
   "execution_count": 14,
   "id": "f44fdd50-aa70-417e-939f-ee05a3d2b2e7",
   "metadata": {},
   "outputs": [
    {
     "data": {
      "text/plain": [
       "100"
      ]
     },
     "execution_count": 14,
     "metadata": {},
     "output_type": "execute_result"
    }
   ],
   "source": [
    "y"
   ]
  },
  {
   "cell_type": "code",
   "execution_count": 15,
   "id": "68335c93-29d0-4a4e-8401-2b49f97222a4",
   "metadata": {},
   "outputs": [
    {
     "data": {
      "text/plain": [
       "141"
      ]
     },
     "execution_count": 15,
     "metadata": {},
     "output_type": "execute_result"
    }
   ],
   "source": [
    "z"
   ]
  },
  {
   "cell_type": "code",
   "execution_count": 16,
   "id": "268bbb0c-410c-49f3-9dac-e7d975763d7d",
   "metadata": {},
   "outputs": [
    {
     "data": {
      "text/plain": [
       "301"
      ]
     },
     "execution_count": 16,
     "metadata": {},
     "output_type": "execute_result"
    }
   ],
   "source": [
    "u"
   ]
  },
  {
   "cell_type": "code",
   "execution_count": 17,
   "id": "dac2d793-f6e7-4fa7-9fd6-552562327c87",
   "metadata": {},
   "outputs": [
    {
     "data": {
      "text/plain": [
       "(20, 100, 141, 301)"
      ]
     },
     "execution_count": 17,
     "metadata": {},
     "output_type": "execute_result"
    }
   ],
   "source": [
    "x,y,z,u"
   ]
  },
  {
   "cell_type": "code",
   "execution_count": 18,
   "id": "a05a53da-960e-4956-a361-f23bf380e35d",
   "metadata": {},
   "outputs": [],
   "source": [
    "# Float Literals\n",
    "float1 = 3.14\n",
    "float2 = 1.5e2"
   ]
  },
  {
   "cell_type": "code",
   "execution_count": 19,
   "id": "19065b9b-589c-491c-9d36-21ee7b6536a2",
   "metadata": {},
   "outputs": [
    {
     "data": {
      "text/plain": [
       "3.14"
      ]
     },
     "execution_count": 19,
     "metadata": {},
     "output_type": "execute_result"
    }
   ],
   "source": [
    "float1"
   ]
  },
  {
   "cell_type": "code",
   "execution_count": 20,
   "id": "bf3dbe0c-6f57-4a3b-aed2-100d36999499",
   "metadata": {},
   "outputs": [
    {
     "data": {
      "text/plain": [
       "150.0"
      ]
     },
     "execution_count": 20,
     "metadata": {},
     "output_type": "execute_result"
    }
   ],
   "source": [
    "float2"
   ]
  },
  {
   "cell_type": "code",
   "execution_count": 21,
   "id": "259254bb-d347-4b3d-94dc-2923f9f034cb",
   "metadata": {},
   "outputs": [],
   "source": [
    "# Complex Literal\n",
    "a = 5 + 3.14j"
   ]
  },
  {
   "cell_type": "code",
   "execution_count": 22,
   "id": "740c58f6-2627-4ed4-bbe6-c62d66e8eb3e",
   "metadata": {},
   "outputs": [
    {
     "data": {
      "text/plain": [
       "(5+3.14j)"
      ]
     },
     "execution_count": 22,
     "metadata": {},
     "output_type": "execute_result"
    }
   ],
   "source": [
    "a"
   ]
  },
  {
   "cell_type": "code",
   "execution_count": 23,
   "id": "022af176-d387-4338-8305-d6b36805cf2f",
   "metadata": {},
   "outputs": [
    {
     "data": {
      "text/plain": [
       "3.14"
      ]
     },
     "execution_count": 23,
     "metadata": {},
     "output_type": "execute_result"
    }
   ],
   "source": [
    "a.imag"
   ]
  },
  {
   "cell_type": "code",
   "execution_count": 24,
   "id": "52f085fd-14e0-4230-92ae-c0e120d76afa",
   "metadata": {},
   "outputs": [
    {
     "data": {
      "text/plain": [
       "5.0"
      ]
     },
     "execution_count": 24,
     "metadata": {},
     "output_type": "execute_result"
    }
   ],
   "source": [
    "a.real"
   ]
  },
  {
   "cell_type": "code",
   "execution_count": 25,
   "id": "f2c657bd-9d59-4a1a-9b73-2caabaca2c82",
   "metadata": {},
   "outputs": [
    {
     "name": "stdout",
     "output_type": "stream",
     "text": [
      "20 100 141 301\n"
     ]
    }
   ],
   "source": [
    "print(x,y,z,u)"
   ]
  },
  {
   "cell_type": "code",
   "execution_count": 26,
   "id": "92af64bb-4b6f-47d2-afa6-b2db4b367ccb",
   "metadata": {},
   "outputs": [
    {
     "name": "stdout",
     "output_type": "stream",
     "text": [
      "3.14 150.0\n"
     ]
    }
   ],
   "source": [
    "print(float1,float2)"
   ]
  },
  {
   "cell_type": "code",
   "execution_count": 27,
   "id": "3a8bf69f-5995-4442-8f64-0ba9c0ffcb18",
   "metadata": {},
   "outputs": [
    {
     "name": "stdout",
     "output_type": "stream",
     "text": [
      "(5+3.14j) 3.14 5.0\n"
     ]
    }
   ],
   "source": [
    "print(a,a.imag,a.real)"
   ]
  },
  {
   "cell_type": "markdown",
   "id": "dd638421-5ce6-413f-b51a-bd2c9ecee8d8",
   "metadata": {},
   "source": [
    "### 3.Boolean literals\n",
    "**A Boolean literal can have any of the two values: True or False.**\n",
    "*** True ==> 1, False ==> 0***"
   ]
  },
  {
   "cell_type": "code",
   "execution_count": 38,
   "id": "0318eef2-f72d-4762-906f-90a6346098ba",
   "metadata": {},
   "outputs": [],
   "source": [
    "a = True + 1"
   ]
  },
  {
   "cell_type": "code",
   "execution_count": 39,
   "id": "d807ecac-b82a-4e85-9452-35ed58c00ab6",
   "metadata": {},
   "outputs": [
    {
     "data": {
      "text/plain": [
       "2"
      ]
     },
     "execution_count": 39,
     "metadata": {},
     "output_type": "execute_result"
    }
   ],
   "source": [
    "a"
   ]
  },
  {
   "cell_type": "code",
   "execution_count": 40,
   "id": "473d4493-2cb6-46b4-963e-8632b197d894",
   "metadata": {},
   "outputs": [],
   "source": [
    "a = False + 1"
   ]
  },
  {
   "cell_type": "code",
   "execution_count": 41,
   "id": "5826bfd0-6c9b-40a2-8484-fb33edb13073",
   "metadata": {},
   "outputs": [
    {
     "data": {
      "text/plain": [
       "1"
      ]
     },
     "execution_count": 41,
     "metadata": {},
     "output_type": "execute_result"
    }
   ],
   "source": [
    "a"
   ]
  },
  {
   "cell_type": "code",
   "execution_count": 42,
   "id": "f11fd3b1-c9d2-4fb4-8d9b-fa475644a65c",
   "metadata": {},
   "outputs": [],
   "source": [
    "x = (1 == True)"
   ]
  },
  {
   "cell_type": "code",
   "execution_count": 43,
   "id": "791651a9-ca33-4bcb-8252-64cef72cc8ad",
   "metadata": {},
   "outputs": [
    {
     "data": {
      "text/plain": [
       "True"
      ]
     },
     "execution_count": 43,
     "metadata": {},
     "output_type": "execute_result"
    }
   ],
   "source": [
    "x"
   ]
  },
  {
   "cell_type": "code",
   "execution_count": 44,
   "id": "e70fd384-ba83-4f83-b87f-8461243fb383",
   "metadata": {},
   "outputs": [],
   "source": [
    "y = (2 == True)"
   ]
  },
  {
   "cell_type": "code",
   "execution_count": 45,
   "id": "1d61f233-4acd-4e57-a73f-ae6025ff6c21",
   "metadata": {},
   "outputs": [
    {
     "data": {
      "text/plain": [
       "False"
      ]
     },
     "execution_count": 45,
     "metadata": {},
     "output_type": "execute_result"
    }
   ],
   "source": [
    "y"
   ]
  },
  {
   "cell_type": "code",
   "execution_count": 46,
   "id": "318e1d1d-db40-4ccd-b361-87fd836ae216",
   "metadata": {},
   "outputs": [],
   "source": [
    "z = (3 == False)"
   ]
  },
  {
   "cell_type": "code",
   "execution_count": 47,
   "id": "3413edcd-5573-4ef7-8828-2193795cafdd",
   "metadata": {},
   "outputs": [
    {
     "data": {
      "text/plain": [
       "False"
      ]
     },
     "execution_count": 47,
     "metadata": {},
     "output_type": "execute_result"
    }
   ],
   "source": [
    "z"
   ]
  },
  {
   "cell_type": "markdown",
   "id": "c67148b0-7c96-499f-995e-a015fd170a32",
   "metadata": {},
   "source": [
    "### 4.Special literals\n",
    "**Python contains one special literal i.e., None.**\r",
    "***\n",
    "\r\n",
    "None is used to specify to that field that is not created. It is also used for the end of lists in Python*.**"
   ]
  },
  {
   "cell_type": "code",
   "execution_count": 48,
   "id": "c7d440a7-bd0f-47e4-bcdf-d1285c86793e",
   "metadata": {},
   "outputs": [],
   "source": [
    "var1 = 10"
   ]
  },
  {
   "cell_type": "code",
   "execution_count": 49,
   "id": "a8c23fcb-9ec1-4ff6-89f5-5c80fc500d44",
   "metadata": {},
   "outputs": [
    {
     "data": {
      "text/plain": [
       "10"
      ]
     },
     "execution_count": 49,
     "metadata": {},
     "output_type": "execute_result"
    }
   ],
   "source": [
    "var1"
   ]
  },
  {
   "cell_type": "code",
   "execution_count": 50,
   "id": "e4b3e200-e2ba-4f2d-afd2-3fb45b75e122",
   "metadata": {},
   "outputs": [
    {
     "ename": "NameError",
     "evalue": "name 'var2' is not defined",
     "output_type": "error",
     "traceback": [
      "\u001b[1;31m---------------------------------------------------------------------------\u001b[0m",
      "\u001b[1;31mNameError\u001b[0m                                 Traceback (most recent call last)",
      "Cell \u001b[1;32mIn[50], line 1\u001b[0m\n\u001b[1;32m----> 1\u001b[0m \u001b[43mvar2\u001b[49m\n",
      "\u001b[1;31mNameError\u001b[0m: name 'var2' is not defined"
     ]
    }
   ],
   "source": [
    "var2"
   ]
  },
  {
   "cell_type": "code",
   "execution_count": 51,
   "id": "1fb4fb44-7679-481a-8a7a-5c2b0035b409",
   "metadata": {},
   "outputs": [],
   "source": [
    "var2 = None"
   ]
  },
  {
   "cell_type": "code",
   "execution_count": 52,
   "id": "ef5de5b9-c76a-4ed0-8489-48367f5dcc7e",
   "metadata": {},
   "outputs": [],
   "source": [
    "var2"
   ]
  },
  {
   "cell_type": "markdown",
   "id": "1d833629-5506-4452-8517-fbdcba38234a",
   "metadata": {},
   "source": [
    "### literal collections :\n",
    "1. set\n",
    "2. dictionary\n",
    "3. tuple\n",
    "4. list\n"
   ]
  },
  {
   "cell_type": "code",
   "execution_count": 55,
   "id": "a4230c57-54eb-42a0-9cfa-9e38349b27e8",
   "metadata": {},
   "outputs": [],
   "source": [
    "list1 = [\"sunny\",\"riya\",\"mohit\"]"
   ]
  },
  {
   "cell_type": "code",
   "execution_count": 59,
   "id": "5ea72839-0d8c-4114-999b-44815094e5b0",
   "metadata": {},
   "outputs": [],
   "source": [
    "dict = {'name':\"kurshed\",'age':21}"
   ]
  },
  {
   "cell_type": "code",
   "execution_count": 60,
   "id": "1e27b32d-6e78-4f8d-bd7c-63e63f4c6f6e",
   "metadata": {},
   "outputs": [],
   "source": [
    "tup = (10,20,\"sahil\")"
   ]
  },
  {
   "cell_type": "code",
   "execution_count": 61,
   "id": "41b8ec6d-f7a0-4b85-8031-c18cd2fdbbe0",
   "metadata": {},
   "outputs": [],
   "source": [
    "set = {\"apple\",\"grapes\",\"mango\"}"
   ]
  },
  {
   "cell_type": "code",
   "execution_count": 62,
   "id": "7403eac9-588b-4565-9517-a081b5475a84",
   "metadata": {},
   "outputs": [
    {
     "data": {
      "text/plain": [
       "(['sunny', 'riya', 'mohit'],\n",
       " {'name': 'kurshed', 'age': 21},\n",
       " (10, 20, 'sahil'),\n",
       " {'apple', 'grapes', 'mango'})"
      ]
     },
     "execution_count": 62,
     "metadata": {},
     "output_type": "execute_result"
    }
   ],
   "source": [
    "list1,dict,tup,set"
   ]
  },
  {
   "cell_type": "code",
   "execution_count": null,
   "id": "fcc616a1-2af4-43af-bdff-31e1c28549a8",
   "metadata": {},
   "outputs": [],
   "source": []
  }
 ],
 "metadata": {
  "kernelspec": {
   "display_name": "Python 3 (ipykernel)",
   "language": "python",
   "name": "python3"
  },
  "language_info": {
   "codemirror_mode": {
    "name": "ipython",
    "version": 3
   },
   "file_extension": ".py",
   "mimetype": "text/x-python",
   "name": "python",
   "nbconvert_exporter": "python",
   "pygments_lexer": "ipython3",
   "version": "3.12.1"
  }
 },
 "nbformat": 4,
 "nbformat_minor": 5
}
