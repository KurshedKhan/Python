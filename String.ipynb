{
 "cells": [
  {
   "cell_type": "markdown",
   "id": "79e61e02-9a8f-4e47-8e9c-7483a0f0849f",
   "metadata": {},
   "source": [
    "# Python String\n",
    "    Python, string is the collection of the characters surrounded by single quotes, double quotes, or triple quotes.\n",
    "    \n",
    "    In Python, strings are treated as the sequence of characters, which means that Python doesn't support the character data-type; instead, a single character written as 'p' is treated as the string of length 1."
   ]
  },
  {
   "cell_type": "code",
   "execution_count": 1,
   "id": "020e5bcb-faba-4ccd-a518-224dcee4845b",
   "metadata": {},
   "outputs": [],
   "source": [
    "# single quotes\n",
    "name = 'kurshed Khan'"
   ]
  },
  {
   "cell_type": "code",
   "execution_count": 2,
   "id": "a84648ac-4fae-42d9-a17e-8e3aefe4f881",
   "metadata": {},
   "outputs": [
    {
     "data": {
      "text/plain": [
       "'kurshed Khan'"
      ]
     },
     "execution_count": 2,
     "metadata": {},
     "output_type": "execute_result"
    }
   ],
   "source": [
    "name"
   ]
  },
  {
   "cell_type": "code",
   "execution_count": 3,
   "id": "8cb213f1-5517-466f-8cad-85d1b861c92c",
   "metadata": {},
   "outputs": [],
   "source": [
    "# double quotes\n",
    "fullname = \"Kurshed Khan\""
   ]
  },
  {
   "cell_type": "code",
   "execution_count": 4,
   "id": "1b9a30ee-feb4-4d57-980c-172104cadcaf",
   "metadata": {},
   "outputs": [
    {
     "data": {
      "text/plain": [
       "'Kurshed Khan'"
      ]
     },
     "execution_count": 4,
     "metadata": {},
     "output_type": "execute_result"
    }
   ],
   "source": [
    "fullname"
   ]
  },
  {
   "cell_type": "code",
   "execution_count": 5,
   "id": "ee40c7aa-3b44-4ea8-9334-06311c209385",
   "metadata": {},
   "outputs": [],
   "source": [
    "# Triple quotes\n",
    "Sentence = \"\"\"hey , good morning \n",
    "my dear friend,\"\"\""
   ]
  },
  {
   "cell_type": "code",
   "execution_count": 6,
   "id": "2ea8b6f6-8fec-48ae-8754-490e0c3bb03a",
   "metadata": {},
   "outputs": [
    {
     "data": {
      "text/plain": [
       "'hey , good morning \\nmy dear friend,'"
      ]
     },
     "execution_count": 6,
     "metadata": {},
     "output_type": "execute_result"
    }
   ],
   "source": [
    "Sentence"
   ]
  },
  {
   "cell_type": "markdown",
   "id": "4a085ef0-6df0-446b-9e2c-54d339468a25",
   "metadata": {},
   "source": [
    "### String indexing and splitting\n",
    "    The indexing of the Python strings starts from 0. "
   ]
  },
  {
   "cell_type": "code",
   "execution_count": 7,
   "id": "ba2340d0-df12-48b5-93eb-912df6318fa8",
   "metadata": {},
   "outputs": [
    {
     "data": {
      "text/plain": [
       "'kurshed Khan'"
      ]
     },
     "execution_count": 7,
     "metadata": {},
     "output_type": "execute_result"
    }
   ],
   "source": [
    "name"
   ]
  },
  {
   "cell_type": "code",
   "execution_count": 8,
   "id": "7f46bc77-e428-4db1-a0ac-1490fcf4fdbc",
   "metadata": {},
   "outputs": [
    {
     "data": {
      "text/plain": [
       "'k'"
      ]
     },
     "execution_count": 8,
     "metadata": {},
     "output_type": "execute_result"
    }
   ],
   "source": [
    "name[0]"
   ]
  },
  {
   "cell_type": "code",
   "execution_count": 13,
   "id": "a222edcb-0dff-4007-baa7-4b15df140a1c",
   "metadata": {},
   "outputs": [
    {
     "data": {
      "text/plain": [
       "'h'"
      ]
     },
     "execution_count": 13,
     "metadata": {},
     "output_type": "execute_result"
    }
   ],
   "source": [
    "name[4]"
   ]
  },
  {
   "cell_type": "markdown",
   "id": "80ae6d51-204f-434c-9727-54f30005c291",
   "metadata": {},
   "source": [
    "#### slice Operator[:]\n",
    "    is used to access the individual of the string.\n",
    "\n",
    "    we can use the : (colon) operator in python to access \n",
    "    the substring from the given string."
   ]
  },
  {
   "cell_type": "code",
   "execution_count": 19,
   "id": "d116700e-e4e7-49cb-99eb-1bb2aea6432b",
   "metadata": {},
   "outputs": [
    {
     "data": {
      "text/plain": [
       "'kurshed Khan'"
      ]
     },
     "execution_count": 19,
     "metadata": {},
     "output_type": "execute_result"
    }
   ],
   "source": [
    "name[:]"
   ]
  },
  {
   "cell_type": "code",
   "execution_count": 20,
   "id": "8c44c647-2f24-499d-9d31-c437c62e1d55",
   "metadata": {},
   "outputs": [
    {
     "data": {
      "text/plain": [
       "'kurshed Khan'"
      ]
     },
     "execution_count": 20,
     "metadata": {},
     "output_type": "execute_result"
    }
   ],
   "source": [
    "name[0:]"
   ]
  },
  {
   "cell_type": "code",
   "execution_count": 21,
   "id": "d30236bd-bbe2-4b57-97c4-e9c8351c61d6",
   "metadata": {},
   "outputs": [
    {
     "data": {
      "text/plain": [
       "'ku'"
      ]
     },
     "execution_count": 21,
     "metadata": {},
     "output_type": "execute_result"
    }
   ],
   "source": [
    "name[0:2]"
   ]
  },
  {
   "cell_type": "code",
   "execution_count": 22,
   "id": "5baaebce-d2cb-4a77-ba50-69e4f7e0bae7",
   "metadata": {},
   "outputs": [
    {
     "data": {
      "text/plain": [
       "'kursh'"
      ]
     },
     "execution_count": 22,
     "metadata": {},
     "output_type": "execute_result"
    }
   ],
   "source": [
    "name[:5]"
   ]
  },
  {
   "cell_type": "code",
   "execution_count": 25,
   "id": "92b7339e-da2e-4a61-9052-e950a9086995",
   "metadata": {},
   "outputs": [
    {
     "data": {
      "text/plain": [
       "'kurshed'"
      ]
     },
     "execution_count": 25,
     "metadata": {},
     "output_type": "execute_result"
    }
   ],
   "source": [
    "name[0:7]"
   ]
  },
  {
   "cell_type": "code",
   "execution_count": 26,
   "id": "4b352e75-824e-4fb1-8bba-cb7c346fd0ab",
   "metadata": {},
   "outputs": [
    {
     "data": {
      "text/plain": [
       "''"
      ]
     },
     "execution_count": 26,
     "metadata": {},
     "output_type": "execute_result"
    }
   ],
   "source": [
    "name[-2:-3]"
   ]
  },
  {
   "cell_type": "code",
   "execution_count": 27,
   "id": "1dfc8a83-b696-4522-87a3-3e0a698b652a",
   "metadata": {},
   "outputs": [
    {
     "data": {
      "text/plain": [
       "''"
      ]
     },
     "execution_count": 27,
     "metadata": {},
     "output_type": "execute_result"
    }
   ],
   "source": [
    "name[-1:-3]"
   ]
  },
  {
   "cell_type": "code",
   "execution_count": 28,
   "id": "365a06f6-e472-40a3-811e-7c848f9454a7",
   "metadata": {},
   "outputs": [
    {
     "data": {
      "text/plain": [
       "'kurshed Khan'"
      ]
     },
     "execution_count": 28,
     "metadata": {},
     "output_type": "execute_result"
    }
   ],
   "source": [
    "name"
   ]
  },
  {
   "cell_type": "code",
   "execution_count": 29,
   "id": "4ae13ab6-2c93-4e44-9f44-990ebc9002b2",
   "metadata": {},
   "outputs": [
    {
     "data": {
      "text/plain": [
       "'ha'"
      ]
     },
     "execution_count": 29,
     "metadata": {},
     "output_type": "execute_result"
    }
   ],
   "source": [
    "name[-3:-1]"
   ]
  },
  {
   "cell_type": "code",
   "execution_count": 30,
   "id": "c70dab40-de48-4f1e-9f59-80be9669c695",
   "metadata": {},
   "outputs": [
    {
     "data": {
      "text/plain": [
       "'nahK dehsruk'"
      ]
     },
     "execution_count": 30,
     "metadata": {},
     "output_type": "execute_result"
    }
   ],
   "source": [
    "name[::-1]"
   ]
  },
  {
   "cell_type": "code",
   "execution_count": 31,
   "id": "772a19eb-990d-4588-ba32-60ff8f1f3850",
   "metadata": {},
   "outputs": [
    {
     "data": {
      "text/plain": [
       "'Khan'"
      ]
     },
     "execution_count": 31,
     "metadata": {},
     "output_type": "execute_result"
    }
   ],
   "source": [
    "name[-4:]"
   ]
  },
  {
   "cell_type": "markdown",
   "id": "be852961-1cdd-4829-9103-156e1ba7c5e3",
   "metadata": {},
   "source": [
    "# Reassigning String\n",
    "    The string object doesn't support item assignment.\n",
    "    \n",
    "    Updating the content of the strings is as easy assigning it to a new string. \n",
    "    \n",
    "    Strings are immutable in Python.\n",
    "\n",
    "    A string can only be replaced with new string since its content cannot be partially replaced. \n",
    "    "
   ]
  },
  {
   "cell_type": "code",
   "execution_count": 32,
   "id": "f1db39e6-1101-4d52-9865-0920f02d1d1c",
   "metadata": {},
   "outputs": [],
   "source": [
    "str1 = \"Hello\""
   ]
  },
  {
   "cell_type": "code",
   "execution_count": 33,
   "id": "8b6267c3-2464-4fdc-af93-1f1dbfaf6ba7",
   "metadata": {},
   "outputs": [
    {
     "ename": "TypeError",
     "evalue": "'type' object does not support item assignment",
     "output_type": "error",
     "traceback": [
      "\u001b[1;31m---------------------------------------------------------------------------\u001b[0m",
      "\u001b[1;31mTypeError\u001b[0m                                 Traceback (most recent call last)",
      "Cell \u001b[1;32mIn[33], line 1\u001b[0m\n\u001b[1;32m----> 1\u001b[0m \u001b[38;5;28;43mstr\u001b[39;49m\u001b[43m[\u001b[49m\u001b[38;5;241;43m0\u001b[39;49m\u001b[43m]\u001b[49m \u001b[38;5;241m=\u001b[39m \u001b[38;5;124m'\u001b[39m\u001b[38;5;124mh\u001b[39m\u001b[38;5;124m'\u001b[39m\n",
      "\u001b[1;31mTypeError\u001b[0m: 'type' object does not support item assignment"
     ]
    }
   ],
   "source": [
    "str[0] = 'h'"
   ]
  },
  {
   "cell_type": "code",
   "execution_count": 34,
   "id": "4f0a0ebd-a78d-4875-9a95-dd90625754c1",
   "metadata": {},
   "outputs": [
    {
     "data": {
      "text/plain": [
       "'Hello'"
      ]
     },
     "execution_count": 34,
     "metadata": {},
     "output_type": "execute_result"
    }
   ],
   "source": [
    "str1"
   ]
  },
  {
   "cell_type": "code",
   "execution_count": 35,
   "id": "9f79efaf-cb20-459d-9dd1-991c575c77ae",
   "metadata": {},
   "outputs": [],
   "source": [
    "str1 = \"Hey\""
   ]
  },
  {
   "cell_type": "code",
   "execution_count": 36,
   "id": "ba15535e-22ab-4db2-a021-ca35783ac485",
   "metadata": {},
   "outputs": [
    {
     "data": {
      "text/plain": [
       "'Hey'"
      ]
     },
     "execution_count": 36,
     "metadata": {},
     "output_type": "execute_result"
    }
   ],
   "source": [
    "str1"
   ]
  },
  {
   "cell_type": "markdown",
   "id": "c34bd70a-fffe-4d47-b5b1-a103cbb89d8c",
   "metadata": {},
   "source": [
    "### Deleting the String\n",
    "    As we know that strings are immutable. \n",
    "    \n",
    "    We cannot delete or remove the characters from the string.  \n",
    "    \n",
    "    But we can delete the entire string using the del keyword.\r\n",
    "\r\n"
   ]
  },
  {
   "cell_type": "code",
   "execution_count": 37,
   "id": "7d683c68-3096-4b00-a695-58f89d7c252e",
   "metadata": {},
   "outputs": [
    {
     "data": {
      "text/plain": [
       "str"
      ]
     },
     "execution_count": 37,
     "metadata": {},
     "output_type": "execute_result"
    }
   ],
   "source": [
    "str"
   ]
  },
  {
   "cell_type": "code",
   "execution_count": 38,
   "id": "e4a4d26e-8fc0-4271-8723-6cb08ae11089",
   "metadata": {},
   "outputs": [
    {
     "data": {
      "text/plain": [
       "'Hey'"
      ]
     },
     "execution_count": 38,
     "metadata": {},
     "output_type": "execute_result"
    }
   ],
   "source": [
    "str1"
   ]
  },
  {
   "cell_type": "code",
   "execution_count": 39,
   "id": "bdd211f3-31d4-43b5-90c8-5d48a6c56ab2",
   "metadata": {},
   "outputs": [],
   "source": [
    "del str1"
   ]
  },
  {
   "cell_type": "code",
   "execution_count": 40,
   "id": "529033e0-ecf8-4b8b-9f9d-6f4325d78917",
   "metadata": {},
   "outputs": [
    {
     "ename": "NameError",
     "evalue": "name 'str1' is not defined",
     "output_type": "error",
     "traceback": [
      "\u001b[1;31m---------------------------------------------------------------------------\u001b[0m",
      "\u001b[1;31mNameError\u001b[0m                                 Traceback (most recent call last)",
      "Cell \u001b[1;32mIn[40], line 1\u001b[0m\n\u001b[1;32m----> 1\u001b[0m \u001b[43mstr1\u001b[49m\n",
      "\u001b[1;31mNameError\u001b[0m: name 'str1' is not defined"
     ]
    }
   ],
   "source": [
    "str1"
   ]
  },
  {
   "cell_type": "code",
   "execution_count": 41,
   "id": "dfc9af0c-27ca-4131-a63d-1167dd06b364",
   "metadata": {},
   "outputs": [],
   "source": [
    "str1 = \"String\""
   ]
  },
  {
   "cell_type": "code",
   "execution_count": 42,
   "id": "2f0868b3-0272-4c60-b312-045f8e561cda",
   "metadata": {},
   "outputs": [
    {
     "data": {
      "text/plain": [
       "'StringStringString'"
      ]
     },
     "execution_count": 42,
     "metadata": {},
     "output_type": "execute_result"
    }
   ],
   "source": [
    "str1*3"
   ]
  },
  {
   "cell_type": "code",
   "execution_count": 43,
   "id": "2b29c371-a5ae-4962-900d-438ac4858058",
   "metadata": {},
   "outputs": [],
   "source": [
    "str2 = \"String1\""
   ]
  },
  {
   "cell_type": "code",
   "execution_count": 44,
   "id": "0e14fe10-eab8-4519-bb89-c3e5b4cf500d",
   "metadata": {},
   "outputs": [
    {
     "data": {
      "text/plain": [
       "'StringString1'"
      ]
     },
     "execution_count": 44,
     "metadata": {},
     "output_type": "execute_result"
    }
   ],
   "source": [
    "str1 + str2"
   ]
  },
  {
   "cell_type": "code",
   "execution_count": 45,
   "id": "51268a9a-1bdb-47b8-8904-d3c4e3c41239",
   "metadata": {},
   "outputs": [
    {
     "data": {
      "text/plain": [
       "'i'"
      ]
     },
     "execution_count": 45,
     "metadata": {},
     "output_type": "execute_result"
    }
   ],
   "source": [
    "str1[3]"
   ]
  },
  {
   "cell_type": "code",
   "execution_count": 46,
   "id": "51a8b918-5cc7-4eea-8ef3-9029decbe63a",
   "metadata": {},
   "outputs": [
    {
     "data": {
      "text/plain": [
       "'tri'"
      ]
     },
     "execution_count": 46,
     "metadata": {},
     "output_type": "execute_result"
    }
   ],
   "source": [
    "str1[1:4]"
   ]
  },
  {
   "cell_type": "code",
   "execution_count": 47,
   "id": "8cec0270-3452-42ba-9211-ae2b357da67e",
   "metadata": {},
   "outputs": [
    {
     "data": {
      "text/plain": [
       "True"
      ]
     },
     "execution_count": 47,
     "metadata": {},
     "output_type": "execute_result"
    }
   ],
   "source": [
    "'t' in str1"
   ]
  },
  {
   "cell_type": "code",
   "execution_count": 48,
   "id": "2a7f62d8-2328-4e8a-84de-ebd90a0c2536",
   "metadata": {},
   "outputs": [
    {
     "data": {
      "text/plain": [
       "False"
      ]
     },
     "execution_count": 48,
     "metadata": {},
     "output_type": "execute_result"
    }
   ],
   "source": [
    "'t' not in str1"
   ]
  },
  {
   "cell_type": "code",
   "execution_count": 52,
   "id": "ed411dde-b94e-45d4-ba66-01eca0ea155c",
   "metadata": {},
   "outputs": [
    {
     "name": "stdout",
     "output_type": "stream",
     "text": [
      "c://python37\n"
     ]
    }
   ],
   "source": [
    "print(r'c://python37')"
   ]
  },
  {
   "cell_type": "code",
   "execution_count": 72,
   "id": "66d9524a-fe50-45c0-8b49-6432e3a3993a",
   "metadata": {},
   "outputs": [
    {
     "name": "stdout",
     "output_type": "stream",
     "text": [
      "The string str :String\n"
     ]
    }
   ],
   "source": [
    "print(\"The string str :%s\"%(str1))"
   ]
  },
  {
   "cell_type": "markdown",
   "id": "f5b9590b-f634-4b27-83c9-0ca40b0ffc25",
   "metadata": {},
   "source": [
    "### The format() method\n",
    "    The format() method is the most flexible and useful method in formatting strings. \n",
    "    \n",
    "    The curly braces {} are used as the placeholder in the string and replaced by the format() method argument. "
   ]
  },
  {
   "cell_type": "code",
   "execution_count": 74,
   "id": "f01216b1-e864-4408-b197-36079f38c817",
   "metadata": {},
   "outputs": [
    {
     "name": "stdout",
     "output_type": "stream",
     "text": [
      "My name is kurshed,and I am 21 year old \n"
     ]
    }
   ],
   "source": [
    "print(\"My name is {},and I am {} year old \".format(\"kurshed\",21))"
   ]
  },
  {
   "cell_type": "code",
   "execution_count": 76,
   "id": "fd81e0ca-255d-4994-af76-14be7ff8373f",
   "metadata": {},
   "outputs": [
    {
     "name": "stdout",
     "output_type": "stream",
     "text": [
      "My name is Ummed, and my friend name is Kurshed\n"
     ]
    }
   ],
   "source": [
    "print(\"My name is {1}, and my friend name is {0}\".format(\"Kurshed\",\"Ummed\"))"
   ]
  },
  {
   "cell_type": "code",
   "execution_count": 77,
   "id": "bde4de54-e73d-4fb1-9350-e0265ab535c0",
   "metadata": {},
   "outputs": [
    {
     "name": "stdout",
     "output_type": "stream",
     "text": [
      "Kurshed,Sonika,Ummed\n"
     ]
    }
   ],
   "source": [
    "print(\"{a},{b},{c}\".format(a = \"Kurshed\",b = \"Sonika\",c= \"Ummed\"))"
   ]
  },
  {
   "cell_type": "markdown",
   "id": "8582041f-641b-450b-9899-cd953d9fcf2d",
   "metadata": {},
   "source": [
    "# Python String functions\n",
    "    Python provides various in-built functions that are used for string handling.\n"
   ]
  },
  {
   "cell_type": "markdown",
   "id": "dd849296-52e3-4f8a-9086-5d9f5b9979ee",
   "metadata": {},
   "source": [
    "1. capitalize() method"
   ]
  },
  {
   "cell_type": "markdown",
   "id": "02fcc165-7891-4acb-8851-c7fca86396f3",
   "metadata": {},
   "source": [
    "## capitalize() Method\n",
    "    Python capitalize() method converts first character of the string into uppercase without altering the whole string. \n",
    "    \n",
    "    It changes the first character only and skips rest of the string unchanged."
   ]
  },
  {
   "cell_type": "code",
   "execution_count": 14,
   "id": "70748a3c-8f70-4c48-81df-f3fe98bc446c",
   "metadata": {},
   "outputs": [],
   "source": [
    "# python capitalize() function \n",
    "str1 = \"kurshed khan\";"
   ]
  },
  {
   "cell_type": "code",
   "execution_count": 15,
   "id": "3b2341e0-8540-4655-bc0b-1f2f9f443705",
   "metadata": {},
   "outputs": [
    {
     "data": {
      "text/plain": [
       "'kurshed khan'"
      ]
     },
     "execution_count": 15,
     "metadata": {},
     "output_type": "execute_result"
    }
   ],
   "source": [
    "str1"
   ]
  },
  {
   "cell_type": "code",
   "execution_count": 16,
   "id": "58c821d8-300a-4042-aa7a-4743586571f5",
   "metadata": {},
   "outputs": [
    {
     "data": {
      "text/plain": [
       "'Kurshed khan'"
      ]
     },
     "execution_count": 16,
     "metadata": {},
     "output_type": "execute_result"
    }
   ],
   "source": [
    "str1.capitalize()"
   ]
  },
  {
   "cell_type": "code",
   "execution_count": 17,
   "id": "8a0c13cd-ccf0-4ad3-922c-118d7d1a5d02",
   "metadata": {},
   "outputs": [],
   "source": [
    "str1 = str1.capitalize()"
   ]
  },
  {
   "cell_type": "code",
   "execution_count": 18,
   "id": "015d1f32-d950-407d-8b5e-6e777042fac4",
   "metadata": {},
   "outputs": [
    {
     "data": {
      "text/plain": [
       "'Kurshed khan'"
      ]
     },
     "execution_count": 18,
     "metadata": {},
     "output_type": "execute_result"
    }
   ],
   "source": [
    "str1"
   ]
  },
  {
   "cell_type": "code",
   "execution_count": 19,
   "id": "51fb9b01-85e1-45e8-a688-d1317a7f74e7",
   "metadata": {},
   "outputs": [],
   "source": [
    "name = \"Kurshed\""
   ]
  },
  {
   "cell_type": "code",
   "execution_count": 20,
   "id": "67763072-da3f-47ff-8761-2250577a4eb1",
   "metadata": {},
   "outputs": [],
   "source": [
    "firstname = name.capitalize()"
   ]
  },
  {
   "cell_type": "code",
   "execution_count": 21,
   "id": "dc28fbc4-3db4-4d4d-9a0d-39df1206f393",
   "metadata": {},
   "outputs": [
    {
     "data": {
      "text/plain": [
       "'Kurshed'"
      ]
     },
     "execution_count": 21,
     "metadata": {},
     "output_type": "execute_result"
    }
   ],
   "source": [
    "firstname"
   ]
  },
  {
   "cell_type": "code",
   "execution_count": 22,
   "id": "8c263936-3fbf-4dc9-b815-e0dd31a1fecb",
   "metadata": {},
   "outputs": [],
   "source": [
    "name = \"@kurshed\""
   ]
  },
  {
   "cell_type": "code",
   "execution_count": 23,
   "id": "f97d831a-e326-412a-9991-ac347964766b",
   "metadata": {},
   "outputs": [
    {
     "data": {
      "text/plain": [
       "'@kurshed'"
      ]
     },
     "execution_count": 23,
     "metadata": {},
     "output_type": "execute_result"
    }
   ],
   "source": [
    "name"
   ]
  },
  {
   "cell_type": "code",
   "execution_count": 24,
   "id": "de197b4d-0ec3-45db-8d5d-892e0cb8ad77",
   "metadata": {},
   "outputs": [],
   "source": [
    "secondname = name.capitalize()"
   ]
  },
  {
   "cell_type": "code",
   "execution_count": 25,
   "id": "9a3a953a-f527-48d0-b1ff-d62458d7d769",
   "metadata": {},
   "outputs": [
    {
     "data": {
      "text/plain": [
       "'@kurshed'"
      ]
     },
     "execution_count": 25,
     "metadata": {},
     "output_type": "execute_result"
    }
   ],
   "source": [
    "secondname"
   ]
  },
  {
   "cell_type": "markdown",
   "id": "e374fa27-0105-48a3-b3f9-f585cdfde7ed",
   "metadata": {},
   "source": [
    "## Casefold() Method\n",
    "    Python Casefold() method returns a lowercase copy of the string. \n",
    "    \n",
    "    It is more simillar to lowercase method except it revomes all case distinctions present in the string.        "
   ]
  },
  {
   "cell_type": "code",
   "execution_count": 26,
   "id": "a5def41e-62db-411b-8e81-173a6e6b8f09",
   "metadata": {},
   "outputs": [],
   "source": [
    "# casefold() function\n",
    "name = \"Kurshed Khan\""
   ]
  },
  {
   "cell_type": "code",
   "execution_count": 27,
   "id": "a35cd5fd-9dcf-4ca5-9fde-722837c72d93",
   "metadata": {},
   "outputs": [],
   "source": [
    "name1 = name.casefold()"
   ]
  },
  {
   "cell_type": "code",
   "execution_count": 28,
   "id": "3dfc7ef1-99a1-48e4-879d-497d1b7bc2d6",
   "metadata": {},
   "outputs": [
    {
     "data": {
      "text/plain": [
       "'kurshed khan'"
      ]
     },
     "execution_count": 28,
     "metadata": {},
     "output_type": "execute_result"
    }
   ],
   "source": [
    "name1"
   ]
  },
  {
   "cell_type": "code",
   "execution_count": 29,
   "id": "f2eadb80-96d0-4dfb-84d5-630ec9d3e311",
   "metadata": {},
   "outputs": [],
   "source": [
    "name = \"kurshed khan\""
   ]
  },
  {
   "cell_type": "code",
   "execution_count": 30,
   "id": "a5a6648b-36de-4725-98c0-7ed2c2cf4060",
   "metadata": {},
   "outputs": [],
   "source": [
    "name1 = name.casefold()"
   ]
  },
  {
   "cell_type": "code",
   "execution_count": 31,
   "id": "edde0a8d-0b91-474d-a2b4-0c75ee4a0dab",
   "metadata": {},
   "outputs": [
    {
     "data": {
      "text/plain": [
       "'kurshed khan'"
      ]
     },
     "execution_count": 31,
     "metadata": {},
     "output_type": "execute_result"
    }
   ],
   "source": [
    "name1"
   ]
  },
  {
   "cell_type": "code",
   "execution_count": 32,
   "id": "00fa3d30-8080-4684-b496-548316df47bf",
   "metadata": {},
   "outputs": [],
   "source": [
    "str1 = \"JAVATPOINT - β\" "
   ]
  },
  {
   "cell_type": "code",
   "execution_count": 33,
   "id": "a18c675f-403c-4ec7-8eec-e5219eab5b84",
   "metadata": {},
   "outputs": [],
   "source": [
    "str2 = str1.casefold()"
   ]
  },
  {
   "cell_type": "code",
   "execution_count": 34,
   "id": "3655a147-10aa-44f8-a72f-6c23d6a67ac8",
   "metadata": {},
   "outputs": [
    {
     "data": {
      "text/plain": [
       "'javatpoint - β'"
      ]
     },
     "execution_count": 34,
     "metadata": {},
     "output_type": "execute_result"
    }
   ],
   "source": [
    "str2"
   ]
  },
  {
   "cell_type": "code",
   "execution_count": 35,
   "id": "54d79fc4-bc84-40f2-9886-45479238b060",
   "metadata": {},
   "outputs": [],
   "source": [
    "name = \"KurSHed KHan\""
   ]
  },
  {
   "cell_type": "code",
   "execution_count": 36,
   "id": "cb635327-28d7-4b34-98f6-40615ada1a0a",
   "metadata": {},
   "outputs": [],
   "source": [
    "name = name.casefold()"
   ]
  },
  {
   "cell_type": "code",
   "execution_count": 37,
   "id": "83a41405-c628-43d1-a809-c1d0dd8cddae",
   "metadata": {},
   "outputs": [
    {
     "data": {
      "text/plain": [
       "'kurshed khan'"
      ]
     },
     "execution_count": 37,
     "metadata": {},
     "output_type": "execute_result"
    }
   ],
   "source": [
    "name"
   ]
  },
  {
   "cell_type": "markdown",
   "id": "ae2314e1-4a84-4b0b-b4a9-a0420a10b2c6",
   "metadata": {},
   "source": [
    "## center(width,fillchar) method\n",
    "    Python center() method alligns string to the center by filling paddings left and right of the string. \n",
    "    \n",
    "    This method takes two parameters, first is a width and second is a **[fillchar which is optional.]**\n",
    "    \n",
    "    The fillchar is a character which is used to fill left and right padding of the string."
   ]
  },
  {
   "cell_type": "code",
   "execution_count": 38,
   "id": "fa64c5e0-39fc-4002-886b-d57b8cc89cda",
   "metadata": {},
   "outputs": [],
   "source": [
    "# Width(required)"
   ]
  },
  {
   "cell_type": "code",
   "execution_count": 39,
   "id": "5c3ee755-efad-4546-9d07-2ab53eb65153",
   "metadata": {},
   "outputs": [],
   "source": [
    "#fillchar(optional)"
   ]
  },
  {
   "cell_type": "code",
   "execution_count": 41,
   "id": "deb30bdb-2b0f-4cf1-a629-2059f253d62e",
   "metadata": {},
   "outputs": [],
   "source": [
    "# Python center() function\n",
    "Name = \"Kurshed Khan\""
   ]
  },
  {
   "cell_type": "code",
   "execution_count": 42,
   "id": "b53043d3-88af-46b4-9c27-ea74bcb78d73",
   "metadata": {},
   "outputs": [],
   "source": [
    "Name = Name.center(20)"
   ]
  },
  {
   "cell_type": "code",
   "execution_count": 43,
   "id": "6e8d482c-9a60-4850-88ca-909cc72f2241",
   "metadata": {},
   "outputs": [
    {
     "data": {
      "text/plain": [
       "'    Kurshed Khan    '"
      ]
     },
     "execution_count": 43,
     "metadata": {},
     "output_type": "execute_result"
    }
   ],
   "source": [
    "Name"
   ]
  },
  {
   "cell_type": "code",
   "execution_count": 53,
   "id": "a38fe557-4721-4cfb-bb22-18397ef1abe2",
   "metadata": {},
   "outputs": [],
   "source": [
    "Name = Name.center(20,'#')"
   ]
  },
  {
   "cell_type": "code",
   "execution_count": 56,
   "id": "a303226f-98de-4b1f-9b92-64c0b05e269a",
   "metadata": {},
   "outputs": [
    {
     "name": "stdout",
     "output_type": "stream",
     "text": [
      "    Kurshed Khan    \n"
     ]
    }
   ],
   "source": [
    "print(Name)"
   ]
  },
  {
   "cell_type": "markdown",
   "id": "de9085fc-6419-4a08-8ce5-b91f77e320c0",
   "metadata": {},
   "source": [
    "## count(string,begin,end) Method \n",
    "    \n",
    "    It returns the number of occurences of substring in the specified range. \n",
    "    \n",
    "    It takes three parameters, first is a substring, second a start index and third is last index of the range. \n",
    "    \n",
    "    Start and end both are optional whereas substring is required."
   ]
  },
  {
   "cell_type": "code",
   "execution_count": 2,
   "id": "a9435d5f-c325-40c3-bc8e-c443a93b2534",
   "metadata": {},
   "outputs": [],
   "source": [
    "# Python count() function\n",
    "str1 = \"kurshedkhan\""
   ]
  },
  {
   "cell_type": "code",
   "execution_count": 3,
   "id": "27e09458-d794-4422-8014-59a921cfad39",
   "metadata": {},
   "outputs": [],
   "source": [
    "str2 = str1.count(\"k\")"
   ]
  },
  {
   "cell_type": "code",
   "execution_count": 4,
   "id": "1c938001-157c-4683-ab06-ef2f5661eb2f",
   "metadata": {},
   "outputs": [
    {
     "data": {
      "text/plain": [
       "2"
      ]
     },
     "execution_count": 4,
     "metadata": {},
     "output_type": "execute_result"
    }
   ],
   "source": [
    "str2"
   ]
  },
  {
   "cell_type": "code",
   "execution_count": 5,
   "id": "189278e3-e309-4892-8ee5-a48f535cb58c",
   "metadata": {},
   "outputs": [],
   "source": [
    "name = \"Kurshed khan\""
   ]
  },
  {
   "cell_type": "code",
   "execution_count": 6,
   "id": "7bba9ba0-d0f6-4904-91f8-efad1c5e8d78",
   "metadata": {},
   "outputs": [
    {
     "data": {
      "text/plain": [
       "'Kurshed khan'"
      ]
     },
     "execution_count": 6,
     "metadata": {},
     "output_type": "execute_result"
    }
   ],
   "source": [
    "name"
   ]
  },
  {
   "cell_type": "code",
   "execution_count": 7,
   "id": "3060f54f-3a4b-4e7f-9acb-f2f1f93100a9",
   "metadata": {},
   "outputs": [],
   "source": [
    "name1 = name.count(\"k\")"
   ]
  },
  {
   "cell_type": "code",
   "execution_count": 8,
   "id": "5f9537e1-6c0a-48b3-ace6-661ed5f3b666",
   "metadata": {},
   "outputs": [
    {
     "data": {
      "text/plain": [
       "1"
      ]
     },
     "execution_count": 8,
     "metadata": {},
     "output_type": "execute_result"
    }
   ],
   "source": [
    "name1"
   ]
  },
  {
   "cell_type": "code",
   "execution_count": 9,
   "id": "fff0142a-6098-4461-8333-c7a083c9129f",
   "metadata": {},
   "outputs": [],
   "source": [
    "name1 = name.count(\"k\",2,8)"
   ]
  },
  {
   "cell_type": "code",
   "execution_count": 10,
   "id": "739473b7-234d-4795-9b41-36e2b4fdbe73",
   "metadata": {},
   "outputs": [
    {
     "data": {
      "text/plain": [
       "0"
      ]
     },
     "execution_count": 10,
     "metadata": {},
     "output_type": "execute_result"
    }
   ],
   "source": [
    "name1"
   ]
  },
  {
   "cell_type": "code",
   "execution_count": 11,
   "id": "0859cebe-3bf1-4b52-a2d1-73e8ef4720c3",
   "metadata": {},
   "outputs": [],
   "source": [
    "name1 = name.count(\"k\",2,9)"
   ]
  },
  {
   "cell_type": "code",
   "execution_count": 12,
   "id": "c91fcee0-ec22-45a1-b32c-3cd479ac8e2b",
   "metadata": {},
   "outputs": [
    {
     "data": {
      "text/plain": [
       "1"
      ]
     },
     "execution_count": 12,
     "metadata": {},
     "output_type": "execute_result"
    }
   ],
   "source": [
    "name1"
   ]
  },
  {
   "cell_type": "markdown",
   "id": "1d9bf836-6901-483b-ac1d-946968cec494",
   "metadata": {},
   "source": [
    "## encode() Method \n",
    "    Encoding is a process of converting text from one standard code to another.\n",
    "\n",
    "    Python encode() method encodes the string according to the provided encoding standard. \n",
    "    \n",
    "    By default Python strings are in unicode form but can be encoded to other standards also.\n",
    "    "
   ]
  },
  {
   "cell_type": "markdown",
   "id": "df387a17-52c1-41d8-9d83-ddd90c6aa5f1",
   "metadata": {},
   "source": [
    "## What is a Unicode?\r",
    "    Unicode is an international encoding standard which can be used with various languages and scripts. \n",
    "    \n",
    "    In Unicode, each symbol, letter or digit is assigned to a specific number. \n",
    "    \n",
    "    This numeric value can be applied across different platforms, hence the name Unicode.."
   ]
  },
  {
   "cell_type": "markdown",
   "id": "bc62f9dd-783c-4683-94f8-c06e348389ac",
   "metadata": {},
   "source": [
    "## What Does UTF mean?\n",
    "    The term UTF stands for \" Unicode Transformation Format \". \n",
    "    \n",
    "    The Unicode Transformation Format is a structure to encode characters into Unicode. \n",
    "    \n",
    "    There exist multiple versions of the UTF, from which the \" UTF-8 \" version stands out in the most prolific way. \n",
    "    \n",
    "    The UTF-8 is a variable-length encoder and uses 8-bit code units while encoding. \n",
    "    \n",
    "    The UTF-8 version is designed for backwards compatibility with ASCII encoding. \n",
    "    \n",
    "    The number of blocks used to represent a character varies from one to four in the Unicode Transformation Format.,"
   ]
  },
  {
   "cell_type": "markdown",
   "id": "5ea1d3ca-2b6d-4f31-bad3-34a7ffa80381",
   "metadata": {},
   "source": [
    "     UTF-1: The first of the Unicode Transformation Formats. It is no longer a part of the Unicode standard.\n",
    "    \n",
    "    UTF-7: Uses 7-bits for the encoding process. It is the format which is primarily used in the mailing software \"email\".\n",
    "    \n",
    "    UTF-8: It is the most used format in the present times. The UTF-8 uses 8-bits to encode with variable width.\n",
    "    \n",
    "    UTF-16: Uses the 16-bit variable-width encoding format.\n",
    "    \n",
    "    UTF-32: Uses 32-bits for encoding, but the width is fixed, i.e. not variable width.\n",
    "    \n",
    "    UTF-EBCIDC: This format uses only 8-bits for encoding. It is designed to be compatible with the Extended Binary Coded Decimal Interchange Code ( EBCDIC ).IC )."
   ]
  },
  {
   "cell_type": "code",
   "execution_count": null,
   "id": "9a548cea-2bbb-4e89-b087-ce78c996ad85",
   "metadata": {},
   "outputs": [],
   "source": []
  }
 ],
 "metadata": {
  "kernelspec": {
   "display_name": "Python 3 (ipykernel)",
   "language": "python",
   "name": "python3"
  },
  "language_info": {
   "codemirror_mode": {
    "name": "ipython",
    "version": 3
   },
   "file_extension": ".py",
   "mimetype": "text/x-python",
   "name": "python",
   "nbconvert_exporter": "python",
   "pygments_lexer": "ipython3",
   "version": "3.12.0"
  }
 },
 "nbformat": 4,
 "nbformat_minor": 5
}
