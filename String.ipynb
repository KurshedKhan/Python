{
 "cells": [
  {
   "cell_type": "markdown",
   "id": "3331499f-ae78-4938-a8d8-d4f50a9c077e",
   "metadata": {},
   "source": [
    "# String"
   ]
  },
  {
   "cell_type": "markdown",
   "id": "365974c2-91c4-44e1-9f3e-93449e3b3249",
   "metadata": {},
   "source": [
    "- String is a sequence which is made up of one or more UNICODE characters.\n",
    "- The character can be a letter, digit, whitespace or any other symbol.\n",
    "- A string can be created by enclosing one or more characters in single, double or triple quote."
   ]
  },
  {
   "cell_type": "code",
   "execution_count": 2,
   "id": "771f08fc-fe66-496a-ac13-ff8e3d18f3fd",
   "metadata": {},
   "outputs": [],
   "source": [
    "str1 = 'Hello World!'\n",
    "str2 = \"Hello World!\"\n",
    "str3 = \"\"\"Hello World!\"\"\"\n",
    "str4 = '''Hello World!'''"
   ]
  },
  {
   "cell_type": "code",
   "execution_count": 3,
   "id": "ccfa7f22-209c-45ff-ab57-2ce599d526ff",
   "metadata": {},
   "outputs": [
    {
     "data": {
      "text/plain": [
       "'Hello World!'"
      ]
     },
     "execution_count": 3,
     "metadata": {},
     "output_type": "execute_result"
    }
   ],
   "source": [
    "str1"
   ]
  },
  {
   "cell_type": "code",
   "execution_count": 4,
   "id": "b285524d-a909-4256-9d84-3cb9a46ff12f",
   "metadata": {},
   "outputs": [
    {
     "data": {
      "text/plain": [
       "'Hello World!'"
      ]
     },
     "execution_count": 4,
     "metadata": {},
     "output_type": "execute_result"
    }
   ],
   "source": [
    "str2"
   ]
  },
  {
   "cell_type": "code",
   "execution_count": 5,
   "id": "c25debc1-97eb-4b98-b579-7431e69bf072",
   "metadata": {},
   "outputs": [
    {
     "data": {
      "text/plain": [
       "'Hello World!'"
      ]
     },
     "execution_count": 5,
     "metadata": {},
     "output_type": "execute_result"
    }
   ],
   "source": [
    "str3"
   ]
  },
  {
   "cell_type": "code",
   "execution_count": 6,
   "id": "34855485-b246-404e-8d0a-f08c1c7fc679",
   "metadata": {},
   "outputs": [
    {
     "data": {
      "text/plain": [
       "'Hello World!'"
      ]
     },
     "execution_count": 6,
     "metadata": {},
     "output_type": "execute_result"
    }
   ],
   "source": [
    "str4"
   ]
  },
  {
   "cell_type": "markdown",
   "id": "31361926-2cb2-49f9-8a9d-73b2310d9cc7",
   "metadata": {},
   "source": [
    "####  Values stored in str3 and str4 can be extended to multiple lines using triple quote."
   ]
  },
  {
   "cell_type": "code",
   "execution_count": 7,
   "id": "a886a988-aae0-46b8-8eb8-8814d108ad67",
   "metadata": {},
   "outputs": [],
   "source": [
    "str3 = \"\"\" Hello World!\n",
    "Welcome to the world of Python\"\"\""
   ]
  },
  {
   "cell_type": "code",
   "execution_count": 8,
   "id": "d2cb2e44-1e18-4dd1-ae3a-a34a94d558c8",
   "metadata": {},
   "outputs": [
    {
     "data": {
      "text/plain": [
       "' Hello World!\\nWelcome to the world of Python'"
      ]
     },
     "execution_count": 8,
     "metadata": {},
     "output_type": "execute_result"
    }
   ],
   "source": [
    "str3"
   ]
  },
  {
   "cell_type": "code",
   "execution_count": null,
   "id": "aa4e6cfd-b79f-41ac-aa86-4f8fd06fa7e3",
   "metadata": {},
   "outputs": [],
   "source": []
  },
  {
   "cell_type": "code",
   "execution_count": null,
   "id": "b46d57ac-0db2-41a5-9455-b437122799e4",
   "metadata": {},
   "outputs": [],
   "source": []
  },
  {
   "cell_type": "markdown",
   "id": "c8b1dd3d-53ab-4e8a-b85f-640cfc34ac70",
   "metadata": {},
   "source": [
    "## Accessing Characters in a String "
   ]
  },
  {
   "cell_type": "markdown",
   "id": "d229091d-2231-4fd7-be53-570c3d811152",
   "metadata": {},
   "source": [
    "- Each individual character in a string can be accessed using a technique called indexing.\n",
    "- The index specifies the character to be accessed in the string and is written in square brackets ([ ]).\n",
    "- The index of the first character from left) in the string is 0 and the last character is n-1.\n",
    "-  Where n is the length of the string.\n",
    "-  If we give index value out of this range then we get an IndexError.\n",
    "-  The index must be an integer (positive, zero or negative)."
   ]
  },
  {
   "cell_type": "code",
   "execution_count": 9,
   "id": "385f6877-bd09-4e71-b091-fc21822dcc8b",
   "metadata": {},
   "outputs": [],
   "source": [
    "# initializes a string str1\n",
    "str1 = \"Hello World!\""
   ]
  },
  {
   "cell_type": "code",
   "execution_count": 10,
   "id": "fabcc25c-2482-406e-933c-4b2a4f674e74",
   "metadata": {},
   "outputs": [
    {
     "data": {
      "text/plain": [
       "'Hello World!'"
      ]
     },
     "execution_count": 10,
     "metadata": {},
     "output_type": "execute_result"
    }
   ],
   "source": [
    "str1"
   ]
  },
  {
   "cell_type": "code",
   "execution_count": 11,
   "id": "4f288498-a01f-43c1-aac4-330f70cf28f8",
   "metadata": {},
   "outputs": [
    {
     "data": {
      "text/plain": [
       "'H'"
      ]
     },
     "execution_count": 11,
     "metadata": {},
     "output_type": "execute_result"
    }
   ],
   "source": [
    "# gives the first character of str1\n",
    "str1[0]"
   ]
  },
  {
   "cell_type": "code",
   "execution_count": 12,
   "id": "adf3ee17-706e-4b8d-bdba-294d141346ce",
   "metadata": {},
   "outputs": [
    {
     "data": {
      "text/plain": [
       "'W'"
      ]
     },
     "execution_count": 12,
     "metadata": {},
     "output_type": "execute_result"
    }
   ],
   "source": [
    "# gives seventh character of str1\n",
    "str1[6]"
   ]
  },
  {
   "cell_type": "code",
   "execution_count": 13,
   "id": "f8a32f40-cf7e-4e62-98a2-8d4ad77b43c4",
   "metadata": {},
   "outputs": [
    {
     "data": {
      "text/plain": [
       "'!'"
      ]
     },
     "execution_count": 13,
     "metadata": {},
     "output_type": "execute_result"
    }
   ],
   "source": [
    "# gives last character of str1\n",
    "str1[11]"
   ]
  },
  {
   "cell_type": "code",
   "execution_count": 14,
   "id": "20cef40c-799d-451f-b303-451c4b68a213",
   "metadata": {},
   "outputs": [
    {
     "ename": "IndexError",
     "evalue": "string index out of range",
     "output_type": "error",
     "traceback": [
      "\u001b[1;31m---------------------------------------------------------------------------\u001b[0m",
      "\u001b[1;31mIndexError\u001b[0m                                Traceback (most recent call last)",
      "Cell \u001b[1;32mIn[14], line 2\u001b[0m\n\u001b[0;32m      1\u001b[0m \u001b[38;5;66;03m# gives error as index is out of range\u001b[39;00m\n\u001b[1;32m----> 2\u001b[0m \u001b[43mstr1\u001b[49m\u001b[43m[\u001b[49m\u001b[38;5;241;43m15\u001b[39;49m\u001b[43m]\u001b[49m\n",
      "\u001b[1;31mIndexError\u001b[0m: string index out of range"
     ]
    }
   ],
   "source": [
    "# gives error as index is out of range\n",
    "str1[15]"
   ]
  },
  {
   "cell_type": "code",
   "execution_count": null,
   "id": "f1d6c18f-189a-4b42-a89b-915a53ce5225",
   "metadata": {},
   "outputs": [],
   "source": []
  }
 ],
 "metadata": {
  "kernelspec": {
   "display_name": "Python 3 (ipykernel)",
   "language": "python",
   "name": "python3"
  },
  "language_info": {
   "codemirror_mode": {
    "name": "ipython",
    "version": 3
   },
   "file_extension": ".py",
   "mimetype": "text/x-python",
   "name": "python",
   "nbconvert_exporter": "python",
   "pygments_lexer": "ipython3",
   "version": "3.13.0"
  }
 },
 "nbformat": 4,
 "nbformat_minor": 5
}
