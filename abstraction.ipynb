{
 "cells": [
  {
   "cell_type": "code",
   "execution_count": 1,
   "id": "c6ba064d-ad1f-43f0-9ca0-ba75e39bbfb4",
   "metadata": {},
   "outputs": [
    {
     "name": "stdout",
     "output_type": "stream",
     "text": [
      "Baleno car mileage 20km\n"
     ]
    }
   ],
   "source": [
    "from abc import ABC\n",
    "class Car(ABC):\n",
    "    def mileage(self):\n",
    "        pass\n",
    "\n",
    "class Tasla(Car):\n",
    "    def mileage(self):\n",
    "        print(\"Tasla car mileage 50km\")\n",
    "\n",
    "class Tata(Car):\n",
    "    def mileage(self):\n",
    "        print(\"Tata car mileage 16km\")\n",
    "\n",
    "class Baleno(Car):\n",
    "    def mileage(self):\n",
    "        print(\"Baleno car mileage 20km\")\n",
    "\n",
    "class BMW(Car):\n",
    "    def mileage(self):\n",
    "        print(\"BMW car mileage 15km\")\n",
    "\n",
    "B = Baleno()\n",
    "B.mileage()"
   ]
  },
  {
   "cell_type": "code",
   "execution_count": 4,
   "id": "5deec21d-54c0-40c1-84d7-bc1003f9a93b",
   "metadata": {},
   "outputs": [
    {
     "name": "stdout",
     "output_type": "stream",
     "text": [
      "Tasla car mileage 50km\n"
     ]
    }
   ],
   "source": [
    "T = Tasla()\n",
    "T.mileage()"
   ]
  },
  {
   "cell_type": "code",
   "execution_count": null,
   "id": "d2b36105-34b8-4b0c-997b-2bafc6f10e59",
   "metadata": {},
   "outputs": [],
   "source": []
  }
 ],
 "metadata": {
  "kernelspec": {
   "display_name": "Python 3 (ipykernel)",
   "language": "python",
   "name": "python3"
  },
  "language_info": {
   "codemirror_mode": {
    "name": "ipython",
    "version": 3
   },
   "file_extension": ".py",
   "mimetype": "text/x-python",
   "name": "python",
   "nbconvert_exporter": "python",
   "pygments_lexer": "ipython3",
   "version": "3.12.0"
  }
 },
 "nbformat": 4,
 "nbformat_minor": 5
}
