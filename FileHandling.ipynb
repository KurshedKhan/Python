{
 "cells": [
  {
   "cell_type": "code",
   "execution_count": 1,
   "id": "5b990804-55b5-4fee-b537-eccc2f27b6cd",
   "metadata": {},
   "outputs": [
    {
     "name": "stdout",
     "output_type": "stream",
     "text": [
      "file is successfully open.\n"
     ]
    }
   ],
   "source": [
    "file = open(\"aarti.txt\",\"r\")\n",
    "if file :\n",
    "    print(\"file is successfully open.\")\n",
    "else:\n",
    "    print(\"your file is not open in system.\")\n",
    "    "
   ]
  },
  {
   "cell_type": "code",
   "execution_count": 3,
   "id": "a1548351-546b-4ad4-9435-97a922c2c5f0",
   "metadata": {},
   "outputs": [],
   "source": [
    "file = open(\"aarti.txt\",\"w\")\n",
    "file.write(\"aaj me class nhi luga kyuki aap late ho gye\")\n",
    "file.close()"
   ]
  },
  {
   "cell_type": "code",
   "execution_count": 4,
   "id": "e0437136-ab8b-4abd-bd04-6d9f29cfd26b",
   "metadata": {},
   "outputs": [
    {
     "name": "stdout",
     "output_type": "stream",
     "text": [
      "myfile : aaj me class nhi luga kyuki aap late ho gye\n"
     ]
    }
   ],
   "source": [
    "with open(\"aarti.txt\",\"r\") as file:\n",
    "    content = file.read()\n",
    "    print(\"myfile :\",content)"
   ]
  },
  {
   "cell_type": "code",
   "execution_count": 5,
   "id": "8677ce12-476a-4d78-8bda-53deeacb25b7",
   "metadata": {},
   "outputs": [
    {
     "ename": "FileNotFoundError",
     "evalue": "[Errno 2] No such file or directory: 'mytxtfile.txt'",
     "output_type": "error",
     "traceback": [
      "\u001b[1;31m---------------------------------------------------------------------------\u001b[0m",
      "\u001b[1;31mFileNotFoundError\u001b[0m                         Traceback (most recent call last)",
      "Cell \u001b[1;32mIn[5], line 1\u001b[0m\n\u001b[1;32m----> 1\u001b[0m file \u001b[38;5;241m=\u001b[39m \u001b[38;5;28;43mopen\u001b[39;49m\u001b[43m(\u001b[49m\u001b[38;5;124;43m\"\u001b[39;49m\u001b[38;5;124;43mmytxtfile.txt\u001b[39;49m\u001b[38;5;124;43m\"\u001b[39;49m\u001b[43m,\u001b[49m\u001b[38;5;124;43m\"\u001b[39;49m\u001b[38;5;124;43mr\u001b[39;49m\u001b[38;5;124;43m\"\u001b[39;49m\u001b[43m)\u001b[49m\n\u001b[0;32m      2\u001b[0m \u001b[38;5;28;01mif\u001b[39;00m file:\n\u001b[0;32m      3\u001b[0m     \u001b[38;5;28mprint\u001b[39m(\u001b[38;5;124m\"\u001b[39m\u001b[38;5;124mfile is created\u001b[39m\u001b[38;5;124m\"\u001b[39m)\n",
      "File \u001b[1;32m~\\AppData\\Local\\Programs\\Python\\Python312\\Lib\\site-packages\\IPython\\core\\interactiveshell.py:286\u001b[0m, in \u001b[0;36m_modified_open\u001b[1;34m(file, *args, **kwargs)\u001b[0m\n\u001b[0;32m    279\u001b[0m \u001b[38;5;28;01mif\u001b[39;00m file \u001b[38;5;129;01min\u001b[39;00m {\u001b[38;5;241m0\u001b[39m, \u001b[38;5;241m1\u001b[39m, \u001b[38;5;241m2\u001b[39m}:\n\u001b[0;32m    280\u001b[0m     \u001b[38;5;28;01mraise\u001b[39;00m \u001b[38;5;167;01mValueError\u001b[39;00m(\n\u001b[0;32m    281\u001b[0m         \u001b[38;5;124mf\u001b[39m\u001b[38;5;124m\"\u001b[39m\u001b[38;5;124mIPython won\u001b[39m\u001b[38;5;124m'\u001b[39m\u001b[38;5;124mt let you open fd=\u001b[39m\u001b[38;5;132;01m{\u001b[39;00mfile\u001b[38;5;132;01m}\u001b[39;00m\u001b[38;5;124m by default \u001b[39m\u001b[38;5;124m\"\u001b[39m\n\u001b[0;32m    282\u001b[0m         \u001b[38;5;124m\"\u001b[39m\u001b[38;5;124mas it is likely to crash IPython. If you know what you are doing, \u001b[39m\u001b[38;5;124m\"\u001b[39m\n\u001b[0;32m    283\u001b[0m         \u001b[38;5;124m\"\u001b[39m\u001b[38;5;124myou can use builtins\u001b[39m\u001b[38;5;124m'\u001b[39m\u001b[38;5;124m open.\u001b[39m\u001b[38;5;124m\"\u001b[39m\n\u001b[0;32m    284\u001b[0m     )\n\u001b[1;32m--> 286\u001b[0m \u001b[38;5;28;01mreturn\u001b[39;00m \u001b[43mio_open\u001b[49m\u001b[43m(\u001b[49m\u001b[43mfile\u001b[49m\u001b[43m,\u001b[49m\u001b[43m \u001b[49m\u001b[38;5;241;43m*\u001b[39;49m\u001b[43margs\u001b[49m\u001b[43m,\u001b[49m\u001b[43m \u001b[49m\u001b[38;5;241;43m*\u001b[39;49m\u001b[38;5;241;43m*\u001b[39;49m\u001b[43mkwargs\u001b[49m\u001b[43m)\u001b[49m\n",
      "\u001b[1;31mFileNotFoundError\u001b[0m: [Errno 2] No such file or directory: 'mytxtfile.txt'"
     ]
    }
   ],
   "source": [
    "file = open(\"mytxtfile.txt\",\"r\")\n",
    "if file:\n",
    "    print(\"file is created\")\n",
    "else:\n",
    "    print(\"file is not created\")"
   ]
  },
  {
   "cell_type": "code",
   "execution_count": 5,
   "id": "7aa27e31-d5a8-4e02-bc34-01e5b1f27e53",
   "metadata": {},
   "outputs": [
    {
     "name": "stdout",
     "output_type": "stream",
     "text": [
      "aaj me class nhi luga kyuki aap late ho gye\n"
     ]
    }
   ],
   "source": [
    "with open(\"aarti.txt\",\"r\") as aartifile:\n",
    "    data = aartifile.read()\n",
    "    print(data)"
   ]
  },
  {
   "cell_type": "code",
   "execution_count": 6,
   "id": "72b27988-a705-47fc-8779-29486d674bbb",
   "metadata": {},
   "outputs": [
    {
     "name": "stdout",
     "output_type": "stream",
     "text": [
      "file is created successfully\n"
     ]
    }
   ],
   "source": [
    "myfile = open(\"pooja.txt\",\"x\")\n",
    "if myfile :\n",
    "    print(\"file is created successfully\");\n",
    "else :\n",
    "    print(\"file is not created , please check your code.\")"
   ]
  },
  {
   "cell_type": "code",
   "execution_count": 7,
   "id": "bdfce53f-4582-428f-a115-0e0bc0c4c8ae",
   "metadata": {},
   "outputs": [
    {
     "name": "stdout",
     "output_type": "stream",
     "text": [
      "\n"
     ]
    }
   ],
   "source": [
    "myfile = open(\"pooja.txt\",\"r\")\n",
    "content = myfile.read()\n",
    "print(content)"
   ]
  },
  {
   "cell_type": "code",
   "execution_count": null,
   "id": "bdcc16df-93b2-48d8-9a53-6f867985bdbc",
   "metadata": {},
   "outputs": [],
   "source": []
  },
  {
   "cell_type": "code",
   "execution_count": 22,
   "id": "71374866-854e-419c-9930-b8092e575ddf",
   "metadata": {},
   "outputs": [
    {
     "name": "stdout",
     "output_type": "stream",
     "text": [
      "Pooja is a good girl.\n",
      " because she is attend all classes in my time.\n"
     ]
    }
   ],
   "source": [
    "myfile = open(\"pooja.txt\",\"w\")\n",
    "myfile.write(\"Pooja is a good girl.\\n because she is attend all classes in my time.\")\n",
    "myfile.close()\n",
    "newfile = open(\"pooja.txt\",\"r\")\n",
    "content = newfile.read()\n",
    "newfile.close()\n",
    "print(content)\n"
   ]
  },
  {
   "cell_type": "code",
   "execution_count": 23,
   "id": "b9b7aa71-7e29-4856-b224-1e76e44ec32d",
   "metadata": {},
   "outputs": [],
   "source": [
    "import os\n",
    "os.remove(\"pooja.txt\")"
   ]
  },
  {
   "cell_type": "code",
   "execution_count": 26,
   "id": "cb497410-d4ba-426d-afc9-3c633beb5a3b",
   "metadata": {},
   "outputs": [
    {
     "ename": "FileNotFoundError",
     "evalue": "[WinError 2] The system cannot find the file specified: 'aarti.txt' -> 'newcreatefile.txt'",
     "output_type": "error",
     "traceback": [
      "\u001b[1;31m---------------------------------------------------------------------------\u001b[0m",
      "\u001b[1;31mFileNotFoundError\u001b[0m                         Traceback (most recent call last)",
      "Cell \u001b[1;32mIn[26], line 2\u001b[0m\n\u001b[0;32m      1\u001b[0m \u001b[38;5;28;01mimport\u001b[39;00m \u001b[38;5;21;01mos\u001b[39;00m\n\u001b[1;32m----> 2\u001b[0m \u001b[43mos\u001b[49m\u001b[38;5;241;43m.\u001b[39;49m\u001b[43mrename\u001b[49m\u001b[43m(\u001b[49m\u001b[38;5;124;43m\"\u001b[39;49m\u001b[38;5;124;43maarti.txt\u001b[39;49m\u001b[38;5;124;43m\"\u001b[39;49m\u001b[43m,\u001b[49m\u001b[38;5;124;43m\"\u001b[39;49m\u001b[38;5;124;43mnewcreatefile.txt\u001b[39;49m\u001b[38;5;124;43m\"\u001b[39;49m\u001b[43m)\u001b[49m\n",
      "\u001b[1;31mFileNotFoundError\u001b[0m: [WinError 2] The system cannot find the file specified: 'aarti.txt' -> 'newcreatefile.txt'"
     ]
    }
   ],
   "source": [
    "import os\n",
    "os.rename(\"aarti.txt\",\"newcreatefile.txt\")"
   ]
  },
  {
   "cell_type": "code",
   "execution_count": null,
   "id": "36226595-e901-4629-8cc5-861ed3a70ffb",
   "metadata": {},
   "outputs": [],
   "source": []
  }
 ],
 "metadata": {
  "kernelspec": {
   "display_name": "Python 3 (ipykernel)",
   "language": "python",
   "name": "python3"
  },
  "language_info": {
   "codemirror_mode": {
    "name": "ipython",
    "version": 3
   },
   "file_extension": ".py",
   "mimetype": "text/x-python",
   "name": "python",
   "nbconvert_exporter": "python",
   "pygments_lexer": "ipython3",
   "version": "3.12.0"
  }
 },
 "nbformat": 4,
 "nbformat_minor": 5
}
