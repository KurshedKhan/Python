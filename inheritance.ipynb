{
 "cells": [
  {
   "cell_type": "code",
   "execution_count": 3,
   "id": "6b61f86d-1d5b-4944-b6c4-a8bbf57b80a1",
   "metadata": {},
   "outputs": [
    {
     "name": "stdout",
     "output_type": "stream",
     "text": [
      "Dog barking.\n",
      "Animal is Speaking.\n"
     ]
    }
   ],
   "source": [
    "class Animal:\n",
    "    def speak(self):\n",
    "        print(\"Animal is Speaking.\")\n",
    "\n",
    "class Dog(Animal):\n",
    "    def bark(self):\n",
    "        print(\"Dog barking.\") \n",
    "\n",
    "d = Dog();\n",
    "d.bark();\n",
    "d.speak();"
   ]
  },
  {
   "cell_type": "code",
   "execution_count": 5,
   "id": "4c5fa4a1-13b2-47ed-be0d-459c7a5abed7",
   "metadata": {},
   "outputs": [
    {
     "name": "stdout",
     "output_type": "stream",
     "text": [
      "Dog barking.\n"
     ]
    }
   ],
   "source": [
    "class Animal:\n",
    "    def speak(self):\n",
    "        print(\"Animal is Speaking.\")\n",
    "\n",
    "class Dog(Animal):\n",
    "    def bark(self):\n",
    "        print(\"Dog barking.\") \n",
    "\n",
    "class DogChild(Dog):\n",
    "    def eat(self):\n",
    "        print(\"DogChild Eating bread\")\n",
    "\n",
    "d = Dog();\n",
    "d.bark();"
   ]
  },
  {
   "cell_type": "code",
   "execution_count": 6,
   "id": "2f7436da-ade9-4049-9e3b-9edc89dd87b6",
   "metadata": {},
   "outputs": [
    {
     "name": "stdout",
     "output_type": "stream",
     "text": [
      "Animal is Speaking.\n"
     ]
    }
   ],
   "source": [
    "d.speak();"
   ]
  },
  {
   "cell_type": "code",
   "execution_count": 7,
   "id": "d2f8d58b-3cf4-45a8-8a3d-6b276a6c094e",
   "metadata": {},
   "outputs": [
    {
     "name": "stdout",
     "output_type": "stream",
     "text": [
      "DogChild Eating bread\n"
     ]
    }
   ],
   "source": [
    "dc = DogChild();\n",
    "dc.eat()"
   ]
  },
  {
   "cell_type": "code",
   "execution_count": 8,
   "id": "a99a4fc2-00a1-47b5-913e-6d78a736c5aa",
   "metadata": {},
   "outputs": [
    {
     "name": "stdout",
     "output_type": "stream",
     "text": [
      "Animal is Speaking.\n"
     ]
    }
   ],
   "source": [
    "dc.speak()"
   ]
  },
  {
   "cell_type": "code",
   "execution_count": 9,
   "id": "5f8c2dbb-171a-4714-9edf-c37664202026",
   "metadata": {},
   "outputs": [
    {
     "data": {
      "text/plain": [
       "10"
      ]
     },
     "execution_count": 9,
     "metadata": {},
     "output_type": "execute_result"
    }
   ],
   "source": [
    "class Calculator1:\n",
    "    def sum(self,a,b):\n",
    "        return a+b\n",
    "\n",
    "class Calculator2:\n",
    "    def multi(self,a,b):\n",
    "        return a*b\n",
    "\n",
    "class Calculator3:\n",
    "    def subtract(self,a,b):\n",
    "        return a-b\n",
    "\n",
    "class Calculator4(Calculator1,Calculator2,Calculator3):\n",
    "    def division(self,a,b):\n",
    "        return a/b\n",
    "\n",
    "d = Calculator4()\n",
    "d.subtract(20,10)"
   ]
  },
  {
   "cell_type": "code",
   "execution_count": 10,
   "id": "e70499c3-8d14-42ad-9195-89431aa84372",
   "metadata": {},
   "outputs": [
    {
     "data": {
      "text/plain": [
       "207936"
      ]
     },
     "execution_count": 10,
     "metadata": {},
     "output_type": "execute_result"
    }
   ],
   "source": [
    "d.multi(456,456)"
   ]
  },
  {
   "cell_type": "code",
   "execution_count": 12,
   "id": "a0f283b0-543c-43fd-a10d-c598973179c4",
   "metadata": {},
   "outputs": [
    {
     "name": "stdout",
     "output_type": "stream",
     "text": [
      "True\n"
     ]
    }
   ],
   "source": [
    "print(issubclass(Calculator4,Calculator3))"
   ]
  },
  {
   "cell_type": "code",
   "execution_count": 13,
   "id": "752d04a7-30b3-4820-8077-0d8feb204bac",
   "metadata": {},
   "outputs": [
    {
     "name": "stdout",
     "output_type": "stream",
     "text": [
      "False\n"
     ]
    }
   ],
   "source": [
    "print(issubclass(Calculator3,Calculator2))"
   ]
  },
  {
   "cell_type": "code",
   "execution_count": 14,
   "id": "d0a5b512-ee6e-40b2-b398-7e2e9e170b35",
   "metadata": {},
   "outputs": [
    {
     "name": "stdout",
     "output_type": "stream",
     "text": [
      "True\n"
     ]
    }
   ],
   "source": [
    "print(isinstance(d,Calculator4))"
   ]
  },
  {
   "cell_type": "code",
   "execution_count": 15,
   "id": "a9df5e01-e20b-4511-a45d-284b8c4b0516",
   "metadata": {},
   "outputs": [
    {
     "name": "stdout",
     "output_type": "stream",
     "text": [
      "True\n"
     ]
    }
   ],
   "source": [
    "print(isinstance(d,Calculator3))"
   ]
  },
  {
   "cell_type": "code",
   "execution_count": 16,
   "id": "d4a8bfd6-c6bd-431a-b660-9a28f49cf6d2",
   "metadata": {},
   "outputs": [
    {
     "name": "stdout",
     "output_type": "stream",
     "text": [
      "True\n"
     ]
    }
   ],
   "source": [
    "print(isinstance(d,Calculator1))"
   ]
  },
  {
   "cell_type": "code",
   "execution_count": 17,
   "id": "81ab9f1f-f649-4d27-a343-ef06cdb3da95",
   "metadata": {},
   "outputs": [
    {
     "name": "stdout",
     "output_type": "stream",
     "text": [
      "Dog barking\n"
     ]
    }
   ],
   "source": [
    "class Animal:\n",
    "    def speak(self):\n",
    "        print(\"Animal Speaking\")\n",
    "\n",
    "class Dog(Animal):\n",
    "    def speak(self):\n",
    "        print(\"Dog barking\")\n",
    "\n",
    "d = Dog()\n",
    "d.speak()"
   ]
  },
  {
   "cell_type": "code",
   "execution_count": 18,
   "id": "655096c7-2c6a-4467-a929-dfe94641bc60",
   "metadata": {},
   "outputs": [
    {
     "name": "stdout",
     "output_type": "stream",
     "text": [
      "10\n",
      "7\n",
      "8\n"
     ]
    }
   ],
   "source": [
    "class Bank:\n",
    "    def getroi(self):\n",
    "        return 10\n",
    "\n",
    "class SBI(Bank):\n",
    "    def getroi(self):\n",
    "        return 7\n",
    "\n",
    "class ICICI(Bank):\n",
    "    def getroi(self):\n",
    "        return 8\n",
    "\n",
    "B = Bank();\n",
    "S = SBI();\n",
    "I = ICICI();\n",
    "\n",
    "print(B.getroi())\n",
    "print(S.getroi())\n",
    "print(I.getroi())"
   ]
  },
  {
   "cell_type": "code",
   "execution_count": null,
   "id": "6f806672-5ff5-44ed-b3e9-54cd25671fc9",
   "metadata": {},
   "outputs": [],
   "source": []
  }
 ],
 "metadata": {
  "kernelspec": {
   "display_name": "Python 3 (ipykernel)",
   "language": "python",
   "name": "python3"
  },
  "language_info": {
   "codemirror_mode": {
    "name": "ipython",
    "version": 3
   },
   "file_extension": ".py",
   "mimetype": "text/x-python",
   "name": "python",
   "nbconvert_exporter": "python",
   "pygments_lexer": "ipython3",
   "version": "3.12.0"
  }
 },
 "nbformat": 4,
 "nbformat_minor": 5
}
