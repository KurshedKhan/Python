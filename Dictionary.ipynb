{
 "cells": [
  {
   "cell_type": "markdown",
   "id": "e67ca8c5-0b54-41fe-b920-24ba6a4533c2",
   "metadata": {},
   "source": [
    "# Python Dictionary\n",
    "Dictionaries are a useful data structure for storing data in Python because they are capable of imitating real-world data arrangements where a certain value exists for a given key. \n",
    "\n",
    "The data is stored as key-value pairs using a Python dictionary."
   ]
  },
  {
   "cell_type": "markdown",
   "id": "70d9f375-c9be-4976-b3be-36a300fcb997",
   "metadata": {},
   "source": [
    "#### Important point of dictionary\n",
    "1. This data structure is mutable\n",
    "2. The components of dictionary were made using keys and values.\n",
    "3. Keys must only have one component.\n",
    "4. Values can be of any type, including integer, list, and tuple.\n"
   ]
  },
  {
   "cell_type": "code",
   "execution_count": 3,
   "id": "20ca9979-2598-4b6e-bf33-6c0e860d5eb7",
   "metadata": {},
   "outputs": [],
   "source": [
    "# A dictionary is a group of key-value pairs.\n",
    "\n",
    "# where the values can be any python object.\n",
    "\n",
    "# where the values are immutable python objects,\n",
    "# such as strings,typles,or numbers. \n",
    "\n",
    "#Dictionary entries are ordered as of Python \n",
    "#version 3.7. In Python 3.6 and before, \n",
    "#dictionaries are generally unordered."
   ]
  },
  {
   "cell_type": "markdown",
   "id": "63ad9c14-1222-49e4-bf47-5c99201b3711",
   "metadata": {},
   "source": [
    "### Creating the Dictionary\n",
    "\n",
    "    1.Curly brackets are the simplest way to generate a Python dictionary, although there are other approaches as well.\n",
    "\n",
    "    2.With many key-value pairs surrounded in curly brackets and a colon separating each key from its value, the dictionary can be built. (:). "
   ]
  },
  {
   "cell_type": "code",
   "execution_count": 6,
   "id": "f96c24cd-3348-4bfb-9692-e65a69ed1305",
   "metadata": {},
   "outputs": [],
   "source": [
    "#The following provides the syntax for \n",
    "# defining the dictionary.\n",
    "Dict = {\"Name\" : \"Kurshed\",\"Age\" : 21,\"Height\" : 5.7,\"Bloodgroup\":\"A+\"}"
   ]
  },
  {
   "cell_type": "code",
   "execution_count": 7,
   "id": "788f9dca-df35-44f7-b164-adb74f4977d1",
   "metadata": {},
   "outputs": [
    {
     "data": {
      "text/plain": [
       "{'Name': 'Kurshed', 'Age': 21, 'Height': 5.7, 'Bloodgroup': 'A+'}"
      ]
     },
     "execution_count": 7,
     "metadata": {},
     "output_type": "execute_result"
    }
   ],
   "source": [
    "Dict"
   ]
  },
  {
   "cell_type": "code",
   "execution_count": 8,
   "id": "d1025a2a-c836-46ed-bfe1-ef6c2c05f185",
   "metadata": {},
   "outputs": [
    {
     "name": "stdout",
     "output_type": "stream",
     "text": [
      "<class 'dict'>\n"
     ]
    }
   ],
   "source": [
    "print(type(Dict))"
   ]
  },
  {
   "cell_type": "markdown",
   "id": "b58bdcaf-8b0d-48e1-a126-784329bae0d8",
   "metadata": {},
   "source": [
    "        Python provides the built-in function dict() method which is also used to create the dictionary.\n",
    "\n",
    "        The empty curly braces {} is used to create empty dictionary."
   ]
  },
  {
   "cell_type": "code",
   "execution_count": 9,
   "id": "38d1efad-68af-4f8b-8cea-db4785819cfa",
   "metadata": {},
   "outputs": [
    {
     "name": "stdout",
     "output_type": "stream",
     "text": [
      "Empty Dictionary:\n",
      "<class 'dict'>\n"
     ]
    }
   ],
   "source": [
    "# create an empty dictionary\n",
    "Dict = {}\n",
    "print(\"Empty Dictionary:\")\n",
    "print(dict)"
   ]
  },
  {
   "cell_type": "code",
   "execution_count": 10,
   "id": "31238b0c-7335-4821-b3c4-78adf7c32ac0",
   "metadata": {},
   "outputs": [
    {
     "name": "stdout",
     "output_type": "stream",
     "text": [
      "{1: 'kurshed', 2: 21, 3: 5.7}\n"
     ]
    }
   ],
   "source": [
    "# create an dictionary with dict() method\n",
    "Dict = dict({1:\"kurshed\",2:21,3:5.7})\n",
    "print(Dict)"
   ]
  },
  {
   "cell_type": "code",
   "execution_count": 11,
   "id": "126ff726-edc8-45d0-b6cb-7dfa480cd0ae",
   "metadata": {},
   "outputs": [
    {
     "name": "stdout",
     "output_type": "stream",
     "text": [
      "{1: 'kurshed', 2: 'khan'}\n"
     ]
    }
   ],
   "source": [
    "# Creating a Dictionary with each item as a pair\n",
    "Dict = dict([(1,\"kurshed\"),(2,\"khan\")])\n",
    "print(Dict)"
   ]
  },
  {
   "cell_type": "code",
   "execution_count": 12,
   "id": "0e0a7682-c3a4-45f7-9ffc-0973ba1c6f93",
   "metadata": {},
   "outputs": [],
   "source": [
    "Employee = {\"Name\":\"kurshed\",\"Age\":21,\"Height\":5.6}"
   ]
  },
  {
   "cell_type": "code",
   "execution_count": 14,
   "id": "3d2a97de-7210-46e2-a82e-ba1f96a3834b",
   "metadata": {},
   "outputs": [
    {
     "name": "stdout",
     "output_type": "stream",
     "text": [
      "<class 'dict'>\n"
     ]
    }
   ],
   "source": [
    "print(type(Employee))"
   ]
  },
  {
   "cell_type": "code",
   "execution_count": 15,
   "id": "4c62a8f8-eaca-4eb2-95a2-8a381fd49474",
   "metadata": {},
   "outputs": [
    {
     "name": "stdout",
     "output_type": "stream",
     "text": [
      "Name : kurshed\n"
     ]
    }
   ],
   "source": [
    "print(\"Name : %s\"%Employee[\"Name\"])"
   ]
  },
  {
   "cell_type": "code",
   "execution_count": 16,
   "id": "a2ec45fb-7d52-4d4d-a216-1b674258c4a7",
   "metadata": {},
   "outputs": [
    {
     "name": "stdout",
     "output_type": "stream",
     "text": [
      "Height : 5.6\n"
     ]
    }
   ],
   "source": [
    "print(\"Height : %s\"%Employee[\"Height\"])"
   ]
  },
  {
   "cell_type": "markdown",
   "id": "474a2917-98b3-42d0-a74b-66566bfe24e1",
   "metadata": {},
   "source": [
    "#### Adding Dictionary values\n"
   ]
  },
  {
   "cell_type": "code",
   "execution_count": 17,
   "id": "d365598e-0815-4a98-ab56-a76412186113",
   "metadata": {},
   "outputs": [
    {
     "name": "stdout",
     "output_type": "stream",
     "text": [
      "Empty Dictionary:\n",
      "{}\n"
     ]
    }
   ],
   "source": [
    "Dict = {}\n",
    "print(\"Empty Dictionary:\")\n",
    "print(Dict)"
   ]
  },
  {
   "cell_type": "code",
   "execution_count": 18,
   "id": "62f2bbca-82e7-47bb-9788-ed58b4fcf842",
   "metadata": {},
   "outputs": [],
   "source": [
    "Dict[0] = \"Kurshed\"\n",
    "Dict[1] = \"Khan\"\n",
    "Dict[2] = 21"
   ]
  },
  {
   "cell_type": "code",
   "execution_count": 19,
   "id": "a8523cd3-c548-497c-90d1-de853177530a",
   "metadata": {},
   "outputs": [
    {
     "name": "stdout",
     "output_type": "stream",
     "text": [
      "{0: 'Kurshed', 1: 'Khan', 2: 21}\n"
     ]
    }
   ],
   "source": [
    "print(Dict)"
   ]
  },
  {
   "cell_type": "code",
   "execution_count": 20,
   "id": "09ad8532-3877-4aeb-9b0a-6b6a6703c049",
   "metadata": {},
   "outputs": [],
   "source": [
    "Dict[\"Emp_ages\"] = 20,33,24"
   ]
  },
  {
   "cell_type": "code",
   "execution_count": 21,
   "id": "c897ee75-4712-49bc-bc4a-92be2e86130b",
   "metadata": {},
   "outputs": [
    {
     "name": "stdout",
     "output_type": "stream",
     "text": [
      "{0: 'Kurshed', 1: 'Khan', 2: 21, 'Emp_ages': (20, 33, 24)}\n"
     ]
    }
   ],
   "source": [
    "print(Dict)"
   ]
  },
  {
   "cell_type": "code",
   "execution_count": 22,
   "id": "16c06e2c-371c-4e3c-946d-fa6415822f4b",
   "metadata": {},
   "outputs": [
    {
     "name": "stdout",
     "output_type": "stream",
     "text": [
      "{0: 'Kurshed', 1: 'Khan', 2: 21, 'Emp_ages': (20, 33, 24), 3: 'JavaTPoint'}\n"
     ]
    }
   ],
   "source": [
    "Dict[3] = \"JavaTPoint\"\n",
    "print(Dict)"
   ]
  },
  {
   "cell_type": "code",
   "execution_count": 23,
   "id": "53859a43-dc76-496e-98b3-170c9d30577a",
   "metadata": {},
   "outputs": [
    {
     "name": "stdout",
     "output_type": "stream",
     "text": [
      "<class 'dict'>\n",
      "{'Name': 'Dev', 'Age': 20, 'Salary': 45000}\n"
     ]
    }
   ],
   "source": [
    "Employee = {\"Name\":\"Dev\",\"Age\":20,\"Salary\":45000}\n",
    "print(type(Employee))\n",
    "print(Employee)\n",
    "print(\"Enter the details of the new employee\")"
   ]
  },
  {
   "cell_type": "code",
   "execution_count": 1,
   "id": "b797e362-496e-4314-919b-7f635fd8a408",
   "metadata": {},
   "outputs": [
    {
     "name": "stdout",
     "output_type": "stream",
     "text": [
      "Enter the details of the new employee\n"
     ]
    }
   ],
   "source": [
    "print(\"Enter the details of the new employee\");\n",
    "Student = {\"Name\":\"Kurshed\",\"Age\":22,\"Salary\":12000}"
   ]
  },
  {
   "cell_type": "code",
   "execution_count": 2,
   "id": "0f72f0da-dba6-4312-9ff0-ee2306409df4",
   "metadata": {},
   "outputs": [
    {
     "data": {
      "text/plain": [
       "{'Name': 'Kurshed', 'Age': 22, 'Salary': 12000}"
      ]
     },
     "execution_count": 2,
     "metadata": {},
     "output_type": "execute_result"
    }
   ],
   "source": [
    "Student"
   ]
  },
  {
   "cell_type": "code",
   "execution_count": 5,
   "id": "32b63276-97ce-4b5f-98ef-5602eb52e239",
   "metadata": {},
   "outputs": [
    {
     "name": "stdout",
     "output_type": "stream",
     "text": [
      "Name kurshed\n",
      "Age 21\n",
      "Height 5.6\n"
     ]
    }
   ],
   "source": [
    "Student[\"Name\"] = input(\"Name\");\n",
    "Student[\"Age\"] = int(input(\"Age\"));\n",
    "Student[\"Salary\"] = float(input(\"Height\"));"
   ]
  },
  {
   "cell_type": "code",
   "execution_count": 6,
   "id": "fd29aa7b-b47b-4176-9681-9f102d29a33a",
   "metadata": {},
   "outputs": [
    {
     "data": {
      "text/plain": [
       "{'Name': 'kurshed', 'Age': 21, 'Salary': 5.6}"
      ]
     },
     "execution_count": 6,
     "metadata": {},
     "output_type": "execute_result"
    }
   ],
   "source": [
    "Student"
   ]
  },
  {
   "cell_type": "markdown",
   "id": "b25a5057-8da5-4dd4-89d6-16df7fd99717",
   "metadata": {},
   "source": [
    "#### Deleting Elements using del Keyword"
   ]
  },
  {
   "cell_type": "code",
   "execution_count": 7,
   "id": "aa95cf4a-3e34-4790-a4f8-8b107fc2d9a1",
   "metadata": {},
   "outputs": [],
   "source": [
    "del Student[\"Salary\"]"
   ]
  },
  {
   "cell_type": "code",
   "execution_count": 8,
   "id": "ed379e32-a10c-4624-a96b-708de7e01c53",
   "metadata": {},
   "outputs": [
    {
     "data": {
      "text/plain": [
       "{'Name': 'kurshed', 'Age': 21}"
      ]
     },
     "execution_count": 8,
     "metadata": {},
     "output_type": "execute_result"
    }
   ],
   "source": [
    "Student"
   ]
  },
  {
   "cell_type": "code",
   "execution_count": 9,
   "id": "f1f551cb-839f-4398-9495-b4b7eeee0bd8",
   "metadata": {},
   "outputs": [],
   "source": [
    "del Student[\"Age\"]"
   ]
  },
  {
   "cell_type": "code",
   "execution_count": 10,
   "id": "2d40bff0-6f57-48d3-a962-a3c5fd0375b4",
   "metadata": {},
   "outputs": [
    {
     "data": {
      "text/plain": [
       "{'Name': 'kurshed'}"
      ]
     },
     "execution_count": 10,
     "metadata": {},
     "output_type": "execute_result"
    }
   ],
   "source": [
    "Student"
   ]
  },
  {
   "cell_type": "code",
   "execution_count": 11,
   "id": "948b5b50-608e-45cc-a373-7fced0ebbec0",
   "metadata": {},
   "outputs": [],
   "source": [
    "del Student"
   ]
  },
  {
   "cell_type": "code",
   "execution_count": 12,
   "id": "f7476f96-c52b-47a4-8722-b2ccd74216a2",
   "metadata": {},
   "outputs": [
    {
     "ename": "NameError",
     "evalue": "name 'Student' is not defined",
     "output_type": "error",
     "traceback": [
      "\u001b[1;31m---------------------------------------------------------------------------\u001b[0m",
      "\u001b[1;31mNameError\u001b[0m                                 Traceback (most recent call last)",
      "Cell \u001b[1;32mIn[12], line 1\u001b[0m\n\u001b[1;32m----> 1\u001b[0m \u001b[43mStudent\u001b[49m\n",
      "\u001b[1;31mNameError\u001b[0m: name 'Student' is not defined"
     ]
    }
   ],
   "source": [
    "Student"
   ]
  },
  {
   "cell_type": "markdown",
   "id": "9f7b6be2-e0cc-459f-baa9-6c02386a7c4b",
   "metadata": {},
   "source": [
    "#### Deleting Elements using pop() Method\n",
    "    The pop() method is one of the ways to get rid of elements from a dictionary\n",
    "\n",
    "    We'll talk about how to remove items from a Python dictionary using the pop() method.\n",
    "\n",
    "    You can retrieve, insert, and remove items using this unordered, mutable data type by using their keys.\n",
    "\n",
    "    The key of the element to be removed is the only argument needed. "
   ]
  },
  {
   "cell_type": "code",
   "execution_count": 19,
   "id": "248f2e48-d998-4a93-8cac-34215b5ddb35",
   "metadata": {},
   "outputs": [],
   "source": [
    "Student = {\"Name\":\"Kurshed\",\"Age\":21,\"Height\":5.6}"
   ]
  },
  {
   "cell_type": "code",
   "execution_count": 20,
   "id": "df14dc52-c027-48bb-ab10-91b069eb98ad",
   "metadata": {},
   "outputs": [
    {
     "data": {
      "text/plain": [
       "{'Name': 'Kurshed', 'Age': 21, 'Height': 5.6}"
      ]
     },
     "execution_count": 20,
     "metadata": {},
     "output_type": "execute_result"
    }
   ],
   "source": [
    "Student"
   ]
  },
  {
   "cell_type": "code",
   "execution_count": 21,
   "id": "4cd042de-1262-4a04-b433-6fa902306ef5",
   "metadata": {},
   "outputs": [],
   "source": [
    "Element = Student.pop(\"Age\")"
   ]
  },
  {
   "cell_type": "code",
   "execution_count": 22,
   "id": "aaa0dc09-e569-4e89-be9d-7d7d9bc98752",
   "metadata": {},
   "outputs": [
    {
     "data": {
      "text/plain": [
       "21"
      ]
     },
     "execution_count": 22,
     "metadata": {},
     "output_type": "execute_result"
    }
   ],
   "source": [
    "Element"
   ]
  },
  {
   "cell_type": "code",
   "execution_count": null,
   "id": "bd8ea501-9c3a-415f-8b64-ba63d58d3961",
   "metadata": {},
   "outputs": [],
   "source": []
  }
 ],
 "metadata": {
  "kernelspec": {
   "display_name": "Python 3 (ipykernel)",
   "language": "python",
   "name": "python3"
  },
  "language_info": {
   "codemirror_mode": {
    "name": "ipython",
    "version": 3
   },
   "file_extension": ".py",
   "mimetype": "text/x-python",
   "name": "python",
   "nbconvert_exporter": "python",
   "pygments_lexer": "ipython3",
   "version": "3.12.0"
  }
 },
 "nbformat": 4,
 "nbformat_minor": 5
}
