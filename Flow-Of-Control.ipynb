{
 "cells": [
  {
   "cell_type": "markdown",
   "id": "bdfc34ad-7114-4794-acfe-12f74fbd60ca",
   "metadata": {},
   "source": [
    "# FLOW OF CONTROL "
   ]
  },
  {
   "cell_type": "markdown",
   "id": "f86154fe-d675-47ee-876e-e1e5c5dd6e12",
   "metadata": {},
   "source": [
    "#### The concept of sequence, where Python executes one statements after another from beginning to the end of the program."
   ]
  },
  {
   "cell_type": "markdown",
   "id": "797fb74b-ec1f-48aa-80da-442ab50158f1",
   "metadata": {},
   "source": [
    "#### The order of execution of the statements in a program is known as flow of control."
   ]
  },
  {
   "cell_type": "markdown",
   "id": "c00389b8-71d9-4aba-a27b-e386fb86a031",
   "metadata": {},
   "source": [
    "#### The flow of control can be implemented using control structures."
   ]
  },
  {
   "cell_type": "markdown",
   "id": "831d95a3-3528-4adf-ae78-2d2fdc78c379",
   "metadata": {},
   "source": [
    "#### Python supports two types of controls structures-\n",
    "1. Selection\n",
    "2. Repetition"
   ]
  },
  {
   "cell_type": "markdown",
   "id": "4f48fc6d-c194-4ce7-96cc-8d42f8ea3dd6",
   "metadata": {},
   "source": [
    "## Q.1  Program to print the difference of two numbers."
   ]
  },
  {
   "cell_type": "code",
   "execution_count": 15,
   "id": "4f97fdfa-865e-40df-9987-882cb6ea88dd",
   "metadata": {},
   "outputs": [
    {
     "name": "stdin",
     "output_type": "stream",
     "text": [
      "Enter first number :  10\n",
      "Enter second number :  20\n"
     ]
    },
    {
     "name": "stdout",
     "output_type": "stream",
     "text": [
      "The difference of  10 and 20 is :  -10\n"
     ]
    }
   ],
   "source": [
    "# print the difference of two numbers\n",
    "num1 = int(input(\"Enter first number : \"))\n",
    "num2 = int(input(\"Enter second number : \"))\n",
    "diff = num1 - num2 \n",
    "print(\"The difference of \",num1,\"and\",num2,\"is : \",diff)"
   ]
  },
  {
   "cell_type": "code",
   "execution_count": null,
   "id": "64f05e98-ec5c-42dd-8037-75b8a2799a0f",
   "metadata": {},
   "outputs": [],
   "source": []
  },
  {
   "cell_type": "markdown",
   "id": "bffe3d03-0c4e-4c39-96ed-179fb15cae25",
   "metadata": {},
   "source": [
    "# Selection"
   ]
  },
  {
   "cell_type": "markdown",
   "id": "8ce9b34c-00c8-425c-9b48-1124c76e8cb1",
   "metadata": {},
   "source": [
    "#### A decision involves selecting from one of the two or more possible options."
   ]
  },
  {
   "cell_type": "markdown",
   "id": "53808c48-ed53-4e37-a8ec-b8c17fa5590c",
   "metadata": {},
   "source": [
    "#### In programming, this concept of decision making or selection is imiplemented with the help of `if...else` statement"
   ]
  },
  {
   "cell_type": "markdown",
   "id": "be606833-d71e-44c8-82fb-9958e9602f6c",
   "metadata": {},
   "source": [
    "``` mermaid\n",
    "flowchart TD\n",
    "    A[Start] --> B[Input num1, num2]\n",
    "    B --> C{Is num1 > num2?}\n",
    "    C -- Yes --> D[diff = num1 - num2]\n",
    "    C -- No --> E[diff = num2 - num1]\n",
    "    D --> F[Print diff]\n",
    "    E --> F\n",
    "    F --> G[Stop]\n",
    "\n",
    "```"
   ]
  },
  {
   "cell_type": "markdown",
   "id": "c8d1d766-6462-49d0-8a3b-a6bc7b8eaa5b",
   "metadata": {},
   "source": [
    "# Flowchart: Decision Making Process\n",
    "\n",
    "This flowchart takes two inputs (num1 and num2) and determines the difference based on their values.\n",
    "\n",
    "## Steps:\n",
    "\n",
    "1. *Start*: The process begins.\n",
    "2. *Input num1, num2*: The user inputs two numbers.\n",
    "3. *Decision (Is num1 > num2?)*:\n",
    "   - If *Yes*, calculate the difference as diff = num1 - num2.\n",
    "   - If *No*, calculate the difference as diff = num2 - num1.\n",
    "4. *Print diff*: The calculated difference (diff) is printed.\n",
    "5. *Stop*: The process ends.\n",
    "\n",
    "### Flowchart Summary\n",
    "The flowchart checks whether the first number (num1) is greater than the second number (num2). Depending on the result, it calculates the difference accordingly and outputs it."
   ]
  },
  {
   "cell_type": "markdown",
   "id": "b0f7619a-3ef0-4b9a-8d42-939af82f5af9",
   "metadata": {},
   "source": [
    "### The syntax of `if` statement is : "
   ]
  },
  {
   "cell_type": "code",
   "execution_count": 16,
   "id": "18e885b9-24d4-4ab5-a952-6c871a511a82",
   "metadata": {},
   "outputs": [],
   "source": [
    "# if condition:\n",
    "#     statement (s)"
   ]
  },
  {
   "cell_type": "markdown",
   "id": "ddf75372-6ad6-4917-809e-05b6f3e83d6e",
   "metadata": {},
   "source": [
    "#### Note : The indentation implies that its execution is dependent on the condition."
   ]
  },
  {
   "cell_type": "code",
   "execution_count": 17,
   "id": "52606088-03e4-4f15-9778-b4095cbe1928",
   "metadata": {},
   "outputs": [
    {
     "name": "stdin",
     "output_type": "stream",
     "text": [
      "Enter your age :  10\n"
     ]
    }
   ],
   "source": [
    "# Example 1 : \n",
    "age = int(input(\"Enter your age : \"))\n",
    "if age >= 18 :\n",
    "    print(\"Eligible to vote\")"
   ]
  },
  {
   "cell_type": "markdown",
   "id": "d6f0034d-58c2-4911-a7bf-ef5292bc881e",
   "metadata": {},
   "source": [
    "#### A variant of `if` statement called `if...else` statement allows us to write two alternative paths and the control condition determines which path gets executed. "
   ]
  },
  {
   "cell_type": "markdown",
   "id": "a051664f-a55c-48d5-9305-387479d50d42",
   "metadata": {},
   "source": [
    "### The syntax for `if...else` statement is :"
   ]
  },
  {
   "cell_type": "code",
   "execution_count": 18,
   "id": "54aab986-40bf-4bc2-b43c-b301752f06fe",
   "metadata": {},
   "outputs": [],
   "source": [
    "# if condition:\n",
    "#      statement (s)\n",
    "# else:\n",
    "#      statement (s)"
   ]
  },
  {
   "cell_type": "code",
   "execution_count": 19,
   "id": "9f15df44-362b-4185-8db1-a2711b34a5f0",
   "metadata": {},
   "outputs": [
    {
     "name": "stdin",
     "output_type": "stream",
     "text": [
      "Enter your age :  10\n"
     ]
    },
    {
     "name": "stdout",
     "output_type": "stream",
     "text": [
      "Not eligible to vote\n"
     ]
    }
   ],
   "source": [
    "age = int(input(\"Enter your age : \"))\n",
    "if age >=18:\n",
    "    print(\"Eligible to vote\")\n",
    "else:\n",
    "    print(\"Not eligible to vote\")"
   ]
  },
  {
   "cell_type": "markdown",
   "id": "139db905-a4bc-49bd-a91d-3a171dc469b5",
   "metadata": {},
   "source": [
    "## Q.2 Program to print the positive difference of two numbers."
   ]
  },
  {
   "cell_type": "code",
   "execution_count": 22,
   "id": "aa124a2a-5ef9-4d44-9eaf-8ad1d89fce46",
   "metadata": {},
   "outputs": [
    {
     "name": "stdin",
     "output_type": "stream",
     "text": [
      "Enter first number : 10\n",
      "Enter second number : 20\n"
     ]
    },
    {
     "name": "stdout",
     "output_type": "stream",
     "text": [
      "Positive difference of 10 and 20 is : 10\n"
     ]
    }
   ],
   "source": [
    "# print the positive difference of two numbers\n",
    "num1 = int(input(\"Enter first number :\"))\n",
    "num2 = int(input(\"Enter second number :\"))\n",
    "diff = 0\n",
    "if num1 > num2 :\n",
    "    diff = num1-num2\n",
    "else:\n",
    "    diff = num2-num1\n",
    "\n",
    "print(\"Positive difference of\",num1,\"and\",num2,\"is :\",diff)"
   ]
  },
  {
   "cell_type": "markdown",
   "id": "b0915e0e-9ae4-40c8-89b7-6be6dfcc2605",
   "metadata": {},
   "source": [
    "#### Many a times there are situations that require multiple conditions to be checked and it may lead to many alternatives."
   ]
  },
  {
   "cell_type": "markdown",
   "id": "1714975f-5142-42ef-9901-89c04c5b3307",
   "metadata": {},
   "source": [
    "## The syntax for a selection structure using `if...elif`(`elif` means `else...if`) "
   ]
  },
  {
   "cell_type": "code",
   "execution_count": 23,
   "id": "c5ccc59c-0430-4427-8f00-df69c6ad2e5c",
   "metadata": {},
   "outputs": [],
   "source": [
    "# if condition:\n",
    "#     statement (s)\n",
    "# elif condition:\n",
    "#     statement (s)\n",
    "# elif condition:\n",
    "#     statement (s)\n",
    "# else:\n",
    "#     statement (s)"
   ]
  },
  {
   "cell_type": "code",
   "execution_count": 6,
   "id": "f9c464bc-d44a-4a12-8bfc-7d7c6030eb39",
   "metadata": {},
   "outputs": [
    {
     "name": "stdin",
     "output_type": "stream",
     "text": [
      "Enter your number 0\n"
     ]
    },
    {
     "name": "stdout",
     "output_type": "stream",
     "text": [
      "0 is a zero number.\n"
     ]
    }
   ],
   "source": [
    "# Example 2 Check whether a number is positive, negative and zero.\n",
    "num1 = int(input(\"Enter your number\"));\n",
    "if num1 > 0:\n",
    "    print(num1 , \"is a positive number.\")\n",
    "elif num1 <0:\n",
    "    print(num1, \"is a negative number.\")\n",
    "elif num1 == 0:\n",
    "    print(num1,\"is a zero number.\")\n",
    "else:\n",
    "    print(\"Wrong data input in prompt.\")"
   ]
  },
  {
   "cell_type": "code",
   "execution_count": 8,
   "id": "21d380b5-d808-4fe3-966b-b47da30af97a",
   "metadata": {},
   "outputs": [
    {
     "name": "stdin",
     "output_type": "stream",
     "text": [
      "Enter your signal colour :  Orange\n"
     ]
    },
    {
     "name": "stdout",
     "output_type": "stream",
     "text": [
      "Carefully run.\n"
     ]
    }
   ],
   "source": [
    "# Example 3 Display the appropriate message as per the colour of signal at the road crossing.\n",
    "signal = input(\"Enter your signal colour : \");\n",
    "if signal == \"Red\" or signal == \"RED\" :\n",
    "    print(\"stop here.\")\n",
    "elif signal == \"Orange\" or signal == \"ORANGE\" :\n",
    "    print(\"Carefully run.\")\n",
    "elif signal == \"Green\" or signal == \"GREEEN\" :\n",
    "    print(\"Go here.\")\n",
    "else:\n",
    "    print(\"wrong data input in prompt,please enter correct data in your prompt.\")"
   ]
  },
  {
   "cell_type": "markdown",
   "id": "09603f2a-a0c0-4dd9-97fb-af01a4e4eddf",
   "metadata": {},
   "source": [
    "- Number of elif is dependent on the number of conditions to be checked.\n",
    "- if the first condition is false, then the next condition is checked and so on.\n",
    "- if one of the condtions is true, then the corresponding indented block executes, and the if statement terminates."
   ]
  },
  {
   "cell_type": "markdown",
   "id": "cf4fb293-e6d6-4b29-a1df-d2c56f03f2c9",
   "metadata": {},
   "source": [
    "## Q.3 Write a program to create a simple calculator performing only four basic operations."
   ]
  },
  {
   "cell_type": "code",
   "execution_count": 1,
   "id": "a1343d5f-77c2-44ae-803e-f0339d4dbaa2",
   "metadata": {},
   "outputs": [
    {
     "name": "stdin",
     "output_type": "stream",
     "text": [
      "Enter first number :  10\n",
      "Enter second number :  20\n",
      "Enter a operator for your calculation : + , - , * , /  *\n"
     ]
    },
    {
     "name": "stdout",
     "output_type": "stream",
     "text": [
      "Result :  200\n"
     ]
    }
   ],
   "source": [
    "# create a simple calculator\n",
    "num1 = int(input(\"Enter first number : \"))\n",
    "num2 = int(input(\"Enter second number : \"))\n",
    "opr = input(\"Enter a operator for your calculation : + , - , * , / \")\n",
    "result = None\n",
    "if opr == \"+\":\n",
    "    result = num1 + num2\n",
    "elif opr == \"-\":\n",
    "    if num1 > num2 :\n",
    "        result = num1 - num2 \n",
    "    else:\n",
    "        result = num2 - num1\n",
    "elif opr == \"*\":\n",
    "    result = num1 * num2\n",
    "elif opr == \"/\":\n",
    "    if num2 == 0:\n",
    "        print(\"This is not posible condition division with zero\")\n",
    "    else:\n",
    "        result = num1/num2  \n",
    "else:\n",
    "    print(\"please enter basic four symbol,wrong input prompt,try again\")\n",
    "\n",
    "print(\"Result : \",result)"
   ]
  },
  {
   "cell_type": "markdown",
   "id": "97997d91-0b85-4bd3-8f81-593d2d393041",
   "metadata": {},
   "source": [
    "## Indentation in python"
   ]
  },
  {
   "cell_type": "markdown",
   "id": "e39e71a0-805d-4b5e-aa14-928472040df6",
   "metadata": {},
   "source": [
    "- Leading whitespace (spaces and tabs) at the beginning of a statement is called indentation.\n",
    "- Same level of indentation associates statements into a singal block of code.\n",
    "- The interpreter check indentation levels very strictly and throw up syntax errors if indentation is not correct.\n",
    "- It is common practice to use a single tab for each level of indentation."
   ]
  },
  {
   "cell_type": "markdown",
   "id": "310bb353-8d72-48c3-8ca7-a8390f4094f1",
   "metadata": {},
   "source": [
    "## Q.4 Program to find the larger of the two pre-specified numbers."
   ]
  },
  {
   "cell_type": "code",
   "execution_count": 4,
   "id": "d9bafb52-7494-4537-a651-00b26174863e",
   "metadata": {},
   "outputs": [
    {
     "name": "stdout",
     "output_type": "stream",
     "text": [
      "10  is a larger number then  5\n"
     ]
    }
   ],
   "source": [
    "# find the larger of the two numbers.\n",
    "num1 = 10\n",
    "num2 = 5\n",
    "if num1 > num2 :                                            #block 1\n",
    "    print(num1, \" is a larger number then \",num2)\n",
    "else:                                                       #block 2\n",
    "    print(num2 , \" is a larger number than \",num1)"
   ]
  },
  {
   "cell_type": "markdown",
   "id": "3b1ab81f-b403-49df-a3e6-faa08d5aba45",
   "metadata": {},
   "source": [
    "# Repetition"
   ]
  },
  {
   "cell_type": "markdown",
   "id": "fac2c623-8870-47ad-b814-579f238dbd20",
   "metadata": {},
   "source": [
    "``` mermaid\n",
    "graph TD\n",
    "    A[Egg] --> B[Larva/Caterpillar]\n",
    "    B --> C[Pupa/Chrysalis]\n",
    "    C --> D[Butterfly]\n",
    "    D --> A[Egg]\n",
    "``` "
   ]
  },
  {
   "cell_type": "markdown",
   "id": "7c2dc954-f0b4-423a-a684-b048b4b68a7d",
   "metadata": {},
   "source": [
    "- We repeat a tasks, for example, payment of electricity bill, which is done every month.\n",
    "- The kind of repetition is also called iteration.\n",
    "- Repetition of a set of statements in a program is made possible using looping construts."
   ]
  },
  {
   "cell_type": "markdown",
   "id": "32803ec6-7b04-406b-88ed-e896fc9c23ed",
   "metadata": {},
   "source": [
    "## Q.5 Write a program to print the first five natural numbers."
   ]
  },
  {
   "cell_type": "code",
   "execution_count": 5,
   "id": "63645587-a0a7-40f6-8ae0-36a8b1b24003",
   "metadata": {},
   "outputs": [
    {
     "name": "stdout",
     "output_type": "stream",
     "text": [
      "1\n",
      "2\n",
      "3\n",
      "4\n",
      "5\n"
     ]
    }
   ],
   "source": [
    "# print the first five natural numbers.\n",
    "print(1)\n",
    "print(2)\n",
    "print(3)\n",
    "print(4)\n",
    "print(5)"
   ]
  },
  {
   "cell_type": "code",
   "execution_count": null,
   "id": "32135eda-4b41-4b9b-b3e7-52826a210135",
   "metadata": {},
   "outputs": [],
   "source": []
  }
 ],
 "metadata": {
  "kernelspec": {
   "display_name": "Python 3 (ipykernel)",
   "language": "python",
   "name": "python3"
  },
  "language_info": {
   "codemirror_mode": {
    "name": "ipython",
    "version": 3
   },
   "file_extension": ".py",
   "mimetype": "text/x-python",
   "name": "python",
   "nbconvert_exporter": "python",
   "pygments_lexer": "ipython3",
   "version": "3.12.6"
  }
 },
 "nbformat": 4,
 "nbformat_minor": 5
}
