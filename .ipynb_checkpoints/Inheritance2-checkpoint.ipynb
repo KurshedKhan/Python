{
 "cells": [
  {
   "cell_type": "code",
   "execution_count": 3,
   "id": "28f91e17-4022-4a87-85ea-73340310bf49",
   "metadata": {},
   "outputs": [
    {
     "name": "stdout",
     "output_type": "stream",
     "text": [
      "Dog barking\n",
      "Animal Speaking....\n"
     ]
    }
   ],
   "source": [
    "#Base class & Parent class\n",
    "class Animal:\n",
    "    def speak(self):\n",
    "        print(\"Animal Speaking....\")\n",
    "\n",
    "# derived class & Child Class\n",
    "class Dog(Animal):\n",
    "    def bark(self):\n",
    "        print(\"Dog barking\")\n",
    "\n",
    "d = Dog();\n",
    "d.bark()\n",
    "d.speak()"
   ]
  },
  {
   "cell_type": "code",
   "execution_count": 8,
   "id": "ffa7c278-fd3a-4e17-9f15-4d68c516e7c0",
   "metadata": {},
   "outputs": [
    {
     "name": "stdout",
     "output_type": "stream",
     "text": [
      "Child Age is 60 above\n",
      "Father Age is 80 above\n",
      "GrandFather Age is 100 above\n"
     ]
    }
   ],
   "source": [
    "class GrandFather:\n",
    "    def GAge(self):\n",
    "        print(\"GrandFather Age is 100 above\");\n",
    "\n",
    "class Father(GrandFather):\n",
    "    def FAge(self):\n",
    "        print(\"Father Age is 80 above\");\n",
    "\n",
    "class Child(Father):\n",
    "    def CAge(Self):\n",
    "        print(\"Child Age is 60 above\")\n",
    "\n",
    "ch = Child()\n",
    "ch.CAge()\n",
    "ch.FAge()\n",
    "ch.GAge()"
   ]
  },
  {
   "cell_type": "code",
   "execution_count": 9,
   "id": "ab567519-f3fa-4805-895c-26bb6e9039ff",
   "metadata": {},
   "outputs": [
    {
     "name": "stdout",
     "output_type": "stream",
     "text": [
      "GrandFather Age is 100 above\n"
     ]
    }
   ],
   "source": [
    "fa = Father()\n",
    "fa.GAge()"
   ]
  },
  {
   "cell_type": "code",
   "execution_count": 10,
   "id": "bb96e6ae-09d7-43fa-8017-2a7f3935f538",
   "metadata": {},
   "outputs": [
    {
     "ename": "AttributeError",
     "evalue": "'Father' object has no attribute 'CAge'",
     "output_type": "error",
     "traceback": [
      "\u001b[1;31m---------------------------------------------------------------------------\u001b[0m",
      "\u001b[1;31mAttributeError\u001b[0m                            Traceback (most recent call last)",
      "Cell \u001b[1;32mIn[10], line 1\u001b[0m\n\u001b[1;32m----> 1\u001b[0m \u001b[43mfa\u001b[49m\u001b[38;5;241;43m.\u001b[39;49m\u001b[43mCAge\u001b[49m()\n",
      "\u001b[1;31mAttributeError\u001b[0m: 'Father' object has no attribute 'CAge'"
     ]
    }
   ],
   "source": [
    "fa.CAge()"
   ]
  },
  {
   "cell_type": "code",
   "execution_count": 17,
   "id": "07bfbe15-9177-4684-9b6c-320af9a52fa8",
   "metadata": {},
   "outputs": [
    {
     "name": "stdout",
     "output_type": "stream",
     "text": [
      "Calculate my all values \n"
     ]
    },
    {
     "data": {
      "text/plain": [
       "101556"
      ]
     },
     "execution_count": 17,
     "metadata": {},
     "output_type": "execute_result"
    }
   ],
   "source": [
    "# Create a calculator use of inheritance\n",
    "class SumCalculator:\n",
    "    def sum(self,a,b):\n",
    "        return a+b\n",
    "\n",
    "class SubCalculator:\n",
    "    def sub(self,a,b):\n",
    "        return a-b\n",
    "\n",
    "class MultiCalculator:\n",
    "    def multi(self,a,b):\n",
    "        return a*b\n",
    "        \n",
    "class DivCalculator:\n",
    "    def div(self,a,b):\n",
    "        return a/b\n",
    "\n",
    "class calculate(SumCalculator,SubCalculator,MultiCalculator,DivCalculator):\n",
    "    print(\"Calculate my all values \")\n",
    "\n",
    "cal1 = calculate()\n",
    "cal1.multi(234,434)"
   ]
  },
  {
   "cell_type": "code",
   "execution_count": 18,
   "id": "20530a37-d8a5-4e66-bead-cc27bc59761e",
   "metadata": {},
   "outputs": [
    {
     "data": {
      "text/plain": [
       "668"
      ]
     },
     "execution_count": 18,
     "metadata": {},
     "output_type": "execute_result"
    }
   ],
   "source": [
    "cal1.sum(234,434)"
   ]
  },
  {
   "cell_type": "code",
   "execution_count": null,
   "id": "df116596-c497-4d96-90a0-21f0850d2dcf",
   "metadata": {},
   "outputs": [],
   "source": []
  }
 ],
 "metadata": {
  "kernelspec": {
   "display_name": "Python 3 (ipykernel)",
   "language": "python",
   "name": "python3"
  },
  "language_info": {
   "codemirror_mode": {
    "name": "ipython",
    "version": 3
   },
   "file_extension": ".py",
   "mimetype": "text/x-python",
   "name": "python",
   "nbconvert_exporter": "python",
   "pygments_lexer": "ipython3",
   "version": "3.12.0"
  }
 },
 "nbformat": 4,
 "nbformat_minor": 5
}
