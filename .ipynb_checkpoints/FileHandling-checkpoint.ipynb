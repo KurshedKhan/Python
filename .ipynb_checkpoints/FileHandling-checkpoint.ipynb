{
 "cells": [
  {
   "cell_type": "code",
   "execution_count": 3,
   "id": "0ccbdc75-c207-4191-84c9-d1fed8677dc2",
   "metadata": {},
   "outputs": [
    {
     "name": "stdout",
     "output_type": "stream",
     "text": [
      "flie is successfully run in the browser.\n"
     ]
    }
   ],
   "source": [
    "#opens the file file.txt in read mode\n",
    "fileopen = open(\"student record.txt\",\"r\")\n",
    "if fileopen:\n",
    "    print(\"flie is successfully run in the browser.\")"
   ]
  },
  {
   "cell_type": "code",
   "execution_count": 6,
   "id": "f47178d5-6fed-4bbc-b585-abed726500a7",
   "metadata": {},
   "outputs": [],
   "source": [
    "file = open(\"student record.txt\",\"w\")\n",
    "file.write(\"Here we write a command\")\n",
    "file.write(\"me to likh diya sara\")\n",
    "file.close()"
   ]
  },
  {
   "cell_type": "code",
   "execution_count": 7,
   "id": "1774ff3a-ab9e-43a1-bdfa-535782e87346",
   "metadata": {},
   "outputs": [],
   "source": [
    "myfile = open(\"student record.txt\",\"w\")\n",
    "myfile.write(\"o bhai tu kyu open kar rha hai meri file hai ye\")\n",
    "myfile.close()"
   ]
  },
  {
   "cell_type": "code",
   "execution_count": 9,
   "id": "307664cc-cdd6-4983-bd0a-0505c55333ad",
   "metadata": {},
   "outputs": [
    {
     "name": "stdout",
     "output_type": "stream",
     "text": [
      "file is successfully open \n",
      "file is successfully open \n",
      "file is successfully write and close\n"
     ]
    }
   ],
   "source": [
    "mylist = [\"student record.txt\",\"studentrecordnotpad.txt\"]\n",
    "for file in mylist:\n",
    "    myfile = open(file,\"w\")\n",
    "    if myfile:\n",
    "        print(\"file is successfully open \")\n",
    "    myfile.write(\"yaar ye to sabhi me ho gya na\")\n",
    "    myfile.write(\"madam ji aap ek bat bolo\")\n",
    "    myfile.close()\n",
    "print(\"file is successfully write and close\")"
   ]
  },
  {
   "cell_type": "code",
   "execution_count": 3,
   "id": "49130573-e063-47dc-9057-8d5b798c5c20",
   "metadata": {},
   "outputs": [
    {
     "name": "stdout",
     "output_type": "stream",
     "text": [
      "yaar ye to sabhi me ho gya namadam ji aap ek bat bolo\n"
     ]
    }
   ],
   "source": [
    "with open(\"student record.txt\", \"r\") as fileptr:\n",
    "   content = fileptr.read();\n",
    "   print(content) \n"
   ]
  },
  {
   "cell_type": "code",
   "execution_count": 4,
   "id": "e8aa9212-b26c-4099-aa2e-da0b528c7366",
   "metadata": {},
   "outputs": [
    {
     "name": "stdout",
     "output_type": "stream",
     "text": [
      "Responsive website rule\n",
      "\t1.media rule\n",
      "\t2.flex rule\n",
      "\t3.size property use of relative \n"
     ]
    }
   ],
   "source": [
    "with open(\"Responsive website rule.txt\",\"r\") as fptr:\n",
    "    content = fptr.read()\n",
    "    print(content)"
   ]
  },
  {
   "cell_type": "code",
   "execution_count": 9,
   "id": "906e8073-c344-40c5-ad28-8040aa31ba44",
   "metadata": {},
   "outputs": [
    {
     "name": "stdout",
     "output_type": "stream",
     "text": [
      "24\n"
     ]
    }
   ],
   "source": [
    "with open(\"student record.txt\",\"w\") as fileptr:\n",
    "    write = fileptr.write(\"mera bhai bhut achha hai\")\n",
    "    print(write)"
   ]
  },
  {
   "cell_type": "code",
   "execution_count": 10,
   "id": "ea32cfe6-1e8b-469f-8dfe-5eafb969bc27",
   "metadata": {},
   "outputs": [
    {
     "name": "stdout",
     "output_type": "stream",
     "text": [
      "mera bhai bhut achha hai\n"
     ]
    }
   ],
   "source": [
    "with open(\"student record.txt\",\"r\") as fileptr:\n",
    "    content = fileptr.read()\n",
    "    print(content)"
   ]
  },
  {
   "cell_type": "code",
   "execution_count": 13,
   "id": "e271c44a-0311-481b-b6e7-948375113db8",
   "metadata": {},
   "outputs": [
    {
     "name": "stdout",
     "output_type": "stream",
     "text": [
      "19\n"
     ]
    }
   ],
   "source": [
    "with open(\"student record\",\"a\") as fileptr:\n",
    "    write = fileptr.write(\"ye shi nhi hai bhai\")\n",
    "    print(write)\n",
    "    "
   ]
  },
  {
   "cell_type": "code",
   "execution_count": 15,
   "id": "1dd28d55-05ae-4c80-abed-3d70af6606ae",
   "metadata": {},
   "outputs": [
    {
     "name": "stdout",
     "output_type": "stream",
     "text": [
      "mera \n"
     ]
    }
   ],
   "source": [
    "with open(\"student record.txt\",\"r\") as fileptr:\n",
    "    content = fileptr.read(5)\n",
    "    print(content)"
   ]
  },
  {
   "cell_type": "code",
   "execution_count": null,
   "id": "d457bc32-2f76-419e-8b39-ec496605dff7",
   "metadata": {},
   "outputs": [],
   "source": []
  }
 ],
 "metadata": {
  "kernelspec": {
   "display_name": "Python 3 (ipykernel)",
   "language": "python",
   "name": "python3"
  },
  "language_info": {
   "codemirror_mode": {
    "name": "ipython",
    "version": 3
   },
   "file_extension": ".py",
   "mimetype": "text/x-python",
   "name": "python",
   "nbconvert_exporter": "python",
   "pygments_lexer": "ipython3",
   "version": "3.12.0"
  }
 },
 "nbformat": 4,
 "nbformat_minor": 5
}
