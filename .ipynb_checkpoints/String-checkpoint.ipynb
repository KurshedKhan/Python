{
 "cells": [
  {
   "cell_type": "markdown",
   "id": "3331499f-ae78-4938-a8d8-d4f50a9c077e",
   "metadata": {},
   "source": [
    "# String"
   ]
  },
  {
   "cell_type": "markdown",
   "id": "365974c2-91c4-44e1-9f3e-93449e3b3249",
   "metadata": {},
   "source": [
    "- String is a sequence which is made up of one or more UNICODE characters.\n",
    "- The character can be a letter, digit, whitespace or any other symbol.\n",
    "- A string can be created by enclosing one or more characters in single, double or triple quote."
   ]
  },
  {
   "cell_type": "code",
   "execution_count": 2,
   "id": "771f08fc-fe66-496a-ac13-ff8e3d18f3fd",
   "metadata": {},
   "outputs": [],
   "source": [
    "str1 = 'Hello World!'\n",
    "str2 = \"Hello World!\"\n",
    "str3 = \"\"\"Hello World!\"\"\"\n",
    "str4 = '''Hello World!'''"
   ]
  },
  {
   "cell_type": "code",
   "execution_count": 3,
   "id": "ccfa7f22-209c-45ff-ab57-2ce599d526ff",
   "metadata": {},
   "outputs": [
    {
     "data": {
      "text/plain": [
       "'Hello World!'"
      ]
     },
     "execution_count": 3,
     "metadata": {},
     "output_type": "execute_result"
    }
   ],
   "source": [
    "str1"
   ]
  },
  {
   "cell_type": "code",
   "execution_count": 4,
   "id": "b285524d-a909-4256-9d84-3cb9a46ff12f",
   "metadata": {},
   "outputs": [
    {
     "data": {
      "text/plain": [
       "'Hello World!'"
      ]
     },
     "execution_count": 4,
     "metadata": {},
     "output_type": "execute_result"
    }
   ],
   "source": [
    "str2"
   ]
  },
  {
   "cell_type": "code",
   "execution_count": 5,
   "id": "c25debc1-97eb-4b98-b579-7431e69bf072",
   "metadata": {},
   "outputs": [
    {
     "data": {
      "text/plain": [
       "'Hello World!'"
      ]
     },
     "execution_count": 5,
     "metadata": {},
     "output_type": "execute_result"
    }
   ],
   "source": [
    "str3"
   ]
  },
  {
   "cell_type": "code",
   "execution_count": 6,
   "id": "34855485-b246-404e-8d0a-f08c1c7fc679",
   "metadata": {},
   "outputs": [
    {
     "data": {
      "text/plain": [
       "'Hello World!'"
      ]
     },
     "execution_count": 6,
     "metadata": {},
     "output_type": "execute_result"
    }
   ],
   "source": [
    "str4"
   ]
  },
  {
   "cell_type": "markdown",
   "id": "31361926-2cb2-49f9-8a9d-73b2310d9cc7",
   "metadata": {},
   "source": [
    "####  Values stored in str3 can be extended to multiple lines using triple quote."
   ]
  },
  {
   "cell_type": "code",
   "execution_count": 1,
   "id": "a886a988-aae0-46b8-8eb8-8814d108ad67",
   "metadata": {},
   "outputs": [],
   "source": [
    "str3 = \"\"\" Hello World!\n",
    "Welcome to the world of Python\"\"\""
   ]
  },
  {
   "cell_type": "code",
   "execution_count": 2,
   "id": "d2cb2e44-1e18-4dd1-ae3a-a34a94d558c8",
   "metadata": {},
   "outputs": [
    {
     "data": {
      "text/plain": [
       "' Hello World!\\nWelcome to the world of Python'"
      ]
     },
     "execution_count": 2,
     "metadata": {},
     "output_type": "execute_result"
    }
   ],
   "source": [
    "str3"
   ]
  },
  {
   "cell_type": "code",
   "execution_count": null,
   "id": "aa4e6cfd-b79f-41ac-aa86-4f8fd06fa7e3",
   "metadata": {},
   "outputs": [],
   "source": []
  },
  {
   "cell_type": "code",
   "execution_count": null,
   "id": "b46d57ac-0db2-41a5-9455-b437122799e4",
   "metadata": {},
   "outputs": [],
   "source": []
  },
  {
   "cell_type": "markdown",
   "id": "c8b1dd3d-53ab-4e8a-b85f-640cfc34ac70",
   "metadata": {},
   "source": [
    "## Accessing Characters in a String "
   ]
  },
  {
   "cell_type": "markdown",
   "id": "d229091d-2231-4fd7-be53-570c3d811152",
   "metadata": {},
   "source": [
    "- Each individual character in a string can be accessed using a technique called indexing.\n",
    "- The index specifies the character to be accessed in the string and is written in square brackets ([ ]).\n",
    "- The index of the first character from left) in the string is 0 and the last character is n-1.\n",
    "-  Where n is the length of the string.\n",
    "-  If we give index value out of this range then we get an IndexError.\n",
    "-  The index must be an integer (positive, zero or negative)."
   ]
  },
  {
   "cell_type": "code",
   "execution_count": 6,
   "id": "385f6877-bd09-4e71-b091-fc21822dcc8b",
   "metadata": {},
   "outputs": [],
   "source": [
    "# initializes a string str1\n",
    "str1 = \"Hello World!\""
   ]
  },
  {
   "cell_type": "code",
   "execution_count": 7,
   "id": "fabcc25c-2482-406e-933c-4b2a4f674e74",
   "metadata": {},
   "outputs": [
    {
     "data": {
      "text/plain": [
       "'Hello World!'"
      ]
     },
     "execution_count": 7,
     "metadata": {},
     "output_type": "execute_result"
    }
   ],
   "source": [
    "str1"
   ]
  },
  {
   "cell_type": "code",
   "execution_count": 8,
   "id": "4f288498-a01f-43c1-aac4-330f70cf28f8",
   "metadata": {},
   "outputs": [
    {
     "data": {
      "text/plain": [
       "'H'"
      ]
     },
     "execution_count": 8,
     "metadata": {},
     "output_type": "execute_result"
    }
   ],
   "source": [
    "# gives the first character of str1\n",
    "str1[0]"
   ]
  },
  {
   "cell_type": "code",
   "execution_count": 9,
   "id": "adf3ee17-706e-4b8d-bdba-294d141346ce",
   "metadata": {},
   "outputs": [
    {
     "data": {
      "text/plain": [
       "'W'"
      ]
     },
     "execution_count": 9,
     "metadata": {},
     "output_type": "execute_result"
    }
   ],
   "source": [
    "# gives seventh character of str1\n",
    "str1[6]"
   ]
  },
  {
   "cell_type": "code",
   "execution_count": 10,
   "id": "f8a32f40-cf7e-4e62-98a2-8d4ad77b43c4",
   "metadata": {},
   "outputs": [
    {
     "data": {
      "text/plain": [
       "'!'"
      ]
     },
     "execution_count": 10,
     "metadata": {},
     "output_type": "execute_result"
    }
   ],
   "source": [
    "# gives last character of str1\n",
    "str1[11]"
   ]
  },
  {
   "cell_type": "code",
   "execution_count": 11,
   "id": "20cef40c-799d-451f-b303-451c4b68a213",
   "metadata": {},
   "outputs": [
    {
     "ename": "IndexError",
     "evalue": "string index out of range",
     "output_type": "error",
     "traceback": [
      "\u001b[1;31m---------------------------------------------------------------------------\u001b[0m",
      "\u001b[1;31mIndexError\u001b[0m                                Traceback (most recent call last)",
      "Cell \u001b[1;32mIn[11], line 2\u001b[0m\n\u001b[0;32m      1\u001b[0m \u001b[38;5;66;03m# gives error as index is out of range\u001b[39;00m\n\u001b[1;32m----> 2\u001b[0m \u001b[43mstr1\u001b[49m\u001b[43m[\u001b[49m\u001b[38;5;241;43m15\u001b[39;49m\u001b[43m]\u001b[49m\n",
      "\u001b[1;31mIndexError\u001b[0m: string index out of range"
     ]
    }
   ],
   "source": [
    "# gives error as index is out of range\n",
    "str1[15]"
   ]
  },
  {
   "cell_type": "markdown",
   "id": "4bf203fa-491d-4b45-8da8-4dea9c0e17f4",
   "metadata": {},
   "source": [
    "- The index can also be an expression including variables and operators but the expression must evaluate to an integer."
   ]
  },
  {
   "cell_type": "code",
   "execution_count": null,
   "id": "901d1ca5-7802-4368-90d9-b891f213e58a",
   "metadata": {},
   "outputs": [],
   "source": [
    "str1[2+4]"
   ]
  },
  {
   "cell_type": "code",
   "execution_count": 12,
   "id": "b420c3b1-93fc-40e8-8c74-17f5840e299f",
   "metadata": {},
   "outputs": [
    {
     "ename": "TypeError",
     "evalue": "string indices must be integers, not 'float'",
     "output_type": "error",
     "traceback": [
      "\u001b[1;31m---------------------------------------------------------------------------\u001b[0m",
      "\u001b[1;31mTypeError\u001b[0m                                 Traceback (most recent call last)",
      "Cell \u001b[1;32mIn[12], line 2\u001b[0m\n\u001b[0;32m      1\u001b[0m \u001b[38;5;66;03m# gives error as index must be an integer\u001b[39;00m\n\u001b[1;32m----> 2\u001b[0m \u001b[43mstr1\u001b[49m\u001b[43m[\u001b[49m\u001b[38;5;241;43m1.5\u001b[39;49m\u001b[43m]\u001b[49m\n",
      "\u001b[1;31mTypeError\u001b[0m: string indices must be integers, not 'float'"
     ]
    }
   ],
   "source": [
    "# gives error as index must be an integer\n",
    "str1[1.5]"
   ]
  },
  {
   "cell_type": "markdown",
   "id": "f0b1cc91-d84f-4224-b640-6d69ed23d931",
   "metadata": {},
   "source": [
    "- Python allows an index value to be negative also.\n",
    "- Negative indices are used when we want to access the characters of the string from right to left.\n",
    "- Starting from right hand side, the first character has the index as -1 and the last character has the index –n where n is the length of the string. "
   ]
  },
  {
   "cell_type": "code",
   "execution_count": 13,
   "id": "2b268e66-b9d0-4477-a3c4-6a06f00b8edd",
   "metadata": {},
   "outputs": [
    {
     "data": {
      "text/plain": [
       "'!'"
      ]
     },
     "execution_count": 13,
     "metadata": {},
     "output_type": "execute_result"
    }
   ],
   "source": [
    "str1[-1]"
   ]
  },
  {
   "cell_type": "code",
   "execution_count": 14,
   "id": "acf58223-a556-48f2-a7b5-17db5e43a4c5",
   "metadata": {},
   "outputs": [
    {
     "data": {
      "text/plain": [
       "'H'"
      ]
     },
     "execution_count": 14,
     "metadata": {},
     "output_type": "execute_result"
    }
   ],
   "source": [
    "str1[-12]"
   ]
  },
  {
   "cell_type": "markdown",
   "id": "2e44905e-145e-4dd9-9345-8fc4dd80935b",
   "metadata": {},
   "source": [
    "![String Indexing](Indexing.png)"
   ]
  },
  {
   "cell_type": "markdown",
   "id": "7b81cca4-6bae-42da-a01c-169d6283184e",
   "metadata": {},
   "source": [
    "- An inbuilt function len() in Python returns the length of the string that is passed as parameter. "
   ]
  },
  {
   "cell_type": "code",
   "execution_count": 15,
   "id": "99431bf0-4686-4b73-a937-644e67b0eba4",
   "metadata": {},
   "outputs": [],
   "source": [
    "str1 = \"Hello World!\""
   ]
  },
  {
   "cell_type": "code",
   "execution_count": 16,
   "id": "a8c1faa5-0792-4ac9-bdb4-3eba919baf7d",
   "metadata": {},
   "outputs": [
    {
     "data": {
      "text/plain": [
       "12"
      ]
     },
     "execution_count": 16,
     "metadata": {},
     "output_type": "execute_result"
    }
   ],
   "source": [
    "# gives the length of the string str1\n",
    "len(str1)"
   ]
  },
  {
   "cell_type": "code",
   "execution_count": 17,
   "id": "3d8d3319-00a7-4e5c-a3fa-b3edde8fb0de",
   "metadata": {},
   "outputs": [],
   "source": [
    "# length of the string is assigned to n\n",
    "n = len(str1)"
   ]
  },
  {
   "cell_type": "code",
   "execution_count": 18,
   "id": "80617dfd-a3b9-4b33-b651-5e3ed251e53d",
   "metadata": {},
   "outputs": [
    {
     "data": {
      "text/plain": [
       "'!'"
      ]
     },
     "execution_count": 18,
     "metadata": {},
     "output_type": "execute_result"
    }
   ],
   "source": [
    "# gives the last character of the string\n",
    "str1[n-1]"
   ]
  },
  {
   "cell_type": "code",
   "execution_count": 19,
   "id": "6034fe48-9606-4b53-b3f1-32727545772e",
   "metadata": {},
   "outputs": [
    {
     "data": {
      "text/plain": [
       "'H'"
      ]
     },
     "execution_count": 19,
     "metadata": {},
     "output_type": "execute_result"
    }
   ],
   "source": [
    "#gives the first character of the string\n",
    "str1[-n]"
   ]
  },
  {
   "cell_type": "code",
   "execution_count": null,
   "id": "7159e53c-0399-481f-85dd-5939c8134ddb",
   "metadata": {},
   "outputs": [],
   "source": []
  },
  {
   "cell_type": "code",
   "execution_count": null,
   "id": "c1466357-3307-4174-9092-770883981fda",
   "metadata": {},
   "outputs": [],
   "source": []
  },
  {
   "cell_type": "markdown",
   "id": "3570b331-c363-4461-bd14-2f0b091264d8",
   "metadata": {},
   "source": [
    "##  String is Immutable"
   ]
  },
  {
   "cell_type": "markdown",
   "id": "1c8a08cd-ef49-4dc8-9d6b-bf69941d3014",
   "metadata": {},
   "source": [
    "- A string is an immutable data type.\n",
    "- It means that the contents of the string cannot be changed after it has been created.\n",
    "- An attempt to do this would lead to an error."
   ]
  },
  {
   "cell_type": "code",
   "execution_count": 20,
   "id": "16932158-9c4d-4749-b86b-086ce10912e2",
   "metadata": {},
   "outputs": [],
   "source": [
    "str1 = \"Kurshed Khan\""
   ]
  },
  {
   "cell_type": "code",
   "execution_count": 22,
   "id": "22412c35-caf5-49f5-933a-b7d8245f1f9f",
   "metadata": {},
   "outputs": [
    {
     "ename": "TypeError",
     "evalue": "'str' object does not support item assignment",
     "output_type": "error",
     "traceback": [
      "\u001b[1;31m---------------------------------------------------------------------------\u001b[0m",
      "\u001b[1;31mTypeError\u001b[0m                                 Traceback (most recent call last)",
      "Cell \u001b[1;32mIn[22], line 1\u001b[0m\n\u001b[1;32m----> 1\u001b[0m \u001b[43mstr1\u001b[49m\u001b[43m[\u001b[49m\u001b[38;5;241;43m1\u001b[39;49m\u001b[43m]\u001b[49m \u001b[38;5;241m=\u001b[39m \u001b[38;5;124m\"\u001b[39m\u001b[38;5;124mh\u001b[39m\u001b[38;5;124m\"\u001b[39m\n",
      "\u001b[1;31mTypeError\u001b[0m: 'str' object does not support item assignment"
     ]
    }
   ],
   "source": [
    "str1[1] = \"h\""
   ]
  },
  {
   "cell_type": "code",
   "execution_count": null,
   "id": "85d12cb6-6c00-416f-b01d-6cf6012f12a7",
   "metadata": {},
   "outputs": [],
   "source": []
  },
  {
   "cell_type": "code",
   "execution_count": null,
   "id": "d28479ae-3308-468c-923a-61ce3c2dbe6f",
   "metadata": {},
   "outputs": [],
   "source": []
  },
  {
   "cell_type": "markdown",
   "id": "2468a65e-2296-45dc-b04e-00d7a9c4060e",
   "metadata": {},
   "source": [
    "## String Operations"
   ]
  },
  {
   "cell_type": "markdown",
   "id": "6031b030-96f0-4b25-bb11-2e944344d54d",
   "metadata": {},
   "source": [
    "- String is a sequence of characters.\n",
    "- Python allows certain operations on string data type, such as `concatenation`, `repetition`, `membership` and `slicing`.\n"
   ]
  },
  {
   "cell_type": "markdown",
   "id": "b9a0ba8a-d60e-498b-8142-fb4023c8a232",
   "metadata": {},
   "source": [
    "### 1. Concatenation \n",
    "- To concatenate means to join.\n",
    "- Python allows us to join two strings using concatenation operator plus which is denoted by symbol +."
   ]
  },
  {
   "cell_type": "code",
   "execution_count": 25,
   "id": "fad64c48-fe5a-45e6-9976-8dad7c0a1765",
   "metadata": {},
   "outputs": [
    {
     "data": {
      "text/plain": [
       "'HelloWorld!'"
      ]
     },
     "execution_count": 25,
     "metadata": {},
     "output_type": "execute_result"
    }
   ],
   "source": [
    "str1 = \"Hello\"\n",
    "str2 = \"World!\"\n",
    "str1 + str2 #Concatenated strings"
   ]
  },
  {
   "cell_type": "code",
   "execution_count": 26,
   "id": "b1b19f4d-9748-49a4-94cb-569707169d9e",
   "metadata": {},
   "outputs": [
    {
     "data": {
      "text/plain": [
       "'Hello'"
      ]
     },
     "execution_count": 26,
     "metadata": {},
     "output_type": "execute_result"
    }
   ],
   "source": [
    "str1"
   ]
  },
  {
   "cell_type": "code",
   "execution_count": 27,
   "id": "b722d8fd-1d15-4960-a88f-872db258b5c3",
   "metadata": {},
   "outputs": [
    {
     "data": {
      "text/plain": [
       "'World!'"
      ]
     },
     "execution_count": 27,
     "metadata": {},
     "output_type": "execute_result"
    }
   ],
   "source": [
    "str2"
   ]
  },
  {
   "cell_type": "code",
   "execution_count": null,
   "id": "035b2fab-9de5-4219-a190-b37f65e6659a",
   "metadata": {},
   "outputs": [],
   "source": []
  },
  {
   "cell_type": "markdown",
   "id": "53820802-b517-4245-964f-f16e112c9f58",
   "metadata": {},
   "source": [
    "### 2. Repetition"
   ]
  },
  {
   "cell_type": "markdown",
   "id": "399e2a89-61d3-43f2-ba27-129fe86dd205",
   "metadata": {},
   "source": [
    "- Python allows us to repeat the given string using repetition operator which is denoted by symbol *."
   ]
  },
  {
   "cell_type": "code",
   "execution_count": 28,
   "id": "11efd39a-e1b8-4b33-9045-21d8293fdf95",
   "metadata": {},
   "outputs": [],
   "source": [
    "#assign string 'Hello' to str1\n",
    "str1 = \"Hello\""
   ]
  },
  {
   "cell_type": "code",
   "execution_count": 29,
   "id": "b7fb5377-aa06-42f2-95af-f7733689109b",
   "metadata": {},
   "outputs": [
    {
     "data": {
      "text/plain": [
       "'Hello'"
      ]
     },
     "execution_count": 29,
     "metadata": {},
     "output_type": "execute_result"
    }
   ],
   "source": [
    "str1"
   ]
  },
  {
   "cell_type": "code",
   "execution_count": 30,
   "id": "5817f65f-b8b5-4aed-a94b-fab95fe15fad",
   "metadata": {},
   "outputs": [
    {
     "data": {
      "text/plain": [
       "'HelloHello'"
      ]
     },
     "execution_count": 30,
     "metadata": {},
     "output_type": "execute_result"
    }
   ],
   "source": [
    "#repeat the value of str1 2 times\n",
    "str1*2"
   ]
  },
  {
   "cell_type": "code",
   "execution_count": 31,
   "id": "acac6a0f-a9ec-4a1e-ad56-f6f0c3fffbe8",
   "metadata": {},
   "outputs": [
    {
     "data": {
      "text/plain": [
       "'HelloHelloHelloHelloHello'"
      ]
     },
     "execution_count": 31,
     "metadata": {},
     "output_type": "execute_result"
    }
   ],
   "source": [
    "#repeat the value of str1 5 times\n",
    "str1*5"
   ]
  },
  {
   "cell_type": "code",
   "execution_count": 32,
   "id": "5f0be7ef-e110-4c10-8ef8-db2ce6d6fec5",
   "metadata": {},
   "outputs": [
    {
     "data": {
      "text/plain": [
       "'Hello'"
      ]
     },
     "execution_count": 32,
     "metadata": {},
     "output_type": "execute_result"
    }
   ],
   "source": [
    "str1"
   ]
  },
  {
   "cell_type": "code",
   "execution_count": null,
   "id": "63a2fd1d-6376-488c-ab41-2e9f24137171",
   "metadata": {},
   "outputs": [],
   "source": []
  },
  {
   "cell_type": "code",
   "execution_count": null,
   "id": "c611d129-0ed1-456a-8594-0bf672928126",
   "metadata": {},
   "outputs": [],
   "source": []
  },
  {
   "cell_type": "markdown",
   "id": "e8813680-e27b-4d27-a248-d51e84316db2",
   "metadata": {},
   "source": [
    "### 3. Membership"
   ]
  },
  {
   "cell_type": "markdown",
   "id": "96d64af4-dfed-4277-b8b4-a1b1992dc84c",
   "metadata": {},
   "source": [
    "- Python has two membership operators 'in' and 'not in'.\n",
    "- The 'in' operator takes two strings and returns True if the first string appears as a substring in the second string, otherwise it returns False."
   ]
  },
  {
   "cell_type": "code",
   "execution_count": 1,
   "id": "ad86acc9-9fc4-414a-8dfa-d279bfcd4497",
   "metadata": {},
   "outputs": [],
   "source": [
    "str1 = \"Hello World!\""
   ]
  },
  {
   "cell_type": "code",
   "execution_count": 2,
   "id": "67df30eb-650a-4c9e-9f0a-02df186de601",
   "metadata": {},
   "outputs": [
    {
     "data": {
      "text/plain": [
       "True"
      ]
     },
     "execution_count": 2,
     "metadata": {},
     "output_type": "execute_result"
    }
   ],
   "source": [
    "\"W\" in str1"
   ]
  },
  {
   "cell_type": "code",
   "execution_count": 3,
   "id": "485b1d91-7209-443c-bb96-d112f4e01a4c",
   "metadata": {},
   "outputs": [
    {
     "data": {
      "text/plain": [
       "True"
      ]
     },
     "execution_count": 3,
     "metadata": {},
     "output_type": "execute_result"
    }
   ],
   "source": [
    "\"Wor\" in str1"
   ]
  },
  {
   "cell_type": "code",
   "execution_count": 4,
   "id": "c0b1a999-6d3d-491e-b96c-008bee7b2523",
   "metadata": {},
   "outputs": [
    {
     "data": {
      "text/plain": [
       "False"
      ]
     },
     "execution_count": 4,
     "metadata": {},
     "output_type": "execute_result"
    }
   ],
   "source": [
    "\"My\" in str1"
   ]
  },
  {
   "cell_type": "markdown",
   "id": "f1824e8c-a2c4-47ab-91ea-444dbfd2a3ba",
   "metadata": {},
   "source": [
    "- The 'not in' operator also takes two strings and returns True if the first string does not appear as a substring in the second string, otherwise returns False."
   ]
  },
  {
   "cell_type": "code",
   "execution_count": 5,
   "id": "70976770-fea9-4f92-9fbb-cdc66fbcdfb9",
   "metadata": {},
   "outputs": [],
   "source": [
    "str1 = \"Hello World!\""
   ]
  },
  {
   "cell_type": "code",
   "execution_count": 6,
   "id": "d97b4da1-c338-4f31-ba2c-69efa21ca456",
   "metadata": {},
   "outputs": [
    {
     "data": {
      "text/plain": [
       "True"
      ]
     },
     "execution_count": 6,
     "metadata": {},
     "output_type": "execute_result"
    }
   ],
   "source": [
    "\"My\" not in str1"
   ]
  },
  {
   "cell_type": "code",
   "execution_count": 7,
   "id": "590c785d-def8-4ca4-880b-709d4a66f2d1",
   "metadata": {},
   "outputs": [
    {
     "data": {
      "text/plain": [
       "False"
      ]
     },
     "execution_count": 7,
     "metadata": {},
     "output_type": "execute_result"
    }
   ],
   "source": [
    "\"Hello\" not in str1"
   ]
  },
  {
   "cell_type": "code",
   "execution_count": null,
   "id": "bbd00405-f549-4a99-ac64-ff8975a8c8d0",
   "metadata": {},
   "outputs": [],
   "source": []
  },
  {
   "cell_type": "code",
   "execution_count": null,
   "id": "492d154f-824f-4f7e-a37e-5f2d2ace8028",
   "metadata": {},
   "outputs": [],
   "source": []
  },
  {
   "cell_type": "markdown",
   "id": "76409eda-8d90-4fa4-a02d-eb77dca7dc0d",
   "metadata": {},
   "source": [
    "### 4. Slicing"
   ]
  },
  {
   "cell_type": "markdown",
   "id": "523fc5aa-54e6-4550-ae10-af26993208dd",
   "metadata": {},
   "source": [
    "- To access some part of a string or substring, we use a method called slicing.\n",
    "- This can be done by specifying an index range.\n",
    "- Given a string str1, the slice operation str1[n:m] returns the part of the string str1 starting from index n (inclusive) and ending at m (exclusive).\n",
    "- In other words, we can say that str1[n:m] returns all the characters starting from str1[n] till str1[m-1].\n",
    "- The numbers of characters in the substring will always be equal to difference of two indices m and n, i.e., (m-n)."
   ]
  },
  {
   "cell_type": "code",
   "execution_count": 8,
   "id": "8e0a159c-2cbf-4df6-ae83-c710a984ad44",
   "metadata": {},
   "outputs": [],
   "source": [
    "str1 = \"Hello World!\""
   ]
  },
  {
   "cell_type": "code",
   "execution_count": 9,
   "id": "a3f0b42e-4c39-4663-90b7-a43bfcfd96dc",
   "metadata": {},
   "outputs": [
    {
     "data": {
      "text/plain": [
       "'ello'"
      ]
     },
     "execution_count": 9,
     "metadata": {},
     "output_type": "execute_result"
    }
   ],
   "source": [
    "# gives substring starting from index 1 to 4\n",
    "str1[1:5]"
   ]
  },
  {
   "cell_type": "code",
   "execution_count": 10,
   "id": "f2bf2ac5-f485-441e-8da9-8b6c4e193ab0",
   "metadata": {},
   "outputs": [
    {
     "data": {
      "text/plain": [
       "'orl'"
      ]
     },
     "execution_count": 10,
     "metadata": {},
     "output_type": "execute_result"
    }
   ],
   "source": [
    "# gives substring starting from 7 to 9\n",
    "str1[7:10]"
   ]
  },
  {
   "cell_type": "code",
   "execution_count": 11,
   "id": "0900f0d1-ade9-4453-9c8c-6fa994fa0bdf",
   "metadata": {},
   "outputs": [
    {
     "data": {
      "text/plain": [
       "'lo World!'"
      ]
     },
     "execution_count": 11,
     "metadata": {},
     "output_type": "execute_result"
    }
   ],
   "source": [
    "str1[3:20]"
   ]
  },
  {
   "cell_type": "code",
   "execution_count": 12,
   "id": "19d2275c-5ffe-4653-a1a8-9826eb82877c",
   "metadata": {},
   "outputs": [],
   "source": [
    "# first index > second index results in an empty ' ' string"
   ]
  },
  {
   "cell_type": "code",
   "execution_count": 13,
   "id": "e5da9f80-c849-441b-bef2-0d93bc306788",
   "metadata": {},
   "outputs": [
    {
     "data": {
      "text/plain": [
       "''"
      ]
     },
     "execution_count": 13,
     "metadata": {},
     "output_type": "execute_result"
    }
   ],
   "source": [
    "str1[7:2]"
   ]
  },
  {
   "cell_type": "code",
   "execution_count": 14,
   "id": "72ced9bf-a4bb-4a37-af95-1f2268abdd58",
   "metadata": {},
   "outputs": [
    {
     "data": {
      "text/plain": [
       "'Hello'"
      ]
     },
     "execution_count": 14,
     "metadata": {},
     "output_type": "execute_result"
    }
   ],
   "source": [
    "# If the first index is not mentioned, the slice starts from index. \n",
    "str1[:5]"
   ]
  },
  {
   "cell_type": "code",
   "execution_count": 15,
   "id": "cbab3ca6-2eb5-472d-ab54-756097dccc6e",
   "metadata": {},
   "outputs": [
    {
     "data": {
      "text/plain": [
       "'World!'"
      ]
     },
     "execution_count": 15,
     "metadata": {},
     "output_type": "execute_result"
    }
   ],
   "source": [
    "#If the second index is not mentioned, the slicing is \n",
    "#done till the length of the string.\n",
    "str1[6:]"
   ]
  },
  {
   "cell_type": "markdown",
   "id": "fccb047d-ecd2-4d2c-a2bc-2b2c6175ff11",
   "metadata": {},
   "source": [
    "- The slice operation can also take a third index that specifies the ‘step size’.\n",
    "- For example, str1[n:m:k], means every kth character has to be extracted from the string str1 starting from n and ending at m-1.\n",
    "- By default, the step size is one."
   ]
  },
  {
   "cell_type": "code",
   "execution_count": 16,
   "id": "af61f134-97d8-4045-8c35-44cd19e98f09",
   "metadata": {},
   "outputs": [],
   "source": [
    "str1 = \"Hello World!\""
   ]
  },
  {
   "cell_type": "code",
   "execution_count": 17,
   "id": "103eaaae-60d7-4855-9126-ca6e4da3dd6a",
   "metadata": {},
   "outputs": [
    {
     "data": {
      "text/plain": [
       "'HloWr'"
      ]
     },
     "execution_count": 17,
     "metadata": {},
     "output_type": "execute_result"
    }
   ],
   "source": [
    "str1[0:10:2]"
   ]
  },
  {
   "cell_type": "code",
   "execution_count": 18,
   "id": "10ce844a-f958-4f66-90f1-b081376293ea",
   "metadata": {},
   "outputs": [
    {
     "data": {
      "text/plain": [
       "'HlWl'"
      ]
     },
     "execution_count": 18,
     "metadata": {},
     "output_type": "execute_result"
    }
   ],
   "source": [
    "str1[0:10:3]"
   ]
  },
  {
   "cell_type": "markdown",
   "id": "27d9a087-beb3-4b44-8b5b-2b8a04eec025",
   "metadata": {},
   "source": [
    "- Negative indexes can also be used for slicing."
   ]
  },
  {
   "cell_type": "code",
   "execution_count": null,
   "id": "d4363707-d0e9-460a-afe7-9c9e93b35651",
   "metadata": {},
   "outputs": [],
   "source": [
    "#characters at index -6,-5,-4,-3 and -2 are sliced"
   ]
  },
  {
   "cell_type": "code",
   "execution_count": 19,
   "id": "cfb5e75c-0b2f-4bb3-b02c-569a954fa16a",
   "metadata": {},
   "outputs": [
    {
     "data": {
      "text/plain": [
       "'World'"
      ]
     },
     "execution_count": 19,
     "metadata": {},
     "output_type": "execute_result"
    }
   ],
   "source": [
    "str1[-6:-1]"
   ]
  },
  {
   "cell_type": "markdown",
   "id": "6c5116c9-99dc-4b1c-872c-cfaf39d8581f",
   "metadata": {},
   "source": [
    "- If we ignore both the indexes and give step size as -1"
   ]
  },
  {
   "cell_type": "code",
   "execution_count": 20,
   "id": "cc16b988-e1f2-4c4f-a501-5b765776d451",
   "metadata": {},
   "outputs": [
    {
     "data": {
      "text/plain": [
       "'!dlroW olleH'"
      ]
     },
     "execution_count": 20,
     "metadata": {},
     "output_type": "execute_result"
    }
   ],
   "source": [
    "str1[::-1]"
   ]
  },
  {
   "cell_type": "markdown",
   "id": "a15aee45-68bb-45ce-8264-bd61f221fa7a",
   "metadata": {},
   "source": [
    "#### Note : #str1 string is obtained in the reverse order"
   ]
  },
  {
   "cell_type": "code",
   "execution_count": null,
   "id": "7f911852-c7d9-4f01-a8f1-ad898866bc93",
   "metadata": {},
   "outputs": [],
   "source": []
  },
  {
   "cell_type": "code",
   "execution_count": null,
   "id": "cdae57dc-6703-4c4e-8bd0-fe4d35052c19",
   "metadata": {},
   "outputs": [],
   "source": []
  },
  {
   "cell_type": "markdown",
   "id": "7ec1b040-30c3-44cc-bb4d-24486b4b6e48",
   "metadata": {},
   "source": [
    "#  Traversing a String"
   ]
  },
  {
   "cell_type": "markdown",
   "id": "e1006493-ee0d-4130-b36d-64109720beb3",
   "metadata": {},
   "source": [
    "- We can access each character of a string or traverse a string using for loop and while loop."
   ]
  },
  {
   "cell_type": "code",
   "execution_count": 22,
   "id": "047a02e4-22a7-4b73-9e0b-c746ce47d09f",
   "metadata": {},
   "outputs": [
    {
     "name": "stdout",
     "output_type": "stream",
     "text": [
      "Hello World!"
     ]
    }
   ],
   "source": [
    "# String Traversal using for loop:\n",
    "str1 = \"Hello World!\"\n",
    "for ch in str1:\n",
    "    print(ch,end=\"\")"
   ]
  },
  {
   "cell_type": "code",
   "execution_count": 23,
   "id": "1bb8acab-03bc-4355-90b1-8a6d7cf4b118",
   "metadata": {},
   "outputs": [
    {
     "name": "stdout",
     "output_type": "stream",
     "text": [
      "Hello World!"
     ]
    }
   ],
   "source": [
    "# string Traversal using while loop:\n",
    "str1 = 'Hello World!'\n",
    "index = 0\n",
    "# len() : a function to get length of string\n",
    "while index < len(str1) :\n",
    "    print(str1[index],end=\"\")\n",
    "    index+=1"
   ]
  },
  {
   "cell_type": "code",
   "execution_count": null,
   "id": "34739180-6861-4dda-9d8c-c9584c886597",
   "metadata": {},
   "outputs": [],
   "source": []
  },
  {
   "cell_type": "code",
   "execution_count": null,
   "id": "3b26d354-a4d7-4bc7-836c-919245efa388",
   "metadata": {},
   "outputs": [],
   "source": []
  },
  {
   "cell_type": "markdown",
   "id": "7518f07a-871f-4033-a3fc-58a75a534ec8",
   "metadata": {},
   "source": [
    "# String Methods and Built-in Functions"
   ]
  },
  {
   "cell_type": "markdown",
   "id": "5f94435e-06b7-49a6-8cf7-cabdb02787f8",
   "metadata": {},
   "source": [
    "## 1. `len()` :\n",
    "- Returns the length of the given string"
   ]
  },
  {
   "cell_type": "code",
   "execution_count": 27,
   "id": "1496ecf2-b8e4-46f3-88de-da805296ee7f",
   "metadata": {},
   "outputs": [],
   "source": [
    "str1 = \"Hello World!\""
   ]
  },
  {
   "cell_type": "code",
   "execution_count": 28,
   "id": "c37700c9-c088-4f6a-93b8-3d215c09f84e",
   "metadata": {},
   "outputs": [
    {
     "data": {
      "text/plain": [
       "12"
      ]
     },
     "execution_count": 28,
     "metadata": {},
     "output_type": "execute_result"
    }
   ],
   "source": [
    "len(str1)"
   ]
  },
  {
   "cell_type": "code",
   "execution_count": 29,
   "id": "e326eec7-b8e7-4c73-9e1e-d291dfc95464",
   "metadata": {},
   "outputs": [
    {
     "data": {
      "text/plain": [
       "'Hello World!'"
      ]
     },
     "execution_count": 29,
     "metadata": {},
     "output_type": "execute_result"
    }
   ],
   "source": [
    "str1"
   ]
  },
  {
   "cell_type": "code",
   "execution_count": null,
   "id": "c45f9953-0d2e-4e75-b814-b28494840043",
   "metadata": {},
   "outputs": [],
   "source": []
  },
  {
   "cell_type": "markdown",
   "id": "478e6404-f1de-4f8a-91f3-9b45c4ce1d24",
   "metadata": {},
   "source": [
    "## 2. `title()` :\n",
    "- Returns the string with first letter of every word in the string in uppercase and rest in lowercase."
   ]
  },
  {
   "cell_type": "code",
   "execution_count": 30,
   "id": "66c652ae-e1d2-41c9-b002-ac426068c450",
   "metadata": {},
   "outputs": [],
   "source": [
    "str1 = 'hello WORLD'"
   ]
  },
  {
   "cell_type": "code",
   "execution_count": 31,
   "id": "f2cb4344-da34-4c7d-acbc-39fd3a69abbf",
   "metadata": {},
   "outputs": [
    {
     "data": {
      "text/plain": [
       "'Hello World'"
      ]
     },
     "execution_count": 31,
     "metadata": {},
     "output_type": "execute_result"
    }
   ],
   "source": [
    "str1.title()"
   ]
  },
  {
   "cell_type": "code",
   "execution_count": null,
   "id": "f55c3c15-0496-4350-aa31-01bf65c4744c",
   "metadata": {},
   "outputs": [],
   "source": []
  },
  {
   "cell_type": "markdown",
   "id": "ec450cb2-ea7d-4cf0-9457-4f7d810816a0",
   "metadata": {},
   "source": [
    "## 3. `lower()` :\n",
    "- Returns the string with all uppercase letters converted to lowercase."
   ]
  },
  {
   "cell_type": "code",
   "execution_count": 32,
   "id": "d5869687-e2ea-47ef-8368-d5aa80a9a3dc",
   "metadata": {},
   "outputs": [],
   "source": [
    "str1 = 'hello WORLD'"
   ]
  },
  {
   "cell_type": "code",
   "execution_count": 33,
   "id": "ef9e521f-3c5d-4387-890a-6eba2fddd3e3",
   "metadata": {},
   "outputs": [
    {
     "data": {
      "text/plain": [
       "'hello world'"
      ]
     },
     "execution_count": 33,
     "metadata": {},
     "output_type": "execute_result"
    }
   ],
   "source": [
    "str1.lower()"
   ]
  },
  {
   "cell_type": "code",
   "execution_count": null,
   "id": "fa4f23a5-2fb7-4d99-b1ea-d532d31842d4",
   "metadata": {},
   "outputs": [],
   "source": []
  },
  {
   "cell_type": "markdown",
   "id": "6053bdd7-687a-4b97-a180-25e4629a7e96",
   "metadata": {},
   "source": [
    "## 4. `upper()` : \n",
    "- Returns the string with all lowercase letters converted to uppercase."
   ]
  },
  {
   "cell_type": "code",
   "execution_count": 34,
   "id": "1c375922-199a-428a-8bb5-ea796f0715ca",
   "metadata": {},
   "outputs": [],
   "source": [
    "str1 = 'hello WORLD'"
   ]
  },
  {
   "cell_type": "code",
   "execution_count": 35,
   "id": "b46963c6-1dab-4210-aebb-4f410a79d00e",
   "metadata": {},
   "outputs": [
    {
     "data": {
      "text/plain": [
       "'HELLO WORLD'"
      ]
     },
     "execution_count": 35,
     "metadata": {},
     "output_type": "execute_result"
    }
   ],
   "source": [
    "str1.upper()"
   ]
  },
  {
   "cell_type": "code",
   "execution_count": null,
   "id": "75344b19-385d-40c9-9d54-89e648b32893",
   "metadata": {},
   "outputs": [],
   "source": []
  },
  {
   "cell_type": "markdown",
   "id": "706d3026-3888-40fa-97f6-d9881ce575d2",
   "metadata": {},
   "source": [
    "## 5. `count(str,start,end)` :\n",
    "- Returns number of times substring str occurs in the given string.\n",
    "- If we do not give start index and end index then searching starts from index o and ends at length of the string."
   ]
  },
  {
   "cell_type": "code",
   "execution_count": 36,
   "id": "401e0af0-afb5-4e4e-a022-0cfa4ecf1915",
   "metadata": {},
   "outputs": [],
   "source": [
    "str1 = \"Hello World! Hello Hello\""
   ]
  },
  {
   "cell_type": "code",
   "execution_count": 37,
   "id": "84553841-44eb-4543-bc2c-e5957efc98fe",
   "metadata": {},
   "outputs": [
    {
     "data": {
      "text/plain": [
       "2"
      ]
     },
     "execution_count": 37,
     "metadata": {},
     "output_type": "execute_result"
    }
   ],
   "source": [
    "str1.count(\"Hello\",12,25)"
   ]
  },
  {
   "cell_type": "code",
   "execution_count": 38,
   "id": "04db928b-0a8b-4801-ab60-bc601c808a7a",
   "metadata": {},
   "outputs": [
    {
     "data": {
      "text/plain": [
       "3"
      ]
     },
     "execution_count": 38,
     "metadata": {},
     "output_type": "execute_result"
    }
   ],
   "source": [
    "str1.count(\"Hello\")"
   ]
  },
  {
   "cell_type": "code",
   "execution_count": null,
   "id": "f025f1d5-2f6f-4523-92ae-ee408fccf073",
   "metadata": {},
   "outputs": [],
   "source": []
  },
  {
   "cell_type": "markdown",
   "id": "87998735-9302-4560-bbf8-540cb1fcca32",
   "metadata": {},
   "source": [
    "## 6. `find(str,start,end)` :\n",
    "- Returns the first occurrence of index of substring str occurring in the given string.\n",
    "- If we do not give start and end then searching starts from index 0 and ends at length of the string.\n",
    "- If the substring is not present in the given string, then the function returns -1"
   ]
  },
  {
   "cell_type": "code",
   "execution_count": 39,
   "id": "0c455808-0d52-4c69-ad1b-3a95e71edbd8",
   "metadata": {},
   "outputs": [],
   "source": [
    "str1 = \"Hello World! Hello Hello\""
   ]
  },
  {
   "cell_type": "code",
   "execution_count": 40,
   "id": "ea036280-4419-4bcc-8079-42aed32f878f",
   "metadata": {},
   "outputs": [
    {
     "data": {
      "text/plain": [
       "13"
      ]
     },
     "execution_count": 40,
     "metadata": {},
     "output_type": "execute_result"
    }
   ],
   "source": [
    "str1.find(\"Hello\",10,20)"
   ]
  },
  {
   "cell_type": "code",
   "execution_count": 41,
   "id": "25dad6af-3441-4785-a960-3eb8bf8a07f8",
   "metadata": {},
   "outputs": [
    {
     "data": {
      "text/plain": [
       "19"
      ]
     },
     "execution_count": 41,
     "metadata": {},
     "output_type": "execute_result"
    }
   ],
   "source": [
    "str1.find(\"Hello\",15,25)"
   ]
  },
  {
   "cell_type": "code",
   "execution_count": 42,
   "id": "a81eef36-4dc4-42f6-b2b8-b607bf1bc3b6",
   "metadata": {},
   "outputs": [
    {
     "data": {
      "text/plain": [
       "0"
      ]
     },
     "execution_count": 42,
     "metadata": {},
     "output_type": "execute_result"
    }
   ],
   "source": [
    "str1.find(\"Hello\")"
   ]
  },
  {
   "cell_type": "code",
   "execution_count": 43,
   "id": "2e71f6a0-31f7-46b3-8da4-d6946a3ce0d4",
   "metadata": {},
   "outputs": [
    {
     "data": {
      "text/plain": [
       "-1"
      ]
     },
     "execution_count": 43,
     "metadata": {},
     "output_type": "execute_result"
    }
   ],
   "source": [
    "str1.find(\"Hee\")"
   ]
  },
  {
   "cell_type": "code",
   "execution_count": null,
   "id": "2b554326-0eae-4a3d-b8c6-9afedfb9edb7",
   "metadata": {},
   "outputs": [],
   "source": []
  }
 ],
 "metadata": {
  "kernelspec": {
   "display_name": "Python 3 (ipykernel)",
   "language": "python",
   "name": "python3"
  },
  "language_info": {
   "codemirror_mode": {
    "name": "ipython",
    "version": 3
   },
   "file_extension": ".py",
   "mimetype": "text/x-python",
   "name": "python",
   "nbconvert_exporter": "python",
   "pygments_lexer": "ipython3",
   "version": "3.13.0"
  }
 },
 "nbformat": 4,
 "nbformat_minor": 5
}
