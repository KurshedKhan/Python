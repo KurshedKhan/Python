{
 "cells": [
  {
   "cell_type": "markdown",
   "id": "3331499f-ae78-4938-a8d8-d4f50a9c077e",
   "metadata": {},
   "source": [
    "# String"
   ]
  },
  {
   "cell_type": "markdown",
   "id": "365974c2-91c4-44e1-9f3e-93449e3b3249",
   "metadata": {},
   "source": [
    "- String is a sequence which is made up of one or more UNICODE characters.\n",
    "- The character can be a letter, digit, whitespace or any other symbol.\n",
    "- A string can be created by enclosing one or more characters in single, double or triple quote."
   ]
  },
  {
   "cell_type": "code",
   "execution_count": 2,
   "id": "771f08fc-fe66-496a-ac13-ff8e3d18f3fd",
   "metadata": {},
   "outputs": [],
   "source": [
    "str1 = 'Hello World!'\n",
    "str2 = \"Hello World!\"\n",
    "str3 = \"\"\"Hello World!\"\"\"\n",
    "str4 = '''Hello World!'''"
   ]
  },
  {
   "cell_type": "code",
   "execution_count": 3,
   "id": "ccfa7f22-209c-45ff-ab57-2ce599d526ff",
   "metadata": {},
   "outputs": [
    {
     "data": {
      "text/plain": [
       "'Hello World!'"
      ]
     },
     "execution_count": 3,
     "metadata": {},
     "output_type": "execute_result"
    }
   ],
   "source": [
    "str1"
   ]
  },
  {
   "cell_type": "code",
   "execution_count": 4,
   "id": "b285524d-a909-4256-9d84-3cb9a46ff12f",
   "metadata": {},
   "outputs": [
    {
     "data": {
      "text/plain": [
       "'Hello World!'"
      ]
     },
     "execution_count": 4,
     "metadata": {},
     "output_type": "execute_result"
    }
   ],
   "source": [
    "str2"
   ]
  },
  {
   "cell_type": "code",
   "execution_count": 5,
   "id": "c25debc1-97eb-4b98-b579-7431e69bf072",
   "metadata": {},
   "outputs": [
    {
     "data": {
      "text/plain": [
       "'Hello World!'"
      ]
     },
     "execution_count": 5,
     "metadata": {},
     "output_type": "execute_result"
    }
   ],
   "source": [
    "str3"
   ]
  },
  {
   "cell_type": "code",
   "execution_count": 6,
   "id": "34855485-b246-404e-8d0a-f08c1c7fc679",
   "metadata": {},
   "outputs": [
    {
     "data": {
      "text/plain": [
       "'Hello World!'"
      ]
     },
     "execution_count": 6,
     "metadata": {},
     "output_type": "execute_result"
    }
   ],
   "source": [
    "str4"
   ]
  },
  {
   "cell_type": "markdown",
   "id": "31361926-2cb2-49f9-8a9d-73b2310d9cc7",
   "metadata": {},
   "source": [
    "####  Values stored in str3 can be extended to multiple lines using triple quote."
   ]
  },
  {
   "cell_type": "code",
   "execution_count": 1,
   "id": "a886a988-aae0-46b8-8eb8-8814d108ad67",
   "metadata": {},
   "outputs": [],
   "source": [
    "str3 = \"\"\" Hello World!\n",
    "Welcome to the world of Python\"\"\""
   ]
  },
  {
   "cell_type": "code",
   "execution_count": 2,
   "id": "d2cb2e44-1e18-4dd1-ae3a-a34a94d558c8",
   "metadata": {},
   "outputs": [
    {
     "data": {
      "text/plain": [
       "' Hello World!\\nWelcome to the world of Python'"
      ]
     },
     "execution_count": 2,
     "metadata": {},
     "output_type": "execute_result"
    }
   ],
   "source": [
    "str3"
   ]
  },
  {
   "cell_type": "code",
   "execution_count": null,
   "id": "aa4e6cfd-b79f-41ac-aa86-4f8fd06fa7e3",
   "metadata": {},
   "outputs": [],
   "source": []
  },
  {
   "cell_type": "code",
   "execution_count": null,
   "id": "b46d57ac-0db2-41a5-9455-b437122799e4",
   "metadata": {},
   "outputs": [],
   "source": []
  },
  {
   "cell_type": "markdown",
   "id": "c8b1dd3d-53ab-4e8a-b85f-640cfc34ac70",
   "metadata": {},
   "source": [
    "## Accessing Characters in a String "
   ]
  },
  {
   "cell_type": "markdown",
   "id": "d229091d-2231-4fd7-be53-570c3d811152",
   "metadata": {},
   "source": [
    "- Each individual character in a string can be accessed using a technique called indexing.\n",
    "- The index specifies the character to be accessed in the string and is written in square brackets ([ ]).\n",
    "- The index of the first character from left) in the string is 0 and the last character is n-1.\n",
    "-  Where n is the length of the string.\n",
    "-  If we give index value out of this range then we get an IndexError.\n",
    "-  The index must be an integer (positive, zero or negative)."
   ]
  },
  {
   "cell_type": "code",
   "execution_count": 6,
   "id": "385f6877-bd09-4e71-b091-fc21822dcc8b",
   "metadata": {},
   "outputs": [],
   "source": [
    "# initializes a string str1\n",
    "str1 = \"Hello World!\""
   ]
  },
  {
   "cell_type": "code",
   "execution_count": 7,
   "id": "fabcc25c-2482-406e-933c-4b2a4f674e74",
   "metadata": {},
   "outputs": [
    {
     "data": {
      "text/plain": [
       "'Hello World!'"
      ]
     },
     "execution_count": 7,
     "metadata": {},
     "output_type": "execute_result"
    }
   ],
   "source": [
    "str1"
   ]
  },
  {
   "cell_type": "code",
   "execution_count": 8,
   "id": "4f288498-a01f-43c1-aac4-330f70cf28f8",
   "metadata": {},
   "outputs": [
    {
     "data": {
      "text/plain": [
       "'H'"
      ]
     },
     "execution_count": 8,
     "metadata": {},
     "output_type": "execute_result"
    }
   ],
   "source": [
    "# gives the first character of str1\n",
    "str1[0]"
   ]
  },
  {
   "cell_type": "code",
   "execution_count": 9,
   "id": "adf3ee17-706e-4b8d-bdba-294d141346ce",
   "metadata": {},
   "outputs": [
    {
     "data": {
      "text/plain": [
       "'W'"
      ]
     },
     "execution_count": 9,
     "metadata": {},
     "output_type": "execute_result"
    }
   ],
   "source": [
    "# gives seventh character of str1\n",
    "str1[6]"
   ]
  },
  {
   "cell_type": "code",
   "execution_count": 10,
   "id": "f8a32f40-cf7e-4e62-98a2-8d4ad77b43c4",
   "metadata": {},
   "outputs": [
    {
     "data": {
      "text/plain": [
       "'!'"
      ]
     },
     "execution_count": 10,
     "metadata": {},
     "output_type": "execute_result"
    }
   ],
   "source": [
    "# gives last character of str1\n",
    "str1[11]"
   ]
  },
  {
   "cell_type": "code",
   "execution_count": 11,
   "id": "20cef40c-799d-451f-b303-451c4b68a213",
   "metadata": {},
   "outputs": [
    {
     "ename": "IndexError",
     "evalue": "string index out of range",
     "output_type": "error",
     "traceback": [
      "\u001b[1;31m---------------------------------------------------------------------------\u001b[0m",
      "\u001b[1;31mIndexError\u001b[0m                                Traceback (most recent call last)",
      "Cell \u001b[1;32mIn[11], line 2\u001b[0m\n\u001b[0;32m      1\u001b[0m \u001b[38;5;66;03m# gives error as index is out of range\u001b[39;00m\n\u001b[1;32m----> 2\u001b[0m \u001b[43mstr1\u001b[49m\u001b[43m[\u001b[49m\u001b[38;5;241;43m15\u001b[39;49m\u001b[43m]\u001b[49m\n",
      "\u001b[1;31mIndexError\u001b[0m: string index out of range"
     ]
    }
   ],
   "source": [
    "# gives error as index is out of range\n",
    "str1[15]"
   ]
  },
  {
   "cell_type": "markdown",
   "id": "4bf203fa-491d-4b45-8da8-4dea9c0e17f4",
   "metadata": {},
   "source": [
    "- The index can also be an expression including variables and operators but the expression must evaluate to an integer."
   ]
  },
  {
   "cell_type": "code",
   "execution_count": null,
   "id": "901d1ca5-7802-4368-90d9-b891f213e58a",
   "metadata": {},
   "outputs": [],
   "source": [
    "str1[2+4]"
   ]
  },
  {
   "cell_type": "code",
   "execution_count": 12,
   "id": "b420c3b1-93fc-40e8-8c74-17f5840e299f",
   "metadata": {},
   "outputs": [
    {
     "ename": "TypeError",
     "evalue": "string indices must be integers, not 'float'",
     "output_type": "error",
     "traceback": [
      "\u001b[1;31m---------------------------------------------------------------------------\u001b[0m",
      "\u001b[1;31mTypeError\u001b[0m                                 Traceback (most recent call last)",
      "Cell \u001b[1;32mIn[12], line 2\u001b[0m\n\u001b[0;32m      1\u001b[0m \u001b[38;5;66;03m# gives error as index must be an integer\u001b[39;00m\n\u001b[1;32m----> 2\u001b[0m \u001b[43mstr1\u001b[49m\u001b[43m[\u001b[49m\u001b[38;5;241;43m1.5\u001b[39;49m\u001b[43m]\u001b[49m\n",
      "\u001b[1;31mTypeError\u001b[0m: string indices must be integers, not 'float'"
     ]
    }
   ],
   "source": [
    "# gives error as index must be an integer\n",
    "str1[1.5]"
   ]
  },
  {
   "cell_type": "markdown",
   "id": "f0b1cc91-d84f-4224-b640-6d69ed23d931",
   "metadata": {},
   "source": [
    "- Python allows an index value to be negative also.\n",
    "- Negative indices are used when we want to access the characters of the string from right to left.\n",
    "- Starting from right hand side, the first character has the index as -1 and the last character has the index –n where n is the length of the string. "
   ]
  },
  {
   "cell_type": "code",
   "execution_count": 13,
   "id": "2b268e66-b9d0-4477-a3c4-6a06f00b8edd",
   "metadata": {},
   "outputs": [
    {
     "data": {
      "text/plain": [
       "'!'"
      ]
     },
     "execution_count": 13,
     "metadata": {},
     "output_type": "execute_result"
    }
   ],
   "source": [
    "str1[-1]"
   ]
  },
  {
   "cell_type": "code",
   "execution_count": 14,
   "id": "acf58223-a556-48f2-a7b5-17db5e43a4c5",
   "metadata": {},
   "outputs": [
    {
     "data": {
      "text/plain": [
       "'H'"
      ]
     },
     "execution_count": 14,
     "metadata": {},
     "output_type": "execute_result"
    }
   ],
   "source": [
    "str1[-12]"
   ]
  },
  {
   "cell_type": "markdown",
   "id": "2e44905e-145e-4dd9-9345-8fc4dd80935b",
   "metadata": {},
   "source": [
    "![String Indexing](Indexing.png)"
   ]
  },
  {
   "cell_type": "markdown",
   "id": "7b81cca4-6bae-42da-a01c-169d6283184e",
   "metadata": {},
   "source": [
    "- An inbuilt function len() in Python returns the length of the string that is passed as parameter. "
   ]
  },
  {
   "cell_type": "code",
   "execution_count": 15,
   "id": "99431bf0-4686-4b73-a937-644e67b0eba4",
   "metadata": {},
   "outputs": [],
   "source": [
    "str1 = \"Hello World!\""
   ]
  },
  {
   "cell_type": "code",
   "execution_count": 16,
   "id": "a8c1faa5-0792-4ac9-bdb4-3eba919baf7d",
   "metadata": {},
   "outputs": [
    {
     "data": {
      "text/plain": [
       "12"
      ]
     },
     "execution_count": 16,
     "metadata": {},
     "output_type": "execute_result"
    }
   ],
   "source": [
    "# gives the length of the string str1\n",
    "len(str1)"
   ]
  },
  {
   "cell_type": "code",
   "execution_count": 17,
   "id": "3d8d3319-00a7-4e5c-a3fa-b3edde8fb0de",
   "metadata": {},
   "outputs": [],
   "source": [
    "# length of the string is assigned to n\n",
    "n = len(str1)"
   ]
  },
  {
   "cell_type": "code",
   "execution_count": 18,
   "id": "80617dfd-a3b9-4b33-b651-5e3ed251e53d",
   "metadata": {},
   "outputs": [
    {
     "data": {
      "text/plain": [
       "'!'"
      ]
     },
     "execution_count": 18,
     "metadata": {},
     "output_type": "execute_result"
    }
   ],
   "source": [
    "# gives the last character of the string\n",
    "str1[n-1]"
   ]
  },
  {
   "cell_type": "code",
   "execution_count": 19,
   "id": "6034fe48-9606-4b53-b3f1-32727545772e",
   "metadata": {},
   "outputs": [
    {
     "data": {
      "text/plain": [
       "'H'"
      ]
     },
     "execution_count": 19,
     "metadata": {},
     "output_type": "execute_result"
    }
   ],
   "source": [
    "#gives the first character of the string\n",
    "str1[-n]"
   ]
  },
  {
   "cell_type": "code",
   "execution_count": null,
   "id": "7159e53c-0399-481f-85dd-5939c8134ddb",
   "metadata": {},
   "outputs": [],
   "source": []
  },
  {
   "cell_type": "code",
   "execution_count": null,
   "id": "c1466357-3307-4174-9092-770883981fda",
   "metadata": {},
   "outputs": [],
   "source": []
  },
  {
   "cell_type": "markdown",
   "id": "3570b331-c363-4461-bd14-2f0b091264d8",
   "metadata": {},
   "source": [
    "##  String is Immutable"
   ]
  },
  {
   "cell_type": "markdown",
   "id": "1c8a08cd-ef49-4dc8-9d6b-bf69941d3014",
   "metadata": {},
   "source": [
    "- A string is an immutable data type.\n",
    "- It means that the contents of the string cannot be changed after it has been created.\n",
    "- An attempt to do this would lead to an error."
   ]
  },
  {
   "cell_type": "code",
   "execution_count": 20,
   "id": "16932158-9c4d-4749-b86b-086ce10912e2",
   "metadata": {},
   "outputs": [],
   "source": [
    "str1 = \"Kurshed Khan\""
   ]
  },
  {
   "cell_type": "code",
   "execution_count": 22,
   "id": "22412c35-caf5-49f5-933a-b7d8245f1f9f",
   "metadata": {},
   "outputs": [
    {
     "ename": "TypeError",
     "evalue": "'str' object does not support item assignment",
     "output_type": "error",
     "traceback": [
      "\u001b[1;31m---------------------------------------------------------------------------\u001b[0m",
      "\u001b[1;31mTypeError\u001b[0m                                 Traceback (most recent call last)",
      "Cell \u001b[1;32mIn[22], line 1\u001b[0m\n\u001b[1;32m----> 1\u001b[0m \u001b[43mstr1\u001b[49m\u001b[43m[\u001b[49m\u001b[38;5;241;43m1\u001b[39;49m\u001b[43m]\u001b[49m \u001b[38;5;241m=\u001b[39m \u001b[38;5;124m\"\u001b[39m\u001b[38;5;124mh\u001b[39m\u001b[38;5;124m\"\u001b[39m\n",
      "\u001b[1;31mTypeError\u001b[0m: 'str' object does not support item assignment"
     ]
    }
   ],
   "source": [
    "str1[1] = \"h\""
   ]
  },
  {
   "cell_type": "code",
   "execution_count": null,
   "id": "85d12cb6-6c00-416f-b01d-6cf6012f12a7",
   "metadata": {},
   "outputs": [],
   "source": []
  },
  {
   "cell_type": "code",
   "execution_count": null,
   "id": "d28479ae-3308-468c-923a-61ce3c2dbe6f",
   "metadata": {},
   "outputs": [],
   "source": []
  },
  {
   "cell_type": "markdown",
   "id": "2468a65e-2296-45dc-b04e-00d7a9c4060e",
   "metadata": {},
   "source": [
    "## String Operations"
   ]
  },
  {
   "cell_type": "markdown",
   "id": "6031b030-96f0-4b25-bb11-2e944344d54d",
   "metadata": {},
   "source": [
    "- String is a sequence of characters.\n",
    "- Python allows certain operations on string data type, such as `concatenation`, `repetition`, `membership` and `slicing`.\n"
   ]
  },
  {
   "cell_type": "markdown",
   "id": "b9a0ba8a-d60e-498b-8142-fb4023c8a232",
   "metadata": {},
   "source": [
    "### 1. Concatenation \n",
    "- To concatenate means to join.\n",
    "- Python allows us to join two strings using concatenation operator plus which is denoted by symbol +."
   ]
  },
  {
   "cell_type": "code",
   "execution_count": 25,
   "id": "fad64c48-fe5a-45e6-9976-8dad7c0a1765",
   "metadata": {},
   "outputs": [
    {
     "data": {
      "text/plain": [
       "'HelloWorld!'"
      ]
     },
     "execution_count": 25,
     "metadata": {},
     "output_type": "execute_result"
    }
   ],
   "source": [
    "str1 = \"Hello\"\n",
    "str2 = \"World!\"\n",
    "str1 + str2 #Concatenated strings"
   ]
  },
  {
   "cell_type": "code",
   "execution_count": 26,
   "id": "b1b19f4d-9748-49a4-94cb-569707169d9e",
   "metadata": {},
   "outputs": [
    {
     "data": {
      "text/plain": [
       "'Hello'"
      ]
     },
     "execution_count": 26,
     "metadata": {},
     "output_type": "execute_result"
    }
   ],
   "source": [
    "str1"
   ]
  },
  {
   "cell_type": "code",
   "execution_count": 27,
   "id": "b722d8fd-1d15-4960-a88f-872db258b5c3",
   "metadata": {},
   "outputs": [
    {
     "data": {
      "text/plain": [
       "'World!'"
      ]
     },
     "execution_count": 27,
     "metadata": {},
     "output_type": "execute_result"
    }
   ],
   "source": [
    "str2"
   ]
  },
  {
   "cell_type": "code",
   "execution_count": null,
   "id": "035b2fab-9de5-4219-a190-b37f65e6659a",
   "metadata": {},
   "outputs": [],
   "source": []
  },
  {
   "cell_type": "markdown",
   "id": "53820802-b517-4245-964f-f16e112c9f58",
   "metadata": {},
   "source": [
    "### 2. Repetition"
   ]
  },
  {
   "cell_type": "markdown",
   "id": "399e2a89-61d3-43f2-ba27-129fe86dd205",
   "metadata": {},
   "source": [
    "- Python allows us to repeat the given string using repetition operator which is denoted by symbol *."
   ]
  },
  {
   "cell_type": "code",
   "execution_count": 28,
   "id": "11efd39a-e1b8-4b33-9045-21d8293fdf95",
   "metadata": {},
   "outputs": [],
   "source": [
    "#assign string 'Hello' to str1\n",
    "str1 = \"Hello\""
   ]
  },
  {
   "cell_type": "code",
   "execution_count": 29,
   "id": "b7fb5377-aa06-42f2-95af-f7733689109b",
   "metadata": {},
   "outputs": [
    {
     "data": {
      "text/plain": [
       "'Hello'"
      ]
     },
     "execution_count": 29,
     "metadata": {},
     "output_type": "execute_result"
    }
   ],
   "source": [
    "str1"
   ]
  },
  {
   "cell_type": "code",
   "execution_count": 30,
   "id": "5817f65f-b8b5-4aed-a94b-fab95fe15fad",
   "metadata": {},
   "outputs": [
    {
     "data": {
      "text/plain": [
       "'HelloHello'"
      ]
     },
     "execution_count": 30,
     "metadata": {},
     "output_type": "execute_result"
    }
   ],
   "source": [
    "#repeat the value of str1 2 times\n",
    "str1*2"
   ]
  },
  {
   "cell_type": "code",
   "execution_count": 31,
   "id": "acac6a0f-a9ec-4a1e-ad56-f6f0c3fffbe8",
   "metadata": {},
   "outputs": [
    {
     "data": {
      "text/plain": [
       "'HelloHelloHelloHelloHello'"
      ]
     },
     "execution_count": 31,
     "metadata": {},
     "output_type": "execute_result"
    }
   ],
   "source": [
    "#repeat the value of str1 5 times\n",
    "str1*5"
   ]
  },
  {
   "cell_type": "code",
   "execution_count": 32,
   "id": "5f0be7ef-e110-4c10-8ef8-db2ce6d6fec5",
   "metadata": {},
   "outputs": [
    {
     "data": {
      "text/plain": [
       "'Hello'"
      ]
     },
     "execution_count": 32,
     "metadata": {},
     "output_type": "execute_result"
    }
   ],
   "source": [
    "str1"
   ]
  },
  {
   "cell_type": "code",
   "execution_count": null,
   "id": "63a2fd1d-6376-488c-ab41-2e9f24137171",
   "metadata": {},
   "outputs": [],
   "source": []
  },
  {
   "cell_type": "code",
   "execution_count": null,
   "id": "c611d129-0ed1-456a-8594-0bf672928126",
   "metadata": {},
   "outputs": [],
   "source": []
  },
  {
   "cell_type": "markdown",
   "id": "e8813680-e27b-4d27-a248-d51e84316db2",
   "metadata": {},
   "source": [
    "### 3. Membership"
   ]
  },
  {
   "cell_type": "markdown",
   "id": "96d64af4-dfed-4277-b8b4-a1b1992dc84c",
   "metadata": {},
   "source": [
    "- Python has two membership operators 'in' and 'not in'.\n",
    "- The 'in' operator takes two strings and returns True if the first string appears as a substring in the second string, otherwise it returns False."
   ]
  },
  {
   "cell_type": "code",
   "execution_count": 1,
   "id": "ad86acc9-9fc4-414a-8dfa-d279bfcd4497",
   "metadata": {},
   "outputs": [],
   "source": [
    "str1 = \"Hello World!\""
   ]
  },
  {
   "cell_type": "code",
   "execution_count": 2,
   "id": "67df30eb-650a-4c9e-9f0a-02df186de601",
   "metadata": {},
   "outputs": [
    {
     "data": {
      "text/plain": [
       "True"
      ]
     },
     "execution_count": 2,
     "metadata": {},
     "output_type": "execute_result"
    }
   ],
   "source": [
    "\"W\" in str1"
   ]
  },
  {
   "cell_type": "code",
   "execution_count": 3,
   "id": "485b1d91-7209-443c-bb96-d112f4e01a4c",
   "metadata": {},
   "outputs": [
    {
     "data": {
      "text/plain": [
       "True"
      ]
     },
     "execution_count": 3,
     "metadata": {},
     "output_type": "execute_result"
    }
   ],
   "source": [
    "\"Wor\" in str1"
   ]
  },
  {
   "cell_type": "code",
   "execution_count": 4,
   "id": "c0b1a999-6d3d-491e-b96c-008bee7b2523",
   "metadata": {},
   "outputs": [
    {
     "data": {
      "text/plain": [
       "False"
      ]
     },
     "execution_count": 4,
     "metadata": {},
     "output_type": "execute_result"
    }
   ],
   "source": [
    "\"My\" in str1"
   ]
  },
  {
   "cell_type": "markdown",
   "id": "f1824e8c-a2c4-47ab-91ea-444dbfd2a3ba",
   "metadata": {},
   "source": [
    "- The 'not in' operator also takes two strings and returns True if the first string does not appear as a substring in the second string, otherwise returns False."
   ]
  },
  {
   "cell_type": "code",
   "execution_count": 5,
   "id": "70976770-fea9-4f92-9fbb-cdc66fbcdfb9",
   "metadata": {},
   "outputs": [],
   "source": [
    "str1 = \"Hello World!\""
   ]
  },
  {
   "cell_type": "code",
   "execution_count": 6,
   "id": "d97b4da1-c338-4f31-ba2c-69efa21ca456",
   "metadata": {},
   "outputs": [
    {
     "data": {
      "text/plain": [
       "True"
      ]
     },
     "execution_count": 6,
     "metadata": {},
     "output_type": "execute_result"
    }
   ],
   "source": [
    "\"My\" not in str1"
   ]
  },
  {
   "cell_type": "code",
   "execution_count": 7,
   "id": "590c785d-def8-4ca4-880b-709d4a66f2d1",
   "metadata": {},
   "outputs": [
    {
     "data": {
      "text/plain": [
       "False"
      ]
     },
     "execution_count": 7,
     "metadata": {},
     "output_type": "execute_result"
    }
   ],
   "source": [
    "\"Hello\" not in str1"
   ]
  },
  {
   "cell_type": "code",
   "execution_count": null,
   "id": "bbd00405-f549-4a99-ac64-ff8975a8c8d0",
   "metadata": {},
   "outputs": [],
   "source": []
  },
  {
   "cell_type": "code",
   "execution_count": null,
   "id": "492d154f-824f-4f7e-a37e-5f2d2ace8028",
   "metadata": {},
   "outputs": [],
   "source": []
  },
  {
   "cell_type": "markdown",
   "id": "76409eda-8d90-4fa4-a02d-eb77dca7dc0d",
   "metadata": {},
   "source": [
    "### 4. Slicing"
   ]
  },
  {
   "cell_type": "markdown",
   "id": "523fc5aa-54e6-4550-ae10-af26993208dd",
   "metadata": {},
   "source": [
    "- To access some part of a string or substring, we use a method called slicing.\n",
    "- This can be done by specifying an index range.\n",
    "- Given a string str1, the slice operation str1[n:m] returns the part of the string str1 starting from index n (inclusive) and ending at m (exclusive).\n",
    "- In other words, we can say that str1[n:m] returns all the characters starting from str1[n] till str1[m-1].\n",
    "- The numbers of characters in the substring will always be equal to difference of two indices m and n, i.e., (m-n)."
   ]
  },
  {
   "cell_type": "code",
   "execution_count": 8,
   "id": "8e0a159c-2cbf-4df6-ae83-c710a984ad44",
   "metadata": {},
   "outputs": [],
   "source": [
    "str1 = \"Hello World!\""
   ]
  },
  {
   "cell_type": "code",
   "execution_count": 9,
   "id": "a3f0b42e-4c39-4663-90b7-a43bfcfd96dc",
   "metadata": {},
   "outputs": [
    {
     "data": {
      "text/plain": [
       "'ello'"
      ]
     },
     "execution_count": 9,
     "metadata": {},
     "output_type": "execute_result"
    }
   ],
   "source": [
    "# gives substring starting from index 1 to 4\n",
    "str1[1:5]"
   ]
  },
  {
   "cell_type": "code",
   "execution_count": 10,
   "id": "f2bf2ac5-f485-441e-8da9-8b6c4e193ab0",
   "metadata": {},
   "outputs": [
    {
     "data": {
      "text/plain": [
       "'orl'"
      ]
     },
     "execution_count": 10,
     "metadata": {},
     "output_type": "execute_result"
    }
   ],
   "source": [
    "# gives substring starting from 7 to 9\n",
    "str1[7:10]"
   ]
  },
  {
   "cell_type": "code",
   "execution_count": 11,
   "id": "0900f0d1-ade9-4453-9c8c-6fa994fa0bdf",
   "metadata": {},
   "outputs": [
    {
     "data": {
      "text/plain": [
       "'lo World!'"
      ]
     },
     "execution_count": 11,
     "metadata": {},
     "output_type": "execute_result"
    }
   ],
   "source": [
    "str1[3:20]"
   ]
  },
  {
   "cell_type": "code",
   "execution_count": 12,
   "id": "19d2275c-5ffe-4653-a1a8-9826eb82877c",
   "metadata": {},
   "outputs": [],
   "source": [
    "# first index > second index results in an empty ' ' string"
   ]
  },
  {
   "cell_type": "code",
   "execution_count": 13,
   "id": "e5da9f80-c849-441b-bef2-0d93bc306788",
   "metadata": {},
   "outputs": [
    {
     "data": {
      "text/plain": [
       "''"
      ]
     },
     "execution_count": 13,
     "metadata": {},
     "output_type": "execute_result"
    }
   ],
   "source": [
    "str1[7:2]"
   ]
  },
  {
   "cell_type": "code",
   "execution_count": 14,
   "id": "72ced9bf-a4bb-4a37-af95-1f2268abdd58",
   "metadata": {},
   "outputs": [
    {
     "data": {
      "text/plain": [
       "'Hello'"
      ]
     },
     "execution_count": 14,
     "metadata": {},
     "output_type": "execute_result"
    }
   ],
   "source": [
    "# If the first index is not mentioned, the slice starts from index. \n",
    "str1[:5]"
   ]
  },
  {
   "cell_type": "code",
   "execution_count": 15,
   "id": "cbab3ca6-2eb5-472d-ab54-756097dccc6e",
   "metadata": {},
   "outputs": [
    {
     "data": {
      "text/plain": [
       "'World!'"
      ]
     },
     "execution_count": 15,
     "metadata": {},
     "output_type": "execute_result"
    }
   ],
   "source": [
    "#If the second index is not mentioned, the slicing is \n",
    "#done till the length of the string.\n",
    "str1[6:]"
   ]
  },
  {
   "cell_type": "markdown",
   "id": "fccb047d-ecd2-4d2c-a2bc-2b2c6175ff11",
   "metadata": {},
   "source": [
    "- The slice operation can also take a third index that specifies the ‘step size’.\n",
    "- For example, str1[n:m:k], means every kth character has to be extracted from the string str1 starting from n and ending at m-1.\n",
    "- By default, the step size is one."
   ]
  },
  {
   "cell_type": "code",
   "execution_count": 16,
   "id": "af61f134-97d8-4045-8c35-44cd19e98f09",
   "metadata": {},
   "outputs": [],
   "source": [
    "str1 = \"Hello World!\""
   ]
  },
  {
   "cell_type": "code",
   "execution_count": 17,
   "id": "103eaaae-60d7-4855-9126-ca6e4da3dd6a",
   "metadata": {},
   "outputs": [
    {
     "data": {
      "text/plain": [
       "'HloWr'"
      ]
     },
     "execution_count": 17,
     "metadata": {},
     "output_type": "execute_result"
    }
   ],
   "source": [
    "str1[0:10:2]"
   ]
  },
  {
   "cell_type": "code",
   "execution_count": 18,
   "id": "10ce844a-f958-4f66-90f1-b081376293ea",
   "metadata": {},
   "outputs": [
    {
     "data": {
      "text/plain": [
       "'HlWl'"
      ]
     },
     "execution_count": 18,
     "metadata": {},
     "output_type": "execute_result"
    }
   ],
   "source": [
    "str1[0:10:3]"
   ]
  },
  {
   "cell_type": "markdown",
   "id": "27d9a087-beb3-4b44-8b5b-2b8a04eec025",
   "metadata": {},
   "source": [
    "- Negative indexes can also be used for slicing."
   ]
  },
  {
   "cell_type": "code",
   "execution_count": null,
   "id": "d4363707-d0e9-460a-afe7-9c9e93b35651",
   "metadata": {},
   "outputs": [],
   "source": [
    "#characters at index -6,-5,-4,-3 and -2 are sliced"
   ]
  },
  {
   "cell_type": "code",
   "execution_count": 19,
   "id": "cfb5e75c-0b2f-4bb3-b02c-569a954fa16a",
   "metadata": {},
   "outputs": [
    {
     "data": {
      "text/plain": [
       "'World'"
      ]
     },
     "execution_count": 19,
     "metadata": {},
     "output_type": "execute_result"
    }
   ],
   "source": [
    "str1[-6:-1]"
   ]
  },
  {
   "cell_type": "markdown",
   "id": "6c5116c9-99dc-4b1c-872c-cfaf39d8581f",
   "metadata": {},
   "source": [
    "- If we ignore both the indexes and give step size as -1"
   ]
  },
  {
   "cell_type": "code",
   "execution_count": 20,
   "id": "cc16b988-e1f2-4c4f-a501-5b765776d451",
   "metadata": {},
   "outputs": [
    {
     "data": {
      "text/plain": [
       "'!dlroW olleH'"
      ]
     },
     "execution_count": 20,
     "metadata": {},
     "output_type": "execute_result"
    }
   ],
   "source": [
    "str1[::-1]"
   ]
  },
  {
   "cell_type": "markdown",
   "id": "a15aee45-68bb-45ce-8264-bd61f221fa7a",
   "metadata": {},
   "source": [
    "#### Note : #str1 string is obtained in the reverse order"
   ]
  },
  {
   "cell_type": "code",
   "execution_count": null,
   "id": "7f911852-c7d9-4f01-a8f1-ad898866bc93",
   "metadata": {},
   "outputs": [],
   "source": []
  },
  {
   "cell_type": "code",
   "execution_count": null,
   "id": "cdae57dc-6703-4c4e-8bd0-fe4d35052c19",
   "metadata": {},
   "outputs": [],
   "source": []
  },
  {
   "cell_type": "markdown",
   "id": "7ec1b040-30c3-44cc-bb4d-24486b4b6e48",
   "metadata": {},
   "source": [
    "#  Traversing a String"
   ]
  },
  {
   "cell_type": "markdown",
   "id": "e1006493-ee0d-4130-b36d-64109720beb3",
   "metadata": {},
   "source": [
    "- We can access each character of a string or traverse a string using for loop and while loop."
   ]
  },
  {
   "cell_type": "code",
   "execution_count": 22,
   "id": "047a02e4-22a7-4b73-9e0b-c746ce47d09f",
   "metadata": {},
   "outputs": [
    {
     "name": "stdout",
     "output_type": "stream",
     "text": [
      "Hello World!"
     ]
    }
   ],
   "source": [
    "# String Traversal using for loop:\n",
    "str1 = \"Hello World!\"\n",
    "for ch in str1:\n",
    "    print(ch,end=\"\")"
   ]
  },
  {
   "cell_type": "code",
   "execution_count": 23,
   "id": "1bb8acab-03bc-4355-90b1-8a6d7cf4b118",
   "metadata": {},
   "outputs": [
    {
     "name": "stdout",
     "output_type": "stream",
     "text": [
      "Hello World!"
     ]
    }
   ],
   "source": [
    "# string Traversal using while loop:\n",
    "str1 = 'Hello World!'\n",
    "index = 0\n",
    "# len() : a function to get length of string\n",
    "while index < len(str1) :\n",
    "    print(str1[index],end=\"\")\n",
    "    index+=1"
   ]
  },
  {
   "cell_type": "code",
   "execution_count": null,
   "id": "34739180-6861-4dda-9d8c-c9584c886597",
   "metadata": {},
   "outputs": [],
   "source": []
  },
  {
   "cell_type": "code",
   "execution_count": null,
   "id": "3b26d354-a4d7-4bc7-836c-919245efa388",
   "metadata": {},
   "outputs": [],
   "source": []
  },
  {
   "cell_type": "markdown",
   "id": "7518f07a-871f-4033-a3fc-58a75a534ec8",
   "metadata": {},
   "source": [
    "# String Methods and Built-in Functions"
   ]
  },
  {
   "cell_type": "markdown",
   "id": "5f94435e-06b7-49a6-8cf7-cabdb02787f8",
   "metadata": {},
   "source": [
    "## 1. `len()` :\n",
    "- Returns the length of the given string"
   ]
  },
  {
   "cell_type": "code",
   "execution_count": 27,
   "id": "1496ecf2-b8e4-46f3-88de-da805296ee7f",
   "metadata": {},
   "outputs": [],
   "source": [
    "str1 = \"Hello World!\""
   ]
  },
  {
   "cell_type": "code",
   "execution_count": 28,
   "id": "c37700c9-c088-4f6a-93b8-3d215c09f84e",
   "metadata": {},
   "outputs": [
    {
     "data": {
      "text/plain": [
       "12"
      ]
     },
     "execution_count": 28,
     "metadata": {},
     "output_type": "execute_result"
    }
   ],
   "source": [
    "len(str1)"
   ]
  },
  {
   "cell_type": "code",
   "execution_count": 29,
   "id": "e326eec7-b8e7-4c73-9e1e-d291dfc95464",
   "metadata": {},
   "outputs": [
    {
     "data": {
      "text/plain": [
       "'Hello World!'"
      ]
     },
     "execution_count": 29,
     "metadata": {},
     "output_type": "execute_result"
    }
   ],
   "source": [
    "str1"
   ]
  },
  {
   "cell_type": "code",
   "execution_count": null,
   "id": "c45f9953-0d2e-4e75-b814-b28494840043",
   "metadata": {},
   "outputs": [],
   "source": []
  },
  {
   "cell_type": "markdown",
   "id": "478e6404-f1de-4f8a-91f3-9b45c4ce1d24",
   "metadata": {},
   "source": [
    "## 2. `title()` :\n",
    "- Returns the string with first letter of every word in the string in uppercase and rest in lowercase."
   ]
  },
  {
   "cell_type": "code",
   "execution_count": 30,
   "id": "66c652ae-e1d2-41c9-b002-ac426068c450",
   "metadata": {},
   "outputs": [],
   "source": [
    "str1 = 'hello WORLD'"
   ]
  },
  {
   "cell_type": "code",
   "execution_count": 31,
   "id": "f2cb4344-da34-4c7d-acbc-39fd3a69abbf",
   "metadata": {},
   "outputs": [
    {
     "data": {
      "text/plain": [
       "'Hello World'"
      ]
     },
     "execution_count": 31,
     "metadata": {},
     "output_type": "execute_result"
    }
   ],
   "source": [
    "str1.title()"
   ]
  },
  {
   "cell_type": "code",
   "execution_count": null,
   "id": "f55c3c15-0496-4350-aa31-01bf65c4744c",
   "metadata": {},
   "outputs": [],
   "source": []
  },
  {
   "cell_type": "markdown",
   "id": "ec450cb2-ea7d-4cf0-9457-4f7d810816a0",
   "metadata": {},
   "source": [
    "## 3. `lower()` :\n",
    "- Returns the string with all uppercase letters converted to lowercase."
   ]
  },
  {
   "cell_type": "code",
   "execution_count": 32,
   "id": "d5869687-e2ea-47ef-8368-d5aa80a9a3dc",
   "metadata": {},
   "outputs": [],
   "source": [
    "str1 = 'hello WORLD'"
   ]
  },
  {
   "cell_type": "code",
   "execution_count": 33,
   "id": "ef9e521f-3c5d-4387-890a-6eba2fddd3e3",
   "metadata": {},
   "outputs": [
    {
     "data": {
      "text/plain": [
       "'hello world'"
      ]
     },
     "execution_count": 33,
     "metadata": {},
     "output_type": "execute_result"
    }
   ],
   "source": [
    "str1.lower()"
   ]
  },
  {
   "cell_type": "code",
   "execution_count": null,
   "id": "fa4f23a5-2fb7-4d99-b1ea-d532d31842d4",
   "metadata": {},
   "outputs": [],
   "source": []
  },
  {
   "cell_type": "markdown",
   "id": "6053bdd7-687a-4b97-a180-25e4629a7e96",
   "metadata": {},
   "source": [
    "## 4. `upper()` : \n",
    "- Returns the string with all lowercase letters converted to uppercase."
   ]
  },
  {
   "cell_type": "code",
   "execution_count": 34,
   "id": "1c375922-199a-428a-8bb5-ea796f0715ca",
   "metadata": {},
   "outputs": [],
   "source": [
    "str1 = 'hello WORLD'"
   ]
  },
  {
   "cell_type": "code",
   "execution_count": 35,
   "id": "b46963c6-1dab-4210-aebb-4f410a79d00e",
   "metadata": {},
   "outputs": [
    {
     "data": {
      "text/plain": [
       "'HELLO WORLD'"
      ]
     },
     "execution_count": 35,
     "metadata": {},
     "output_type": "execute_result"
    }
   ],
   "source": [
    "str1.upper()"
   ]
  },
  {
   "cell_type": "code",
   "execution_count": null,
   "id": "75344b19-385d-40c9-9d54-89e648b32893",
   "metadata": {},
   "outputs": [],
   "source": []
  },
  {
   "cell_type": "markdown",
   "id": "706d3026-3888-40fa-97f6-d9881ce575d2",
   "metadata": {},
   "source": [
    "## 5. `count(str,start,end)` :\n",
    "- Returns number of times substring str occurs in the given string.\n",
    "- If we do not give start index and end index then searching starts from index o and ends at length of the string."
   ]
  },
  {
   "cell_type": "code",
   "execution_count": 36,
   "id": "401e0af0-afb5-4e4e-a022-0cfa4ecf1915",
   "metadata": {},
   "outputs": [],
   "source": [
    "str1 = \"Hello World! Hello Hello\""
   ]
  },
  {
   "cell_type": "code",
   "execution_count": 37,
   "id": "84553841-44eb-4543-bc2c-e5957efc98fe",
   "metadata": {},
   "outputs": [
    {
     "data": {
      "text/plain": [
       "2"
      ]
     },
     "execution_count": 37,
     "metadata": {},
     "output_type": "execute_result"
    }
   ],
   "source": [
    "str1.count(\"Hello\",12,25)"
   ]
  },
  {
   "cell_type": "code",
   "execution_count": 38,
   "id": "04db928b-0a8b-4801-ab60-bc601c808a7a",
   "metadata": {},
   "outputs": [
    {
     "data": {
      "text/plain": [
       "3"
      ]
     },
     "execution_count": 38,
     "metadata": {},
     "output_type": "execute_result"
    }
   ],
   "source": [
    "str1.count(\"Hello\")"
   ]
  },
  {
   "cell_type": "code",
   "execution_count": null,
   "id": "f025f1d5-2f6f-4523-92ae-ee408fccf073",
   "metadata": {},
   "outputs": [],
   "source": []
  },
  {
   "cell_type": "markdown",
   "id": "87998735-9302-4560-bbf8-540cb1fcca32",
   "metadata": {},
   "source": [
    "## 6. `find(str,start,end)` :\n",
    "- Returns the first occurrence of index of substring str occurring in the given string.\n",
    "- If we do not give start and end then searching starts from index 0 and ends at length of the string.\n",
    "- If the substring is not present in the given string, then the function returns -1"
   ]
  },
  {
   "cell_type": "code",
   "execution_count": 1,
   "id": "0c455808-0d52-4c69-ad1b-3a95e71edbd8",
   "metadata": {},
   "outputs": [],
   "source": [
    "str1 = \"Hello World! Hello Hello\""
   ]
  },
  {
   "cell_type": "code",
   "execution_count": 2,
   "id": "ea036280-4419-4bcc-8079-42aed32f878f",
   "metadata": {},
   "outputs": [
    {
     "data": {
      "text/plain": [
       "13"
      ]
     },
     "execution_count": 2,
     "metadata": {},
     "output_type": "execute_result"
    }
   ],
   "source": [
    "str1.find(\"Hello\",10,20)"
   ]
  },
  {
   "cell_type": "code",
   "execution_count": 3,
   "id": "25dad6af-3441-4785-a960-3eb8bf8a07f8",
   "metadata": {},
   "outputs": [
    {
     "data": {
      "text/plain": [
       "19"
      ]
     },
     "execution_count": 3,
     "metadata": {},
     "output_type": "execute_result"
    }
   ],
   "source": [
    "str1.find(\"Hello\",15,25)"
   ]
  },
  {
   "cell_type": "code",
   "execution_count": 4,
   "id": "a81eef36-4dc4-42f6-b2b8-b607bf1bc3b6",
   "metadata": {},
   "outputs": [
    {
     "data": {
      "text/plain": [
       "0"
      ]
     },
     "execution_count": 4,
     "metadata": {},
     "output_type": "execute_result"
    }
   ],
   "source": [
    "str1.find(\"Hello\")"
   ]
  },
  {
   "cell_type": "code",
   "execution_count": 5,
   "id": "2e71f6a0-31f7-46b3-8da4-d6946a3ce0d4",
   "metadata": {},
   "outputs": [
    {
     "data": {
      "text/plain": [
       "-1"
      ]
     },
     "execution_count": 5,
     "metadata": {},
     "output_type": "execute_result"
    }
   ],
   "source": [
    "str1.find(\"Hee\")"
   ]
  },
  {
   "cell_type": "code",
   "execution_count": null,
   "id": "2b554326-0eae-4a3d-b8c6-9afedfb9edb7",
   "metadata": {},
   "outputs": [],
   "source": []
  },
  {
   "cell_type": "code",
   "execution_count": null,
   "id": "700b46eb-4e12-4e00-9d2c-c141aac94681",
   "metadata": {},
   "outputs": [],
   "source": []
  },
  {
   "cell_type": "markdown",
   "id": "0c940ade-df36-4f70-83da-b8198b3cc9fa",
   "metadata": {},
   "source": [
    "## 7. `index(str,start, end)` :"
   ]
  },
  {
   "cell_type": "markdown",
   "id": "fea95a6e-cfe3-4e5e-a49c-78fcd020a113",
   "metadata": {},
   "source": [
    "- Same as find() but raises an exception if the substring is not present in the given string."
   ]
  },
  {
   "cell_type": "code",
   "execution_count": 6,
   "id": "4baf0623-2e63-4888-9ab0-b36620e19392",
   "metadata": {},
   "outputs": [],
   "source": [
    "str1 = \"Hello World! Hello Hello\""
   ]
  },
  {
   "cell_type": "code",
   "execution_count": 7,
   "id": "866279f5-73c5-4760-bbd1-a94e4b6a5c43",
   "metadata": {},
   "outputs": [
    {
     "data": {
      "text/plain": [
       "'Hello World! Hello Hello'"
      ]
     },
     "execution_count": 7,
     "metadata": {},
     "output_type": "execute_result"
    }
   ],
   "source": [
    "str1"
   ]
  },
  {
   "cell_type": "code",
   "execution_count": 8,
   "id": "3dd2ba13-8729-401f-9f6d-94783f3bff9e",
   "metadata": {},
   "outputs": [
    {
     "data": {
      "text/plain": [
       "0"
      ]
     },
     "execution_count": 8,
     "metadata": {},
     "output_type": "execute_result"
    }
   ],
   "source": [
    "str1.index(\"Hello\")"
   ]
  },
  {
   "cell_type": "code",
   "execution_count": 11,
   "id": "a7ef98d2-d33f-4d7e-b2f6-d3048b49dc37",
   "metadata": {},
   "outputs": [
    {
     "ename": "ValueError",
     "evalue": "substring not found",
     "output_type": "error",
     "traceback": [
      "\u001b[1;31m---------------------------------------------------------------------------\u001b[0m",
      "\u001b[1;31mValueError\u001b[0m                                Traceback (most recent call last)",
      "Cell \u001b[1;32mIn[11], line 1\u001b[0m\n\u001b[1;32m----> 1\u001b[0m \u001b[43mstr1\u001b[49m\u001b[38;5;241;43m.\u001b[39;49m\u001b[43mindex\u001b[49m\u001b[43m(\u001b[49m\u001b[38;5;124;43m\"\u001b[39;49m\u001b[38;5;124;43mHee\u001b[39;49m\u001b[38;5;124;43m\"\u001b[39;49m\u001b[43m)\u001b[49m\n",
      "\u001b[1;31mValueError\u001b[0m: substring not found"
     ]
    }
   ],
   "source": [
    "str1.index(\"Hee\")"
   ]
  },
  {
   "cell_type": "code",
   "execution_count": null,
   "id": "d9bca5b5-8abc-4ba9-8d1b-d8a22e14c957",
   "metadata": {},
   "outputs": [],
   "source": []
  },
  {
   "cell_type": "code",
   "execution_count": null,
   "id": "aca7b4f3-0103-441b-9453-71df0082c076",
   "metadata": {},
   "outputs": [],
   "source": []
  },
  {
   "cell_type": "markdown",
   "id": "239560ef-2192-44dc-a1ca-16b7d59d98f5",
   "metadata": {},
   "source": [
    "## 8. `endswith()` :"
   ]
  },
  {
   "cell_type": "markdown",
   "id": "a6931955-85b0-4b8f-b1f9-0697ac534ea3",
   "metadata": {},
   "source": [
    "- Returns True if the given string ends with the supplied substring otherwise returns False"
   ]
  },
  {
   "cell_type": "code",
   "execution_count": 12,
   "id": "330914b6-5ffa-42b0-a8bb-26b2f6f3a913",
   "metadata": {},
   "outputs": [],
   "source": [
    "str1 = \"Hello World!\""
   ]
  },
  {
   "cell_type": "code",
   "execution_count": 14,
   "id": "a93f0c28-a3c6-4f88-8e60-227ae5bd7276",
   "metadata": {},
   "outputs": [
    {
     "data": {
      "text/plain": [
       "True"
      ]
     },
     "execution_count": 14,
     "metadata": {},
     "output_type": "execute_result"
    }
   ],
   "source": [
    "str1.endswith(\"World!\")"
   ]
  },
  {
   "cell_type": "code",
   "execution_count": 15,
   "id": "a882391b-5925-4f36-b80b-e5bff72a829f",
   "metadata": {},
   "outputs": [
    {
     "data": {
      "text/plain": [
       "True"
      ]
     },
     "execution_count": 15,
     "metadata": {},
     "output_type": "execute_result"
    }
   ],
   "source": [
    "str1.endswith(\"!\")"
   ]
  },
  {
   "cell_type": "code",
   "execution_count": 16,
   "id": "9fc6a2c5-79e8-4243-b30b-62291319837d",
   "metadata": {},
   "outputs": [
    {
     "data": {
      "text/plain": [
       "False"
      ]
     },
     "execution_count": 16,
     "metadata": {},
     "output_type": "execute_result"
    }
   ],
   "source": [
    "str1.endswith(\"lde\")"
   ]
  },
  {
   "cell_type": "code",
   "execution_count": null,
   "id": "3a836bca-4d50-4d56-b8f7-199c49c225f9",
   "metadata": {},
   "outputs": [],
   "source": []
  },
  {
   "cell_type": "code",
   "execution_count": null,
   "id": "2b92abaf-32c8-4608-9618-67a41bd89efe",
   "metadata": {},
   "outputs": [],
   "source": []
  },
  {
   "cell_type": "markdown",
   "id": "681b88ed-074e-47ee-ae67-11d8ecf5f1f6",
   "metadata": {},
   "source": [
    "## 9. `startswith()`:"
   ]
  },
  {
   "cell_type": "markdown",
   "id": "ba073add-edb0-46b6-a851-8334a4b0483a",
   "metadata": {},
   "source": [
    "- Returns True if the given string starts with the supplied substring otherwise returns False"
   ]
  },
  {
   "cell_type": "code",
   "execution_count": 1,
   "id": "6cdafaa0-b22d-44f8-84a2-0bd9ace94ddc",
   "metadata": {},
   "outputs": [],
   "source": [
    "str1 = \"Hello World!\""
   ]
  },
  {
   "cell_type": "code",
   "execution_count": 2,
   "id": "fe1aba33-b469-417f-8f2e-98922fce92aa",
   "metadata": {},
   "outputs": [
    {
     "data": {
      "text/plain": [
       "True"
      ]
     },
     "execution_count": 2,
     "metadata": {},
     "output_type": "execute_result"
    }
   ],
   "source": [
    "str1.startswith(\"He\")"
   ]
  },
  {
   "cell_type": "code",
   "execution_count": 3,
   "id": "7d7e6e08-da90-4c25-ae78-c684fddaa2e3",
   "metadata": {},
   "outputs": [
    {
     "data": {
      "text/plain": [
       "False"
      ]
     },
     "execution_count": 3,
     "metadata": {},
     "output_type": "execute_result"
    }
   ],
   "source": [
    "str1.startswith(\"Hee\")"
   ]
  },
  {
   "cell_type": "code",
   "execution_count": null,
   "id": "5f9ad50f-542b-4a36-aaa7-85d5cc6a917b",
   "metadata": {},
   "outputs": [],
   "source": []
  },
  {
   "cell_type": "code",
   "execution_count": null,
   "id": "518fdf55-2d00-4ec8-9149-c8fe819f96ad",
   "metadata": {},
   "outputs": [],
   "source": []
  },
  {
   "cell_type": "markdown",
   "id": "3ce95ee0-e63d-4883-b09b-93882e8db14a",
   "metadata": {},
   "source": [
    "## 10. `isalnum()` :"
   ]
  },
  {
   "cell_type": "markdown",
   "id": "c9216967-5be1-487e-96c9-999cd1924a62",
   "metadata": {},
   "source": [
    "- Returns True if characters of the given string are either alphabets or numeric.\n",
    "- If whitespace or special symbols are part of the given string or the string is empty it returns False"
   ]
  },
  {
   "cell_type": "code",
   "execution_count": 4,
   "id": "d1106c16-9cfe-43b1-a9e5-58f2a6d41467",
   "metadata": {},
   "outputs": [],
   "source": [
    "str1 = \"HelloWorld\""
   ]
  },
  {
   "cell_type": "code",
   "execution_count": 5,
   "id": "de14ac2d-44b8-411e-b83b-e2b0d02af2fe",
   "metadata": {},
   "outputs": [
    {
     "data": {
      "text/plain": [
       "True"
      ]
     },
     "execution_count": 5,
     "metadata": {},
     "output_type": "execute_result"
    }
   ],
   "source": [
    "str1.isalnum()"
   ]
  },
  {
   "cell_type": "code",
   "execution_count": 6,
   "id": "6b3bbd2c-8bb7-4197-95f8-5d922b7b37fc",
   "metadata": {},
   "outputs": [],
   "source": [
    "str1 = \"HelloWorld2\""
   ]
  },
  {
   "cell_type": "code",
   "execution_count": 7,
   "id": "c7477928-05fb-4855-93cd-c88a9616105d",
   "metadata": {},
   "outputs": [
    {
     "data": {
      "text/plain": [
       "True"
      ]
     },
     "execution_count": 7,
     "metadata": {},
     "output_type": "execute_result"
    }
   ],
   "source": [
    "str1.isalnum()"
   ]
  },
  {
   "cell_type": "code",
   "execution_count": 8,
   "id": "cfb8c973-e94b-4e2a-9da2-53350ec2b563",
   "metadata": {},
   "outputs": [],
   "source": [
    "str1 = \"HelloWorld!!\""
   ]
  },
  {
   "cell_type": "code",
   "execution_count": 9,
   "id": "4e367676-099c-47f8-9f1d-c4e2d592fd1c",
   "metadata": {},
   "outputs": [
    {
     "data": {
      "text/plain": [
       "False"
      ]
     },
     "execution_count": 9,
     "metadata": {},
     "output_type": "execute_result"
    }
   ],
   "source": [
    "str1.isalnum()"
   ]
  },
  {
   "cell_type": "code",
   "execution_count": null,
   "id": "2ec4b1fd-73d8-451a-aa7a-b6d37d5dd20d",
   "metadata": {},
   "outputs": [],
   "source": []
  },
  {
   "cell_type": "code",
   "execution_count": null,
   "id": "5b9e0320-0569-4c0d-9d44-aa6e3bce64c3",
   "metadata": {},
   "outputs": [],
   "source": []
  },
  {
   "cell_type": "markdown",
   "id": "685db304-8120-4f53-bd1b-07af725f8ffa",
   "metadata": {},
   "source": [
    "## 11. `islower()` :"
   ]
  },
  {
   "cell_type": "markdown",
   "id": "515f30d6-d0f9-4b6c-9a80-80801390adc4",
   "metadata": {},
   "source": [
    "- Returns True if the string is non-empty and has all lowercase alphabets."
   ]
  },
  {
   "cell_type": "code",
   "execution_count": 26,
   "id": "d29b80e7-c7f2-4bb8-b884-50faa97a883b",
   "metadata": {},
   "outputs": [],
   "source": [
    "str1 = \"Hello World!\""
   ]
  },
  {
   "cell_type": "code",
   "execution_count": 27,
   "id": "95503e44-9c0e-4550-8d91-3024a7095ef7",
   "metadata": {},
   "outputs": [
    {
     "data": {
      "text/plain": [
       "False"
      ]
     },
     "execution_count": 27,
     "metadata": {},
     "output_type": "execute_result"
    }
   ],
   "source": [
    "str1.islower()"
   ]
  },
  {
   "cell_type": "code",
   "execution_count": 28,
   "id": "f5f25689-c98e-479a-9e50-44a4c427dce1",
   "metadata": {},
   "outputs": [],
   "source": [
    "str1 = \"hello World!\""
   ]
  },
  {
   "cell_type": "code",
   "execution_count": 29,
   "id": "e7418ff1-1d67-404b-be67-ea8daf17c2aa",
   "metadata": {},
   "outputs": [
    {
     "data": {
      "text/plain": [
       "False"
      ]
     },
     "execution_count": 29,
     "metadata": {},
     "output_type": "execute_result"
    }
   ],
   "source": [
    "str1.islower()"
   ]
  },
  {
   "cell_type": "code",
   "execution_count": 30,
   "id": "584a6bff-0ae2-4dcf-b473-0b980a1de411",
   "metadata": {},
   "outputs": [],
   "source": [
    "str1 = \"hello world!\""
   ]
  },
  {
   "cell_type": "code",
   "execution_count": 31,
   "id": "c3099d07-3678-4c09-8e2c-2f1eb7ae015d",
   "metadata": {},
   "outputs": [
    {
     "data": {
      "text/plain": [
       "True"
      ]
     },
     "execution_count": 31,
     "metadata": {},
     "output_type": "execute_result"
    }
   ],
   "source": [
    "str1.islower()"
   ]
  },
  {
   "cell_type": "code",
   "execution_count": 32,
   "id": "2110b12a-377a-4082-9d95-dc79c68ad46a",
   "metadata": {},
   "outputs": [
    {
     "data": {
      "text/plain": [
       "False"
      ]
     },
     "execution_count": 32,
     "metadata": {},
     "output_type": "execute_result"
    }
   ],
   "source": [
    "str1 = '1234'\n",
    "str1.islower()"
   ]
  },
  {
   "cell_type": "code",
   "execution_count": 33,
   "id": "0cd1aae9-254c-4c32-8798-ce9362a4f992",
   "metadata": {},
   "outputs": [
    {
     "data": {
      "text/plain": [
       "True"
      ]
     },
     "execution_count": 33,
     "metadata": {},
     "output_type": "execute_result"
    }
   ],
   "source": [
    "str1 = \"hello ??\"\n",
    "str1.islower()"
   ]
  },
  {
   "cell_type": "code",
   "execution_count": null,
   "id": "f7921b1c-8f47-48bf-a92f-5d46e3b770d1",
   "metadata": {},
   "outputs": [],
   "source": []
  },
  {
   "cell_type": "code",
   "execution_count": null,
   "id": "3286b394-44b3-4dad-8e17-fc78ca41f5a9",
   "metadata": {},
   "outputs": [],
   "source": []
  },
  {
   "cell_type": "markdown",
   "id": "cd87f023-daee-49e2-ab2d-fd5b166333b4",
   "metadata": {},
   "source": [
    "## 12. `isupper()` :"
   ]
  },
  {
   "cell_type": "markdown",
   "id": "5ea064e7-9fe1-49cd-817c-f9c088985b8c",
   "metadata": {},
   "source": [
    "- Returns True if the string is non-empty and has all uppercase alphabets."
   ]
  },
  {
   "cell_type": "code",
   "execution_count": 40,
   "id": "b59576c2-17d9-467e-bc72-2450da9b5bc9",
   "metadata": {},
   "outputs": [],
   "source": [
    "str1 = \"hello World!\""
   ]
  },
  {
   "cell_type": "code",
   "execution_count": 41,
   "id": "f40343d0-c5a0-4f3e-ab88-7a353f962840",
   "metadata": {},
   "outputs": [
    {
     "data": {
      "text/plain": [
       "False"
      ]
     },
     "execution_count": 41,
     "metadata": {},
     "output_type": "execute_result"
    }
   ],
   "source": [
    "str1.isupper()"
   ]
  },
  {
   "cell_type": "code",
   "execution_count": 42,
   "id": "8ddc4313-b236-4746-a213-7aeb50bdbbfe",
   "metadata": {},
   "outputs": [],
   "source": [
    "str1 = \"Hello World!\""
   ]
  },
  {
   "cell_type": "code",
   "execution_count": 43,
   "id": "ca99ef72-4bfe-4216-9945-21463e9d03c5",
   "metadata": {},
   "outputs": [
    {
     "data": {
      "text/plain": [
       "False"
      ]
     },
     "execution_count": 43,
     "metadata": {},
     "output_type": "execute_result"
    }
   ],
   "source": [
    "str1.isupper()"
   ]
  },
  {
   "cell_type": "code",
   "execution_count": 44,
   "id": "0cce388b-a3b7-456f-9553-d01ac90f7f0f",
   "metadata": {},
   "outputs": [],
   "source": [
    "str1 = \"HELLO\""
   ]
  },
  {
   "cell_type": "code",
   "execution_count": 45,
   "id": "e48d8264-f34a-4f08-aa5b-9fd8ac6a4b50",
   "metadata": {},
   "outputs": [
    {
     "data": {
      "text/plain": [
       "True"
      ]
     },
     "execution_count": 45,
     "metadata": {},
     "output_type": "execute_result"
    }
   ],
   "source": [
    "str1.isupper()"
   ]
  },
  {
   "cell_type": "code",
   "execution_count": null,
   "id": "2dd23769-f066-4896-81a1-80a78dd1acec",
   "metadata": {},
   "outputs": [],
   "source": []
  },
  {
   "cell_type": "code",
   "execution_count": null,
   "id": "6e8f5146-acb4-4931-8bb4-46b4377f9bcb",
   "metadata": {},
   "outputs": [],
   "source": []
  },
  {
   "cell_type": "markdown",
   "id": "48d679b3-e318-4efa-b87d-e4c87515d3e5",
   "metadata": {},
   "source": [
    "## 13. `isspace()` :"
   ]
  },
  {
   "cell_type": "markdown",
   "id": "569530e6-67d5-4c2a-94c1-f1787d53635c",
   "metadata": {},
   "source": [
    "- Returns True if the string is non-empty and all characters are white spaces (blank, tab, newline, carriage return)"
   ]
  },
  {
   "cell_type": "code",
   "execution_count": 1,
   "id": "f12bd70a-d2ea-48f3-b52f-7292bcdd44bd",
   "metadata": {},
   "outputs": [],
   "source": [
    "str1 = \"    \\n   \\t  \\r\""
   ]
  },
  {
   "cell_type": "code",
   "execution_count": 2,
   "id": "97cd2c73-ca3f-4135-8d49-1374ae329a04",
   "metadata": {},
   "outputs": [
    {
     "data": {
      "text/plain": [
       "True"
      ]
     },
     "execution_count": 2,
     "metadata": {},
     "output_type": "execute_result"
    }
   ],
   "source": [
    "str1.isspace()"
   ]
  },
  {
   "cell_type": "code",
   "execution_count": 3,
   "id": "add7efb5-6c14-4d6b-bc5a-63585f68b2f4",
   "metadata": {},
   "outputs": [],
   "source": [
    "str1 = \"Hello      \\n\""
   ]
  },
  {
   "cell_type": "code",
   "execution_count": 4,
   "id": "84b98577-991d-419f-8bf3-42dcdc813fc7",
   "metadata": {},
   "outputs": [
    {
     "data": {
      "text/plain": [
       "False"
      ]
     },
     "execution_count": 4,
     "metadata": {},
     "output_type": "execute_result"
    }
   ],
   "source": [
    "str1.isspace()"
   ]
  },
  {
   "cell_type": "code",
   "execution_count": null,
   "id": "16432d3b-8c58-413c-9965-c71916f76cf9",
   "metadata": {},
   "outputs": [],
   "source": []
  },
  {
   "cell_type": "code",
   "execution_count": null,
   "id": "ee565c4c-c09d-4df6-a6e2-a748fd66b1c7",
   "metadata": {},
   "outputs": [],
   "source": []
  },
  {
   "cell_type": "markdown",
   "id": "cc509c0c-a380-47ab-bc45-67e5d7bb68b5",
   "metadata": {},
   "source": [
    "## 14. `istitle()` :"
   ]
  },
  {
   "cell_type": "markdown",
   "id": "0c5d8d6d-a07f-4a71-917f-ab0672f91a36",
   "metadata": {},
   "source": [
    "- Returns True if the string is non-empty and title case, i.e., the first letter of every word in the string in uppercase and rest in lowercase"
   ]
  },
  {
   "cell_type": "code",
   "execution_count": 6,
   "id": "c03cad12-dcde-4759-824f-5494a09efec9",
   "metadata": {},
   "outputs": [
    {
     "data": {
      "text/plain": [
       "True"
      ]
     },
     "execution_count": 6,
     "metadata": {},
     "output_type": "execute_result"
    }
   ],
   "source": [
    "str1 = \"Hello World\"\n",
    "str1.istitle()"
   ]
  },
  {
   "cell_type": "code",
   "execution_count": 7,
   "id": "9d7acdc7-c4d8-4e56-82f6-b55ff5f79cd7",
   "metadata": {},
   "outputs": [],
   "source": [
    "str1 = \"hello World!\""
   ]
  },
  {
   "cell_type": "code",
   "execution_count": 8,
   "id": "6f15c957-8c40-4f80-ada8-2b0e99e9726b",
   "metadata": {},
   "outputs": [
    {
     "data": {
      "text/plain": [
       "False"
      ]
     },
     "execution_count": 8,
     "metadata": {},
     "output_type": "execute_result"
    }
   ],
   "source": [
    "str1.istitle()"
   ]
  },
  {
   "cell_type": "code",
   "execution_count": null,
   "id": "f349cfb1-a48d-4ce3-ae5b-f0ed2b8dc8ad",
   "metadata": {},
   "outputs": [],
   "source": []
  },
  {
   "cell_type": "code",
   "execution_count": null,
   "id": "155e9c38-b974-4bcc-a9b0-5936767200ba",
   "metadata": {},
   "outputs": [],
   "source": []
  },
  {
   "cell_type": "markdown",
   "id": "4b4305ca-b955-4d46-8cb5-4635bac48ef3",
   "metadata": {},
   "source": [
    "## 15. `lstrip()` :\n",
    "- Returns the string after removing the spaces only on the left of the string."
   ]
  },
  {
   "cell_type": "code",
   "execution_count": 9,
   "id": "f3b011e1-0bdb-4cfa-9c11-362bde03ce00",
   "metadata": {},
   "outputs": [],
   "source": [
    "str1 = \"    Hello World!\""
   ]
  },
  {
   "cell_type": "code",
   "execution_count": 10,
   "id": "12021eef-11c0-4bd3-8e1d-7b6d1610640a",
   "metadata": {},
   "outputs": [
    {
     "data": {
      "text/plain": [
       "'Hello World!'"
      ]
     },
     "execution_count": 10,
     "metadata": {},
     "output_type": "execute_result"
    }
   ],
   "source": [
    "str1.lstrip()"
   ]
  },
  {
   "cell_type": "code",
   "execution_count": null,
   "id": "d514f6b4-110f-4bf0-b38c-9cfddf8507f5",
   "metadata": {},
   "outputs": [],
   "source": []
  },
  {
   "cell_type": "markdown",
   "id": "c897dae0-da12-4b1d-abea-cc0d9a17142f",
   "metadata": {},
   "source": [
    "## 16. `rstrip()` :\n",
    "- Returns the string after removing the spaces only on the right of the string"
   ]
  },
  {
   "cell_type": "code",
   "execution_count": 11,
   "id": "5ce15086-64a4-4393-b573-46f7f877d35f",
   "metadata": {},
   "outputs": [],
   "source": [
    "str1 = \"     Hello World!     \""
   ]
  },
  {
   "cell_type": "code",
   "execution_count": 12,
   "id": "8c03b246-1793-480c-953b-e3dbc4f61844",
   "metadata": {},
   "outputs": [
    {
     "data": {
      "text/plain": [
       "'     Hello World!'"
      ]
     },
     "execution_count": 12,
     "metadata": {},
     "output_type": "execute_result"
    }
   ],
   "source": [
    "str1.rstrip()"
   ]
  },
  {
   "cell_type": "code",
   "execution_count": null,
   "id": "de3127ad-4ddc-46f2-b9ec-f71d29954551",
   "metadata": {},
   "outputs": [],
   "source": []
  },
  {
   "cell_type": "markdown",
   "id": "74b64d7a-41bd-46b7-bfee-29faa6b0194a",
   "metadata": {},
   "source": [
    "## 17. `strip()` :\n",
    "- Returns the string after removing the spaces both on the left and the right of the string."
   ]
  },
  {
   "cell_type": "code",
   "execution_count": 13,
   "id": "8b018c20-0ed6-44b4-908b-378bfaee16fb",
   "metadata": {},
   "outputs": [],
   "source": [
    "str1 = \"     Hello World!    \""
   ]
  },
  {
   "cell_type": "code",
   "execution_count": 14,
   "id": "f394041b-fdbb-4835-a2fa-e0a59856a9b7",
   "metadata": {},
   "outputs": [
    {
     "data": {
      "text/plain": [
       "'Hello World!'"
      ]
     },
     "execution_count": 14,
     "metadata": {},
     "output_type": "execute_result"
    }
   ],
   "source": [
    "str1.strip()"
   ]
  },
  {
   "cell_type": "code",
   "execution_count": null,
   "id": "a4b4a7d5-1440-4982-badc-309c7836f86c",
   "metadata": {},
   "outputs": [],
   "source": []
  },
  {
   "cell_type": "markdown",
   "id": "06d5ad89-366e-4b0c-b707-be2fc984a374",
   "metadata": {},
   "source": [
    "## 18. `replace(oldstr, newstr)` :\n",
    "- Replaces all occurrences of old string with the new string"
   ]
  },
  {
   "cell_type": "code",
   "execution_count": 15,
   "id": "1e389a91-45bb-4ff5-a0a1-c13fff141d53",
   "metadata": {},
   "outputs": [],
   "source": [
    "str1 = \"Hello World!\""
   ]
  },
  {
   "cell_type": "code",
   "execution_count": 16,
   "id": "25100652-f9dd-4464-a6c8-8f7728f86851",
   "metadata": {},
   "outputs": [
    {
     "data": {
      "text/plain": [
       "'Hell* W*rld!'"
      ]
     },
     "execution_count": 16,
     "metadata": {},
     "output_type": "execute_result"
    }
   ],
   "source": [
    "str1.replace(\"o\",\"*\")"
   ]
  },
  {
   "cell_type": "code",
   "execution_count": 17,
   "id": "b2589e78-ab04-4a93-9435-e456f324b9fd",
   "metadata": {},
   "outputs": [],
   "source": [
    "str1 = \"hello World!\""
   ]
  },
  {
   "cell_type": "code",
   "execution_count": 18,
   "id": "1f04a90b-c93d-4a21-a199-766b0b2580db",
   "metadata": {},
   "outputs": [
    {
     "data": {
      "text/plain": [
       "'hello Country!'"
      ]
     },
     "execution_count": 18,
     "metadata": {},
     "output_type": "execute_result"
    }
   ],
   "source": [
    "str1.replace(\"World\",\"Country\")"
   ]
  },
  {
   "cell_type": "code",
   "execution_count": 19,
   "id": "5a16fbd7-b268-46e0-8f8e-758e28fe5f03",
   "metadata": {},
   "outputs": [
    {
     "data": {
      "text/plain": [
       "'hello World!'"
      ]
     },
     "execution_count": 19,
     "metadata": {},
     "output_type": "execute_result"
    }
   ],
   "source": [
    "str1"
   ]
  },
  {
   "cell_type": "code",
   "execution_count": null,
   "id": "740eded5-2c36-47e0-ae92-8604baa00ab0",
   "metadata": {},
   "outputs": [],
   "source": []
  },
  {
   "cell_type": "code",
   "execution_count": null,
   "id": "fa2e8942-139d-4dd0-9cec-c73a4c0e0a80",
   "metadata": {},
   "outputs": [],
   "source": []
  },
  {
   "cell_type": "markdown",
   "id": "445174f1-73b0-4136-ae58-6eedd4a05fcb",
   "metadata": {},
   "source": [
    "## 19. `join()` :\n",
    "- Returns a string in which the characters in the string have been joined by a separator "
   ]
  },
  {
   "cell_type": "code",
   "execution_count": 20,
   "id": "da5034be-c552-464f-a1f4-0cdf5e9a08f3",
   "metadata": {},
   "outputs": [],
   "source": [
    "str1 = \"Hello World\""
   ]
  },
  {
   "cell_type": "code",
   "execution_count": 21,
   "id": "0cfcbabc-8bfb-4d5f-ade1-6b0b5a53b126",
   "metadata": {},
   "outputs": [],
   "source": [
    "str2 = \"-\""
   ]
  },
  {
   "cell_type": "code",
   "execution_count": 22,
   "id": "4e9f621a-1df0-4fb4-a27a-2729ed137b52",
   "metadata": {},
   "outputs": [
    {
     "data": {
      "text/plain": [
       "'H-e-l-l-o- -W-o-r-l-d'"
      ]
     },
     "execution_count": 22,
     "metadata": {},
     "output_type": "execute_result"
    }
   ],
   "source": [
    "str2.join(str1)"
   ]
  },
  {
   "cell_type": "code",
   "execution_count": 23,
   "id": "5da56520-ddc4-4c55-8287-e009de279c1d",
   "metadata": {},
   "outputs": [
    {
     "data": {
      "text/plain": [
       "'-'"
      ]
     },
     "execution_count": 23,
     "metadata": {},
     "output_type": "execute_result"
    }
   ],
   "source": [
    "str2"
   ]
  },
  {
   "cell_type": "code",
   "execution_count": null,
   "id": "977a2f3b-6085-428e-969c-5d10feb63341",
   "metadata": {},
   "outputs": [],
   "source": []
  },
  {
   "cell_type": "code",
   "execution_count": null,
   "id": "1143e1c0-9f06-428f-904f-637419943a28",
   "metadata": {},
   "outputs": [],
   "source": []
  },
  {
   "cell_type": "markdown",
   "id": "08d6fc31-ae23-43c7-a9b7-484713ae5f54",
   "metadata": {},
   "source": [
    "## 20. `partition()` :"
   ]
  },
  {
   "cell_type": "markdown",
   "id": "99d6111e-5cdb-4d32-bc48-cb51da0d01eb",
   "metadata": {},
   "source": [
    "- Partitions the given string at the first occurrence of the substring (separator) and returns the string partitioned into three parts.\n",
    "1. Substring before the separator\n",
    "2. Separator\n",
    "3. Substring after the separator \n",
    "- If the separator is not found in the string, it returns the whole string itself and two empty strings"
   ]
  },
  {
   "cell_type": "code",
   "execution_count": 24,
   "id": "b5b918d4-4721-4d73-8cf8-d418d0536aa7",
   "metadata": {},
   "outputs": [],
   "source": [
    "str1 = \"India is a Great Country\""
   ]
  },
  {
   "cell_type": "code",
   "execution_count": 25,
   "id": "a1aab5ce-b65d-45ba-9e45-d87f0313ddd7",
   "metadata": {},
   "outputs": [
    {
     "data": {
      "text/plain": [
       "('India ', 'is', ' a Great Country')"
      ]
     },
     "execution_count": 25,
     "metadata": {},
     "output_type": "execute_result"
    }
   ],
   "source": [
    "str1.partition(\"is\")"
   ]
  },
  {
   "cell_type": "code",
   "execution_count": 26,
   "id": "441fd6fd-aa42-4cf1-b5ed-a72782a18bb9",
   "metadata": {},
   "outputs": [
    {
     "data": {
      "text/plain": [
       "('India is a Great Country', '', '')"
      ]
     },
     "execution_count": 26,
     "metadata": {},
     "output_type": "execute_result"
    }
   ],
   "source": [
    "str1.partition(\"are\")"
   ]
  },
  {
   "cell_type": "code",
   "execution_count": null,
   "id": "318f56c8-9919-48b3-9ac9-90cc98bf59e3",
   "metadata": {},
   "outputs": [],
   "source": []
  },
  {
   "cell_type": "code",
   "execution_count": null,
   "id": "ed53ac5d-5a95-48e5-ac8f-2011ed314132",
   "metadata": {},
   "outputs": [],
   "source": []
  },
  {
   "cell_type": "markdown",
   "id": "351ef290-0c18-4930-8657-7dc236651086",
   "metadata": {},
   "source": [
    "## 21. `split()` :"
   ]
  },
  {
   "cell_type": "markdown",
   "id": "702fd860-a76a-4e88-83c4-577f73aa3609",
   "metadata": {},
   "source": [
    "- Returns a list of words delimited by the specified substring. If no delimiter is given then words are separated by space."
   ]
  },
  {
   "cell_type": "code",
   "execution_count": 27,
   "id": "d02700a9-c626-4123-910b-768b2ea0e65e",
   "metadata": {},
   "outputs": [],
   "source": [
    "str1 = \"India is a Great Country\""
   ]
  },
  {
   "cell_type": "code",
   "execution_count": 28,
   "id": "495f68f8-2112-4f74-9961-253d371ee183",
   "metadata": {},
   "outputs": [
    {
     "data": {
      "text/plain": [
       "['India', 'is', 'a', 'Great', 'Country']"
      ]
     },
     "execution_count": 28,
     "metadata": {},
     "output_type": "execute_result"
    }
   ],
   "source": [
    "str1.split()"
   ]
  },
  {
   "cell_type": "code",
   "execution_count": 29,
   "id": "f16cea16-609c-45e2-b2ba-b3923d80c7b5",
   "metadata": {},
   "outputs": [
    {
     "data": {
      "text/plain": [
       "['Indi', ' is ', ' Gre', 't Country']"
      ]
     },
     "execution_count": 29,
     "metadata": {},
     "output_type": "execute_result"
    }
   ],
   "source": [
    "str1.split(\"a\")"
   ]
  },
  {
   "cell_type": "code",
   "execution_count": null,
   "id": "9733a294-9c82-407a-b2c3-6fa78491796c",
   "metadata": {},
   "outputs": [],
   "source": []
  },
  {
   "cell_type": "code",
   "execution_count": null,
   "id": "0e333edd-5a84-4e21-93f4-841abb313b17",
   "metadata": {},
   "outputs": [],
   "source": []
  },
  {
   "cell_type": "markdown",
   "id": "58bd21cd-1f3d-4a76-a831-ff35bbfc0898",
   "metadata": {},
   "source": [
    "# Handling String\n",
    "- We will learn about user defined functions in Python to perform different operations on strings."
   ]
  },
  {
   "cell_type": "markdown",
   "id": "5244befb-3435-4d26-8ce2-b68d013ee212",
   "metadata": {},
   "source": [
    "## Q.1 Write a program with a user defined function to count the number of times a character (passed as argument) occurs in the given string."
   ]
  },
  {
   "cell_type": "code",
   "execution_count": 30,
   "id": "e77584a0-b326-4c92-a477-9f02a765e744",
   "metadata": {},
   "outputs": [],
   "source": [
    "# function to count the number of times a character occurs in a string\n",
    "def charCount(ch,st):\n",
    "    count = 0\n",
    "    for character in st:\n",
    "        if character == ch:\n",
    "            count += 1\n",
    "    return count"
   ]
  },
  {
   "cell_type": "code",
   "execution_count": 31,
   "id": "5bad59e7-38ea-447a-af11-ff51f3ca6ad6",
   "metadata": {},
   "outputs": [
    {
     "name": "stdin",
     "output_type": "stream",
     "text": [
      "Enter a string : Today is a holiday.\n"
     ]
    }
   ],
   "source": [
    "st = input(\"Enter a string :\")"
   ]
  },
  {
   "cell_type": "code",
   "execution_count": 32,
   "id": "a19d0983-5974-40a9-b3fd-681d6d774a82",
   "metadata": {},
   "outputs": [
    {
     "name": "stdin",
     "output_type": "stream",
     "text": [
      "Enter the character to be searched :  a\n"
     ]
    }
   ],
   "source": [
    "ch = input(\"Enter the character to be searched : \")"
   ]
  },
  {
   "cell_type": "code",
   "execution_count": 33,
   "id": "c9bc2942-9b17-4764-a827-1235623506f0",
   "metadata": {},
   "outputs": [
    {
     "name": "stdout",
     "output_type": "stream",
     "text": [
      "Number of times character a occurs in the string is : 3\n"
     ]
    }
   ],
   "source": [
    "count = charCount(ch,st)\n",
    "print(\"Number of times character\",ch,\"occurs in the string is :\",count)"
   ]
  },
  {
   "cell_type": "code",
   "execution_count": null,
   "id": "ddb44c7c-4f32-464d-a952-5b7a399fbc66",
   "metadata": {},
   "outputs": [],
   "source": []
  },
  {
   "cell_type": "code",
   "execution_count": null,
   "id": "a1599617-0f8c-46a2-a5ca-55ee4b19f69b",
   "metadata": {},
   "outputs": [],
   "source": []
  },
  {
   "cell_type": "markdown",
   "id": "80f40105-a25c-48a8-86c8-f3db6b2558a7",
   "metadata": {},
   "source": [
    "## Q.2 Write a program with a user defined function with string as a parameter which replaces all vowels in the string with '*'."
   ]
  },
  {
   "cell_type": "code",
   "execution_count": 1,
   "id": "4d66c898-93c6-4897-9581-541a79c90cb2",
   "metadata": {},
   "outputs": [
    {
     "name": "stdin",
     "output_type": "stream",
     "text": [
      "Enter a String :  This is the string.\n"
     ]
    },
    {
     "name": "stdout",
     "output_type": "stream",
     "text": [
      "The original String is :  This is the string.\n",
      "The modified String is :  Th*s *s th* str*ng.\n"
     ]
    }
   ],
   "source": [
    "# function to replace all vowels in the string with \"*\"\n",
    "def replaceVowels(st):\n",
    "    #create an empty string\n",
    "    newstr = \"\"\n",
    "    for character in st:\n",
    "        # check if next character is a vowel\n",
    "        if character in \"aeiouAEIOU\":\n",
    "            #Replace vowel with *\n",
    "            newstr += \"*\"\n",
    "        else:\n",
    "            newstr += character\n",
    "    return newstr\n",
    "\n",
    "st = input(\"Enter a String : \")\n",
    "st1 = replaceVowels(st)\n",
    "print(\"The original String is : \",st);\n",
    "print(\"The modified String is : \",st1);"
   ]
  },
  {
   "cell_type": "code",
   "execution_count": null,
   "id": "00b2140b-eea6-4d2b-a003-a961cea646dc",
   "metadata": {},
   "outputs": [],
   "source": []
  },
  {
   "cell_type": "code",
   "execution_count": null,
   "id": "d101e113-76b2-4c8a-bcb7-35689a5abd23",
   "metadata": {},
   "outputs": [],
   "source": []
  },
  {
   "cell_type": "markdown",
   "id": "a9db979e-3a05-4d94-b084-300fb3a4991f",
   "metadata": {},
   "source": [
    "## Q.3 Write a program to input a string from the user and print it in the reverse order without creating a new string."
   ]
  },
  {
   "cell_type": "code",
   "execution_count": 2,
   "id": "a4aecc85-26d0-41a8-98d5-81fb0e50d658",
   "metadata": {},
   "outputs": [
    {
     "name": "stdin",
     "output_type": "stream",
     "text": [
      "Enter a string :  Hello World\n"
     ]
    },
    {
     "name": "stdout",
     "output_type": "stream",
     "text": [
      "dlroW olleH"
     ]
    }
   ],
   "source": [
    "# Program to display string in reverse order\n",
    "st = input(\"Enter a string : \")\n",
    "for i in range(-1,-len(st)-1,-1):\n",
    "    print(st[i],end=\"\")"
   ]
  },
  {
   "cell_type": "code",
   "execution_count": null,
   "id": "492f4dad-8f39-4a52-a20a-d9d2199a8505",
   "metadata": {},
   "outputs": [],
   "source": []
  },
  {
   "cell_type": "code",
   "execution_count": null,
   "id": "5353589f-4e45-460a-8fe9-4c9d3182f170",
   "metadata": {},
   "outputs": [],
   "source": []
  },
  {
   "cell_type": "markdown",
   "id": "dfe5f2fa-3c83-4fef-ad19-dff62b393ec6",
   "metadata": {},
   "source": [
    "## Q.4 Write a program which reverses a string passed as parameter and stores the reversed string in a new string. Use a user defined function for reversing the string."
   ]
  },
  {
   "cell_type": "code",
   "execution_count": 2,
   "id": "5f8633af-389a-42f2-b6d5-bf9b45cd5bac",
   "metadata": {},
   "outputs": [
    {
     "name": "stdin",
     "output_type": "stream",
     "text": [
      "Enter a string Hello World!\n"
     ]
    },
    {
     "name": "stdout",
     "output_type": "stream",
     "text": [
      "The original String is :  Hello World!\n",
      "The reversed String is :  !dlroW olleH\n"
     ]
    }
   ],
   "source": [
    "# Function to reverse a string\n",
    "def reverseString(st):\n",
    "    newstr = \"\"\n",
    "    length = len(st)\n",
    "    for i in range(-1,-length-1,-1):\n",
    "        newstr += st[i]\n",
    "    return newstr\n",
    "\n",
    "st = input(\"Enter a string\")\n",
    "st1 = reverseString(st)\n",
    "print(\"The original String is : \",st)\n",
    "print(\"The reversed String is : \",st1)"
   ]
  },
  {
   "cell_type": "code",
   "execution_count": null,
   "id": "78bb07aa-6cfb-4b42-bc84-1bdcaed039b7",
   "metadata": {},
   "outputs": [],
   "source": []
  },
  {
   "cell_type": "code",
   "execution_count": null,
   "id": "5110d244-19e2-40e9-958d-431a97ab6b2a",
   "metadata": {},
   "outputs": [],
   "source": []
  },
  {
   "cell_type": "markdown",
   "id": "21bc447f-b659-4f67-9d7b-323daca2ad68",
   "metadata": {},
   "source": [
    "## Q.5 Write a program using a user defined function to check if a string is a palindrome or not. (A string is called palindrome if it reads same backwards as forward. For example, Kanak is a palindrome.)"
   ]
  },
  {
   "cell_type": "code",
   "execution_count": 3,
   "id": "5d2737b4-7305-4a06-a8b1-50e2babed371",
   "metadata": {},
   "outputs": [],
   "source": [
    "# Function to check if a string is palindrome or not\n",
    "def checkPalin(st):\n",
    "    i = 0\n",
    "    j = len(st)-1\n",
    "    while (i <= j):\n",
    "        if(st[i] != st[j]):\n",
    "            return False\n",
    "        i += 1\n",
    "        j -= 1\n",
    "    return True"
   ]
  },
  {
   "cell_type": "code",
   "execution_count": 6,
   "id": "c6454b77-b73b-4129-850c-0014bcde9aaa",
   "metadata": {},
   "outputs": [
    {
     "name": "stdin",
     "output_type": "stream",
     "text": [
      "Enter a string :  computer\n"
     ]
    },
    {
     "name": "stdout",
     "output_type": "stream",
     "text": [
      "The given string  computer is not a palindrome\n"
     ]
    }
   ],
   "source": [
    "st = input(\"Enter a string : \")\n",
    "result = checkPalin(st)\n",
    "if result == True:\n",
    "    print(\"The given string \",st,\"is a palindrome\")\n",
    "else:\n",
    "    print(\"The given string \",st,\"is not a palindrome\")"
   ]
  },
  {
   "cell_type": "code",
   "execution_count": null,
   "id": "0b44c1b8-63d3-4e42-baf6-a07aa4bc526d",
   "metadata": {},
   "outputs": [],
   "source": []
  }
 ],
 "metadata": {
  "kernelspec": {
   "display_name": "Python 3 (ipykernel)",
   "language": "python",
   "name": "python3"
  },
  "language_info": {
   "codemirror_mode": {
    "name": "ipython",
    "version": 3
   },
   "file_extension": ".py",
   "mimetype": "text/x-python",
   "name": "python",
   "nbconvert_exporter": "python",
   "pygments_lexer": "ipython3",
   "version": "3.13.0"
  }
 },
 "nbformat": 4,
 "nbformat_minor": 5
}
