{
 "cells": [
  {
   "cell_type": "markdown",
   "id": "3331499f-ae78-4938-a8d8-d4f50a9c077e",
   "metadata": {},
   "source": [
    "# String"
   ]
  },
  {
   "cell_type": "markdown",
   "id": "365974c2-91c4-44e1-9f3e-93449e3b3249",
   "metadata": {},
   "source": [
    "- String is a sequence which is made up of one or more UNICODE characters.\n",
    "- The character can be a letter, digit, whitespace or any other symbol.\n",
    "- A string can be created by enclosing one or more characters in single, double or triple quote."
   ]
  },
  {
   "cell_type": "code",
   "execution_count": 2,
   "id": "771f08fc-fe66-496a-ac13-ff8e3d18f3fd",
   "metadata": {},
   "outputs": [],
   "source": [
    "str1 = 'Hello World!'\n",
    "str2 = \"Hello World!\"\n",
    "str3 = \"\"\"Hello World!\"\"\"\n",
    "str4 = '''Hello World!'''"
   ]
  },
  {
   "cell_type": "code",
   "execution_count": 3,
   "id": "ccfa7f22-209c-45ff-ab57-2ce599d526ff",
   "metadata": {},
   "outputs": [
    {
     "data": {
      "text/plain": [
       "'Hello World!'"
      ]
     },
     "execution_count": 3,
     "metadata": {},
     "output_type": "execute_result"
    }
   ],
   "source": [
    "str1"
   ]
  },
  {
   "cell_type": "code",
   "execution_count": 4,
   "id": "b285524d-a909-4256-9d84-3cb9a46ff12f",
   "metadata": {},
   "outputs": [
    {
     "data": {
      "text/plain": [
       "'Hello World!'"
      ]
     },
     "execution_count": 4,
     "metadata": {},
     "output_type": "execute_result"
    }
   ],
   "source": [
    "str2"
   ]
  },
  {
   "cell_type": "code",
   "execution_count": 5,
   "id": "c25debc1-97eb-4b98-b579-7431e69bf072",
   "metadata": {},
   "outputs": [
    {
     "data": {
      "text/plain": [
       "'Hello World!'"
      ]
     },
     "execution_count": 5,
     "metadata": {},
     "output_type": "execute_result"
    }
   ],
   "source": [
    "str3"
   ]
  },
  {
   "cell_type": "code",
   "execution_count": 6,
   "id": "34855485-b246-404e-8d0a-f08c1c7fc679",
   "metadata": {},
   "outputs": [
    {
     "data": {
      "text/plain": [
       "'Hello World!'"
      ]
     },
     "execution_count": 6,
     "metadata": {},
     "output_type": "execute_result"
    }
   ],
   "source": [
    "str4"
   ]
  },
  {
   "cell_type": "markdown",
   "id": "31361926-2cb2-49f9-8a9d-73b2310d9cc7",
   "metadata": {},
   "source": [
    "####  Values stored in str3 can be extended to multiple lines using triple quote."
   ]
  },
  {
   "cell_type": "code",
   "execution_count": 1,
   "id": "a886a988-aae0-46b8-8eb8-8814d108ad67",
   "metadata": {},
   "outputs": [],
   "source": [
    "str3 = \"\"\" Hello World!\n",
    "Welcome to the world of Python\"\"\""
   ]
  },
  {
   "cell_type": "code",
   "execution_count": 2,
   "id": "d2cb2e44-1e18-4dd1-ae3a-a34a94d558c8",
   "metadata": {},
   "outputs": [
    {
     "data": {
      "text/plain": [
       "' Hello World!\\nWelcome to the world of Python'"
      ]
     },
     "execution_count": 2,
     "metadata": {},
     "output_type": "execute_result"
    }
   ],
   "source": [
    "str3"
   ]
  },
  {
   "cell_type": "code",
   "execution_count": null,
   "id": "aa4e6cfd-b79f-41ac-aa86-4f8fd06fa7e3",
   "metadata": {},
   "outputs": [],
   "source": []
  },
  {
   "cell_type": "code",
   "execution_count": null,
   "id": "b46d57ac-0db2-41a5-9455-b437122799e4",
   "metadata": {},
   "outputs": [],
   "source": []
  },
  {
   "cell_type": "markdown",
   "id": "c8b1dd3d-53ab-4e8a-b85f-640cfc34ac70",
   "metadata": {},
   "source": [
    "## Accessing Characters in a String "
   ]
  },
  {
   "cell_type": "markdown",
   "id": "d229091d-2231-4fd7-be53-570c3d811152",
   "metadata": {},
   "source": [
    "- Each individual character in a string can be accessed using a technique called indexing.\n",
    "- The index specifies the character to be accessed in the string and is written in square brackets ([ ]).\n",
    "- The index of the first character from left) in the string is 0 and the last character is n-1.\n",
    "-  Where n is the length of the string.\n",
    "-  If we give index value out of this range then we get an IndexError.\n",
    "-  The index must be an integer (positive, zero or negative)."
   ]
  },
  {
   "cell_type": "code",
   "execution_count": 6,
   "id": "385f6877-bd09-4e71-b091-fc21822dcc8b",
   "metadata": {},
   "outputs": [],
   "source": [
    "# initializes a string str1\n",
    "str1 = \"Hello World!\""
   ]
  },
  {
   "cell_type": "code",
   "execution_count": 7,
   "id": "fabcc25c-2482-406e-933c-4b2a4f674e74",
   "metadata": {},
   "outputs": [
    {
     "data": {
      "text/plain": [
       "'Hello World!'"
      ]
     },
     "execution_count": 7,
     "metadata": {},
     "output_type": "execute_result"
    }
   ],
   "source": [
    "str1"
   ]
  },
  {
   "cell_type": "code",
   "execution_count": 8,
   "id": "4f288498-a01f-43c1-aac4-330f70cf28f8",
   "metadata": {},
   "outputs": [
    {
     "data": {
      "text/plain": [
       "'H'"
      ]
     },
     "execution_count": 8,
     "metadata": {},
     "output_type": "execute_result"
    }
   ],
   "source": [
    "# gives the first character of str1\n",
    "str1[0]"
   ]
  },
  {
   "cell_type": "code",
   "execution_count": 9,
   "id": "adf3ee17-706e-4b8d-bdba-294d141346ce",
   "metadata": {},
   "outputs": [
    {
     "data": {
      "text/plain": [
       "'W'"
      ]
     },
     "execution_count": 9,
     "metadata": {},
     "output_type": "execute_result"
    }
   ],
   "source": [
    "# gives seventh character of str1\n",
    "str1[6]"
   ]
  },
  {
   "cell_type": "code",
   "execution_count": 10,
   "id": "f8a32f40-cf7e-4e62-98a2-8d4ad77b43c4",
   "metadata": {},
   "outputs": [
    {
     "data": {
      "text/plain": [
       "'!'"
      ]
     },
     "execution_count": 10,
     "metadata": {},
     "output_type": "execute_result"
    }
   ],
   "source": [
    "# gives last character of str1\n",
    "str1[11]"
   ]
  },
  {
   "cell_type": "code",
   "execution_count": 11,
   "id": "20cef40c-799d-451f-b303-451c4b68a213",
   "metadata": {},
   "outputs": [
    {
     "ename": "IndexError",
     "evalue": "string index out of range",
     "output_type": "error",
     "traceback": [
      "\u001b[1;31m---------------------------------------------------------------------------\u001b[0m",
      "\u001b[1;31mIndexError\u001b[0m                                Traceback (most recent call last)",
      "Cell \u001b[1;32mIn[11], line 2\u001b[0m\n\u001b[0;32m      1\u001b[0m \u001b[38;5;66;03m# gives error as index is out of range\u001b[39;00m\n\u001b[1;32m----> 2\u001b[0m \u001b[43mstr1\u001b[49m\u001b[43m[\u001b[49m\u001b[38;5;241;43m15\u001b[39;49m\u001b[43m]\u001b[49m\n",
      "\u001b[1;31mIndexError\u001b[0m: string index out of range"
     ]
    }
   ],
   "source": [
    "# gives error as index is out of range\n",
    "str1[15]"
   ]
  },
  {
   "cell_type": "markdown",
   "id": "4bf203fa-491d-4b45-8da8-4dea9c0e17f4",
   "metadata": {},
   "source": [
    "- The index can also be an expression including variables and operators but the expression must evaluate to an integer."
   ]
  },
  {
   "cell_type": "code",
   "execution_count": null,
   "id": "901d1ca5-7802-4368-90d9-b891f213e58a",
   "metadata": {},
   "outputs": [],
   "source": [
    "str1[2+4]"
   ]
  },
  {
   "cell_type": "code",
   "execution_count": 12,
   "id": "b420c3b1-93fc-40e8-8c74-17f5840e299f",
   "metadata": {},
   "outputs": [
    {
     "ename": "TypeError",
     "evalue": "string indices must be integers, not 'float'",
     "output_type": "error",
     "traceback": [
      "\u001b[1;31m---------------------------------------------------------------------------\u001b[0m",
      "\u001b[1;31mTypeError\u001b[0m                                 Traceback (most recent call last)",
      "Cell \u001b[1;32mIn[12], line 2\u001b[0m\n\u001b[0;32m      1\u001b[0m \u001b[38;5;66;03m# gives error as index must be an integer\u001b[39;00m\n\u001b[1;32m----> 2\u001b[0m \u001b[43mstr1\u001b[49m\u001b[43m[\u001b[49m\u001b[38;5;241;43m1.5\u001b[39;49m\u001b[43m]\u001b[49m\n",
      "\u001b[1;31mTypeError\u001b[0m: string indices must be integers, not 'float'"
     ]
    }
   ],
   "source": [
    "# gives error as index must be an integer\n",
    "str1[1.5]"
   ]
  },
  {
   "cell_type": "markdown",
   "id": "f0b1cc91-d84f-4224-b640-6d69ed23d931",
   "metadata": {},
   "source": [
    "- Python allows an index value to be negative also.\n",
    "- Negative indices are used when we want to access the characters of the string from right to left.\n",
    "- Starting from right hand side, the first character has the index as -1 and the last character has the index –n where n is the length of the string. "
   ]
  },
  {
   "cell_type": "code",
   "execution_count": 13,
   "id": "2b268e66-b9d0-4477-a3c4-6a06f00b8edd",
   "metadata": {},
   "outputs": [
    {
     "data": {
      "text/plain": [
       "'!'"
      ]
     },
     "execution_count": 13,
     "metadata": {},
     "output_type": "execute_result"
    }
   ],
   "source": [
    "str1[-1]"
   ]
  },
  {
   "cell_type": "code",
   "execution_count": 14,
   "id": "acf58223-a556-48f2-a7b5-17db5e43a4c5",
   "metadata": {},
   "outputs": [
    {
     "data": {
      "text/plain": [
       "'H'"
      ]
     },
     "execution_count": 14,
     "metadata": {},
     "output_type": "execute_result"
    }
   ],
   "source": [
    "str1[-12]"
   ]
  },
  {
   "cell_type": "markdown",
   "id": "2e44905e-145e-4dd9-9345-8fc4dd80935b",
   "metadata": {},
   "source": [
    "![String Indexing](Indexing.png)"
   ]
  },
  {
   "cell_type": "markdown",
   "id": "7b81cca4-6bae-42da-a01c-169d6283184e",
   "metadata": {},
   "source": [
    "- An inbuilt function len() in Python returns the length of the string that is passed as parameter. "
   ]
  },
  {
   "cell_type": "code",
   "execution_count": 15,
   "id": "99431bf0-4686-4b73-a937-644e67b0eba4",
   "metadata": {},
   "outputs": [],
   "source": [
    "str1 = \"Hello World!\""
   ]
  },
  {
   "cell_type": "code",
   "execution_count": 16,
   "id": "a8c1faa5-0792-4ac9-bdb4-3eba919baf7d",
   "metadata": {},
   "outputs": [
    {
     "data": {
      "text/plain": [
       "12"
      ]
     },
     "execution_count": 16,
     "metadata": {},
     "output_type": "execute_result"
    }
   ],
   "source": [
    "# gives the length of the string str1\n",
    "len(str1)"
   ]
  },
  {
   "cell_type": "code",
   "execution_count": 17,
   "id": "3d8d3319-00a7-4e5c-a3fa-b3edde8fb0de",
   "metadata": {},
   "outputs": [],
   "source": [
    "# length of the string is assigned to n\n",
    "n = len(str1)"
   ]
  },
  {
   "cell_type": "code",
   "execution_count": 18,
   "id": "80617dfd-a3b9-4b33-b651-5e3ed251e53d",
   "metadata": {},
   "outputs": [
    {
     "data": {
      "text/plain": [
       "'!'"
      ]
     },
     "execution_count": 18,
     "metadata": {},
     "output_type": "execute_result"
    }
   ],
   "source": [
    "# gives the last character of the string\n",
    "str1[n-1]"
   ]
  },
  {
   "cell_type": "code",
   "execution_count": 19,
   "id": "6034fe48-9606-4b53-b3f1-32727545772e",
   "metadata": {},
   "outputs": [
    {
     "data": {
      "text/plain": [
       "'H'"
      ]
     },
     "execution_count": 19,
     "metadata": {},
     "output_type": "execute_result"
    }
   ],
   "source": [
    "#gives the first character of the string\n",
    "str1[-n]"
   ]
  },
  {
   "cell_type": "code",
   "execution_count": null,
   "id": "7159e53c-0399-481f-85dd-5939c8134ddb",
   "metadata": {},
   "outputs": [],
   "source": []
  },
  {
   "cell_type": "code",
   "execution_count": null,
   "id": "c1466357-3307-4174-9092-770883981fda",
   "metadata": {},
   "outputs": [],
   "source": []
  },
  {
   "cell_type": "markdown",
   "id": "3570b331-c363-4461-bd14-2f0b091264d8",
   "metadata": {},
   "source": [
    "##  String is Immutable"
   ]
  },
  {
   "cell_type": "markdown",
   "id": "1c8a08cd-ef49-4dc8-9d6b-bf69941d3014",
   "metadata": {},
   "source": [
    "- A string is an immutable data type.\n",
    "- It means that the contents of the string cannot be changed after it has been created.\n",
    "- An attempt to do this would lead to an error."
   ]
  },
  {
   "cell_type": "code",
   "execution_count": 20,
   "id": "16932158-9c4d-4749-b86b-086ce10912e2",
   "metadata": {},
   "outputs": [],
   "source": [
    "str1 = \"Kurshed Khan\""
   ]
  },
  {
   "cell_type": "code",
   "execution_count": 22,
   "id": "22412c35-caf5-49f5-933a-b7d8245f1f9f",
   "metadata": {},
   "outputs": [
    {
     "ename": "TypeError",
     "evalue": "'str' object does not support item assignment",
     "output_type": "error",
     "traceback": [
      "\u001b[1;31m---------------------------------------------------------------------------\u001b[0m",
      "\u001b[1;31mTypeError\u001b[0m                                 Traceback (most recent call last)",
      "Cell \u001b[1;32mIn[22], line 1\u001b[0m\n\u001b[1;32m----> 1\u001b[0m \u001b[43mstr1\u001b[49m\u001b[43m[\u001b[49m\u001b[38;5;241;43m1\u001b[39;49m\u001b[43m]\u001b[49m \u001b[38;5;241m=\u001b[39m \u001b[38;5;124m\"\u001b[39m\u001b[38;5;124mh\u001b[39m\u001b[38;5;124m\"\u001b[39m\n",
      "\u001b[1;31mTypeError\u001b[0m: 'str' object does not support item assignment"
     ]
    }
   ],
   "source": [
    "str1[1] = \"h\""
   ]
  },
  {
   "cell_type": "code",
   "execution_count": null,
   "id": "85d12cb6-6c00-416f-b01d-6cf6012f12a7",
   "metadata": {},
   "outputs": [],
   "source": []
  },
  {
   "cell_type": "code",
   "execution_count": null,
   "id": "d28479ae-3308-468c-923a-61ce3c2dbe6f",
   "metadata": {},
   "outputs": [],
   "source": []
  },
  {
   "cell_type": "markdown",
   "id": "2468a65e-2296-45dc-b04e-00d7a9c4060e",
   "metadata": {},
   "source": [
    "## String Operations"
   ]
  },
  {
   "cell_type": "markdown",
   "id": "6031b030-96f0-4b25-bb11-2e944344d54d",
   "metadata": {},
   "source": [
    "- String is a sequence of characters.\n",
    "- Python allows certain operations on string data type, such as `concatenation`, `repetition`, `membership` and `slicing`.\n"
   ]
  },
  {
   "cell_type": "markdown",
   "id": "b9a0ba8a-d60e-498b-8142-fb4023c8a232",
   "metadata": {},
   "source": [
    "### 1. Concatenation \n",
    "- To concatenate means to join.\n",
    "- Python allows us to join two strings using concatenation operator plus which is denoted by symbol +."
   ]
  },
  {
   "cell_type": "code",
   "execution_count": 25,
   "id": "fad64c48-fe5a-45e6-9976-8dad7c0a1765",
   "metadata": {},
   "outputs": [
    {
     "data": {
      "text/plain": [
       "'HelloWorld!'"
      ]
     },
     "execution_count": 25,
     "metadata": {},
     "output_type": "execute_result"
    }
   ],
   "source": [
    "str1 = \"Hello\"\n",
    "str2 = \"World!\"\n",
    "str1 + str2 #Concatenated strings"
   ]
  },
  {
   "cell_type": "code",
   "execution_count": 26,
   "id": "b1b19f4d-9748-49a4-94cb-569707169d9e",
   "metadata": {},
   "outputs": [
    {
     "data": {
      "text/plain": [
       "'Hello'"
      ]
     },
     "execution_count": 26,
     "metadata": {},
     "output_type": "execute_result"
    }
   ],
   "source": [
    "str1"
   ]
  },
  {
   "cell_type": "code",
   "execution_count": 27,
   "id": "b722d8fd-1d15-4960-a88f-872db258b5c3",
   "metadata": {},
   "outputs": [
    {
     "data": {
      "text/plain": [
       "'World!'"
      ]
     },
     "execution_count": 27,
     "metadata": {},
     "output_type": "execute_result"
    }
   ],
   "source": [
    "str2"
   ]
  },
  {
   "cell_type": "code",
   "execution_count": null,
   "id": "035b2fab-9de5-4219-a190-b37f65e6659a",
   "metadata": {},
   "outputs": [],
   "source": []
  },
  {
   "cell_type": "markdown",
   "id": "53820802-b517-4245-964f-f16e112c9f58",
   "metadata": {},
   "source": [
    "### 2. Repetition"
   ]
  },
  {
   "cell_type": "markdown",
   "id": "399e2a89-61d3-43f2-ba27-129fe86dd205",
   "metadata": {},
   "source": [
    "- Python allows us to repeat the given string using repetition operator which is denoted by symbol *."
   ]
  },
  {
   "cell_type": "code",
   "execution_count": 28,
   "id": "11efd39a-e1b8-4b33-9045-21d8293fdf95",
   "metadata": {},
   "outputs": [],
   "source": [
    "#assign string 'Hello' to str1\n",
    "str1 = \"Hello\""
   ]
  },
  {
   "cell_type": "code",
   "execution_count": 29,
   "id": "b7fb5377-aa06-42f2-95af-f7733689109b",
   "metadata": {},
   "outputs": [
    {
     "data": {
      "text/plain": [
       "'Hello'"
      ]
     },
     "execution_count": 29,
     "metadata": {},
     "output_type": "execute_result"
    }
   ],
   "source": [
    "str1"
   ]
  },
  {
   "cell_type": "code",
   "execution_count": 30,
   "id": "5817f65f-b8b5-4aed-a94b-fab95fe15fad",
   "metadata": {},
   "outputs": [
    {
     "data": {
      "text/plain": [
       "'HelloHello'"
      ]
     },
     "execution_count": 30,
     "metadata": {},
     "output_type": "execute_result"
    }
   ],
   "source": [
    "#repeat the value of str1 2 times\n",
    "str1*2"
   ]
  },
  {
   "cell_type": "code",
   "execution_count": 31,
   "id": "acac6a0f-a9ec-4a1e-ad56-f6f0c3fffbe8",
   "metadata": {},
   "outputs": [
    {
     "data": {
      "text/plain": [
       "'HelloHelloHelloHelloHello'"
      ]
     },
     "execution_count": 31,
     "metadata": {},
     "output_type": "execute_result"
    }
   ],
   "source": [
    "#repeat the value of str1 5 times\n",
    "str1*5"
   ]
  },
  {
   "cell_type": "code",
   "execution_count": 32,
   "id": "5f0be7ef-e110-4c10-8ef8-db2ce6d6fec5",
   "metadata": {},
   "outputs": [
    {
     "data": {
      "text/plain": [
       "'Hello'"
      ]
     },
     "execution_count": 32,
     "metadata": {},
     "output_type": "execute_result"
    }
   ],
   "source": [
    "str1"
   ]
  },
  {
   "cell_type": "code",
   "execution_count": null,
   "id": "63a2fd1d-6376-488c-ab41-2e9f24137171",
   "metadata": {},
   "outputs": [],
   "source": []
  }
 ],
 "metadata": {
  "kernelspec": {
   "display_name": "Python 3 (ipykernel)",
   "language": "python",
   "name": "python3"
  },
  "language_info": {
   "codemirror_mode": {
    "name": "ipython",
    "version": 3
   },
   "file_extension": ".py",
   "mimetype": "text/x-python",
   "name": "python",
   "nbconvert_exporter": "python",
   "pygments_lexer": "ipython3",
   "version": "3.13.0"
  }
 },
 "nbformat": 4,
 "nbformat_minor": 5
}
