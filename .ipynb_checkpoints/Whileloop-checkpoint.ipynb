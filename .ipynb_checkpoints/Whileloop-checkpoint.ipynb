{
 "cells": [
  {
   "cell_type": "code",
   "execution_count": 4,
   "id": "bd0a443f-3751-46ff-8e46-c7aaf4e4bcfa",
   "metadata": {},
   "outputs": [
    {
     "name": "stdout",
     "output_type": "stream",
     "text": [
      "1 2 3 4 5 6 7 8 9 "
     ]
    }
   ],
   "source": [
    "i = 1\n",
    "while i < 10:\n",
    "    print(i , end=\" \");\n",
    "    i+=1;"
   ]
  },
  {
   "cell_type": "code",
   "execution_count": 5,
   "id": "6800e362-cff0-48ed-903f-d94025e1647b",
   "metadata": {},
   "outputs": [
    {
     "name": "stdout",
     "output_type": "stream",
     "text": [
      "0 5 7 10 14 15 20 21 25 28 30 35 40 42 45 49 50 "
     ]
    }
   ],
   "source": [
    "i = 0;\n",
    "while i < 51:\n",
    "    if i % 5 == 0 or i % 7 == 0:\n",
    "        print(i , end=\" \");\n",
    "    i+=1;\n"
   ]
  },
  {
   "cell_type": "code",
   "execution_count": 6,
   "id": "f94352ab-3cf5-4636-af60-c0f745151711",
   "metadata": {},
   "outputs": [
    {
     "name": "stdout",
     "output_type": "stream",
     "text": [
      "Total sum range of 1 to 15:  1240\n"
     ]
    }
   ],
   "source": [
    "num = 15;\n",
    "sum = 0;\n",
    "i = 0;\n",
    "while i <= num:\n",
    "    sum = i**2 + sum;\n",
    "    i+=1;\n",
    "print(\"Total sum range of 1 to 15: \",sum)"
   ]
  },
  {
   "cell_type": "code",
   "execution_count": 8,
   "id": "ebaac80b-849d-4dc3-8701-fbc09911d0b8",
   "metadata": {},
   "outputs": [
    {
     "name": "stdout",
     "output_type": "stream",
     "text": [
      "count X number = : 21\n",
      "count X number = : 42\n",
      "count X number = : 63\n",
      "count X number = : 84\n",
      "count X number = : 105\n",
      "count X number = : 126\n",
      "count X number = : 147\n",
      "count X number = : 168\n",
      "count X number = : 189\n",
      "count X number = : 210\n"
     ]
    }
   ],
   "source": [
    "number = 21;\n",
    "count = 1;\n",
    "while count <= 10:\n",
    "    ans = count * number;\n",
    "    print(\"count X number = :\",ans)\n",
    "    count += 1;\n",
    "         "
   ]
  },
  {
   "cell_type": "code",
   "execution_count": null,
   "id": "fc924a7d-87c4-46ce-a6ed-85204712653b",
   "metadata": {},
   "outputs": [],
   "source": []
  },
  {
   "cell_type": "code",
   "execution_count": null,
   "id": "da55f5f8-838b-46ac-992c-5e106c0110c8",
   "metadata": {},
   "outputs": [],
   "source": []
  }
 ],
 "metadata": {
  "kernelspec": {
   "display_name": "Python 3 (ipykernel)",
   "language": "python",
   "name": "python3"
  },
  "language_info": {
   "codemirror_mode": {
    "name": "ipython",
    "version": 3
   },
   "file_extension": ".py",
   "mimetype": "text/x-python",
   "name": "python",
   "nbconvert_exporter": "python",
   "pygments_lexer": "ipython3",
   "version": "3.12.0"
  }
 },
 "nbformat": 4,
 "nbformat_minor": 5
}
