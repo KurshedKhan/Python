{
 "cells": [
  {
   "cell_type": "markdown",
   "id": "84478004-4351-4079-9aff-516acd5d1fb3",
   "metadata": {},
   "source": [
    "# Python list\n",
    "    In Python, the sequence of various data types is stored in a list.\n",
    "\n",
    "    A list is a collection of different kinds of values or items.\n",
    "\n",
    "    Since Python lists are mutable, we can change their elements after forming\n",
    "\n",
    "    The comma (,) and the square brackets [enclose the List's items] serve as separators.\n",
    "    \n",
    "    Although six Python data types can hold sequences, the List is the most common and reliable form.\n",
    "\n",
    "    Tuples and Strings are two similar data formats for sequences."
   ]
  },
  {
   "cell_type": "markdown",
   "id": "1387f54f-1cb3-4bf4-a988-911a7f5882f9",
   "metadata": {},
   "source": [
    "### List Declaration"
   ]
  },
  {
   "cell_type": "code",
   "execution_count": 1,
   "id": "fcb3b9d3-c50a-40b6-ad6a-13400ebee332",
   "metadata": {},
   "outputs": [],
   "source": [
    "list1 = [1,2,3,4,5,4]\n",
    "list2 = [\"Hello\",\"Jello\",\"khello\"]"
   ]
  },
  {
   "cell_type": "code",
   "execution_count": 2,
   "id": "9d278a81-19ba-4d86-97ed-730e1c33b4fb",
   "metadata": {},
   "outputs": [
    {
     "data": {
      "text/plain": [
       "[1, 2, 3, 4, 5, 4]"
      ]
     },
     "execution_count": 2,
     "metadata": {},
     "output_type": "execute_result"
    }
   ],
   "source": [
    "list1"
   ]
  },
  {
   "cell_type": "code",
   "execution_count": 3,
   "id": "45001dcd-f3ad-47a6-ae7c-54b2af089579",
   "metadata": {},
   "outputs": [
    {
     "data": {
      "text/plain": [
       "['Hello', 'Jello', 'khello']"
      ]
     },
     "execution_count": 3,
     "metadata": {},
     "output_type": "execute_result"
    }
   ],
   "source": [
    "list2"
   ]
  },
  {
   "cell_type": "code",
   "execution_count": 4,
   "id": "c809e375-653f-4e42-9ec1-04b991555295",
   "metadata": {},
   "outputs": [
    {
     "data": {
      "text/plain": [
       "list"
      ]
     },
     "execution_count": 4,
     "metadata": {},
     "output_type": "execute_result"
    }
   ],
   "source": [
    "type(list1)"
   ]
  },
  {
   "cell_type": "code",
   "execution_count": 5,
   "id": "b68f9190-33d7-4101-9cb6-6ba5881c886d",
   "metadata": {},
   "outputs": [
    {
     "data": {
      "text/plain": [
       "list"
      ]
     },
     "execution_count": 5,
     "metadata": {},
     "output_type": "execute_result"
    }
   ],
   "source": [
    "type(list2)"
   ]
  },
  {
   "cell_type": "markdown",
   "id": "a1323493-191f-4520-8a68-d213f0fe7736",
   "metadata": {},
   "source": [
    "### Characteristics of Lists\n",
    "1. The lists are in order.\n",
    "2. The list element can be accessed via the index.\n",
    "3. The mutable type of list is.\n",
    "4. The rundowns are changeable sorts.\n",
    "5. The number of various elements can be stored in a list.ist."
   ]
  },
  {
   "cell_type": "code",
   "execution_count": 6,
   "id": "ae4d9ab7-1588-478c-a151-1869696a7af2",
   "metadata": {},
   "outputs": [
    {
     "data": {
      "text/plain": [
       "False"
      ]
     },
     "execution_count": 6,
     "metadata": {},
     "output_type": "execute_result"
    }
   ],
   "source": [
    "a = [ 1, 2, \"Ram\", 3.50, \"Rahul\", 5, 6 ]    \n",
    "b = [ 1, 2, 5, \"Ram\", 3.50, \"Rahul\", 6 ]    \n",
    "a == b    "
   ]
  },
  {
   "cell_type": "code",
   "execution_count": 8,
   "id": "b0cde3c0-4720-4093-8da7-7c2b2f817790",
   "metadata": {},
   "outputs": [
    {
     "name": "stdout",
     "output_type": "stream",
     "text": [
      "Name : pooja, Id : 102, Country : Bharat \n"
     ]
    }
   ],
   "source": [
    "emp = [\"pooja\",102,\"Bharat\"]\n",
    "print(\"Name : %s, Id : %d, Country : %s \" % (emp[0],emp[1],emp[2]))"
   ]
  },
  {
   "cell_type": "code",
   "execution_count": 9,
   "id": "e6333134-a7c1-4faa-b520-d3516923cff2",
   "metadata": {},
   "outputs": [
    {
     "name": "stdout",
     "output_type": "stream",
     "text": [
      "1\n",
      "2\n",
      "3\n",
      "4\n",
      "[1, 2, 3, 4, 5, 6]\n",
      "[1, 2, 3, 4, 5, 6, 7]\n",
      "[3, 4, 5]\n",
      "[2, 4, 6]\n"
     ]
    }
   ],
   "source": [
    "list = [1,2,3,4,5,6,7]    \n",
    "print(list[0])    \n",
    "print(list[1])    \n",
    "print(list[2])    \n",
    "print(list[3])    \n",
    "# Slicing the elements    \n",
    "print(list[0:6])    \n",
    "# By default, the index value is 0 so its \n",
    "# starts from the 0th element and go for index -1.    \n",
    "print(list[:])    \n",
    "print(list[2:5])    \n",
    "print(list[1:6:2])    "
   ]
  },
  {
   "cell_type": "code",
   "execution_count": 10,
   "id": "73398699-904c-4658-bc31-e18617607e55",
   "metadata": {},
   "outputs": [
    {
     "name": "stdout",
     "output_type": "stream",
     "text": [
      "5\n",
      "[3, 4, 5]\n",
      "[1, 2, 3, 4]\n",
      "[3, 4]\n"
     ]
    }
   ],
   "source": [
    "list = [1,2,3,4,5]    \n",
    "print(list[-1])    \n",
    "print(list[-3:])    \n",
    "print(list[:-1])    \n",
    "print(list[-3:-1])"
   ]
  },
  {
   "cell_type": "markdown",
   "id": "bdaa4a3c-0dd9-471d-81aa-9e123a7b376c",
   "metadata": {},
   "source": [
    "### Updating List Values\n",
    "    \n",
    "    Due to their mutability and the slice and assignment operator's ability to update their values, lists are Python's most adaptable data structure. \n",
    "    \n",
    "    Python's append() and insert() methods can also add values to a list."
   ]
  },
  {
   "cell_type": "code",
   "execution_count": 11,
   "id": "384ecfc7-ad10-45ec-a8c5-9eb9e95a1810",
   "metadata": {},
   "outputs": [],
   "source": [
    "list = [1,2,3,4,5]"
   ]
  },
  {
   "cell_type": "code",
   "execution_count": 12,
   "id": "01395c0f-6924-472e-979e-2620e62a4e6f",
   "metadata": {},
   "outputs": [
    {
     "data": {
      "text/plain": [
       "[1, 2, 3, 4, 5]"
      ]
     },
     "execution_count": 12,
     "metadata": {},
     "output_type": "execute_result"
    }
   ],
   "source": [
    "list"
   ]
  },
  {
   "cell_type": "code",
   "execution_count": 13,
   "id": "86c1ef2c-fc4d-464f-a5e9-438e112c8c69",
   "metadata": {},
   "outputs": [
    {
     "name": "stdout",
     "output_type": "stream",
     "text": [
      "[1, 2, 3, 4, 5]\n"
     ]
    }
   ],
   "source": [
    "print(list)"
   ]
  },
  {
   "cell_type": "code",
   "execution_count": 14,
   "id": "4217e9d6-cc6c-4fa0-b95a-bc43c2b223d2",
   "metadata": {},
   "outputs": [],
   "source": [
    "list[2] = 10"
   ]
  },
  {
   "cell_type": "code",
   "execution_count": 15,
   "id": "be247bb9-6305-41f0-97ed-ddff8c9d679b",
   "metadata": {},
   "outputs": [
    {
     "data": {
      "text/plain": [
       "[1, 2, 10, 4, 5]"
      ]
     },
     "execution_count": 15,
     "metadata": {},
     "output_type": "execute_result"
    }
   ],
   "source": [
    "list"
   ]
  },
  {
   "cell_type": "code",
   "execution_count": 16,
   "id": "ec31de99-8bf4-4061-8849-bf97ceaa7092",
   "metadata": {},
   "outputs": [],
   "source": [
    "list[1:3] = [45,67]"
   ]
  },
  {
   "cell_type": "code",
   "execution_count": 17,
   "id": "c076187a-d979-43a9-9b26-27ae657995e8",
   "metadata": {},
   "outputs": [
    {
     "data": {
      "text/plain": [
       "[1, 45, 67, 4, 5]"
      ]
     },
     "execution_count": 17,
     "metadata": {},
     "output_type": "execute_result"
    }
   ],
   "source": [
    "list"
   ]
  },
  {
   "cell_type": "code",
   "execution_count": 18,
   "id": "05c72ac0-3745-489f-b533-cff716c90eb6",
   "metadata": {},
   "outputs": [],
   "source": [
    "list[-1] = 786"
   ]
  },
  {
   "cell_type": "code",
   "execution_count": 19,
   "id": "d2e547f1-00e2-43d6-9fb5-baa108fa7350",
   "metadata": {},
   "outputs": [
    {
     "data": {
      "text/plain": [
       "[1, 45, 67, 4, 786]"
      ]
     },
     "execution_count": 19,
     "metadata": {},
     "output_type": "execute_result"
    }
   ],
   "source": [
    "list"
   ]
  },
  {
   "cell_type": "markdown",
   "id": "8ea49155-3e92-4e67-8a8e-04a295c756eb",
   "metadata": {},
   "source": [
    "### Python list operations\n",
    "    1.Repetition\n",
    "    2.Concatenation\n",
    "    3.Length\n",
    "    4.Iteration\n",
    "    5.Membership"
   ]
  },
  {
   "cell_type": "code",
   "execution_count": 20,
   "id": "9573f224-0e01-4375-b3f5-ad67e6f5bed2",
   "metadata": {},
   "outputs": [],
   "source": [
    "# Repetition of list\n",
    "list1 = [12,23,43,54]\n",
    "\n",
    "list2 = list1*2"
   ]
  },
  {
   "cell_type": "code",
   "execution_count": 21,
   "id": "0244f2b9-0902-4ecf-bb1b-42443ab80338",
   "metadata": {},
   "outputs": [
    {
     "data": {
      "text/plain": [
       "[12, 23, 43, 54, 12, 23, 43, 54]"
      ]
     },
     "execution_count": 21,
     "metadata": {},
     "output_type": "execute_result"
    }
   ],
   "source": [
    "list2"
   ]
  },
  {
   "cell_type": "code",
   "execution_count": 22,
   "id": "3aa5f0e1-2dec-4e23-9116-ca2eae799475",
   "metadata": {},
   "outputs": [
    {
     "data": {
      "text/plain": [
       "[12, 23, 43, 54, 12, 23, 43, 54, 12, 23, 43, 54]"
      ]
     },
     "execution_count": 22,
     "metadata": {},
     "output_type": "execute_result"
    }
   ],
   "source": [
    "# Concatenation\n",
    "list1 + list2"
   ]
  },
  {
   "cell_type": "code",
   "execution_count": 23,
   "id": "9cd455c4-58c1-4e8c-8856-282d5c7c9913",
   "metadata": {},
   "outputs": [
    {
     "name": "stdout",
     "output_type": "stream",
     "text": [
      "8\n"
     ]
    }
   ],
   "source": [
    "# length of list\n",
    "print(len(list2))"
   ]
  },
  {
   "cell_type": "code",
   "execution_count": 24,
   "id": "1438fb01-b6ce-41b4-899f-da1c19e7ed83",
   "metadata": {},
   "outputs": [
    {
     "data": {
      "text/plain": [
       "4"
      ]
     },
     "execution_count": 24,
     "metadata": {},
     "output_type": "execute_result"
    }
   ],
   "source": [
    "len(list1)"
   ]
  },
  {
   "cell_type": "code",
   "execution_count": 25,
   "id": "bf0a48e6-e3af-4e5b-ba43-010eb78d73ef",
   "metadata": {},
   "outputs": [
    {
     "data": {
      "text/plain": [
       "[12, 23, 43, 54]"
      ]
     },
     "execution_count": 25,
     "metadata": {},
     "output_type": "execute_result"
    }
   ],
   "source": [
    "# iteration\n",
    "\n",
    "list1"
   ]
  },
  {
   "cell_type": "code",
   "execution_count": 26,
   "id": "b3a9ea8e-af00-464f-8a5b-61087bb4141b",
   "metadata": {},
   "outputs": [
    {
     "name": "stdout",
     "output_type": "stream",
     "text": [
      "number : 12\n",
      "number : 23\n",
      "number : 43\n",
      "number : 54\n"
     ]
    }
   ],
   "source": [
    "for i in list1:\n",
    "    print(\"number :\",i)"
   ]
  },
  {
   "cell_type": "code",
   "execution_count": 27,
   "id": "44e6f6a9-67e0-4e73-beff-25f8a14d9b64",
   "metadata": {},
   "outputs": [
    {
     "name": "stdout",
     "output_type": "stream",
     "text": [
      "True\n"
     ]
    }
   ],
   "source": [
    "# Membership\n",
    "\n",
    "print(43 in list1)"
   ]
  },
  {
   "cell_type": "code",
   "execution_count": 28,
   "id": "898f655d-65b3-4741-9075-733c62bf9c09",
   "metadata": {},
   "outputs": [
    {
     "name": "stdout",
     "output_type": "stream",
     "text": [
      "False\n"
     ]
    }
   ],
   "source": [
    "print(50 in list1)"
   ]
  },
  {
   "cell_type": "markdown",
   "id": "0d3b3a9d-0b60-4079-a041-c75c42738fc9",
   "metadata": {},
   "source": [
    "### Adding Elements to the list\n",
    "    The append() function in Python can add a new item to the List. "
   ]
  },
  {
   "cell_type": "code",
   "execution_count": 30,
   "id": "324e43b1-8db5-4e9f-940b-437c1bcb8146",
   "metadata": {},
   "outputs": [
    {
     "name": "stdin",
     "output_type": "stream",
     "text": [
      "Enter a number : 12\n",
      "Enter the item : sahil,muskan,rabina\n",
      "Enter the item : sahil\n",
      "Enter the item : muskan\n",
      "Enter the item : simaran\n",
      "Enter the item : roshani\n",
      "Enter the item : payal\n",
      "Enter the item : pooja\n",
      "Enter the item : aap\n",
      "Enter the item : me\n",
      "Enter the item : tum\n",
      "Enter the item : or\n",
      "Enter the item : lon\n"
     ]
    },
    {
     "name": "stdout",
     "output_type": "stream",
     "text": [
      "sahil,muskan,rabina sahil muskan simaran roshani payal pooja aap me tum or lon "
     ]
    }
   ],
   "source": [
    "list1 = []\n",
    "\n",
    "number = int(input(\"Enter a number :\"))\n",
    "\n",
    "for i in range(0,number):\n",
    "    list1.append(input(\"Enter the item :\"))\n",
    "\n",
    "for i in list1:\n",
    "    print(i,end= \" \")"
   ]
  },
  {
   "cell_type": "markdown",
   "id": "50b5e2d6-c94f-441a-bed5-5f262ba4b8c8",
   "metadata": {},
   "source": [
    "### Removing Elements from the list\n",
    "    The remove() function in Python can remove an element from the List. "
   ]
  },
  {
   "cell_type": "code",
   "execution_count": 31,
   "id": "d24cd693-9e83-4b0a-82cd-199dd8df2e07",
   "metadata": {},
   "outputs": [
    {
     "name": "stdout",
     "output_type": "stream",
     "text": [
      "Printing ofiginal list :\n",
      "0 1 2 3 4 "
     ]
    }
   ],
   "source": [
    "list1 = [0,1,2,3,4]\n",
    "print(\"Printing ofiginal list :\");\n",
    "for i in list1:\n",
    "    print(i,end=\" \")"
   ]
  },
  {
   "cell_type": "code",
   "execution_count": 33,
   "id": "2f7c4d6a-e61b-4048-9ae9-12e7654a1b40",
   "metadata": {},
   "outputs": [],
   "source": [
    "list1.remove(2)"
   ]
  },
  {
   "cell_type": "code",
   "execution_count": 34,
   "id": "d6938921-e64f-42f5-b2ba-c3cad3a6142b",
   "metadata": {},
   "outputs": [
    {
     "data": {
      "text/plain": [
       "[0, 1, 3, 4]"
      ]
     },
     "execution_count": 34,
     "metadata": {},
     "output_type": "execute_result"
    }
   ],
   "source": [
    "list1"
   ]
  },
  {
   "cell_type": "code",
   "execution_count": 35,
   "id": "4b9c7c61-0327-40db-a8f0-9d4108ccb1c6",
   "metadata": {},
   "outputs": [
    {
     "name": "stdout",
     "output_type": "stream",
     "text": [
      "0 1 3 4 "
     ]
    }
   ],
   "source": [
    "for i in list1:\n",
    "    print(i,end=\" \")"
   ]
  },
  {
   "cell_type": "markdown",
   "id": "b98edbff-38a3-4151-8463-7ce2ce120062",
   "metadata": {},
   "source": [
    "### Python list built-in functions\n",
    "\n",
    "    1. len()\n",
    "    2. max()\n",
    "    3. min()\n",
    "\n"
   ]
  },
  {
   "cell_type": "code",
   "execution_count": 37,
   "id": "50ba23f2-6919-458c-9741-079f49ef242c",
   "metadata": {},
   "outputs": [
    {
     "data": {
      "text/plain": [
       "[0, 1, 3, 4]"
      ]
     },
     "execution_count": 37,
     "metadata": {},
     "output_type": "execute_result"
    }
   ],
   "source": [
    "list1"
   ]
  },
  {
   "cell_type": "code",
   "execution_count": 38,
   "id": "44b6cbae-cd70-42f4-b8b8-8df865ae4024",
   "metadata": {},
   "outputs": [
    {
     "data": {
      "text/plain": [
       "4"
      ]
     },
     "execution_count": 38,
     "metadata": {},
     "output_type": "execute_result"
    }
   ],
   "source": [
    "len(list1)"
   ]
  },
  {
   "cell_type": "code",
   "execution_count": 39,
   "id": "f7bcb462-304b-49a5-9572-fdf296af05f6",
   "metadata": {},
   "outputs": [
    {
     "data": {
      "text/plain": [
       "4"
      ]
     },
     "execution_count": 39,
     "metadata": {},
     "output_type": "execute_result"
    }
   ],
   "source": [
    "max(list1)"
   ]
  },
  {
   "cell_type": "code",
   "execution_count": 40,
   "id": "f6f2e38b-185f-42b4-be51-872018498aaa",
   "metadata": {},
   "outputs": [
    {
     "data": {
      "text/plain": [
       "0"
      ]
     },
     "execution_count": 40,
     "metadata": {},
     "output_type": "execute_result"
    }
   ],
   "source": [
    "min(list1)"
   ]
  },
  {
   "cell_type": "markdown",
   "id": "ff897715-1c8e-422f-badf-52b8c5527bdc",
   "metadata": {},
   "source": [
    "#### Q.1 Create a program to eliminate the list's duplicate items."
   ]
  },
  {
   "cell_type": "code",
   "execution_count": 1,
   "id": "6f5039a9-ccb5-4234-b43f-79e74a3cada8",
   "metadata": {},
   "outputs": [
    {
     "name": "stdout",
     "output_type": "stream",
     "text": [
      "[1, 2, 3, 55, 98, 65, 13, 29]\n"
     ]
    }
   ],
   "source": [
    "list1 = [1,2,2,3,55,98,65,65,13,29]\n",
    "\n",
    "list2 = [];\n",
    "\n",
    "for i in list1:\n",
    "    if i not in list2:\n",
    "        list2.append(i)\n",
    "    print(list2)"
   ]
  },
  {
   "cell_type": "markdown",
   "id": "0698fe89-750c-40f4-ac83-e4e2dd89bdfc",
   "metadata": {},
   "source": [
    "#### Q.2 Compose a program to track down the amount of the component in the rundown."
   ]
  },
  {
   "cell_type": "code",
   "execution_count": 44,
   "id": "8307f15e-cbd5-4011-bb02-93426a23aed5",
   "metadata": {},
   "outputs": [
    {
     "name": "stdout",
     "output_type": "stream",
     "text": [
      "67\n"
     ]
    }
   ],
   "source": [
    "list1 = [3,4,5,9,10,12,24] \n",
    "sum = 0\n",
    "for i in list1:\n",
    "    sum += i\n",
    "print(sum)"
   ]
  },
  {
   "cell_type": "markdown",
   "id": "aea4b8bf-595a-4449-88cb-31b64e7fa7a9",
   "metadata": {},
   "source": [
    "#### Q.3 Compose the program to find the rundowns comprise of somewhere around one normal component.\n"
   ]
  },
  {
   "cell_type": "code",
   "execution_count": 46,
   "id": "926b5776-678e-4164-a1ae-de90de5793f3",
   "metadata": {},
   "outputs": [
    {
     "name": "stdout",
     "output_type": "stream",
     "text": [
      "The common element is : 3\n",
      "The common element is : 5\n",
      "The common element is : 6\n"
     ]
    }
   ],
   "source": [
    "list1 = [1,2,3,4,5,6]\n",
    "list2 = [7,8,6,5,3]\n",
    "\n",
    "for i in list1:\n",
    "    for j in list2:\n",
    "        if i == j:\n",
    "            print(\"The common element is :\",i)"
   ]
  },
  {
   "cell_type": "code",
   "execution_count": null,
   "id": "539315d3-b9ac-4812-80c1-ded9ecbd218f",
   "metadata": {},
   "outputs": [],
   "source": []
  }
 ],
 "metadata": {
  "kernelspec": {
   "display_name": "Python 3 (ipykernel)",
   "language": "python",
   "name": "python3"
  },
  "language_info": {
   "codemirror_mode": {
    "name": "ipython",
    "version": 3
   },
   "file_extension": ".py",
   "mimetype": "text/x-python",
   "name": "python",
   "nbconvert_exporter": "python",
   "pygments_lexer": "ipython3",
   "version": "3.12.1"
  }
 },
 "nbformat": 4,
 "nbformat_minor": 5
}
