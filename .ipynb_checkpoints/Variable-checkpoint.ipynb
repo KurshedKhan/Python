{
 "cells": [
  {
   "cell_type": "markdown",
   "id": "97a9fae2-0f64-4fd4-a859-a3230ba31824",
   "metadata": {},
   "source": [
    "# Python Variables \n",
    "\n",
    "1. A variable is the name given to a memory location.\n",
    "2. A value-holding Python variable is also known as an identifier.\n",
    "3. We do not need to specify its type in Python.\n",
    "4. Variable names must begin with a letter or an underscore,\n",
    "    but they can be a group of both letters and digits.\n",
    "5. The name of the variable should be written in lowercase.\n",
    "6. Both Rahul and rahul are distinct variables.(distinct ==> difference)"
   ]
  },
  {
   "cell_type": "markdown",
   "id": "02277de0-dd63-49fb-a1b7-af462206914f",
   "metadata": {},
   "source": []
  },
  {
   "cell_type": "markdown",
   "id": "84932bca-3192-4d46-b6c1-fddd91bd6935",
   "metadata": {},
   "source": [
    "# Identifier Naming\n",
    "\n",
    " ***Identifiers are things like variables. An Identifier is utilized to recognize the literals utilized in the program. The standards to name an identifier are given underneath.***\n",
    "\n",
    "1. The variable's first character must be an underscore or alphabet (_).\n",
    "2. \n",
    "Every one of the characters with the exception of the main person might be a letter set of lower-case(a-z), capitalized (A-Z), highlight, or digit (0-9)\n",
    "3. \r\n",
    "White space and special characters (!, @, #, %, etc.) are not allowed in the identifier name. ^, &, *\n",
    "4. e.\r\n",
    "Names of identifiers are case-sensitive; for instance, my name, and MyName isn't something very simil5. ar.\r\n",
    "Examples of valid identifiers: a123, _n, n_9, 6. etc.\r\n",
    "Examples of invalid identifiers: 1a, n%4, n 9, etc."
   ]
  },
  {
   "cell_type": "markdown",
   "id": "fe1c3349-f594-43cd-9a3f-bf998b9f3746",
   "metadata": {},
   "source": [
    "# Declaring Variable and Assigning Values\n",
    "\n",
    "***The equal (=) operator is utilized to assign worth to a variable.***"
   ]
  },
  {
   "cell_type": "code",
   "execution_count": 1,
   "id": "02302240-243c-457a-b294-3c438198f867",
   "metadata": {},
   "outputs": [
    {
     "name": "stdout",
     "output_type": "stream",
     "text": [
      "10\n"
     ]
    }
   ],
   "source": [
    "print(10)"
   ]
  },
  {
   "cell_type": "code",
   "execution_count": 2,
   "id": "449ccb9d-7e55-4a06-af82-84ecf0a450c2",
   "metadata": {},
   "outputs": [
    {
     "data": {
      "text/plain": [
       "int"
      ]
     },
     "execution_count": 2,
     "metadata": {},
     "output_type": "execute_result"
    }
   ],
   "source": [
    "type(10)"
   ]
  },
  {
   "cell_type": "code",
   "execution_count": 3,
   "id": "44773633-7bef-40e4-8665-92c64458ff53",
   "metadata": {},
   "outputs": [
    {
     "name": "stdout",
     "output_type": "stream",
     "text": [
      "Kurshed Khan\n"
     ]
    }
   ],
   "source": [
    "print(\"Kurshed Khan\")"
   ]
  },
  {
   "cell_type": "code",
   "execution_count": 4,
   "id": "fffcd471-9958-4d66-9048-330034fa6da7",
   "metadata": {},
   "outputs": [
    {
     "data": {
      "text/plain": [
       "str"
      ]
     },
     "execution_count": 4,
     "metadata": {},
     "output_type": "execute_result"
    }
   ],
   "source": [
    "type(\"Kurshed Khan\")"
   ]
  },
  {
   "cell_type": "code",
   "execution_count": 5,
   "id": "3979c465-ac8e-4862-af5c-f0930c28fbb9",
   "metadata": {},
   "outputs": [],
   "source": [
    "a = 10"
   ]
  },
  {
   "cell_type": "code",
   "execution_count": 6,
   "id": "8d14dca5-0979-4378-b038-ca39f3df8368",
   "metadata": {},
   "outputs": [
    {
     "data": {
      "text/plain": [
       "10"
      ]
     },
     "execution_count": 6,
     "metadata": {},
     "output_type": "execute_result"
    }
   ],
   "source": [
    "a"
   ]
  },
  {
   "cell_type": "markdown",
   "id": "de435c8d-7687-4f95-a2da-af0bd39e73e1",
   "metadata": {},
   "source": [
    "### In the above image, the variable a refers to an integer object."
   ]
  },
  {
   "cell_type": "markdown",
   "id": "e3959291-27ef-469f-bc8a-dbfd56909d51",
   "metadata": {},
   "source": [
    "### Suppose we assign the integer value 50 to a new variable b."
   ]
  },
  {
   "cell_type": "code",
   "execution_count": 7,
   "id": "89c7ba8e-9f06-48f6-ba66-4aa6912159fa",
   "metadata": {},
   "outputs": [],
   "source": [
    "b = a"
   ]
  },
  {
   "cell_type": "code",
   "execution_count": 8,
   "id": "70c6a9e3-ee0d-449b-9394-fb3b524ae9b3",
   "metadata": {},
   "outputs": [
    {
     "data": {
      "text/plain": [
       "10"
      ]
     },
     "execution_count": 8,
     "metadata": {},
     "output_type": "execute_result"
    }
   ],
   "source": [
    "b"
   ]
  },
  {
   "cell_type": "code",
   "execution_count": 9,
   "id": "0bbecf07-dfdd-4daa-af25-d53421faeada",
   "metadata": {},
   "outputs": [
    {
     "name": "stdout",
     "output_type": "stream",
     "text": [
      "140716379261656\n"
     ]
    }
   ],
   "source": [
    "print(id(a))"
   ]
  },
  {
   "cell_type": "code",
   "execution_count": 10,
   "id": "a316e631-3b63-4527-83ba-d201d481a2f9",
   "metadata": {},
   "outputs": [
    {
     "name": "stdout",
     "output_type": "stream",
     "text": [
      "140716379261656\n"
     ]
    }
   ],
   "source": [
    "print(id(b))"
   ]
  },
  {
   "cell_type": "code",
   "execution_count": 11,
   "id": "012595da-e429-4e62-aaf3-0d82ba91f954",
   "metadata": {},
   "outputs": [],
   "source": [
    "b = 100"
   ]
  },
  {
   "cell_type": "code",
   "execution_count": 12,
   "id": "fc6f43dd-2afd-4206-af89-a0a47ae5a35b",
   "metadata": {},
   "outputs": [
    {
     "name": "stdout",
     "output_type": "stream",
     "text": [
      "140716379264536\n"
     ]
    }
   ],
   "source": [
    "print(id(b))"
   ]
  },
  {
   "cell_type": "code",
   "execution_count": 13,
   "id": "66a351c1-c76c-4f73-9054-b7c38f845741",
   "metadata": {},
   "outputs": [],
   "source": [
    "name = \"Kurshed Khan\""
   ]
  },
  {
   "cell_type": "code",
   "execution_count": 14,
   "id": "2f9860af-8a79-4ce2-83fd-6e66ed8e928b",
   "metadata": {},
   "outputs": [
    {
     "data": {
      "text/plain": [
       "'Kurshed Khan'"
      ]
     },
     "execution_count": 14,
     "metadata": {},
     "output_type": "execute_result"
    }
   ],
   "source": [
    "name"
   ]
  },
  {
   "cell_type": "code",
   "execution_count": 15,
   "id": "dd8f9f7e-897a-4c84-87e7-b9f8cb691969",
   "metadata": {},
   "outputs": [],
   "source": [
    "age = 21"
   ]
  },
  {
   "cell_type": "code",
   "execution_count": 16,
   "id": "f226c702-3228-4a16-bc3d-cf9f8632d5d6",
   "metadata": {},
   "outputs": [
    {
     "data": {
      "text/plain": [
       "21"
      ]
     },
     "execution_count": 16,
     "metadata": {},
     "output_type": "execute_result"
    }
   ],
   "source": [
    "age"
   ]
  },
  {
   "cell_type": "code",
   "execution_count": 17,
   "id": "e49fd6c5-710c-4bc8-9ceb-547d8a889957",
   "metadata": {},
   "outputs": [],
   "source": [
    "marks = 80.20"
   ]
  },
  {
   "cell_type": "code",
   "execution_count": 18,
   "id": "f616fe9b-2780-4705-a1ad-cd2bb23da8e1",
   "metadata": {},
   "outputs": [
    {
     "data": {
      "text/plain": [
       "80.2"
      ]
     },
     "execution_count": 18,
     "metadata": {},
     "output_type": "execute_result"
    }
   ],
   "source": [
    "marks"
   ]
  },
  {
   "cell_type": "code",
   "execution_count": 19,
   "id": "4907c8a9-082b-40fa-8fc5-d623fcbdbe77",
   "metadata": {},
   "outputs": [
    {
     "data": {
      "text/plain": [
       "80.2"
      ]
     },
     "execution_count": 19,
     "metadata": {},
     "output_type": "execute_result"
    }
   ],
   "source": [
    "name\n",
    "age\n",
    "marks"
   ]
  },
  {
   "cell_type": "code",
   "execution_count": 21,
   "id": "e7a5591a-27d3-4526-b51f-e61371b0609e",
   "metadata": {},
   "outputs": [
    {
     "name": "stdout",
     "output_type": "stream",
     "text": [
      "Kurshed Khan 21 80.2\n"
     ]
    }
   ],
   "source": [
    "print(name,age,marks)"
   ]
  },
  {
   "cell_type": "code",
   "execution_count": 22,
   "id": "5ca5c7b8-896d-483b-9f2a-b2de5434982d",
   "metadata": {},
   "outputs": [],
   "source": [
    "name = \"A\"  \n",
    "Name = \"B\"  \n",
    "naMe = \"C\"  \n",
    "NAME = \"D\"  \n",
    "n_a_m_e = \"E\"  \n",
    "_name = \"F\"  \n",
    "name_ = \"G\"  \n",
    "_name_ = \"H\"  \n",
    "na56me = \"I\"  "
   ]
  },
  {
   "cell_type": "code",
   "execution_count": 23,
   "id": "bd5228e4-3a90-4a39-ae3d-1f86ef9c5935",
   "metadata": {},
   "outputs": [
    {
     "data": {
      "text/plain": [
       "'A'"
      ]
     },
     "execution_count": 23,
     "metadata": {},
     "output_type": "execute_result"
    }
   ],
   "source": [
    "name"
   ]
  },
  {
   "cell_type": "code",
   "execution_count": 24,
   "id": "fb41b666-2f57-4f6f-8707-5cb728eafc4e",
   "metadata": {},
   "outputs": [
    {
     "name": "stdout",
     "output_type": "stream",
     "text": [
      "A B C D E D E F G F I\n"
     ]
    }
   ],
   "source": [
    "print(name,Name,naMe,NAME,n_a_m_e, NAME, n_a_m_e, _name, name_,_name, na56me) "
   ]
  },
  {
   "cell_type": "markdown",
   "id": "f1fc6cdf-8591-471e-bab5-092237de6722",
   "metadata": {},
   "source": [
    "## The multi-word keywords can be created by the following method.\n",
    "\n",
    "1. ***Camel Case*** - In the camel case, each word or abbreviation in the middle of begins with a capital letter. There is no intervention of whitespace. For example - nameOfStudent, valueOfVaraible, etc.\n",
    "\n",
    "2. ***Pascal Case*** - It is the same as the Camel Case, but here the first word is also capital. For example NameOfStudent, etc.\n",
    "3. ***Snake Case*** - In the snake case, Words are separated by the underscore. For example - name_of_student, etc."
   ]
  },
  {
   "cell_type": "markdown",
   "id": "e401fc6c-104b-4abe-a2f6-c469a5fdce43",
   "metadata": {},
   "source": [
    "# Multiple Assignment\n",
    "***Multiple assignments, also known as assigning values to multiple variables in a single statement, is a feature of Python.***"
   ]
  },
  {
   "cell_type": "markdown",
   "id": "517d5ca5-d58f-487e-b2fa-e1c79a514d15",
   "metadata": {},
   "source": [
    "### Assigning single value to multiple variables"
   ]
  },
  {
   "cell_type": "code",
   "execution_count": 25,
   "id": "1e04f684-7ea6-48db-b181-1249275e919d",
   "metadata": {},
   "outputs": [],
   "source": [
    "x = y = z = 50"
   ]
  },
  {
   "cell_type": "code",
   "execution_count": 26,
   "id": "bee0daf5-336f-4add-bcef-566dc274b8ea",
   "metadata": {},
   "outputs": [
    {
     "data": {
      "text/plain": [
       "50"
      ]
     },
     "execution_count": 26,
     "metadata": {},
     "output_type": "execute_result"
    }
   ],
   "source": [
    "x"
   ]
  },
  {
   "cell_type": "code",
   "execution_count": 27,
   "id": "779b1d03-2f65-4416-b4d0-804a3c9846ee",
   "metadata": {},
   "outputs": [
    {
     "data": {
      "text/plain": [
       "50"
      ]
     },
     "execution_count": 27,
     "metadata": {},
     "output_type": "execute_result"
    }
   ],
   "source": [
    "y"
   ]
  },
  {
   "cell_type": "code",
   "execution_count": 28,
   "id": "7a759719-91ef-4a7e-820d-a95fdbdd5f09",
   "metadata": {},
   "outputs": [
    {
     "data": {
      "text/plain": [
       "50"
      ]
     },
     "execution_count": 28,
     "metadata": {},
     "output_type": "execute_result"
    }
   ],
   "source": [
    "z"
   ]
  },
  {
   "cell_type": "markdown",
   "id": "66fe5c41-8f47-4983-a89e-b43b31facbf9",
   "metadata": {},
   "source": [
    "### Assigning multiple values to multiple variables"
   ]
  },
  {
   "cell_type": "code",
   "execution_count": 29,
   "id": "64a23aed-59ce-45dc-b7da-f34f260383e7",
   "metadata": {},
   "outputs": [],
   "source": [
    "x,y,z = 10,20,30"
   ]
  },
  {
   "cell_type": "code",
   "execution_count": 30,
   "id": "97f9541e-b2c7-4a9a-aa80-83e5edb87595",
   "metadata": {},
   "outputs": [
    {
     "data": {
      "text/plain": [
       "20"
      ]
     },
     "execution_count": 30,
     "metadata": {},
     "output_type": "execute_result"
    }
   ],
   "source": [
    "y"
   ]
  },
  {
   "cell_type": "code",
   "execution_count": 31,
   "id": "2b9f9e5b-b539-4c2a-94f2-2c40a342b8c2",
   "metadata": {},
   "outputs": [
    {
     "data": {
      "text/plain": [
       "30"
      ]
     },
     "execution_count": 31,
     "metadata": {},
     "output_type": "execute_result"
    }
   ],
   "source": [
    "z"
   ]
  },
  {
   "cell_type": "code",
   "execution_count": null,
   "id": "e6968e50-868a-47a5-ae6f-e1e9ea570de0",
   "metadata": {},
   "outputs": [],
   "source": []
  }
 ],
 "metadata": {
  "kernelspec": {
   "display_name": "Python 3 (ipykernel)",
   "language": "python",
   "name": "python3"
  },
  "language_info": {
   "codemirror_mode": {
    "name": "ipython",
    "version": 3
   },
   "file_extension": ".py",
   "mimetype": "text/x-python",
   "name": "python",
   "nbconvert_exporter": "python",
   "pygments_lexer": "ipython3",
   "version": "3.12.0"
  }
 },
 "nbformat": 4,
 "nbformat_minor": 5
}
