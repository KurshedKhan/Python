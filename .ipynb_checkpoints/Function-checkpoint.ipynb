{
 "cells": [
  {
   "cell_type": "markdown",
   "id": "46323d5e-cb2e-475f-b1cb-2c1838decfe5",
   "metadata": {},
   "source": [
    "# Python Functions\n",
    "\n",
    "    A collection of related assertions that carry out a mathematical, analytical, or evaluative operation is known as a function.\n",
    "\n",
    "        A collection of related assertions that carry out a mathematical, analytical, or evaluative operation is known as a function.\n",
    "\n",
    "        Instead of repeatedly creating the same code block for various input variables, we can call the function and reuse the code it contains with different variables. "
   ]
  },
  {
   "cell_type": "markdown",
   "id": "b1bf6f81-61ff-4c57-b936-31b87f8f8ea0",
   "metadata": {},
   "source": [
    "### Advantages of python functions\n",
    "\n",
    "    1. Pause We can stop a program from repeatedly using the same code block by including functions.\n",
    "\n",
    "    2. Once defined, Python functions can be called multiple times and from any location in a program.\n",
    "\n",
    "    3. Our Python program can be broken up into numerous, easy-to-follow functions if it is significant\n",
    "\n",
    "    4. The ability to return as many outputs as we want using a variety of arguments is one of Python's most significant achievements.\n",
    "\n",
    "    5.However, calling functions has always been overhead in a Python program."
   ]
  },
  {
   "cell_type": "code",
   "execution_count": null,
   "id": "61d37751-3b24-420f-8f95-fd612010edca",
   "metadata": {},
   "outputs": [],
   "source": []
  }
 ],
 "metadata": {
  "kernelspec": {
   "display_name": "Python 3 (ipykernel)",
   "language": "python",
   "name": "python3"
  },
  "language_info": {
   "codemirror_mode": {
    "name": "ipython",
    "version": 3
   },
   "file_extension": ".py",
   "mimetype": "text/x-python",
   "name": "python",
   "nbconvert_exporter": "python",
   "pygments_lexer": "ipython3",
   "version": "3.12.0"
  }
 },
 "nbformat": 4,
 "nbformat_minor": 5
}
