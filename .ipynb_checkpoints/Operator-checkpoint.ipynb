{
 "cells": [
  {
   "cell_type": "markdown",
   "id": "cc9b6ef4-74c7-4c69-8f1e-2eb525a92270",
   "metadata": {},
   "source": [
    "# Python Operators\n",
    "1. **The operator is a symbol that performs a specific operation between two operands, according to one definition.**\n",
    "2. **Operators serve as the foundation upon which logic is constructed in a program in a particular programming language**"
   ]
  },
  {
   "cell_type": "markdown",
   "id": "4fac441b-fdd9-4aeb-ab01-499bd32c29e9",
   "metadata": {},
   "source": [
    "**Python also has some operators, and these are given below -**\n",
    "\n",
    "1. Arithmetic operators\n",
    "2. Comparison operators\n",
    "3. Assignment Operators\n",
    "4. Logical Operators\n",
    "5. Bitwise Operators\n",
    "6. Membership Operators\n",
    "7. Identity Operators\n",
    "8. Arithmetic Operators"
   ]
  },
  {
   "cell_type": "markdown",
   "id": "02fa9b5b-6916-4674-b461-132dd2272cba",
   "metadata": {},
   "source": [
    "### Arithmetic operators\n",
    "1. Arithmetic operators used between two operands for a particular operation.\n",
    "2. There are many arithmetic operators.\n",
    "3. It includes the exponent (**) operator as well as the + (addition), - (subtraction), * (multiplication), / (divide), % (reminder), and // (floor division) operators."
   ]
  },
  {
   "cell_type": "markdown",
   "id": "18f67276-eb2f-41e3-80e1-2280511c8f18",
   "metadata": {},
   "source": [
    "#### Addition(+)\n",
    "1. It is used to add two operands. \n",
    "2. For example, if a = 10, b = 10 => a+b = 20"
   ]
  },
  {
   "cell_type": "code",
   "execution_count": 1,
   "id": "ea17d826-0134-4e75-b8ee-f9be43e234a8",
   "metadata": {},
   "outputs": [],
   "source": [
    "a = 10"
   ]
  },
  {
   "cell_type": "code",
   "execution_count": 2,
   "id": "26a2aef0-f331-42eb-9d7a-a5af65d562a3",
   "metadata": {},
   "outputs": [
    {
     "data": {
      "text/plain": [
       "10"
      ]
     },
     "execution_count": 2,
     "metadata": {},
     "output_type": "execute_result"
    }
   ],
   "source": [
    "a"
   ]
  },
  {
   "cell_type": "code",
   "execution_count": 3,
   "id": "43e8d300-6ba3-4874-89a5-1c74c5804fd6",
   "metadata": {},
   "outputs": [],
   "source": [
    "b = 20"
   ]
  },
  {
   "cell_type": "code",
   "execution_count": 4,
   "id": "0809b24f-d76a-41f4-a98c-d31578f9c9f0",
   "metadata": {},
   "outputs": [
    {
     "data": {
      "text/plain": [
       "20"
      ]
     },
     "execution_count": 4,
     "metadata": {},
     "output_type": "execute_result"
    }
   ],
   "source": [
    "b"
   ]
  },
  {
   "cell_type": "code",
   "execution_count": 5,
   "id": "b04fd359-e71f-4bf7-9886-91f65e5625f6",
   "metadata": {},
   "outputs": [
    {
     "data": {
      "text/plain": [
       "30"
      ]
     },
     "execution_count": 5,
     "metadata": {},
     "output_type": "execute_result"
    }
   ],
   "source": [
    "a + b"
   ]
  },
  {
   "cell_type": "code",
   "execution_count": 6,
   "id": "8d4853af-fb84-47c6-b4c3-777ec874a14c",
   "metadata": {},
   "outputs": [
    {
     "name": "stdout",
     "output_type": "stream",
     "text": [
      "Addition of two value : 30\n"
     ]
    }
   ],
   "source": [
    "print(\"Addition of two value :\",a+b)"
   ]
  },
  {
   "cell_type": "markdown",
   "id": "dad27b61-282f-4ab8-8001-ee6c3fdcac32",
   "metadata": {},
   "source": [
    "#### Subtraction(-)\n",
    "1. It is used to subtract the second operand from the first operand. \n",
    "2. If the first operand is less than the second operand, the value results negative.\n",
    "3. For example, if a = 20, b = 5 => a - b = 15"
   ]
  },
  {
   "cell_type": "code",
   "execution_count": 7,
   "id": "6f956f92-22c1-435c-b6a7-436d137108fe",
   "metadata": {},
   "outputs": [],
   "source": [
    "a = 20"
   ]
  },
  {
   "cell_type": "code",
   "execution_count": 8,
   "id": "07bf2086-342f-492b-9af7-8eae7f74d173",
   "metadata": {},
   "outputs": [],
   "source": [
    "b = 30"
   ]
  },
  {
   "cell_type": "code",
   "execution_count": 9,
   "id": "eac8db99-3027-42e5-a300-098190a6ad4e",
   "metadata": {},
   "outputs": [
    {
     "name": "stdout",
     "output_type": "stream",
     "text": [
      "Subtraction of two value : 10\n"
     ]
    }
   ],
   "source": [
    "print(\"Subtraction of two value :\",b-a)"
   ]
  },
  {
   "cell_type": "markdown",
   "id": "02d283be-7cd5-4dae-b2da-b885a313f1f3",
   "metadata": {},
   "source": [
    "#### Divide(/)\n",
    "1. It returns the quotient after dividing the first operand by the second operand.\n",
    "2. For example, if a = 20, b = 10 => a/b = 2.0"
   ]
  },
  {
   "cell_type": "code",
   "execution_count": 10,
   "id": "b653ee0e-44e6-4d6e-9382-4ba0a2ba141d",
   "metadata": {},
   "outputs": [],
   "source": [
    "a = 32"
   ]
  },
  {
   "cell_type": "code",
   "execution_count": 11,
   "id": "e3d65297-aece-4982-8bce-99c1cd5f7927",
   "metadata": {},
   "outputs": [],
   "source": [
    "b = 6"
   ]
  },
  {
   "cell_type": "code",
   "execution_count": 12,
   "id": "1184fe4e-9ce5-4611-9876-b5ec5630b980",
   "metadata": {},
   "outputs": [
    {
     "name": "stdout",
     "output_type": "stream",
     "text": [
      "Division of two value : 0.1875\n"
     ]
    }
   ],
   "source": [
    "print(\"Division of two value :\",b/a)"
   ]
  },
  {
   "cell_type": "code",
   "execution_count": 13,
   "id": "034cb13f-d0e3-432a-9e4a-23c9827f2b61",
   "metadata": {},
   "outputs": [
    {
     "name": "stdout",
     "output_type": "stream",
     "text": [
      "Division of two value : 5.333333333333333\n"
     ]
    }
   ],
   "source": [
    "print(\"Division of two value :\",a/b)"
   ]
  },
  {
   "cell_type": "markdown",
   "id": "ceccf851-366b-4115-a412-e942b9f7a06b",
   "metadata": {},
   "source": [
    "#### Multiplication(*) \n",
    "1. It is used to multiply one operand with the other.\n",
    "2. For example, if a = 20, b = 4 => a * b = 80"
   ]
  },
  {
   "cell_type": "code",
   "execution_count": 14,
   "id": "37c59c89-828a-4f66-bb5d-8641d981cb9c",
   "metadata": {},
   "outputs": [],
   "source": [
    "a = 23"
   ]
  },
  {
   "cell_type": "code",
   "execution_count": 15,
   "id": "84fcfe34-9b76-439a-8041-c3e780462d35",
   "metadata": {},
   "outputs": [],
   "source": [
    "b = 34"
   ]
  },
  {
   "cell_type": "code",
   "execution_count": 16,
   "id": "f2657592-78d0-4f11-94cd-d62f7f882727",
   "metadata": {},
   "outputs": [
    {
     "data": {
      "text/plain": [
       "782"
      ]
     },
     "execution_count": 16,
     "metadata": {},
     "output_type": "execute_result"
    }
   ],
   "source": [
    "a*b"
   ]
  },
  {
   "cell_type": "markdown",
   "id": "75dd4738-a4b0-4cfd-be38-f475c6662f59",
   "metadata": {},
   "source": [
    "#### Reminder(%)\n",
    "1. It returns the reminder after dividing the first operand by the second operand.\n",
    "2. For example, if a = 20, b = 10 => a%b = 0"
   ]
  },
  {
   "cell_type": "code",
   "execution_count": 17,
   "id": "8deb8606-9132-4118-a240-3c03da30d243",
   "metadata": {},
   "outputs": [],
   "source": [
    "a = 20"
   ]
  },
  {
   "cell_type": "code",
   "execution_count": 18,
   "id": "f96ce6cb-f066-41c5-820e-daaf02e82c79",
   "metadata": {},
   "outputs": [],
   "source": [
    "b = 10"
   ]
  },
  {
   "cell_type": "code",
   "execution_count": 19,
   "id": "b1c6f3f0-f14f-4442-8d3d-a1c0a17ae546",
   "metadata": {},
   "outputs": [
    {
     "data": {
      "text/plain": [
       "0"
      ]
     },
     "execution_count": 19,
     "metadata": {},
     "output_type": "execute_result"
    }
   ],
   "source": [
    "a%b"
   ]
  },
  {
   "cell_type": "markdown",
   "id": "5428454c-5a86-4dca-b970-63486ca7225b",
   "metadata": {},
   "source": [
    "#### Exponent(**)\n",
    "1. As it calculates the first operand's power to the second operand,\n",
    "2. it is an exponent operator."
   ]
  },
  {
   "cell_type": "code",
   "execution_count": 20,
   "id": "e97f6bb7-e5a3-4340-ab61-2e2b24326511",
   "metadata": {},
   "outputs": [],
   "source": [
    "a = 5"
   ]
  },
  {
   "cell_type": "code",
   "execution_count": 21,
   "id": "8f452d9b-650a-4a57-b82d-9c018664694c",
   "metadata": {},
   "outputs": [],
   "source": [
    "b = 2"
   ]
  },
  {
   "cell_type": "code",
   "execution_count": 22,
   "id": "9787cd3f-3bd3-4e99-8bb1-e633a627de84",
   "metadata": {},
   "outputs": [
    {
     "data": {
      "text/plain": [
       "25"
      ]
     },
     "execution_count": 22,
     "metadata": {},
     "output_type": "execute_result"
    }
   ],
   "source": [
    "a**b"
   ]
  },
  {
   "cell_type": "markdown",
   "id": "644a260b-7e24-49d4-9b02-d03d03f288a0",
   "metadata": {},
   "source": [
    "#### Floor Division(//)\n",
    "1. \tIt provides the quotient's floor value, which is obtained by dividing the two operands."
   ]
  },
  {
   "cell_type": "code",
   "execution_count": 23,
   "id": "7a17ece9-c270-4b4c-a8d5-69f0d449085e",
   "metadata": {},
   "outputs": [],
   "source": [
    "a,b = 22,7"
   ]
  },
  {
   "cell_type": "code",
   "execution_count": 24,
   "id": "925ddc77-7b5b-48cc-b726-329132399e7f",
   "metadata": {},
   "outputs": [
    {
     "data": {
      "text/plain": [
       "3"
      ]
     },
     "execution_count": 24,
     "metadata": {},
     "output_type": "execute_result"
    }
   ],
   "source": [
    "a//b"
   ]
  },
  {
   "cell_type": "code",
   "execution_count": 25,
   "id": "b396592d-0ead-48a1-9d00-9322eb8956ce",
   "metadata": {},
   "outputs": [
    {
     "data": {
      "text/plain": [
       "3.142857142857143"
      ]
     },
     "execution_count": 25,
     "metadata": {},
     "output_type": "execute_result"
    }
   ],
   "source": [
    "a/b"
   ]
  },
  {
   "cell_type": "markdown",
   "id": "a1a49204-4160-4269-a381-3ed97949535d",
   "metadata": {},
   "source": [
    "### Comparison operator\n",
    "1. Comparison operators mainly use for comparison purposes.\n",
    "2. Comparison operators compare the values of the two operands and return a true or false Boolean value in accordance.\n",
    "3. The example of comparison operators are ==, !=, <=, >=, >, <."
   ]
  },
  {
   "cell_type": "markdown",
   "id": "67a48365-1a68-492c-841a-f287bbc8aafe",
   "metadata": {},
   "source": [
    "#### ==(equal to) Operator\n",
    "1. If the value of two operands is equal, then the condition becomes ture."
   ]
  },
  {
   "cell_type": "code",
   "execution_count": 26,
   "id": "f921c6f6-6fa5-4845-b73a-ceca69c06427",
   "metadata": {},
   "outputs": [],
   "source": [
    "a = 10"
   ]
  },
  {
   "cell_type": "code",
   "execution_count": 27,
   "id": "628ee78b-851a-4283-a0a8-5253ce4aceca",
   "metadata": {},
   "outputs": [],
   "source": [
    "b = 10"
   ]
  },
  {
   "cell_type": "code",
   "execution_count": 28,
   "id": "bd71f68d-d3ed-42f0-bdc1-aca86c4d5c41",
   "metadata": {},
   "outputs": [
    {
     "data": {
      "text/plain": [
       "True"
      ]
     },
     "execution_count": 28,
     "metadata": {},
     "output_type": "execute_result"
    }
   ],
   "source": [
    "a == b"
   ]
  },
  {
   "cell_type": "markdown",
   "id": "deea17d2-9910-4786-bddf-3d5d95b666cd",
   "metadata": {},
   "source": [
    "#### !=(not equal to) operators\n",
    "1. If the value of two operands is not equal, then the condition becomes true."
   ]
  },
  {
   "cell_type": "code",
   "execution_count": 29,
   "id": "9a8b45ba-d7f7-41b1-aa2f-760cee20db69",
   "metadata": {},
   "outputs": [
    {
     "data": {
      "text/plain": [
       "False"
      ]
     },
     "execution_count": 29,
     "metadata": {},
     "output_type": "execute_result"
    }
   ],
   "source": [
    "a != b"
   ]
  },
  {
   "cell_type": "markdown",
   "id": "2aadafce-00d0-45bf-9e0f-376e0a8ec060",
   "metadata": {},
   "source": [
    "### <=(less than equal to)\n",
    "1. The condition is met if the first operand is smaller than or equal to the second operand."
   ]
  },
  {
   "cell_type": "code",
   "execution_count": 30,
   "id": "19d3e0f4-60b2-4523-8d30-4da038173bb4",
   "metadata": {},
   "outputs": [
    {
     "data": {
      "text/plain": [
       "True"
      ]
     },
     "execution_count": 30,
     "metadata": {},
     "output_type": "execute_result"
    }
   ],
   "source": [
    "a <=b"
   ]
  },
  {
   "cell_type": "markdown",
   "id": "81bff015-1fba-43d5-a7f4-ae641a5c4a29",
   "metadata": {},
   "source": [
    "#### >=(greater than equal to) operators\n",
    "1. The condition is met if the first operand is greater than or equal to the second operand."
   ]
  },
  {
   "cell_type": "code",
   "execution_count": 31,
   "id": "638131a4-d015-4854-aefa-72fd55fc5984",
   "metadata": {},
   "outputs": [
    {
     "data": {
      "text/plain": [
       "True"
      ]
     },
     "execution_count": 31,
     "metadata": {},
     "output_type": "execute_result"
    }
   ],
   "source": [
    "a >= b"
   ]
  },
  {
   "cell_type": "markdown",
   "id": "a0a56c17-8242-4c6b-8998-98b6f4ef8a33",
   "metadata": {},
   "source": [
    "#### >(Greater than) Operator\n",
    "1. If the first operand is greater than the second operand, then the condition becomes true."
   ]
  },
  {
   "cell_type": "code",
   "execution_count": 32,
   "id": "5a8a1c82-ec66-4576-86ec-d2be369fb4b4",
   "metadata": {},
   "outputs": [
    {
     "data": {
      "text/plain": [
       "False"
      ]
     },
     "execution_count": 32,
     "metadata": {},
     "output_type": "execute_result"
    }
   ],
   "source": [
    "a > b"
   ]
  },
  {
   "cell_type": "markdown",
   "id": "ead8ba95-aa46-49a5-904f-a20f9318c421",
   "metadata": {},
   "source": [
    "#### <(less than) Operator\n",
    "1. If the first operand is less than the second operand, then the condition becomes true."
   ]
  },
  {
   "cell_type": "code",
   "execution_count": 33,
   "id": "144c8400-95a1-4896-9dbd-5488a642ee92",
   "metadata": {},
   "outputs": [
    {
     "data": {
      "text/plain": [
       "False"
      ]
     },
     "execution_count": 33,
     "metadata": {},
     "output_type": "execute_result"
    }
   ],
   "source": [
    "a < b"
   ]
  },
  {
   "cell_type": "markdown",
   "id": "d25eb60e-4da9-47f0-876e-eafe1bf70bbc",
   "metadata": {},
   "source": [
    "### Assignment Operators\n",
    "1. Using the assignment operators, the right expression's value is assigned to the left operand.\n",
    "2. There are some examples of assignment operators like =, +=, -=, *=, %=, **=, //=. "
   ]
  },
  {
   "cell_type": "markdown",
   "id": "a9842549-de4a-4a17-bf8d-2847df626c5d",
   "metadata": {},
   "source": [
    "#### =(Assign)\n",
    "1. It assigns the value of the right expression to the left operand."
   ]
  },
  {
   "cell_type": "code",
   "execution_count": 34,
   "id": "76b49db2-fc2d-4d57-a556-d5a57d36fc29",
   "metadata": {},
   "outputs": [],
   "source": [
    "a = 10"
   ]
  },
  {
   "cell_type": "code",
   "execution_count": 35,
   "id": "363a1909-fc8d-4121-8f5f-a3e7796d29e6",
   "metadata": {},
   "outputs": [
    {
     "data": {
      "text/plain": [
       "10"
      ]
     },
     "execution_count": 35,
     "metadata": {},
     "output_type": "execute_result"
    }
   ],
   "source": [
    "a"
   ]
  },
  {
   "cell_type": "code",
   "execution_count": 36,
   "id": "4b89f129-41ac-4d5b-9b6b-7b68a857a186",
   "metadata": {},
   "outputs": [],
   "source": [
    "a = 30"
   ]
  },
  {
   "cell_type": "code",
   "execution_count": 37,
   "id": "818f382b-0169-427a-9b30-15df1e8e2b35",
   "metadata": {},
   "outputs": [
    {
     "data": {
      "text/plain": [
       "30"
      ]
     },
     "execution_count": 37,
     "metadata": {},
     "output_type": "execute_result"
    }
   ],
   "source": [
    "a"
   ]
  },
  {
   "cell_type": "markdown",
   "id": "0f14aaab-3991-404b-9e0d-0c578b19adad",
   "metadata": {},
   "source": [
    "#### +=(Addition and equal to) operator \n",
    "1. For example, if a = 10, b = 20 => a+ = b will be equal to a = a+ b and therefore, a = 30."
   ]
  },
  {
   "cell_type": "code",
   "execution_count": 38,
   "id": "cc944f14-b2de-4f3c-950b-b97dc6ce42a8",
   "metadata": {},
   "outputs": [],
   "source": [
    "a = 10"
   ]
  },
  {
   "cell_type": "code",
   "execution_count": 39,
   "id": "2f024f30-56de-4e6b-b874-bde3d1d392bc",
   "metadata": {},
   "outputs": [],
   "source": [
    "b = 20"
   ]
  },
  {
   "cell_type": "code",
   "execution_count": 40,
   "id": "121d65e1-dd67-4d8a-b7f1-2559ff62ea6b",
   "metadata": {},
   "outputs": [],
   "source": [
    "a+=b"
   ]
  },
  {
   "cell_type": "code",
   "execution_count": 41,
   "id": "a618c3ee-3dfa-4e5b-88bc-08fb70f47909",
   "metadata": {},
   "outputs": [
    {
     "data": {
      "text/plain": [
       "30"
      ]
     },
     "execution_count": 41,
     "metadata": {},
     "output_type": "execute_result"
    }
   ],
   "source": [
    "a"
   ]
  },
  {
   "cell_type": "markdown",
   "id": "5e8079f2-d7a6-48d2-b642-39355d586abb",
   "metadata": {},
   "source": [
    "#### -=(Subtraciton and equal to) operator\n",
    "1. For example, if a = 20, b = 10 => a- = b will be equal to a = a- b and therefore, a = 10."
   ]
  },
  {
   "cell_type": "code",
   "execution_count": 42,
   "id": "9a047211-f7b9-4694-b949-01aa6dbe134f",
   "metadata": {},
   "outputs": [],
   "source": [
    "a = 20"
   ]
  },
  {
   "cell_type": "code",
   "execution_count": 43,
   "id": "be0ff5d9-819c-4c04-9cdb-6aa203d4bf32",
   "metadata": {},
   "outputs": [],
   "source": [
    "b = 10"
   ]
  },
  {
   "cell_type": "code",
   "execution_count": 44,
   "id": "d5b63d24-d25c-45e3-893d-3b21db00844f",
   "metadata": {},
   "outputs": [],
   "source": [
    "a-=b"
   ]
  },
  {
   "cell_type": "code",
   "execution_count": 45,
   "id": "ec5609a8-ea48-47cb-9a3b-c0e89aab97bf",
   "metadata": {},
   "outputs": [
    {
     "data": {
      "text/plain": [
       "10"
      ]
     },
     "execution_count": 45,
     "metadata": {},
     "output_type": "execute_result"
    }
   ],
   "source": [
    "a"
   ]
  },
  {
   "cell_type": "markdown",
   "id": "87c75e69-8a56-4e36-8369-6aecb4f0ecdb",
   "metadata": {},
   "source": [
    "#### *=(multiplicaiton and equal to) operator\n",
    "1. For example, if a = 10, b = 20 => a* = b will be equal to a = a* b and therefore, a = 200."
   ]
  },
  {
   "cell_type": "code",
   "execution_count": 46,
   "id": "04cc3444-6563-4934-910d-0714287b8fa0",
   "metadata": {},
   "outputs": [],
   "source": [
    "a = 10"
   ]
  },
  {
   "cell_type": "code",
   "execution_count": 47,
   "id": "05363b0e-ce38-4d47-a1c8-c6f252036eff",
   "metadata": {},
   "outputs": [],
   "source": [
    "b = 20"
   ]
  },
  {
   "cell_type": "code",
   "execution_count": 48,
   "id": "32debe01-b699-4bf9-997a-67bbfbf5ffe5",
   "metadata": {},
   "outputs": [],
   "source": [
    "a *= 20"
   ]
  },
  {
   "cell_type": "code",
   "execution_count": 49,
   "id": "8d870765-b3ce-4d97-a119-5200aa45b3c9",
   "metadata": {},
   "outputs": [
    {
     "data": {
      "text/plain": [
       "200"
      ]
     },
     "execution_count": 49,
     "metadata": {},
     "output_type": "execute_result"
    }
   ],
   "source": [
    "a"
   ]
  },
  {
   "cell_type": "markdown",
   "id": "6bad1b20-4cde-49f1-8b19-063933bcfb53",
   "metadata": {},
   "source": [
    "#### /=(Division and equal to) operator\n",
    "1. For example, if a = 20, b = 10 => a/ = b will be equal to a = a/ b and therefore, a = 2.0."
   ]
  },
  {
   "cell_type": "code",
   "execution_count": 50,
   "id": "ac1b820d-4b80-44c6-906f-c76789a8874c",
   "metadata": {},
   "outputs": [],
   "source": [
    "a = 20"
   ]
  },
  {
   "cell_type": "code",
   "execution_count": 51,
   "id": "0f536a97-9c84-47e8-9ea5-b86c04b50c2d",
   "metadata": {},
   "outputs": [],
   "source": [
    "b = 10"
   ]
  },
  {
   "cell_type": "code",
   "execution_count": 52,
   "id": "b404b0a6-d65b-4204-bbde-8da35bed74c0",
   "metadata": {},
   "outputs": [],
   "source": [
    "a /= b"
   ]
  },
  {
   "cell_type": "code",
   "execution_count": 53,
   "id": "d3cde86c-b029-4489-b9a4-12474ac4dc6e",
   "metadata": {},
   "outputs": [
    {
     "data": {
      "text/plain": [
       "2.0"
      ]
     },
     "execution_count": 53,
     "metadata": {},
     "output_type": "execute_result"
    }
   ],
   "source": [
    "a"
   ]
  },
  {
   "cell_type": "markdown",
   "id": "eb5b11f7-9a2f-4a69-936e-07469a223515",
   "metadata": {},
   "source": [
    "#### %=(remainder and equal to) operator\n",
    "1. For example, if a = 20, b = 10 => a % = b will be equal to a = a % b and therefore, a = 0."
   ]
  },
  {
   "cell_type": "code",
   "execution_count": 54,
   "id": "9fc783e6-881d-4eee-a55e-83c9e809de37",
   "metadata": {},
   "outputs": [],
   "source": [
    "a = 20"
   ]
  },
  {
   "cell_type": "code",
   "execution_count": 55,
   "id": "165bca0b-18f7-406a-8411-624ac9349971",
   "metadata": {},
   "outputs": [],
   "source": [
    "b = 10"
   ]
  },
  {
   "cell_type": "code",
   "execution_count": 56,
   "id": "b9a4a9ee-b576-4fab-87ff-dafead48c0f1",
   "metadata": {},
   "outputs": [],
   "source": [
    "a%=b"
   ]
  },
  {
   "cell_type": "code",
   "execution_count": 57,
   "id": "dd0813b9-db33-471e-843f-3892d39fbc74",
   "metadata": {},
   "outputs": [
    {
     "data": {
      "text/plain": [
       "0"
      ]
     },
     "execution_count": 57,
     "metadata": {},
     "output_type": "execute_result"
    }
   ],
   "source": [
    "a"
   ]
  },
  {
   "cell_type": "markdown",
   "id": "de401544-ca3c-42a4-867c-dd38e478974f",
   "metadata": {},
   "source": [
    "#### **=(Exponent and equal to) operator\n",
    "1. For example, if a = 4, b =2, a**=b will assign 4**2 = 16 to a. "
   ]
  },
  {
   "cell_type": "code",
   "execution_count": 58,
   "id": "4ba9e2d1-dc33-4c73-b344-40ddac48c120",
   "metadata": {},
   "outputs": [],
   "source": [
    "a = 4"
   ]
  },
  {
   "cell_type": "code",
   "execution_count": 59,
   "id": "8c978882-3eb8-47f1-a8d3-9d0363ebc541",
   "metadata": {},
   "outputs": [],
   "source": [
    "b = 2"
   ]
  },
  {
   "cell_type": "code",
   "execution_count": 60,
   "id": "b40413c8-9d74-4fcd-b9e3-c9fbb828f803",
   "metadata": {},
   "outputs": [],
   "source": [
    "a**=b"
   ]
  },
  {
   "cell_type": "code",
   "execution_count": 61,
   "id": "2158e60a-a4fb-4feb-867f-3d47a0e1d17e",
   "metadata": {},
   "outputs": [
    {
     "data": {
      "text/plain": [
       "16"
      ]
     },
     "execution_count": 61,
     "metadata": {},
     "output_type": "execute_result"
    }
   ],
   "source": [
    "a"
   ]
  },
  {
   "cell_type": "markdown",
   "id": "67b2ce65-eac7-488e-b09e-d83a7ffeeb23",
   "metadata": {},
   "source": [
    "#### //=(floor division and equal to) operator\n",
    "1. For example, if a = 4, b = 3, a//=b will assign 4//3 = 1 to a."
   ]
  },
  {
   "cell_type": "code",
   "execution_count": 62,
   "id": "4b8032e9-b29a-49d3-acf3-3ed618d5e886",
   "metadata": {},
   "outputs": [],
   "source": [
    "a = 4"
   ]
  },
  {
   "cell_type": "code",
   "execution_count": 63,
   "id": "bebcdf73-e5b8-4e56-9c19-e7cb10e8d244",
   "metadata": {},
   "outputs": [],
   "source": [
    "b = 3"
   ]
  },
  {
   "cell_type": "code",
   "execution_count": 64,
   "id": "da15054f-a0c5-4ea2-8453-493873b85938",
   "metadata": {},
   "outputs": [],
   "source": [
    "a//=b"
   ]
  },
  {
   "cell_type": "code",
   "execution_count": 65,
   "id": "9fa14200-5b45-4502-b90d-cd9fe71ddc00",
   "metadata": {},
   "outputs": [
    {
     "data": {
      "text/plain": [
       "1"
      ]
     },
     "execution_count": 65,
     "metadata": {},
     "output_type": "execute_result"
    }
   ],
   "source": [
    "a"
   ]
  },
  {
   "cell_type": "markdown",
   "id": "3f7c563a-5c7d-4122-88a8-300627c7cc07",
   "metadata": {},
   "source": [
    "### Bitwise Operators\n",
    "**The two operands' values are processed bit by bit by the bitwise operators.**\n",
    "1. bitwise OR (|),\n",
    "2. bitwise AND (&),\n",
    "3. bitwise XOR (^),\n",
    "4. negation (~),\n",
    "5. Left shift (<<),\n",
    "6. and Right shift (>>).\n"
   ]
  },
  {
   "cell_type": "code",
   "execution_count": 66,
   "id": "0b1a9d29-e491-464f-98d2-5bad82204530",
   "metadata": {},
   "outputs": [
    {
     "name": "stdout",
     "output_type": "stream",
     "text": [
      "0b1010\n"
     ]
    }
   ],
   "source": [
    "# first of all decimal convert to binary formate\n",
    "a = 10\n",
    "b = bin(a)\n",
    "print(b)"
   ]
  },
  {
   "cell_type": "code",
   "execution_count": 70,
   "id": "b9fa5475-d631-4cfb-b972-a62bf65b7d3d",
   "metadata": {},
   "outputs": [],
   "source": [
    "# second binary convert to decimal formate\n",
    "a = int(b,2)"
   ]
  },
  {
   "cell_type": "code",
   "execution_count": 72,
   "id": "6c09a761-35a4-4c8e-9597-1c842011928f",
   "metadata": {},
   "outputs": [
    {
     "data": {
      "text/plain": [
       "10"
      ]
     },
     "execution_count": 72,
     "metadata": {},
     "output_type": "execute_result"
    }
   ],
   "source": [
    "a"
   ]
  },
  {
   "cell_type": "markdown",
   "id": "4eae3c3b-3d98-40bb-8428-7d6b2636bbfb",
   "metadata": {},
   "source": [
    "#### Bitwise And(&) Operator\n",
    "**A 1 is copied to the result if both bits in two operands at the same location are 1. If not, 0 is copied.**"
   ]
  },
  {
   "cell_type": "code",
   "execution_count": 73,
   "id": "6554b449-c8ce-4739-adbd-9a4364a735ef",
   "metadata": {},
   "outputs": [],
   "source": [
    "a = 10"
   ]
  },
  {
   "cell_type": "code",
   "execution_count": 74,
   "id": "1e82a9f3-0a63-4f6c-8963-656abb28bfda",
   "metadata": {},
   "outputs": [],
   "source": [
    "b = 20"
   ]
  },
  {
   "cell_type": "code",
   "execution_count": 75,
   "id": "f5d1dfdf-10ca-4b39-b5fc-98f757e3b4f2",
   "metadata": {},
   "outputs": [
    {
     "data": {
      "text/plain": [
       "0"
      ]
     },
     "execution_count": 75,
     "metadata": {},
     "output_type": "execute_result"
    }
   ],
   "source": [
    "a & b"
   ]
  },
  {
   "cell_type": "code",
   "execution_count": 76,
   "id": "846372f1-3404-4618-8ffd-801ae1544afe",
   "metadata": {},
   "outputs": [],
   "source": [
    "c = bin(a)"
   ]
  },
  {
   "cell_type": "code",
   "execution_count": 77,
   "id": "ef2b55ca-cb05-4bfc-b200-b1273bf8323b",
   "metadata": {},
   "outputs": [
    {
     "data": {
      "text/plain": [
       "'0b1010'"
      ]
     },
     "execution_count": 77,
     "metadata": {},
     "output_type": "execute_result"
    }
   ],
   "source": [
    "c"
   ]
  },
  {
   "cell_type": "code",
   "execution_count": 78,
   "id": "f71a1bf9-b97a-4687-9a6b-e3b360a8d4ad",
   "metadata": {},
   "outputs": [],
   "source": [
    "d = bin(b)"
   ]
  },
  {
   "cell_type": "code",
   "execution_count": 79,
   "id": "b3073ab0-176d-4080-abb6-eb2dff75a392",
   "metadata": {},
   "outputs": [
    {
     "data": {
      "text/plain": [
       "'0b10100'"
      ]
     },
     "execution_count": 79,
     "metadata": {},
     "output_type": "execute_result"
    }
   ],
   "source": [
    "d"
   ]
  },
  {
   "cell_type": "markdown",
   "id": "81e6641b-533b-416e-9362-68303c8da6af",
   "metadata": {},
   "source": [
    "#### OR(|) operator\n",
    "**The resulting bit will be 0 if both the bits are zero; otherwise, the resulting bit will be 1.**"
   ]
  },
  {
   "cell_type": "code",
   "execution_count": 80,
   "id": "ad0408e5-de88-4aa6-a4c2-7401ad0d3fef",
   "metadata": {},
   "outputs": [
    {
     "data": {
      "text/plain": [
       "30"
      ]
     },
     "execution_count": 80,
     "metadata": {},
     "output_type": "execute_result"
    }
   ],
   "source": [
    "a | b"
   ]
  },
  {
   "cell_type": "markdown",
   "id": "dee0f55d-36f4-4c80-a7d4-47331eeb26f8",
   "metadata": {},
   "source": [
    "#### XOR(^)operator\n",
    "**If the two bits are different, the outcome bit will be 1, else it will be 0.***"
   ]
  },
  {
   "cell_type": "code",
   "execution_count": 81,
   "id": "da2755e3-8461-4f51-b413-43865e069fdb",
   "metadata": {},
   "outputs": [
    {
     "data": {
      "text/plain": [
       "30"
      ]
     },
     "execution_count": 81,
     "metadata": {},
     "output_type": "execute_result"
    }
   ],
   "source": [
    "a ^ b"
   ]
  },
  {
   "cell_type": "markdown",
   "id": "abdcc88c-cd6c-4b18-9b2f-93d2460a2143",
   "metadata": {},
   "source": [
    "#### Negation(~)operator\n",
    "**The operand's bits are calculated as their negations, so if one bit is 0, the next bit will be 1, and vice versa.**"
   ]
  },
  {
   "cell_type": "code",
   "execution_count": 82,
   "id": "a49a7072-3fbb-44d3-bd78-ae2b78ce2cc6",
   "metadata": {},
   "outputs": [],
   "source": [
    "x = 10"
   ]
  },
  {
   "cell_type": "code",
   "execution_count": 91,
   "id": "87f3c379-3429-4e8f-bfbc-2cf8dcece4ac",
   "metadata": {},
   "outputs": [],
   "source": [
    "# x = (-x) -1\n",
    "y = (~x)"
   ]
  },
  {
   "cell_type": "code",
   "execution_count": 92,
   "id": "72fe321a-ca6e-49f6-af2c-d5a1a76dc45f",
   "metadata": {},
   "outputs": [
    {
     "data": {
      "text/plain": [
       "-20"
      ]
     },
     "execution_count": 92,
     "metadata": {},
     "output_type": "execute_result"
    }
   ],
   "source": [
    "y"
   ]
  },
  {
   "cell_type": "code",
   "execution_count": 93,
   "id": "281f820a-d47e-428b-86ba-9ed480d54452",
   "metadata": {},
   "outputs": [],
   "source": [
    "x = -10\n",
    "y = (~x)"
   ]
  },
  {
   "cell_type": "code",
   "execution_count": 94,
   "id": "7356527a-cac7-47e1-ab36-9c5bc7776e63",
   "metadata": {},
   "outputs": [
    {
     "data": {
      "text/plain": [
       "9"
      ]
     },
     "execution_count": 94,
     "metadata": {},
     "output_type": "execute_result"
    }
   ],
   "source": [
    "y"
   ]
  },
  {
   "cell_type": "code",
   "execution_count": 95,
   "id": "295d7abc-d27a-4621-8f0b-f81c226e75b8",
   "metadata": {},
   "outputs": [],
   "source": [
    "y = -20\n",
    "x = (~y)"
   ]
  },
  {
   "cell_type": "code",
   "execution_count": 96,
   "id": "e50715eb-655c-49f0-92e2-4e9b33bebed8",
   "metadata": {},
   "outputs": [
    {
     "data": {
      "text/plain": [
       "19"
      ]
     },
     "execution_count": 96,
     "metadata": {},
     "output_type": "execute_result"
    }
   ],
   "source": [
    "x"
   ]
  },
  {
   "cell_type": "markdown",
   "id": "92371b70-3200-42ab-bb50-56280aacbcf1",
   "metadata": {},
   "source": [
    "#### Left Shift(<<)operator\n",
    "**The number of bits in the right operand is multiplied by the leftward shift of the value of the left operand.**"
   ]
  },
  {
   "cell_type": "code",
   "execution_count": 97,
   "id": "66491905-dc45-4423-88ea-83f991dbd0a3",
   "metadata": {},
   "outputs": [],
   "source": [
    "a = 5"
   ]
  },
  {
   "cell_type": "code",
   "execution_count": 98,
   "id": "9c128730-e2d1-4e78-9d99-1eac0da31bfc",
   "metadata": {},
   "outputs": [],
   "source": [
    "b = 6"
   ]
  },
  {
   "cell_type": "code",
   "execution_count": 100,
   "id": "ca6ac93e-564f-46ea-b449-7bc7c3a21986",
   "metadata": {},
   "outputs": [
    {
     "data": {
      "text/plain": [
       "320"
      ]
     },
     "execution_count": 100,
     "metadata": {},
     "output_type": "execute_result"
    }
   ],
   "source": [
    "# a*2^b\n",
    "a << b"
   ]
  },
  {
   "cell_type": "markdown",
   "id": "8d709220-3b7b-480c-9760-f7aff524d0f2",
   "metadata": {},
   "source": [
    "#### Right Shift(>>)operator\n",
    "**The left operand is moved right by the number of bits present in the right operand.**"
   ]
  },
  {
   "cell_type": "code",
   "execution_count": 101,
   "id": "4ca5dc30-6bb4-4efa-af07-4e4f0d45ac28",
   "metadata": {},
   "outputs": [],
   "source": [
    "a = 320"
   ]
  },
  {
   "cell_type": "code",
   "execution_count": 102,
   "id": "84ef3fa3-80d1-432e-b24a-193ef3567ad9",
   "metadata": {},
   "outputs": [],
   "source": [
    "b = 4"
   ]
  },
  {
   "cell_type": "code",
   "execution_count": 104,
   "id": "06637f56-8730-4e33-b170-ac73e2fe24b6",
   "metadata": {},
   "outputs": [
    {
     "data": {
      "text/plain": [
       "20"
      ]
     },
     "execution_count": 104,
     "metadata": {},
     "output_type": "execute_result"
    }
   ],
   "source": [
    "# a/ 2^b\n",
    "a >> b"
   ]
  },
  {
   "cell_type": "markdown",
   "id": "54fa81e5-ae83-48e5-a53e-dc34f5a06e89",
   "metadata": {},
   "source": [
    "### Logical Operator\n",
    "**The assessment of expressions to make decisions typically uses logical operators.**\n",
    "1. and\n",
    "2. or\n",
    "3. not"
   ]
  },
  {
   "cell_type": "markdown",
   "id": "d52ed44b-08d3-4cbf-a2ad-667d6cc4bd17",
   "metadata": {},
   "source": [
    "#### and operator\n",
    "**The examples of logical operators are and, or, and not. In the case of logical AND, if the first one is 0, it does not depend upon the second one.**"
   ]
  },
  {
   "cell_type": "code",
   "execution_count": 105,
   "id": "226ec389-8152-4a06-8420-bc9411afd8b7",
   "metadata": {},
   "outputs": [
    {
     "data": {
      "text/plain": [
       "False"
      ]
     },
     "execution_count": 105,
     "metadata": {},
     "output_type": "execute_result"
    }
   ],
   "source": [
    "True and False"
   ]
  },
  {
   "cell_type": "code",
   "execution_count": 106,
   "id": "da9106bc-e4be-4199-b119-81204ae42c24",
   "metadata": {},
   "outputs": [
    {
     "data": {
      "text/plain": [
       "True"
      ]
     },
     "execution_count": 106,
     "metadata": {},
     "output_type": "execute_result"
    }
   ],
   "source": [
    "True and True"
   ]
  },
  {
   "cell_type": "code",
   "execution_count": 107,
   "id": "f4a89a6a-9ba1-4dc5-be77-ad0e9e8779b4",
   "metadata": {},
   "outputs": [
    {
     "data": {
      "text/plain": [
       "False"
      ]
     },
     "execution_count": 107,
     "metadata": {},
     "output_type": "execute_result"
    }
   ],
   "source": [
    "False and True"
   ]
  },
  {
   "cell_type": "code",
   "execution_count": 108,
   "id": "734e3300-3b17-4472-9ed3-91aa7742f7a9",
   "metadata": {},
   "outputs": [
    {
     "data": {
      "text/plain": [
       "False"
      ]
     },
     "execution_count": 108,
     "metadata": {},
     "output_type": "execute_result"
    }
   ],
   "source": [
    "False and False"
   ]
  },
  {
   "cell_type": "markdown",
   "id": "85c31ff1-d6db-4525-b9f5-5290693385a8",
   "metadata": {},
   "source": [
    "#### or operator\n",
    "**In the case of logical OR, if the first one is 1, it does not depend on the second one.** "
   ]
  },
  {
   "cell_type": "code",
   "execution_count": 109,
   "id": "b013c08b-85c5-45dd-9f8c-7e44caf17a81",
   "metadata": {},
   "outputs": [
    {
     "data": {
      "text/plain": [
       "True"
      ]
     },
     "execution_count": 109,
     "metadata": {},
     "output_type": "execute_result"
    }
   ],
   "source": [
    "False or True"
   ]
  },
  {
   "cell_type": "code",
   "execution_count": 110,
   "id": "34317508-3dc5-4fd6-80cf-8d3298930d3f",
   "metadata": {},
   "outputs": [
    {
     "data": {
      "text/plain": [
       "False"
      ]
     },
     "execution_count": 110,
     "metadata": {},
     "output_type": "execute_result"
    }
   ],
   "source": [
    "False or False"
   ]
  },
  {
   "cell_type": "code",
   "execution_count": 111,
   "id": "b7e8539c-f3fd-489b-93bb-6e9d81dcf42c",
   "metadata": {},
   "outputs": [
    {
     "data": {
      "text/plain": [
       "True"
      ]
     },
     "execution_count": 111,
     "metadata": {},
     "output_type": "execute_result"
    }
   ],
   "source": [
    "True or True"
   ]
  },
  {
   "cell_type": "code",
   "execution_count": 112,
   "id": "be502dc2-f78c-4ec0-81ee-58738c3f1d2c",
   "metadata": {},
   "outputs": [
    {
     "data": {
      "text/plain": [
       "True"
      ]
     },
     "execution_count": 112,
     "metadata": {},
     "output_type": "execute_result"
    }
   ],
   "source": [
    "True or False"
   ]
  },
  {
   "cell_type": "markdown",
   "id": "59a13087-41d7-4fce-9cbe-04f8763c4c8e",
   "metadata": {},
   "source": [
    "#### not operator\n",
    "**Each statement is true then return false**"
   ]
  },
  {
   "cell_type": "code",
   "execution_count": 113,
   "id": "07ff16ca-a59d-4d39-aa45-187444a69054",
   "metadata": {},
   "outputs": [
    {
     "data": {
      "text/plain": [
       "True"
      ]
     },
     "execution_count": 113,
     "metadata": {},
     "output_type": "execute_result"
    }
   ],
   "source": [
    "not(True and False)"
   ]
  },
  {
   "cell_type": "code",
   "execution_count": 114,
   "id": "04c86c3a-3c3b-4440-9398-7a4ff428bf2f",
   "metadata": {},
   "outputs": [
    {
     "data": {
      "text/plain": [
       "False"
      ]
     },
     "execution_count": 114,
     "metadata": {},
     "output_type": "execute_result"
    }
   ],
   "source": [
    "not(True and True)"
   ]
  },
  {
   "cell_type": "code",
   "execution_count": 115,
   "id": "739b819f-6255-489f-b52a-24e2a8f9fecb",
   "metadata": {},
   "outputs": [
    {
     "data": {
      "text/plain": [
       "True"
      ]
     },
     "execution_count": 115,
     "metadata": {},
     "output_type": "execute_result"
    }
   ],
   "source": [
    "not(False and False)"
   ]
  },
  {
   "cell_type": "code",
   "execution_count": 116,
   "id": "d1277be2-0faa-497e-bcba-41ca30a8de6e",
   "metadata": {},
   "outputs": [
    {
     "data": {
      "text/plain": [
       "True"
      ]
     },
     "execution_count": 116,
     "metadata": {},
     "output_type": "execute_result"
    }
   ],
   "source": [
    "not(False and True)"
   ]
  },
  {
   "cell_type": "code",
   "execution_count": 117,
   "id": "805e750c-291f-4818-9ac5-2d8cf8e957ed",
   "metadata": {},
   "outputs": [
    {
     "data": {
      "text/plain": [
       "False"
      ]
     },
     "execution_count": 117,
     "metadata": {},
     "output_type": "execute_result"
    }
   ],
   "source": [
    "not(True or False)"
   ]
  },
  {
   "cell_type": "code",
   "execution_count": 118,
   "id": "c45af08b-3db5-4de9-b20d-be1b3517fd40",
   "metadata": {},
   "outputs": [
    {
     "data": {
      "text/plain": [
       "False"
      ]
     },
     "execution_count": 118,
     "metadata": {},
     "output_type": "execute_result"
    }
   ],
   "source": [
    "not(False or True)"
   ]
  },
  {
   "cell_type": "markdown",
   "id": "05f27591-97ee-443b-ae8d-2143b2a0791f",
   "metadata": {},
   "source": [
    "### Membership Operators\n",
    "**The membership of a value inside a Python data structure can be verified using Python membership operators. The result is true if the value is in the data structure; otherwise, it returns false.**\n",
    "1. in\n",
    "2. not in\n",
    "   "
   ]
  },
  {
   "cell_type": "markdown",
   "id": "f7000a3f-180c-4b94-849d-84ffaec5eeb5",
   "metadata": {},
   "source": [
    "#### in operator\n",
    "**If the first operand cannot be found in the second operand, it is evaluated to be true (list, tuple, or dictionary).**"
   ]
  },
  {
   "cell_type": "code",
   "execution_count": 119,
   "id": "ed4c8a54-6a27-4e16-a3de-4db128ac8508",
   "metadata": {},
   "outputs": [],
   "source": [
    "list = [\"sunny\",\"pooja\",\"sahil\"]"
   ]
  },
  {
   "cell_type": "code",
   "execution_count": 120,
   "id": "2f8e6a27-6fbc-420c-9445-d8d6a49be5bd",
   "metadata": {},
   "outputs": [
    {
     "data": {
      "text/plain": [
       "True"
      ]
     },
     "execution_count": 120,
     "metadata": {},
     "output_type": "execute_result"
    }
   ],
   "source": [
    "\"pooja\" in list"
   ]
  },
  {
   "cell_type": "code",
   "execution_count": 121,
   "id": "32070076-97c0-4f30-972a-22753011a4b7",
   "metadata": {},
   "outputs": [
    {
     "data": {
      "text/plain": [
       "False"
      ]
     },
     "execution_count": 121,
     "metadata": {},
     "output_type": "execute_result"
    }
   ],
   "source": [
    "\"Pooja\" in list"
   ]
  },
  {
   "cell_type": "markdown",
   "id": "ec23c58d-192e-42eb-9683-f208ebdba8a3",
   "metadata": {},
   "source": [
    "#### not in operator\n",
    "**If the first operand is not present in the second operand, the evaluation is true (list, tuple, or dictionary).**"
   ]
  },
  {
   "cell_type": "code",
   "execution_count": 122,
   "id": "b9d0c22f-c9d6-433b-bfb5-0e9f19ea8b77",
   "metadata": {},
   "outputs": [
    {
     "data": {
      "text/plain": [
       "['sunny', 'pooja', 'sahil']"
      ]
     },
     "execution_count": 122,
     "metadata": {},
     "output_type": "execute_result"
    }
   ],
   "source": [
    "list"
   ]
  },
  {
   "cell_type": "code",
   "execution_count": 123,
   "id": "3bc0a8c1-f90a-4686-98fa-8a8900e22755",
   "metadata": {},
   "outputs": [
    {
     "data": {
      "text/plain": [
       "True"
      ]
     },
     "execution_count": 123,
     "metadata": {},
     "output_type": "execute_result"
    }
   ],
   "source": [
    "\"Pooja\" not in list"
   ]
  },
  {
   "cell_type": "code",
   "execution_count": 124,
   "id": "4bcb3ac3-e25c-4f00-a060-a60da9263845",
   "metadata": {},
   "outputs": [
    {
     "data": {
      "text/plain": [
       "False"
      ]
     },
     "execution_count": 124,
     "metadata": {},
     "output_type": "execute_result"
    }
   ],
   "source": [
    "\"pooja\" not in list"
   ]
  },
  {
   "cell_type": "markdown",
   "id": "91bed721-a1e1-4b23-bc0d-e8f74be0614a",
   "metadata": {},
   "source": [
    "### Identity Operators\n",
    "1. is\n",
    "2. is not"
   ]
  },
  {
   "cell_type": "code",
   "execution_count": 126,
   "id": "51cf124f-3e25-4745-bf2a-0baa43117c71",
   "metadata": {},
   "outputs": [
    {
     "data": {
      "text/plain": [
       "['sunny', 'pooja', 'sahil']"
      ]
     },
     "execution_count": 126,
     "metadata": {},
     "output_type": "execute_result"
    }
   ],
   "source": [
    "list"
   ]
  },
  {
   "cell_type": "code",
   "execution_count": 127,
   "id": "b44bd505-a5ed-42e7-9b5a-14d03220dd65",
   "metadata": {},
   "outputs": [],
   "source": [
    "list1 = list"
   ]
  },
  {
   "cell_type": "code",
   "execution_count": 129,
   "id": "b724e398-181d-4c66-8d97-83ce9b0056c8",
   "metadata": {},
   "outputs": [
    {
     "data": {
      "text/plain": [
       "['sunny', 'pooja', 'sahil']"
      ]
     },
     "execution_count": 129,
     "metadata": {},
     "output_type": "execute_result"
    }
   ],
   "source": [
    "list1"
   ]
  },
  {
   "cell_type": "markdown",
   "id": "12d7630c-59ec-4eb0-9962-316bcee04723",
   "metadata": {},
   "source": [
    "#### is operator\n",
    "**If the references on both sides point to the same object, it is determined to be true.**"
   ]
  },
  {
   "cell_type": "code",
   "execution_count": 132,
   "id": "c041bacc-c51e-4067-8cc9-16e23f2ede5e",
   "metadata": {},
   "outputs": [
    {
     "data": {
      "text/plain": [
       "True"
      ]
     },
     "execution_count": 132,
     "metadata": {},
     "output_type": "execute_result"
    }
   ],
   "source": [
    "list is list1"
   ]
  },
  {
   "cell_type": "markdown",
   "id": "794613bf-e4c9-41aa-b619-f89cd839b7da",
   "metadata": {},
   "source": [
    "#### is not operator\n",
    "**If the references on both sides do not point at the same object, it is determined to be true.**"
   ]
  },
  {
   "cell_type": "code",
   "execution_count": 133,
   "id": "817c59bc-6e0d-4ad9-87f3-fbd1dd07014a",
   "metadata": {},
   "outputs": [
    {
     "data": {
      "text/plain": [
       "False"
      ]
     },
     "execution_count": 133,
     "metadata": {},
     "output_type": "execute_result"
    }
   ],
   "source": [
    "list is not list1"
   ]
  },
  {
   "cell_type": "code",
   "execution_count": null,
   "id": "8063f6e6-c18c-4045-9d32-4fbcdc12b991",
   "metadata": {},
   "outputs": [],
   "source": []
  },
  {
   "cell_type": "code",
   "execution_count": null,
   "id": "b4f62c00-f77a-4cec-9e7c-087c7ebc1b8a",
   "metadata": {},
   "outputs": [],
   "source": []
  }
 ],
 "metadata": {
  "kernelspec": {
   "display_name": "Python 3 (ipykernel)",
   "language": "python",
   "name": "python3"
  },
  "language_info": {
   "codemirror_mode": {
    "name": "ipython",
    "version": 3
   },
   "file_extension": ".py",
   "mimetype": "text/x-python",
   "name": "python",
   "nbconvert_exporter": "python",
   "pygments_lexer": "ipython3",
   "version": "3.12.0"
  }
 },
 "nbformat": 4,
 "nbformat_minor": 5
}
