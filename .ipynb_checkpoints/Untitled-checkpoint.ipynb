{
 "cells": [
  {
   "cell_type": "code",
   "execution_count": 1,
   "id": "b0ea6217-a61f-407f-8357-6a9502242d8c",
   "metadata": {},
   "outputs": [
    {
     "name": "stdout",
     "output_type": "stream",
     "text": [
      "A\n",
      "m\n",
      "a\n",
      "n\n"
     ]
    }
   ],
   "source": [
    "for var in \"Aman\":\n",
    "    print(var)"
   ]
  },
  {
   "cell_type": "code",
   "execution_count": 2,
   "id": "82538aa7-9be0-4a69-b0a4-b3538d1c653c",
   "metadata": {},
   "outputs": [
    {
     "name": "stdout",
     "output_type": "stream",
     "text": [
      "H\n",
      "o\n",
      "w\n",
      " \n",
      "a\n",
      "r\n",
      "e\n",
      " \n",
      "y\n",
      "o\n",
      "u\n",
      " \n",
      "?\n",
      ".\n"
     ]
    }
   ],
   "source": [
    "for char in \"How are you ?.\" :\n",
    "    print(char)"
   ]
  },
  {
   "cell_type": "code",
   "execution_count": 11,
   "id": "cb303b3d-d686-4cd6-aef1-0ea19371bd42",
   "metadata": {},
   "outputs": [
    {
     "name": "stdin",
     "output_type": "stream",
     "text": [
      "Enter a number for checking the factor  1000000\n"
     ]
    },
    {
     "name": "stdout",
     "output_type": "stream",
     "text": [
      "This is factor  1\n",
      "This is factor  2\n",
      "This is factor  4\n",
      "This is factor  5\n",
      "This is factor  8\n",
      "This is factor  10\n",
      "This is factor  16\n",
      "This is factor  20\n",
      "This is factor  25\n",
      "This is factor  32\n",
      "This is factor  40\n",
      "This is factor  50\n",
      "This is factor  64\n",
      "This is factor  80\n",
      "This is factor  100\n",
      "This is factor  125\n",
      "This is factor  160\n",
      "This is factor  200\n",
      "This is factor  250\n",
      "This is factor  320\n",
      "This is factor  400\n",
      "This is factor  500\n",
      "This is factor  625\n",
      "This is factor  800\n",
      "This is factor  1000\n",
      "This is factor  1250\n",
      "This is factor  1600\n",
      "This is factor  2000\n",
      "This is factor  2500\n",
      "This is factor  3125\n",
      "This is factor  4000\n",
      "This is factor  5000\n",
      "This is factor  6250\n",
      "This is factor  8000\n",
      "This is factor  10000\n",
      "This is factor  12500\n",
      "This is factor  15625\n",
      "This is factor  20000\n",
      "This is factor  25000\n",
      "This is factor  31250\n",
      "This is factor  40000\n",
      "This is factor  50000\n",
      "This is factor  62500\n",
      "This is factor  100000\n",
      "This is factor  125000\n",
      "This is factor  200000\n",
      "This is factor  250000\n",
      "This is factor  500000\n",
      "This is factor  1000000\n"
     ]
    }
   ],
   "source": [
    "number = int(input(\"Enter a number for checking the factor \"))\n",
    "print(\"This is factor \",1)\n",
    "factor = 2\n",
    "while factor <= number/2:\n",
    "    if number % factor == 0:\n",
    "        print(\"This is factor \",factor)\n",
    "    factor+=1\n",
    "print(\"This is factor \",number)"
   ]
  },
  {
   "cell_type": "code",
   "execution_count": 1,
   "id": "bd8a2603-fa05-4a2d-b151-bfbcf2fd14cb",
   "metadata": {},
   "outputs": [
    {
     "name": "stdin",
     "output_type": "stream",
     "text": [
      "Enter a number :  10\n"
     ]
    },
    {
     "name": "stdout",
     "output_type": "stream",
     "text": [
      "1 10\n",
      "2\n",
      "5\n"
     ]
    }
   ],
   "source": [
    "number = int(input(\"Enter a number : \"))\n",
    "print(1,number)\n",
    "start = 2\n",
    "while start <= number:\n",
    "    if number % start == 0:\n",
    "        print(start)\n",
    "    start += 1"
   ]
  },
  {
   "cell_type": "code",
   "execution_count": null,
   "id": "0e28960b-238e-4251-9a1e-19a403176fe5",
   "metadata": {},
   "outputs": [],
   "source": []
  }
 ],
 "metadata": {
  "kernelspec": {
   "display_name": "Python 3 (ipykernel)",
   "language": "python",
   "name": "python3"
  },
  "language_info": {
   "codemirror_mode": {
    "name": "ipython",
    "version": 3
   },
   "file_extension": ".py",
   "mimetype": "text/x-python",
   "name": "python",
   "nbconvert_exporter": "python",
   "pygments_lexer": "ipython3",
   "version": "3.13.0"
  }
 },
 "nbformat": 4,
 "nbformat_minor": 5
}
