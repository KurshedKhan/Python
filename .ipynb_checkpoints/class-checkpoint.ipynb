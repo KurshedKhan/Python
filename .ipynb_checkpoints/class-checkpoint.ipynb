{
 "cells": [
  {
   "cell_type": "code",
   "execution_count": 3,
   "id": "65454ec6-7483-44c0-bd51-f835764e2823",
   "metadata": {},
   "outputs": [
    {
     "name": "stdout",
     "output_type": "stream",
     "text": [
      "My Student details :  Pooja Barman 18 5.4 AB+\n"
     ]
    }
   ],
   "source": [
    "class StudentDetails :\n",
    "    def __init__(self,name,age,height,bloodgroup):\n",
    "        self.name = name;\n",
    "        self.age = age;\n",
    "        self.height= height;\n",
    "        self.bloodgroup = bloodgroup;\n",
    "\n",
    "    def displayDetails(self):\n",
    "        print(\"My Student details : \",self.name,self.age,self.height,self.bloodgroup)\n",
    "\n",
    "st1 = StudentDetails(\"Pooja Barman\",18,5.4,\"AB+\")\n",
    "st1.displayDetails()"
   ]
  },
  {
   "cell_type": "code",
   "execution_count": 5,
   "id": "02a6cf30-ba9d-483a-86fd-687f5accd27e",
   "metadata": {},
   "outputs": [
    {
     "name": "stdout",
     "output_type": "stream",
     "text": [
      "My Student details :  Payal 19 5.2 O-\n"
     ]
    }
   ],
   "source": [
    "st2 = StudentDetails(\"Payal\",19,5.2,\"O-\")\n",
    "st2.displayDetails()"
   ]
  },
  {
   "cell_type": "code",
   "execution_count": 8,
   "id": "30634833-de61-46b9-ae3b-264867885db3",
   "metadata": {},
   "outputs": [
    {
     "name": "stdout",
     "output_type": "stream",
     "text": [
      "Hello , My name is  Pooja and my age is  18 year.\n"
     ]
    }
   ],
   "source": [
    "class Person:\n",
    "    def __init__(self,name,age):\n",
    "        self.name = name;\n",
    "        self.age = age;\n",
    "\n",
    "    def display(self):\n",
    "        print(\"Hello , My name is \",self.name , \"and my age is \",self.age,\"year.\")\n",
    "\n",
    "P1= Person(\"Pooja\",18)\n",
    "P1.display()"
   ]
  },
  {
   "cell_type": "code",
   "execution_count": 14,
   "id": "237d3f07-5a11-4d75-8656-505965cf6362",
   "metadata": {},
   "outputs": [
    {
     "name": "stdout",
     "output_type": "stream",
     "text": [
      "3\n"
     ]
    }
   ],
   "source": [
    "class Person:\n",
    "    count = 0\n",
    "    def __init__(self,name,age):\n",
    "        self.name = name\n",
    "        self.age = age\n",
    "        Person.count += 1\n",
    "\n",
    "   \n",
    "p1 = Person(\"Pooja\",18)\n",
    "p2 = Person(\"Payal\",19)\n",
    "p3 = Person(\"Mishti\",18)\n",
    "print(Person.count)\n"
   ]
  },
  {
   "cell_type": "code",
   "execution_count": null,
   "id": "814b133a-d0fa-4073-b5cc-753e5ed5cdf6",
   "metadata": {},
   "outputs": [],
   "source": []
  }
 ],
 "metadata": {
  "kernelspec": {
   "display_name": "Python 3 (ipykernel)",
   "language": "python",
   "name": "python3"
  },
  "language_info": {
   "codemirror_mode": {
    "name": "ipython",
    "version": 3
   },
   "file_extension": ".py",
   "mimetype": "text/x-python",
   "name": "python",
   "nbconvert_exporter": "python",
   "pygments_lexer": "ipython3",
   "version": "3.12.0"
  }
 },
 "nbformat": 4,
 "nbformat_minor": 5
}
