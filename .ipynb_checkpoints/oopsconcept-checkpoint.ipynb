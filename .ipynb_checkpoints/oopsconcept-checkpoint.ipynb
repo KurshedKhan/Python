{
 "cells": [
  {
   "cell_type": "markdown",
   "id": "b131a271-09f6-4277-9178-025a0662b6e0",
   "metadata": {},
   "source": [
    "# OOPs ==> Object Oriented Programms\n",
    "\n",
    "        1. The oops concept focuses on writing the reusable code.\n",
    "        2. It is a widespread technique to solve the problem by \n",
    "        creating objects."
   ]
  },
  {
   "cell_type": "markdown",
   "id": "7a038515-ff68-4525-bd9a-6fea07ea45ca",
   "metadata": {},
   "source": [
    "### Major principles of object-oriented programming\n",
    "    1.Class\n",
    "    2.Object\n",
    "    3.Method\n",
    "    4.Inheritance\n",
    "    5.Polymorphism\n",
    "    6.Data Abstraction\n",
    "    7.Encapsulationlation"
   ]
  },
  {
   "cell_type": "code",
   "execution_count": null,
   "id": "55e50b46-4f78-4d99-82fe-0f4a5c0ccb9a",
   "metadata": {},
   "outputs": [],
   "source": []
  },
  {
   "cell_type": "code",
   "execution_count": null,
   "id": "3d93ef29-d011-41a9-97c4-1c5f0882621b",
   "metadata": {},
   "outputs": [],
   "source": []
  }
 ],
 "metadata": {
  "kernelspec": {
   "display_name": "Python 3 (ipykernel)",
   "language": "python",
   "name": "python3"
  },
  "language_info": {
   "codemirror_mode": {
    "name": "ipython",
    "version": 3
   },
   "file_extension": ".py",
   "mimetype": "text/x-python",
   "name": "python",
   "nbconvert_exporter": "python",
   "pygments_lexer": "ipython3",
   "version": "3.12.0"
  }
 },
 "nbformat": 4,
 "nbformat_minor": 5
}
