{
 "cells": [
  {
   "cell_type": "markdown",
   "id": "b5c0bba3-033e-4db6-b091-cbb7a1dc0b54",
   "metadata": {},
   "source": [
    "# Python set\n",
    "\n",
    "    A Python set is the collection of the unordered items.\n",
    "    \n",
    "    Each element in the set must be unique, immutable, and the sets remove the duplicate elements.\n",
    "\n",
    "    Sets are mutable which means we can modify it after its creation.\n",
    "\n",
    "    Unlike other collections in Python, there is no index attached to the elements of the set, i.e., \n",
    "    \n",
    "    we cannot directly access any element of the set by the index. \n",
    "    \n",
    "    However, we can print them all together, or we can get the list of elements by looping through the set."
   ]
  },
  {
   "cell_type": "markdown",
   "id": "b48e0c97-a646-44c2-a83c-e8d5b53acb9d",
   "metadata": {},
   "source": [
    "### Creating a set\n",
    "    1.The set can be created by enclosing the comma-separated immutable items with the curly braces {}.\n",
    "\n",
    "    2.Python also provides the set() method, Which can be used to create the set by the passed sequence."
   ]
  },
  {
   "cell_type": "code",
   "execution_count": 1,
   "id": "46d82fb5-41d6-4383-b936-53781ba1a726",
   "metadata": {},
   "outputs": [],
   "source": [
    "# Using curly braces\n",
    "Days = {\"Mon\",\"Tue\",\"Wed\",\"Thu\",\"Fri\",\"Sat\",\"Sun\"}"
   ]
  },
  {
   "cell_type": "code",
   "execution_count": 2,
   "id": "ae17260a-c1a1-444d-8e3c-63994d3ada0b",
   "metadata": {},
   "outputs": [
    {
     "data": {
      "text/plain": [
       "{'Fri', 'Mon', 'Sat', 'Sun', 'Thu', 'Tue', 'Wed'}"
      ]
     },
     "execution_count": 2,
     "metadata": {},
     "output_type": "execute_result"
    }
   ],
   "source": [
    "Days"
   ]
  },
  {
   "cell_type": "code",
   "execution_count": 3,
   "id": "69adc425-8e26-4302-be05-d80db763ccdf",
   "metadata": {},
   "outputs": [
    {
     "data": {
      "text/plain": [
       "set"
      ]
     },
     "execution_count": 3,
     "metadata": {},
     "output_type": "execute_result"
    }
   ],
   "source": [
    "type(Days)"
   ]
  },
  {
   "cell_type": "code",
   "execution_count": 4,
   "id": "aaf29eff-2aab-447c-9aae-6f87e69c4a3c",
   "metadata": {},
   "outputs": [
    {
     "name": "stdout",
     "output_type": "stream",
     "text": [
      "Week days Name : Mon\n",
      "Week days Name : Thu\n",
      "Week days Name : Wed\n",
      "Week days Name : Tue\n",
      "Week days Name : Sun\n",
      "Week days Name : Fri\n",
      "Week days Name : Sat\n"
     ]
    }
   ],
   "source": [
    "for i in Days:\n",
    "    print(\"Week days Name :\",i) "
   ]
  },
  {
   "cell_type": "code",
   "execution_count": 5,
   "id": "e2a1f589-9c88-4bef-bfa3-b36e2992114a",
   "metadata": {},
   "outputs": [],
   "source": [
    "# Using set() Method\n",
    "Days = set([\"Mon\",\"Tue\",\"Wed\",\"Thu\",\"Fri\",\"Sat\",\"Sun\"]);"
   ]
  },
  {
   "cell_type": "code",
   "execution_count": 6,
   "id": "917ed91d-8013-4889-8c0e-bc19d0396dc9",
   "metadata": {},
   "outputs": [
    {
     "data": {
      "text/plain": [
       "{'Fri', 'Mon', 'Sat', 'Sun', 'Thu', 'Tue', 'Wed'}"
      ]
     },
     "execution_count": 6,
     "metadata": {},
     "output_type": "execute_result"
    }
   ],
   "source": [
    "Days"
   ]
  },
  {
   "cell_type": "code",
   "execution_count": 7,
   "id": "b7a0d0e6-cec9-4c28-8663-20864006a560",
   "metadata": {},
   "outputs": [
    {
     "data": {
      "text/plain": [
       "set"
      ]
     },
     "execution_count": 7,
     "metadata": {},
     "output_type": "execute_result"
    }
   ],
   "source": [
    "\n",
    "type(Days)"
   ]
  },
  {
   "cell_type": "code",
   "execution_count": 8,
   "id": "501263f5-e783-47fe-a890-2a7de419da8f",
   "metadata": {},
   "outputs": [
    {
     "name": "stdout",
     "output_type": "stream",
     "text": [
      "Mon\n",
      "Fri\n",
      "Tue\n",
      "Sat\n",
      "Thu\n",
      "Sun\n",
      "Wed\n"
     ]
    }
   ],
   "source": [
    "for i in Days:\n",
    "    print(i)"
   ]
  },
  {
   "cell_type": "markdown",
   "id": "237cb0b4-ba7d-4cb6-9970-5805dfc5bb16",
   "metadata": {},
   "source": [
    "***It can contain any type of element such as integer ,float,String etc. But mutable elements (list,dictionary,set) can't be a member of set.***"
   ]
  },
  {
   "cell_type": "code",
   "execution_count": 9,
   "id": "da22f7da-4d0b-40c6-a395-9862f10e66b5",
   "metadata": {},
   "outputs": [],
   "source": [
    "set1 = {1,2,3,\"set\",20.5,14}"
   ]
  },
  {
   "cell_type": "code",
   "execution_count": 10,
   "id": "d787483f-0b77-4c3f-ab68-73771cba056e",
   "metadata": {},
   "outputs": [
    {
     "data": {
      "text/plain": [
       "set"
      ]
     },
     "execution_count": 10,
     "metadata": {},
     "output_type": "execute_result"
    }
   ],
   "source": [
    "set"
   ]
  },
  {
   "cell_type": "code",
   "execution_count": 11,
   "id": "c65d9e1c-165c-40c0-87cc-fdfddb815042",
   "metadata": {},
   "outputs": [
    {
     "data": {
      "text/plain": [
       "{1, 14, 2, 20.5, 3, 'set'}"
      ]
     },
     "execution_count": 11,
     "metadata": {},
     "output_type": "execute_result"
    }
   ],
   "source": [
    "set1"
   ]
  },
  {
   "cell_type": "code",
   "execution_count": 12,
   "id": "328b37d7-ab68-4532-aed9-949e89b6e8b3",
   "metadata": {},
   "outputs": [
    {
     "name": "stdout",
     "output_type": "stream",
     "text": [
      "{1, 2, 3, 'set'}\n"
     ]
    }
   ],
   "source": [
    "# Creating a set which have immutable elements with lists\n",
    "set1 = {1,2,3,(\"set\")}\n",
    "print(set1)"
   ]
  },
  {
   "cell_type": "code",
   "execution_count": 13,
   "id": "aaa9e9a4-a7f8-4c57-bb43-a9a44b587726",
   "metadata": {},
   "outputs": [
    {
     "ename": "TypeError",
     "evalue": "unhashable type: 'set'",
     "output_type": "error",
     "traceback": [
      "\u001b[1;31m---------------------------------------------------------------------------\u001b[0m",
      "\u001b[1;31mTypeError\u001b[0m                                 Traceback (most recent call last)",
      "Cell \u001b[1;32mIn[13], line 2\u001b[0m\n\u001b[0;32m      1\u001b[0m \u001b[38;5;66;03m# set in set elements\u001b[39;00m\n\u001b[1;32m----> 2\u001b[0m set2 \u001b[38;5;241m=\u001b[39m {\u001b[38;5;241m1\u001b[39m,\u001b[38;5;241m2\u001b[39m,\u001b[38;5;241m3\u001b[39m,{\u001b[38;5;124m\"\u001b[39m\u001b[38;5;124mhello\u001b[39m\u001b[38;5;124m\"\u001b[39m,\u001b[38;5;124m\"\u001b[39m\u001b[38;5;124mjello\u001b[39m\u001b[38;5;124m\"\u001b[39m}};\n\u001b[0;32m      3\u001b[0m \u001b[38;5;28mprint\u001b[39m(set2)\n",
      "\u001b[1;31mTypeError\u001b[0m: unhashable type: 'set'"
     ]
    }
   ],
   "source": [
    "# set in set elements\n",
    "set2 = {1,2,3,{\"hello\",\"jello\"}};\n",
    "print(set2)"
   ]
  },
  {
   "cell_type": "markdown",
   "id": "d24d2194-9692-414e-8eb9-8aa5a0851d5a",
   "metadata": {},
   "source": [
    "***In the above code, we have created two sets, the set set1 have immutable elements and set2 have one mutable element as a list. \n",
    "\n",
    "While checking the type of set2, it raised an error, which means set can contain only immutable elements.***"
   ]
  },
  {
   "cell_type": "markdown",
   "id": "aee817de-2a4a-4dfd-b028-5b9b581394fa",
   "metadata": {},
   "source": [
    "***Creating an empty set is a bit different because empty curly {} braces are also used to create a dictionary as well. \n",
    "\n",
    "So Python provides the set() method used without an argument to create an empty set.***\n",
    "\n"
   ]
  },
  {
   "cell_type": "code",
   "execution_count": 14,
   "id": "e7565705-dd19-4f9e-a62b-97d6413b251d",
   "metadata": {},
   "outputs": [
    {
     "ename": "NameError",
     "evalue": "name 'emp_dict' is not defined",
     "output_type": "error",
     "traceback": [
      "\u001b[1;31m---------------------------------------------------------------------------\u001b[0m",
      "\u001b[1;31mNameError\u001b[0m                                 Traceback (most recent call last)",
      "Cell \u001b[1;32mIn[14], line 2\u001b[0m\n\u001b[0;32m      1\u001b[0m emt_dict \u001b[38;5;241m=\u001b[39m {}\n\u001b[1;32m----> 2\u001b[0m \u001b[38;5;28mtype\u001b[39m(\u001b[43memp_dict\u001b[49m)\n",
      "\u001b[1;31mNameError\u001b[0m: name 'emp_dict' is not defined"
     ]
    }
   ],
   "source": [
    "emt_dict = {}\n",
    "type(emp_dict)"
   ]
  },
  {
   "cell_type": "code",
   "execution_count": 15,
   "id": "9dedda66-c3eb-40e5-be4c-0675e20ab2d2",
   "metadata": {},
   "outputs": [
    {
     "data": {
      "text/plain": [
       "set"
      ]
     },
     "execution_count": 15,
     "metadata": {},
     "output_type": "execute_result"
    }
   ],
   "source": [
    "emt_set = set()\n",
    "type(emt_set)"
   ]
  },
  {
   "cell_type": "code",
   "execution_count": 16,
   "id": "66f33e3a-67d7-4d88-86cf-96325c2313a9",
   "metadata": {},
   "outputs": [
    {
     "name": "stdout",
     "output_type": "stream",
     "text": [
      "Return set with unique element {1, 2, 4, 8, 9, 10}\n"
     ]
    }
   ],
   "source": [
    "set5 = {1,2,4,4,8,9,9,10}\n",
    "print(\"Return set with unique element\",set5)"
   ]
  },
  {
   "cell_type": "code",
   "execution_count": 17,
   "id": "0eeb56ee-370e-4d42-b63c-d3b8bd7ec121",
   "metadata": {},
   "outputs": [],
   "source": [
    "Months = {\"Jan\",\"Feb\",\"Mar\"}"
   ]
  },
  {
   "cell_type": "code",
   "execution_count": 18,
   "id": "1e4943c6-6601-44c9-ab00-eecc3ed4b4b6",
   "metadata": {},
   "outputs": [
    {
     "data": {
      "text/plain": [
       "set"
      ]
     },
     "execution_count": 18,
     "metadata": {},
     "output_type": "execute_result"
    }
   ],
   "source": [
    "type(Months)"
   ]
  },
  {
   "cell_type": "code",
   "execution_count": 19,
   "id": "20a9e9e4-904b-4d3f-a613-7d4c203de8b2",
   "metadata": {},
   "outputs": [],
   "source": [
    "Months.add(\"June\")"
   ]
  },
  {
   "cell_type": "code",
   "execution_count": 20,
   "id": "e068b8a1-7cc9-4520-9d14-dfa38a5348a5",
   "metadata": {},
   "outputs": [
    {
     "data": {
      "text/plain": [
       "{'Feb', 'Jan', 'June', 'Mar'}"
      ]
     },
     "execution_count": 20,
     "metadata": {},
     "output_type": "execute_result"
    }
   ],
   "source": [
    "Months"
   ]
  },
  {
   "cell_type": "code",
   "execution_count": 21,
   "id": "d89dc88b-3777-421c-b069-6cc03c1daa82",
   "metadata": {},
   "outputs": [
    {
     "data": {
      "text/plain": [
       "{'Feb', 'Jan', 'June', 'Mar'}"
      ]
     },
     "execution_count": 21,
     "metadata": {},
     "output_type": "execute_result"
    }
   ],
   "source": [
    "Months"
   ]
  },
  {
   "cell_type": "code",
   "execution_count": 22,
   "id": "169d1f1d-0d6c-4e51-a7fd-4eb9c36ad8d2",
   "metadata": {},
   "outputs": [
    {
     "name": "stdout",
     "output_type": "stream",
     "text": [
      "Feb\n",
      "June\n",
      "Jan\n",
      "Mar\n"
     ]
    }
   ],
   "source": [
    "for i in Months:\n",
    "    print(i)"
   ]
  },
  {
   "cell_type": "code",
   "execution_count": 23,
   "id": "e3cd609d-1b7d-47fc-a6a3-830ea0165fec",
   "metadata": {},
   "outputs": [
    {
     "data": {
      "text/plain": [
       "{1, 2, 4, 8, 9, 10}"
      ]
     },
     "execution_count": 23,
     "metadata": {},
     "output_type": "execute_result"
    }
   ],
   "source": [
    "set5"
   ]
  },
  {
   "cell_type": "code",
   "execution_count": 24,
   "id": "1668890c-0fc1-4985-934e-c7e01eafc7f8",
   "metadata": {},
   "outputs": [
    {
     "data": {
      "text/plain": [
       "{'Feb', 'Jan', 'June', 'Mar'}"
      ]
     },
     "execution_count": 24,
     "metadata": {},
     "output_type": "execute_result"
    }
   ],
   "source": [
    "Months"
   ]
  },
  {
   "cell_type": "code",
   "execution_count": 25,
   "id": "9732e2e3-ef4d-4eff-b9a7-56eec1e0320a",
   "metadata": {},
   "outputs": [],
   "source": [
    "Months.update([\"April\",\"May\"])"
   ]
  },
  {
   "cell_type": "code",
   "execution_count": 26,
   "id": "768c7f7e-32e7-4fa7-b848-777d52952f27",
   "metadata": {},
   "outputs": [
    {
     "data": {
      "text/plain": [
       "{'April', 'Feb', 'Jan', 'June', 'Mar', 'May'}"
      ]
     },
     "execution_count": 26,
     "metadata": {},
     "output_type": "execute_result"
    }
   ],
   "source": [
    "Months"
   ]
  },
  {
   "cell_type": "markdown",
   "id": "615f0322-4729-4d2f-822d-c79d49829590",
   "metadata": {},
   "source": [
    "### Removing items from the set\n",
    "    \n",
    "    Python provides the discard() method and remove() method which can be used to remove the items from the set. \n",
    "\n",
    "    The difference between these function, using discard() function if the item does not exist in the set then the set remain unchanged whereas remove() method will through an error."
   ]
  },
  {
   "cell_type": "code",
   "execution_count": 27,
   "id": "03edc6e2-bb25-4dd2-b232-d20ad0601608",
   "metadata": {},
   "outputs": [
    {
     "data": {
      "text/plain": [
       "{'April', 'Feb', 'Jan', 'June', 'Mar', 'May'}"
      ]
     },
     "execution_count": 27,
     "metadata": {},
     "output_type": "execute_result"
    }
   ],
   "source": [
    "Months"
   ]
  },
  {
   "cell_type": "code",
   "execution_count": 28,
   "id": "fe46fdad-d247-44eb-bfde-1b0709c0dcfd",
   "metadata": {},
   "outputs": [],
   "source": [
    "Months.discard(\"April\")"
   ]
  },
  {
   "cell_type": "code",
   "execution_count": 29,
   "id": "1a4d73bb-4d64-433a-b85b-977252326d92",
   "metadata": {},
   "outputs": [
    {
     "data": {
      "text/plain": [
       "{'Feb', 'Jan', 'June', 'Mar', 'May'}"
      ]
     },
     "execution_count": 29,
     "metadata": {},
     "output_type": "execute_result"
    }
   ],
   "source": [
    "Months"
   ]
  },
  {
   "cell_type": "code",
   "execution_count": 30,
   "id": "aaa1ccd3-f0bd-4f1c-958c-822c46647337",
   "metadata": {},
   "outputs": [],
   "source": [
    "Months.discard(\"kuchhbhi\")"
   ]
  },
  {
   "cell_type": "code",
   "execution_count": 31,
   "id": "1c48060e-8fbe-4283-a9d8-bede0f52c69f",
   "metadata": {},
   "outputs": [
    {
     "data": {
      "text/plain": [
       "{'Feb', 'Jan', 'June', 'Mar', 'May'}"
      ]
     },
     "execution_count": 31,
     "metadata": {},
     "output_type": "execute_result"
    }
   ],
   "source": [
    "Months"
   ]
  },
  {
   "cell_type": "code",
   "execution_count": 32,
   "id": "76b185c5-dd19-4d8f-9b0f-0ad8f19eab9a",
   "metadata": {},
   "outputs": [
    {
     "ename": "KeyError",
     "evalue": "'kuchhbhi'",
     "output_type": "error",
     "traceback": [
      "\u001b[1;31m---------------------------------------------------------------------------\u001b[0m",
      "\u001b[1;31mKeyError\u001b[0m                                  Traceback (most recent call last)",
      "Cell \u001b[1;32mIn[32], line 2\u001b[0m\n\u001b[0;32m      1\u001b[0m \u001b[38;5;66;03m# when use the remove method for delete item in the set\u001b[39;00m\n\u001b[1;32m----> 2\u001b[0m \u001b[43mMonths\u001b[49m\u001b[38;5;241;43m.\u001b[39;49m\u001b[43mremove\u001b[49m\u001b[43m(\u001b[49m\u001b[38;5;124;43m\"\u001b[39;49m\u001b[38;5;124;43mkuchhbhi\u001b[39;49m\u001b[38;5;124;43m\"\u001b[39;49m\u001b[43m)\u001b[49m\n",
      "\u001b[1;31mKeyError\u001b[0m: 'kuchhbhi'"
     ]
    }
   ],
   "source": [
    "# when use the remove method for delete item in the set\n",
    "Months.remove(\"kuchhbhi\")"
   ]
  },
  {
   "cell_type": "markdown",
   "id": "c3583c34-41c7-4553-aae1-236298729ee7",
   "metadata": {},
   "source": [
    "1. We can also use the pop() method to remove the item. \n",
    "\n",
    "2. Generally, the pop() method will always remove the last item but the set is unordered, we can't determine which element will be popped from set."
   ]
  },
  {
   "cell_type": "code",
   "execution_count": 33,
   "id": "ea48b544-d5c8-4610-b573-46bff3cf52fd",
   "metadata": {},
   "outputs": [
    {
     "data": {
      "text/plain": [
       "{'Feb', 'Jan', 'June', 'Mar', 'May'}"
      ]
     },
     "execution_count": 33,
     "metadata": {},
     "output_type": "execute_result"
    }
   ],
   "source": [
    "Months"
   ]
  },
  {
   "cell_type": "code",
   "execution_count": 34,
   "id": "dd01a4ba-cddc-4a5e-bee7-95ab2d529f87",
   "metadata": {},
   "outputs": [
    {
     "data": {
      "text/plain": [
       "'Feb'"
      ]
     },
     "execution_count": 34,
     "metadata": {},
     "output_type": "execute_result"
    }
   ],
   "source": [
    "Months.pop()"
   ]
  },
  {
   "cell_type": "code",
   "execution_count": 35,
   "id": "7832ab99-62be-45c0-aa50-047f1c0ce045",
   "metadata": {},
   "outputs": [
    {
     "data": {
      "text/plain": [
       "{'Jan', 'June', 'Mar', 'May'}"
      ]
     },
     "execution_count": 35,
     "metadata": {},
     "output_type": "execute_result"
    }
   ],
   "source": [
    "Months"
   ]
  },
  {
   "cell_type": "code",
   "execution_count": 36,
   "id": "a3a66a78-e4d1-4c15-a447-cb88f0683fc9",
   "metadata": {},
   "outputs": [
    {
     "data": {
      "text/plain": [
       "'Jan'"
      ]
     },
     "execution_count": 36,
     "metadata": {},
     "output_type": "execute_result"
    }
   ],
   "source": [
    "Months.pop()"
   ]
  },
  {
   "cell_type": "code",
   "execution_count": 37,
   "id": "de354fae-41f1-45ee-889b-a4da633c37f1",
   "metadata": {},
   "outputs": [
    {
     "data": {
      "text/plain": [
       "{'June', 'Mar', 'May'}"
      ]
     },
     "execution_count": 37,
     "metadata": {},
     "output_type": "execute_result"
    }
   ],
   "source": [
    "Months"
   ]
  },
  {
   "cell_type": "code",
   "execution_count": 38,
   "id": "35a5ac4b-2bf4-4864-bd15-57dc75222203",
   "metadata": {},
   "outputs": [
    {
     "data": {
      "text/plain": [
       "'June'"
      ]
     },
     "execution_count": 38,
     "metadata": {},
     "output_type": "execute_result"
    }
   ],
   "source": [
    "Months.pop()"
   ]
  },
  {
   "cell_type": "code",
   "execution_count": 39,
   "id": "44380daf-df86-4cdc-b066-a46f482cf0c1",
   "metadata": {},
   "outputs": [
    {
     "data": {
      "text/plain": [
       "{'Mar', 'May'}"
      ]
     },
     "execution_count": 39,
     "metadata": {},
     "output_type": "execute_result"
    }
   ],
   "source": [
    "Months"
   ]
  },
  {
   "cell_type": "markdown",
   "id": "ae5c1132-54f2-4716-8702-a5dd12a6e441",
   "metadata": {},
   "source": [
    "***Python provides the clear() method to remove all the items from the set.***"
   ]
  },
  {
   "cell_type": "code",
   "execution_count": 40,
   "id": "b23341e6-d061-405d-a307-6c9635d5a35b",
   "metadata": {},
   "outputs": [],
   "source": [
    "Months.clear()"
   ]
  },
  {
   "cell_type": "code",
   "execution_count": 41,
   "id": "9c6aad0b-a938-45c5-a8ac-541a82c67cb7",
   "metadata": {},
   "outputs": [
    {
     "data": {
      "text/plain": [
       "set()"
      ]
     },
     "execution_count": 41,
     "metadata": {},
     "output_type": "execute_result"
    }
   ],
   "source": [
    "Months"
   ]
  },
  {
   "cell_type": "markdown",
   "id": "f1507813-d170-4ecc-9ca4-9192e40ae940",
   "metadata": {},
   "source": [
    "### Python Set Operations\n",
    "\n",
    "    Set can be performed mathematical operation such as union, intersection, difference, and symmetric difference.  "
   ]
  },
  {
   "cell_type": "markdown",
   "id": "3fb6bfca-9a06-4ae3-8c63-a14c07cb77f1",
   "metadata": {},
   "source": [
    "### 1.Union of two Sets\n",
    "\n",
    "    To combine two or more sets into one set in Python, use the union() function. "
   ]
  },
  {
   "cell_type": "code",
   "execution_count": 42,
   "id": "08d9641c-61f3-4c30-99df-4cd178d8e89c",
   "metadata": {},
   "outputs": [],
   "source": [
    "# first of all using union operator\n",
    "day1 = {\"Sun\",\"Mon\",\"Tue\"}"
   ]
  },
  {
   "cell_type": "code",
   "execution_count": 43,
   "id": "7226d77d-db3b-45e8-ae0d-ccfb0f66d698",
   "metadata": {},
   "outputs": [],
   "source": [
    "day2 = {\"Wed\",\"Thu\",\"Fri\"}"
   ]
  },
  {
   "cell_type": "code",
   "execution_count": 44,
   "id": "0a848fbf-96f2-46b8-b3b7-fa41723a1dbb",
   "metadata": {},
   "outputs": [
    {
     "name": "stdout",
     "output_type": "stream",
     "text": [
      "{'Mon', 'Thu', 'Tue', 'Sun', 'Wed', 'Fri'}\n"
     ]
    }
   ],
   "source": [
    "print(day1|day2)"
   ]
  },
  {
   "cell_type": "code",
   "execution_count": 45,
   "id": "fbe5ed5e-5612-4449-b0a2-3524756eaf1f",
   "metadata": {},
   "outputs": [
    {
     "data": {
      "text/plain": [
       "{'Fri', 'Mon', 'Sun', 'Thu', 'Tue', 'Wed'}"
      ]
     },
     "execution_count": 45,
     "metadata": {},
     "output_type": "execute_result"
    }
   ],
   "source": [
    "day1.union(day2)"
   ]
  },
  {
   "cell_type": "code",
   "execution_count": 46,
   "id": "3b3b88b8-1dc4-47fd-bbb5-da91b1f0547c",
   "metadata": {},
   "outputs": [],
   "source": [
    "set1 = {1,2,3}\n",
    "set2 = {2,3,4}\n",
    "set3 = {3,4,5}"
   ]
  },
  {
   "cell_type": "code",
   "execution_count": 47,
   "id": "8092b00e-3331-420d-8625-4ad2b83bf9dd",
   "metadata": {},
   "outputs": [
    {
     "data": {
      "text/plain": [
       "{1, 2, 3, 4, 5}"
      ]
     },
     "execution_count": 47,
     "metadata": {},
     "output_type": "execute_result"
    }
   ],
   "source": [
    "set1.union(set2,set3)"
   ]
  },
  {
   "cell_type": "markdown",
   "id": "7cbdeac8-0515-4e05-a895-a02298aea122",
   "metadata": {},
   "source": [
    "### The intersection of two sets\n",
    "    \n",
    "    To discover what is common between two or more sets in Python, apply the intersection() function.\n",
    "\n",
    "     One or more sets can also be used as the intersection() function parameters. \n",
    "\n",
    "     "
   ]
  },
  {
   "cell_type": "code",
   "execution_count": 48,
   "id": "12c8585f-7ffc-424f-a0e9-5b6cdd9abdb9",
   "metadata": {},
   "outputs": [
    {
     "data": {
      "text/plain": [
       "{'Mon', 'Sun', 'Tue'}"
      ]
     },
     "execution_count": 48,
     "metadata": {},
     "output_type": "execute_result"
    }
   ],
   "source": [
    "day1"
   ]
  },
  {
   "cell_type": "code",
   "execution_count": 49,
   "id": "64245e7f-1120-49e9-8966-5a1ab2930e3b",
   "metadata": {},
   "outputs": [
    {
     "data": {
      "text/plain": [
       "{'Fri', 'Thu', 'Wed'}"
      ]
     },
     "execution_count": 49,
     "metadata": {},
     "output_type": "execute_result"
    }
   ],
   "source": [
    "day2"
   ]
  },
  {
   "cell_type": "code",
   "execution_count": 50,
   "id": "f1163b1b-8405-4fcf-837e-c9e618b055d0",
   "metadata": {},
   "outputs": [
    {
     "name": "stdout",
     "output_type": "stream",
     "text": [
      "set()\n"
     ]
    }
   ],
   "source": [
    "print(day1 & day2)"
   ]
  },
  {
   "cell_type": "code",
   "execution_count": 51,
   "id": "367ab6a1-126c-402d-ba76-c1186ea61dbf",
   "metadata": {},
   "outputs": [
    {
     "data": {
      "text/plain": [
       "{1, 2, 3}"
      ]
     },
     "execution_count": 51,
     "metadata": {},
     "output_type": "execute_result"
    }
   ],
   "source": [
    "set1"
   ]
  },
  {
   "cell_type": "code",
   "execution_count": 52,
   "id": "1d2e56e8-1269-4844-940f-63f712891154",
   "metadata": {},
   "outputs": [
    {
     "data": {
      "text/plain": [
       "{2, 3, 4}"
      ]
     },
     "execution_count": 52,
     "metadata": {},
     "output_type": "execute_result"
    }
   ],
   "source": [
    "set2"
   ]
  },
  {
   "cell_type": "code",
   "execution_count": 53,
   "id": "99136705-bdca-4a81-870a-665f4b6c386a",
   "metadata": {},
   "outputs": [
    {
     "data": {
      "text/plain": [
       "{2, 3}"
      ]
     },
     "execution_count": 53,
     "metadata": {},
     "output_type": "execute_result"
    }
   ],
   "source": [
    "set1&set2"
   ]
  },
  {
   "cell_type": "code",
   "execution_count": 54,
   "id": "631d41d6-5b20-46d7-b162-1b599020d27a",
   "metadata": {},
   "outputs": [
    {
     "name": "stdout",
     "output_type": "stream",
     "text": [
      "{2, 3}\n"
     ]
    }
   ],
   "source": [
    "# intersection() method\n",
    "print(set1.intersection(set2))"
   ]
  },
  {
   "cell_type": "markdown",
   "id": "1b93dcb6-e0ab-46b4-a098-4325f0ac7069",
   "metadata": {},
   "source": [
    "### 3.The intersection_update() method\n",
    "    The intersection_update() method removes the items from the original set that are not present in both the sets (all the sets if more than one are specified). \n",
    "\n",
    "    The intersection_update() method is different from the intersection() method since it modifies the original set by removing the unwanted items, on the other hand, the intersection() method returns a new set."
   ]
  },
  {
   "cell_type": "code",
   "execution_count": 56,
   "id": "c2fb0e81-4078-447e-98d9-71a16d5b4289",
   "metadata": {},
   "outputs": [],
   "source": [
    "a = {\"pooja\",\"sahil\",\"sona\"}\n",
    "b = {\"sona\",}"
   ]
  },
  {
   "cell_type": "code",
   "execution_count": null,
   "id": "c876605c-72ca-4111-b0ee-b91d61f8c8da",
   "metadata": {},
   "outputs": [],
   "source": []
  }
 ],
 "metadata": {
  "kernelspec": {
   "display_name": "Python 3 (ipykernel)",
   "language": "python",
   "name": "python3"
  },
  "language_info": {
   "codemirror_mode": {
    "name": "ipython",
    "version": 3
   },
   "file_extension": ".py",
   "mimetype": "text/x-python",
   "name": "python",
   "nbconvert_exporter": "python",
   "pygments_lexer": "ipython3",
   "version": "3.12.0"
  }
 },
 "nbformat": 4,
 "nbformat_minor": 5
}
