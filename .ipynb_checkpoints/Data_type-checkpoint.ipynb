{
 "cells": [
  {
   "cell_type": "markdown",
   "id": "ea3718a7-e830-44e4-9ff9-4b3a6ef54536",
   "metadata": {},
   "source": [
    "# Python Data-type\n",
    "***Every value has a datatype, and variables can hold values. Python is a powerfully composed language.so we don't have to characterize the sort of variable while announcing it.***"
   ]
  },
  {
   "cell_type": "markdown",
   "id": "1fae09be-ea8a-453b-8520-fe193e6debce",
   "metadata": {},
   "source": [
    "## Standard data types"
   ]
  },
  {
   "cell_type": "markdown",
   "id": "74eb5e49-4350-4742-a545-6bcac9cf9775",
   "metadata": {},
   "source": [
    "***A variable can contain a variety of values. On the other hand, a person's id must be stored as an integer, while their name must be stored as a string.***"
   ]
  },
  {
   "cell_type": "markdown",
   "id": "d1ce3828-01a7-4c73-b179-38bfec200c8b",
   "metadata": {},
   "source": [
    "### The following is a list of the Python-defined data types.\n",
    "\n",
    "1. Numbers\n",
    "2. Sequence Type\n",
    "3. Boolean\n",
    "4. Set\n",
    "5. Dectionary\n"
   ]
  },
  {
   "cell_type": "markdown",
   "id": "2cafe96b-3651-4a53-bdf7-fdccb4d2912c",
   "metadata": {},
   "source": [
    "### Numbers\n",
    "\n",
    "**Numeric values are stored in numbers.The whole number, float, and complex qualities have a place with a Python Numbers datatype. Python offers the type() function to determine a variable's data type.**\n"
   ]
  },
  {
   "cell_type": "code",
   "execution_count": 1,
   "id": "7fb53bac-e36d-454d-b03a-cadbcd0dce17",
   "metadata": {},
   "outputs": [],
   "source": [
    "a = 5"
   ]
  },
  {
   "cell_type": "code",
   "execution_count": 4,
   "id": "3af1068a-7584-4289-9184-35e19b5f69d0",
   "metadata": {},
   "outputs": [
    {
     "name": "stdout",
     "output_type": "stream",
     "text": [
      "The type of a <class 'int'>\n"
     ]
    }
   ],
   "source": [
    "print(\"The type of a\",type(a))"
   ]
  },
  {
   "cell_type": "code",
   "execution_count": 5,
   "id": "ef4fa24d-4a20-468f-951c-043a2f82e619",
   "metadata": {},
   "outputs": [],
   "source": [
    "b = 30.23"
   ]
  },
  {
   "cell_type": "code",
   "execution_count": 6,
   "id": "1b4800ec-5881-494b-8797-4cbf222d83a3",
   "metadata": {},
   "outputs": [
    {
     "name": "stdout",
     "output_type": "stream",
     "text": [
      "The type of b  <class 'float'>\n"
     ]
    }
   ],
   "source": [
    "print(\"The type of b \",type(b))"
   ]
  },
  {
   "cell_type": "code",
   "execution_count": 7,
   "id": "fee27673-16b3-4bd3-832f-292b70f63159",
   "metadata": {},
   "outputs": [],
   "source": [
    "c = 3 + 3j"
   ]
  },
  {
   "cell_type": "code",
   "execution_count": 8,
   "id": "2d8b9f6a-e502-469a-b5b3-d8e2a7378900",
   "metadata": {},
   "outputs": [
    {
     "name": "stdout",
     "output_type": "stream",
     "text": [
      "The type of c <class 'complex'>\n"
     ]
    }
   ],
   "source": [
    "print(\"The type of c\",type(c))"
   ]
  },
  {
   "cell_type": "code",
   "execution_count": 9,
   "id": "b5593bd6-05e4-4148-93fc-2d5123ca05b7",
   "metadata": {},
   "outputs": [
    {
     "name": "stdout",
     "output_type": "stream",
     "text": [
      "C is a complex Number  True\n"
     ]
    }
   ],
   "source": [
    "print(\"C is a complex Number \",isinstance(c,complex))"
   ]
  },
  {
   "cell_type": "markdown",
   "id": "83f56c11-1efe-42e5-bdba-b22c98dca34e",
   "metadata": {},
   "source": [
    "### Sequence Type \n",
    "\n",
    "**1. String**\n",
    "\n",
    "**The sequence of characters in the quotation marks can be used to describe the string. A string can be defined in Python using single, double, or triple quotes.**\n",
    "\n",
    "When dealing with strings, the operation \"hello\"+\" python\" returns \"hello python,\" and the operator + is used to combine two strings.\r\n",
    "\r\n",
    "Because the operation \"Pythonmultiple * *2 returns \"Python,\" the operato* * is referred to as a repetition operat.**"
   ]
  },
  {
   "cell_type": "code",
   "execution_count": 5,
   "id": "458e327b-1de7-45a9-b3b1-105d4933a74d",
   "metadata": {},
   "outputs": [],
   "source": [
    "str1 = \"My name is Khan\""
   ]
  },
  {
   "cell_type": "code",
   "execution_count": 7,
   "id": "b19b2aac-c6b3-4518-a328-983487982038",
   "metadata": {},
   "outputs": [
    {
     "name": "stdout",
     "output_type": "stream",
     "text": [
      "My name is Khan\n"
     ]
    }
   ],
   "source": [
    "print(str1)"
   ]
  },
  {
   "cell_type": "code",
   "execution_count": 8,
   "id": "0bff916a-1cad-437b-9468-474bf379a49a",
   "metadata": {},
   "outputs": [
    {
     "data": {
      "text/plain": [
       "str"
      ]
     },
     "execution_count": 8,
     "metadata": {},
     "output_type": "execute_result"
    }
   ],
   "source": [
    "type(str1)"
   ]
  },
  {
   "cell_type": "code",
   "execution_count": 12,
   "id": "64d9f2a0-5242-4b76-8a14-b9f6b181735a",
   "metadata": {},
   "outputs": [],
   "source": [
    "s = \"\"\"What is your\n",
    "    name \"\"\""
   ]
  },
  {
   "cell_type": "code",
   "execution_count": 13,
   "id": "62e76c31-23e2-49fe-a7e1-deca466bda02",
   "metadata": {},
   "outputs": [
    {
     "name": "stdout",
     "output_type": "stream",
     "text": [
      "What is your\n",
      "    name \n"
     ]
    }
   ],
   "source": [
    "print(s)"
   ]
  },
  {
   "cell_type": "code",
   "execution_count": 14,
   "id": "12b45d6f-db70-4f67-b142-8ed0dad97500",
   "metadata": {},
   "outputs": [],
   "source": [
    "str1 = \"Hello Python\""
   ]
  },
  {
   "cell_type": "code",
   "execution_count": 17,
   "id": "799bc2c1-ce9a-42c8-b89c-e3c3ccadddb4",
   "metadata": {},
   "outputs": [
    {
     "name": "stdout",
     "output_type": "stream",
     "text": [
      "He\n"
     ]
    }
   ],
   "source": [
    "print(str1[0:2]) #Print first two character using slice operator(:) "
   ]
  },
  {
   "cell_type": "code",
   "execution_count": 18,
   "id": "b636940a-9dd3-4597-b561-685b44293358",
   "metadata": {},
   "outputs": [],
   "source": [
    "str2 = \"how are you\""
   ]
  },
  {
   "cell_type": "code",
   "execution_count": 20,
   "id": "00825613-d188-4a3d-8212-6d98142c28bf",
   "metadata": {},
   "outputs": [
    {
     "name": "stdout",
     "output_type": "stream",
     "text": [
      "o\n"
     ]
    }
   ],
   "source": [
    "print(str1[4]) #printing 4th character of the string"
   ]
  },
  {
   "cell_type": "code",
   "execution_count": 26,
   "id": "2240ded6-1d44-4b34-9579-040f7522428d",
   "metadata": {},
   "outputs": [
    {
     "name": "stdout",
     "output_type": "stream",
     "text": [
      "Hello PythonHello Python\n"
     ]
    }
   ],
   "source": [
    "print(str1*2)"
   ]
  },
  {
   "cell_type": "code",
   "execution_count": 27,
   "id": "4b1e126c-f3b4-4c82-bec2-02f4d0cd1ece",
   "metadata": {},
   "outputs": [
    {
     "name": "stdout",
     "output_type": "stream",
     "text": [
      "Hello Python how are you\n"
     ]
    }
   ],
   "source": [
    "print(str1 +\" \" + str2)"
   ]
  },
  {
   "cell_type": "markdown",
   "id": "d3c0146d-8c92-416d-a649-f39ecc9276db",
   "metadata": {},
   "source": [
    "### List\n",
    "\n",
    "Lists in Python are like arrays in C, but lists can contain data of different types. The things put away in the rundown are isolated with a comma (,) and encased inside square sections [].\n",
    "\n",
    "To gain access to the list's data, we can use slice [:] operators. Like how they worked with strings, the list is handled by the concatenation operator (+) and the repetition operator (*)."
   ]
  },
  {
   "cell_type": "code",
   "execution_count": 28,
   "id": "92a5da04-76f6-43e4-a812-67ad4e89333d",
   "metadata": {},
   "outputs": [],
   "source": [
    "list1 = [1,\"hello\",\"python\",2]"
   ]
  },
  {
   "cell_type": "code",
   "execution_count": 29,
   "id": "a0fd5cc9-6dbc-497e-97d3-cfa733e5d0ec",
   "metadata": {},
   "outputs": [
    {
     "name": "stdout",
     "output_type": "stream",
     "text": [
      "<class 'list'>\n"
     ]
    }
   ],
   "source": [
    "print(type(list1))"
   ]
  },
  {
   "cell_type": "code",
   "execution_count": 30,
   "id": "ee06d986-fdea-4b4a-9116-2c4ef8c07cb4",
   "metadata": {},
   "outputs": [
    {
     "name": "stdout",
     "output_type": "stream",
     "text": [
      "[1, 'hello', 'python', 2]\n"
     ]
    }
   ],
   "source": [
    "print(list1)"
   ]
  },
  {
   "cell_type": "code",
   "execution_count": 31,
   "id": "11fde288-6dc9-4aaa-a1d7-eb2581750c63",
   "metadata": {},
   "outputs": [
    {
     "name": "stdout",
     "output_type": "stream",
     "text": [
      "[1, 'hello', 'python', 2, 1, 'hello', 'python', 2]\n"
     ]
    }
   ],
   "source": [
    "print(list1*2)"
   ]
  },
  {
   "cell_type": "code",
   "execution_count": 32,
   "id": "49952853-f4f7-4ca1-a20e-d61abf5edf01",
   "metadata": {},
   "outputs": [
    {
     "name": "stdout",
     "output_type": "stream",
     "text": [
      "[1, 'hello', 'python', 2, 1, 'hello', 'python', 2]\n"
     ]
    }
   ],
   "source": [
    "print(list1+ list1)"
   ]
  },
  {
   "cell_type": "code",
   "execution_count": 35,
   "id": "bbb5f905-3b09-4cc0-80de-0e6fa1cd8380",
   "metadata": {},
   "outputs": [
    {
     "name": "stdout",
     "output_type": "stream",
     "text": [
      "[1, 'hello']\n"
     ]
    }
   ],
   "source": [
    "print(list1[0:2])"
   ]
  },
  {
   "cell_type": "code",
   "execution_count": 36,
   "id": "d60c54e6-d350-480f-b7ba-bbb725218a8c",
   "metadata": {},
   "outputs": [
    {
     "name": "stdout",
     "output_type": "stream",
     "text": [
      "python\n"
     ]
    }
   ],
   "source": [
    "print(list1[2])"
   ]
  },
  {
   "cell_type": "markdown",
   "id": "d3886107-ff77-4e47-be77-b51654b484ce",
   "metadata": {},
   "source": [
    "### Typle\n",
    "\n",
    "A tuple is like a list. Tuples, like lists, also contain a collection of items from various data types. A parenthetical space () separates the tuple's components from one another.\n",
    "\n",
    "Because we cannot alter the size or value of the items in a tuple, it is a read-only data structure."
   ]
  },
  {
   "cell_type": "code",
   "execution_count": 38,
   "id": "b7363efa-2e32-4f10-b732-f51ba2374789",
   "metadata": {},
   "outputs": [],
   "source": [
    "tup = (\"hi\",\"how\",\"myhobby\")"
   ]
  },
  {
   "cell_type": "code",
   "execution_count": 39,
   "id": "038dd104-f55c-4998-bfbd-a2536360d61b",
   "metadata": {},
   "outputs": [
    {
     "name": "stdout",
     "output_type": "stream",
     "text": [
      "<class 'tuple'>\n"
     ]
    }
   ],
   "source": [
    "print(type(tup))"
   ]
  },
  {
   "cell_type": "code",
   "execution_count": 40,
   "id": "ba629988-c4f7-488c-8a7a-f992a1277066",
   "metadata": {},
   "outputs": [
    {
     "name": "stdout",
     "output_type": "stream",
     "text": [
      "('hi', 'how', 'myhobby')\n"
     ]
    }
   ],
   "source": [
    "print(tup)"
   ]
  },
  {
   "cell_type": "code",
   "execution_count": 41,
   "id": "ab9e9a69-26f6-4c2d-97f6-c48a6c7c8ef2",
   "metadata": {},
   "outputs": [
    {
     "name": "stdout",
     "output_type": "stream",
     "text": [
      "('how', 'myhobby')\n"
     ]
    }
   ],
   "source": [
    "print(tup[1:])"
   ]
  },
  {
   "cell_type": "code",
   "execution_count": 42,
   "id": "9368db31-b81d-43d0-adc3-007011d44f0a",
   "metadata": {},
   "outputs": [
    {
     "name": "stdout",
     "output_type": "stream",
     "text": [
      "how\n"
     ]
    }
   ],
   "source": [
    "print(tup[1])"
   ]
  },
  {
   "cell_type": "code",
   "execution_count": 43,
   "id": "57671f1d-3352-4c88-9378-98eb6d36c0d9",
   "metadata": {},
   "outputs": [
    {
     "name": "stdout",
     "output_type": "stream",
     "text": [
      "('hi',)\n"
     ]
    }
   ],
   "source": [
    "print(tup[0:1])"
   ]
  },
  {
   "cell_type": "code",
   "execution_count": 46,
   "id": "3eaa2858-cc7c-4e2b-af76-43c0e9ddd7dd",
   "metadata": {},
   "outputs": [
    {
     "ename": "TypeError",
     "evalue": "'tuple' object does not support item assignment",
     "output_type": "error",
     "traceback": [
      "\u001b[1;31m---------------------------------------------------------------------------\u001b[0m",
      "\u001b[1;31mTypeError\u001b[0m                                 Traceback (most recent call last)",
      "Cell \u001b[1;32mIn[46], line 1\u001b[0m\n\u001b[1;32m----> 1\u001b[0m \u001b[43mtup\u001b[49m\u001b[43m[\u001b[49m\u001b[38;5;241;43m2\u001b[39;49m\u001b[43m]\u001b[49m \u001b[38;5;241m=\u001b[39m \u001b[38;5;124m\"\u001b[39m\u001b[38;5;124mKhan\u001b[39m\u001b[38;5;124m\"\u001b[39m\n",
      "\u001b[1;31mTypeError\u001b[0m: 'tuple' object does not support item assignment"
     ]
    }
   ],
   "source": [
    "tup[2] = \"Khan\""
   ]
  },
  {
   "cell_type": "markdown",
   "id": "529af6ee-9ec7-40e0-9e53-af0ef4102045",
   "metadata": {},
   "source": [
    "### Dictionary\n",
    "\n",
    "A dictionary is a key-value pair set arranged in any order. It stores a specific value for each key, like an associative array or a hash table. Value is any Python object, while the key can hold any primitive data type.\r\n",
    "\r\n",
    "The comma (,) and the curly braces are used to separate the items in the dictionary."
   ]
  },
  {
   "cell_type": "code",
   "execution_count": 54,
   "id": "33cd67f2-f428-43c6-89c5-174d515ca12a",
   "metadata": {},
   "outputs": [],
   "source": [
    "d = {1:\"pooja\",2:\"Payal\",3:\"Rohan\"}"
   ]
  },
  {
   "cell_type": "code",
   "execution_count": 55,
   "id": "1ab18d1b-c800-4399-aee1-f9278d2ad9a8",
   "metadata": {},
   "outputs": [
    {
     "name": "stdout",
     "output_type": "stream",
     "text": [
      "<class 'dict'>\n"
     ]
    }
   ],
   "source": [
    "print(type(d))"
   ]
  },
  {
   "cell_type": "raw",
   "id": "56e9813a-3125-4595-b68b-f03637ed087e",
   "metadata": {},
   "source": [
    "print(d)"
   ]
  },
  {
   "cell_type": "raw",
   "id": "5643195b-6439-4b38-80f9-95771565f8f4",
   "metadata": {},
   "source": [
    "print(d.keys())"
   ]
  },
  {
   "cell_type": "code",
   "execution_count": 60,
   "id": "55846893-bf4c-4b96-9e09-b08bc80e67a0",
   "metadata": {},
   "outputs": [
    {
     "name": "stdout",
     "output_type": "stream",
     "text": [
      "dict_values(['pooja', 'Payal', 'Rohan'])\n"
     ]
    }
   ],
   "source": [
    "print(d.values())"
   ]
  },
  {
   "cell_type": "code",
   "execution_count": 61,
   "id": "ddf13810-15d7-4392-81a7-d2381f98517f",
   "metadata": {},
   "outputs": [
    {
     "name": "stdout",
     "output_type": "stream",
     "text": [
      "Ist name is pooja\n"
     ]
    }
   ],
   "source": [
    "print(\"Ist name is \" + d[1])"
   ]
  },
  {
   "cell_type": "markdown",
   "id": "d9ccaf21-636b-4655-a2c1-1674551ba67e",
   "metadata": {},
   "source": [
    "### Boolean\n",
    "\n",
    "True and False are the two default values for the Boolean type.\n"
   ]
  },
  {
   "cell_type": "code",
   "execution_count": 62,
   "id": "a83263bf-4a3a-4581-8786-3b9ae9c6fac8",
   "metadata": {},
   "outputs": [
    {
     "name": "stdout",
     "output_type": "stream",
     "text": [
      "<class 'bool'>\n"
     ]
    }
   ],
   "source": [
    "print(type(True))"
   ]
  },
  {
   "cell_type": "code",
   "execution_count": 64,
   "id": "9aa91226-33fa-4eb0-9232-3f4f871f8fe9",
   "metadata": {},
   "outputs": [
    {
     "name": "stdout",
     "output_type": "stream",
     "text": [
      "<class 'bool'>\n"
     ]
    }
   ],
   "source": [
    "print(type(False))"
   ]
  },
  {
   "cell_type": "code",
   "execution_count": 65,
   "id": "41d95279-4810-42a1-98d2-2daddb3c2c4e",
   "metadata": {},
   "outputs": [
    {
     "ename": "NameError",
     "evalue": "name 'false' is not defined",
     "output_type": "error",
     "traceback": [
      "\u001b[1;31m---------------------------------------------------------------------------\u001b[0m",
      "\u001b[1;31mNameError\u001b[0m                                 Traceback (most recent call last)",
      "Cell \u001b[1;32mIn[65], line 1\u001b[0m\n\u001b[1;32m----> 1\u001b[0m \u001b[38;5;28mprint\u001b[39m(\u001b[43mfalse\u001b[49m)\n",
      "\u001b[1;31mNameError\u001b[0m: name 'false' is not defined"
     ]
    }
   ],
   "source": [
    "print(false)"
   ]
  },
  {
   "cell_type": "markdown",
   "id": "3046acc3-7785-4e66-983c-26be3eb58798",
   "metadata": {},
   "source": [
    "### Set\n",
    "The data type's unordered collection is Python Set. It is iterable, mutable(can change after creation), and has remarkable components. The elements of a set have no set order; It might return the element's altered sequence. Either a sequence of elements is passed through the curly braces and separated by a comma to create the set or the built-in function set() is used to create the set. It can contain different kinds of values."
   ]
  },
  {
   "cell_type": "code",
   "execution_count": 66,
   "id": "53a0c27f-fc80-4870-90da-a6f918bf5758",
   "metadata": {},
   "outputs": [],
   "source": [
    "set1 = set()"
   ]
  },
  {
   "cell_type": "code",
   "execution_count": 67,
   "id": "0a5f17f5-12b4-472e-8e16-380506f37098",
   "metadata": {},
   "outputs": [
    {
     "name": "stdout",
     "output_type": "stream",
     "text": [
      "<class 'set'>\n"
     ]
    }
   ],
   "source": [
    "print(type(set1))"
   ]
  },
  {
   "cell_type": "code",
   "execution_count": 68,
   "id": "e694facc-c04c-41c2-873b-89929d642297",
   "metadata": {},
   "outputs": [
    {
     "name": "stdout",
     "output_type": "stream",
     "text": [
      "set()\n"
     ]
    }
   ],
   "source": [
    "print(set1)"
   ]
  },
  {
   "cell_type": "code",
   "execution_count": 69,
   "id": "fb8171a2-8f54-4504-953f-6714b0dbe8d8",
   "metadata": {},
   "outputs": [],
   "source": [
    "set2 = {\"pooja\",\"payal\",\"riya\",2,3}"
   ]
  },
  {
   "cell_type": "code",
   "execution_count": 70,
   "id": "91adb070-3390-4103-a8d8-61351ad7bb86",
   "metadata": {},
   "outputs": [
    {
     "name": "stdout",
     "output_type": "stream",
     "text": [
      "{'riya', 2, 3, 'pooja', 'payal'}\n"
     ]
    }
   ],
   "source": [
    "print(set2)"
   ]
  },
  {
   "cell_type": "code",
   "execution_count": 71,
   "id": "471d2f3c-03de-4fc3-b0d3-896d04d65686",
   "metadata": {},
   "outputs": [
    {
     "name": "stdout",
     "output_type": "stream",
     "text": [
      "{'riya', 2, 3, 'pooja', 'payal'}\n"
     ]
    }
   ],
   "source": [
    "print(set2)"
   ]
  },
  {
   "cell_type": "code",
   "execution_count": 72,
   "id": "798e4af4-415a-4334-b997-5c924f507534",
   "metadata": {},
   "outputs": [],
   "source": [
    "set2.add(10)"
   ]
  },
  {
   "cell_type": "code",
   "execution_count": 73,
   "id": "6c52c503-0a2b-47d1-98ca-4e18dee6c81b",
   "metadata": {},
   "outputs": [
    {
     "data": {
      "text/plain": [
       "{10, 2, 3, 'payal', 'pooja', 'riya'}"
      ]
     },
     "execution_count": 73,
     "metadata": {},
     "output_type": "execute_result"
    }
   ],
   "source": [
    "set2"
   ]
  },
  {
   "cell_type": "code",
   "execution_count": 74,
   "id": "fff6d7be-48e2-49e5-929a-bd3a75b82f51",
   "metadata": {},
   "outputs": [
    {
     "data": {
      "text/plain": [
       "{10, 2, 3, 'payal', 'pooja', 'riya'}"
      ]
     },
     "execution_count": 74,
     "metadata": {},
     "output_type": "execute_result"
    }
   ],
   "source": [
    "set2"
   ]
  },
  {
   "cell_type": "code",
   "execution_count": 75,
   "id": "74189c1a-4f26-4612-a70a-cfcd2df5fd3c",
   "metadata": {},
   "outputs": [],
   "source": [
    "set2.remove(\"riya\")"
   ]
  },
  {
   "cell_type": "code",
   "execution_count": 76,
   "id": "c6fd5276-f898-4a5f-8024-9e3bbdf9c07f",
   "metadata": {},
   "outputs": [
    {
     "data": {
      "text/plain": [
       "{10, 2, 3, 'payal', 'pooja'}"
      ]
     },
     "execution_count": 76,
     "metadata": {},
     "output_type": "execute_result"
    }
   ],
   "source": [
    "set2"
   ]
  },
  {
   "cell_type": "code",
   "execution_count": null,
   "id": "d8b95fee-a354-49f2-9026-b00deb1c3f20",
   "metadata": {},
   "outputs": [],
   "source": []
  }
 ],
 "metadata": {
  "kernelspec": {
   "display_name": "Python 3 (ipykernel)",
   "language": "python",
   "name": "python3"
  },
  "language_info": {
   "codemirror_mode": {
    "name": "ipython",
    "version": 3
   },
   "file_extension": ".py",
   "mimetype": "text/x-python",
   "name": "python",
   "nbconvert_exporter": "python",
   "pygments_lexer": "ipython3",
   "version": "3.12.0"
  }
 },
 "nbformat": 4,
 "nbformat_minor": 5
}
