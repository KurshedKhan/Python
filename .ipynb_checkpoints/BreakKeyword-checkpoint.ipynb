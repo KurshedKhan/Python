{
 "cells": [
  {
   "cell_type": "markdown",
   "id": "4f643cd0-ee1d-4eaf-be20-c02e088b6096",
   "metadata": {},
   "source": [
    "# Python break keyword\n",
    "\n",
    "    1. The break is a keyword in python which is used to bring the program control out of the loop\n",
    "\n",
    "    2. The break statement breaks the loops one by one, i.e., in the case of nested loops, it breaks the inner loop first and then proceeds to outer loops.\n",
    "\n",
    "    3. In other words, we can say that break is used to abort the current execution of the program and the control goes to the next line after the loop.\n",
    "\n",
    "    4.The break is commonly used in the cases where we need to break the loop for a given condition."
   ]
  },
  {
   "cell_type": "code",
   "execution_count": 1,
   "id": "3c65d9d6-08c3-485c-94a4-8b51325777b6",
   "metadata": {},
   "outputs": [
    {
     "name": "stdout",
     "output_type": "stream",
     "text": [
      "Item Matched\n"
     ]
    }
   ],
   "source": [
    "# break statement with for loop\n",
    "mylist = [1,2,3,4,5,6]\n",
    "count = 1\n",
    "for item in mylist:\n",
    "    if item == 4:\n",
    "        print(\"Item Matched\")\n",
    "        count += 1\n",
    "        break\n"
   ]
  },
  {
   "cell_type": "code",
   "execution_count": 2,
   "id": "0908f03e-2443-4787-969b-cb47e0f881a1",
   "metadata": {},
   "outputs": [
    {
     "name": "stdout",
     "output_type": "stream",
     "text": [
      "k\n",
      "u\n",
      "r\n"
     ]
    }
   ],
   "source": [
    "# string example\n",
    "my_str = \"kurshed\"\n",
    "for str in my_str:\n",
    "    if str == \"s\":\n",
    "        break\n",
    "    print(str)"
   ]
  },
  {
   "cell_type": "code",
   "execution_count": 3,
   "id": "65b1c492-ee47-4e8f-b562-6f022be80bf8",
   "metadata": {},
   "outputs": [
    {
     "name": "stdout",
     "output_type": "stream",
     "text": [
      "0  1  2  3  4  5  6  7  8  9  came out of while loop\n"
     ]
    }
   ],
   "source": [
    "i = 0\n",
    "while 1:\n",
    "    print(i,\" \",end=\"\")\n",
    "    i = i+1\n",
    "    if i== 10:\n",
    "        break\n",
    "print(\"came out of while loop\")"
   ]
  },
  {
   "cell_type": "markdown",
   "id": "87d31ec9-c427-44fd-abb9-5012e9029518",
   "metadata": {},
   "source": [
    "# Python Continue Keyword"
   ]
  },
  {
   "cell_type": "code",
   "execution_count": 4,
   "id": "d43d34ae-70d4-4b14-93b4-acf3a80a5a86",
   "metadata": {},
   "outputs": [
    {
     "name": "stdout",
     "output_type": "stream",
     "text": [
      "10\n",
      "11\n",
      "12\n",
      "13\n",
      "14\n",
      "16\n",
      "17\n",
      "18\n",
      "19\n",
      "20\n"
     ]
    }
   ],
   "source": [
    "for item in range(10,21):\n",
    "    if item == 15:\n",
    "        continue\n",
    "    print(item)"
   ]
  },
  {
   "cell_type": "code",
   "execution_count": null,
   "id": "f6847d73-2973-41c7-9db4-f3c9207d0013",
   "metadata": {},
   "outputs": [],
   "source": [
    "string = \"kurshed Khan\"\n",
    "item = 0\n",
    "for item in len(string):\n",
    "    if string[item] == \"d\":\n",
    "        continue\n",
    "    print(string[item])\n",
    "    item+=1"
   ]
  },
  {
   "cell_type": "markdown",
   "id": "56efa958-37f4-44b1-8207-ffbe9f3cf328",
   "metadata": {},
   "source": [
    "# Python Pass keyword\n",
    "\n",
    "    The pass statement is also known as the null statement."
   ]
  },
  {
   "cell_type": "code",
   "execution_count": null,
   "id": "4a362797-457d-4ab7-8686-c9c7859ceaba",
   "metadata": {},
   "outputs": [],
   "source": [
    "sequence = {\"kurshed\",\"sanu\",\"rita\",\"pooja\"}\n",
    "for value in sequence:\n",
    "    if value == \"sanu\":\n",
    "        pass\n",
    "    else:\n",
    "        print(\"not reached pass keyword:\",value)\n",
    "\n",
    "sequence"
   ]
  },
  {
   "cell_type": "code",
   "execution_count": null,
   "id": "45c85d97-e946-47af-874b-773724937068",
   "metadata": {},
   "outputs": [],
   "source": []
  },
  {
   "cell_type": "code",
   "execution_count": null,
   "id": "f68816ca-58fa-4b18-9a43-2be8d2560ff9",
   "metadata": {},
   "outputs": [],
   "source": []
  }
 ],
 "metadata": {
  "kernelspec": {
   "display_name": "Python 3 (ipykernel)",
   "language": "python",
   "name": "python3"
  },
  "language_info": {
   "codemirror_mode": {
    "name": "ipython",
    "version": 3
   },
   "file_extension": ".py",
   "mimetype": "text/x-python",
   "name": "python",
   "nbconvert_exporter": "python",
   "pygments_lexer": "ipython3",
   "version": "3.12.0"
  }
 },
 "nbformat": 4,
 "nbformat_minor": 5
}
