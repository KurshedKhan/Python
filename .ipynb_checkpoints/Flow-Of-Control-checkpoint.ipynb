{
 "cells": [
  {
   "cell_type": "markdown",
   "id": "bdfc34ad-7114-4794-acfe-12f74fbd60ca",
   "metadata": {},
   "source": [
    "# FLOW OF CONTROL "
   ]
  },
  {
   "cell_type": "markdown",
   "id": "f86154fe-d675-47ee-876e-e1e5c5dd6e12",
   "metadata": {},
   "source": [
    "#### The concept of sequence, where Python executes one statements after another from beginning to the end of the program."
   ]
  },
  {
   "cell_type": "markdown",
   "id": "797fb74b-ec1f-48aa-80da-442ab50158f1",
   "metadata": {},
   "source": [
    "#### The order of execution of the statements in a program is known as flow of control."
   ]
  },
  {
   "cell_type": "markdown",
   "id": "c00389b8-71d9-4aba-a27b-e386fb86a031",
   "metadata": {},
   "source": [
    "#### The flow of control can be implemented using control structures."
   ]
  },
  {
   "cell_type": "markdown",
   "id": "831d95a3-3528-4adf-ae78-2d2fdc78c379",
   "metadata": {},
   "source": [
    "#### Python supports two types of controls structures-\n",
    "1. Selection\n",
    "2. Repetition"
   ]
  },
  {
   "cell_type": "markdown",
   "id": "4f48fc6d-c194-4ce7-96cc-8d42f8ea3dd6",
   "metadata": {},
   "source": [
    "## Q.1  Program to print the difference of two numbers."
   ]
  },
  {
   "cell_type": "code",
   "execution_count": 1,
   "id": "4f97fdfa-865e-40df-9987-882cb6ea88dd",
   "metadata": {},
   "outputs": [
    {
     "name": "stdin",
     "output_type": "stream",
     "text": [
      "Enter first number :  10\n",
      "Enter second number :  20\n"
     ]
    },
    {
     "name": "stdout",
     "output_type": "stream",
     "text": [
      "The difference of  10 and 20 is :  -10\n"
     ]
    }
   ],
   "source": [
    "# print the difference of two numbers\n",
    "num1 = int(input(\"Enter first number : \"))\n",
    "num2 = int(input(\"Enter second number : \"))\n",
    "diff = num1 - num2 \n",
    "print(\"The difference of \",num1,\"and\",num2,\"is : \",diff)"
   ]
  },
  {
   "cell_type": "code",
   "execution_count": null,
   "id": "64f05e98-ec5c-42dd-8037-75b8a2799a0f",
   "metadata": {},
   "outputs": [],
   "source": []
  },
  {
   "cell_type": "markdown",
   "id": "bffe3d03-0c4e-4c39-96ed-179fb15cae25",
   "metadata": {},
   "source": [
    "# Selection"
   ]
  },
  {
   "cell_type": "markdown",
   "id": "8ce9b34c-00c8-425c-9b48-1124c76e8cb1",
   "metadata": {},
   "source": [
    "#### A decision involves selecting from one of the two or more possible options."
   ]
  },
  {
   "cell_type": "markdown",
   "id": "53808c48-ed53-4e37-a8ec-b8c17fa5590c",
   "metadata": {},
   "source": [
    "#### In programming, this concept of decision making or selection is imiplemented with the help of `if...else` statement"
   ]
  },
  {
   "cell_type": "markdown",
   "id": "be606833-d71e-44c8-82fb-9958e9602f6c",
   "metadata": {},
   "source": [
    "``` mermaid\n",
    "flowchart TD\n",
    "    A[Start] --> B[Input num1, num2]\n",
    "    B --> C{Is num1 > num2?}\n",
    "    C -- Yes --> D[diff = num1 - num2]\n",
    "    C -- No --> E[diff = num2 - num1]\n",
    "    D --> F[Print diff]\n",
    "    E --> F\n",
    "    F --> G[Stop]\n",
    "\n",
    "```"
   ]
  },
  {
   "cell_type": "markdown",
   "id": "c8d1d766-6462-49d0-8a3b-a6bc7b8eaa5b",
   "metadata": {},
   "source": [
    "# Flowchart: Decision Making Process\n",
    "\n",
    "This flowchart takes two inputs (num1 and num2) and determines the difference based on their values.\n",
    "\n",
    "## Steps:\n",
    "\n",
    "1. *Start*: The process begins.\n",
    "2. *Input num1, num2*: The user inputs two numbers.\n",
    "3. *Decision (Is num1 > num2?)*:\n",
    "   - If *Yes*, calculate the difference as diff = num1 - num2.\n",
    "   - If *No*, calculate the difference as diff = num2 - num1.\n",
    "4. *Print diff*: The calculated difference (diff) is printed.\n",
    "5. *Stop*: The process ends.\n",
    "\n",
    "### Flowchart Summary\n",
    "The flowchart checks whether the first number (num1) is greater than the second number (num2). Depending on the result, it calculates the difference accordingly and outputs it."
   ]
  },
  {
   "cell_type": "markdown",
   "id": "b0f7619a-3ef0-4b9a-8d42-939af82f5af9",
   "metadata": {},
   "source": [
    "### The syntax of `if` statement is : "
   ]
  },
  {
   "cell_type": "code",
   "execution_count": 2,
   "id": "18e885b9-24d4-4ab5-a952-6c871a511a82",
   "metadata": {},
   "outputs": [],
   "source": [
    "# if condition:\n",
    "#     statement (s)"
   ]
  },
  {
   "cell_type": "markdown",
   "id": "ddf75372-6ad6-4917-809e-05b6f3e83d6e",
   "metadata": {},
   "source": [
    "#### Note : The indentation implies that its execution is dependent on the condition."
   ]
  },
  {
   "cell_type": "code",
   "execution_count": 3,
   "id": "52606088-03e4-4f15-9778-b4095cbe1928",
   "metadata": {},
   "outputs": [
    {
     "name": "stdin",
     "output_type": "stream",
     "text": [
      "Enter your age :  21\n"
     ]
    },
    {
     "name": "stdout",
     "output_type": "stream",
     "text": [
      "Eligible to vote\n"
     ]
    }
   ],
   "source": [
    "# Example 1 : \n",
    "age = int(input(\"Enter your age : \"))\n",
    "if age >= 18 :\n",
    "    print(\"Eligible to vote\")"
   ]
  },
  {
   "cell_type": "markdown",
   "id": "d6f0034d-58c2-4911-a7bf-ef5292bc881e",
   "metadata": {},
   "source": [
    "#### A variant of `if` statement called `if...else` statement allows us to write two alternative paths and the control condition determines which path gets executed. "
   ]
  },
  {
   "cell_type": "markdown",
   "id": "a051664f-a55c-48d5-9305-387479d50d42",
   "metadata": {},
   "source": [
    "### The syntax for `if...else` statement is :"
   ]
  },
  {
   "cell_type": "code",
   "execution_count": 4,
   "id": "54aab986-40bf-4bc2-b43c-b301752f06fe",
   "metadata": {},
   "outputs": [],
   "source": [
    "# if condition:\n",
    "#      statement (s)\n",
    "# else:\n",
    "#      statement (s)"
   ]
  },
  {
   "cell_type": "code",
   "execution_count": 6,
   "id": "9f15df44-362b-4185-8db1-a2711b34a5f0",
   "metadata": {},
   "outputs": [
    {
     "name": "stdin",
     "output_type": "stream",
     "text": [
      "Enter your age :  21\n"
     ]
    },
    {
     "name": "stdout",
     "output_type": "stream",
     "text": [
      "Eligible to vote\n"
     ]
    }
   ],
   "source": [
    "age = int(input(\"Enter your age : \"))\n",
    "if age >=18:\n",
    "    print(\"Eligible to vote\")\n",
    "else:\n",
    "    print(\"Not eligible to vote\")"
   ]
  },
  {
   "cell_type": "markdown",
   "id": "139db905-a4bc-49bd-a91d-3a171dc469b5",
   "metadata": {},
   "source": [
    "## Q.2 Program to print the positive difference of two numbers."
   ]
  },
  {
   "cell_type": "code",
   "execution_count": 7,
   "id": "aa124a2a-5ef9-4d44-9eaf-8ad1d89fce46",
   "metadata": {},
   "outputs": [
    {
     "name": "stdin",
     "output_type": "stream",
     "text": [
      "Enter first number : 10\n",
      "Enter second number : 9\n"
     ]
    },
    {
     "name": "stdout",
     "output_type": "stream",
     "text": [
      "Positive difference of 10 and 9 is : 1\n"
     ]
    }
   ],
   "source": [
    "# print the positive difference of two numbers\n",
    "num1 = int(input(\"Enter first number :\"))\n",
    "num2 = int(input(\"Enter second number :\"))\n",
    "diff = 0\n",
    "if num1 > num2 :\n",
    "    diff = num1-num2\n",
    "else:\n",
    "    diff = num2-num1\n",
    "\n",
    "print(\"Positive difference of\",num1,\"and\",num2,\"is :\",diff)"
   ]
  },
  {
   "cell_type": "markdown",
   "id": "b0915e0e-9ae4-40c8-89b7-6be6dfcc2605",
   "metadata": {},
   "source": [
    "#### Many a times there are situations that require multiple conditions to be checked and it may lead to many alternatives."
   ]
  },
  {
   "cell_type": "markdown",
   "id": "1714975f-5142-42ef-9901-89c04c5b3307",
   "metadata": {},
   "source": [
    "## The syntax for a selection structure using `if...elif`(`elif` means `else...if`) "
   ]
  },
  {
   "cell_type": "code",
   "execution_count": 8,
   "id": "c5ccc59c-0430-4427-8f00-df69c6ad2e5c",
   "metadata": {},
   "outputs": [],
   "source": [
    "# if condition:\n",
    "#     statement (s)\n",
    "# elif condition:\n",
    "#     statement (s)\n",
    "# elif condition:\n",
    "#     statement (s)\n",
    "# else:\n",
    "#     statement (s)"
   ]
  },
  {
   "cell_type": "code",
   "execution_count": 9,
   "id": "f9c464bc-d44a-4a12-8bfc-7d7c6030eb39",
   "metadata": {},
   "outputs": [
    {
     "name": "stdin",
     "output_type": "stream",
     "text": [
      "Enter your number 7\n"
     ]
    },
    {
     "name": "stdout",
     "output_type": "stream",
     "text": [
      "7 is a positive number.\n"
     ]
    }
   ],
   "source": [
    "# Example 2 Check whether a number is positive, negative and zero.\n",
    "num1 = int(input(\"Enter your number\"));\n",
    "if num1 > 0:\n",
    "    print(num1 , \"is a positive number.\")\n",
    "elif num1 <0:\n",
    "    print(num1, \"is a negative number.\")\n",
    "elif num1 == 0:\n",
    "    print(num1,\"is a zero number.\")\n",
    "else:\n",
    "    print(\"Wrong data input in prompt.\")"
   ]
  },
  {
   "cell_type": "code",
   "execution_count": 10,
   "id": "21d380b5-d808-4fe3-966b-b47da30af97a",
   "metadata": {},
   "outputs": [
    {
     "name": "stdin",
     "output_type": "stream",
     "text": [
      "Enter your signal colour :  RED\n"
     ]
    },
    {
     "name": "stdout",
     "output_type": "stream",
     "text": [
      "stop here.\n"
     ]
    }
   ],
   "source": [
    "# Example 3 Display the appropriate message as per the colour of signal at the road crossing.\n",
    "signal = input(\"Enter your signal colour : \");\n",
    "if signal == \"Red\" or signal == \"RED\" :\n",
    "    print(\"stop here.\")\n",
    "elif signal == \"Orange\" or signal == \"ORANGE\" :\n",
    "    print(\"Carefully run.\")\n",
    "elif signal == \"Green\" or signal == \"GREEEN\" :\n",
    "    print(\"Go here.\")\n",
    "else:\n",
    "    print(\"wrong data input in prompt,please enter correct data in your prompt.\")"
   ]
  },
  {
   "cell_type": "markdown",
   "id": "09603f2a-a0c0-4dd9-97fb-af01a4e4eddf",
   "metadata": {},
   "source": [
    "- Number of elif is dependent on the number of conditions to be checked.\n",
    "- if the first condition is false, then the next condition is checked and so on.\n",
    "- if one of the condtions is true, then the corresponding indented block executes, and the if statement terminates."
   ]
  },
  {
   "cell_type": "markdown",
   "id": "cf4fb293-e6d6-4b29-a1df-d2c56f03f2c9",
   "metadata": {},
   "source": [
    "## Q.3 Write a program to create a simple calculator performing only four basic operations."
   ]
  },
  {
   "cell_type": "code",
   "execution_count": 11,
   "id": "a1343d5f-77c2-44ae-803e-f0339d4dbaa2",
   "metadata": {},
   "outputs": [
    {
     "name": "stdin",
     "output_type": "stream",
     "text": [
      "Enter first number :  78\n",
      "Enter second number :  78\n",
      "Enter a operator for your calculation : + , - , * , /  *\n"
     ]
    },
    {
     "name": "stdout",
     "output_type": "stream",
     "text": [
      "Result :  6084\n"
     ]
    }
   ],
   "source": [
    "# create a simple calculator\n",
    "num1 = int(input(\"Enter first number : \"))\n",
    "num2 = int(input(\"Enter second number : \"))\n",
    "opr = input(\"Enter a operator for your calculation : + , - , * , / \")\n",
    "result = None\n",
    "if opr == \"+\":\n",
    "    result = num1 + num2\n",
    "elif opr == \"-\":\n",
    "    if num1 > num2 :\n",
    "        result = num1 - num2 \n",
    "    else:\n",
    "        result = num2 - num1\n",
    "elif opr == \"*\":\n",
    "    result = num1 * num2\n",
    "elif opr == \"/\":\n",
    "    if num2 == 0:\n",
    "        print(\"This is not posible condition division with zero\")\n",
    "    else:\n",
    "        result = num1/num2  \n",
    "else:\n",
    "    print(\"please enter basic four symbol,wrong input prompt,try again\")\n",
    "\n",
    "print(\"Result : \",result)"
   ]
  },
  {
   "cell_type": "markdown",
   "id": "97997d91-0b85-4bd3-8f81-593d2d393041",
   "metadata": {},
   "source": [
    "## Indentation in python"
   ]
  },
  {
   "cell_type": "markdown",
   "id": "e39e71a0-805d-4b5e-aa14-928472040df6",
   "metadata": {},
   "source": [
    "- Leading whitespace (spaces and tabs) at the beginning of a statement is called indentation.\n",
    "- Same level of indentation associates statements into a singal block of code.\n",
    "- The interpreter check indentation levels very strictly and throw up syntax errors if indentation is not correct.\n",
    "- It is common practice to use a single tab for each level of indentation."
   ]
  },
  {
   "cell_type": "markdown",
   "id": "310bb353-8d72-48c3-8ca7-a8390f4094f1",
   "metadata": {},
   "source": [
    "## Q.4 Program to find the larger of the two pre-specified numbers."
   ]
  },
  {
   "cell_type": "code",
   "execution_count": 12,
   "id": "d9bafb52-7494-4537-a651-00b26174863e",
   "metadata": {},
   "outputs": [
    {
     "name": "stdout",
     "output_type": "stream",
     "text": [
      "10  is a larger number then  5\n"
     ]
    }
   ],
   "source": [
    "# find the larger of the two numbers.\n",
    "num1 = 10\n",
    "num2 = 5\n",
    "if num1 > num2 :                                            #block 1\n",
    "    print(num1, \" is a larger number then \",num2)\n",
    "else:                                                       #block 2\n",
    "    print(num2 , \" is a larger number than \",num1)"
   ]
  },
  {
   "cell_type": "markdown",
   "id": "3b1ab81f-b403-49df-a3e6-faa08d5aba45",
   "metadata": {},
   "source": [
    "# Repetition"
   ]
  },
  {
   "cell_type": "markdown",
   "id": "fac2c623-8870-47ad-b814-579f238dbd20",
   "metadata": {},
   "source": [
    "``` mermaid\n",
    "graph TD\n",
    "    A[Egg] --> B[Larva/Caterpillar]\n",
    "    B --> C[Pupa/Chrysalis]\n",
    "    C --> D[Butterfly]\n",
    "    D --> A[Egg]\n",
    "``` "
   ]
  },
  {
   "cell_type": "markdown",
   "id": "7c2dc954-f0b4-423a-a684-b048b4b68a7d",
   "metadata": {},
   "source": [
    "- We repeat a tasks, for example, payment of electricity bill, which is done every month.\n",
    "- The kind of repetition is also called iteration.\n",
    "- Repetition of a set of statements in a program is made possible using looping construts."
   ]
  },
  {
   "cell_type": "markdown",
   "id": "32803ec6-7b04-406b-88ed-e896fc9c23ed",
   "metadata": {},
   "source": [
    "## Q.5 Write a program to print the first five natural numbers."
   ]
  },
  {
   "cell_type": "code",
   "execution_count": 13,
   "id": "63645587-a0a7-40f6-8ae0-36a8b1b24003",
   "metadata": {},
   "outputs": [
    {
     "name": "stdout",
     "output_type": "stream",
     "text": [
      "1\n",
      "2\n",
      "3\n",
      "4\n",
      "5\n"
     ]
    }
   ],
   "source": [
    "# print the first five natural numbers.\n",
    "print(1)\n",
    "print(2)\n",
    "print(3)\n",
    "print(4)\n",
    "print(5)"
   ]
  },
  {
   "cell_type": "markdown",
   "id": "4f0821f7-f23f-458c-8f02-df9274f53afe",
   "metadata": {},
   "source": [
    "- Looping constructs provide the facility to execute a set of statements in program repetitively, based on a condition.\n",
    "- The statements in a loop are executed again and again as long as particular logical condition remains true.\n",
    "- **This Condition is checked based on the value of a variable called the `loop's control variable.`**\n",
    "- When the condition becomes false, the loop terminates.\n",
    "- **It is the `responsibility of the progammer` to ensure that this condition eventually does become false so that there is an exiting condition and it does `not become an infinite loop.`**"
   ]
  },
  {
   "cell_type": "markdown",
   "id": "3ea677d9-42d6-44aa-86b6-bda233b5cae4",
   "metadata": {},
   "source": [
    "#### There are two looping constructs in Python- `for` and `while`."
   ]
  },
  {
   "cell_type": "markdown",
   "id": "6315852c-eebc-4f4b-a141-cf5e27117c93",
   "metadata": {},
   "source": [
    "# for loop"
   ]
  },
  {
   "cell_type": "markdown",
   "id": "a9c80a43-8657-45d1-8935-2ad24927ccf3",
   "metadata": {},
   "source": [
    "``` mermaid\n",
    "graph TD\n",
    "    A[Start] --> B[Initialisation Statement]\n",
    "    B --> C{Test Expression}\n",
    "    C -- True --> D[Body of 'For' Loop]\n",
    "    D --> C\n",
    "    C -- False --> E[Exit for Loop]\n",
    "    E --> F[Statement following the loop]\n",
    "    F --> G[Stop]\n",
    "``` "
   ]
  },
  {
   "cell_type": "markdown",
   "id": "e7529113-fc84-4b90-a872-c5a50f130d89",
   "metadata": {},
   "source": [
    "- The `for` statement is used to iterate over a range of values or a sequence.\n",
    "- The `for` loop is executed for each of the items in the range."
   ]
  },
  {
   "cell_type": "markdown",
   "id": "dc3873e8-4553-4dd0-8b81-27d12650c260",
   "metadata": {},
   "source": [
    "### **Syntax of the For Loop**"
   ]
  },
  {
   "cell_type": "code",
   "execution_count": 14,
   "id": "b90506f5-3341-438f-8d0c-b2320f95f3c9",
   "metadata": {},
   "outputs": [],
   "source": [
    "# for <control-variable> in <sequence/items in range>:\n",
    "#     <statements inside body of the loop>"
   ]
  },
  {
   "cell_type": "code",
   "execution_count": null,
   "id": "1f6ceec5-ca85-40bf-ad98-71efbc04df36",
   "metadata": {},
   "outputs": [],
   "source": []
  },
  {
   "cell_type": "markdown",
   "id": "2ea56035-fb7f-4a4d-acd0-60bb5f7acf2d",
   "metadata": {},
   "source": [
    "## Q.6  Program to print the characters in the string 'PYTHON' using `for` loop. "
   ]
  },
  {
   "cell_type": "code",
   "execution_count": 15,
   "id": "b402239c-9703-4bf4-beda-82c48d99eb26",
   "metadata": {},
   "outputs": [
    {
     "name": "stdout",
     "output_type": "stream",
     "text": [
      "P\n",
      "Y\n",
      "T\n",
      "H\n",
      "O\n",
      "N\n"
     ]
    }
   ],
   "source": [
    "# print the characters in the string \"PYTHON\".\n",
    "for char in 'PYTHON':\n",
    "    print(char)"
   ]
  },
  {
   "cell_type": "markdown",
   "id": "beca9063-9375-4b65-b31c-47f31924c293",
   "metadata": {},
   "source": [
    "## Q.7 Program to print the numbers in given sequence using `for` loop. "
   ]
  },
  {
   "cell_type": "code",
   "execution_count": 17,
   "id": "5b80b587-a859-4baf-8f1c-d81a351fb1e0",
   "metadata": {},
   "outputs": [
    {
     "name": "stdout",
     "output_type": "stream",
     "text": [
      "10\n",
      "15\n",
      "17\n",
      "20\n",
      "25\n",
      "56\n"
     ]
    }
   ],
   "source": [
    "# print the numbers in given sequence \n",
    "list1 = [10,15,17,20,25,56]\n",
    "for dis in list1:\n",
    "    print(dis)"
   ]
  },
  {
   "cell_type": "markdown",
   "id": "83d94a91-3273-40d9-8c87-d20ba8e949c9",
   "metadata": {},
   "source": [
    "## Q.8 Program to print even numbers in given sequence using `for` loop. "
   ]
  },
  {
   "cell_type": "code",
   "execution_count": 18,
   "id": "224399b5-730a-4fc1-a399-8cbb299e93e8",
   "metadata": {},
   "outputs": [
    {
     "name": "stdout",
     "output_type": "stream",
     "text": [
      "2 This number is even\n",
      "4 This number is even\n",
      "10 This number is even\n",
      "40 This number is even\n",
      "50 This number is even\n"
     ]
    }
   ],
   "source": [
    "# print even numbers in given sequence \n",
    "list2 = [2,3,4,10,15,40,50]\n",
    "for item in list2:\n",
    "    if (item % 2) == 0 :\n",
    "        print(item,\"This number is even\")"
   ]
  },
  {
   "cell_type": "markdown",
   "id": "e18c0452-4476-4bd2-8cff-3219e2e26ca3",
   "metadata": {},
   "source": [
    "**Note:** Body of the loop is indented with respect to the `for` statement."
   ]
  },
  {
   "cell_type": "markdown",
   "id": "69cfa135-35c9-47e1-ab9e-c917e3e4503c",
   "metadata": {},
   "source": [
    "## Range() Function\n",
    "- The range() is a built-in function in Python.\n",
    "- Syntax of range() function is :"
   ]
  },
  {
   "cell_type": "code",
   "execution_count": 19,
   "id": "92509bbe-fbaa-4665-96df-35a01b587b1a",
   "metadata": {},
   "outputs": [],
   "source": [
    "# range([start],stop[,step])"
   ]
  },
  {
   "cell_type": "markdown",
   "id": "6991bfe6-db64-4c13-a914-d8e9d9fac8e7",
   "metadata": {},
   "source": [
    "- It is used to create a list containing a sequence of integers from the given start value upto stop value (excluding stop value), with a difference of the given step value.\n",
    "- In range() function, start,stop,step are parameters.\n",
    "- The start and step parameters are optional.\n",
    "- If start value is not specified, by default the list starts from 0.\n",
    "- If step value is not specified, by default the value increases by 1 in each iteration.\n",
    "- All parameters of range() function must be integers.\n",
    "- The step parameter can be a positive or negative integer excluding zero."
   ]
  },
  {
   "cell_type": "code",
   "execution_count": 20,
   "id": "c59e5504-de48-4c4c-a4fc-0eed3099737c",
   "metadata": {},
   "outputs": [
    {
     "data": {
      "text/plain": [
       "[0, 1, 2, 3, 4]"
      ]
     },
     "execution_count": 20,
     "metadata": {},
     "output_type": "execute_result"
    }
   ],
   "source": [
    " # start and step are not specified\n",
    "list(range(5))"
   ]
  },
  {
   "cell_type": "code",
   "execution_count": 21,
   "id": "5d45b490-8541-4611-a53e-702cbd92dbc8",
   "metadata": {},
   "outputs": [],
   "source": [
    "list1 = range(5)"
   ]
  },
  {
   "cell_type": "code",
   "execution_count": 22,
   "id": "0aaa2a21-753f-4a61-87cb-684f1a789876",
   "metadata": {},
   "outputs": [],
   "source": [
    "list1 = list(range(5))"
   ]
  },
  {
   "cell_type": "code",
   "execution_count": 23,
   "id": "651085cb-c7e8-49dc-a33a-1a71c41d70af",
   "metadata": {},
   "outputs": [
    {
     "data": {
      "text/plain": [
       "[0, 1, 2, 3, 4]"
      ]
     },
     "execution_count": 23,
     "metadata": {},
     "output_type": "execute_result"
    }
   ],
   "source": [
    "list1"
   ]
  },
  {
   "cell_type": "code",
   "execution_count": 24,
   "id": "26ec428c-2607-44f8-acdc-8bbf2e34e123",
   "metadata": {},
   "outputs": [
    {
     "data": {
      "text/plain": [
       "[2, 3, 4, 5, 6, 7, 8, 9]"
      ]
     },
     "execution_count": 24,
     "metadata": {},
     "output_type": "execute_result"
    }
   ],
   "source": [
    "# default step value is 1\n",
    "list(range(2,10))"
   ]
  },
  {
   "cell_type": "code",
   "execution_count": 25,
   "id": "af0f931f-3b14-4111-9c09-78a0f3e5b81c",
   "metadata": {},
   "outputs": [],
   "source": [
    "list2 = list(range(2,15))"
   ]
  },
  {
   "cell_type": "code",
   "execution_count": 26,
   "id": "988aa381-479b-4c52-bf56-d7dc936c9537",
   "metadata": {},
   "outputs": [
    {
     "data": {
      "text/plain": [
       "[2, 3, 4, 5, 6, 7, 8, 9, 10, 11, 12, 13, 14]"
      ]
     },
     "execution_count": 26,
     "metadata": {},
     "output_type": "execute_result"
    }
   ],
   "source": [
    "list2"
   ]
  },
  {
   "cell_type": "code",
   "execution_count": 27,
   "id": "0e7aca23-d203-4903-9181-8c22ae9765a6",
   "metadata": {},
   "outputs": [],
   "source": [
    "list3 = list(range(2,15,5))"
   ]
  },
  {
   "cell_type": "code",
   "execution_count": 28,
   "id": "cf4feeab-fdd9-4799-9693-22edf9ae6f5d",
   "metadata": {},
   "outputs": [
    {
     "data": {
      "text/plain": [
       "[2, 7, 12]"
      ]
     },
     "execution_count": 28,
     "metadata": {},
     "output_type": "execute_result"
    }
   ],
   "source": [
    "list3"
   ]
  },
  {
   "cell_type": "code",
   "execution_count": 29,
   "id": "e8a19206-f7f8-4829-8dda-787949f9ade9",
   "metadata": {},
   "outputs": [],
   "source": [
    "# step value is -1 . Hence, decreasing\n",
    "# sequence is generated.\n",
    "list4 = list(range(0,-10,-2))"
   ]
  },
  {
   "cell_type": "code",
   "execution_count": 30,
   "id": "cd014039-9488-4c13-99ab-2000b069f905",
   "metadata": {},
   "outputs": [
    {
     "data": {
      "text/plain": [
       "[0, -2, -4, -6, -8]"
      ]
     },
     "execution_count": 30,
     "metadata": {},
     "output_type": "execute_result"
    }
   ],
   "source": [
    "list4"
   ]
  },
  {
   "cell_type": "markdown",
   "id": "dd7f1deb-4825-46ba-87db-6757fb0cc8e1",
   "metadata": {},
   "source": [
    "#### The function range() is often used in for loops for generating a sequence of numbers."
   ]
  },
  {
   "cell_type": "markdown",
   "id": "dc3ffc32-e4ec-4b95-87b1-17444c7194de",
   "metadata": {},
   "source": [
    "## Q.9 Program to print the multiples of 10 for numbers in a given range. "
   ]
  },
  {
   "cell_type": "code",
   "execution_count": 31,
   "id": "c8fd4328-2bf2-4d52-aa33-07bdbd3e04e2",
   "metadata": {},
   "outputs": [
    {
     "name": "stdout",
     "output_type": "stream",
     "text": [
      "10\n",
      "20\n",
      "30\n",
      "40\n"
     ]
    }
   ],
   "source": [
    "# print the multiples of 10 for numbers.\n",
    "fixTable = 10\n",
    "for item in range(5) :\n",
    "    if item > 0 :\n",
    "        print(item * fixTable)"
   ]
  },
  {
   "cell_type": "code",
   "execution_count": 32,
   "id": "f79c0c49-45b0-4291-95bf-3d619019ce15",
   "metadata": {},
   "outputs": [
    {
     "name": "stdout",
     "output_type": "stream",
     "text": [
      "10\n",
      "20\n",
      "30\n",
      "40\n"
     ]
    }
   ],
   "source": [
    "fixTable = 10\n",
    "for item in range(1,5) :\n",
    "    print(item * fixTable)"
   ]
  },
  {
   "cell_type": "markdown",
   "id": "8df9aad7-6b06-45e2-89f2-731c48497f8a",
   "metadata": {},
   "source": [
    "## The `While` Loop "
   ]
  },
  {
   "cell_type": "markdown",
   "id": "4533a4cf-394a-4e30-83e2-641798c5989d",
   "metadata": {},
   "source": [
    "``` mermaid\n",
    "flowchart TD\n",
    "    Start --> Initialisation[Initialisation Statement]\n",
    "    Initialisation --> Test[Test Expression]\n",
    "    Test -->|True| Body[Body of while Loop]\n",
    "    Test -->|False| End[Statements following the while loop]\n",
    "    Body --> Test\n",
    "    End --> Stop\n",
    "\n",
    "    Start:::start\n",
    "    Stop:::End\n",
    "    classDef start fill:#f9f,stroke:#333,stroke-width:2px;\n",
    "    classDef End fill:#f9f,stroke:#333,stroke-width:2px;\n",
    "```"
   ]
  },
  {
   "cell_type": "markdown",
   "id": "788260c6-dd53-4f5f-a9ce-72a2597f8bab",
   "metadata": {},
   "source": [
    "1. The `while` statement executes a block of code repeatedly as long as the `control condition` of the loop is true.\n",
    "2. The `control condition` of the `while` loop is executed before any statement inside the loop is executed.\n",
    "3. After each iteration, the `control condition` is tested again and the loop continues as long as the condition remains true.\n",
    "4. When this condition becomes false, the statements in the body of loop are not executed and the control is transferred to the statement immediately following the body of `while` loop.\n",
    "5. If the condition of the `while` loop is initially false, the body is not executed even once.\n",
    "6. `Note :` The statement within the body of the `while` loop must ensure that the condition eventually becomes false; otherwise the loop will become an infinite loop, leading to a logical error in the program.\n"
   ]
  },
  {
   "cell_type": "markdown",
   "id": "c92f5225-4812-40c7-8c04-6712eb4471c5",
   "metadata": {},
   "source": [
    "## Syntax of `while loop`"
   ]
  },
  {
   "cell_type": "code",
   "execution_count": 33,
   "id": "eec617b9-3349-4063-9e98-61d9766bb772",
   "metadata": {},
   "outputs": [],
   "source": [
    "# while tested-condition:\n",
    "#       body of while"
   ]
  },
  {
   "cell_type": "markdown",
   "id": "dd6817ce-245b-46c5-af36-0ba091a46d66",
   "metadata": {},
   "source": [
    "## Q.10 Program to print first 5 natural numbers using `while` loop."
   ]
  },
  {
   "cell_type": "code",
   "execution_count": 34,
   "id": "66f5a5ef-ac0d-4936-b50d-86f12c987615",
   "metadata": {},
   "outputs": [
    {
     "name": "stdout",
     "output_type": "stream",
     "text": [
      "1\n",
      "2\n",
      "3\n",
      "4\n",
      "5\n"
     ]
    }
   ],
   "source": [
    "# print first 5 natural numbers\n",
    "num = 0\n",
    "while num < 5 :\n",
    "    num += 1\n",
    "    print(num)"
   ]
  },
  {
   "cell_type": "code",
   "execution_count": 35,
   "id": "7823f2d8-ec46-4ebc-9cd9-b62ed086f800",
   "metadata": {},
   "outputs": [
    {
     "name": "stdout",
     "output_type": "stream",
     "text": [
      "1\n",
      "2\n",
      "3\n",
      "4\n",
      "5\n"
     ]
    }
   ],
   "source": [
    "# print first 5 natural numbers\n",
    "num = 1\n",
    "while num <= 5 :\n",
    "    print(num)\n",
    "    num += 1"
   ]
  },
  {
   "cell_type": "markdown",
   "id": "c52f1b04-0cd4-44cf-8eb9-34ce421dec4f",
   "metadata": {},
   "source": [
    "## Q.11 Program to find the factors of a `whole number` using `while` loop. "
   ]
  },
  {
   "cell_type": "code",
   "execution_count": 36,
   "id": "4f7eab79-7f6f-442f-82e6-b5a60d35f1e5",
   "metadata": {},
   "outputs": [
    {
     "name": "stdin",
     "output_type": "stream",
     "text": [
      "Enter a number to find its factor:  8\n"
     ]
    },
    {
     "name": "stdout",
     "output_type": "stream",
     "text": [
      "1 2 4 8 "
     ]
    }
   ],
   "source": [
    "# Find the factors of a number using while loop\n",
    "num = int(input(\"Enter a number to find its factor: \"))\n",
    "print(1,end=\" \")\n",
    "factor = 2\n",
    "while factor <= num/2 :\n",
    "    if num % factor == 0 :\n",
    "        print(factor,end=\" \")\n",
    "    factor += 1\n",
    "\n",
    "print(num,end=\" \")"
   ]
  },
  {
   "cell_type": "markdown",
   "id": "bc74b492-16f0-4c35-bc5b-97bc9cdf5ac8",
   "metadata": {},
   "source": [
    "#### Note: \n",
    "- Body of the loop is indented with respect to the whilestatement.\n",
    "- Similarly, the statements within if are indented with respect to positioning of if statement. "
   ]
  },
  {
   "cell_type": "code",
   "execution_count": null,
   "id": "bd8ca07b-9793-4fa7-9386-39c5a808703d",
   "metadata": {},
   "outputs": [],
   "source": []
  },
  {
   "cell_type": "code",
   "execution_count": null,
   "id": "0c0fde92-8f97-483a-9534-96b7d228e5aa",
   "metadata": {},
   "outputs": [],
   "source": []
  },
  {
   "cell_type": "markdown",
   "id": "15c21d50-7c30-484e-9320-e0f653b602e4",
   "metadata": {},
   "source": [
    "## Break and Continue Statement :"
   ]
  },
  {
   "cell_type": "markdown",
   "id": "cb5f1f2f-c49c-4b54-8dfb-88be037a7188",
   "metadata": {},
   "source": [
    "- Looping constructs allow programmers to repeat tasks efficiently.\n",
    "- In certain situations, when some particular condition occurs, we may want to exit from a loop (come out of the loop forever) or skip some statements of the loop before continuing further in the loop.\n",
    "- These requirements can be achieved by using `break` and `continue` statements, respectively."
   ]
  },
  {
   "cell_type": "code",
   "execution_count": null,
   "id": "22c2802a-94ab-40a1-98f3-ac7a0afec333",
   "metadata": {},
   "outputs": [],
   "source": []
  },
  {
   "cell_type": "markdown",
   "id": "1014e674-0654-4244-9059-4f78bcf2b52d",
   "metadata": {},
   "source": [
    "## Break Statement\n",
    "- The break statement alters the normal flow of execution as it terminates the current loop and resumes execution of the statement following that loop."
   ]
  },
  {
   "cell_type": "markdown",
   "id": "85df1b8a-5c3f-4b63-93cc-21b2d87e9a9a",
   "metadata": {},
   "source": [
    "![Break Statement](BreakStatement.png)"
   ]
  },
  {
   "cell_type": "markdown",
   "id": "7461b7fb-27c9-499a-8677-91ef91373369",
   "metadata": {},
   "source": [
    "## Q.12 Program to demonstrate use of breakstatement."
   ]
  },
  {
   "cell_type": "code",
   "execution_count": 37,
   "id": "55f51e09-df8a-4688-9437-0da94c8372c6",
   "metadata": {},
   "outputs": [
    {
     "name": "stdout",
     "output_type": "stream",
     "text": [
      "Num has value : 1\n",
      "Num has value : 2\n",
      "Num has value : 3\n",
      "Num has value : 4\n",
      "Num has value : 5\n",
      "Num has value : 6\n",
      "Num has value : 7\n",
      "Encountered break!! out of loop\n"
     ]
    }
   ],
   "source": [
    "# Program to demonstrate the use of break statement in loop\n",
    "num = 0\n",
    "for num in range(10):\n",
    "    num = num + 1\n",
    "    if num == 8 :\n",
    "        break\n",
    "    print(\"Num has value : \" + str(num))\n",
    "print(\"Encountered break!! out of loop\")"
   ]
  },
  {
   "cell_type": "markdown",
   "id": "9420c9f0-35f3-4a9f-9593-9e3b82b0fc38",
   "metadata": {},
   "source": [
    "## Note : \n",
    "- When value of num becomes 8, the break statement is executed and the for loop terminates."
   ]
  },
  {
   "cell_type": "markdown",
   "id": "6c574fd3-71c2-4a9e-88e5-430ea333564d",
   "metadata": {},
   "source": [
    "## Q.13 Find the sum of all the positive numbers entered by the user. As soon as the user enters a negative number, stop taking in any further input from the user and display the sum."
   ]
  },
  {
   "cell_type": "code",
   "execution_count": 38,
   "id": "bc4a7056-ab99-4958-9935-c11380926318",
   "metadata": {},
   "outputs": [
    {
     "name": "stdout",
     "output_type": "stream",
     "text": [
      "Enter numbers to find their sum, negative number ends the loop : \n"
     ]
    },
    {
     "name": "stdin",
     "output_type": "stream",
     "text": [
      " 5\n",
      " 6\n",
      " -5\n"
     ]
    },
    {
     "name": "stdout",
     "output_type": "stream",
     "text": [
      "Sum :  11\n"
     ]
    }
   ],
   "source": [
    "#Find the sum of all the positive numbers entered by the user \n",
    "#till the user enters a negative number.\n",
    "entry = 0\n",
    "sum1 = 0\n",
    "print(\"Enter numbers to find their sum, negative number ends the loop : \")\n",
    "while True:\n",
    "#int() typecasts string to integer\n",
    "    entry = int(input())\n",
    "    if(entry < 0 ):\n",
    "        break\n",
    "    sum1 += entry\n",
    "print(\"Sum : \",sum1)"
   ]
  },
  {
   "cell_type": "code",
   "execution_count": null,
   "id": "d3959373-1135-48d1-ac33-5ab60dc4f337",
   "metadata": {},
   "outputs": [],
   "source": []
  },
  {
   "cell_type": "code",
   "execution_count": null,
   "id": "80c5ef1c-a30f-4335-9f9c-7b2efc1880cf",
   "metadata": {},
   "outputs": [],
   "source": []
  },
  {
   "cell_type": "markdown",
   "id": "f23f4abd-a2f9-4fb1-9cab-bd8e2b95d268",
   "metadata": {},
   "source": [
    "## Q.14 Program to check if the input number is prime or not."
   ]
  },
  {
   "cell_type": "code",
   "execution_count": 39,
   "id": "657af2e8-bd28-4df2-a3ce-58248d08c045",
   "metadata": {},
   "outputs": [
    {
     "name": "stdin",
     "output_type": "stream",
     "text": [
      "Enter the number to be checked :  8\n"
     ]
    },
    {
     "name": "stdout",
     "output_type": "stream",
     "text": [
      "8 is not a prime number\n"
     ]
    }
   ],
   "source": [
    "#Write a Python program to check if a given number is prime or not.\n",
    "num = int(input(\"Enter the number to be checked : \"))\n",
    "flag = 0\n",
    "if num > 1 :\n",
    "    for i in range(2, int(num/2)):\n",
    "        if (num % i == 0):\n",
    "            flag = 1\n",
    "            break\n",
    "    if flag == 1:\n",
    "        print(num, \"is not a prime number\")\n",
    "    else:\n",
    "        print(num, \"is a prime number\")\n",
    "else :\n",
    "    print(\"Enter number is <= 1, execute again!\")"
   ]
  },
  {
   "cell_type": "code",
   "execution_count": null,
   "id": "cc455485-c2e5-4a57-b45b-d22461fc4130",
   "metadata": {},
   "outputs": [],
   "source": []
  },
  {
   "cell_type": "code",
   "execution_count": null,
   "id": "9df4ee18-6209-4f4a-9412-6a61ee629266",
   "metadata": {},
   "outputs": [],
   "source": []
  },
  {
   "cell_type": "markdown",
   "id": "7856e954-ea3c-4459-8433-91bdf05cd4e5",
   "metadata": {},
   "source": [
    "## Continue Statement"
   ]
  },
  {
   "cell_type": "markdown",
   "id": "107816e1-d3b3-4e11-9102-f41f899056cb",
   "metadata": {},
   "source": [
    "- When a continue statement is encountered, the control skips the execution of remaining statements inside the body of the loop for the current iteration and jumps to the beginning of the loop for the next iteration.\n",
    "- If the loop’s condition is still true, the loop is entered again, else the control is transferred to the statement immediately following the loop."
   ]
  },
  {
   "cell_type": "markdown",
   "id": "2c9c2939-cdca-4f6b-85c1-a99ecdedc703",
   "metadata": {},
   "source": [
    "![Continue Statement](ContinueStatement.png)"
   ]
  },
  {
   "cell_type": "code",
   "execution_count": null,
   "id": "5e7d8440-9ac0-4c4c-8680-1e4142c072c1",
   "metadata": {},
   "outputs": [],
   "source": []
  },
  {
   "cell_type": "code",
   "execution_count": null,
   "id": "e7354494-3a89-43ac-8fec-79ad2bf6a1d8",
   "metadata": {},
   "outputs": [],
   "source": []
  },
  {
   "cell_type": "markdown",
   "id": "07f2e16a-8b61-4bd4-a598-d22649dbecea",
   "metadata": {},
   "source": [
    "## Q.15 Program to demonstrate the use of continue statement."
   ]
  },
  {
   "cell_type": "code",
   "execution_count": 40,
   "id": "cb4ceb39-5470-43ab-93a3-f4ed1598cfe7",
   "metadata": {},
   "outputs": [
    {
     "name": "stdout",
     "output_type": "stream",
     "text": [
      "Num has value 1\n",
      "Num has value 2\n",
      "Num has value 4\n",
      "Num has value 5\n",
      "Num has value 6\n",
      "End of loop\n"
     ]
    }
   ],
   "source": [
    "# Prints values from 0 to 6 except 3\n",
    "num = 0\n",
    "for num in range(0,6):\n",
    "    num = num + 1\n",
    "    if num == 3:\n",
    "        continue\n",
    "    print(\"Num has value \" + str(num))\n",
    "print(\"End of loop\")"
   ]
  },
  {
   "cell_type": "code",
   "execution_count": null,
   "id": "6c535872-3ab7-42d8-b676-ebe74c8c197f",
   "metadata": {},
   "outputs": [],
   "source": []
  },
  {
   "cell_type": "markdown",
   "id": "56101df1-768e-491b-90ab-4ff95f44d4c5",
   "metadata": {},
   "source": [
    "## Nested Loops"
   ]
  },
  {
   "cell_type": "markdown",
   "id": "a1a14db0-ae9e-469a-8ee9-c5cb2aebdcfc",
   "metadata": {},
   "source": [
    "- A loop may contain another loop inside it.\n",
    "- A loop inside another loop is called a nested loop."
   ]
  },
  {
   "cell_type": "markdown",
   "id": "dec1d7c2-f084-4c45-8b84-d7a5a25d2b87",
   "metadata": {},
   "source": [
    "## Q.16 Program to demonstrate working of nested for loops."
   ]
  },
  {
   "cell_type": "code",
   "execution_count": 41,
   "id": "d5dd299c-0927-44eb-b0da-60a0eea52691",
   "metadata": {},
   "outputs": [
    {
     "name": "stdout",
     "output_type": "stream",
     "text": [
      "Iteration 1 of outer loop \n",
      "1\n",
      "2\n",
      "out of inner loop\n",
      "Iteration 2 of outer loop \n",
      "1\n",
      "2\n",
      "out of inner loop\n",
      "Iteration 3 of outer loop \n",
      "1\n",
      "2\n",
      "out of inner loop\n",
      "out of outer loop\n"
     ]
    }
   ],
   "source": [
    "#Demonstrate working of nested for loops\n",
    "for var1 in range(3):\n",
    "    print(\"Iteration \" + str(var1 + 1) + \" of outer loop \")\n",
    "    for var2 in range(2) : # nested loop\n",
    "        print(var2 + 1)\n",
    "    print(\"out of inner loop\")\n",
    "print(\"out of outer loop\")"
   ]
  },
  {
   "cell_type": "code",
   "execution_count": null,
   "id": "e9fba634-1929-4dfa-be81-504214326ecc",
   "metadata": {},
   "outputs": [],
   "source": []
  },
  {
   "cell_type": "markdown",
   "id": "8c3ab1de-69f7-45f5-ab98-ec8167b67945",
   "metadata": {},
   "source": [
    "# Note : \n",
    "- Python does not impose any restriction on how many loops can be nested inside a loop or on the levels of nesting.\n",
    "- Any type of loop (for/while) may be nested within another loop (for/while)."
   ]
  },
  {
   "cell_type": "markdown",
   "id": "5fbde311-9fd0-4ce2-8239-01182267db32",
   "metadata": {},
   "source": [
    "## Q.17 Program to print the pattern for a number input by the user."
   ]
  },
  {
   "cell_type": "code",
   "execution_count": 42,
   "id": "a6397903-6999-4101-a920-ab221868c2fc",
   "metadata": {},
   "outputs": [],
   "source": [
    "#1\n",
    "#1 2\n",
    "#1 2 3\n",
    "#1 2 3 4\n",
    "#1 2 3 4 5"
   ]
  },
  {
   "cell_type": "code",
   "execution_count": 43,
   "id": "7ff24c9b-11e1-492a-a22d-8551da13eb0a",
   "metadata": {},
   "outputs": [
    {
     "name": "stdin",
     "output_type": "stream",
     "text": [
      "Enter a number to generate its pattern =  5\n"
     ]
    },
    {
     "name": "stdout",
     "output_type": "stream",
     "text": [
      "1 \n",
      "1 2 \n",
      "1 2 3 \n",
      "1 2 3 4 \n",
      "1 2 3 4 5 \n"
     ]
    }
   ],
   "source": [
    "num = int(input(\"Enter a number to generate its pattern = \"))\n",
    "for i in range(1,num + 1):\n",
    "    for j in range(1,i + 1):\n",
    "        print(j,end = \" \")\n",
    "    print()"
   ]
  },
  {
   "cell_type": "code",
   "execution_count": null,
   "id": "151272d2-08a7-4cf3-80ba-d967d4c61d50",
   "metadata": {},
   "outputs": [],
   "source": []
  },
  {
   "cell_type": "code",
   "execution_count": null,
   "id": "ecedfcd5-fa78-4831-9e5e-02cfd46c5a97",
   "metadata": {},
   "outputs": [],
   "source": []
  },
  {
   "cell_type": "markdown",
   "id": "9ac05092-19fb-40f5-8f3e-198c17a01829",
   "metadata": {},
   "source": [
    "## Q.18. Program to find prime numbers between 2 to 50 using nested for loops."
   ]
  },
  {
   "cell_type": "code",
   "execution_count": 44,
   "id": "49bc0c5d-ceda-4046-b7ca-209c40e852ab",
   "metadata": {},
   "outputs": [
    {
     "name": "stdout",
     "output_type": "stream",
     "text": [
      "2 is a prime number\n",
      "3 is a prime number\n",
      "5 is a prime number\n",
      "7 is a prime number\n",
      "11 is a prime number\n",
      "13 is a prime number\n",
      "17 is a prime number\n",
      "19 is a prime number\n",
      "23 is a prime number\n",
      "29 is a prime number\n",
      "31 is a prime number\n",
      "37 is a prime number\n",
      "41 is a prime number\n",
      "43 is a prime number\n",
      "47 is a prime number\n",
      "Bye Bye!!\n"
     ]
    }
   ],
   "source": [
    "#Use of nested loops to find the prime numbers between 2 to 50\n",
    "num = 2\n",
    "for i in range(2,50):\n",
    "    j = 2\n",
    "    while (j <= i/2):\n",
    "        if (i % j == 0):\n",
    "            break\n",
    "        j += 1\n",
    "    if (j > i/j):\n",
    "        print(i , \"is a prime number\")\n",
    "print(\"Bye Bye!!\")"
   ]
  },
  {
   "cell_type": "code",
   "execution_count": null,
   "id": "e47b3ff7-40f1-4665-9860-81e8cb66d162",
   "metadata": {},
   "outputs": [],
   "source": []
  },
  {
   "cell_type": "code",
   "execution_count": null,
   "id": "12313c1a-caca-447c-bf62-07a1c1a27d42",
   "metadata": {},
   "outputs": [],
   "source": []
  },
  {
   "cell_type": "markdown",
   "id": "e94b3641-4071-4c1c-90de-c278849c2b51",
   "metadata": {},
   "source": [
    "## Q.19 Write a program to calculate the factorial of a given number."
   ]
  },
  {
   "cell_type": "code",
   "execution_count": 45,
   "id": "b95eb264-53ca-4afb-9f17-c6cddb5d1efd",
   "metadata": {},
   "outputs": [
    {
     "name": "stdin",
     "output_type": "stream",
     "text": [
      "Enter a number 7\n"
     ]
    },
    {
     "name": "stdout",
     "output_type": "stream",
     "text": [
      "factorial of  7 is  5040\n"
     ]
    }
   ],
   "source": [
    "num = int(input(\"Enter a number\"))\n",
    "fact = 1\n",
    "# check if the number is negative, positive or zero\n",
    "if num < 0 :\n",
    "    print(\"Sorry , factorial does not exist for nagative numbers \")\n",
    "elif num == 0 :\n",
    "    print(\"The factorial of 0 is 1\")\n",
    "else:\n",
    "    for i in range(1,num + 1):\n",
    "        fact = fact*i\n",
    "    print(\"factorial of \" , num, \"is \" ,fact)"
   ]
  },
  {
   "cell_type": "code",
   "execution_count": null,
   "id": "5906db2c-f979-42bd-a521-0794971c3834",
   "metadata": {},
   "outputs": [],
   "source": []
  }
 ],
 "metadata": {
  "kernelspec": {
   "display_name": "Python 3 (ipykernel)",
   "language": "python",
   "name": "python3"
  },
  "language_info": {
   "codemirror_mode": {
    "name": "ipython",
    "version": 3
   },
   "file_extension": ".py",
   "mimetype": "text/x-python",
   "name": "python",
   "nbconvert_exporter": "python",
   "pygments_lexer": "ipython3",
   "version": "3.13.0"
  }
 },
 "nbformat": 4,
 "nbformat_minor": 5
}
