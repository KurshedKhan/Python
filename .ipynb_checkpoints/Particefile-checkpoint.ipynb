{
 "cells": [
  {
   "cell_type": "code",
   "execution_count": 1,
   "id": "9f00145d-6421-4ac9-b09d-b8e7070a9d1e",
   "metadata": {},
   "outputs": [],
   "source": [
    "str1 = \"Hello\""
   ]
  },
  {
   "cell_type": "code",
   "execution_count": 2,
   "id": "a875fd64-d68c-4deb-95b7-22823564f8c3",
   "metadata": {},
   "outputs": [
    {
     "data": {
      "text/plain": [
       "'Hello'"
      ]
     },
     "execution_count": 2,
     "metadata": {},
     "output_type": "execute_result"
    }
   ],
   "source": [
    "str1"
   ]
  },
  {
   "cell_type": "code",
   "execution_count": 3,
   "id": "5ca09d75-1b5b-4404-a665-482008a35aae",
   "metadata": {},
   "outputs": [
    {
     "name": "stdout",
     "output_type": "stream",
     "text": [
      "<class 'str'>\n"
     ]
    }
   ],
   "source": [
    "print(type(str1))"
   ]
  },
  {
   "cell_type": "code",
   "execution_count": 4,
   "id": "4c79e6c1-0dab-46e0-b369-c0b67333cf76",
   "metadata": {},
   "outputs": [],
   "source": [
    "single_quotes = 'Hey , i am khan '"
   ]
  },
  {
   "cell_type": "code",
   "execution_count": 5,
   "id": "568d62f4-0666-4d47-9fdd-f4cfba6ea3e9",
   "metadata": {},
   "outputs": [
    {
     "data": {
      "text/plain": [
       "'Hey , i am khan '"
      ]
     },
     "execution_count": 5,
     "metadata": {},
     "output_type": "execute_result"
    }
   ],
   "source": [
    "single_quotes"
   ]
  },
  {
   "cell_type": "code",
   "execution_count": 6,
   "id": "16fafc4b-be1c-4787-bff3-2ccc7e53dabd",
   "metadata": {},
   "outputs": [],
   "source": [
    "double_quotes = \"Hello , dear how are you\""
   ]
  },
  {
   "cell_type": "code",
   "execution_count": null,
   "id": "2b0588b9-a9bf-46b7-b192-73da6594b603",
   "metadata": {},
   "outputs": [],
   "source": []
  }
 ],
 "metadata": {
  "kernelspec": {
   "display_name": "Python 3 (ipykernel)",
   "language": "python",
   "name": "python3"
  },
  "language_info": {
   "codemirror_mode": {
    "name": "ipython",
    "version": 3
   },
   "file_extension": ".py",
   "mimetype": "text/x-python",
   "name": "python",
   "nbconvert_exporter": "python",
   "pygments_lexer": "ipython3",
   "version": "3.12.0"
  }
 },
 "nbformat": 4,
 "nbformat_minor": 5
}
