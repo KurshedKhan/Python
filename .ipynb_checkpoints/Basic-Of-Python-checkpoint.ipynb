{
 "cells": [
  {
   "cell_type": "markdown",
   "id": "a633d8d1-e1f4-4e3a-b977-8676ab9d30cf",
   "metadata": {},
   "source": [
    "# Basic of Programming with Python "
   ]
  },
  {
   "cell_type": "markdown",
   "id": "1dc72152-c815-4b04-a00e-7fbd62eb5d40",
   "metadata": {},
   "source": [
    "## `Program`\n",
    "An ordered set of instructions to be executed by a computer to carry out (perform) a specific task is called a `program`."
   ]
  },
  {
   "cell_type": "markdown",
   "id": "aa9d29cb-112a-42c2-8375-5193350bca01",
   "metadata": {},
   "source": [
    "## `Programming Language` "
   ]
  },
  {
   "cell_type": "markdown",
   "id": "a6599f55-3d7e-4d79-abeb-165936362748",
   "metadata": {},
   "source": [
    "The language used to specify a `program`  to the computer is called a `programming language`."
   ]
  },
  {
   "cell_type": "markdown",
   "id": "e456cd8d-e98b-4ca2-9b0f-e530c8c99867",
   "metadata": {},
   "source": [
    "## `Machine language`\n",
    "The computers understand the language of 0s and 1s which is called `machine language` or `low level language`.\n",
    "- It is difficult for humans to write or comprehend instructions using 0s and 1s.\n",
    "- This led to the advent of high-level programming languages like Python,C++,Visual Basic,PHP,Java that easier to manage by humans but are not directly understood by the computer."
   ]
  },
  {
   "cell_type": "markdown",
   "id": "fe73dcf3-5c40-4e7c-9f8c-5729e7dbcfa7",
   "metadata": {},
   "source": [
    "## `Source Code` "
   ]
  },
  {
   "cell_type": "markdown",
   "id": "71cb48f0-4115-450b-ad52-edb4a714cfe9",
   "metadata": {},
   "source": [
    "A program written in a high-level language is called `source code`."
   ]
  },
  {
   "cell_type": "markdown",
   "id": "32adbc8d-61a4-466e-b20d-f5a77efc49de",
   "metadata": {},
   "source": [
    "## `Object Code`"
   ]
  },
  {
   "cell_type": "markdown",
   "id": "df1b9199-b941-40d6-9ab0-c8a94a9df498",
   "metadata": {},
   "source": [
    "The machine understandable form called `object(machine) code`."
   ]
  },
  {
   "cell_type": "markdown",
   "id": "c7c4a0b6-010f-4ec6-8403-4aff6e217a90",
   "metadata": {},
   "source": [
    "## `Translator`"
   ]
  },
  {
   "cell_type": "markdown",
   "id": "e66ad79c-f3f1-4c7d-8e76-6307fd475e60",
   "metadata": {},
   "source": [
    "The `source code` is `converted` by a `translator` into the `object code`."
   ]
  },
  {
   "cell_type": "markdown",
   "id": "79dace16-bc46-4dcd-824b-ad0265391ee3",
   "metadata": {},
   "source": [
    "- The `three types` of `translators` used in computing systems are `assembler`, `compiler` and `interpreter`."
   ]
  },
  {
   "cell_type": "markdown",
   "id": "743bc9de-1c34-4247-a5e1-e73ee99c2316",
   "metadata": {},
   "source": [
    "## `Assembler`\n",
    "The translator used to convert the code written in assembly language to machine language is called `assembler`."
   ]
  },
  {
   "cell_type": "markdown",
   "id": "c8d80e38-bc6a-460c-95c6-13b7c23d4035",
   "metadata": {},
   "source": [
    "- Each assembler can understand a specific microprocessor instruction set only and hence, the machine code is not portable."
   ]
  },
  {
   "cell_type": "markdown",
   "id": "62943bb3-886a-4a2a-9f3c-17014ad309e1",
   "metadata": {},
   "source": [
    "## `Compiler`\n",
    "The translator used to convert codes written in high-level language (source code) to machine understandable form (machine code) for execution by the `compiler`.\n",
    "- Compiler converts the source code into machine code.\n",
    "- If the code follows `all syntactic rules` of the language, then it is executed by the computer."
   ]
  },
  {
   "cell_type": "markdown",
   "id": "ff6bd16a-be55-40b9-9fec-b1f178a9f6ad",
   "metadata": {},
   "source": [
    "## `Interpreter`\n",
    "An interpreter translates one line at a time instead of the whole program at one go."
   ]
  },
  {
   "cell_type": "markdown",
   "id": "e93c613d-e99f-4adc-837a-afed04c42abc",
   "metadata": {},
   "source": [
    "- Interpreter takes one line, converts it into executable code if the line is syntactically correct, and then it repeats these steps for all lines in source code."
   ]
  },
  {
   "cell_type": "markdown",
   "id": "11a470e5-c50b-411f-9460-cd27d2ddc38b",
   "metadata": {},
   "source": [
    "# `Python`\n"
   ]
  },
  {
   "cell_type": "markdown",
   "id": "5ce99d4d-d7a2-44da-ad5b-42c90c93d538",
   "metadata": {},
   "source": [
    "Python uses an interpreter to convert its instructions into machine language, so that it can be understood by the computer."
   ]
  },
  {
   "cell_type": "markdown",
   "id": "08289c4b-d6f8-4d68-9a10-93f2fc40f4d2",
   "metadata": {},
   "source": [
    "- An interpreter processes the program statements one by one, first translating and then executing."
   ]
  },
  {
   "cell_type": "markdown",
   "id": "14675807-8718-459e-a19f-4ae4b3c9046a",
   "metadata": {},
   "source": [
    "# `Features of Python` "
   ]
  },
  {
   "cell_type": "markdown",
   "id": "ceda6494-d6bd-43a3-a880-2e14461f751b",
   "metadata": {},
   "source": [
    "- Python is a high level language. It is a free and open source language.\n",
    "- It is an interpreted language, as Python programs are executed by an interpreter.\n",
    "- Python programs are easy to understand as they have a clearly defined syntax and relatively simple structure.\n",
    "- Python is case-sensitive. For example, Number and number are not same in Python.\n",
    "- Python is portable and platform independent, means it can run on various operating systems and hardware platforms.\n",
    "- Python has a rich library of predefined functions.\n",
    "- Python is also helpful in web development. Many popular web services and applications are built using Python.\n",
    "- Python uses indentation for blocks and nested blocks."
   ]
  },
  {
   "cell_type": "markdown",
   "id": "a328f4f4-6d05-4a17-981b-2864148ea13e",
   "metadata": {},
   "source": [
    "#### `Note :` \n",
    "- To write and run(execute) a Pythono program, we need to have a Python interpreter installed on our computer.\n",
    "- The interpreter is also called Python shell.\n",
    "- The symbol >>> is the Python prompt,which indicates that the interpreter is ready to take instructions."
   ]
  },
  {
   "cell_type": "markdown",
   "id": "7728cd5a-6c9c-4cf7-96d5-8dafb5170f39",
   "metadata": {},
   "source": [
    "## `Execution Modes :`"
   ]
  },
  {
   "cell_type": "markdown",
   "id": "fed1ed15-8fcf-4ee0-9231-f6e1f76f2687",
   "metadata": {},
   "source": [
    "``` mermaid\n",
    "flowchart TD\n",
    "    A[Execution Mode]\n",
    "    A --> B[Interactive Mode]\n",
    "    A --> C[Script Mode]\n",
    "    B --> D[Allows execution of individual statements instantaneously]\n",
    "    C --> E[Allows us to write more than one instruction in a file]\n",
    "    E --> F[Called Python source code file that can be executed]\n",
    "```"
   ]
  },
  {
   "cell_type": "markdown",
   "id": "bb24a17f-1bed-49c8-bc02-207462ffa505",
   "metadata": {},
   "source": [
    "#### Interactive Mode :\n",
    "- The interactive mode is convenient for testing a single line code for instant execution.\n",
    "- But in the interactive mode, we cannot save the statements for future use and we have to retype the statements to run them again."
   ]
  },
  {
   "cell_type": "markdown",
   "id": "11d56450-8517-416f-9772-fc17d4532cbf",
   "metadata": {},
   "source": [
    "#### `Script Mode :`\n",
    "- We can write a Python program in a file, save it and then use the interpreter to execute it.\n",
    "- Python Scripts are saved as files where file name has extension \".py\".\n",
    "- By default, the Python scripts are saved in the Python installation folder."
   ]
  },
  {
   "cell_type": "markdown",
   "id": "112f0a7e-9628-4269-b011-4e92d8089adf",
   "metadata": {},
   "source": [
    "## Q.1 Write a program to show print statement in script mode."
   ]
  },
  {
   "cell_type": "code",
   "execution_count": 1,
   "id": "f67f47d4-e0f3-4c5b-a5b4-12283b3d9197",
   "metadata": {},
   "outputs": [
    {
     "name": "stdout",
     "output_type": "stream",
     "text": [
      "Save Ownself\n",
      "Preserve Future\n"
     ]
    }
   ],
   "source": [
    "print(\"Save Ownself\")\n",
    "print(\"Preserve Future\")"
   ]
  },
  {
   "cell_type": "markdown",
   "id": "73d5db93-704a-4b3a-bd56-4aa504edc877",
   "metadata": {},
   "source": [
    "# `Python Keywords :`\n",
    "Keywords are reserved words.\n",
    "- Each keyword has a specific meaning to the Python interpreter, and we can use a keyword in our program only for the purpose for which it has been defined.\n",
    "- Python is case sensitive."
   ]
  },
  {
   "cell_type": "code",
   "execution_count": 3,
   "id": "c5cff97a-f6b2-4d84-85a1-64bbbf37be0f",
   "metadata": {},
   "outputs": [],
   "source": [
    "import keyword"
   ]
  },
  {
   "cell_type": "code",
   "execution_count": 6,
   "id": "49493113-790e-4dc8-83e3-ca47103883b6",
   "metadata": {},
   "outputs": [
    {
     "name": "stdout",
     "output_type": "stream",
     "text": [
      "\n",
      "Here is a list of the Python keywords.  Enter any keyword to get more help.\n",
      "\n",
      "False               class               from                or\n",
      "None                continue            global              pass\n",
      "True                def                 if                  raise\n",
      "and                 del                 import              return\n",
      "as                  elif                in                  try\n",
      "assert              else                is                  while\n",
      "async               except              lambda              with\n",
      "await               finally             nonlocal            yield\n",
      "break               for                 not                 \n",
      "\n"
     ]
    }
   ],
   "source": [
    "help(\"keywords\")"
   ]
  },
  {
   "cell_type": "markdown",
   "id": "22105ae7-63f0-48d9-b50b-bc34d8c794f5",
   "metadata": {},
   "source": [
    "# `Identifiers : `\n",
    "Identifiers are names used to identify a variable,function, or other entities in a program.\n"
   ]
  },
  {
   "cell_type": "markdown",
   "id": "5db592a4-6cb4-4d70-a528-500e808f7f1e",
   "metadata": {},
   "source": [
    "### The rules for naming an identifier in python : \n",
    "1. The name should begin with an uppercase or a lowercase alphabet or an underscore sign (_).\n",
    "2. This may be followed by any combination of characters a-z,A-Z,0-9, or underscore(_).\n",
    "3. An identifier cannot start with a digit.\n",
    "4. It can be of any length.\n",
    "5. `Note : It is preferred to keep it short and meaningful.`\n",
    "6. It should not be a keyword or reserved word.\n",
    "7. We can not use special symbols like !,@,#,$,%, etc., in identifiers."
   ]
  },
  {
   "cell_type": "markdown",
   "id": "950ca1b2-19f9-4fc1-9f94-c19fe93d8eee",
   "metadata": {},
   "source": [
    "#### Exp.1 To find the average of marks obtained by a student in three subjects\n",
    "1. we can choose the identifiers as `marks1`,`marks2`,`marks3` and `avg` rather than `a`,`b`,`c` or `A`,`B`,`C`.\n"
   ]
  },
  {
   "cell_type": "markdown",
   "id": "302de9ff-acf2-491f-b57c-d633ad42d3a6",
   "metadata": {},
   "source": [
    "`avg = (marks1 + marks2 + marks3)/3`"
   ]
  },
  {
   "cell_type": "markdown",
   "id": "d87ca47f-c729-48e0-b7b7-944d2ee32673",
   "metadata": {},
   "source": [
    "#### Exp2. To calculate the area of a rectangle\n",
    "1. We can use identifier names, such as `area`,`length`,`breadth` instead of single alphabets as identifiers for clarity and more readability."
   ]
  },
  {
   "cell_type": "markdown",
   "id": "ec729d43-0fd8-4306-830c-2115fab19839",
   "metadata": {},
   "source": [
    "`area = length * breadth`"
   ]
  },
  {
   "cell_type": "markdown",
   "id": "ee9f08dd-19a1-4ef7-b217-c27cd50b87ad",
   "metadata": {},
   "source": [
    "# `Variables : `\n",
    "Variable in Python refers to an object - an item or element that is stored in the memory.\n",
    "\n",
    "1. Value of a variable can be a string,numeric or any combination of alphanumeric characters.\n",
    "2. We can use an assignment statement to create new variables and assign specific values to them.\n",
    "3. A variable in a program is uniquely identified by a name (identifier)."
   ]
  },
  {
   "cell_type": "code",
   "execution_count": 2,
   "id": "ecb57cbb-ec32-44d5-a26b-894fa571fe64",
   "metadata": {},
   "outputs": [],
   "source": [
    "gender = \"M\"\n",
    "message = \"Keep Smiling\"\n",
    "price = 987.9"
   ]
  },
  {
   "cell_type": "markdown",
   "id": "3ad6c322-806a-45dc-99d6-ea14c5321fca",
   "metadata": {},
   "source": [
    "## Q.2 Write a program to display values of variable in Python."
   ]
  },
  {
   "cell_type": "code",
   "execution_count": 6,
   "id": "4233dfb0-2f28-4591-a5d2-30078a423b86",
   "metadata": {},
   "outputs": [
    {
     "name": "stdout",
     "output_type": "stream",
     "text": [
      "Keep Smiling\n",
      "User Number is  101\n"
     ]
    }
   ],
   "source": [
    "# Program 2\n",
    "# To display values of variables\n",
    "message = \"Keep Smiling\"\n",
    "print(message)\n",
    "userNo = 101\n",
    "print('User Number is ',userNo)"
   ]
  },
  {
   "cell_type": "markdown",
   "id": "987c06de-ac7f-4e78-9bf9-12d214e99990",
   "metadata": {},
   "source": [
    "`Variable Declaration : ` is implicit in Python, means variable are automatically declared and defined when they are assigned a value the first time.\n",
    "`Note : ` :\n",
    "\n",
    "1. Variables must always be assigned values before they are used in expressions as otherwise it will lead to an error in the program.\n",
    "2. Wherever a variable name occurs in an expression, the interpreter replaces it with the values of that particular variable."
   ]
  },
  {
   "cell_type": "markdown",
   "id": "26fe2725-8db5-4f68-a5b2-36fa6598f4bb",
   "metadata": {},
   "source": [
    "## Q.3 Write a Python program to find the area of a rectangle given that its length is 10 units and breadth is 20 units."
   ]
  },
  {
   "cell_type": "code",
   "execution_count": 7,
   "id": "c784fba1-20ed-407c-bf73-5515b33d89c6",
   "metadata": {},
   "outputs": [
    {
     "name": "stdout",
     "output_type": "stream",
     "text": [
      "200\n"
     ]
    }
   ],
   "source": [
    "# Program 3\n",
    "# To find the area of a rectangle\n",
    "length = 10\n",
    "breadth = 20\n",
    "area = length * breadth\n",
    "print(area)"
   ]
  },
  {
   "cell_type": "markdown",
   "id": "93c380d8-9d04-40bd-a07b-59c41cab8f37",
   "metadata": {},
   "source": [
    "# `Comments : `\n",
    "Comments are used to add a remark or a note in the source code.\n",
    "\n",
    "1. Comments are not executed by interpreter.\n",
    "2. Source code easier for humans to understand.\n",
    "3. A comment starts with # (hash sign)."
   ]
  },
  {
   "cell_type": "code",
   "execution_count": 9,
   "id": "0e8578a2-14de-425b-9da7-293183dd2087",
   "metadata": {},
   "outputs": [],
   "source": [
    "# Variable amount is the total spending on\n",
    "# grocery\n",
    "amount = 34000\n",
    "# totalMarks is sum of marks in all the tests\n",
    "# of Mathematics\n",
    "# totalMarks = test1 + test2 + finalTest"
   ]
  },
  {
   "cell_type": "markdown",
   "id": "9bc935a8-7d54-4459-8227-be2c9217691b",
   "metadata": {},
   "source": [
    "## 4 Write a Python program to find the sum of two numbers."
   ]
  },
  {
   "cell_type": "code",
   "execution_count": 10,
   "id": "5a03b020-05c7-4042-828f-46a2fd4d96f4",
   "metadata": {},
   "outputs": [
    {
     "name": "stdout",
     "output_type": "stream",
     "text": [
      "30\n"
     ]
    }
   ],
   "source": [
    "# Program 4\n",
    "# To find the sum of two numbers\n",
    "num1 = 10\n",
    "num2 = 20\n",
    "result = num1 + num2\n",
    "print(result)"
   ]
  },
  {
   "cell_type": "markdown",
   "id": "2607dd24-7b19-4b10-b1fe-3d10ebac5244",
   "metadata": {},
   "source": [
    "# Everything is an Object"
   ]
  },
  {
   "cell_type": "markdown",
   "id": "3c8cbc6d-0b48-4097-9164-b82da39a674d",
   "metadata": {},
   "source": [
    "Python treats every value or data item whether numeric,string, or other type as an object.\n",
    "\n",
    "1. It can be assigned to some variable.\n",
    "2. Can be Passed to a function as an argument."
   ]
  },
  {
   "cell_type": "markdown",
   "id": "6f8b6a63-5c53-4ed2-9574-db937f52ad23",
   "metadata": {},
   "source": [
    "Every object in python is assigned a unique identity(ID) which remains the same for the lifetime of that object.\n",
    "\n",
    "1. This ID is akin to the memory address of the object.\n",
    "2. The function id() returns the identity of an object."
   ]
  },
  {
   "cell_type": "code",
   "execution_count": 11,
   "id": "5d9c7fd4-f4df-4fb1-affb-b030c9017362",
   "metadata": {},
   "outputs": [
    {
     "data": {
      "text/plain": [
       "140713956140552"
      ]
     },
     "execution_count": 11,
     "metadata": {},
     "output_type": "execute_result"
    }
   ],
   "source": [
    "num1 = 20\n",
    "id(num1)"
   ]
  },
  {
   "cell_type": "code",
   "execution_count": 12,
   "id": "b7484bf7-8404-4b14-821e-ee60b48b0bc8",
   "metadata": {},
   "outputs": [
    {
     "data": {
      "text/plain": [
       "140713956140552"
      ]
     },
     "execution_count": 12,
     "metadata": {},
     "output_type": "execute_result"
    }
   ],
   "source": [
    "num2 = 30 - 10\n",
    "id(num2)"
   ]
  },
  {
   "cell_type": "markdown",
   "id": "463b86a4-882a-48ef-8ceb-0d53cbf6a771",
   "metadata": {},
   "source": [
    "# `Data types : `\n"
   ]
  },
  {
   "cell_type": "markdown",
   "id": "3a2794b4-03c0-4f6e-bd9d-df3403c4f942",
   "metadata": {},
   "source": [
    "Data type identifies the type of data values a variable can hold and the operations that can be performed on that data."
   ]
  },
  {
   "cell_type": "markdown",
   "id": "67e8a2c4-dbf9-48c0-ac30-1d4b89ad3490",
   "metadata": {},
   "source": [
    "``` mermaid\n",
    "graph TD\n",
    "    A[Data Types in Python]\n",
    "    A --> B[Numbers]\n",
    "    A --> C[Sequences]\n",
    "    A --> D[Sets]\n",
    "    A --> E[None]\n",
    "    A --> F[Mappings]\n",
    "\n",
    "    B --> G[Integer]\n",
    "    B --> H[Floating Point]\n",
    "    B --> I[Complex]\n",
    "    G --> J[Boolean]\n",
    "\n",
    "    C --> K[Strings]\n",
    "    C --> L[Lists]\n",
    "    C --> M[Tuples]\n",
    "\n",
    "    F --> N[Dictionaries]\n",
    "\n",
    "``` "
   ]
  },
  {
   "cell_type": "markdown",
   "id": "cf395a0c-584f-4324-95ac-755f07e4d4c3",
   "metadata": {},
   "source": [
    "## Numbers\n",
    "1. Number data type stores numberical values only.\n",
    "2. It is further classified into three different types : `int`,`float` and `complex`."
   ]
  },
  {
   "cell_type": "markdown",
   "id": "7088554b-380c-496f-9a91-dfc4197ea38e",
   "metadata": {},
   "source": [
    "| **Type/Class** | **Description**             | **Examples**          |\n",
    "|----------------|------------------------------|-----------------------|\n",
    "| `int`          | Integer numbers              | -12, -3, 0, 125, 2   |\n",
    "| `float`        | Real or floating-point numbers| -2.04, 4.0, 14.23    |\n",
    "| `complex`      | Complex numbers              | 3 + 4j, 2 - 2j       |"
   ]
  },
  {
   "cell_type": "markdown",
   "id": "3804dbfe-a222-4812-b12b-e7e93a24b8d7",
   "metadata": {},
   "source": [
    "3. Boolean data type `(bool)` is a subtype of integer.\n",
    "4. It is a unique data type, consisting of two constants, `True` and `False`.\n",
    "5. Boolean `True` value is non-zero, no-null and non-empty.\n",
    "6. Boolean `False` is the value zero.\n",
    "7. Determine the data type of the variable using built-in function `type()`."
   ]
  },
  {
   "cell_type": "code",
   "execution_count": 3,
   "id": "65d3b8f1-93de-4eca-b242-d9af32d63a52",
   "metadata": {},
   "outputs": [],
   "source": [
    "num1 = 10"
   ]
  },
  {
   "cell_type": "code",
   "execution_count": 4,
   "id": "b9a14fb5-5315-420d-8b53-56cbd2d5d462",
   "metadata": {},
   "outputs": [
    {
     "data": {
      "text/plain": [
       "int"
      ]
     },
     "execution_count": 4,
     "metadata": {},
     "output_type": "execute_result"
    }
   ],
   "source": [
    "type(num1)"
   ]
  },
  {
   "cell_type": "code",
   "execution_count": 5,
   "id": "a2a71525-c66e-4727-9a3c-e9941658c4c2",
   "metadata": {},
   "outputs": [],
   "source": [
    "num2 = -1210"
   ]
  },
  {
   "cell_type": "code",
   "execution_count": 6,
   "id": "e48984ed-935a-464b-afd7-83ca93670891",
   "metadata": {},
   "outputs": [
    {
     "data": {
      "text/plain": [
       "int"
      ]
     },
     "execution_count": 6,
     "metadata": {},
     "output_type": "execute_result"
    }
   ],
   "source": [
    "type(num2)"
   ]
  },
  {
   "cell_type": "code",
   "execution_count": 7,
   "id": "c3adf623-ec08-4004-a08c-a2fde95840cd",
   "metadata": {},
   "outputs": [],
   "source": [
    "var1 = True"
   ]
  },
  {
   "cell_type": "code",
   "execution_count": 8,
   "id": "03e74544-fc54-4e8b-8b43-ba363472f689",
   "metadata": {},
   "outputs": [
    {
     "data": {
      "text/plain": [
       "bool"
      ]
     },
     "execution_count": 8,
     "metadata": {},
     "output_type": "execute_result"
    }
   ],
   "source": [
    "type(var1)"
   ]
  },
  {
   "cell_type": "code",
   "execution_count": 9,
   "id": "d9ef9413-94eb-400d-bbb9-eb3612eeb64e",
   "metadata": {},
   "outputs": [],
   "source": [
    "float1 = -1921.9"
   ]
  },
  {
   "cell_type": "code",
   "execution_count": 10,
   "id": "3e46a2d5-aeb9-414e-8984-df8f9b90da38",
   "metadata": {},
   "outputs": [
    {
     "data": {
      "text/plain": [
       "float"
      ]
     },
     "execution_count": 10,
     "metadata": {},
     "output_type": "execute_result"
    }
   ],
   "source": [
    "type(float1)"
   ]
  },
  {
   "cell_type": "code",
   "execution_count": 11,
   "id": "467b606f-1c81-43dc-825f-bc6d6dfac7bd",
   "metadata": {},
   "outputs": [],
   "source": [
    "float2 = -9.8*10**2"
   ]
  },
  {
   "cell_type": "code",
   "execution_count": 12,
   "id": "82e8a8fa-de11-4aaa-9a74-9857cd537521",
   "metadata": {},
   "outputs": [
    {
     "name": "stdout",
     "output_type": "stream",
     "text": [
      "-980.0000000000001 <class 'float'>\n"
     ]
    }
   ],
   "source": [
    "print(float2,type(float2))"
   ]
  },
  {
   "cell_type": "code",
   "execution_count": 13,
   "id": "1469825f-f46c-4eb6-8d1a-b23e8f8a65eb",
   "metadata": {},
   "outputs": [],
   "source": [
    "var2 = -3+7.2j"
   ]
  },
  {
   "cell_type": "code",
   "execution_count": 14,
   "id": "d7ccf23c-19fc-4d5e-8444-17d1b4cb095b",
   "metadata": {},
   "outputs": [
    {
     "name": "stdout",
     "output_type": "stream",
     "text": [
      "(-3+7.2j) <class 'complex'>\n"
     ]
    }
   ],
   "source": [
    "print(var2, type(var2))"
   ]
  },
  {
   "cell_type": "code",
   "execution_count": 15,
   "id": "772605bc-0938-4aa1-98f6-3c4208880cab",
   "metadata": {},
   "outputs": [
    {
     "name": "stdout",
     "output_type": "stream",
     "text": [
      "<class 'int'>\n"
     ]
    }
   ],
   "source": [
    "print(type(num1))"
   ]
  },
  {
   "cell_type": "markdown",
   "id": "2d2f0281-fc81-420b-8a2c-ea89bf1feea3",
   "metadata": {},
   "source": [
    "Note : Variable of simiple data types like integers, float,boolean, etc. hold single values."
   ]
  },
  {
   "cell_type": "code",
   "execution_count": null,
   "id": "d0f51412-a234-4c79-bc7f-19a530e1446f",
   "metadata": {},
   "outputs": [],
   "source": []
  }
 ],
 "metadata": {
  "kernelspec": {
   "display_name": "Python 3 (ipykernel)",
   "language": "python",
   "name": "python3"
  },
  "language_info": {
   "codemirror_mode": {
    "name": "ipython",
    "version": 3
   },
   "file_extension": ".py",
   "mimetype": "text/x-python",
   "name": "python",
   "nbconvert_exporter": "python",
   "pygments_lexer": "ipython3",
   "version": "3.13.0"
  }
 },
 "nbformat": 4,
 "nbformat_minor": 5
}
