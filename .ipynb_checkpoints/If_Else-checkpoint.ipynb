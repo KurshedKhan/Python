{
 "cells": [
  {
   "cell_type": "markdown",
   "id": "4fb3df06-3236-4e7a-b91c-83a6d744102f",
   "metadata": {},
   "source": [
    "# Python If_Else Statements"
   ]
  },
  {
   "cell_type": "markdown",
   "id": "f4ce8655-cd9d-4f26-aac6-3d027f15df22",
   "metadata": {},
   "source": [
    "1. Decision making is the most important aspect of almost all the programming languages.\n",
    "2. The decisions are made on the validity of the particular conditions.\n",
    "3. Condition checking is the backbone of decision making.\r\n"
   ]
  },
  {
   "cell_type": "markdown",
   "id": "56a9d1ee-f1d5-4283-8c0e-20d0abf8fbb7",
   "metadata": {},
   "source": [
    "#### 1.if Statement\n",
    "#### 2.if_else Statement\n",
    "#### 3.Nested if Statement"
   ]
  },
  {
   "cell_type": "markdown",
   "id": "208d7ce1-c5b1-4a01-92f4-e9eb00436dad",
   "metadata": {},
   "source": [
    "# input() method use for take a input from users"
   ]
  },
  {
   "cell_type": "code",
   "execution_count": 1,
   "id": "b6ad9630-5e56-4b4d-a0cd-c79a19b33e89",
   "metadata": {},
   "outputs": [],
   "source": [
    "#input(\"Enter a number :\")"
   ]
  },
  {
   "cell_type": "code",
   "execution_count": 4,
   "id": "88f9b95d-79f2-4a9c-80ba-bfbc9c115825",
   "metadata": {},
   "outputs": [
    {
     "name": "stdin",
     "output_type": "stream",
     "text": [
      "Enter a number : 13\n"
     ]
    }
   ],
   "source": [
    "num = input(\"Enter a number :\")"
   ]
  },
  {
   "cell_type": "code",
   "execution_count": 5,
   "id": "b730bb88-a7d9-4f10-b64c-35f81938a117",
   "metadata": {},
   "outputs": [
    {
     "data": {
      "text/plain": [
       "'13'"
      ]
     },
     "execution_count": 5,
     "metadata": {},
     "output_type": "execute_result"
    }
   ],
   "source": [
    "num"
   ]
  },
  {
   "cell_type": "code",
   "execution_count": 6,
   "id": "ab9c4e3a-0152-48a5-bd71-2ace07064d89",
   "metadata": {},
   "outputs": [
    {
     "name": "stdin",
     "output_type": "stream",
     "text": [
      "Enter a number : 13\n"
     ]
    }
   ],
   "source": [
    "num = int(input(\"Enter a number :\"))"
   ]
  },
  {
   "cell_type": "code",
   "execution_count": 7,
   "id": "1ebb528e-d3d3-4496-b7a5-720eb9ccbfc4",
   "metadata": {},
   "outputs": [
    {
     "data": {
      "text/plain": [
       "13"
      ]
     },
     "execution_count": 7,
     "metadata": {},
     "output_type": "execute_result"
    }
   ],
   "source": [
    "num"
   ]
  },
  {
   "cell_type": "markdown",
   "id": "3756859b-9968-43dd-afc7-62a4bfe3f859",
   "metadata": {},
   "source": [
    "\n",
    "    if expression:\n",
    "        #statement"
   ]
  },
  {
   "cell_type": "code",
   "execution_count": 10,
   "id": "42de76c1-fd7c-49ba-88e0-264f65c9268f",
   "metadata": {},
   "outputs": [
    {
     "name": "stdin",
     "output_type": "stream",
     "text": [
      "Enter a number  123\n"
     ]
    }
   ],
   "source": [
    "# Write a program for find even number.\n",
    "number = int(input(\"Enter a number \"))\n",
    "\n",
    "if number % 2 == 0:\n",
    "    print(\"This number is even number \")"
   ]
  },
  {
   "cell_type": "code",
   "execution_count": 11,
   "id": "06170933-59d6-4dd1-9d98-28f3a2c6e72c",
   "metadata": {},
   "outputs": [
    {
     "name": "stdin",
     "output_type": "stream",
     "text": [
      "Enter first number : 133\n",
      "Enter second number : 234\n",
      "Enter third number : 453\n"
     ]
    },
    {
     "name": "stdout",
     "output_type": "stream",
     "text": [
      "c is the largest number 453\n"
     ]
    }
   ],
   "source": [
    "# Program to print the largest of the three numbers.\n",
    "\n",
    "a = int(input(\"Enter first number :\"));\n",
    "b = int(input(\"Enter second number :\"));\n",
    "c = int(input(\"Enter third number :\"));\n",
    "\n",
    "if a > b and a > c:\n",
    "    print(\"a is the largest number\",a);\n",
    "if b > a and b > c:\n",
    "    print(\"b is the largest nubmer\",b);\n",
    "if c > a and c > b:\n",
    "    print(\"c is the largest number\",c);\n",
    "              "
   ]
  },
  {
   "cell_type": "markdown",
   "id": "6091ffe2-b8ef-4ab6-9b1e-349e4745bd9d",
   "metadata": {},
   "source": [
    "\n",
    "    if condition:\n",
    "        #Block of statement\n",
    "    else:\n",
    "        #another block of the statement"
   ]
  },
  {
   "cell_type": "code",
   "execution_count": 14,
   "id": "b4a03ff4-a029-4cdb-a4ea-33f8e5b210aa",
   "metadata": {},
   "outputs": [
    {
     "name": "stdin",
     "output_type": "stream",
     "text": [
      "Enter your age : 34\n"
     ]
    },
    {
     "name": "stdout",
     "output_type": "stream",
     "text": [
      "You are eligible for vote :\n"
     ]
    }
   ],
   "source": [
    "# Program to check whether a person is eligible to vote or not\n",
    "age = int(input(\"Enter your age :\"));\n",
    "if age >= 18:\n",
    "    print(\"You are eligible for vote :\");\n",
    "else:\n",
    "    print(\"You are not eligible for vote :\");\n",
    "    "
   ]
  },
  {
   "cell_type": "code",
   "execution_count": 15,
   "id": "c8bc92d2-9fc9-4b0d-a760-035c6a3c210b",
   "metadata": {},
   "outputs": [
    {
     "name": "stdin",
     "output_type": "stream",
     "text": [
      "Enter a number for even and odd : 34\n"
     ]
    },
    {
     "name": "stdout",
     "output_type": "stream",
     "text": [
      "This number is even number : 34\n"
     ]
    }
   ],
   "source": [
    "# Program to check whether a number is even or not\n",
    "\n",
    "num = int(input(\"Enter a number for even and odd :\"));\n",
    "if num % 2 == 0:\n",
    "    print(\"This number is even number :\",num);\n",
    "else:\n",
    "    print(\"This number is odd number :\",num);"
   ]
  },
  {
   "cell_type": "markdown",
   "id": "358e80d1-f12e-48f3-a875-280a11a464be",
   "metadata": {},
   "source": [
    "###### Nested_if_else\n",
    "    if expression 1:\n",
    "        #block of statements\n",
    "        \n",
    "    elif expression 2:\n",
    "        #block of statements\n",
    "        \n",
    "    elif expression 3:\n",
    "        #block of statements\n",
    "        \n",
    "    else:\n",
    "        #block of statements"
   ]
  },
  {
   "cell_type": "code",
   "execution_count": 17,
   "id": "347d7093-5248-4ee9-a689-0d033ae08029",
   "metadata": {},
   "outputs": [
    {
     "name": "stdin",
     "output_type": "stream",
     "text": [
      "Enter your marks : 23\n"
     ]
    },
    {
     "name": "stdout",
     "output_type": "stream",
     "text": [
      "you are Fail 23\n"
     ]
    }
   ],
   "source": [
    "# Write a program for student grade in the class.\n",
    "\n",
    "Marks = int(input(\"Enter your marks :\"));\n",
    "\n",
    "if Marks > 60:\n",
    "    print(\"First division\",Marks);\n",
    "elif Marks < 60 and Marks >45:\n",
    "    print(\"Second division\",Marks);\n",
    "elif Marks <45 and Marks > 33:\n",
    "    print(\"Third division\",Marks);\n",
    "else:\n",
    "    print(\"you are Fail\",Marks);\n"
   ]
  },
  {
   "cell_type": "code",
   "execution_count": null,
   "id": "bff878af-5afa-4c15-ab44-5b8fbd164814",
   "metadata": {},
   "outputs": [],
   "source": []
  }
 ],
 "metadata": {
  "kernelspec": {
   "display_name": "Python 3 (ipykernel)",
   "language": "python",
   "name": "python3"
  },
  "language_info": {
   "codemirror_mode": {
    "name": "ipython",
    "version": 3
   },
   "file_extension": ".py",
   "mimetype": "text/x-python",
   "name": "python",
   "nbconvert_exporter": "python",
   "pygments_lexer": "ipython3",
   "version": "3.12.0"
  }
 },
 "nbformat": 4,
 "nbformat_minor": 5
}
