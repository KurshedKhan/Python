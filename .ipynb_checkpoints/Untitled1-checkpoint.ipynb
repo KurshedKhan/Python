{
 "cells": [
  {
   "cell_type": "code",
   "execution_count": 1,
   "id": "7d08b18e-30c0-4278-9f1c-d62d0d0b9424",
   "metadata": {},
   "outputs": [],
   "source": [
    "def sum():\n",
    "    print(\"Hello\")"
   ]
  },
  {
   "cell_type": "code",
   "execution_count": 2,
   "id": "13f8831d-cd45-4a49-bda5-bd04c65a2e36",
   "metadata": {},
   "outputs": [
    {
     "name": "stdout",
     "output_type": "stream",
     "text": [
      "Hello\n"
     ]
    }
   ],
   "source": [
    "sum()"
   ]
  },
  {
   "cell_type": "code",
   "execution_count": 9,
   "id": "86335cd3-90e9-424e-8441-c942a5bc8430",
   "metadata": {},
   "outputs": [],
   "source": [
    "def sum(para1,para2,opr):\n",
    "    total = para1 + para2;\n",
    "    print(total)"
   ]
  },
  {
   "cell_type": "code",
   "execution_count": 1,
   "id": "85d6f540-c671-4636-a5ec-ec6d88457ea7",
   "metadata": {},
   "outputs": [
    {
     "ename": "TypeError",
     "evalue": "sum() takes at most 2 arguments (3 given)",
     "output_type": "error",
     "traceback": [
      "\u001b[1;31m---------------------------------------------------------------------------\u001b[0m",
      "\u001b[1;31mTypeError\u001b[0m                                 Traceback (most recent call last)",
      "Cell \u001b[1;32mIn[1], line 1\u001b[0m\n\u001b[1;32m----> 1\u001b[0m \u001b[38;5;28;43msum\u001b[39;49m\u001b[43m(\u001b[49m\u001b[38;5;241;43m10\u001b[39;49m\u001b[43m,\u001b[49m\u001b[38;5;241;43m20\u001b[39;49m\u001b[43m,\u001b[49m\u001b[38;5;124;43m\"\u001b[39;49m\u001b[38;5;124;43m+\u001b[39;49m\u001b[38;5;124;43m\"\u001b[39;49m\u001b[43m)\u001b[49m\n",
      "\u001b[1;31mTypeError\u001b[0m: sum() takes at most 2 arguments (3 given)"
     ]
    }
   ],
   "source": [
    "sum(10,20,\"+\")"
   ]
  },
  {
   "cell_type": "code",
   "execution_count": null,
   "id": "5464dc0d-ad55-4682-bc1c-3c6a20b1c171",
   "metadata": {},
   "outputs": [],
   "source": []
  },
  {
   "cell_type": "code",
   "execution_count": 15,
   "id": "51f93b44-3ba5-4457-b353-9fabcda16d1e",
   "metadata": {},
   "outputs": [
    {
     "name": "stdin",
     "output_type": "stream",
     "text": [
      "Enter a number  5220\n"
     ]
    },
    {
     "name": "stdout",
     "output_type": "stream",
     "text": [
      "13626810\n"
     ]
    }
   ],
   "source": [
    "def sum_nat(n):\n",
    "    total = 0\n",
    "    for i in range(1,n+1):\n",
    "        total += i\n",
    "    print(total)\n",
    "\n",
    "n = int(input(\"Enter a number \"))\n",
    "sum_nat(n);"
   ]
  },
  {
   "cell_type": "code",
   "execution_count": 7,
   "id": "1138643d-7d91-4263-a2e3-02fd224cf760",
   "metadata": {},
   "outputs": [
    {
     "name": "stdin",
     "output_type": "stream",
     "text": [
      "Enter first number :  10\n",
      "Enter second number :  20\n"
     ]
    },
    {
     "name": "stdout",
     "output_type": "stream",
     "text": [
      "-20\n"
     ]
    }
   ],
   "source": [
    "def sum(para1, para2):\n",
    "    total = para1 + para2\n",
    "    return total\n",
    "\n",
    "num1 = int(input(\"Enter first number : \"))\n",
    "num2 = int(input(\"Enter second number : \"))\n",
    "total = sum(num1,num2)\n",
    "print(total - 50)"
   ]
  },
  {
   "cell_type": "code",
   "execution_count": 10,
   "id": "6986a6af-94e2-4318-85f9-107f04deaaee",
   "metadata": {},
   "outputs": [
    {
     "name": "stdin",
     "output_type": "stream",
     "text": [
      "Enter hindi number :  70\n",
      "Enter english number :  56\n",
      "Enter account number :  23\n",
      "Enter bst number :  99\n",
      "Enter cs number :  89\n",
      "Enter eco number :  80\n"
     ]
    },
    {
     "name": "stdout",
     "output_type": "stream",
     "text": [
      "Total Number :  417\n",
      "Percentage : 69.5\n",
      "B Grade\n"
     ]
    }
   ],
   "source": [
    "def percentage(Hindi,English,Account,BST,CS,Eco):\n",
    "    total = Hindi + English + Account + BST + CS + Eco\n",
    "    print(\"Total Number : \",total)\n",
    "    TPN = 600\n",
    "    per = total/TPN*100\n",
    "    print(\"Percentage :\",per)\n",
    "    return per\n",
    "\n",
    "h = int(input(\"Enter hindi number : \"))\n",
    "e = int(input(\"Enter english number : \"))\n",
    "a = int(input(\"Enter account number : \"))\n",
    "bst = int(input(\"Enter bst number : \"))\n",
    "cs = int(input(\"Enter cs number : \"))\n",
    "eco = int(input(\"Enter eco number : \"))\n",
    "\n",
    "per = percentage(h,e,a,bst,cs,eco)\n",
    "if per > 90 and per <= 100 :\n",
    "    print(\"A+ Grade\")\n",
    "elif per > 80 and per <=90 :\n",
    "    print(\"A Grade\")\n",
    "elif per > 70 and per <=80 :\n",
    "    print(\"B+ Grade\")\n",
    "elif per > 60 and per <=70 :\n",
    "    print(\"B Grade\")\n",
    "elif per > 50 and per <=60 :\n",
    "    print(\"C Grade\")\n",
    "elif per > 40 and per <=50 :\n",
    "    print(\"D Grade\")\n",
    "elif per > 33 and per <=40 :\n",
    "    print(\"E Grade\")\n",
    "else:\n",
    "    print(\"Fail\")"
   ]
  },
  {
   "cell_type": "code",
   "execution_count": null,
   "id": "abf1a8be-eb02-43b6-974b-ab41456d41c3",
   "metadata": {},
   "outputs": [],
   "source": []
  },
  {
   "cell_type": "code",
   "execution_count": 7,
   "id": "b1874b77-936b-4f18-a3ca-cec8fcc031b1",
   "metadata": {},
   "outputs": [
    {
     "name": "stdin",
     "output_type": "stream",
     "text": [
      "Enter your color signal : red\n"
     ]
    },
    {
     "name": "stdout",
     "output_type": "stream",
     "text": [
      "Stop Please\n"
     ]
    }
   ],
   "source": [
    "def traficLight():\n",
    "    signal = input(\"Enter your color signal :\")\n",
    "    number = light(signal)\n",
    "    if signal not in (\"Red\",\"Yellow\",\"Green\",\"red\",\"green\",\"yellow\"):\n",
    "        print(\"Invalid color\")\n",
    "    else :\n",
    "        if number == 0 :\n",
    "            print(\"Stop Please\")\n",
    "        elif number == 1 :\n",
    "            print(\"you can go\")\n",
    "        elif number == 2 :\n",
    "            print(\"Warning ! , you can go but carefully\")\n",
    "\n",
    "\n",
    "def light(color):\n",
    "    if color == \"Red\" or color == \"red\":\n",
    "        return 0\n",
    "    elif color == \"Green\" or color == \"green\":\n",
    "        return 1\n",
    "    elif color == \"Yellow\" or color == \"yellow\":\n",
    "        return 2\n",
    "\n",
    "traficLight()"
   ]
  },
  {
   "cell_type": "code",
   "execution_count": null,
   "id": "24077e88-3a91-4bfe-a9e9-4888b0642b6b",
   "metadata": {},
   "outputs": [],
   "source": []
  }
 ],
 "metadata": {
  "kernelspec": {
   "display_name": "Python 3 (ipykernel)",
   "language": "python",
   "name": "python3"
  },
  "language_info": {
   "codemirror_mode": {
    "name": "ipython",
    "version": 3
   },
   "file_extension": ".py",
   "mimetype": "text/x-python",
   "name": "python",
   "nbconvert_exporter": "python",
   "pygments_lexer": "ipython3",
   "version": "3.13.1"
  }
 },
 "nbformat": 4,
 "nbformat_minor": 5
}
