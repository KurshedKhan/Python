{
 "cells": [
  {
   "cell_type": "code",
   "execution_count": 13,
   "id": "87685b1d-7342-47f1-8d03-f1f9c1cdd4f1",
   "metadata": {},
   "outputs": [
    {
     "name": "stdin",
     "output_type": "stream",
     "text": [
      "Enter a number :  19\n"
     ]
    },
    {
     "name": "stdout",
     "output_type": "stream",
     "text": [
      "This is a prime number \n"
     ]
    }
   ],
   "source": [
    "#find out a prime number in given this number\n",
    "\n",
    "number = int(input(\"Enter a number : \"))\n",
    "factor = 2\n",
    "isprime = 0\n",
    "for i in range(2,int(number/2)):\n",
    "    if number % i == 0 :\n",
    "        isprime = 1\n",
    "        break\n",
    "\n",
    "if isprime ==  :\n",
    "    print(\"This is a prime number \")\n",
    "else:\n",
    "    print(\"This is not a prime nuber :\")"
   ]
  },
  {
   "cell_type": "code",
   "execution_count": 19,
   "id": "35879990-04a9-4d08-8767-cd1f60d0bde1",
   "metadata": {},
   "outputs": [
    {
     "name": "stdin",
     "output_type": "stream",
     "text": [
      "Enter a number :  93\n"
     ]
    },
    {
     "name": "stdout",
     "output_type": "stream",
     "text": [
      "1\n",
      "This is a prime number : 2\n",
      "This is not a prime number : 3\n",
      "This is a prime number : 4\n",
      "This is a prime number : 5\n",
      "This is a prime number : 6\n",
      "This is a prime number : 7\n",
      "This is a prime number : 8\n",
      "This is a prime number : 9\n",
      "This is a prime number : 10\n",
      "This is a prime number : 11\n",
      "This is a prime number : 12\n",
      "This is a prime number : 13\n",
      "This is a prime number : 14\n",
      "This is a prime number : 15\n",
      "This is a prime number : 16\n",
      "This is a prime number : 17\n",
      "This is a prime number : 18\n",
      "This is a prime number : 19\n",
      "This is a prime number : 20\n",
      "This is a prime number : 21\n",
      "This is a prime number : 22\n",
      "This is a prime number : 23\n",
      "This is a prime number : 24\n",
      "This is a prime number : 25\n",
      "This is a prime number : 26\n",
      "This is a prime number : 27\n",
      "This is a prime number : 28\n",
      "This is a prime number : 29\n",
      "This is a prime number : 30\n",
      "This is not a prime number : 31\n",
      "This is a prime number : 32\n",
      "This is a prime number : 33\n",
      "This is a prime number : 34\n",
      "This is a prime number : 35\n",
      "This is a prime number : 36\n",
      "This is a prime number : 37\n",
      "This is a prime number : 38\n",
      "This is a prime number : 39\n",
      "This is a prime number : 40\n",
      "This is a prime number : 41\n",
      "This is a prime number : 42\n",
      "This is a prime number : 43\n",
      "This is a prime number : 44\n",
      "This is a prime number : 45\n",
      "This is a prime number : 46\n",
      "This is a prime number : 47\n",
      "This is a prime number : 48\n",
      "This is a prime number : 49\n",
      "This is a prime number : 50\n",
      "This is a prime number : 51\n",
      "This is a prime number : 52\n",
      "This is a prime number : 53\n",
      "This is a prime number : 54\n",
      "This is a prime number : 55\n",
      "This is a prime number : 56\n",
      "This is a prime number : 57\n",
      "This is a prime number : 58\n",
      "This is a prime number : 59\n",
      "This is a prime number : 60\n",
      "This is a prime number : 61\n",
      "This is a prime number : 62\n",
      "This is a prime number : 63\n",
      "This is a prime number : 64\n",
      "This is a prime number : 65\n",
      "This is a prime number : 66\n",
      "This is a prime number : 67\n",
      "This is a prime number : 68\n",
      "This is a prime number : 69\n",
      "This is a prime number : 70\n",
      "This is a prime number : 71\n",
      "This is a prime number : 72\n",
      "This is a prime number : 73\n",
      "This is a prime number : 74\n",
      "This is a prime number : 75\n",
      "This is a prime number : 76\n",
      "This is a prime number : 77\n",
      "This is a prime number : 78\n",
      "This is a prime number : 79\n",
      "This is a prime number : 80\n",
      "This is a prime number : 81\n",
      "This is a prime number : 82\n",
      "This is a prime number : 83\n",
      "This is a prime number : 84\n",
      "This is a prime number : 85\n",
      "This is a prime number : 86\n",
      "This is a prime number : 87\n",
      "This is a prime number : 88\n",
      "This is a prime number : 89\n",
      "This is a prime number : 90\n",
      "This is a prime number : 91\n",
      "This is a prime number : 92\n",
      "This is not a prime number : 93\n"
     ]
    }
   ],
   "source": [
    "#find out a prime number in given this number\n",
    "\n",
    "number = int(input(\"Enter a number : \"))\n",
    "print(1)\n",
    "factor = 2\n",
    "isprime = True\n",
    "for i in range(2,number+1):\n",
    "    if number % i == 0 :\n",
    "        print(\"This is not a prime number :\",i)\n",
    "    else:\n",
    "        print(\"This is a prime number :\",i)"
   ]
  },
  {
   "cell_type": "code",
   "execution_count": 8,
   "id": "4cee55c6-ca40-419d-a253-8984014bb06d",
   "metadata": {},
   "outputs": [
    {
     "name": "stdout",
     "output_type": "stream",
     "text": [
      "0\n",
      "1\n",
      "2\n",
      "4\n",
      "5\n",
      "Total value : 12\n"
     ]
    }
   ],
   "source": [
    "num = 0\n",
    "for i in range(6):\n",
    "    if i == 3:\n",
    "        continue\n",
    "    num += i\n",
    "    print(i)\n",
    "print(\"Total value :\",num)"
   ]
  },
  {
   "cell_type": "code",
   "execution_count": 9,
   "id": "ffe1fb6f-de13-4933-b92b-bf53db05b28f",
   "metadata": {},
   "outputs": [
    {
     "name": "stdin",
     "output_type": "stream",
     "text": [
      "Entar a number : 20\n"
     ]
    },
    {
     "name": "stdout",
     "output_type": "stream",
     "text": [
      "184\n"
     ]
    }
   ],
   "source": [
    "num = int(input(\"Entar a number :\"))\n",
    "total = 0\n",
    "for i in range(1,num+1):\n",
    "    if i == 8 or i == 18:\n",
    "        continue\n",
    "    total += i\n",
    "print(total)"
   ]
  },
  {
   "cell_type": "code",
   "execution_count": null,
   "id": "748e8005-a048-4063-8423-330ac0e58a57",
   "metadata": {},
   "outputs": [],
   "source": []
  },
  {
   "cell_type": "code",
   "execution_count": null,
   "id": "8c031249-f0b0-4cac-a814-2e69bd02574c",
   "metadata": {},
   "outputs": [],
   "source": []
  },
  {
   "cell_type": "code",
   "execution_count": 3,
   "id": "8c1aa9f1-8b85-4c85-a489-19fd893dc7fd",
   "metadata": {},
   "outputs": [
    {
     "name": "stdin",
     "output_type": "stream",
     "text": [
      "Please Enter a number for sum : 5\n"
     ]
    },
    {
     "name": "stdout",
     "output_type": "stream",
     "text": [
      "Total 15\n"
     ]
    }
   ],
   "source": [
    "def sumSequence(n):\n",
    "    total = 0\n",
    "    for i in range(1,n+1):\n",
    "        total = total + i\n",
    "    print(\"Total\",total)\n",
    "num = int(input(\"Please Enter a number for sum :\"))\n",
    "sumSequence(num)"
   ]
  },
  {
   "cell_type": "code",
   "execution_count": 17,
   "id": "991ab12f-f205-47c4-ab17-4dc0d3b1389c",
   "metadata": {},
   "outputs": [],
   "source": [
    "def sum(para1,para2,opr):\n",
    "    if opr == \"+\" :\n",
    "        print(para1+para2)\n",
    "    elif opr == \"-\":\n",
    "        print(para1-para2)\n",
    "    elif opr == \"*\":\n",
    "        print(para1*para2)\n",
    "    elif opr == \"/\":\n",
    "        print(Para1/para2)\n",
    "    else:\n",
    "        print(\"Invalid Data\")"
   ]
  },
  {
   "cell_type": "code",
   "execution_count": 18,
   "id": "6dde5175-ef03-4ce6-be22-3b65d232f50a",
   "metadata": {},
   "outputs": [
    {
     "name": "stdout",
     "output_type": "stream",
     "text": [
      "30\n"
     ]
    }
   ],
   "source": [
    "sum(10,20,\"+\")"
   ]
  },
  {
   "cell_type": "code",
   "execution_count": 19,
   "id": "2a4c6de2-0b24-4701-bbcf-1d79a7a0f3fc",
   "metadata": {},
   "outputs": [
    {
     "name": "stdout",
     "output_type": "stream",
     "text": [
      "-30\n"
     ]
    }
   ],
   "source": [
    "sum(20,50,\"-\")"
   ]
  },
  {
   "cell_type": "code",
   "execution_count": 22,
   "id": "de533dcb-f19a-47ce-953d-35aecd3f3bfe",
   "metadata": {},
   "outputs": [
    {
     "name": "stdin",
     "output_type": "stream",
     "text": [
      "Enter a first number :  20\n",
      "Enter a second number :  36\n",
      "Enter a opr like : + , - , * , / :  &\n"
     ]
    },
    {
     "name": "stdout",
     "output_type": "stream",
     "text": [
      "Invalid Data\n"
     ]
    }
   ],
   "source": [
    "num1 = int(input(\"Enter a first number : \"))\n",
    "num2 = int(input(\"Enter a second number : \"))\n",
    "opr = input(\"Enter a opr like : + , - , * , / : \")\n",
    "sum(num1,num2,opr)"
   ]
  },
  {
   "cell_type": "code",
   "execution_count": null,
   "id": "c27a6b65-1852-4d28-97a6-576bfe710316",
   "metadata": {},
   "outputs": [],
   "source": []
  },
  {
   "cell_type": "code",
   "execution_count": 23,
   "id": "260d8626-8a4a-4961-a5f9-4ca3ed5373a1",
   "metadata": {},
   "outputs": [],
   "source": [
    "def PerAge(h,e,m,s,ss):\n",
    "    total = h+e+m+s+ss\n",
    "    TPN = int(input(\"Enter total paper number : \"))\n",
    "    aver = total/TPN*100\n",
    "    print(\"Total Percentage :\",aver)"
   ]
  },
  {
   "cell_type": "code",
   "execution_count": 25,
   "id": "31bb294b-67a0-4561-be37-760d1c9884bb",
   "metadata": {},
   "outputs": [
    {
     "name": "stdin",
     "output_type": "stream",
     "text": [
      "Enter Hindi marks :  77\n",
      "Enter English marks :  66\n",
      "Enter Math marks :  66\n",
      "Enter Science marks :  78\n",
      "Enter Social Studies marks :  93\n",
      "Enter total paper number :  500\n"
     ]
    },
    {
     "name": "stdout",
     "output_type": "stream",
     "text": [
      "Total Percentage : 76.0\n"
     ]
    }
   ],
   "source": [
    "h = int(input(\"Enter Hindi marks : \"))\n",
    "e = int(input(\"Enter English marks : \"))\n",
    "m = int(input(\"Enter Math marks : \"))\n",
    "s = int(input(\"Enter Science marks : \"))\n",
    "ss = int(input(\"Enter Social Studies marks : \"))\n",
    "PerAge(h,e,m,s,ss)"
   ]
  },
  {
   "cell_type": "code",
   "execution_count": null,
   "id": "44863341-da6b-40e1-82c8-2b88ec710d3d",
   "metadata": {},
   "outputs": [],
   "source": []
  }
 ],
 "metadata": {
  "kernelspec": {
   "display_name": "Python 3 (ipykernel)",
   "language": "python",
   "name": "python3"
  },
  "language_info": {
   "codemirror_mode": {
    "name": "ipython",
    "version": 3
   },
   "file_extension": ".py",
   "mimetype": "text/x-python",
   "name": "python",
   "nbconvert_exporter": "python",
   "pygments_lexer": "ipython3",
   "version": "3.13.0"
  }
 },
 "nbformat": 4,
 "nbformat_minor": 5
}
