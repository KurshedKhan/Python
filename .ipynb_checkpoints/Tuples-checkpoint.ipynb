{
 "cells": [
  {
   "cell_type": "markdown",
   "id": "54aa7227-6589-470a-9e6d-fd84a87f28a6",
   "metadata": {},
   "source": [
    "# Python Tuples\n",
    "\n",
    "    A comma-separated group of items is called a Python triple. \n",
    "    \n",
    "    The ordering, settled items, and reiterations of a tuple are to some degree like those of a rundown, but in contrast to a rundown, a tuple is unchanging.\n",
    "\n",
    "    The main difference between the two is that we cannot alter the components of a tuple once they have been assigned. \n",
    "    \n",
    "    On the other hand, we can edit the contents of a list.t."
   ]
  },
  {
   "cell_type": "code",
   "execution_count": 1,
   "id": "aff921f4-512d-4fb0-a475-d74f1f24ec25",
   "metadata": {},
   "outputs": [],
   "source": [
    "tup = (\"Sahil\",\"Pooja\",\"Payal\",\"Ankita\")"
   ]
  },
  {
   "cell_type": "markdown",
   "id": "67f5a3f4-9837-4281-aaa5-b9b16fc86322",
   "metadata": {},
   "source": [
    "### Features of Python tuple\n",
    "\n",
    "    Tuples are an immutable data type, meaning their elements cannot be changed after they are generated.\n",
    "\n",
    "    Each element in a tuple has a specific order that will never change because tuples are ordered sequences."
   ]
  },
  {
   "cell_type": "markdown",
   "id": "06ae575e-9efb-4d92-a555-fd217330acb4",
   "metadata": {},
   "source": [
    "### Forming a Tuple\n",
    "\n",
    "    All the objects-also known as \"elements\"-must be separated by a comma, enclosed in parenthesis (). \n",
    "    \n",
    "    Although parentheses are not required, they are recommended.\n",
    "\n",
    "    Any number of items, including those with various data types (dictionary, string, float, list, etc.), can be contained in a tuple."
   ]
  },
  {
   "cell_type": "code",
   "execution_count": 2,
   "id": "de281603-79b1-412e-b0fa-7e0c43f7181f",
   "metadata": {},
   "outputs": [
    {
     "name": "stdout",
     "output_type": "stream",
     "text": [
      "()\n"
     ]
    }
   ],
   "source": [
    "# create a empty tuple\n",
    "\n",
    "emp_tup = ();\n",
    "print(emp_tup)"
   ]
  },
  {
   "cell_type": "code",
   "execution_count": 3,
   "id": "95b0dda7-930d-43a4-90d5-1de207b14459",
   "metadata": {},
   "outputs": [
    {
     "name": "stdout",
     "output_type": "stream",
     "text": [
      "Tuple With integers :  (4, 6, 20, 12, 14)\n"
     ]
    }
   ],
   "source": [
    "# create a tuple having integers\n",
    "\n",
    "int_tuple = (4,6,20,12,14)\n",
    "print(\"Tuple With integers : \", int_tuple)"
   ]
  },
  {
   "cell_type": "code",
   "execution_count": 4,
   "id": "cacea2be-1ed9-4702-8cba-0d4b29bcba33",
   "metadata": {},
   "outputs": [
    {
     "name": "stdout",
     "output_type": "stream",
     "text": [
      "Tuple With different data types : (4, 'Python', 9.3)\n"
     ]
    }
   ],
   "source": [
    "# create a tuple having objects of different data types\n",
    "\n",
    "dif_tup = (4,\"Python\",9.3)\n",
    "print(\"Tuple With different data types :\",dif_tup)"
   ]
  },
  {
   "cell_type": "code",
   "execution_count": 5,
   "id": "4be3e960-5546-4575-850d-9e1234a1532a",
   "metadata": {},
   "outputs": [
    {
     "name": "stdout",
     "output_type": "stream",
     "text": [
      "A nested tuple: ('Python', {4: 5, 6: 2, 8: 2}, (5, 3, 5, 6))\n"
     ]
    }
   ],
   "source": [
    "#create a nested tuple\n",
    "nested_tup  = (\"Python\",{4:5,6:2,8:2},(5,3,5,6))\n",
    "print(\"A nested tuple:\",nested_tup)"
   ]
  },
  {
   "cell_type": "markdown",
   "id": "a5985089-d825-4f01-8db8-0e81df8d33f5",
   "metadata": {},
   "source": [
    "#### Q.1 Python program to create a tuple without using parentheses"
   ]
  },
  {
   "cell_type": "code",
   "execution_count": 6,
   "id": "14d2292e-9700-4ced-9c9b-f5ffd0aeffb9",
   "metadata": {},
   "outputs": [],
   "source": [
    "# create a tuple\n",
    "tup = 4,5,7,\"Tuples\",[\"Python\",\"Tuples\"]"
   ]
  },
  {
   "cell_type": "code",
   "execution_count": 7,
   "id": "63ad087e-4dae-4faa-a9be-33af777ab9f3",
   "metadata": {},
   "outputs": [
    {
     "name": "stdout",
     "output_type": "stream",
     "text": [
      "(4, 5, 7, 'Tuples', ['Python', 'Tuples'])\n"
     ]
    }
   ],
   "source": [
    "# displaying the tuple created\n",
    "print(tup)"
   ]
  },
  {
   "cell_type": "code",
   "execution_count": 8,
   "id": "ad866c2a-dcb4-40b6-a33e-24f8800400d9",
   "metadata": {},
   "outputs": [
    {
     "name": "stdout",
     "output_type": "stream",
     "text": [
      "<class 'tuple'>\n"
     ]
    }
   ],
   "source": [
    "# checking the data type of object tup\n",
    "print(type(tup))"
   ]
  },
  {
   "cell_type": "code",
   "execution_count": 9,
   "id": "bdf75626-a550-4c07-90bc-4cb7375f62fa",
   "metadata": {},
   "outputs": [
    {
     "ename": "TypeError",
     "evalue": "'tuple' object does not support item assignment",
     "output_type": "error",
     "traceback": [
      "\u001b[1;31m---------------------------------------------------------------------------\u001b[0m",
      "\u001b[1;31mTypeError\u001b[0m                                 Traceback (most recent call last)",
      "Cell \u001b[1;32mIn[9], line 2\u001b[0m\n\u001b[0;32m      1\u001b[0m \u001b[38;5;66;03m# do not update tuple element\u001b[39;00m\n\u001b[1;32m----> 2\u001b[0m \u001b[43mtup\u001b[49m\u001b[43m[\u001b[49m\u001b[38;5;241;43m2\u001b[39;49m\u001b[43m]\u001b[49m \u001b[38;5;241m=\u001b[39m \u001b[38;5;241m4.5\u001b[39m\n",
      "\u001b[1;31mTypeError\u001b[0m: 'tuple' object does not support item assignment"
     ]
    }
   ],
   "source": [
    "# do not update tuple element\n",
    "tup[2] = 4.5"
   ]
  },
  {
   "cell_type": "markdown",
   "id": "d6d1a1fd-4458-4591-972a-1fcdd3d270df",
   "metadata": {},
   "source": [
    "#### Q.2 Python program to show how to create a tuple having a single element."
   ]
  },
  {
   "cell_type": "code",
   "execution_count": 10,
   "id": "ec3817a0-735e-4050-a1c5-30844356ae49",
   "metadata": {},
   "outputs": [],
   "source": [
    "# single Element in tuple\n",
    "single_tup = (\"Tuple\")"
   ]
  },
  {
   "cell_type": "code",
   "execution_count": 11,
   "id": "c33fd88d-d970-4c67-887c-465ed61af442",
   "metadata": {},
   "outputs": [
    {
     "data": {
      "text/plain": [
       "'Tuple'"
      ]
     },
     "execution_count": 11,
     "metadata": {},
     "output_type": "execute_result"
    }
   ],
   "source": [
    "single_tup"
   ]
  },
  {
   "cell_type": "code",
   "execution_count": 12,
   "id": "8baeda8f-25ff-4226-85b5-d5854e08501f",
   "metadata": {},
   "outputs": [
    {
     "name": "stdout",
     "output_type": "stream",
     "text": [
      "<class 'str'>\n"
     ]
    }
   ],
   "source": [
    "# Checking the object is tuple or not.\n",
    "print(type(single_tup))"
   ]
  },
  {
   "cell_type": "code",
   "execution_count": 13,
   "id": "9f1b416d-c115-4061-81a5-7814d328eda6",
   "metadata": {},
   "outputs": [],
   "source": [
    "single_tup = (\"Tuple\",)"
   ]
  },
  {
   "cell_type": "code",
   "execution_count": 14,
   "id": "c3a57ec0-a39c-48eb-8267-b5b08d009f7e",
   "metadata": {},
   "outputs": [
    {
     "name": "stdout",
     "output_type": "stream",
     "text": [
      "<class 'tuple'>\n"
     ]
    }
   ],
   "source": [
    "print(type(single_tup))"
   ]
  },
  {
   "cell_type": "code",
   "execution_count": 15,
   "id": "f14f1378-1146-4802-93dc-34244a18657f",
   "metadata": {},
   "outputs": [],
   "source": [
    "# creating tuple wihtout parentheses\n",
    "single_tup = \"Tuple\","
   ]
  },
  {
   "cell_type": "code",
   "execution_count": 16,
   "id": "e235b0fd-3bbf-4831-ba89-ad4d815f70c8",
   "metadata": {},
   "outputs": [
    {
     "data": {
      "text/plain": [
       "tuple"
      ]
     },
     "execution_count": 16,
     "metadata": {},
     "output_type": "execute_result"
    }
   ],
   "source": [
    "type(single_tup)"
   ]
  },
  {
   "cell_type": "markdown",
   "id": "ecbb188e-eb84-4359-9623-d85ebababa42",
   "metadata": {},
   "source": [
    "### Accessing Tuple Elements\n",
    "\n",
    "    A tuple's objects can be accessed in a variety of ways."
   ]
  },
  {
   "cell_type": "markdown",
   "id": "810d2c60-bfbc-4271-b6e2-68e406477de4",
   "metadata": {},
   "source": [
    "### 1. Indexing\n",
    "\n",
    "    Indexing We can use the index operator [] to access an object in a tuple, where the index starts at 0.\n",
    "\n",
    "    The index in Python must be an integer, we cannot provide an index of a floating data type or any other type. If we provide a floating index, the result will be TypeError."
   ]
  },
  {
   "cell_type": "code",
   "execution_count": 17,
   "id": "028c1985-e4c3-43b3-beb3-43edde8709c0",
   "metadata": {},
   "outputs": [],
   "source": [
    "# create a tuple\n",
    "tup = (\"Python\",\"Tuple\",\"Ordered\",\"Collection\")"
   ]
  },
  {
   "cell_type": "code",
   "execution_count": 18,
   "id": "dcb1e566-58a4-4264-aeb9-cfa17be56297",
   "metadata": {},
   "outputs": [
    {
     "data": {
      "text/plain": [
       "'Python'"
      ]
     },
     "execution_count": 18,
     "metadata": {},
     "output_type": "execute_result"
    }
   ],
   "source": [
    "tup[0]"
   ]
  },
  {
   "cell_type": "code",
   "execution_count": 19,
   "id": "175ecb66-10a5-4a54-afa8-f121402dd70b",
   "metadata": {},
   "outputs": [
    {
     "ename": "IndexError",
     "evalue": "tuple index out of range",
     "output_type": "error",
     "traceback": [
      "\u001b[1;31m---------------------------------------------------------------------------\u001b[0m",
      "\u001b[1;31mIndexError\u001b[0m                                Traceback (most recent call last)",
      "Cell \u001b[1;32mIn[19], line 2\u001b[0m\n\u001b[0;32m      1\u001b[0m \u001b[38;5;66;03m# out of length generated a error\u001b[39;00m\n\u001b[1;32m----> 2\u001b[0m \u001b[43mtup\u001b[49m\u001b[43m[\u001b[49m\u001b[38;5;241;43m5\u001b[39;49m\u001b[43m]\u001b[49m\n",
      "\u001b[1;31mIndexError\u001b[0m: tuple index out of range"
     ]
    }
   ],
   "source": [
    "# out of length generated a error\n",
    "tup[5]"
   ]
  },
  {
   "cell_type": "code",
   "execution_count": 20,
   "id": "e4e51520-348d-46b4-b674-649625c9f3ac",
   "metadata": {},
   "outputs": [
    {
     "ename": "TypeError",
     "evalue": "tuple indices must be integers or slices, not float",
     "output_type": "error",
     "traceback": [
      "\u001b[1;31m---------------------------------------------------------------------------\u001b[0m",
      "\u001b[1;31mTypeError\u001b[0m                                 Traceback (most recent call last)",
      "Cell \u001b[1;32mIn[20], line 1\u001b[0m\n\u001b[1;32m----> 1\u001b[0m \u001b[43mtup\u001b[49m\u001b[43m[\u001b[49m\u001b[38;5;241;43m1.0\u001b[39;49m\u001b[43m]\u001b[49m\n",
      "\u001b[1;31mTypeError\u001b[0m: tuple indices must be integers or slices, not float"
     ]
    }
   ],
   "source": [
    "tup[1.0]"
   ]
  },
  {
   "cell_type": "code",
   "execution_count": 21,
   "id": "aa2db4c3-626d-4e2f-a90a-ba42149585d7",
   "metadata": {},
   "outputs": [
    {
     "name": "stdout",
     "output_type": "stream",
     "text": [
      "l\n"
     ]
    }
   ],
   "source": [
    "# creating a nested tuple\n",
    "nested_tup = (\"Tuple\",[4,6,2,6],[6,2,6,7])\n",
    "# Accessing the index of a nested tuple\n",
    "print(nested_tup[0][3])"
   ]
  },
  {
   "cell_type": "code",
   "execution_count": 22,
   "id": "162e0d10-e8b2-4cef-98b6-a03f76fb83e6",
   "metadata": {},
   "outputs": [
    {
     "name": "stdout",
     "output_type": "stream",
     "text": [
      "6\n"
     ]
    }
   ],
   "source": [
    "print(nested_tup[1][1])"
   ]
  },
  {
   "cell_type": "markdown",
   "id": "e7478657-4994-47a9-a0e2-9728be9677fb",
   "metadata": {},
   "source": [
    "### 2.Negative Indexing\n",
    "\n",
    "    Python's sequence objects support negative indexing\n",
    "\n",
    "    The last thing of the assortment is addressed by - 1, the second last thing by - 2, etc."
   ]
  },
  {
   "cell_type": "code",
   "execution_count": 23,
   "id": "4ddb29d1-d674-4a3f-8b6d-8b01e15946d1",
   "metadata": {},
   "outputs": [
    {
     "data": {
      "text/plain": [
       "('Python', 'Tuple', 'Ordered', 'Collection')"
      ]
     },
     "execution_count": 23,
     "metadata": {},
     "output_type": "execute_result"
    }
   ],
   "source": [
    "tup"
   ]
  },
  {
   "cell_type": "code",
   "execution_count": 24,
   "id": "e0820d02-e786-4c44-8ade-9e0426415627",
   "metadata": {},
   "outputs": [
    {
     "data": {
      "text/plain": [
       "'Collection'"
      ]
     },
     "execution_count": 24,
     "metadata": {},
     "output_type": "execute_result"
    }
   ],
   "source": [
    "tup[-1]"
   ]
  },
  {
   "cell_type": "code",
   "execution_count": 25,
   "id": "5252415a-f1c9-4317-8d5a-664156a7b1ac",
   "metadata": {},
   "outputs": [
    {
     "data": {
      "text/plain": [
       "'Ordered'"
      ]
     },
     "execution_count": 25,
     "metadata": {},
     "output_type": "execute_result"
    }
   ],
   "source": [
    "tup[-2]"
   ]
  },
  {
   "cell_type": "markdown",
   "id": "c483f1ff-fc48-4b85-94a8-f0d097d255ce",
   "metadata": {},
   "source": [
    "### 3.Slicing\n",
    "\n",
    "    To gain access to various tuple elements, we can use the slicing operator colon (:)."
   ]
  },
  {
   "cell_type": "code",
   "execution_count": 26,
   "id": "d3bddeb2-9d38-4a90-95b0-df69a67970b9",
   "metadata": {},
   "outputs": [
    {
     "data": {
      "text/plain": [
       "('Python', 'Tuple', 'Ordered', 'Collection')"
      ]
     },
     "execution_count": 26,
     "metadata": {},
     "output_type": "execute_result"
    }
   ],
   "source": [
    "tup"
   ]
  },
  {
   "cell_type": "code",
   "execution_count": 27,
   "id": "50c590fd-20a1-4fc5-93af-2e70c9d68661",
   "metadata": {},
   "outputs": [
    {
     "data": {
      "text/plain": [
       "('Python', 'Tuple', 'Ordered')"
      ]
     },
     "execution_count": 27,
     "metadata": {},
     "output_type": "execute_result"
    }
   ],
   "source": [
    "tup[-4:-1]"
   ]
  },
  {
   "cell_type": "code",
   "execution_count": 28,
   "id": "0412808c-f0f1-481b-9af9-7b75875ec973",
   "metadata": {},
   "outputs": [
    {
     "data": {
      "text/plain": [
       "('Tuple', 'Ordered', 'Collection')"
      ]
     },
     "execution_count": 28,
     "metadata": {},
     "output_type": "execute_result"
    }
   ],
   "source": [
    "tup[1:4]"
   ]
  },
  {
   "cell_type": "code",
   "execution_count": 29,
   "id": "902336b4-e01e-4ab3-a4c0-3b1240d303c5",
   "metadata": {},
   "outputs": [
    {
     "data": {
      "text/plain": [
       "()"
      ]
     },
     "execution_count": 29,
     "metadata": {},
     "output_type": "execute_result"
    }
   ],
   "source": [
    "tup[0:-4]"
   ]
  },
  {
   "cell_type": "code",
   "execution_count": 30,
   "id": "cc2945af-4419-4c26-89f4-30f053552e04",
   "metadata": {},
   "outputs": [
    {
     "data": {
      "text/plain": [
       "('Python', 'Tuple', 'Ordered', 'Collection')"
      ]
     },
     "execution_count": 30,
     "metadata": {},
     "output_type": "execute_result"
    }
   ],
   "source": [
    "tup[:] # default"
   ]
  },
  {
   "cell_type": "markdown",
   "id": "bde6acc2-ed99-44e0-b275-5ecb48f64d55",
   "metadata": {},
   "source": [
    "### Deleting a Tuple\n",
    "\n",
    "    A tuple's parts can't be modified.. \n",
    "    \n",
    "    We are unable to eliminate or remove tuple components as a result.\n",
    "\n",
    "    However, the keyword del can completely delete a tuple.e."
   ]
  },
  {
   "cell_type": "code",
   "execution_count": 31,
   "id": "1bf18f7d-8cee-462b-a009-476ea82dc8c2",
   "metadata": {},
   "outputs": [
    {
     "data": {
      "text/plain": [
       "('Python', 'Tuple', 'Ordered', 'Collection')"
      ]
     },
     "execution_count": 31,
     "metadata": {},
     "output_type": "execute_result"
    }
   ],
   "source": [
    "tup"
   ]
  },
  {
   "cell_type": "code",
   "execution_count": 32,
   "id": "e1f36644-1bcf-4016-b744-e4b32e3d3cfd",
   "metadata": {},
   "outputs": [
    {
     "ename": "TypeError",
     "evalue": "'tuple' object doesn't support item deletion",
     "output_type": "error",
     "traceback": [
      "\u001b[1;31m---------------------------------------------------------------------------\u001b[0m",
      "\u001b[1;31mTypeError\u001b[0m                                 Traceback (most recent call last)",
      "Cell \u001b[1;32mIn[32], line 1\u001b[0m\n\u001b[1;32m----> 1\u001b[0m \u001b[38;5;28;01mdel\u001b[39;00m \u001b[43mtup\u001b[49m\u001b[43m[\u001b[49m\u001b[38;5;241;43m3\u001b[39;49m\u001b[43m]\u001b[49m\n",
      "\u001b[1;31mTypeError\u001b[0m: 'tuple' object doesn't support item deletion"
     ]
    }
   ],
   "source": [
    "del tup[3]"
   ]
  },
  {
   "cell_type": "code",
   "execution_count": 33,
   "id": "f318d234-a5f5-4891-a3c8-12efda045879",
   "metadata": {},
   "outputs": [],
   "source": [
    "del tup"
   ]
  },
  {
   "cell_type": "code",
   "execution_count": 34,
   "id": "4dc9609d-ff45-4a2a-9ea9-9e0a6c60d6ad",
   "metadata": {},
   "outputs": [
    {
     "ename": "NameError",
     "evalue": "name 'tup' is not defined",
     "output_type": "error",
     "traceback": [
      "\u001b[1;31m---------------------------------------------------------------------------\u001b[0m",
      "\u001b[1;31mNameError\u001b[0m                                 Traceback (most recent call last)",
      "Cell \u001b[1;32mIn[34], line 1\u001b[0m\n\u001b[1;32m----> 1\u001b[0m \u001b[43mtup\u001b[49m\n",
      "\u001b[1;31mNameError\u001b[0m: name 'tup' is not defined"
     ]
    }
   ],
   "source": [
    "tup"
   ]
  },
  {
   "cell_type": "markdown",
   "id": "676862f9-03ce-4a67-9dde-c7ea58de0e9a",
   "metadata": {},
   "source": [
    "### Repetition Tuples in Python"
   ]
  },
  {
   "cell_type": "code",
   "execution_count": 35,
   "id": "68b261d2-4b17-41d9-ae6c-511cae8ecf10",
   "metadata": {},
   "outputs": [],
   "source": [
    "tup = \"Python\",\"Tuples\""
   ]
  },
  {
   "cell_type": "code",
   "execution_count": 36,
   "id": "1818e9a6-4c4e-4f5c-97c0-5ca31f8a725d",
   "metadata": {},
   "outputs": [
    {
     "data": {
      "text/plain": [
       "('Python', 'Tuples', 'Python', 'Tuples', 'Python', 'Tuples')"
      ]
     },
     "execution_count": 36,
     "metadata": {},
     "output_type": "execute_result"
    }
   ],
   "source": [
    "tup * 3"
   ]
  },
  {
   "cell_type": "markdown",
   "id": "b5fb078d-390d-4e04-98b9-81fce8cadc6e",
   "metadata": {},
   "source": [
    "### Tuple Methods\n",
    "\n",
    "    1. Count() Method\n",
    "    2. Index() Method"
   ]
  },
  {
   "cell_type": "code",
   "execution_count": 37,
   "id": "e5dc3f39-030a-4471-8477-2e8366a105cf",
   "metadata": {},
   "outputs": [],
   "source": [
    "# 1. count() method\n",
    "T1 = (0, 1, 5, 6, 7, 2, 2, 4, 2, 3, 2, 3, 1, 3, 2)  \n",
    "T2 = ('python', 'java', 'python', 'Tpoint', 'python', 'java')  "
   ]
  },
  {
   "cell_type": "code",
   "execution_count": 38,
   "id": "f84b2a09-8ab3-49df-97a9-1de2e3a2395e",
   "metadata": {},
   "outputs": [],
   "source": [
    "res = T1.count(2)"
   ]
  },
  {
   "cell_type": "code",
   "execution_count": 39,
   "id": "78192102-2673-4753-95a7-b9b9454c9808",
   "metadata": {},
   "outputs": [
    {
     "data": {
      "text/plain": [
       "5"
      ]
     },
     "execution_count": 39,
     "metadata": {},
     "output_type": "execute_result"
    }
   ],
   "source": [
    "res"
   ]
  },
  {
   "cell_type": "code",
   "execution_count": 40,
   "id": "b783a9fa-6f29-4468-b003-f0cbe37cf9cb",
   "metadata": {},
   "outputs": [],
   "source": [
    "res = T2.count(\"python\")"
   ]
  },
  {
   "cell_type": "code",
   "execution_count": 41,
   "id": "e8fca195-3eff-412b-9e4a-428ca0856c22",
   "metadata": {},
   "outputs": [
    {
     "data": {
      "text/plain": [
       "3"
      ]
     },
     "execution_count": 41,
     "metadata": {},
     "output_type": "execute_result"
    }
   ],
   "source": [
    "res"
   ]
  },
  {
   "cell_type": "markdown",
   "id": "5f97a7fc-0ba8-4ffd-a704-6415f2f654c5",
   "metadata": {},
   "source": [
    "#### index method\n",
    "**The Index() function returns the first instance of the requested element from the Tuple.**\n",
    "\n",
    "1. Start: (Optional) the index that is used to begin\n",
    "   \n",
    "2. final (optional) search: The most recent index from which the search is carried out"
   ]
  },
  {
   "cell_type": "code",
   "execution_count": 42,
   "id": "8da48f15-1845-407c-b93a-4efcbb73ff46",
   "metadata": {},
   "outputs": [],
   "source": [
    "Tuple_data = (0, 1, 2, 3, 2, 3, 1, 3, 2) "
   ]
  },
  {
   "cell_type": "code",
   "execution_count": 43,
   "id": "7bfd5cf8-fd2a-4395-bd36-9d19e88da641",
   "metadata": {},
   "outputs": [],
   "source": [
    "# getting the index of 3\n",
    "res = Tuple_data.index(3)"
   ]
  },
  {
   "cell_type": "code",
   "execution_count": 44,
   "id": "7fcfe140-d302-4eec-8834-2b6130461b1f",
   "metadata": {},
   "outputs": [
    {
     "data": {
      "text/plain": [
       "3"
      ]
     },
     "execution_count": 44,
     "metadata": {},
     "output_type": "execute_result"
    }
   ],
   "source": [
    "res"
   ]
  },
  {
   "cell_type": "code",
   "execution_count": 45,
   "id": "63a1e8bf-2537-468f-a19a-90bce207e08d",
   "metadata": {},
   "outputs": [],
   "source": [
    "res = Tuple_data.index(3,4)"
   ]
  },
  {
   "cell_type": "code",
   "execution_count": 46,
   "id": "710c5c01-b994-4cbb-b284-fca10b1583b5",
   "metadata": {},
   "outputs": [
    {
     "data": {
      "text/plain": [
       "5"
      ]
     },
     "execution_count": 46,
     "metadata": {},
     "output_type": "execute_result"
    }
   ],
   "source": [
    "res"
   ]
  },
  {
   "cell_type": "code",
   "execution_count": 47,
   "id": "2f28a903-27e5-4f61-840d-6b4781425e20",
   "metadata": {},
   "outputs": [
    {
     "data": {
      "text/plain": [
       "tuple"
      ]
     },
     "execution_count": 47,
     "metadata": {},
     "output_type": "execute_result"
    }
   ],
   "source": [
    "tuple"
   ]
  },
  {
   "cell_type": "code",
   "execution_count": 48,
   "id": "08337993-32a8-4fec-bea9-b92f66dfff00",
   "metadata": {},
   "outputs": [
    {
     "data": {
      "text/plain": [
       "('Python', 'Tuples')"
      ]
     },
     "execution_count": 48,
     "metadata": {},
     "output_type": "execute_result"
    }
   ],
   "source": [
    "tup"
   ]
  },
  {
   "cell_type": "code",
   "execution_count": 49,
   "id": "b6af9ad3-af3a-4662-83fe-13b23eb11187",
   "metadata": {},
   "outputs": [
    {
     "name": "stdout",
     "output_type": "stream",
     "text": [
      "False\n"
     ]
    }
   ],
   "source": [
    "print(\"Pyhton\" in tup)"
   ]
  },
  {
   "cell_type": "code",
   "execution_count": 50,
   "id": "7f77c143-db0e-4b5a-a0dc-fed6428b5dcc",
   "metadata": {},
   "outputs": [
    {
     "name": "stdout",
     "output_type": "stream",
     "text": [
      "True\n"
     ]
    }
   ],
   "source": [
    "print(\"Python\" in tup)"
   ]
  },
  {
   "cell_type": "code",
   "execution_count": 51,
   "id": "1ad2726e-cd7e-4a5b-9aed-584721c76344",
   "metadata": {},
   "outputs": [
    {
     "name": "stdout",
     "output_type": "stream",
     "text": [
      "False\n"
     ]
    }
   ],
   "source": [
    "print(\"Tuples\" not in tup)"
   ]
  },
  {
   "cell_type": "code",
   "execution_count": 52,
   "id": "f2de69e0-5077-42ed-9d96-ca2ddd4e0fe5",
   "metadata": {},
   "outputs": [],
   "source": [
    "# iterating Through a tuple\n",
    "\n",
    "tup = (\"Python\",\"Tuple\",\"Ordered\",\"Immutable\")\n"
   ]
  },
  {
   "cell_type": "code",
   "execution_count": 53,
   "id": "40a2812d-9519-4b33-822b-e64901109786",
   "metadata": {},
   "outputs": [
    {
     "data": {
      "text/plain": [
       "('Python', 'Tuple', 'Ordered', 'Immutable')"
      ]
     },
     "execution_count": 53,
     "metadata": {},
     "output_type": "execute_result"
    }
   ],
   "source": [
    "tup"
   ]
  },
  {
   "cell_type": "code",
   "execution_count": 54,
   "id": "7b04a65d-df7c-4e26-9d09-7eaeb99d5e12",
   "metadata": {},
   "outputs": [
    {
     "name": "stdout",
     "output_type": "stream",
     "text": [
      "Element :  Python\n",
      "Element :  Tuple\n",
      "Element :  Ordered\n",
      "Element :  Immutable\n"
     ]
    }
   ],
   "source": [
    "for item in tup:\n",
    "    print(\"Element : \",item)"
   ]
  },
  {
   "cell_type": "code",
   "execution_count": 55,
   "id": "36c664cd-5c17-4ca8-bea9-8349af31ba7d",
   "metadata": {},
   "outputs": [
    {
     "name": "stdout",
     "output_type": "stream",
     "text": [
      "('Python', 'Tuple', 'Ordered', 'Immutable', 4, 5, 6)\n"
     ]
    }
   ],
   "source": [
    "# concatenate tuples\n",
    "print(tup + (4,5,6))"
   ]
  },
  {
   "cell_type": "code",
   "execution_count": null,
   "id": "43538322-dafb-4939-bf5b-d584b55b80c4",
   "metadata": {},
   "outputs": [],
   "source": []
  },
  {
   "cell_type": "code",
   "execution_count": null,
   "id": "aafbcf67-891c-4619-b473-6f4b1ed6b241",
   "metadata": {},
   "outputs": [],
   "source": []
  }
 ],
 "metadata": {
  "kernelspec": {
   "display_name": "Python 3 (ipykernel)",
   "language": "python",
   "name": "python3"
  },
  "language_info": {
   "codemirror_mode": {
    "name": "ipython",
    "version": 3
   },
   "file_extension": ".py",
   "mimetype": "text/x-python",
   "name": "python",
   "nbconvert_exporter": "python",
   "pygments_lexer": "ipython3",
   "version": "3.12.0"
  }
 },
 "nbformat": 4,
 "nbformat_minor": 5
}
