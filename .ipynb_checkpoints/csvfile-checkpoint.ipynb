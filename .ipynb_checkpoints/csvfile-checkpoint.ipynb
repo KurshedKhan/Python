{
 "cells": [
  {
   "cell_type": "code",
   "execution_count": 13,
   "id": "b4c2be4e-c4b2-4782-b7c5-acff4a4da6cd",
   "metadata": {},
   "outputs": [],
   "source": [
    "import csv\n",
    "\n",
    "data = [{\"name\" : \"kurshed\",\"age\" : 21},\n",
    "        {\"name\" : \"ummed\",\"age\" : 22},\n",
    "        {\"name\" : \"imran\",\"age\" : 23}]\n",
    "\n",
    "with open(\"python.csv\",\"w\") as csvfile:\n",
    "    write = csv.DictWriter(csvfile , fieldnames = [\"name\",\"age\"])\n",
    "    write.writeheader()\n",
    "    write.writerows(data)\n"
   ]
  },
  {
   "cell_type": "code",
   "execution_count": 12,
   "id": "f36cb74f-0ff6-4ae2-ac26-51096de1e746",
   "metadata": {},
   "outputs": [],
   "source": [
    "import csv\n",
    "with open(\"excelsheet.csv\",\"w\") as csvfile:\n",
    "    header = [\"name\",\"age\",\"height\",\"bloodgroup\"]\n",
    "    write = csv.DictWriter(csvfile, fieldnames = header)\n",
    "    write.writeheader()\n",
    "    write.writerow({\"age\": 21,\"name\":\"kurshed\",\"height\":\"5.6\",\"bloodgroup\":\"AB+\"})\n"
   ]
  },
  {
   "cell_type": "code",
   "execution_count": 2,
   "id": "c46bf3d1-ac66-4e80-aca4-e3a972dd7944",
   "metadata": {},
   "outputs": [
    {
     "name": "stdout",
     "output_type": "stream",
     "text": [
      "['name', 'age']\n",
      "[]\n",
      "['kurshed', '21']\n",
      "[]\n",
      "['ummed', '22']\n",
      "[]\n",
      "['imran', '23']\n",
      "[]\n"
     ]
    }
   ],
   "source": [
    "import csv\n",
    "with open(\"python.csv\",newline='') as csvfile:\n",
    "    csvRead = csv.reader(csvfile,delimiter = \",\")\n",
    "\n",
    "    for row in csvRead:\n",
    "        print(row)"
   ]
  },
  {
   "cell_type": "code",
   "execution_count": 4,
   "id": "c0e43984-3e48-483a-a35e-eeb956c0008c",
   "metadata": {},
   "outputs": [
    {
     "name": "stdout",
     "output_type": "stream",
     "text": [
      "The column names are as follows :name,age\n",
      "\tkurshed age is 21\n",
      "\tummed age is 22\n",
      "\timran age is 23\n",
      "Processed 4lines.\n"
     ]
    }
   ],
   "source": [
    "import csv\n",
    "\n",
    "with open(\"python.csv\",mode=\"r\") as csvfile:\n",
    "    csvReader = csv.DictReader(csvfile)\n",
    "\n",
    "    lineCount = 0\n",
    "\n",
    "    for row in csvReader:\n",
    "        if lineCount == 0:\n",
    "            print(f'The column names are as follows :{\",\".join(row)}')\n",
    "            lineCount += 1\n",
    "\n",
    "        print(f'\\t{row[\"name\"]} age is {row[\"age\"]}')\n",
    "        lineCount += 1\n",
    "\n",
    "    print(f'Processed {lineCount}lines.')"
   ]
  },
  {
   "cell_type": "code",
   "execution_count": 1,
   "id": "02d3ef6a-d512-48b0-90c0-7ecea1511e56",
   "metadata": {},
   "outputs": [],
   "source": [
    "import csv\n",
    "\n",
    "content = [ {\"Name\" :\"pooja\",\"Age\" :21,\"Height\":5.4,\"Bloodgroup\":\"AB+\"},\n",
    "           {\"Name\" :\"sahil\",\"Age\" :19,\"Height\":5.6,\"Bloodgroup\":\"B+\"},\n",
    "           {\"Name\" :\"payal\",\"Age\" :11,\"Height\":4.5,\"Bloodgroup\":\"A+\"},\n",
    "           {\"Name\" :\"sushma\",\"Age\" :22,\"Height\":5.6,\"Bloodgroup\":\"O+\"} ]\n",
    "\n",
    "with open(\"Student Data.csv\",\"w\") as csvfile:\n",
    "    write = csv.DictWriter(csvfile,fieldnames = [\"Name\",\"Age\",\"Height\",\"Bloodgroup\"])\n",
    "    write.writeheader()\n",
    "    write.writerows(content)\n"
   ]
  },
  {
   "cell_type": "code",
   "execution_count": 2,
   "id": "c10751f6-230e-4514-9bf0-79befc2c8a9f",
   "metadata": {},
   "outputs": [],
   "source": [
    "import csv\n",
    "with open(\"Marksheet.csv\",\"w\") as csvfile:\n",
    "    header = [\"Name\",\"RollNumber\",\"Class\",\"Subject\"]\n",
    "    write = csv.DictWriter(csvfile, fieldnames = [\"Name\",\"RollNumber\",\"Class\",\"Subject\"])\n",
    "    write.writeheader()\n",
    "    write.writerow({\"Name\":\"payal\",\"RollNumber\":1233,\"Class\" :\"12th\",\"Subject\":\"javascript\"})\n",
    "    write.writerow({\"Name\":\"pooja\",\"RollNumber\":1243,\"Class\" :\"12th\",\"Subject\":\"Python\"})"
   ]
  },
  {
   "cell_type": "code",
   "execution_count": 3,
   "id": "2c20f2a4-9c76-4822-b2ac-c11e52dda564",
   "metadata": {},
   "outputs": [
    {
     "name": "stdout",
     "output_type": "stream",
     "text": [
      "['Name', 'RollNumber', 'Class', 'Subject']\n",
      "[]\n",
      "['payal', '1233', '12th', 'javascript']\n",
      "[]\n",
      "['pooja', '1243', '12th', 'Python']\n",
      "[]\n"
     ]
    }
   ],
   "source": [
    "import csv\n",
    "\n",
    "with open(\"Marksheet.csv\",newline='') as csvfile:\n",
    "    content = csv.reader(csvfile , delimiter=\",\")\n",
    "\n",
    "    for item in content:\n",
    "        print(item)"
   ]
  },
  {
   "cell_type": "code",
   "execution_count": 4,
   "id": "88740841-a972-4550-9667-22f5c6b2a8b7",
   "metadata": {},
   "outputs": [
    {
     "name": "stdout",
     "output_type": "stream",
     "text": [
      "This is my heading part :Name,Age,Height,Bloodgroup\n",
      "my name is  pooja ,my age  21, my height  5.4, and my Bloodgroup  AB+\n",
      "my name is  sahil ,my age  19, my height  5.6, and my Bloodgroup  B+\n",
      "my name is  payal ,my age  11, my height  4.5, and my Bloodgroup  A+\n",
      "my name is  sushma ,my age  22, my height  5.6, and my Bloodgroup  O+\n",
      "Total rows : 4\n"
     ]
    }
   ],
   "source": [
    "import csv\n",
    "\n",
    "with open(\"Student Data.csv\",mode=\"r\") as csvfile:\n",
    "    content = csv.DictReader(csvfile)\n",
    "\n",
    "    lineCount = 0\n",
    "    for item in content:\n",
    "        if lineCount == 0:\n",
    "            print(f'This is my heading part :{\",\".join(item)}')\n",
    "            lineCount += 1\n",
    "\n",
    "        print(f'my name is  {item[\"Name\"]} ,my age  {item[\"Age\"]}, my height  {item[\"Height\"]}, and my Bloodgroup  {item[\"Bloodgroup\"]}')\n",
    "        lineCount += 1\n",
    "\n",
    "    print(f'Total rows : {lineCount-1}')"
   ]
  },
  {
   "cell_type": "code",
   "execution_count": null,
   "id": "44805212-8053-46a9-a80c-7d5422e78c0f",
   "metadata": {},
   "outputs": [],
   "source": []
  }
 ],
 "metadata": {
  "kernelspec": {
   "display_name": "Python 3 (ipykernel)",
   "language": "python",
   "name": "python3"
  },
  "language_info": {
   "codemirror_mode": {
    "name": "ipython",
    "version": 3
   },
   "file_extension": ".py",
   "mimetype": "text/x-python",
   "name": "python",
   "nbconvert_exporter": "python",
   "pygments_lexer": "ipython3",
   "version": "3.12.0"
  }
 },
 "nbformat": 4,
 "nbformat_minor": 5
}
