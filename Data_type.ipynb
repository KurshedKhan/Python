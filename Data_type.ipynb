{
 "cells": [
  {
   "cell_type": "markdown",
   "id": "ea3718a7-e830-44e4-9ff9-4b3a6ef54536",
   "metadata": {},
   "source": [
    "# Python Data-type\n",
    "***Every value has a datatype, and variables can hold values. Python is a powerfully composed language.so we don't have to characterize the sort of variable while announcing it.***"
   ]
  },
  {
   "cell_type": "markdown",
   "id": "1fae09be-ea8a-453b-8520-fe193e6debce",
   "metadata": {},
   "source": [
    "## Standard data types"
   ]
  },
  {
   "cell_type": "markdown",
   "id": "74eb5e49-4350-4742-a545-6bcac9cf9775",
   "metadata": {},
   "source": [
    "***A variable can contain a variety of values. On the other hand, a person's id must be stored as an integer, while their name must be stored as a string.***"
   ]
  },
  {
   "cell_type": "markdown",
   "id": "600856af-1e7c-4f2d-afbb-09c2aff7b698",
   "metadata": {},
   "source": [
    "### The following is a list of the Python-defined data types.\n",
    "1. \r\n",
    "Numbe  \n",
    "2. s\r\n",
    "Sequence T   \n",
    "3. pe\r\n",
    "Boo   \n",
    "4. ean   \n",
    "5. \n",
    "Set\r\n",
    "Dictionary\r\n"
   ]
  },
  {
   "cell_type": "code",
   "execution_count": null,
   "id": "d998ab9a-f49e-41ef-bed1-f980081f6fe9",
   "metadata": {},
   "outputs": [],
   "source": []
  },
  {
   "cell_type": "code",
   "execution_count": null,
   "id": "8974dfad-d371-47b3-94da-54a35a1e72e9",
   "metadata": {},
   "outputs": [],
   "source": []
  }
 ],
 "metadata": {
  "kernelspec": {
   "display_name": "Python 3 (ipykernel)",
   "language": "python",
   "name": "python3"
  },
  "language_info": {
   "codemirror_mode": {
    "name": "ipython",
    "version": 3
   },
   "file_extension": ".py",
   "mimetype": "text/x-python",
   "name": "python",
   "nbconvert_exporter": "python",
   "pygments_lexer": "ipython3",
   "version": "3.12.0"
  }
 },
 "nbformat": 4,
 "nbformat_minor": 5
}
