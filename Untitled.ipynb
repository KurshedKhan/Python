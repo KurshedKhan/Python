{
 "cells": [
  {
   "cell_type": "code",
   "execution_count": 1,
   "id": "b0ea6217-a61f-407f-8357-6a9502242d8c",
   "metadata": {},
   "outputs": [
    {
     "name": "stdout",
     "output_type": "stream",
     "text": [
      "A\n",
      "m\n",
      "a\n",
      "n\n"
     ]
    }
   ],
   "source": [
    "for var in \"Aman\":\n",
    "    print(var)"
   ]
  },
  {
   "cell_type": "code",
   "execution_count": 2,
   "id": "82538aa7-9be0-4a69-b0a4-b3538d1c653c",
   "metadata": {},
   "outputs": [
    {
     "name": "stdout",
     "output_type": "stream",
     "text": [
      "H\n",
      "o\n",
      "w\n",
      " \n",
      "a\n",
      "r\n",
      "e\n",
      " \n",
      "y\n",
      "o\n",
      "u\n",
      " \n",
      "?\n",
      ".\n"
     ]
    }
   ],
   "source": [
    "for char in \"How are you ?.\" :\n",
    "    print(char)"
   ]
  },
  {
   "cell_type": "code",
   "execution_count": 11,
   "id": "cb303b3d-d686-4cd6-aef1-0ea19371bd42",
   "metadata": {},
   "outputs": [
    {
     "name": "stdin",
     "output_type": "stream",
     "text": [
      "Enter a number for checking the factor  1000000\n"
     ]
    },
    {
     "name": "stdout",
     "output_type": "stream",
     "text": [
      "This is factor  1\n",
      "This is factor  2\n",
      "This is factor  4\n",
      "This is factor  5\n",
      "This is factor  8\n",
      "This is factor  10\n",
      "This is factor  16\n",
      "This is factor  20\n",
      "This is factor  25\n",
      "This is factor  32\n",
      "This is factor  40\n",
      "This is factor  50\n",
      "This is factor  64\n",
      "This is factor  80\n",
      "This is factor  100\n",
      "This is factor  125\n",
      "This is factor  160\n",
      "This is factor  200\n",
      "This is factor  250\n",
      "This is factor  320\n",
      "This is factor  400\n",
      "This is factor  500\n",
      "This is factor  625\n",
      "This is factor  800\n",
      "This is factor  1000\n",
      "This is factor  1250\n",
      "This is factor  1600\n",
      "This is factor  2000\n",
      "This is factor  2500\n",
      "This is factor  3125\n",
      "This is factor  4000\n",
      "This is factor  5000\n",
      "This is factor  6250\n",
      "This is factor  8000\n",
      "This is factor  10000\n",
      "This is factor  12500\n",
      "This is factor  15625\n",
      "This is factor  20000\n",
      "This is factor  25000\n",
      "This is factor  31250\n",
      "This is factor  40000\n",
      "This is factor  50000\n",
      "This is factor  62500\n",
      "This is factor  100000\n",
      "This is factor  125000\n",
      "This is factor  200000\n",
      "This is factor  250000\n",
      "This is factor  500000\n",
      "This is factor  1000000\n"
     ]
    }
   ],
   "source": [
    "number = int(input(\"Enter a number for checking the factor \"))\n",
    "print(\"This is factor \",1)\n",
    "factor = 2\n",
    "while factor <= number/2:\n",
    "    if number % factor == 0:\n",
    "        print(\"This is factor \",factor)\n",
    "    factor+=1\n",
    "print(\"This is factor \",number)"
   ]
  },
  {
   "cell_type": "code",
   "execution_count": 3,
   "id": "bd8a2603-fa05-4a2d-b151-bfbcf2fd14cb",
   "metadata": {},
   "outputs": [
    {
     "name": "stdin",
     "output_type": "stream",
     "text": [
      "Enter a number :  10\n"
     ]
    },
    {
     "name": "stdout",
     "output_type": "stream",
     "text": [
      "1\n",
      "2\n",
      "5\n",
      "10\n"
     ]
    }
   ],
   "source": [
    "number = int(input(\"Enter a number : \"))\n",
    "print(1)\n",
    "# factor starting part\n",
    "start = 2\n",
    "while start <= number/2:\n",
    "    if number % start == 0:\n",
    "        print(start)\n",
    "    start += 1"
   ]
  },
  {
   "cell_type": "code",
   "execution_count": 7,
   "id": "0e28960b-238e-4251-9a1e-19a403176fe5",
   "metadata": {},
   "outputs": [
    {
     "name": "stdin",
     "output_type": "stream",
     "text": [
      "enter your number: 400\n"
     ]
    },
    {
     "name": "stdout",
     "output_type": "stream",
     "text": [
      "1 400\n",
      "2\n",
      "4\n",
      "5\n",
      "8\n",
      "10\n",
      "16\n",
      "20\n",
      "25\n",
      "40\n",
      "50\n",
      "80\n",
      "100\n",
      "200\n"
     ]
    }
   ],
   "source": [
    "number = int(input(\"enter your number:\"))\n",
    "print(1,number)\n",
    "start=2\n",
    "while start<=number/2:\n",
    "    if number%start==0:\n",
    "        print(start)\n",
    "    start+=1   \n",
    "\n"
   ]
  },
  {
   "cell_type": "code",
   "execution_count": 10,
   "id": "8dde2978-9cab-474b-9dd5-7288e85a27f6",
   "metadata": {},
   "outputs": [
    {
     "name": "stdout",
     "output_type": "stream",
     "text": [
      "0\n",
      "1\n",
      "2\n",
      "3\n",
      "4\n"
     ]
    }
   ],
   "source": [
    "num=0\n",
    "while num < 5:\n",
    "    print(num)\n",
    "    num+=1"
   ]
  },
  {
   "cell_type": "code",
   "execution_count": 16,
   "id": "653a480b-110d-4ca6-b338-917d8b496bf8",
   "metadata": {},
   "outputs": [
    {
     "name": "stdout",
     "output_type": "stream",
     "text": [
      "1\n",
      "2\n",
      "3\n",
      "4\n",
      "5\n",
      "6\n",
      "7\n",
      "8\n",
      "9\n"
     ]
    }
   ],
   "source": [
    "num = 0\n",
    "for num in range(20):\n",
    "    num = num+1\n",
    "    if num==10:\n",
    "        break\n",
    "    print(num)"
   ]
  },
  {
   "cell_type": "code",
   "execution_count": 19,
   "id": "07cde96a-0a14-4f73-bd1d-0ac100283a6f",
   "metadata": {},
   "outputs": [
    {
     "name": "stdout",
     "output_type": "stream",
     "text": [
      "1\n",
      "2\n",
      "3\n",
      "4\n"
     ]
    }
   ],
   "source": [
    "number=0\n",
    "for num in range(10):\n",
    "    number = number+1\n",
    "    if number==5:\n",
    "        break\n",
    "    print(number)"
   ]
  },
  {
   "cell_type": "code",
   "execution_count": 21,
   "id": "10e342eb-a572-4909-bc08-0637272438d5",
   "metadata": {},
   "outputs": [
    {
     "name": "stdout",
     "output_type": "stream",
     "text": [
      "positive mumber,negetive number ends loop\n"
     ]
    },
    {
     "name": "stdin",
     "output_type": "stream",
     "text": [
      "enter your number 1\n",
      "enter your number 2\n",
      "enter your number 3\n",
      "enter your number 4\n",
      "enter your number 5\n",
      "enter your number 6\n",
      "enter your number 7\n",
      "enter your number 8\n",
      "enter your number 9\n",
      "enter your number 1\n",
      "enter your number 10\n",
      "enter your number -6\n"
     ]
    }
   ],
   "source": [
    "num=0\n",
    "print(\"positive mumber,negetive number ends loop\")\n",
    "while True:\n",
    "    entry=int(input(\"enter your number\"))\n",
    "    if entry < 0:\n",
    "        break\n",
    "    num+= entry\n",
    "    \n",
    "    "
   ]
  },
  {
   "cell_type": "code",
   "execution_count": 2,
   "id": "f7df45f4-8e00-41d6-a771-079cfad18714",
   "metadata": {},
   "outputs": [
    {
     "name": "stdin",
     "output_type": "stream",
     "text": [
      "Enter a number : 9\n"
     ]
    },
    {
     "name": "stdout",
     "output_type": "stream",
     "text": [
      "1\n",
      "This is not a prime number :\n"
     ]
    }
   ],
   "source": [
    "number = int(input(\"Enter a number :\"));\n",
    "print(1)\n",
    "isTrue = True\n",
    "for num in range(2,number):\n",
    "    if number % num == 0 :\n",
    "        isTrue = False\n",
    "        break\n",
    "\n",
    "if isTrue == True :\n",
    "    print(\"This is prime number :\")\n",
    "else:\n",
    "    print(\"This is not a prime number :\")"
   ]
  },
  {
   "cell_type": "code",
   "execution_count": 3,
   "id": "bd06842b-f0bb-4ab9-a46c-372ae8d7df93",
   "metadata": {},
   "outputs": [
    {
     "name": "stdin",
     "output_type": "stream",
     "text": [
      "Enter a number : 9\n"
     ]
    },
    {
     "name": "stdout",
     "output_type": "stream",
     "text": [
      "This is not a prime number:\n"
     ]
    }
   ],
   "source": [
    "number = int(input(\"Enter a number :\"));\n",
    "isTrue = True\n",
    "num = 2\n",
    "while num < number:\n",
    "    if number % num == 0 :\n",
    "        isTrue = False\n",
    "        break\n",
    "    num +=1\n",
    "if isTrue == True :\n",
    "    print(\"This is prime number :\")\n",
    "else:\n",
    "    print(\"This is not a prime number:\")"
   ]
  },
  {
   "cell_type": "code",
   "execution_count": null,
   "id": "dd2a613c-0777-4e9c-ad1b-13b5b5ee8797",
   "metadata": {},
   "outputs": [],
   "source": []
  },
  {
   "cell_type": "code",
   "execution_count": null,
   "id": "06797da4-1119-4a00-bfcb-9b33ce19c41b",
   "metadata": {},
   "outputs": [],
   "source": []
  },
  {
   "cell_type": "code",
   "execution_count": null,
   "id": "0f34c5c5-1ddd-4897-a1ed-47274180f2f8",
   "metadata": {},
   "outputs": [],
   "source": []
  },
  {
   "cell_type": "code",
   "execution_count": 6,
   "id": "f7311dff-cfdc-4644-a768-aec318bf6021",
   "metadata": {},
   "outputs": [
    {
     "name": "stdout",
     "output_type": "stream",
     "text": [
      "Hello World  0\n",
      "inner loop  6\n",
      "inner loop  7\n",
      "inner loop  8\n",
      "outer loop\n",
      "Hello World  1\n",
      "inner loop  6\n",
      "inner loop  7\n",
      "inner loop  8\n",
      "outer loop\n",
      "Hello World  2\n",
      "inner loop  6\n",
      "inner loop  7\n",
      "inner loop  8\n",
      "outer loop\n",
      "Hello World  3\n",
      "inner loop  6\n",
      "inner loop  7\n",
      "inner loop  8\n",
      "outer loop\n",
      "Hello World  4\n",
      "inner loop  6\n",
      "inner loop  7\n",
      "inner loop  8\n",
      "outer loop\n"
     ]
    }
   ],
   "source": [
    "for var1 in range(5):\n",
    "    print(\"Hello World \",var1)\n",
    "    for var2 in range(6,9):\n",
    "        print(\"inner loop \" ,var2)\n",
    "    print(\"outer loop\")"
   ]
  },
  {
   "cell_type": "code",
   "execution_count": 11,
   "id": "6fed1685-5d03-490f-b9d4-798f7cf32e31",
   "metadata": {},
   "outputs": [
    {
     "name": "stdin",
     "output_type": "stream",
     "text": [
      "Enter a number for pattern 10\n"
     ]
    },
    {
     "name": "stdout",
     "output_type": "stream",
     "text": [
      "* \n",
      "* * \n",
      "* * * \n",
      "* * * * \n",
      "* * * * * \n",
      "* * * * * * \n",
      "* * * * * * * \n",
      "* * * * * * * * \n",
      "* * * * * * * * * \n"
     ]
    }
   ],
   "source": [
    "number = int(input(\"Enter a number for pattern\"))\n",
    "for outer in range(1,number):\n",
    "    for inner in range(0,outer):\n",
    "        print(\"*\",end=\" \")\n",
    "    print()"
   ]
  },
  {
   "cell_type": "code",
   "execution_count": null,
   "id": "3940a39f-ef0a-430e-9c8a-5c7f77e73225",
   "metadata": {},
   "outputs": [],
   "source": []
  }
 ],
 "metadata": {
  "kernelspec": {
   "display_name": "Python 3 (ipykernel)",
   "language": "python",
   "name": "python3"
  },
  "language_info": {
   "codemirror_mode": {
    "name": "ipython",
    "version": 3
   },
   "file_extension": ".py",
   "mimetype": "text/x-python",
   "name": "python",
   "nbconvert_exporter": "python",
   "pygments_lexer": "ipython3",
   "version": "3.13.1"
  }
 },
 "nbformat": 4,
 "nbformat_minor": 5
}
