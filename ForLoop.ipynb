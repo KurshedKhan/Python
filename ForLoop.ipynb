{
 "cells": [
  {
   "cell_type": "markdown",
   "id": "76e3855e-f6ce-4cf6-b87e-f5d27e2716f1",
   "metadata": {},
   "source": [
    "# Python ForLoop\n",
    "    \n",
    "    Python frequently uses the Loop to iterate over iterable objects like lists, tuples, and strings.\n",
    "\n",
    "    for loops are used when a section of code needs to be repeated a certain number of times.\n",
    "\n",
    "    In Python, the for Statement runs the code block each time it traverses a series of elements. "
   ]
  },
  {
   "cell_type": "code",
   "execution_count": 5,
   "id": "60d75469-9aa7-46a3-a73c-2df4592422ba",
   "metadata": {},
   "outputs": [
    {
     "name": "stdout",
     "output_type": "stream",
     "text": [
      "The sum of squares is : 5727\n"
     ]
    }
   ],
   "source": [
    "# code to find the sum of squares of each element \n",
    "# of the list using for loop\n",
    "\n",
    "numbers = [3,4,53,53,3,5,4,5,3]\n",
    "\n",
    "sum_ = 0;\n",
    "for num  in numbers:\n",
    "    sum_ += num**2\n",
    "\n",
    "print(\"The sum of squares is :\",sum_)"
   ]
  },
  {
   "cell_type": "markdown",
   "id": "b9ff2d44-aa16-42bf-a5d8-69637ccf608c",
   "metadata": {},
   "source": [
    "### range() Function"
   ]
  },
  {
   "cell_type": "code",
   "execution_count": 7,
   "id": "ee5692b1-4296-410e-85f7-9f8786dc9d27",
   "metadata": {},
   "outputs": [
    {
     "name": "stdout",
     "output_type": "stream",
     "text": [
      "The sum of squares is : 5727\n"
     ]
    }
   ],
   "source": [
    "numbers = [3,4,53,53,3,5,4,5,3]\n",
    "\n",
    "sum_ = 0;\n",
    "for num  in range(len(numbers)):\n",
    "    sum_ += numbers[num]**2\n",
    "\n",
    "print(\"The sum of squares is :\",sum_)"
   ]
  },
  {
   "cell_type": "code",
   "execution_count": 8,
   "id": "1f5cf9d5-4f64-41d9-babd-ce5cd74f0c00",
   "metadata": {},
   "outputs": [
    {
     "data": {
      "text/plain": [
       "9"
      ]
     },
     "execution_count": 8,
     "metadata": {},
     "output_type": "execute_result"
    }
   ],
   "source": [
    "len(numbers)"
   ]
  },
  {
   "cell_type": "code",
   "execution_count": 9,
   "id": "42cebad9-2006-408b-aea3-e0e63fd56a94",
   "metadata": {},
   "outputs": [
    {
     "data": {
      "text/plain": [
       "range(0, 9)"
      ]
     },
     "execution_count": 9,
     "metadata": {},
     "output_type": "execute_result"
    }
   ],
   "source": [
    "range(len(numbers))"
   ]
  },
  {
   "cell_type": "code",
   "execution_count": 10,
   "id": "4de89897-e970-4474-8579-8a677875adf8",
   "metadata": {},
   "outputs": [
    {
     "data": {
      "text/plain": [
       "3"
      ]
     },
     "execution_count": 10,
     "metadata": {},
     "output_type": "execute_result"
    }
   ],
   "source": [
    "numbers[num]"
   ]
  },
  {
   "cell_type": "code",
   "execution_count": 11,
   "id": "47b05e5d-e31c-47c1-9b28-5121f23c6e01",
   "metadata": {},
   "outputs": [
    {
     "data": {
      "text/plain": [
       "3"
      ]
     },
     "execution_count": 11,
     "metadata": {},
     "output_type": "execute_result"
    }
   ],
   "source": [
    "numbers[num]"
   ]
  },
  {
   "cell_type": "code",
   "execution_count": 12,
   "id": "595e547e-ea4e-4133-bf2b-01e3b92975c2",
   "metadata": {},
   "outputs": [
    {
     "name": "stdout",
     "output_type": "stream",
     "text": [
      "New list  [3, 4, 5, 6, 7, 8, 5]\n",
      "New list  [3, 4, 5, 6, 7, 8, 5, 6]\n",
      "New list  [3, 4, 5, 6, 7, 8, 5, 6, 7]\n",
      "New list  [3, 4, 5, 6, 7, 8, 5, 6, 7, 8]\n",
      "New list  [3, 4, 5, 6, 7, 8, 5, 6, 7, 8, 9]\n",
      "New list  [3, 4, 5, 6, 7, 8, 5, 6, 7, 8, 9, 10]\n"
     ]
    }
   ],
   "source": [
    "mylist = [3,4,5,6,7,8];\n",
    "\n",
    "for list in range(len(mylist)):\n",
    "    mylist.append(mylist[list] + 2)\n",
    "    print(\"New list \",mylist)"
   ]
  },
  {
   "cell_type": "markdown",
   "id": "3ecabe2e-1e12-411c-b279-4e93fe437113",
   "metadata": {},
   "source": [
    "### Nested for loop"
   ]
  },
  {
   "cell_type": "code",
   "execution_count": 13,
   "id": "af7de696-d48f-4c5b-b2e1-8b426dff1d69",
   "metadata": {},
   "outputs": [
    {
     "data": {
      "text/plain": [
       "6"
      ]
     },
     "execution_count": 13,
     "metadata": {},
     "output_type": "execute_result"
    }
   ],
   "source": [
    "import random\n",
    "random.randint(0,11)"
   ]
  },
  {
   "cell_type": "code",
   "execution_count": 14,
   "id": "0edeaae6-5a27-4768-b2e5-1f14c7b5f232",
   "metadata": {},
   "outputs": [
    {
     "data": {
      "text/plain": [
       "5"
      ]
     },
     "execution_count": 14,
     "metadata": {},
     "output_type": "execute_result"
    }
   ],
   "source": [
    "random.randint(0,11)"
   ]
  },
  {
   "cell_type": "code",
   "execution_count": 15,
   "id": "609ccca1-828c-4eff-a510-31abfdc615ae",
   "metadata": {},
   "outputs": [],
   "source": [
    "import random\n",
    "\n",
    "numbers = []\n",
    "\n",
    "for val in range(0,11):\n",
    "    numbers.append(random.randint(0,11))"
   ]
  },
  {
   "cell_type": "code",
   "execution_count": 16,
   "id": "34484951-fa64-414d-9b96-5e750d11f81b",
   "metadata": {},
   "outputs": [
    {
     "data": {
      "text/plain": [
       "[11, 0, 1, 9, 3, 6, 1, 7, 8, 6, 9]"
      ]
     },
     "execution_count": 16,
     "metadata": {},
     "output_type": "execute_result"
    }
   ],
   "source": [
    "numbers"
   ]
  },
  {
   "cell_type": "code",
   "execution_count": 18,
   "id": "ddbfb022-ddc0-443c-b4a8-6a09a337d6dd",
   "metadata": {},
   "outputs": [
    {
     "name": "stdout",
     "output_type": "stream",
     "text": [
      "0 1 1 3 6 6 7 8 9 9 "
     ]
    }
   ],
   "source": [
    "for num in range(0,11):\n",
    "    for i in numbers:\n",
    "        if num == i:\n",
    "            print(num,end=\" \")"
   ]
  },
  {
   "cell_type": "code",
   "execution_count": null,
   "id": "e3eff701-563e-4e1d-97fa-7de1de817e39",
   "metadata": {},
   "outputs": [],
   "source": []
  }
 ],
 "metadata": {
  "kernelspec": {
   "display_name": "Python 3 (ipykernel)",
   "language": "python",
   "name": "python3"
  },
  "language_info": {
   "codemirror_mode": {
    "name": "ipython",
    "version": 3
   },
   "file_extension": ".py",
   "mimetype": "text/x-python",
   "name": "python",
   "nbconvert_exporter": "python",
   "pygments_lexer": "ipython3",
   "version": "3.12.0"
  }
 },
 "nbformat": 4,
 "nbformat_minor": 5
}
