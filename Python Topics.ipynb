{
 "cells": [
  {
   "cell_type": "markdown",
   "id": "fe50d484-b41d-4752-9d23-9d2088ac595a",
   "metadata": {},
   "source": [
    "# `Python syllabus : `"
   ]
  },
  {
   "cell_type": "markdown",
   "id": "6fc94c92-179b-4fdf-8fe8-f1c0bcf4d20a",
   "metadata": {},
   "source": [
    "1. Basic fundamenatals\n",
    "2. Introduction of Python\n",
    "3. Keywords\n",
    "4. Identifiers\n",
    "5. Variables\n",
    "6. comments\n",
    "7. data types\n",
    "8. "
   ]
  },
  {
   "cell_type": "code",
   "execution_count": null,
   "id": "241fa844-b33b-431d-b387-b17accf37780",
   "metadata": {},
   "outputs": [],
   "source": []
  }
 ],
 "metadata": {
  "kernelspec": {
   "display_name": "Python 3 (ipykernel)",
   "language": "python",
   "name": "python3"
  },
  "language_info": {
   "codemirror_mode": {
    "name": "ipython",
    "version": 3
   },
   "file_extension": ".py",
   "mimetype": "text/x-python",
   "name": "python",
   "nbconvert_exporter": "python",
   "pygments_lexer": "ipython3",
   "version": "3.13.0"
  }
 },
 "nbformat": 4,
 "nbformat_minor": 5
}
