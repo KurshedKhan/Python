{
 "cells": [
  {
   "cell_type": "markdown",
   "id": "f6934a18-196f-4ca7-8146-59e1b4d4b10c",
   "metadata": {},
   "source": [
    "# Python Keywords\n",
    "**Python keywords are unique words reserved with defined meanings and functions that we can only apply for those functions.**\n",
    "1. You'll never need to import any keyword into your program because they're permanently present.\n",
    "2. Python's built-in methods and classes are not the same as the keywords.\n",
    "3. Built-in methods and classes are constantly present; "
   ]
  },
  {
   "cell_type": "code",
   "execution_count": 1,
   "id": "f064710c-7f21-4a94-9ac1-ff7deeef04c0",
   "metadata": {},
   "outputs": [],
   "source": [
    "#False\tawait\telse\timport\tpass\n",
    "#None\tbreak\texcept\tin\traise\n",
    "#True\tclass\tfinally\tis\treturn\n",
    "#and\tcontinue\tfor\tlambda\ttry\n",
    "#as\tdef\tfrom\tnonlocal\twhile\n",
    "#assert\tdel\tglobal\tnot\twith\n",
    "#async\telif\tif\tor\tyield"
   ]
  },
  {
   "cell_type": "code",
   "execution_count": 2,
   "id": "bdd0a0fd-5d4e-4cec-bd5e-b88031cc57b7",
   "metadata": {},
   "outputs": [],
   "source": [
    "import keyword"
   ]
  },
  {
   "cell_type": "code",
   "execution_count": 3,
   "id": "1e4b0c79-665f-46a3-9d1b-22b0bc9548fa",
   "metadata": {},
   "outputs": [
    {
     "data": {
      "text/plain": [
       "['False',\n",
       " 'None',\n",
       " 'True',\n",
       " 'and',\n",
       " 'as',\n",
       " 'assert',\n",
       " 'async',\n",
       " 'await',\n",
       " 'break',\n",
       " 'class',\n",
       " 'continue',\n",
       " 'def',\n",
       " 'del',\n",
       " 'elif',\n",
       " 'else',\n",
       " 'except',\n",
       " 'finally',\n",
       " 'for',\n",
       " 'from',\n",
       " 'global',\n",
       " 'if',\n",
       " 'import',\n",
       " 'in',\n",
       " 'is',\n",
       " 'lambda',\n",
       " 'nonlocal',\n",
       " 'not',\n",
       " 'or',\n",
       " 'pass',\n",
       " 'raise',\n",
       " 'return',\n",
       " 'try',\n",
       " 'while',\n",
       " 'with',\n",
       " 'yield']"
      ]
     },
     "execution_count": 3,
     "metadata": {},
     "output_type": "execute_result"
    }
   ],
   "source": [
    "keyword.kwlist"
   ]
  },
  {
   "cell_type": "code",
   "execution_count": null,
   "id": "c9704ea1-5202-46d1-8cb6-9b3da3677b7f",
   "metadata": {},
   "outputs": [],
   "source": []
  }
 ],
 "metadata": {
  "kernelspec": {
   "display_name": "Python 3 (ipykernel)",
   "language": "python",
   "name": "python3"
  },
  "language_info": {
   "codemirror_mode": {
    "name": "ipython",
    "version": 3
   },
   "file_extension": ".py",
   "mimetype": "text/x-python",
   "name": "python",
   "nbconvert_exporter": "python",
   "pygments_lexer": "ipython3",
   "version": "3.12.1"
  }
 },
 "nbformat": 4,
 "nbformat_minor": 5
}
